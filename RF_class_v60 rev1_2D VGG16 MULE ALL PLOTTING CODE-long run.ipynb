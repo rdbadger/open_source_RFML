{
 "cells": [
  {
   "cell_type": "markdown",
   "metadata": {
    "colab_type": "text",
    "id": "cn5_7mqggh2H"
   },
   "source": [
    "## sigMF RF classification; 12 classes"
   ]
  },
  {
   "cell_type": "code",
   "execution_count": 1,
   "metadata": {
    "colab": {
     "base_uri": "https://localhost:8080/",
     "height": 68
    },
    "colab_type": "code",
    "executionInfo": {
     "elapsed": 2251,
     "status": "ok",
     "timestamp": 1548951950015,
     "user": {
      "displayName": "Robert Badger",
      "photoUrl": "",
      "userId": "11966704463856227449"
     },
     "user_tz": 300
    },
    "id": "r80FflgHhCiH",
    "outputId": "143411b2-cc11-47a1-c334-a76291219798",
    "scrolled": false
   },
   "outputs": [
    {
     "name": "stdout",
     "output_type": "stream",
     "text": [
      "Torch version = 1.6.0 CUDA version = 10.2\n",
      "CUDA Device: cuda:0\n",
      "Is cuda available? = True\n"
     ]
    }
   ],
   "source": [
    "import os\n",
    "import torch\n",
    "import torch.nn as nn\n",
    "import torch.optim as optim\n",
    "import torch.nn.functional as F\n",
    "import torch.utils.data\n",
    "import torch.utils.data as data\n",
    "from torch.autograd import Variable\n",
    "import numpy as np\n",
    "import matplotlib.pyplot as plt\n",
    "from scipy import signal\n",
    "import glob\n",
    "import json\n",
    "from os import walk\n",
    "import pickle\n",
    "import json\n",
    "import pathlib\n",
    "import random\n",
    "from timeit import default_timer as timer\n",
    "import time\n",
    "from tqdm import tqdm\n",
    "from torch.utils.data import Dataset, DataLoader\n",
    "global GPU, fft, Fs, center_freq, fft_val, Fs_test, loss, batches, eps, var_noise, mean_noise, top\n",
    "global c1_coeff, c2_coeff, a, r1_c1, r2_c1, r1_c2, r2_c2, compare\n",
    "a = 1\n",
    "r1_c2 = 1\n",
    "r2_c2 = 10e1\n",
    "top = .99\n",
    "var_noise = 8.78e-09\n",
    "mean_noise = 1 # not used\n",
    "eps = 1e-15\n",
    "Fs = 1000000\n",
    "fft = 1024\n",
    "center_freq_file = 433.65e6 # when SDR doing 25MSPS with center at 428MHz\n",
    "center_freq_live = 428.00e6 # when SDR doing 25MSPS with center at 428MHz\n",
    "batches = 64\n",
    "plt.style.use('default')\n",
    "GPU = 0\n",
    "device = torch.device('cuda:0')\n",
    "print('Torch version =', torch.__version__, 'CUDA version =', torch.version.cuda)\n",
    "print('CUDA Device:', device)\n",
    "print('Is cuda available? =',torch.cuda.is_available())"
   ]
  },
  {
   "cell_type": "code",
   "execution_count": 2,
   "metadata": {},
   "outputs": [
    {
     "data": {
      "text/plain": [
       "100.0"
      ]
     },
     "execution_count": 2,
     "metadata": {},
     "output_type": "execute_result"
    }
   ],
   "source": [
    "r2_c2"
   ]
  },
  {
   "cell_type": "code",
   "execution_count": 3,
   "metadata": {},
   "outputs": [],
   "source": [
    "!. /home/david/prefix-3.8/setup_env.sh"
   ]
  },
  {
   "cell_type": "markdown",
   "metadata": {
    "colab_type": "text",
    "id": "2t_9_D3l0Px9"
   },
   "source": [
    "#### Machine paths"
   ]
  },
  {
   "cell_type": "code",
   "execution_count": 4,
   "metadata": {
    "scrolled": false
   },
   "outputs": [
    {
     "name": "stdout",
     "output_type": "stream",
     "text": [
      "/home/david/sigMF_ML/RF/RF_class/data/\n"
     ]
    }
   ],
   "source": [
    "path_ram = \"/home/david/sigMF_ML/RF/ramdisk/\"\n",
    "path_usrp = \"/home/david/prefix-3.8/\"\n",
    "path = \"/home/david/sigMF_ML/RF/RF_class/data/\" # ACE\n",
    "path_val1 = \"/home/david/sigMF_ML/RF/RF_class/data_val1/\" # fft_center    - class 9\n",
    "path_val2 = \"/home/david/sigMF_ML/RF/RF_class/data_val2/\" # light switch - class 10\n",
    "path_val3 = \"/home/david/sigMF_ML/RF/RF_class/data_val3/\" # clickndig     - class 5\n",
    "path_val4 = \"/home/david/sigMF_ML/RF/RF_class/data_val4/\" # GD55          - class 1\n",
    "path_val5 = \"/home/david/sigMF_ML/RF/RF_class/data_val5/\" # lora125       - class 0\n",
    "path_val6 = \"/home/david/sigMF_ML/RF/RF_class/data_val6/\" # lora250       - class 7\n",
    "path_val7 = \"/home/david/sigMF_ML/RF/RF_class/data_val7/\" # NFM           - class 2\n",
    "path_val8 = \"/home/david/sigMF_ML/RF/RF_class/data_val8/\" # sado          - class 6\n",
    "path_val9 = \"/home/david/sigMF_ML/RF/RF_class/data_val9/\" # TYT           - class 3\n",
    "path_val10 = \"/home/david/sigMF_ML/RF/RF_class/data_val10/\" # vodeson     - class 4\n",
    "path_val11 = \"/home/david/sigMF_ML/RF/RF_class/data_val11/\" # white noise - class 8\n",
    "path_val12 = \"/home/david/sigMF_ML/RF/RF_class/data_val12/\" # ysf        - class 11\n",
    "path_fig = \"/home/david/sigMF_ML/RF/RF_class/\" # ACE\n",
    "path_val = \"/home/david/sigMF_ML/RF/RF_class/testing_data/\" # ACE\n",
    "path_save = \"/home/david/sigMF_ML/RF/RF_class/saved/\" # ACE\n",
    "path_test = \"/home/david/sigMF_ML/RF/RF_class/testing_data/\" # ACE\n",
    "path_test_1msps = \"/home/david/sigMF_ML/RF/RF_class/testing_data_1msps/\" # ACE\n",
    "path_test_5msps = \"/home/david/sigMF_ML/RF/RF_class/testing_data_5msps/\" # ACE\n",
    "path_test_10msps = \"/home/david/sigMF_ML/RF/RF_class/testing_data_10msps/\" # ACE\n",
    "path_test_25msps = \"/home/david/sigMF_ML/RF/RF_class/testing_data_25msps/\" # ACE\n",
    "print(path)"
   ]
  },
  {
   "cell_type": "markdown",
   "metadata": {},
   "source": [
    "## Functions "
   ]
  },
  {
   "cell_type": "code",
   "execution_count": 5,
   "metadata": {},
   "outputs": [],
   "source": [
    "# START OF FUNCTIONS ****************************************************\n",
    "def meta_encoder(meta_list, num_classes): \n",
    "    a = np.asarray(meta_list, dtype=int)\n",
    "#    print('a = ', a)\n",
    "    return a \n",
    "\n",
    "def save_model(epoch,loss):\n",
    "    rf_model = 'VGG16_20210309_2D_1e5'\n",
    "    PATH = path_save+rf_model\n",
    "    torch.save({\n",
    "            'epoch': epoch,\n",
    "            'model_state_dict': model.state_dict(),\n",
    "            'optimizer_state_dict': optimizer.state_dict(),\n",
    "            'loss': loss,}, PATH)   \n",
    "    \n",
    "def load_model():\n",
    "    rf_model = 'VGG16_v58_20210211_2D_10dB_noise_autosave'\n",
    "    PATH = path_save+rf_model\n",
    "    device = torch.device(\"cuda:1\")\n",
    "    model = resnet50(2, 12)\n",
    "    model.load_state_dict(torch.load(PATH))\n",
    "    model.to(device)\n",
    "    model.eval()     \n",
    "\n",
    "def gpu_test_file(db):\n",
    "    if (msps == 1):\n",
    "        w1 = fft\n",
    "    elif (msps == 5):\n",
    "        w1 = fft*1\n",
    "    elif (msps == 10):\n",
    "        w1 = fft*1        \n",
    "    elif (msps == 25):\n",
    "        w1 = fft*1 \n",
    "    print('gpu_test file function')    \n",
    "    I = db[0::2]\n",
    "    Q = db[1::2]\n",
    "    w = fft*msps\n",
    "    print('Sample Rate = ',w,'MSPS')\n",
    "    den = 2\n",
    "    print('window length = ', w1)\n",
    "    win = torch.hann_window(w1, periodic=True, dtype=None, layout=torch.strided, requires_grad=False).cuda(GPU)\n",
    "    I_stft = torch.stft(torch.tensor(I).cuda(GPU), n_fft=fft, hop_length=fft//den, win_length=w1, window=win, center=True, normalized=True, onesided=True)\n",
    "    Q_stft = torch.stft(torch.tensor(Q).cuda(GPU), n_fft=fft, hop_length=fft//den, win_length=w1, window=win, center=True, normalized=True, onesided=True)\n",
    "    I_mag = torch.abs(torch.sqrt(I_stft[:,:,0]**2+I_stft[:,:,1]**2))\n",
    "    Q_mag = torch.abs(torch.sqrt(Q_stft[:,:,0]**2+Q_stft[:,:,1]**2))     \n",
    "    I_mag = torch.unsqueeze(I_mag, dim=2)\n",
    "    Q_mag = torch.unsqueeze(Q_mag, dim=2)   \n",
    "#     print('I shape =', I_stft.shape, 'Q shape = ', Q_stft.shape )\n",
    "#     print('I_mag shape =', I_mag.shape, 'Q_mag shape = ', Q_mag.shape )\n",
    "    Z_stft = torch.cat((I_mag,Q_mag),2)\n",
    "#     Z_stft = torch.cat((Z_stft[fft//2:,:,:],Z_stft[:fft//2,:,:])) # NOT SURE I NEED TO DO THIS...\n",
    "#     print('gpu_test file Z shape =', Z_stft.shape)\n",
    "    Z_stft = Z_stft[fft//2:,:,:] # throw bottom 1/2 away\n",
    "    print('FINAL gpu_test FILE IQ shape =', Z_stft.shape)\n",
    "    torch.cuda.empty_cache()\n",
    "    return Z_stft # Returning 2D\n",
    "\n",
    "def gpu_test_live(db,msps):\n",
    "    if (msps == 1):\n",
    "        w1 = fft\n",
    "    elif (msps == 5):\n",
    "        w1 = fft*1\n",
    "    elif (msps == 10):\n",
    "        w1 = fft*1        \n",
    "    elif (msps == 25):\n",
    "        w1 = fft*1     \n",
    "    print('gpu_test live function')    \n",
    "#     I = db[0:10000000:2]\n",
    "#     Q = db[1:10000000:2]    \n",
    "    I = db[0::2]\n",
    "    Q = db[1::2]\n",
    "    print('I length = ', len(I))\n",
    "    print('Q length = ', len(Q))\n",
    "    w = fft*msps\n",
    "    print(w,'MSPS')\n",
    "    den = 2\n",
    "    win = torch.hann_window(w1, periodic=True, dtype=None, layout=torch.strided, requires_grad=False).cuda(GPU)\n",
    "    I_stft = torch.stft(torch.tensor(I).cuda(GPU), n_fft=w, hop_length=w//den, win_length=w1, window=win, center=True, normalized=True, onesided=True)\n",
    "    Q_stft = torch.stft(torch.tensor(Q).cuda(GPU), n_fft=w, hop_length=w//den, win_length=w1, window=win, center=True, normalized=True, onesided=True)\n",
    "    I_mag = torch.abs(torch.sqrt(I_stft[:,:,0]**2+I_stft[:,:,1]**2))\n",
    "    Q_mag = torch.abs(torch.sqrt(Q_stft[:,:,0]**2+Q_stft[:,:,1]**2))      \n",
    "    I_mag = torch.unsqueeze(I_mag, dim=2)\n",
    "    Q_mag = torch.unsqueeze(Q_mag, dim=2)  \n",
    "    Z_stft = torch.cat((I_mag,Q_mag),2)\n",
    "    print('gpu_test live IQ shape =', Z_stft.shape)\n",
    "#     Z_stft = torch.cat((Z_stft[w//2:,:,:],Z_stft[:w//2,:,:])) # NOT SURE I NEED TO DO THIS...\n",
    "    Z_stft = Z_stft[:w//2,:,:]# throw bottom 1/2 away\n",
    "    print('FINAL gpu_test LIVE IQ shape =', Z_stft.shape)\n",
    "    return Z_stft # Returning 2D and plot\n",
    "   \n",
    "def iq_read(data_files): # USING GPU to perform STFT\n",
    "    print('iq_read function**********')\n",
    "    data_IQ_list = []\n",
    "    data_IQ_temp = []\n",
    "    for file in data_files:\n",
    "        db = np.fromfile(file, dtype=\"float32\")\n",
    "#         stft = gpu(db).detach().cpu().numpy()\n",
    "        print('iq_read function')\n",
    "        stft, stft_plot = gpu_test_file(db)\n",
    "        stft = stft.detach().cpu().numpy()\n",
    "        stft_plot = stft_plot.detach().cpu().numpy()\n",
    "        stft_plot = 10*np.log10(np.abs(stft_plot+eps))\n",
    "        plt.imshow(stft_plot)\n",
    "        plt.pcolormesh(stft_plot)\n",
    "#         plt.imshow(stft, aspect='auto', origin='lower')\n",
    "        plt.show()\n",
    "        data_IQ_temp.append(stft)\n",
    "    data_IQ_list = np.array(data_IQ_temp)\n",
    "    return data_IQ_list\n",
    "\n",
    "def iq_read_test_file(data_files): # USING GPU to perform STFT\n",
    "    data_IQ_list = []\n",
    "    data_IQ_temp = []\n",
    "    print('iq_read_test file')\n",
    "    for file in data_files:\n",
    "        db = np.fromfile(file, dtype=\"float32\")\n",
    "        stft = gpu_test_file(db)\n",
    "        stft_plot = 20*np.log10(np.abs(stft[:,:,0].detach().cpu().numpy()+eps))\n",
    "        print('imshow method')\n",
    "        plt.imshow(stft_plot, vmin=-70, vmax=5, aspect='auto', origin='lower')\n",
    "        plt.show()\n",
    "        data_IQ_temp.append(stft.detach().cpu().numpy())\n",
    "    data_IQ_list = np.array(data_IQ_temp)\n",
    "    return data_IQ_list\n",
    "\n",
    "\n",
    "def iq_read_test_live(data_files,msps): # USING GPU to perform STFT\n",
    "#     iq_cpu_plot(data_files) #checking with cpu complex plotting\n",
    "    data_IQ_list = []\n",
    "    data_IQ_temp = []\n",
    "    print('iq_read_test live')\n",
    "    for file in data_files:\n",
    "        db = np.fromfile(file, dtype=\"float32\")\n",
    "        stft = gpu_test_live(db,msps)\n",
    "        # *************************************************************************\n",
    "#         stft_plot = 20*np.log10(np.abs(stft[:,:,0].detach().cpu().numpy()+eps))\n",
    "#         print('iq_read_test live imshow method')\n",
    "#         plt.imshow(stft_plot, vmin=-70, vmax=5, aspect='auto', origin='lower')\n",
    "#         plt.show()\n",
    "        # *************************************************************************\n",
    "        data_IQ_temp.append(stft.detach().cpu().numpy())\n",
    "    data_IQ_list = np.array(data_IQ_temp)\n",
    "    return data_IQ_list\n",
    "\n",
    "\n",
    "def read_meta(meta_files):\n",
    "    meta_list = []\n",
    "    for meta in meta_files:\n",
    "        all_meta_data = json.load(open(meta))\n",
    "        meta_list.append(all_meta_data['global'][\"core:class\"])\n",
    "    meta_list = list(map(int, meta_list))\n",
    "    return meta_list\n",
    "\n",
    "def read_num_val(x):\n",
    "    x = len(meta_list_val)\n",
    "    return x\n",
    "\n",
    "#**************************** Print historgram subplots ******************************\n",
    "def histo_plots(inputs):\n",
    "    fig=plt.figure(figsize=(8,8))\n",
    "    ncols = 2\n",
    "    nrows = 2\n",
    "    print('make torch inputs')\n",
    "    print('inputs shape for histogram1 = ', inputs.shape)\n",
    "    inputs = 10*np.log10(np.abs(inputs.cpu()+eps))\n",
    "    for x in range(4):\n",
    "#         print('x = ', x, 'inputs shape for histogram2 = ', inputs[:,:,x].shape)\n",
    "        flat_inputs = torch.flatten(inputs[:,:,x], start_dim=0, end_dim=-1).numpy()\n",
    "#         print('type = ', type(flat_inputs))\n",
    "#         print('x = ', x, 'flat_input max = ', np.amax(flat_inputs))\n",
    "#         print('inputs are: ', flat_inputs.shape)\n",
    "        fig.add_subplot(nrows, ncols, x+1)\n",
    "        plt.hist(flat_inputs, bins=5000)\n",
    "        plt.gca().set(title='Frequency Histogram', ylabel='Frequency');\n",
    "        plt.xlim(-100, 10)\n",
    "#         plt.ylim(0, 40000)\n",
    "    return flat_inputs\n",
    "#*************************************************************************************    \n",
    "#**************************** Print historgram subplots ******************************\n",
    "def histo_stats(inputs):\n",
    "#     print('make torch inputs')\n",
    "#     print('inputs shape for histogram1 = ', inputs.shape)\n",
    "    mean = np.zeros(4)\n",
    "    std = np.zeros(4)\n",
    "    for x in range(4):\n",
    "#         print('x = ', x, 'inputs shape for histogram2 = ', inputs[:,:,x].shape)\n",
    "        flat_inputs = torch.flatten(inputs[:,:,x], start_dim=0, end_dim=-1).numpy()\n",
    "#         print('inputs are: ', flat_inputs.shape)\n",
    "        mean[x] = flat_inputs.mean()\n",
    "        std[x] = flat_inputs.std()\n",
    "#         print('mean = ', mean, 'std = ', std)\n",
    "    return mean, std\n",
    "#**************************** Print historgram freq stats ******************************\n",
    "def histo_stats_freq_file(inputs,msps):\n",
    "    mean = inputs.mean()\n",
    "    std = inputs.std()\n",
    "    print(\"mean Freq = {0:9,.2f}\".format(mean))\n",
    "    print(\"std Freq = {0:9,.2f}\".format(std))\n",
    "    print('length of inputs = ', len(inputs))\n",
    "#     plt.hist(inputs, 30, facecolor='blue', align='mid')\n",
    "    if (msps==25):\n",
    "        plt.hist(inputs, 30, range=[428.0, 440.0], facecolor='blue', align='mid')\n",
    "    elif (msps==1):\n",
    "        plt.hist(inputs, 30, range=[433.65, 434.15], facecolor='blue', align='mid')\n",
    "    elif (msps==5):\n",
    "        plt.hist(inputs, 30, range=[433.00, 435.50], facecolor='blue', align='mid')         \n",
    "    elif (msps==10):\n",
    "        plt.hist(inputs, 30, range=[433.00, 438.00], facecolor='blue', align='mid')        \n",
    "    else:\n",
    "        print('WRONG SAMPLE RATE CHOSEN')\n",
    "    plt.gca().set(title='Frequency Histogram', ylabel='Frequency'); \n",
    "    plt.show()\n",
    "def histo_stats_freq_live(inputs,msps):\n",
    "    mean = inputs.mean()\n",
    "    std = inputs.std()\n",
    "    print(\"mean Freq = {0:9,.2f}\".format(mean))\n",
    "    print(\"std Freq = {0:9,.2f}\".format(std))\n",
    "    print('length of inputs = ', len(inputs))\n",
    "#     plt.hist(inputs, 30, facecolor='blue', align='mid')\n",
    "    if (msps==25):\n",
    "        plt.hist(inputs, 30, range=[428.0, 440.0], facecolor='blue', align='mid')\n",
    "    elif (msps==1):\n",
    "        plt.hist(inputs, 30, range=[433.65, 434.15], facecolor='blue', align='mid')\n",
    "    elif (msps==5):\n",
    "        plt.hist(inputs, 30, range=[433.00, 435.50], facecolor='blue', align='mid')          \n",
    "    elif (msps==10):\n",
    "        plt.hist(inputs, 30, range=[433.00, 438.00], facecolor='blue', align='mid')         \n",
    "    else:\n",
    "        print('WRONG SAMPLE RATE CHOSEN')\n",
    "    plt.gca().set(title='Frequency Histogram', ylabel='Frequency'); \n",
    "    plt.show()\n",
    "# END OF FUNCTIONS ******************************************************"
   ]
  },
  {
   "cell_type": "code",
   "execution_count": 6,
   "metadata": {},
   "outputs": [],
   "source": [
    "from functools import partial\n",
    "from dataclasses import dataclass\n",
    "from collections import OrderedDict"
   ]
  },
  {
   "cell_type": "code",
   "execution_count": 7,
   "metadata": {},
   "outputs": [
    {
     "name": "stdout",
     "output_type": "stream",
     "text": [
      "VGG_net(\n",
      "  (conv_layers): Sequential(\n",
      "    (0): Conv2d(2, 64, kernel_size=(3, 3), stride=(1, 1), padding=(1, 1))\n",
      "    (1): BatchNorm2d(64, eps=1e-05, momentum=0.1, affine=True, track_running_stats=True)\n",
      "    (2): ReLU()\n",
      "    (3): Conv2d(64, 64, kernel_size=(3, 3), stride=(1, 1), padding=(1, 1))\n",
      "    (4): BatchNorm2d(64, eps=1e-05, momentum=0.1, affine=True, track_running_stats=True)\n",
      "    (5): ReLU()\n",
      "    (6): MaxPool2d(kernel_size=(2, 2), stride=(2, 2), padding=0, dilation=1, ceil_mode=False)\n",
      "    (7): Conv2d(64, 128, kernel_size=(3, 3), stride=(1, 1), padding=(1, 1))\n",
      "    (8): BatchNorm2d(128, eps=1e-05, momentum=0.1, affine=True, track_running_stats=True)\n",
      "    (9): ReLU()\n",
      "    (10): Conv2d(128, 128, kernel_size=(3, 3), stride=(1, 1), padding=(1, 1))\n",
      "    (11): BatchNorm2d(128, eps=1e-05, momentum=0.1, affine=True, track_running_stats=True)\n",
      "    (12): ReLU()\n",
      "    (13): MaxPool2d(kernel_size=(2, 2), stride=(2, 2), padding=0, dilation=1, ceil_mode=False)\n",
      "    (14): Conv2d(128, 256, kernel_size=(3, 3), stride=(1, 1), padding=(1, 1))\n",
      "    (15): BatchNorm2d(256, eps=1e-05, momentum=0.1, affine=True, track_running_stats=True)\n",
      "    (16): ReLU()\n",
      "    (17): Conv2d(256, 256, kernel_size=(3, 3), stride=(1, 1), padding=(1, 1))\n",
      "    (18): BatchNorm2d(256, eps=1e-05, momentum=0.1, affine=True, track_running_stats=True)\n",
      "    (19): ReLU()\n",
      "    (20): Conv2d(256, 256, kernel_size=(3, 3), stride=(1, 1), padding=(1, 1))\n",
      "    (21): BatchNorm2d(256, eps=1e-05, momentum=0.1, affine=True, track_running_stats=True)\n",
      "    (22): ReLU()\n",
      "    (23): MaxPool2d(kernel_size=(2, 2), stride=(2, 2), padding=0, dilation=1, ceil_mode=False)\n",
      "    (24): Conv2d(256, 512, kernel_size=(3, 3), stride=(1, 1), padding=(1, 1))\n",
      "    (25): BatchNorm2d(512, eps=1e-05, momentum=0.1, affine=True, track_running_stats=True)\n",
      "    (26): ReLU()\n",
      "    (27): Conv2d(512, 512, kernel_size=(3, 3), stride=(1, 1), padding=(1, 1))\n",
      "    (28): BatchNorm2d(512, eps=1e-05, momentum=0.1, affine=True, track_running_stats=True)\n",
      "    (29): ReLU()\n",
      "    (30): Conv2d(512, 512, kernel_size=(3, 3), stride=(1, 1), padding=(1, 1))\n",
      "    (31): BatchNorm2d(512, eps=1e-05, momentum=0.1, affine=True, track_running_stats=True)\n",
      "    (32): ReLU()\n",
      "    (33): MaxPool2d(kernel_size=(2, 2), stride=(2, 2), padding=0, dilation=1, ceil_mode=False)\n",
      "    (34): Conv2d(512, 512, kernel_size=(3, 3), stride=(1, 1), padding=(1, 1))\n",
      "    (35): BatchNorm2d(512, eps=1e-05, momentum=0.1, affine=True, track_running_stats=True)\n",
      "    (36): ReLU()\n",
      "    (37): Conv2d(512, 512, kernel_size=(3, 3), stride=(1, 1), padding=(1, 1))\n",
      "    (38): BatchNorm2d(512, eps=1e-05, momentum=0.1, affine=True, track_running_stats=True)\n",
      "    (39): ReLU()\n",
      "    (40): Conv2d(512, 512, kernel_size=(3, 3), stride=(1, 1), padding=(1, 1))\n",
      "    (41): BatchNorm2d(512, eps=1e-05, momentum=0.1, affine=True, track_running_stats=True)\n",
      "    (42): ReLU()\n",
      "    (43): MaxPool2d(kernel_size=(2, 2), stride=(2, 2), padding=0, dilation=1, ceil_mode=False)\n",
      "  )\n",
      "  (fcs): Sequential(\n",
      "    (0): Linear(in_features=25088, out_features=4096, bias=True)\n",
      "    (1): ReLU()\n",
      "    (2): Dropout(p=0.5, inplace=False)\n",
      "    (3): Linear(in_features=4096, out_features=4096, bias=True)\n",
      "    (4): ReLU()\n",
      "    (5): Dropout(p=0.5, inplace=False)\n",
      "    (6): Linear(in_features=4096, out_features=12, bias=True)\n",
      "  )\n",
      ")\n"
     ]
    }
   ],
   "source": [
    "VGG_types = {\n",
    "    'VGG11': [64, 'M', 128, 'M', 256, 256, 'M', 512, 512, 'M', 512, 512, 'M'],\n",
    "    'VGG13': [64, 64, 'M', 128, 128, 'M', 256, 256, 'M', 512, 512, 'M', 512, 512, 'M'],\n",
    "    'VGG16': [64, 64, 'M', 128, 128, 'M', 256, 256, 256, 'M', 512, 512, 512, 'M', 512, 512, 512, 'M'],\n",
    "    'VGG19': [64, 64, 'M', 128, 128, 'M', 256, 256, 256, 256, 'M', 512, 512, 512, 512, 'M', 512, 512, 512, 512, 'M'],\n",
    "}\n",
    "\n",
    "\n",
    "class VGG_net(nn.Module):\n",
    "    def __init__(self, in_channels=2, num_classes=12):\n",
    "        super(VGG_net, self).__init__()\n",
    "        self.in_channels = in_channels\n",
    "        self.conv_layers = self.create_conv_layers(VGG_types['VGG16'])\n",
    "        \n",
    "        self.fcs = nn.Sequential(\n",
    "            nn.Linear(512*7*7, 4096),\n",
    "            nn.ReLU(),\n",
    "            nn.Dropout(p=0.5),\n",
    "            nn.Linear(4096, 4096),\n",
    "            nn.ReLU(),\n",
    "            nn.Dropout(p=0.5),\n",
    "            nn.Linear(4096, num_classes)\n",
    "            )\n",
    "        \n",
    "    def forward(self, x):\n",
    "        x = self.conv_layers(x)\n",
    "        x = x.reshape(x.shape[0], -1)\n",
    "        x = self.fcs(x)\n",
    "        return x\n",
    "\n",
    "    def create_conv_layers(self, architecture):\n",
    "        layers = []\n",
    "        in_channels = self.in_channels\n",
    "        \n",
    "        for x in architecture:\n",
    "            if type(x) == int:\n",
    "                out_channels = x\n",
    "                \n",
    "                layers += [nn.Conv2d(in_channels=in_channels,out_channels=out_channels,\n",
    "                                     kernel_size=(3,3), stride=(1,1), padding=(1,1)),\n",
    "                           nn.BatchNorm2d(x),\n",
    "                           nn.ReLU()]\n",
    "                in_channels = x\n",
    "            elif x == 'M':\n",
    "                layers += [nn.MaxPool2d(kernel_size=(2,2), stride=(2,2))]\n",
    "                \n",
    "        return nn.Sequential(*layers)\n",
    "\n",
    "if __name__ == '__main__':\n",
    "    device = 'cuda' if torch.cuda.is_available() else 'cpu'\n",
    "    model = VGG_net(in_channels=2,num_classes=12).to(device)\n",
    "    print(model)\n",
    "    ## N = 3 (Mini batch size)\n",
    "    #x = torch.randn(3, 3, 224, 224).to(device)\n",
    "    #print(model(x).shape)"
   ]
  },
  {
   "cell_type": "code",
   "execution_count": 8,
   "metadata": {
    "scrolled": true
   },
   "outputs": [],
   "source": [
    "from torchsummary import summary\n",
    "\n",
    "# model = VGG_net()\n",
    "# summary(model.cuda(), (2, 224, 224))"
   ]
  },
  {
   "cell_type": "code",
   "execution_count": 9,
   "metadata": {},
   "outputs": [],
   "source": [
    "from torch.utils.data import Dataset"
   ]
  },
  {
   "cell_type": "code",
   "execution_count": 10,
   "metadata": {},
   "outputs": [],
   "source": [
    "class RFDataset(Dataset):\n",
    "    def __init__(self, root_path):\n",
    "        print(root_path)\n",
    "        self.root_path = root_path\n",
    "        self.list_of_all_pickles = sorted(pathlib.Path(root_path).rglob('*/chopped-data-224-224/*.pickle'))\n",
    "        self.get_class = dict()\n",
    "        class_folders = list(pathlib.Path(root_path).glob('*/'))\n",
    "        for class_folder in class_folders:\n",
    "            class_index = -1\n",
    "            metadata_path = list(class_folder.rglob('*.sigmf-meta'))[0]\n",
    "            with open(metadata_path) as fp:\n",
    "                metadata = json.load(fp)\n",
    "                class_index = int(metadata[\"global\"][\"core:class\"])\n",
    "            self.get_class[str(class_folder.stem)] = class_index\n",
    "\n",
    "\n",
    "    def __len__(self):\n",
    "        return len(self.list_of_all_pickles)\n",
    "\n",
    "    def __getitem__(self, idx):\n",
    "        filepath = self.list_of_all_pickles[idx]\n",
    "        with open(filepath, 'rb') as fp:\n",
    "            tensor = pickle.load(fp)['bounded']\n",
    "        foldername = filepath.parts[7]\n",
    "        label = self.get_class[foldername]\n",
    "\n",
    "        #return (tensor, label) # this is a tuple\n",
    "        return {'data': tensor, 'label': label}"
   ]
  },
  {
   "cell_type": "markdown",
   "metadata": {},
   "source": [
    "#### Evaluation dataset loader"
   ]
  },
  {
   "cell_type": "code",
   "execution_count": 11,
   "metadata": {},
   "outputs": [
    {
     "name": "stdout",
     "output_type": "stream",
     "text": [
      "/home/david/sigMF_ML/RF/RF_class/data_val1/\n",
      "/home/david/sigMF_ML/RF/RF_class/data_val2/\n",
      "/home/david/sigMF_ML/RF/RF_class/data_val3/\n",
      "/home/david/sigMF_ML/RF/RF_class/data_val4/\n",
      "/home/david/sigMF_ML/RF/RF_class/data_val5/\n",
      "/home/david/sigMF_ML/RF/RF_class/data_val6/\n",
      "/home/david/sigMF_ML/RF/RF_class/data_val7/\n",
      "/home/david/sigMF_ML/RF/RF_class/data_val8/\n",
      "/home/david/sigMF_ML/RF/RF_class/data_val9/\n",
      "/home/david/sigMF_ML/RF/RF_class/data_val10/\n",
      "/home/david/sigMF_ML/RF/RF_class/data_val11/\n",
      "/home/david/sigMF_ML/RF/RF_class/data_val12/\n"
     ]
    }
   ],
   "source": [
    "rf_dataset1 = RFDataset(path_val1)\n",
    "val1_data = data.DataLoader(rf_dataset1, batch_size=batches, shuffle=True)\n",
    "rf_dataset2 = RFDataset(path_val2)\n",
    "val2_data = data.DataLoader(rf_dataset2, batch_size=batches, shuffle=True)\n",
    "rf_dataset3 = RFDataset(path_val3)\n",
    "val3_data = data.DataLoader(rf_dataset3, batch_size=batches, shuffle=True)\n",
    "rf_dataset4 = RFDataset(path_val4)\n",
    "val4_data = data.DataLoader(rf_dataset4, batch_size=batches, shuffle=True)\n",
    "rf_dataset5 = RFDataset(path_val5)\n",
    "val5_data = data.DataLoader(rf_dataset5, batch_size=batches, shuffle=True)\n",
    "rf_dataset6 = RFDataset(path_val6)\n",
    "val6_data = data.DataLoader(rf_dataset6, batch_size=batches, shuffle=True)\n",
    "rf_dataset7 = RFDataset(path_val7)\n",
    "val7_data = data.DataLoader(rf_dataset7, batch_size=batches, shuffle=True)\n",
    "rf_dataset8 = RFDataset(path_val8)\n",
    "val8_data = data.DataLoader(rf_dataset8, batch_size=batches, shuffle=True)\n",
    "rf_dataset9 = RFDataset(path_val9)\n",
    "val9_data = data.DataLoader(rf_dataset9, batch_size=batches, shuffle=True)\n",
    "rf_dataset10 = RFDataset(path_val10)\n",
    "val10_data = data.DataLoader(rf_dataset10, batch_size=batches, shuffle=True)\n",
    "rf_dataset11 = RFDataset(path_val11)\n",
    "val11_data = data.DataLoader(rf_dataset11, batch_size=batches, shuffle=True)\n",
    "rf_dataset12 = RFDataset(path_val12)\n",
    "val12_data = data.DataLoader(rf_dataset12, batch_size=batches, shuffle=True)"
   ]
  },
  {
   "cell_type": "markdown",
   "metadata": {},
   "source": [
    "#### list of loaders"
   ]
  },
  {
   "cell_type": "code",
   "execution_count": 12,
   "metadata": {},
   "outputs": [
    {
     "name": "stdout",
     "output_type": "stream",
     "text": [
      "done\n"
     ]
    }
   ],
   "source": [
    "val_data_list = [val1_data]\n",
    "val_data_list.append(val2_data)\n",
    "val_data_list.append(val3_data)\n",
    "val_data_list.append(val4_data)\n",
    "val_data_list.append(val5_data)\n",
    "val_data_list.append(val6_data)\n",
    "val_data_list.append(val7_data)\n",
    "val_data_list.append(val8_data)\n",
    "val_data_list.append(val9_data)\n",
    "val_data_list.append(val10_data)\n",
    "val_data_list.append(val11_data)\n",
    "val_data_list.append(val12_data)\n",
    "print('done')"
   ]
  },
  {
   "cell_type": "markdown",
   "metadata": {},
   "source": [
    "## Training"
   ]
  },
  {
   "cell_type": "code",
   "execution_count": 13,
   "metadata": {},
   "outputs": [],
   "source": [
    "def train_net(total):\n",
    "    test_patch_total = 24000 # 120000\n",
    "    compare = .7\n",
    "    loss_plot = np.zeros(total)\n",
    "    total_plot = np.zeros(total//5+1)\n",
    "    batch_plot = np.zeros(len(training_data)*total//100)\n",
    "    batch_indexer = 0\n",
    "    for epoch in tqdm(range(total), desc=\"Epoch\"): \n",
    "        model.train()\n",
    "        start = timer()\n",
    "        for i, rf_data in enumerate(training_data, 0):\n",
    "            inputs = rf_data['data']\n",
    "            inputs = torch.squeeze(inputs, dim=1)\n",
    "#             print('input1  = ', inputs.shape)\n",
    "            inputs = inputs.permute(0,3,1,2).contiguous()\n",
    "#             print('input before noise add  = ', inputs.shape)\n",
    "            batch_dim, b, c, d = inputs.shape\n",
    "            # add som noise\n",
    "            c2 = torch.FloatTensor(a).uniform_(r1_c2, r2_c2)\n",
    "            inputs = inputs + torch.abs((((var_noise*c2)**0.5)*torch.randn(batch_dim, 4, 224, 224)*1))  \n",
    "            #**************** take I and Q magnitudue only ***********\n",
    "            I_temp = torch.abs(torch.sqrt(inputs[:,0,:,:]**2+inputs[:,1,:,:]**2))        \n",
    "            I_temp = torch.unsqueeze(I_temp, dim=1)\n",
    "            Q_temp = torch.abs(torch.sqrt(inputs[:,2,:,:]**2+inputs[:,3,:,:]**2))\n",
    "            Q_temp = torch.unsqueeze(Q_temp, dim=1)\n",
    "            inputs = torch.cat((I_temp,Q_temp),1)\n",
    "#             print('inputs after noise add  = ', inputs.shape) \n",
    "            #*********************************************************  \n",
    "#             batch_dim, b, c, d = inputs.shape\n",
    "#             # add som noise\n",
    "#             c2 = torch.FloatTensor(a).uniform_(r1_c2, r2_c2)\n",
    "#             inputs = inputs + torch.abs((((var_noise*c2)**0.5)*torch.randn(batch_dim, 2, 224, 224)*1))  \n",
    "            inputs = Variable(inputs.cuda(GPU))\n",
    "            labels = rf_data['label']\n",
    "            labels = labels.cuda(GPU)\n",
    "            outputs = model(inputs)\n",
    "            loss = criterion(outputs, labels)\n",
    "            optimizer.zero_grad()\n",
    "            loss.backward()\n",
    "            optimizer.step()\n",
    "        end = timer()\n",
    "        batch_time = end - start\n",
    "        #***************************************************************************************\n",
    "        print('batch time = ', batch_time)\n",
    "        print('************************* start *************************')\n",
    "        total_correct_patches = grand_total = 0\n",
    "        start_test = timer()\n",
    "        model.eval()\n",
    "        for testing in val_data_list:\n",
    "            t = train_val(testing)\n",
    "            total_correct_patches = total_correct_patches + t           \n",
    "        grand_total = total_correct_patches/test_patch_total\n",
    "        batch_plot[batch_indexer] = grand_total*100\n",
    "        batch_indexer = batch_indexer + 1\n",
    "    #     print('Batch number = ', i, 'of', len(training_data))\n",
    "        print('Total % correct {:.2f}%'.format(grand_total*100))         \n",
    "        model.train \n",
    "        end_test = timer()\n",
    "        test_time = end_test - start_test\n",
    "        print('test time = ', test_time)\n",
    "        print('*************************** end ***************************')\n",
    "        #****************************************************************************************         \n",
    "        save_model(epoch,loss)\n",
    "        tqdm.write('___________________________________________')\n",
    "        tqdm.write(\"Epoch {} Loss {:.10f} \".format(epoch+1, loss.data*1)) \n",
    "        tqdm.write('___________________________________________')        \n",
    "    return loss_plot, batch_plot"
   ]
  },
  {
   "cell_type": "markdown",
   "metadata": {},
   "source": [
    "#### Training Evaluation"
   ]
  },
  {
   "cell_type": "code",
   "execution_count": 14,
   "metadata": {},
   "outputs": [],
   "source": [
    "def train_val(val_data):\n",
    "    with torch.no_grad():\n",
    "        total = noise = center_fft = target_to_int = accumulated_corrects = percent_correct = 0\n",
    "        c0 = c1 = c2 = c3 = c4 = c5 = c6 = c7 = c8 = c9 = 0\n",
    "        for i, rf_data in enumerate(val_data, 0): \n",
    "            inputs = rf_data['data']\n",
    "            inputs = torch.squeeze(inputs, dim=1)\n",
    "            inputs = inputs.permute(0,3,1,2).contiguous() \n",
    "            batch_dim, b, c, d = inputs.shape\n",
    "            # add som noise\n",
    "            c2 = torch.FloatTensor(a).uniform_(r1_c2, r2_c2)\n",
    "            inputs = inputs + torch.abs((((var_noise*c2)**0.5)*torch.randn(batch_dim, 4, 224, 224)*1))              \n",
    "            #**************** take I and Q magnitudue only ***********\n",
    "            I_temp = torch.abs(torch.sqrt(inputs[:,0,:,:]**2+inputs[:,1,:,:]**2))\n",
    "            I_temp = torch.unsqueeze(I_temp, dim=1)\n",
    "            Q_temp = torch.abs(torch.sqrt(inputs[:,2,:,:]**2+inputs[:,3,:,:]**2))\n",
    "            Q_temp = torch.unsqueeze(Q_temp, dim=1)\n",
    "            inputs = torch.cat((I_temp,Q_temp),1)\n",
    "            #*********************************************************               \n",
    "#             batch_dim, b, c, d = inputs.shape\n",
    "#             # add som noise\n",
    "#             c2 = torch.FloatTensor(a).uniform_(r1_c2, r2_c2)\n",
    "#             inputs = inputs + torch.abs((((var_noise*c2)**0.5)*torch.randn(batch_dim, 2, 224, 224)*1))  \n",
    "            inputs = Variable(inputs.cuda(GPU))\n",
    "            labels = rf_data['label']\n",
    "            labels = labels.cuda(GPU)\n",
    "            optimizer.zero_grad() \n",
    "            outputs = model(inputs)\n",
    "            _, predicted = torch.max(outputs.data, 1) \n",
    "            for b in range(len(predicted)):\n",
    "                labels_temp = labels[b].detach().cpu().numpy()\n",
    "                temp = predicted[b].detach().cpu().numpy()\n",
    "                if (labels_temp==temp):\n",
    "                    accumulated_corrects = accumulated_corrects+1\n",
    "    torch.cuda.empty_cache()\n",
    "    return accumulated_corrects"
   ]
  },
  {
   "cell_type": "markdown",
   "metadata": {},
   "source": [
    "## Inference Segmented Dataloader"
   ]
  },
  {
   "cell_type": "code",
   "execution_count": 15,
   "metadata": {},
   "outputs": [],
   "source": [
    "# Inference Dataloader with labels\n",
    "class inference_dataloader_segmented_live(data.Dataset):\n",
    "    def __init__(self):\n",
    "        self.dataPath = path\n",
    "        self.num_classes = 12\n",
    "        self.num_examples = 1 # use only 1 for semi-live inferencing\n",
    "    def __getitem__(self, index):\n",
    "        sigmf_data = np.array(data_IQ_list_val[index]) \n",
    "        print('sigmf_data = ', sigmf_data.shape)\n",
    "        frequency, time, dims1 = sigmf_data.shape\n",
    "        print('frequency = ', frequency, '  time = ', time)\n",
    "        data_IQ = []\n",
    "        data_IQ_temp2 = []\n",
    "        seg_t = 224  \n",
    "        seg_f = 224 \n",
    "        seg_time = time//seg_t\n",
    "        seg_freq = frequency//seg_f\n",
    "        print('seg_time = ', seg_time, 'seg_freq = ', seg_freq)\n",
    "        # Segment the time axis\n",
    "        for j in range(seg_time): \n",
    "                # Segment the frequency axis\n",
    "                for k in range(seg_freq): \n",
    "                    IQ = sigmf_data[seg_f*k:(seg_f)+seg_f*k,seg_t*j:(seg_t)+seg_t*j]\n",
    "                    data_IQ_temp2.append(IQ)            \n",
    "        data_IQ = np.array(data_IQ_temp2)\n",
    "        print('data_IQ shape = ', data_IQ.shape)\n",
    "        loop_counter, dim1, dim2, dim3 = data_IQ.shape\n",
    "        TRUTH =  meta_encoder(meta_list_val, self.num_classes)\n",
    "        TRUTH = TRUTH.astype(np.float32)\n",
    "        return torch.from_numpy(data_IQ),torch.from_numpy(TRUTH), loop_counter, seg_freq\n",
    "    def __len__(self):\n",
    "        return self.num_examples "
   ]
  },
  {
   "cell_type": "code",
   "execution_count": 16,
   "metadata": {},
   "outputs": [],
   "source": [
    "# Inference Dataloader with labels\n",
    "class inference_dataloader_segmented(data.Dataset):\n",
    "    def __init__(self):\n",
    "        self.dataPath = path\n",
    "        self.num_classes = 12\n",
    "        self.num_examples = 1\n",
    "    def __getitem__(self, index):\n",
    "        sigmf_data = np.array(data_IQ_list_val[index]) \n",
    "        print('sigmf_data = ', sigmf_data.shape)\n",
    "        frequency, time, dims1 = sigmf_data.shape\n",
    "        print('frequency = ', frequency, '  time = ', time)\n",
    "        data_IQ = []\n",
    "        data_IQ_temp2 = []\n",
    "        seg_t = 224  \n",
    "        seg_f = 224 \n",
    "        seg_time = time//seg_t\n",
    "        seg_freq = frequency//seg_f\n",
    "        print('seg_time = ', seg_time, 'seg_freq = ', seg_freq)\n",
    "        # Segment the time axis\n",
    "        for j in range(seg_time): \n",
    "                # Segment the frequency axis\n",
    "                for k in range(seg_freq): \n",
    "                    IQ = sigmf_data[seg_f*k:(seg_f)+seg_f*k,seg_t*j:(seg_t)+seg_t*j]\n",
    "                    data_IQ_temp2.append(IQ)            \n",
    "        data_IQ = np.array(data_IQ_temp2)\n",
    "        print('data_IQ shape = ', data_IQ.shape)\n",
    "        loop_counter, dim1, dim2, dim3 = data_IQ.shape\n",
    "        TRUTH =  meta_encoder(meta_list_val, self.num_classes)\n",
    "        TRUTH = TRUTH.astype(np.float32)\n",
    "        return torch.from_numpy(data_IQ),torch.from_numpy(TRUTH), loop_counter, seg_freq\n",
    "    def __len__(self):\n",
    "        return self.num_examples "
   ]
  },
  {
   "cell_type": "markdown",
   "metadata": {},
   "source": [
    "### validation functions"
   ]
  },
  {
   "cell_type": "code",
   "execution_count": 17,
   "metadata": {},
   "outputs": [],
   "source": [
    "def validation_read():    \n",
    "    # Inference DATA READING ************************************************\n",
    "    # read in validation IQ and meta data\n",
    "    os.chdir(path_val)\n",
    "    data_files_validation = sorted(glob.glob('*.sigmf-data'))\n",
    "    meta_files_validation = sorted(glob.glob('*.sigmf-meta'))\n",
    "    for meta in meta_files_validation:\n",
    "        all_meta_data = json.load(open(meta))\n",
    "        print(\"validation file name = \", meta)\n",
    "    # Load validation sigmf-data files\n",
    "    meta_list_val = read_meta(meta_files_validation)\n",
    "    data_IQ_list_val = iq_read(data_files_validation)\n",
    "    return data_IQ_list_val, meta_list_val"
   ]
  },
  {
   "cell_type": "code",
   "execution_count": 18,
   "metadata": {},
   "outputs": [],
   "source": [
    "def testing_read():\n",
    "    print('testing_read function')\n",
    "    # Inference DATA READING ************************************************\n",
    "    # read in validation IQ and meta data\n",
    "    os.chdir(path_val)\n",
    "    data_files_validation = sorted(glob.glob('*.sigmf-data'))\n",
    "    meta_files_validation = sorted(glob.glob('*.sigmf-meta'))\n",
    "    for meta in meta_files_validation:\n",
    "        all_meta_data = json.load(open(meta))\n",
    "        print(\"testing file name = \", meta)\n",
    "    meta_list_val = read_meta(meta_files_validation)\n",
    "    data_IQ_list_val = iq_read_test_file(data_files_validation)\n",
    "    return data_IQ_list_val, meta_list_val"
   ]
  },
  {
   "cell_type": "markdown",
   "metadata": {},
   "source": [
    "#### Changed to get test data from different directory"
   ]
  },
  {
   "cell_type": "code",
   "execution_count": 19,
   "metadata": {},
   "outputs": [],
   "source": [
    "def inference_read(msps):    \n",
    "    # Inference DATA READING ************************************************\n",
    "    # read in validation IQ and meta data\n",
    "    os.chdir(path_ram)\n",
    "    data_files_validation = sorted(glob.glob('*.sigmf-data'))\n",
    "    meta_files_validation = sorted(glob.glob('*.sigmf-meta'))\n",
    "    for meta in meta_files_validation:\n",
    "        all_meta_data = json.load(open(meta))\n",
    "        print(\"inference file name = \", meta)\n",
    "    # Load validation sigmf-data files\n",
    "    meta_list_val = read_meta(meta_files_validation)\n",
    "    data_IQ_list_val = iq_read_test_live(data_files_validation,msps)\n",
    "    return data_IQ_list_val, meta_list_val"
   ]
  },
  {
   "cell_type": "code",
   "execution_count": 20,
   "metadata": {},
   "outputs": [],
   "source": [
    "def inference_read_file(msps,path):    \n",
    "    # Inference DATA READING ************************************************\n",
    "    # read in validation IQ and meta data\n",
    "    os.chdir(path)\n",
    "    data_files_validation = sorted(glob.glob('*.sigmf-data'))\n",
    "    meta_files_validation = sorted(glob.glob('*.sigmf-meta'))\n",
    "    for meta in meta_files_validation:\n",
    "        all_meta_data = json.load(open(meta))\n",
    "        print(\"inference file name = \", meta)\n",
    "    # Load validation sigmf-data files\n",
    "    meta_list_val = read_meta(meta_files_validation)\n",
    "    data_IQ_list_val = iq_read_test_live(data_files_validation,msps)\n",
    "    return data_IQ_list_val, meta_list_val"
   ]
  },
  {
   "cell_type": "code",
   "execution_count": 21,
   "metadata": {},
   "outputs": [],
   "source": [
    "    # inference ************************************************************\n",
    "def testing_file(msps):    \n",
    "        large_width = 400\n",
    "        np.set_printoptions(precision=2,floatmode='fixed', linewidth=large_width)\n",
    "        model.eval()\n",
    "        V = data.DataLoader(inference_dataloader_segmented(), batch_size=1)\n",
    "        start_frequency = (center_freq_file)\n",
    "        match_freq = start_frequency\n",
    "        print('start_frequency = ', start_frequency/1000000)\n",
    "        freq_offset = 0       \n",
    "        total = noise = center_fft = target_to_int = accumulated_corrects = percent_correct = 0\n",
    "        c0 = c1 = c2 = c3 = c4 = c5 = c6 = c7 = c8 = c9 = 0\n",
    "#         total = 68\n",
    "        with torch.no_grad():\n",
    "            for i, rf_data in enumerate(V, 0):   \n",
    "                accumulated_corrects = 0\n",
    "                percent_correct = 0\n",
    "                target_to_int = 0\n",
    "                inputs, target, counter, seg_freq = rf_data \n",
    "                print('testing counter = ', counter, 'seg_freq =', seg_freq)\n",
    "#**************************** Print segmented pics ***********************************\n",
    "#                 stft_plot = np.squeeze(inputs, axis=0)\n",
    "#                 fig=plt.figure(figsize=(8,8))\n",
    "#                 ncols = 5\n",
    "#                 nrows = 5\n",
    "#                 range_plot = 1\n",
    "#                 for x in range(1,22): # need to figure out how to not hard code this ********************* <-----\n",
    "#                     stft_mean, stft_std = histo_stats(stft_plot[x,:,:,:])\n",
    "#                     if (x>=range_plot and x<(range_plot+25)):\n",
    "#                         stft_plot1 =  10*np.log10(np.abs(stft_plot[x, :, :, 0]+eps))\n",
    "#                         stft_plot1 = np.squeeze(stft_plot1, axis=0)\n",
    "#                         fig.add_subplot(nrows, ncols, x-range_plot+1)\n",
    "#                         plt.imshow(stft_plot1, vmin=-70, vmax=5)\n",
    "#                 plt.show()\n",
    "#******************************************************************************************    \n",
    "                freq_increment = (Fs*msps/2)/seg_freq.detach().cpu().numpy().item()\n",
    "                print('freq_increment = ', freq_increment)\n",
    "                print('TESTING inputs SHAPE = ', inputs.shape)\n",
    "                target = Variable(target.cuda(GPU)) \n",
    "                print('input in   = ', inputs.shape)\n",
    "                inputs = torch.squeeze(inputs, dim=0)\n",
    "                print('input out  = ', inputs.shape)\n",
    "                inputs = inputs.permute(0,3,1,2).contiguous()\n",
    "                print('counter convert stuff = ', counter, type(counter.numpy()))\n",
    "                inputs = Variable(inputs.cuda(GPU))\n",
    "                print('permuted shape = ', inputs.shape)\n",
    "                freq_count = 0 # keep track of array position\n",
    "                freq_histo = np.zeros(counter.numpy())\n",
    "                for j in range(counter):\n",
    "                    inputs2 = inputs[j,:,:,:]\n",
    "                    inputs2 = torch.unsqueeze(inputs2,0)\n",
    "                    outputs = model(inputs2)\n",
    "                    _, predicted = torch.max(outputs.data, 1) \n",
    "#******************************* Print prediction range to match pics above ***********        \n",
    "#                     if (j>=range_plot and j<(range_plot+25)):                    \n",
    "#                         print(\"j= \",j,' ',outputs.data.detach().cpu().numpy())\n",
    "#                         print('prediction = ', predicted.detach().cpu().numpy())\n",
    "#*************************************************************************************               \n",
    "                    total = total +1  # Increment the total count\n",
    "                    match_freq = match_freq + freq_offset*freq_increment\n",
    "                    if (predicted.detach().cpu().numpy() == 0):\n",
    "                        c0 = c0 + 1  \n",
    "                        freq_histo[j] = match_freq/1000000\n",
    "                    if (predicted.detach().cpu().numpy() == 1):\n",
    "                        c1 = c1 + 1\n",
    "                        freq_histo[j] = match_freq/1000000\n",
    "                    if (predicted.detach().cpu().numpy() == 2):\n",
    "                        c2 = c2 + 1\n",
    "                        freq_histo[j] = match_freq/1000000\n",
    "                    if (predicted.detach().cpu().numpy() == 3):\n",
    "                        c3 = c3 + 1\n",
    "                        freq_histo[j] = match_freq/1000000            \n",
    "                    if (predicted.detach().cpu().numpy() == 4):\n",
    "                        c4 = c4 + 1\n",
    "                        freq_histo[j] = match_freq/1000000            \n",
    "                    if (predicted.detach().cpu().numpy() == 5):\n",
    "                        c5 = c5 + 1 \n",
    "                        freq_histo[j] = match_freq/1000000            \n",
    "                    if (predicted.detach().cpu().numpy() == 6):\n",
    "                        c6 = c6 + 1 \n",
    "                        freq_histo[j] = match_freq/1000000            \n",
    "                    if (predicted.detach().cpu().numpy() == 7):\n",
    "                        c7 = c7 + 1 \n",
    "                        freq_histo[j] = match_freq/1000000            \n",
    "                    if (predicted.detach().cpu().numpy() == 8):\n",
    "                        noise = noise + 1\n",
    "                    if (predicted.detach().cpu().numpy() == 9):\n",
    "                        center_fft = center_fft + 1  \n",
    "                    if (predicted.detach().cpu().numpy() == 10):\n",
    "                        c8 = c8 + 1  \n",
    "                        freq_histo[j] = match_freq/1000000            \n",
    "                    if (predicted.detach().cpu().numpy() == 11):\n",
    "                        c9 = c9 + 1 \n",
    "                        freq_histo[j] = match_freq/1000000            \n",
    "                    freq_offset = freq_offset + 1\n",
    "                    if (freq_offset == seg_freq):\n",
    "                        freq_offset = 0\n",
    "                    match_freq = start_frequency\n",
    "                torch.cuda.empty_cache()\n",
    "                # complete ******************************************************\n",
    "                freq_histo = np.ma.masked_equal(freq_histo, 0)\n",
    "                histo_stats_freq_file(freq_histo,msps)\n",
    "                denom = total-center_fft-noise\n",
    "                print('************************* Probabilities ********************************')\n",
    "                print('----------------------------WAVEFORMS-----------------------------------')\n",
    "                if (denom == 0):\n",
    "                    print('Nothing but noise')\n",
    "                else:\n",
    "                    print('LoRa 125 = {:.2f}%'.format(c0/denom*100))\n",
    "                    print('GD55 DMR = {:.2f}%'.format(c1/denom*100))\n",
    "                    print('NFM = {:.2f}%'.format(c2/denom*100))\n",
    "                    print('TYT = {:.2f}'.format(c3/denom*100))\n",
    "                    print('Vodeson Doorbell = {:.2f}%'.format(c4/denom*100))\n",
    "                    print('clickndig = {:.2f}%'.format(c5/denom*100))\n",
    "                    print('Sado doorbell = {:.2f}%'.format(c6/denom*100))\n",
    "                    print('LoRa 250 = {:.2f}%'.format(c7/denom*100))\n",
    "                    print('light switch = {:.2f}%'.format(c8/denom*100))\n",
    "                    print('YSF = {:.2f}%'.format(c9/denom*100))\n",
    "                print('------------------------------------------------------------------------')\n",
    "                print('***************************** noise and fft ****************************')\n",
    "                print('noise matches = ', noise)\n",
    "                print('center fft matches = ', center_fft)\n",
    "                print('TOTAL patch count = ', total)\n",
    "                print('***************************** Finished *********************************')"
   ]
  },
  {
   "cell_type": "code",
   "execution_count": 22,
   "metadata": {},
   "outputs": [],
   "source": [
    "    # inference ************************************************************\n",
    "def testing_live(msps):    \n",
    "        large_width = 400\n",
    "        np.set_printoptions(precision=2,floatmode='fixed', linewidth=large_width)\n",
    "        model.eval()\n",
    "        V = data.DataLoader(inference_dataloader_segmented(), batch_size=1)\n",
    "        start_frequency = (center_freq_live)\n",
    "        match_freq = start_frequency\n",
    "        print('start_frequency = ', start_frequency/1000000)\n",
    "        freq_offset = 0       \n",
    "        total = noise = center_fft = target_to_int = accumulated_corrects = percent_correct = 0\n",
    "        c0 = c1 = c2 = c3 = c4 = c5 = c6 = c7 = c8 = c9 = 0\n",
    "        with torch.no_grad():\n",
    "            for i, rf_data in enumerate(V, 0):   \n",
    "                accumulated_corrects = 0\n",
    "                percent_correct = 0\n",
    "                target_to_int = 0\n",
    "                inputs, target, counter, seg_freq = rf_data \n",
    "                print('testing counter = ', counter, 'seg_freq =', seg_freq)\n",
    "                print('seg_freq = ', seg_freq)\n",
    "#**************************** Print segmented pics ***********************************\n",
    "                stft_plot = np.squeeze(inputs, axis=0)\n",
    "                fig=plt.figure(figsize=(8,8))\n",
    "                ncols = 5\n",
    "                nrows = 5\n",
    "                range_plot = 1\n",
    "                range_end = range_plot+5\n",
    "                for x in range(1,51): # need to figure out how to not hard code this ********************* <-----\n",
    "                    if (x>=range_plot and x<(range_end)):\n",
    "                        stft_plot1 =  stft_plot[x, :, :, 1]\n",
    "                        stft_plot1 =  10*np.log10(np.abs(stft_plot[x, :, :, 0]+eps))\n",
    "                        fig.add_subplot(nrows, ncols, x-range_plot+1)\n",
    "                        plt.imshow(stft_plot1, vmin=-70, vmax=5)\n",
    "                plt.show()\n",
    "#******************************************************************************************    \n",
    "                freq_increment = (Fs*msps/2)/seg_freq.detach().cpu().numpy().item()\n",
    "                print('freq_increment = ', freq_increment)\n",
    "                print('TESTING inputs SHAPE = ', inputs.shape)\n",
    "                target = Variable(target.cuda(GPU)) \n",
    "                print('input in   = ', inputs.shape)\n",
    "                inputs = torch.squeeze(inputs, dim=0)\n",
    "                print('input out  = ', inputs.shape)\n",
    "                inputs = inputs.permute(0,3,1,2).contiguous()\n",
    "                print('counter convert stuff = ', counter, type(counter.numpy()))\n",
    "                inputs = Variable(inputs.cuda(GPU))\n",
    "                print('permuted shape = ', inputs.shape)\n",
    "                freq_count = 0 # keep track of array position\n",
    "                freq_histo = np.zeros(counter.numpy())\n",
    "                for j in range(counter):\n",
    "                    inputs2 = inputs[j,:,:,:]\n",
    "                    inputs2 = torch.unsqueeze(inputs2,0)\n",
    "                    outputs = model(inputs2)\n",
    "                    _, predicted = torch.max(outputs.data, 1) \n",
    "#******************************* Print prediction range to match pics above ***********        \n",
    "#                     if (j>=range_plot and j<(range_end)):                    \n",
    "# #                         print(\"j= \",j,' ',outputs.data.detach().cpu().numpy())\n",
    "#                         print('prediction = ', predicted.detach().cpu().numpy())\n",
    "#                         print('******************')\n",
    "#*************************************************************************************              \n",
    "                    total = total +1  # Increment the total count\n",
    "                    match_freq = match_freq + freq_offset*freq_increment\n",
    "                    if (predicted.detach().cpu().numpy() == 0):\n",
    "                        c0 = c0 + 1  \n",
    "                        freq_histo[j] = match_freq/1000000\n",
    "                    if (predicted.detach().cpu().numpy() == 1):\n",
    "                        c1 = c1 + 1\n",
    "                        freq_histo[j] = match_freq/1000000\n",
    "                    if (predicted.detach().cpu().numpy() == 2):\n",
    "                        c2 = c2 + 1\n",
    "                        freq_histo[j] = match_freq/1000000\n",
    "                    if (predicted.detach().cpu().numpy() == 3):\n",
    "                        c3 = c3 + 1\n",
    "                        freq_histo[j] = match_freq/1000000            \n",
    "                    if (predicted.detach().cpu().numpy() == 4):\n",
    "                        c4 = c4 + 1\n",
    "                        freq_histo[j] = match_freq/1000000            \n",
    "                    if (predicted.detach().cpu().numpy() == 5):\n",
    "                        c5 = c5 + 1 \n",
    "                        freq_histo[j] = match_freq/1000000            \n",
    "                    if (predicted.detach().cpu().numpy() == 6):\n",
    "                        c6 = c6 + 1 \n",
    "                        freq_histo[j] = match_freq/1000000            \n",
    "                    if (predicted.detach().cpu().numpy() == 7):\n",
    "                        c7 = c7 + 1 \n",
    "                        freq_histo[j] = match_freq/1000000            \n",
    "                    if (predicted.detach().cpu().numpy() == 8):\n",
    "                        noise = noise + 1\n",
    "                    if (predicted.detach().cpu().numpy() == 9):\n",
    "                        center_fft = center_fft + 1  \n",
    "                    if (predicted.detach().cpu().numpy() == 10):\n",
    "                        c8 = c8 + 1  \n",
    "                        freq_histo[j] = match_freq/1000000            \n",
    "                    if (predicted.detach().cpu().numpy() == 11):\n",
    "                        c9 = c9 + 1 \n",
    "                        freq_histo[j] = match_freq/1000000            \n",
    "                    freq_offset = freq_offset + 1\n",
    "                    if (freq_offset == seg_freq):\n",
    "                        freq_offset = 0\n",
    "                    match_freq = start_frequency\n",
    "                torch.cuda.empty_cache()\n",
    "                # complete ******************************************************\n",
    "                freq_histo = np.ma.masked_equal(freq_histo, 0)\n",
    "                histo_stats_freq_live(freq_histo,msps)\n",
    "                denom = total-center_fft-noise\n",
    "                print('************************* Probabilities ********************************')\n",
    "                print('----------------------------WAVEFORMS-----------------------------------')\n",
    "                if (denom == 0):\n",
    "                    print('Nothing but noise')\n",
    "                else:\n",
    "                    print('LoRa 125 = {:.2f}%'.format(c0/denom*100))\n",
    "                    print('GD55 DMR = {:.2f}%'.format(c1/denom*100))\n",
    "                    print('NFM = {:.2f}%'.format(c2/denom*100))\n",
    "                    print('TYT = {:.2f}'.format(c3/denom*100))\n",
    "                    print('Vodeson Doorbell = {:.2f}%'.format(c4/denom*100))\n",
    "                    print('clickndig = {:.2f}%'.format(c5/denom*100))\n",
    "                    print('Sado doorbell = {:.2f}%'.format(c6/denom*100))\n",
    "                    print('LoRa 250 = {:.2f}%'.format(c7/denom*100))\n",
    "                    print('light switch = {:.2f}%'.format(c8/denom*100))\n",
    "                    print('YSF = {:.2f}%'.format(c9/denom*100))\n",
    "                print('------------------------------------------------------------------------')\n",
    "                print('***************************** noise and fft ****************************')\n",
    "                print('noise matches = ', noise)\n",
    "                print('center fft matches = ', center_fft)\n",
    "                print('TOTAL patch count = ', total)\n",
    "                print('***************************** Finished *********************************')"
   ]
  },
  {
   "cell_type": "code",
   "execution_count": 23,
   "metadata": {},
   "outputs": [
    {
     "name": "stdout",
     "output_type": "stream",
     "text": [
      "/home/david/sigMF_ML/RF/RF_class/data/\n"
     ]
    }
   ],
   "source": [
    "train_dataloader = RFDataset(path)"
   ]
  },
  {
   "cell_type": "code",
   "execution_count": 24,
   "metadata": {},
   "outputs": [],
   "source": [
    "training_data = data.DataLoader(train_dataloader, batch_size=batches, shuffle=True)"
   ]
  },
  {
   "cell_type": "markdown",
   "metadata": {},
   "source": [
    "## CUDA initialization"
   ]
  },
  {
   "cell_type": "code",
   "execution_count": 25,
   "metadata": {},
   "outputs": [
    {
     "data": {
      "text/plain": [
       "True"
      ]
     },
     "execution_count": 25,
     "metadata": {},
     "output_type": "execute_result"
    }
   ],
   "source": [
    "model = VGG_net()\n",
    "CUDA = torch.cuda.is_available()\n",
    "if CUDA:\n",
    "    model.cuda(GPU)\n",
    "CUDA  "
   ]
  },
  {
   "cell_type": "code",
   "execution_count": 26,
   "metadata": {},
   "outputs": [],
   "source": [
    "torch.cuda.empty_cache()"
   ]
  },
  {
   "cell_type": "markdown",
   "metadata": {},
   "source": [
    "## Final training initialization"
   ]
  },
  {
   "cell_type": "code",
   "execution_count": 27,
   "metadata": {
    "scrolled": true
   },
   "outputs": [
    {
     "data": {
      "text/plain": [
       "VGG_net(\n",
       "  (conv_layers): Sequential(\n",
       "    (0): Conv2d(2, 64, kernel_size=(3, 3), stride=(1, 1), padding=(1, 1))\n",
       "    (1): BatchNorm2d(64, eps=1e-05, momentum=0.1, affine=True, track_running_stats=True)\n",
       "    (2): ReLU()\n",
       "    (3): Conv2d(64, 64, kernel_size=(3, 3), stride=(1, 1), padding=(1, 1))\n",
       "    (4): BatchNorm2d(64, eps=1e-05, momentum=0.1, affine=True, track_running_stats=True)\n",
       "    (5): ReLU()\n",
       "    (6): MaxPool2d(kernel_size=(2, 2), stride=(2, 2), padding=0, dilation=1, ceil_mode=False)\n",
       "    (7): Conv2d(64, 128, kernel_size=(3, 3), stride=(1, 1), padding=(1, 1))\n",
       "    (8): BatchNorm2d(128, eps=1e-05, momentum=0.1, affine=True, track_running_stats=True)\n",
       "    (9): ReLU()\n",
       "    (10): Conv2d(128, 128, kernel_size=(3, 3), stride=(1, 1), padding=(1, 1))\n",
       "    (11): BatchNorm2d(128, eps=1e-05, momentum=0.1, affine=True, track_running_stats=True)\n",
       "    (12): ReLU()\n",
       "    (13): MaxPool2d(kernel_size=(2, 2), stride=(2, 2), padding=0, dilation=1, ceil_mode=False)\n",
       "    (14): Conv2d(128, 256, kernel_size=(3, 3), stride=(1, 1), padding=(1, 1))\n",
       "    (15): BatchNorm2d(256, eps=1e-05, momentum=0.1, affine=True, track_running_stats=True)\n",
       "    (16): ReLU()\n",
       "    (17): Conv2d(256, 256, kernel_size=(3, 3), stride=(1, 1), padding=(1, 1))\n",
       "    (18): BatchNorm2d(256, eps=1e-05, momentum=0.1, affine=True, track_running_stats=True)\n",
       "    (19): ReLU()\n",
       "    (20): Conv2d(256, 256, kernel_size=(3, 3), stride=(1, 1), padding=(1, 1))\n",
       "    (21): BatchNorm2d(256, eps=1e-05, momentum=0.1, affine=True, track_running_stats=True)\n",
       "    (22): ReLU()\n",
       "    (23): MaxPool2d(kernel_size=(2, 2), stride=(2, 2), padding=0, dilation=1, ceil_mode=False)\n",
       "    (24): Conv2d(256, 512, kernel_size=(3, 3), stride=(1, 1), padding=(1, 1))\n",
       "    (25): BatchNorm2d(512, eps=1e-05, momentum=0.1, affine=True, track_running_stats=True)\n",
       "    (26): ReLU()\n",
       "    (27): Conv2d(512, 512, kernel_size=(3, 3), stride=(1, 1), padding=(1, 1))\n",
       "    (28): BatchNorm2d(512, eps=1e-05, momentum=0.1, affine=True, track_running_stats=True)\n",
       "    (29): ReLU()\n",
       "    (30): Conv2d(512, 512, kernel_size=(3, 3), stride=(1, 1), padding=(1, 1))\n",
       "    (31): BatchNorm2d(512, eps=1e-05, momentum=0.1, affine=True, track_running_stats=True)\n",
       "    (32): ReLU()\n",
       "    (33): MaxPool2d(kernel_size=(2, 2), stride=(2, 2), padding=0, dilation=1, ceil_mode=False)\n",
       "    (34): Conv2d(512, 512, kernel_size=(3, 3), stride=(1, 1), padding=(1, 1))\n",
       "    (35): BatchNorm2d(512, eps=1e-05, momentum=0.1, affine=True, track_running_stats=True)\n",
       "    (36): ReLU()\n",
       "    (37): Conv2d(512, 512, kernel_size=(3, 3), stride=(1, 1), padding=(1, 1))\n",
       "    (38): BatchNorm2d(512, eps=1e-05, momentum=0.1, affine=True, track_running_stats=True)\n",
       "    (39): ReLU()\n",
       "    (40): Conv2d(512, 512, kernel_size=(3, 3), stride=(1, 1), padding=(1, 1))\n",
       "    (41): BatchNorm2d(512, eps=1e-05, momentum=0.1, affine=True, track_running_stats=True)\n",
       "    (42): ReLU()\n",
       "    (43): MaxPool2d(kernel_size=(2, 2), stride=(2, 2), padding=0, dilation=1, ceil_mode=False)\n",
       "  )\n",
       "  (fcs): Sequential(\n",
       "    (0): Linear(in_features=25088, out_features=4096, bias=True)\n",
       "    (1): ReLU()\n",
       "    (2): Dropout(p=0.5, inplace=False)\n",
       "    (3): Linear(in_features=4096, out_features=4096, bias=True)\n",
       "    (4): ReLU()\n",
       "    (5): Dropout(p=0.5, inplace=False)\n",
       "    (6): Linear(in_features=4096, out_features=12, bias=True)\n",
       "  )\n",
       ")"
      ]
     },
     "execution_count": 27,
     "metadata": {},
     "output_type": "execute_result"
    }
   ],
   "source": [
    "# momentum = .3\n",
    "criterion = nn.CrossEntropyLoss()\n",
    "lr= 1e-5\n",
    "optimizer = optim.AdamW(model.parameters(), lr=lr)\n",
    "# optimizer = optim.SGD(model.parameters(), lr=lr,momentum=momentum)\n",
    "# optimizer = optim.RMSprop(model.parameters(), lr=lr,momentum=momentum)\n",
    "# optimizer = optim.SGD(model.parameters(), lr=lr)\n",
    "# training_data = data.DataLoader(rf_dataset, batch_size=batches, shuffle=True)\n",
    "model.train()"
   ]
  },
  {
   "cell_type": "code",
   "execution_count": 28,
   "metadata": {
    "scrolled": true
   },
   "outputs": [
    {
     "data": {
      "text/plain": [
       "VGG_net(\n",
       "  (conv_layers): Sequential(\n",
       "    (0): Conv2d(2, 64, kernel_size=(3, 3), stride=(1, 1), padding=(1, 1))\n",
       "    (1): BatchNorm2d(64, eps=1e-05, momentum=0.1, affine=True, track_running_stats=True)\n",
       "    (2): ReLU()\n",
       "    (3): Conv2d(64, 64, kernel_size=(3, 3), stride=(1, 1), padding=(1, 1))\n",
       "    (4): BatchNorm2d(64, eps=1e-05, momentum=0.1, affine=True, track_running_stats=True)\n",
       "    (5): ReLU()\n",
       "    (6): MaxPool2d(kernel_size=(2, 2), stride=(2, 2), padding=0, dilation=1, ceil_mode=False)\n",
       "    (7): Conv2d(64, 128, kernel_size=(3, 3), stride=(1, 1), padding=(1, 1))\n",
       "    (8): BatchNorm2d(128, eps=1e-05, momentum=0.1, affine=True, track_running_stats=True)\n",
       "    (9): ReLU()\n",
       "    (10): Conv2d(128, 128, kernel_size=(3, 3), stride=(1, 1), padding=(1, 1))\n",
       "    (11): BatchNorm2d(128, eps=1e-05, momentum=0.1, affine=True, track_running_stats=True)\n",
       "    (12): ReLU()\n",
       "    (13): MaxPool2d(kernel_size=(2, 2), stride=(2, 2), padding=0, dilation=1, ceil_mode=False)\n",
       "    (14): Conv2d(128, 256, kernel_size=(3, 3), stride=(1, 1), padding=(1, 1))\n",
       "    (15): BatchNorm2d(256, eps=1e-05, momentum=0.1, affine=True, track_running_stats=True)\n",
       "    (16): ReLU()\n",
       "    (17): Conv2d(256, 256, kernel_size=(3, 3), stride=(1, 1), padding=(1, 1))\n",
       "    (18): BatchNorm2d(256, eps=1e-05, momentum=0.1, affine=True, track_running_stats=True)\n",
       "    (19): ReLU()\n",
       "    (20): Conv2d(256, 256, kernel_size=(3, 3), stride=(1, 1), padding=(1, 1))\n",
       "    (21): BatchNorm2d(256, eps=1e-05, momentum=0.1, affine=True, track_running_stats=True)\n",
       "    (22): ReLU()\n",
       "    (23): MaxPool2d(kernel_size=(2, 2), stride=(2, 2), padding=0, dilation=1, ceil_mode=False)\n",
       "    (24): Conv2d(256, 512, kernel_size=(3, 3), stride=(1, 1), padding=(1, 1))\n",
       "    (25): BatchNorm2d(512, eps=1e-05, momentum=0.1, affine=True, track_running_stats=True)\n",
       "    (26): ReLU()\n",
       "    (27): Conv2d(512, 512, kernel_size=(3, 3), stride=(1, 1), padding=(1, 1))\n",
       "    (28): BatchNorm2d(512, eps=1e-05, momentum=0.1, affine=True, track_running_stats=True)\n",
       "    (29): ReLU()\n",
       "    (30): Conv2d(512, 512, kernel_size=(3, 3), stride=(1, 1), padding=(1, 1))\n",
       "    (31): BatchNorm2d(512, eps=1e-05, momentum=0.1, affine=True, track_running_stats=True)\n",
       "    (32): ReLU()\n",
       "    (33): MaxPool2d(kernel_size=(2, 2), stride=(2, 2), padding=0, dilation=1, ceil_mode=False)\n",
       "    (34): Conv2d(512, 512, kernel_size=(3, 3), stride=(1, 1), padding=(1, 1))\n",
       "    (35): BatchNorm2d(512, eps=1e-05, momentum=0.1, affine=True, track_running_stats=True)\n",
       "    (36): ReLU()\n",
       "    (37): Conv2d(512, 512, kernel_size=(3, 3), stride=(1, 1), padding=(1, 1))\n",
       "    (38): BatchNorm2d(512, eps=1e-05, momentum=0.1, affine=True, track_running_stats=True)\n",
       "    (39): ReLU()\n",
       "    (40): Conv2d(512, 512, kernel_size=(3, 3), stride=(1, 1), padding=(1, 1))\n",
       "    (41): BatchNorm2d(512, eps=1e-05, momentum=0.1, affine=True, track_running_stats=True)\n",
       "    (42): ReLU()\n",
       "    (43): MaxPool2d(kernel_size=(2, 2), stride=(2, 2), padding=0, dilation=1, ceil_mode=False)\n",
       "  )\n",
       "  (fcs): Sequential(\n",
       "    (0): Linear(in_features=25088, out_features=4096, bias=True)\n",
       "    (1): ReLU()\n",
       "    (2): Dropout(p=0.5, inplace=False)\n",
       "    (3): Linear(in_features=4096, out_features=4096, bias=True)\n",
       "    (4): ReLU()\n",
       "    (5): Dropout(p=0.5, inplace=False)\n",
       "    (6): Linear(in_features=4096, out_features=12, bias=True)\n",
       "  )\n",
       ")"
      ]
     },
     "execution_count": 28,
     "metadata": {},
     "output_type": "execute_result"
    }
   ],
   "source": [
    "# VALIDATION ************************************************************\n",
    "np.set_printoptions(threshold=np.inf)\n",
    "calc = np.zeros([6])\n",
    "averaging = 0\n",
    "correct = 0\n",
    "total = 0\n",
    "V = data.DataLoader(inference_dataloader_segmented(), batch_size=1, shuffle=True)\n",
    "model.eval()"
   ]
  },
  {
   "cell_type": "markdown",
   "metadata": {},
   "source": [
    "### TRAIN Model"
   ]
  },
  {
   "cell_type": "code",
   "execution_count": 29,
   "metadata": {
    "scrolled": true
   },
   "outputs": [
    {
     "name": "stderr",
     "output_type": "stream",
     "text": [
      "\r",
      "Epoch:   0%|          | 0/100 [00:00<?, ?it/s]"
     ]
    },
    {
     "name": "stdout",
     "output_type": "stream",
     "text": [
      "batch time =  1114.1111512719654\n",
      "************************* start *************************\n",
      "Total % correct 90.77%\n",
      "test time =  125.77314631501213\n",
      "*************************** end ***************************\n"
     ]
    },
    {
     "name": "stderr",
     "output_type": "stream",
     "text": [
      "Epoch:   1%|          | 1/100 [20:43<34:12:19, 1243.83s/it]"
     ]
    },
    {
     "name": "stdout",
     "output_type": "stream",
     "text": [
      "___________________________________________\n",
      "Epoch 1 Loss 0.0003002537 \n",
      "___________________________________________\n",
      "batch time =  1106.320772982901\n",
      "************************* start *************************\n",
      "Total % correct 95.38%\n",
      "test time =  126.01077904400881\n",
      "*************************** end ***************************\n"
     ]
    },
    {
     "name": "stderr",
     "output_type": "stream",
     "text": [
      "Epoch:   2%|▏         | 2/100 [41:20<33:48:14, 1241.78s/it]"
     ]
    },
    {
     "name": "stdout",
     "output_type": "stream",
     "text": [
      "___________________________________________\n",
      "Epoch 2 Loss 0.0048153657 \n",
      "___________________________________________\n",
      "batch time =  1107.456508897012\n",
      "************************* start *************************\n",
      "Total % correct 82.55%\n",
      "test time =  126.07676635100506\n",
      "*************************** end ***************************\n"
     ]
    },
    {
     "name": "stderr",
     "output_type": "stream",
     "text": [
      "Epoch:   3%|▎         | 3/100 [1:01:58<33:25:44, 1240.67s/it]"
     ]
    },
    {
     "name": "stdout",
     "output_type": "stream",
     "text": [
      "___________________________________________\n",
      "Epoch 3 Loss 0.0002364961 \n",
      "___________________________________________\n",
      "batch time =  1106.3451444430975\n",
      "************************* start *************************\n",
      "Total % correct 99.05%\n",
      "test time =  127.97770511102863\n",
      "*************************** end ***************************\n"
     ]
    },
    {
     "name": "stderr",
     "output_type": "stream",
     "text": [
      "Epoch:   4%|▍         | 4/100 [1:22:37<33:04:12, 1240.13s/it]"
     ]
    },
    {
     "name": "stdout",
     "output_type": "stream",
     "text": [
      "___________________________________________\n",
      "Epoch 4 Loss 0.0059131170 \n",
      "___________________________________________\n",
      "batch time =  1108.080291841994\n",
      "************************* start *************************\n",
      "Total % correct 88.75%\n",
      "test time =  126.15649091498926\n",
      "*************************** end ***************************\n"
     ]
    },
    {
     "name": "stderr",
     "output_type": "stream",
     "text": [
      "Epoch:   5%|▌         | 5/100 [1:43:16<32:42:55, 1239.74s/it]"
     ]
    },
    {
     "name": "stdout",
     "output_type": "stream",
     "text": [
      "___________________________________________\n",
      "Epoch 5 Loss 0.0033448641 \n",
      "___________________________________________\n",
      "batch time =  1107.5963382149348\n",
      "************************* start *************************\n",
      "Total % correct 91.33%\n",
      "test time =  125.72457941900939\n",
      "*************************** end ***************************\n"
     ]
    },
    {
     "name": "stderr",
     "output_type": "stream",
     "text": [
      "Epoch:   6%|▌         | 6/100 [2:03:54<32:21:21, 1239.17s/it]"
     ]
    },
    {
     "name": "stdout",
     "output_type": "stream",
     "text": [
      "___________________________________________\n",
      "Epoch 6 Loss 0.0008757513 \n",
      "___________________________________________\n",
      "batch time =  1107.204206796945\n",
      "************************* start *************************\n",
      "Total % correct 96.83%\n",
      "test time =  125.27529616910033\n",
      "*************************** end ***************************\n"
     ]
    },
    {
     "name": "stderr",
     "output_type": "stream",
     "text": [
      "Epoch:   7%|▋         | 7/100 [2:24:31<31:59:43, 1238.53s/it]"
     ]
    },
    {
     "name": "stdout",
     "output_type": "stream",
     "text": [
      "___________________________________________\n",
      "Epoch 7 Loss 0.1627686918 \n",
      "___________________________________________\n",
      "batch time =  1107.7805062900297\n",
      "************************* start *************************\n",
      "Total % correct 95.65%\n",
      "test time =  132.35767092101742\n",
      "*************************** end ***************************\n"
     ]
    },
    {
     "name": "stderr",
     "output_type": "stream",
     "text": [
      "Epoch:   8%|▊         | 8/100 [2:45:16<31:41:57, 1240.41s/it]"
     ]
    },
    {
     "name": "stdout",
     "output_type": "stream",
     "text": [
      "___________________________________________\n",
      "Epoch 8 Loss 0.0001295263 \n",
      "___________________________________________\n",
      "batch time =  1107.6162084850948\n",
      "************************* start *************************\n",
      "Total % correct 94.70%\n",
      "test time =  133.18435841600876\n",
      "*************************** end ***************************\n"
     ]
    },
    {
     "name": "stderr",
     "output_type": "stream",
     "text": [
      "Epoch:   9%|▉         | 9/100 [3:06:01<31:23:38, 1241.97s/it]"
     ]
    },
    {
     "name": "stdout",
     "output_type": "stream",
     "text": [
      "___________________________________________\n",
      "Epoch 9 Loss 0.0003669492 \n",
      "___________________________________________\n",
      "batch time =  1107.3229093489936\n",
      "************************* start *************************\n",
      "Total % correct 97.92%\n",
      "test time =  125.13457606604788\n",
      "*************************** end ***************************\n"
     ]
    },
    {
     "name": "stderr",
     "output_type": "stream",
     "text": [
      "Epoch:  10%|█         | 10/100 [3:26:38<31:00:41, 1240.46s/it]"
     ]
    },
    {
     "name": "stdout",
     "output_type": "stream",
     "text": [
      "___________________________________________\n",
      "Epoch 10 Loss 0.0008735129 \n",
      "___________________________________________\n",
      "batch time =  1108.4758516850416\n",
      "************************* start *************************\n",
      "Total % correct 94.60%\n",
      "test time =  125.96590073406696\n",
      "*************************** end ***************************\n"
     ]
    },
    {
     "name": "stderr",
     "output_type": "stream",
     "text": [
      "Epoch:  11%|█         | 11/100 [3:47:17<30:39:20, 1240.01s/it]"
     ]
    },
    {
     "name": "stdout",
     "output_type": "stream",
     "text": [
      "___________________________________________\n",
      "Epoch 11 Loss 0.0014461512 \n",
      "___________________________________________\n",
      "batch time =  1108.6819613219704\n",
      "************************* start *************************\n",
      "Total % correct 87.10%\n",
      "test time =  125.86779741500504\n",
      "*************************** end ***************************\n"
     ]
    },
    {
     "name": "stderr",
     "output_type": "stream",
     "text": [
      "Epoch:  12%|█▏        | 12/100 [4:07:56<30:18:15, 1239.73s/it]"
     ]
    },
    {
     "name": "stdout",
     "output_type": "stream",
     "text": [
      "___________________________________________\n",
      "Epoch 12 Loss 0.0000905897 \n",
      "___________________________________________\n",
      "batch time =  1130.105481567909\n",
      "************************* start *************************\n",
      "Total % correct 85.71%\n",
      "test time =  125.27778859296814\n",
      "*************************** end ***************************\n"
     ]
    },
    {
     "name": "stderr",
     "output_type": "stream",
     "text": [
      "Epoch:  13%|█▎        | 13/100 [4:28:56<30:06:24, 1245.80s/it]"
     ]
    },
    {
     "name": "stdout",
     "output_type": "stream",
     "text": [
      "___________________________________________\n",
      "Epoch 13 Loss 0.0004796609 \n",
      "___________________________________________\n",
      "batch time =  1104.4514194300864\n",
      "************************* start *************************\n",
      "Total % correct 78.07%\n",
      "test time =  125.9991155519383\n",
      "*************************** end ***************************\n"
     ]
    },
    {
     "name": "stderr",
     "output_type": "stream",
     "text": [
      "Epoch:  14%|█▍        | 14/100 [4:49:31<29:40:59, 1242.55s/it]"
     ]
    },
    {
     "name": "stdout",
     "output_type": "stream",
     "text": [
      "___________________________________________\n",
      "Epoch 14 Loss 0.0009798552 \n",
      "___________________________________________\n",
      "batch time =  1127.9961698750267\n",
      "************************* start *************************\n",
      "Total % correct 95.57%\n",
      "test time =  126.82122189702932\n",
      "*************************** end ***************************\n"
     ]
    },
    {
     "name": "stderr",
     "output_type": "stream",
     "text": [
      "Epoch:  15%|█▌        | 15/100 [5:10:31<29:27:25, 1247.59s/it]"
     ]
    },
    {
     "name": "stdout",
     "output_type": "stream",
     "text": [
      "___________________________________________\n",
      "Epoch 15 Loss 0.0005360670 \n",
      "___________________________________________\n",
      "batch time =  1103.2679648360936\n",
      "************************* start *************************\n",
      "Total % correct 99.95%\n",
      "test time =  125.66430370800663\n",
      "*************************** end ***************************\n"
     ]
    },
    {
     "name": "stderr",
     "output_type": "stream",
     "text": [
      "Epoch:  16%|█▌        | 16/100 [5:31:04<29:00:43, 1243.38s/it]"
     ]
    },
    {
     "name": "stdout",
     "output_type": "stream",
     "text": [
      "___________________________________________\n",
      "Epoch 16 Loss 0.0010819607 \n",
      "___________________________________________\n",
      "batch time =  1103.5062741260044\n",
      "************************* start *************************\n",
      "Total % correct 99.74%\n",
      "test time =  129.16208281891886\n",
      "*************************** end ***************************\n"
     ]
    },
    {
     "name": "stderr",
     "output_type": "stream",
     "text": [
      "Epoch:  17%|█▋        | 17/100 [5:51:41<28:37:27, 1241.53s/it]"
     ]
    },
    {
     "name": "stdout",
     "output_type": "stream",
     "text": [
      "___________________________________________\n",
      "Epoch 17 Loss 0.0008378274 \n",
      "___________________________________________\n",
      "batch time =  1103.0334696890786\n",
      "************************* start *************************\n",
      "Total % correct 92.27%\n",
      "test time =  128.6715936330147\n",
      "*************************** end ***************************\n"
     ]
    },
    {
     "name": "stderr",
     "output_type": "stream",
     "text": [
      "Epoch:  18%|█▊        | 18/100 [6:12:18<28:14:36, 1239.96s/it]"
     ]
    },
    {
     "name": "stdout",
     "output_type": "stream",
     "text": [
      "___________________________________________\n",
      "Epoch 18 Loss 0.0002638938 \n",
      "___________________________________________\n",
      "batch time =  1106.5505954290275\n",
      "************************* start *************************\n",
      "Total % correct 78.47%\n",
      "test time =  126.11705152899958\n",
      "*************************** end ***************************\n"
     ]
    },
    {
     "name": "stderr",
     "output_type": "stream",
     "text": [
      "Epoch:  19%|█▉        | 19/100 [6:32:55<27:52:48, 1239.12s/it]"
     ]
    },
    {
     "name": "stdout",
     "output_type": "stream",
     "text": [
      "___________________________________________\n",
      "Epoch 19 Loss 0.6696496010 \n",
      "___________________________________________\n",
      "batch time =  1107.2182827880606\n",
      "************************* start *************************\n",
      "Total % correct 85.96%\n",
      "test time =  125.10566720704082\n",
      "*************************** end ***************************\n"
     ]
    },
    {
     "name": "stderr",
     "output_type": "stream",
     "text": [
      "Epoch:  20%|██        | 20/100 [6:53:32<27:31:16, 1238.45s/it]"
     ]
    },
    {
     "name": "stdout",
     "output_type": "stream",
     "text": [
      "___________________________________________\n",
      "Epoch 20 Loss 0.0002829172 \n",
      "___________________________________________\n",
      "batch time =  1107.5880443870556\n",
      "************************* start *************************\n",
      "Total % correct 88.26%\n",
      "test time =  124.73302131693345\n",
      "*************************** end ***************************\n"
     ]
    },
    {
     "name": "stderr",
     "output_type": "stream",
     "text": [
      "Epoch:  21%|██        | 21/100 [7:14:09<27:09:59, 1237.97s/it]"
     ]
    },
    {
     "name": "stdout",
     "output_type": "stream",
     "text": [
      "___________________________________________\n",
      "Epoch 21 Loss 0.0000001714 \n",
      "___________________________________________\n",
      "batch time =  1109.3871320229955\n",
      "************************* start *************************\n",
      "Total % correct 95.43%\n",
      "test time =  129.39210927009117\n",
      "*************************** end ***************************\n"
     ]
    },
    {
     "name": "stderr",
     "output_type": "stream",
     "text": [
      "Epoch:  22%|██▏       | 22/100 [7:34:52<26:51:27, 1239.59s/it]"
     ]
    },
    {
     "name": "stdout",
     "output_type": "stream",
     "text": [
      "___________________________________________\n",
      "Epoch 22 Loss 0.0009318141 \n",
      "___________________________________________\n",
      "batch time =  1110.560001431033\n",
      "************************* start *************************\n",
      "Total % correct 82.88%\n",
      "test time =  126.03952819795813\n",
      "*************************** end ***************************\n"
     ]
    },
    {
     "name": "stderr",
     "output_type": "stream",
     "text": [
      "Epoch:  23%|██▎       | 23/100 [7:55:33<26:31:24, 1240.06s/it]"
     ]
    },
    {
     "name": "stdout",
     "output_type": "stream",
     "text": [
      "___________________________________________\n",
      "Epoch 23 Loss 0.0569526777 \n",
      "___________________________________________\n",
      "batch time =  1108.731621881947\n",
      "************************* start *************************\n",
      "Total % correct 83.00%\n",
      "test time =  125.16192544205114\n",
      "*************************** end ***************************\n"
     ]
    },
    {
     "name": "stderr",
     "output_type": "stream",
     "text": [
      "Epoch:  24%|██▍       | 24/100 [8:16:12<26:10:07, 1239.58s/it]"
     ]
    },
    {
     "name": "stdout",
     "output_type": "stream",
     "text": [
      "___________________________________________\n",
      "Epoch 24 Loss 0.0004207559 \n",
      "___________________________________________\n",
      "batch time =  1111.0165139620658\n",
      "************************* start *************************\n",
      "Total % correct 93.38%\n",
      "test time =  125.44900226499885\n",
      "*************************** end ***************************\n"
     ]
    },
    {
     "name": "stderr",
     "output_type": "stream",
     "text": [
      "Epoch:  25%|██▌       | 25/100 [8:36:53<25:50:01, 1240.01s/it]"
     ]
    },
    {
     "name": "stdout",
     "output_type": "stream",
     "text": [
      "___________________________________________\n",
      "Epoch 25 Loss 0.0004152502 \n",
      "___________________________________________\n",
      "batch time =  1108.5737635529367\n",
      "************************* start *************************\n",
      "Total % correct 99.55%\n",
      "test time =  125.41592342301738\n",
      "*************************** end ***************************\n"
     ]
    },
    {
     "name": "stderr",
     "output_type": "stream",
     "text": [
      "Epoch:  26%|██▌       | 26/100 [8:57:31<25:28:47, 1239.56s/it]"
     ]
    },
    {
     "name": "stdout",
     "output_type": "stream",
     "text": [
      "___________________________________________\n",
      "Epoch 26 Loss 0.0018320703 \n",
      "___________________________________________\n",
      "batch time =  1109.040849752957\n",
      "************************* start *************************\n",
      "Total % correct 91.99%\n",
      "test time =  126.1888304100139\n",
      "*************************** end ***************************\n"
     ]
    },
    {
     "name": "stderr",
     "output_type": "stream",
     "text": [
      "Epoch:  27%|██▋       | 27/100 [9:18:11<25:08:13, 1239.64s/it]"
     ]
    },
    {
     "name": "stdout",
     "output_type": "stream",
     "text": [
      "___________________________________________\n",
      "Epoch 27 Loss 0.0002275684 \n",
      "___________________________________________\n",
      "batch time =  1109.1697985080536\n",
      "************************* start *************************\n",
      "Total % correct 93.30%\n",
      "test time =  125.36981280392502\n",
      "*************************** end ***************************\n"
     ]
    },
    {
     "name": "stderr",
     "output_type": "stream",
     "text": [
      "Epoch:  28%|██▊       | 28/100 [9:38:50<24:47:23, 1239.49s/it]"
     ]
    },
    {
     "name": "stdout",
     "output_type": "stream",
     "text": [
      "___________________________________________\n",
      "Epoch 28 Loss 0.0011327236 \n",
      "___________________________________________\n",
      "batch time =  1109.959583997028\n",
      "************************* start *************************\n",
      "Total % correct 98.75%\n",
      "test time =  125.87658925307915\n",
      "*************************** end ***************************\n"
     ]
    },
    {
     "name": "stderr",
     "output_type": "stream",
     "text": [
      "Epoch:  29%|██▉       | 29/100 [9:59:31<24:27:03, 1239.77s/it]"
     ]
    },
    {
     "name": "stdout",
     "output_type": "stream",
     "text": [
      "___________________________________________\n",
      "Epoch 29 Loss 0.0021999213 \n",
      "___________________________________________\n",
      "batch time =  1108.974402675056\n",
      "************************* start *************************\n",
      "Total % correct 86.73%\n",
      "test time =  125.39855393196922\n",
      "*************************** end ***************************\n"
     ]
    },
    {
     "name": "stderr",
     "output_type": "stream",
     "text": [
      "Epoch:  30%|███       | 30/100 [10:20:10<24:06:08, 1239.55s/it]"
     ]
    },
    {
     "name": "stdout",
     "output_type": "stream",
     "text": [
      "___________________________________________\n",
      "Epoch 30 Loss 0.0003583076 \n",
      "___________________________________________\n",
      "batch time =  1162.191817124025\n",
      "************************* start *************************\n",
      "Total % correct 98.36%\n",
      "test time =  141.450208368944\n",
      "*************************** end ***************************\n"
     ]
    },
    {
     "name": "stderr",
     "output_type": "stream",
     "text": [
      "Epoch:  31%|███       | 31/100 [10:41:58<24:09:12, 1260.18s/it]"
     ]
    },
    {
     "name": "stdout",
     "output_type": "stream",
     "text": [
      "___________________________________________\n",
      "Epoch 31 Loss 0.0020389338 \n",
      "___________________________________________\n",
      "batch time =  1133.8189413029468\n",
      "************************* start *************************\n",
      "Total % correct 90.10%\n",
      "test time =  125.34680631395895\n",
      "*************************** end ***************************\n"
     ]
    },
    {
     "name": "stderr",
     "output_type": "stream",
     "text": [
      "Epoch:  32%|███▏      | 32/100 [11:03:02<23:49:25, 1261.25s/it]"
     ]
    },
    {
     "name": "stdout",
     "output_type": "stream",
     "text": [
      "___________________________________________\n",
      "Epoch 32 Loss 0.0004077766 \n",
      "___________________________________________\n",
      "batch time =  1105.6304520670092\n",
      "************************* start *************************\n",
      "Total % correct 94.67%\n",
      "test time =  125.22016190900467\n",
      "*************************** end ***************************\n"
     ]
    },
    {
     "name": "stderr",
     "output_type": "stream",
     "text": [
      "Epoch:  33%|███▎      | 33/100 [11:23:37<23:19:44, 1253.50s/it]"
     ]
    },
    {
     "name": "stdout",
     "output_type": "stream",
     "text": [
      "___________________________________________\n",
      "Epoch 33 Loss 0.0008689926 \n",
      "___________________________________________\n",
      "batch time =  1104.898483568919\n",
      "************************* start *************************\n",
      "Total % correct 93.41%\n",
      "test time =  125.72320505301468\n",
      "*************************** end ***************************\n"
     ]
    },
    {
     "name": "stderr",
     "output_type": "stream",
     "text": [
      "Epoch:  34%|███▍      | 34/100 [11:44:12<22:52:48, 1248.00s/it]"
     ]
    },
    {
     "name": "stdout",
     "output_type": "stream",
     "text": [
      "___________________________________________\n",
      "Epoch 34 Loss 0.0006263592 \n",
      "___________________________________________\n",
      "batch time =  1104.7545517560793\n",
      "************************* start *************************\n",
      "Total % correct 99.84%\n",
      "test time =  125.51923802902456\n",
      "*************************** end ***************************\n"
     ]
    },
    {
     "name": "stderr",
     "output_type": "stream",
     "text": [
      "Epoch:  35%|███▌      | 35/100 [12:04:47<22:27:43, 1244.06s/it]"
     ]
    },
    {
     "name": "stdout",
     "output_type": "stream",
     "text": [
      "___________________________________________\n",
      "Epoch 35 Loss 0.0001054228 \n",
      "___________________________________________\n",
      "batch time =  1104.5419984980254\n",
      "************************* start *************************\n",
      "Total % correct 99.85%\n",
      "test time =  125.36550846800674\n",
      "*************************** end ***************************\n"
     ]
    },
    {
     "name": "stderr",
     "output_type": "stream",
     "text": [
      "Epoch:  36%|███▌      | 36/100 [12:25:21<22:03:54, 1241.17s/it]"
     ]
    },
    {
     "name": "stdout",
     "output_type": "stream",
     "text": [
      "___________________________________________\n",
      "Epoch 36 Loss 0.0005813206 \n",
      "___________________________________________\n",
      "batch time =  1103.677523522987\n",
      "************************* start *************************\n",
      "Total % correct 99.80%\n",
      "test time =  125.17673139995895\n",
      "*************************** end ***************************\n"
     ]
    },
    {
     "name": "stderr",
     "output_type": "stream",
     "text": [
      "Epoch:  37%|███▋      | 37/100 [12:45:55<21:40:49, 1238.88s/it]"
     ]
    },
    {
     "name": "stdout",
     "output_type": "stream",
     "text": [
      "___________________________________________\n",
      "Epoch 37 Loss 0.0019490073 \n",
      "___________________________________________\n",
      "batch time =  1102.8599827750586\n",
      "************************* start *************************\n",
      "Total % correct 99.75%\n",
      "test time =  125.54226774501149\n",
      "*************************** end ***************************\n"
     ]
    },
    {
     "name": "stderr",
     "output_type": "stream",
     "text": [
      "Epoch:  38%|███▊      | 38/100 [13:06:28<21:18:20, 1237.10s/it]"
     ]
    },
    {
     "name": "stdout",
     "output_type": "stream",
     "text": [
      "___________________________________________\n",
      "Epoch 38 Loss 0.0002531307 \n",
      "___________________________________________\n",
      "batch time =  1102.696850772947\n",
      "************************* start *************************\n",
      "Total % correct 93.10%\n",
      "test time =  125.4192094290629\n",
      "*************************** end ***************************\n"
     ]
    },
    {
     "name": "stderr",
     "output_type": "stream",
     "text": [
      "Epoch:  39%|███▉      | 39/100 [13:27:01<20:56:21, 1235.76s/it]"
     ]
    },
    {
     "name": "stdout",
     "output_type": "stream",
     "text": [
      "___________________________________________\n",
      "Epoch 39 Loss 0.0000130334 \n",
      "___________________________________________\n",
      "batch time =  1103.5461874769535\n",
      "************************* start *************************\n",
      "Total % correct 99.75%\n",
      "test time =  125.15054872701876\n",
      "*************************** end ***************************\n"
     ]
    },
    {
     "name": "stderr",
     "output_type": "stream",
     "text": [
      "Epoch:  40%|████      | 40/100 [13:47:34<20:35:00, 1235.01s/it]"
     ]
    },
    {
     "name": "stdout",
     "output_type": "stream",
     "text": [
      "___________________________________________\n",
      "Epoch 40 Loss 0.0006716900 \n",
      "___________________________________________\n",
      "batch time =  1104.5869440560928\n",
      "************************* start *************************\n",
      "Total % correct 99.18%\n",
      "test time =  125.03446961403824\n",
      "*************************** end ***************************\n"
     ]
    },
    {
     "name": "stderr",
     "output_type": "stream",
     "text": [
      "Epoch:  41%|████      | 41/100 [14:08:08<20:14:11, 1234.78s/it]"
     ]
    },
    {
     "name": "stdout",
     "output_type": "stream",
     "text": [
      "___________________________________________\n",
      "Epoch 41 Loss 0.0009552422 \n",
      "___________________________________________\n",
      "batch time =  1102.7538268800126\n",
      "************************* start *************************\n",
      "Total % correct 98.57%\n",
      "test time =  125.94199328206014\n",
      "*************************** end ***************************\n"
     ]
    },
    {
     "name": "stderr",
     "output_type": "stream",
     "text": [
      "Epoch:  42%|████▏     | 42/100 [14:28:41<19:53:09, 1234.31s/it]"
     ]
    },
    {
     "name": "stdout",
     "output_type": "stream",
     "text": [
      "___________________________________________\n",
      "Epoch 42 Loss 0.0000004582 \n",
      "___________________________________________\n",
      "batch time =  1101.4606802189955\n",
      "************************* start *************************\n",
      "Total % correct 99.70%\n",
      "test time =  125.17596270807553\n",
      "*************************** end ***************************\n"
     ]
    },
    {
     "name": "stderr",
     "output_type": "stream",
     "text": [
      "Epoch:  43%|████▎     | 43/100 [14:49:13<19:31:42, 1233.38s/it]"
     ]
    },
    {
     "name": "stdout",
     "output_type": "stream",
     "text": [
      "___________________________________________\n",
      "Epoch 43 Loss 0.0023927488 \n",
      "___________________________________________\n",
      "batch time =  1100.574607465067\n",
      "************************* start *************************\n",
      "Total % correct 99.60%\n",
      "test time =  125.47081447707023\n",
      "*************************** end ***************************\n"
     ]
    },
    {
     "name": "stderr",
     "output_type": "stream",
     "text": [
      "Epoch:  44%|████▍     | 44/100 [15:09:43<19:10:22, 1232.55s/it]"
     ]
    },
    {
     "name": "stdout",
     "output_type": "stream",
     "text": [
      "___________________________________________\n",
      "Epoch 44 Loss 0.0022115759 \n",
      "___________________________________________\n",
      "batch time =  1102.568010839983\n",
      "************************* start *************************\n",
      "Total % correct 92.92%\n",
      "test time =  125.87070101196878\n",
      "*************************** end ***************************\n"
     ]
    },
    {
     "name": "stderr",
     "output_type": "stream",
     "text": [
      "Epoch:  45%|████▌     | 45/100 [15:30:16<18:49:57, 1232.68s/it]"
     ]
    },
    {
     "name": "stdout",
     "output_type": "stream",
     "text": [
      "___________________________________________\n",
      "Epoch 45 Loss 0.0001643818 \n",
      "___________________________________________\n",
      "batch time =  1101.2620600410737\n",
      "************************* start *************************\n",
      "Total % correct 97.32%\n",
      "test time =  125.86978241393808\n",
      "*************************** end ***************************\n"
     ]
    },
    {
     "name": "stderr",
     "output_type": "stream",
     "text": [
      "Epoch:  46%|████▌     | 46/100 [15:50:47<18:29:01, 1232.25s/it]"
     ]
    },
    {
     "name": "stdout",
     "output_type": "stream",
     "text": [
      "___________________________________________\n",
      "Epoch 46 Loss 0.0010091270 \n",
      "___________________________________________\n",
      "batch time =  1102.24427402101\n",
      "************************* start *************************\n",
      "Total % correct 91.28%\n",
      "test time =  125.31691762397531\n",
      "*************************** end ***************************\n"
     ]
    },
    {
     "name": "stderr",
     "output_type": "stream",
     "text": [
      "Epoch:  47%|████▋     | 47/100 [16:11:20<18:08:27, 1232.22s/it]"
     ]
    },
    {
     "name": "stdout",
     "output_type": "stream",
     "text": [
      "___________________________________________\n",
      "Epoch 47 Loss 0.0003068913 \n",
      "___________________________________________\n",
      "batch time =  1102.5224333680235\n",
      "************************* start *************************\n",
      "Total % correct 91.30%\n",
      "test time =  125.19179890304804\n",
      "*************************** end ***************************\n"
     ]
    },
    {
     "name": "stderr",
     "output_type": "stream",
     "text": [
      "Epoch:  48%|████▊     | 48/100 [16:31:52<17:47:57, 1232.26s/it]"
     ]
    },
    {
     "name": "stdout",
     "output_type": "stream",
     "text": [
      "___________________________________________\n",
      "Epoch 48 Loss 0.4256225824 \n",
      "___________________________________________\n",
      "batch time =  1100.8535335739143\n",
      "************************* start *************************\n",
      "Total % correct 99.09%\n",
      "test time =  125.08312254492193\n",
      "*************************** end ***************************\n"
     ]
    },
    {
     "name": "stderr",
     "output_type": "stream",
     "text": [
      "Epoch:  49%|████▉     | 49/100 [16:52:22<17:26:57, 1231.71s/it]"
     ]
    },
    {
     "name": "stdout",
     "output_type": "stream",
     "text": [
      "___________________________________________\n",
      "Epoch 49 Loss 0.0000000075 \n",
      "___________________________________________\n",
      "batch time =  1101.9867617629934\n",
      "************************* start *************************\n",
      "Total % correct 97.65%\n",
      "test time =  125.09751832997426\n",
      "*************************** end ***************************\n"
     ]
    },
    {
     "name": "stderr",
     "output_type": "stream",
     "text": [
      "Epoch:  50%|█████     | 50/100 [17:12:54<17:06:26, 1231.72s/it]"
     ]
    },
    {
     "name": "stdout",
     "output_type": "stream",
     "text": [
      "___________________________________________\n",
      "Epoch 50 Loss 0.0004142931 \n",
      "___________________________________________\n",
      "batch time =  1102.3835971399676\n",
      "************************* start *************************\n",
      "Total % correct 89.07%\n",
      "test time =  128.53619227104355\n",
      "*************************** end ***************************\n"
     ]
    },
    {
     "name": "stderr",
     "output_type": "stream",
     "text": [
      "Epoch:  51%|█████     | 51/100 [17:33:30<16:46:49, 1232.85s/it]"
     ]
    },
    {
     "name": "stdout",
     "output_type": "stream",
     "text": [
      "___________________________________________\n",
      "Epoch 51 Loss 0.0000952222 \n",
      "___________________________________________\n",
      "batch time =  1102.512482005055\n",
      "************************* start *************************\n",
      "Total % correct 99.12%\n",
      "test time =  125.15734927996527\n",
      "*************************** end ***************************\n"
     ]
    },
    {
     "name": "stderr",
     "output_type": "stream",
     "text": [
      "Epoch:  52%|█████▏    | 52/100 [17:54:02<16:26:06, 1232.64s/it]"
     ]
    },
    {
     "name": "stdout",
     "output_type": "stream",
     "text": [
      "___________________________________________\n",
      "Epoch 52 Loss 0.0005226345 \n",
      "___________________________________________\n",
      "batch time =  1103.3651504829759\n",
      "************************* start *************************\n",
      "Total % correct 99.58%\n",
      "test time =  125.61422193597537\n",
      "*************************** end ***************************\n"
     ]
    },
    {
     "name": "stderr",
     "output_type": "stream",
     "text": [
      "Epoch:  53%|█████▎    | 53/100 [18:14:35<16:05:45, 1232.89s/it]"
     ]
    },
    {
     "name": "stdout",
     "output_type": "stream",
     "text": [
      "___________________________________________\n",
      "Epoch 53 Loss 0.0002300162 \n",
      "___________________________________________\n",
      "batch time =  1100.6503592650406\n",
      "************************* start *************************\n",
      "Total % correct 99.88%\n",
      "test time =  125.7477480819216\n",
      "*************************** end ***************************\n"
     ]
    },
    {
     "name": "stderr",
     "output_type": "stream",
     "text": [
      "Epoch:  54%|█████▍    | 54/100 [18:35:06<15:44:47, 1232.35s/it]"
     ]
    },
    {
     "name": "stdout",
     "output_type": "stream",
     "text": [
      "___________________________________________\n",
      "Epoch 54 Loss 0.0015121112 \n",
      "___________________________________________\n",
      "batch time =  1101.4798629389843\n",
      "************************* start *************************\n",
      "Total % correct 97.25%\n",
      "test time =  125.433809078997\n",
      "*************************** end ***************************\n"
     ]
    },
    {
     "name": "stderr",
     "output_type": "stream",
     "text": [
      "Epoch:  55%|█████▌    | 55/100 [18:55:38<15:24:04, 1232.10s/it]"
     ]
    },
    {
     "name": "stdout",
     "output_type": "stream",
     "text": [
      "___________________________________________\n",
      "Epoch 55 Loss 0.0006841668 \n",
      "___________________________________________\n",
      "batch time =  1101.580207010964\n",
      "************************* start *************************\n",
      "Total % correct 99.75%\n",
      "test time =  125.7700446229428\n",
      "*************************** end ***************************\n"
     ]
    },
    {
     "name": "stderr",
     "output_type": "stream",
     "text": [
      "Epoch:  56%|█████▌    | 56/100 [19:16:10<15:03:30, 1232.05s/it]"
     ]
    },
    {
     "name": "stdout",
     "output_type": "stream",
     "text": [
      "___________________________________________\n",
      "Epoch 56 Loss 0.0003266070 \n",
      "___________________________________________\n",
      "batch time =  1101.0144413309172\n",
      "************************* start *************************\n",
      "Total % correct 99.88%\n",
      "test time =  125.79154668399133\n",
      "*************************** end ***************************\n"
     ]
    },
    {
     "name": "stderr",
     "output_type": "stream",
     "text": [
      "Epoch:  57%|█████▋    | 57/100 [19:36:41<14:42:49, 1231.85s/it]"
     ]
    },
    {
     "name": "stdout",
     "output_type": "stream",
     "text": [
      "___________________________________________\n",
      "Epoch 57 Loss 0.0003035228 \n",
      "___________________________________________\n",
      "batch time =  1102.807313230005\n",
      "************************* start *************************\n",
      "Total % correct 98.92%\n",
      "test time =  124.98740868910681\n",
      "*************************** end ***************************\n"
     ]
    },
    {
     "name": "stderr",
     "output_type": "stream",
     "text": [
      "Epoch:  58%|█████▊    | 58/100 [19:57:13<14:22:24, 1232.01s/it]"
     ]
    },
    {
     "name": "stdout",
     "output_type": "stream",
     "text": [
      "___________________________________________\n",
      "Epoch 58 Loss 0.0005579746 \n",
      "___________________________________________\n",
      "batch time =  1101.7773752970388\n",
      "************************* start *************************\n",
      "Total % correct 99.87%\n",
      "test time =  125.37676375103183\n",
      "*************************** end ***************************\n"
     ]
    },
    {
     "name": "stderr",
     "output_type": "stream",
     "text": [
      "Epoch:  59%|█████▉    | 59/100 [20:17:45<14:01:48, 1231.91s/it]"
     ]
    },
    {
     "name": "stdout",
     "output_type": "stream",
     "text": [
      "___________________________________________\n",
      "Epoch 59 Loss 0.0004828738 \n",
      "___________________________________________\n",
      "batch time =  1101.1578968890244\n",
      "************************* start *************************\n",
      "Total % correct 99.22%\n",
      "test time =  126.10501712700352\n",
      "*************************** end ***************************\n"
     ]
    },
    {
     "name": "stderr",
     "output_type": "stream",
     "text": [
      "Epoch:  60%|██████    | 60/100 [20:38:17<13:41:15, 1231.89s/it]"
     ]
    },
    {
     "name": "stdout",
     "output_type": "stream",
     "text": [
      "___________________________________________\n",
      "Epoch 60 Loss 0.0002252133 \n",
      "___________________________________________\n",
      "batch time =  1102.797838869039\n",
      "************************* start *************************\n",
      "Total % correct 98.96%\n",
      "test time =  125.40812164300587\n",
      "*************************** end ***************************\n"
     ]
    },
    {
     "name": "stderr",
     "output_type": "stream",
     "text": [
      "Epoch:  61%|██████    | 61/100 [20:58:50<13:20:54, 1232.16s/it]"
     ]
    },
    {
     "name": "stdout",
     "output_type": "stream",
     "text": [
      "___________________________________________\n",
      "Epoch 61 Loss 0.0027688467 \n",
      "___________________________________________\n",
      "batch time =  1105.532999468036\n",
      "************************* start *************************\n",
      "Total % correct 99.87%\n",
      "test time =  125.71199456893373\n",
      "*************************** end ***************************\n"
     ]
    },
    {
     "name": "stderr",
     "output_type": "stream",
     "text": [
      "Epoch:  62%|██████▏   | 62/100 [21:19:26<13:01:03, 1233.24s/it]"
     ]
    },
    {
     "name": "stdout",
     "output_type": "stream",
     "text": [
      "___________________________________________\n",
      "Epoch 62 Loss 0.0003194641 \n",
      "___________________________________________\n",
      "batch time =  1103.0834477220196\n",
      "************************* start *************************\n",
      "Total % correct 99.70%\n",
      "test time =  125.93780199799221\n",
      "*************************** end ***************************\n"
     ]
    },
    {
     "name": "stderr",
     "output_type": "stream",
     "text": [
      "Epoch:  63%|██████▎   | 63/100 [21:39:59<12:40:33, 1233.35s/it]"
     ]
    },
    {
     "name": "stdout",
     "output_type": "stream",
     "text": [
      "___________________________________________\n",
      "Epoch 63 Loss 0.0005352529 \n",
      "___________________________________________\n",
      "batch time =  1102.783228329965\n",
      "************************* start *************************\n",
      "Total % correct 99.83%\n",
      "test time =  125.6604703089688\n",
      "*************************** end ***************************\n"
     ]
    },
    {
     "name": "stderr",
     "output_type": "stream",
     "text": [
      "Epoch:  64%|██████▍   | 64/100 [22:00:32<12:19:57, 1233.26s/it]"
     ]
    },
    {
     "name": "stdout",
     "output_type": "stream",
     "text": [
      "___________________________________________\n",
      "Epoch 64 Loss 0.0004164532 \n",
      "___________________________________________\n",
      "batch time =  1103.0783532519126\n",
      "************************* start *************************\n",
      "Total % correct 99.89%\n",
      "test time =  125.87437179498374\n",
      "*************************** end ***************************\n"
     ]
    },
    {
     "name": "stderr",
     "output_type": "stream",
     "text": [
      "Epoch:  65%|██████▌   | 65/100 [22:21:06<11:59:27, 1233.35s/it]"
     ]
    },
    {
     "name": "stdout",
     "output_type": "stream",
     "text": [
      "___________________________________________\n",
      "Epoch 65 Loss 0.0006353123 \n",
      "___________________________________________\n",
      "batch time =  1103.3797879690537\n",
      "************************* start *************************\n",
      "Total % correct 99.83%\n",
      "test time =  125.53351072594523\n",
      "*************************** end ***************************\n"
     ]
    },
    {
     "name": "stderr",
     "output_type": "stream",
     "text": [
      "Epoch:  66%|██████▌   | 66/100 [22:41:39<11:38:55, 1233.41s/it]"
     ]
    },
    {
     "name": "stdout",
     "output_type": "stream",
     "text": [
      "___________________________________________\n",
      "Epoch 66 Loss 0.0008324089 \n",
      "___________________________________________\n",
      "batch time =  1101.860918913968\n",
      "************************* start *************************\n",
      "Total % correct 93.08%\n",
      "test time =  126.38547888607718\n",
      "*************************** end ***************************\n"
     ]
    },
    {
     "name": "stderr",
     "output_type": "stream",
     "text": [
      "Epoch:  67%|██████▋   | 67/100 [23:02:12<11:18:16, 1233.24s/it]"
     ]
    },
    {
     "name": "stdout",
     "output_type": "stream",
     "text": [
      "___________________________________________\n",
      "Epoch 67 Loss 1.1563543081 \n",
      "___________________________________________\n",
      "batch time =  1103.084130704985\n",
      "************************* start *************************\n",
      "Total % correct 91.30%\n",
      "test time =  125.62517343903892\n",
      "*************************** end ***************************\n"
     ]
    },
    {
     "name": "stderr",
     "output_type": "stream",
     "text": [
      "Epoch:  68%|██████▊   | 68/100 [23:22:45<10:57:43, 1233.23s/it]"
     ]
    },
    {
     "name": "stdout",
     "output_type": "stream",
     "text": [
      "___________________________________________\n",
      "Epoch 68 Loss 0.0013395784 \n",
      "___________________________________________\n",
      "batch time =  1104.22832759202\n",
      "************************* start *************************\n",
      "Total % correct 87.88%\n",
      "test time =  127.69513711507898\n",
      "*************************** end ***************************\n"
     ]
    },
    {
     "name": "stderr",
     "output_type": "stream",
     "text": [
      "Epoch:  69%|██████▉   | 69/100 [23:43:22<10:37:40, 1234.22s/it]"
     ]
    },
    {
     "name": "stdout",
     "output_type": "stream",
     "text": [
      "___________________________________________\n",
      "Epoch 69 Loss 0.0000550039 \n",
      "___________________________________________\n",
      "batch time =  1104.0246884959051\n",
      "************************* start *************************\n",
      "Total % correct 97.28%\n",
      "test time =  125.40460072993301\n",
      "*************************** end ***************************\n"
     ]
    },
    {
     "name": "stderr",
     "output_type": "stream",
     "text": [
      "Epoch:  70%|███████   | 70/100 [24:03:56<10:17:04, 1234.15s/it]"
     ]
    },
    {
     "name": "stdout",
     "output_type": "stream",
     "text": [
      "___________________________________________\n",
      "Epoch 70 Loss 0.0002852657 \n",
      "___________________________________________\n",
      "batch time =  1103.6538141519995\n",
      "************************* start *************************\n",
      "Total % correct 99.20%\n",
      "test time =  125.61837821197696\n",
      "*************************** end ***************************\n"
     ]
    },
    {
     "name": "stderr",
     "output_type": "stream",
     "text": [
      "Epoch:  71%|███████   | 71/100 [24:24:30<9:56:27, 1234.06s/it] "
     ]
    },
    {
     "name": "stdout",
     "output_type": "stream",
     "text": [
      "___________________________________________\n",
      "Epoch 71 Loss 0.0005953246 \n",
      "___________________________________________\n",
      "batch time =  1104.0381165980361\n",
      "************************* start *************************\n",
      "Total % correct 99.91%\n",
      "test time =  125.47572239104193\n",
      "*************************** end ***************************\n"
     ]
    },
    {
     "name": "stderr",
     "output_type": "stream",
     "text": [
      "Epoch:  72%|███████▏  | 72/100 [24:45:04<9:35:54, 1234.08s/it]"
     ]
    },
    {
     "name": "stdout",
     "output_type": "stream",
     "text": [
      "___________________________________________\n",
      "Epoch 72 Loss 0.0006707684 \n",
      "___________________________________________\n",
      "batch time =  1101.7119441250106\n",
      "************************* start *************************\n",
      "Total % correct 99.90%\n",
      "test time =  125.72806242795195\n",
      "*************************** end ***************************\n"
     ]
    },
    {
     "name": "stderr",
     "output_type": "stream",
     "text": [
      "Epoch:  73%|███████▎  | 73/100 [25:05:36<9:15:03, 1233.45s/it]"
     ]
    },
    {
     "name": "stdout",
     "output_type": "stream",
     "text": [
      "___________________________________________\n",
      "Epoch 73 Loss 0.0005522131 \n",
      "___________________________________________\n",
      "batch time =  1114.1308895810507\n",
      "************************* start *************************\n",
      "Total % correct 99.88%\n",
      "test time =  129.80624084698502\n",
      "*************************** end ***************************\n"
     ]
    },
    {
     "name": "stderr",
     "output_type": "stream",
     "text": [
      "Epoch:  74%|███████▍  | 74/100 [25:26:24<8:56:27, 1237.99s/it]"
     ]
    },
    {
     "name": "stdout",
     "output_type": "stream",
     "text": [
      "___________________________________________\n",
      "Epoch 74 Loss 0.0003507361 \n",
      "___________________________________________\n",
      "batch time =  1101.0526115259854\n",
      "************************* start *************************\n",
      "Total % correct 99.88%\n",
      "test time =  124.92771248903591\n",
      "*************************** end ***************************\n"
     ]
    },
    {
     "name": "stderr",
     "output_type": "stream",
     "text": [
      "Epoch:  75%|███████▌  | 75/100 [25:46:55<8:34:54, 1235.79s/it]"
     ]
    },
    {
     "name": "stdout",
     "output_type": "stream",
     "text": [
      "___________________________________________\n",
      "Epoch 75 Loss 0.0022089148 \n",
      "___________________________________________\n",
      "batch time =  1097.9752997210016\n",
      "************************* start *************************\n",
      "Total % correct 99.81%\n",
      "test time =  125.23938082205132\n",
      "*************************** end ***************************\n"
     ]
    },
    {
     "name": "stderr",
     "output_type": "stream",
     "text": [
      "Epoch:  76%|███████▌  | 76/100 [26:07:23<8:13:20, 1233.36s/it]"
     ]
    },
    {
     "name": "stdout",
     "output_type": "stream",
     "text": [
      "___________________________________________\n",
      "Epoch 76 Loss 0.0012518283 \n",
      "___________________________________________\n",
      "batch time =  1099.302128413925\n",
      "************************* start *************************\n",
      "Total % correct 99.02%\n",
      "test time =  125.35982315894216\n",
      "*************************** end ***************************\n"
     ]
    },
    {
     "name": "stderr",
     "output_type": "stream",
     "text": [
      "Epoch:  77%|███████▋  | 77/100 [26:27:52<7:52:19, 1232.14s/it]"
     ]
    },
    {
     "name": "stdout",
     "output_type": "stream",
     "text": [
      "___________________________________________\n",
      "Epoch 77 Loss 0.0000000000 \n",
      "___________________________________________\n",
      "batch time =  1100.770815417054\n",
      "************************* start *************************\n",
      "Total % correct 97.98%\n",
      "test time =  125.38615479099099\n",
      "*************************** end ***************************\n"
     ]
    },
    {
     "name": "stderr",
     "output_type": "stream",
     "text": [
      "Epoch:  78%|███████▊  | 78/100 [26:48:23<7:31:37, 1231.72s/it]"
     ]
    },
    {
     "name": "stdout",
     "output_type": "stream",
     "text": [
      "___________________________________________\n",
      "Epoch 78 Loss 0.0004269813 \n",
      "___________________________________________\n",
      "batch time =  1101.0959734719945\n",
      "************************* start *************************\n",
      "Total % correct 98.89%\n",
      "test time =  125.24008418002632\n",
      "*************************** end ***************************\n"
     ]
    },
    {
     "name": "stderr",
     "output_type": "stream",
     "text": [
      "Epoch:  79%|███████▉  | 79/100 [27:08:54<7:11:01, 1231.48s/it]"
     ]
    },
    {
     "name": "stdout",
     "output_type": "stream",
     "text": [
      "___________________________________________\n",
      "Epoch 79 Loss 0.0006029154 \n",
      "___________________________________________\n",
      "batch time =  1104.968682736042\n",
      "************************* start *************************\n",
      "Total % correct 99.78%\n",
      "test time =  124.82185732200742\n",
      "*************************** end ***************************\n"
     ]
    },
    {
     "name": "stderr",
     "output_type": "stream",
     "text": [
      "Epoch:  80%|████████  | 80/100 [27:29:28<6:50:46, 1232.31s/it]"
     ]
    },
    {
     "name": "stdout",
     "output_type": "stream",
     "text": [
      "___________________________________________\n",
      "Epoch 80 Loss 0.0006816168 \n",
      "___________________________________________\n",
      "batch time =  1108.5694439860526\n",
      "************************* start *************************\n",
      "Total % correct 99.88%\n",
      "test time =  125.91794604097959\n",
      "*************************** end ***************************\n"
     ]
    },
    {
     "name": "stderr",
     "output_type": "stream",
     "text": [
      "Epoch:  81%|████████  | 81/100 [27:50:07<6:30:52, 1234.32s/it]"
     ]
    },
    {
     "name": "stdout",
     "output_type": "stream",
     "text": [
      "___________________________________________\n",
      "Epoch 81 Loss 0.0001103752 \n",
      "___________________________________________\n",
      "batch time =  1110.3000967199914\n",
      "************************* start *************************\n",
      "Total % correct 97.24%\n",
      "test time =  125.63383807102218\n",
      "*************************** end ***************************\n"
     ]
    },
    {
     "name": "stderr",
     "output_type": "stream",
     "text": [
      "Epoch:  82%|████████▏ | 82/100 [28:10:47<6:10:50, 1236.16s/it]"
     ]
    },
    {
     "name": "stdout",
     "output_type": "stream",
     "text": [
      "___________________________________________\n",
      "Epoch 82 Loss 0.0011595746 \n",
      "___________________________________________\n",
      "batch time =  1081.1755701509537\n",
      "************************* start *************************\n",
      "Total % correct 90.35%\n",
      "test time =  121.4426099100383\n",
      "*************************** end ***************************\n"
     ]
    },
    {
     "name": "stderr",
     "output_type": "stream",
     "text": [
      "Epoch:  83%|████████▎ | 83/100 [28:30:54<5:47:45, 1227.40s/it]"
     ]
    },
    {
     "name": "stdout",
     "output_type": "stream",
     "text": [
      "___________________________________________\n",
      "Epoch 83 Loss 0.0011682971 \n",
      "___________________________________________\n",
      "batch time =  1070.2141601850744\n",
      "************************* start *************************\n",
      "Total % correct 99.53%\n",
      "test time =  128.96991472202353\n",
      "*************************** end ***************************\n"
     ]
    },
    {
     "name": "stderr",
     "output_type": "stream",
     "text": [
      "Epoch:  84%|████████▍ | 84/100 [28:50:58<5:25:23, 1220.25s/it]"
     ]
    },
    {
     "name": "stdout",
     "output_type": "stream",
     "text": [
      "___________________________________________\n",
      "Epoch 84 Loss 0.0002123089 \n",
      "___________________________________________\n",
      "batch time =  1082.369946490042\n",
      "************************* start *************************\n",
      "Total % correct 90.72%\n",
      "test time =  124.93873396306299\n",
      "*************************** end ***************************\n"
     ]
    },
    {
     "name": "stderr",
     "output_type": "stream",
     "text": [
      "Epoch:  85%|████████▌ | 85/100 [29:11:10<5:04:25, 1217.72s/it]"
     ]
    },
    {
     "name": "stdout",
     "output_type": "stream",
     "text": [
      "___________________________________________\n",
      "Epoch 85 Loss 0.0002592926 \n",
      "___________________________________________\n",
      "batch time =  1084.4263009759597\n",
      "************************* start *************************\n",
      "Total % correct 99.65%\n",
      "test time =  123.42586393794045\n",
      "*************************** end ***************************\n"
     ]
    },
    {
     "name": "stderr",
     "output_type": "stream",
     "text": [
      "Epoch:  86%|████████▌ | 86/100 [29:31:22<4:43:44, 1216.01s/it]"
     ]
    },
    {
     "name": "stdout",
     "output_type": "stream",
     "text": [
      "___________________________________________\n",
      "Epoch 86 Loss 0.0001510933 \n",
      "___________________________________________\n",
      "batch time =  1071.0456288049463\n",
      "************************* start *************************\n",
      "Total % correct 94.62%\n",
      "test time =  120.60909206198994\n",
      "*************************** end ***************************\n"
     ]
    },
    {
     "name": "stderr",
     "output_type": "stream",
     "text": [
      "Epoch:  87%|████████▋ | 87/100 [29:51:18<4:22:10, 1210.02s/it]"
     ]
    },
    {
     "name": "stdout",
     "output_type": "stream",
     "text": [
      "___________________________________________\n",
      "Epoch 87 Loss 0.0028698933 \n",
      "___________________________________________\n",
      "batch time =  1051.2333643559832\n",
      "************************* start *************************\n",
      "Total % correct 93.17%\n",
      "test time =  120.65160865196958\n",
      "*************************** end ***************************\n"
     ]
    },
    {
     "name": "stderr",
     "output_type": "stream",
     "text": [
      "Epoch:  88%|████████▊ | 88/100 [30:10:54<3:59:58, 1199.87s/it]"
     ]
    },
    {
     "name": "stdout",
     "output_type": "stream",
     "text": [
      "___________________________________________\n",
      "Epoch 88 Loss 0.0015367088 \n",
      "___________________________________________\n",
      "batch time =  1054.5317884570686\n",
      "************************* start *************************\n",
      "Total % correct 86.18%\n",
      "test time =  120.30533924000338\n",
      "*************************** end ***************************\n"
     ]
    },
    {
     "name": "stderr",
     "output_type": "stream",
     "text": [
      "Epoch:  89%|████████▉ | 89/100 [30:30:33<3:38:50, 1193.67s/it]"
     ]
    },
    {
     "name": "stdout",
     "output_type": "stream",
     "text": [
      "___________________________________________\n",
      "Epoch 89 Loss 0.0007921219 \n",
      "___________________________________________\n",
      "batch time =  1052.6043510470772\n",
      "************************* start *************************\n",
      "Total % correct 98.08%\n",
      "test time =  124.95955439493991\n",
      "*************************** end ***************************\n"
     ]
    },
    {
     "name": "stderr",
     "output_type": "stream",
     "text": [
      "Epoch:  90%|█████████ | 90/100 [30:50:15<3:18:21, 1190.19s/it]"
     ]
    },
    {
     "name": "stdout",
     "output_type": "stream",
     "text": [
      "___________________________________________\n",
      "Epoch 90 Loss 0.0002846979 \n",
      "___________________________________________\n",
      "batch time =  1058.605452040094\n",
      "************************* start *************************\n",
      "Total % correct 99.85%\n",
      "test time =  119.9862293349579\n",
      "*************************** end ***************************\n"
     ]
    },
    {
     "name": "stderr",
     "output_type": "stream",
     "text": [
      "Epoch:  91%|█████████ | 91/100 [31:09:58<2:58:12, 1188.03s/it]"
     ]
    },
    {
     "name": "stdout",
     "output_type": "stream",
     "text": [
      "___________________________________________\n",
      "Epoch 91 Loss 0.0003391404 \n",
      "___________________________________________\n",
      "batch time =  1050.5187864539912\n",
      "************************* start *************************\n",
      "Total % correct 94.47%\n",
      "test time =  120.28873259702232\n",
      "*************************** end ***************************\n"
     ]
    },
    {
     "name": "stderr",
     "output_type": "stream",
     "text": [
      "Epoch:  92%|█████████▏| 92/100 [31:29:34<2:37:53, 1184.21s/it]"
     ]
    },
    {
     "name": "stdout",
     "output_type": "stream",
     "text": [
      "___________________________________________\n",
      "Epoch 92 Loss 0.0016623043 \n",
      "___________________________________________\n",
      "batch time =  1053.8462005309993\n",
      "************************* start *************************\n",
      "Total % correct 97.42%\n",
      "test time =  120.94343220302835\n",
      "*************************** end ***************************\n"
     ]
    },
    {
     "name": "stderr",
     "output_type": "stream",
     "text": [
      "Epoch:  93%|█████████▎| 93/100 [31:49:13<2:17:58, 1182.68s/it]"
     ]
    },
    {
     "name": "stdout",
     "output_type": "stream",
     "text": [
      "___________________________________________\n",
      "Epoch 93 Loss 0.0011201712 \n",
      "___________________________________________\n",
      "batch time =  1052.1977075539762\n",
      "************************* start *************************\n",
      "Total % correct 99.30%\n",
      "test time =  120.25663681700826\n",
      "*************************** end ***************************\n"
     ]
    },
    {
     "name": "stderr",
     "output_type": "stream",
     "text": [
      "Epoch:  94%|█████████▍| 94/100 [32:08:49<1:58:05, 1180.90s/it]"
     ]
    },
    {
     "name": "stdout",
     "output_type": "stream",
     "text": [
      "___________________________________________\n",
      "Epoch 94 Loss 0.9535041451 \n",
      "___________________________________________\n",
      "batch time =  1051.2139574189205\n",
      "************************* start *************************\n",
      "Total % correct 98.04%\n",
      "test time =  120.10577275801916\n",
      "*************************** end ***************************\n"
     ]
    },
    {
     "name": "stderr",
     "output_type": "stream",
     "text": [
      "Epoch:  95%|█████████▌| 95/100 [32:28:25<1:38:16, 1179.31s/it]"
     ]
    },
    {
     "name": "stdout",
     "output_type": "stream",
     "text": [
      "___________________________________________\n",
      "Epoch 95 Loss 0.0002518951 \n",
      "___________________________________________\n",
      "batch time =  1056.8780671330169\n",
      "************************* start *************************\n",
      "Total % correct 99.36%\n",
      "test time =  120.99994595407043\n",
      "*************************** end ***************************\n"
     ]
    },
    {
     "name": "stderr",
     "output_type": "stream",
     "text": [
      "Epoch:  96%|█████████▌| 96/100 [32:48:07<1:18:40, 1180.20s/it]"
     ]
    },
    {
     "name": "stdout",
     "output_type": "stream",
     "text": [
      "___________________________________________\n",
      "Epoch 96 Loss 0.0003159675 \n",
      "___________________________________________\n",
      "batch time =  1059.984904151992\n",
      "************************* start *************************\n",
      "Total % correct 88.47%\n",
      "test time =  120.37366293196101\n",
      "*************************** end ***************************\n"
     ]
    },
    {
     "name": "stderr",
     "output_type": "stream",
     "text": [
      "Epoch:  97%|█████████▋| 97/100 [33:07:52<59:04, 1181.62s/it]  "
     ]
    },
    {
     "name": "stdout",
     "output_type": "stream",
     "text": [
      "___________________________________________\n",
      "Epoch 97 Loss 0.0002114407 \n",
      "___________________________________________\n",
      "batch time =  1059.191913652001\n",
      "************************* start *************************\n",
      "Total % correct 99.52%\n",
      "test time =  121.93552789802197\n",
      "*************************** end ***************************\n"
     ]
    },
    {
     "name": "stderr",
     "output_type": "stream",
     "text": [
      "Epoch:  98%|█████████▊| 98/100 [33:27:38<39:25, 1182.79s/it]"
     ]
    },
    {
     "name": "stdout",
     "output_type": "stream",
     "text": [
      "___________________________________________\n",
      "Epoch 98 Loss 0.0004939045 \n",
      "___________________________________________\n",
      "batch time =  1059.2503529080423\n",
      "************************* start *************************\n",
      "Total % correct 99.90%\n",
      "test time =  121.3796097090235\n",
      "*************************** end ***************************\n"
     ]
    },
    {
     "name": "stderr",
     "output_type": "stream",
     "text": [
      "Epoch:  99%|█████████▉| 99/100 [33:47:23<19:43, 1183.45s/it]"
     ]
    },
    {
     "name": "stdout",
     "output_type": "stream",
     "text": [
      "___________________________________________\n",
      "Epoch 99 Loss 0.0003147427 \n",
      "___________________________________________\n",
      "batch time =  1067.1900366180344\n",
      "************************* start *************************\n",
      "Total % correct 99.67%\n",
      "test time =  120.58398587896954\n",
      "*************************** end ***************************\n"
     ]
    },
    {
     "name": "stderr",
     "output_type": "stream",
     "text": [
      "Epoch: 100%|██████████| 100/100 [34:07:15<00:00, 1228.35s/it]"
     ]
    },
    {
     "name": "stdout",
     "output_type": "stream",
     "text": [
      "___________________________________________\n",
      "Epoch 100 Loss 0.0009663064 \n",
      "___________________________________________\n"
     ]
    },
    {
     "name": "stderr",
     "output_type": "stream",
     "text": [
      "\n"
     ]
    }
   ],
   "source": [
    "total = 100\n",
    "loss_plot,total_plot = train_net(total)"
   ]
  },
  {
   "cell_type": "code",
   "execution_count": 30,
   "metadata": {},
   "outputs": [],
   "source": [
    "path_plot_fig = \"/home/david/sigMF_ML/RF/RF_class/plot_data/\" # ACE\n",
    "os.chdir(path_plot_fig)\n",
    "# # num = 20\n",
    "np.save('vgg16_2D_plot_1e5', np.asarray(total_plot))\n",
    "# np.save('vgg16_2D_plot_10dB_2_20210227', total_plot) "
   ]
  },
  {
   "cell_type": "code",
   "execution_count": 43,
   "metadata": {},
   "outputs": [],
   "source": [
    "path_plot_fig = \"/home/david/sigMF_ML/RF/RF_class/plot_data/\" # ACE\n",
    "os.chdir(path_plot_fig)\n",
    "resnet50_2D = np.load('resnet50_2D_20210227_1e4lr_10dB.npy')\n",
    "resnet50_4D = np.load('resnet50_4D_1e4lr_20210227.npy')\n",
    "resnet18_4D = np.load('resnet18_4D_1e4lr_20210227.npy')\n",
    "resnet18_2D = np.load('resnet18_2D_20210227_10dB_1e4lr.npy')\n",
    "vgg16_4D = np.load('VGG16_4D_plot_20210226.npy')\n",
    "vgg16_2D = np.load('vgg16_2D_plot_10dB_20210227.npy')\n",
    "\n"
   ]
  },
  {
   "cell_type": "code",
   "execution_count": 29,
   "metadata": {},
   "outputs": [],
   "source": [
    "# path_plot_fig = \"/home/david/sigMF_ML/RF/RF_class/plot_data/\" # ACE\n",
    "# os.chdir(path_plot_fig)\n",
    "# np.save('vgg16_4D_plot_10dB_longarray', np.asarray(vgg16_4D_956))"
   ]
  },
  {
   "cell_type": "code",
   "execution_count": 81,
   "metadata": {},
   "outputs": [
    {
     "data": {
      "text/plain": [
       "99.45"
      ]
     },
     "execution_count": 81,
     "metadata": {},
     "output_type": "execute_result"
    }
   ],
   "source": [
    "np.amax(vgg16_2D)"
   ]
  },
  {
   "cell_type": "code",
   "execution_count": 109,
   "metadata": {},
   "outputs": [
    {
     "data": {
      "text/plain": [
       "(956,)"
      ]
     },
     "execution_count": 109,
     "metadata": {},
     "output_type": "execute_result"
    }
   ],
   "source": [
    "vgg16_2D.shape"
   ]
  },
  {
   "cell_type": "code",
   "execution_count": 82,
   "metadata": {},
   "outputs": [
    {
     "data": {
      "text/plain": [
       "99.03333333333333"
      ]
     },
     "execution_count": 82,
     "metadata": {},
     "output_type": "execute_result"
    }
   ],
   "source": [
    "np.amax(resnet50_4D)"
   ]
  },
  {
   "cell_type": "code",
   "execution_count": 107,
   "metadata": {},
   "outputs": [
    {
     "data": {
      "text/plain": [
       "(956,)"
      ]
     },
     "execution_count": 107,
     "metadata": {},
     "output_type": "execute_result"
    }
   ],
   "source": [
    "resnet50_4D.shape"
   ]
  },
  {
   "cell_type": "code",
   "execution_count": 83,
   "metadata": {},
   "outputs": [
    {
     "data": {
      "text/plain": [
       "99.5625"
      ]
     },
     "execution_count": 83,
     "metadata": {},
     "output_type": "execute_result"
    }
   ],
   "source": [
    "np.amax(resnet50_2D)"
   ]
  },
  {
   "cell_type": "code",
   "execution_count": 106,
   "metadata": {},
   "outputs": [
    {
     "data": {
      "text/plain": [
       "(956,)"
      ]
     },
     "execution_count": 106,
     "metadata": {},
     "output_type": "execute_result"
    }
   ],
   "source": [
    "resnet50_2D.shape"
   ]
  },
  {
   "cell_type": "code",
   "execution_count": 84,
   "metadata": {},
   "outputs": [
    {
     "data": {
      "text/plain": [
       "92.86666666666666"
      ]
     },
     "execution_count": 84,
     "metadata": {},
     "output_type": "execute_result"
    }
   ],
   "source": [
    "np.amax(resnet18_4D)"
   ]
  },
  {
   "cell_type": "code",
   "execution_count": 105,
   "metadata": {},
   "outputs": [
    {
     "data": {
      "text/plain": [
       "(956,)"
      ]
     },
     "execution_count": 105,
     "metadata": {},
     "output_type": "execute_result"
    }
   ],
   "source": [
    "resnet18_4D.shape"
   ]
  },
  {
   "cell_type": "code",
   "execution_count": 87,
   "metadata": {},
   "outputs": [
    {
     "data": {
      "text/plain": [
       "95.47083333333333"
      ]
     },
     "execution_count": 87,
     "metadata": {},
     "output_type": "execute_result"
    }
   ],
   "source": [
    "np.amax(resnet18_2D)"
   ]
  },
  {
   "cell_type": "code",
   "execution_count": 104,
   "metadata": {
    "scrolled": true
   },
   "outputs": [
    {
     "data": {
      "text/plain": [
       "(956,)"
      ]
     },
     "execution_count": 104,
     "metadata": {},
     "output_type": "execute_result"
    }
   ],
   "source": [
    "resnet18_2D.shape"
   ]
  },
  {
   "cell_type": "code",
   "execution_count": 44,
   "metadata": {},
   "outputs": [
    {
     "data": {
      "text/plain": [
       "<matplotlib.figure.Figure at 0x7fec01888518>"
      ]
     },
     "metadata": {},
     "output_type": "display_data"
    },
    {
     "data": {
      "image/png": "[encoded data removed]",
      "text/plain": [
       "<matplotlib.figure.Figure at 0x7fec018884e0>"
      ]
     },
     "metadata": {
      "needs_background": "light"
     },
     "output_type": "display_data"
    }
   ],
   "source": [
    "# num = len(resnet50_4D) # reduced rank by 1 for matrix math to work out\n",
    "ymin = 80\n",
    "ymax = 100\n",
    "num = 100\n",
    "x = np.arange(0,num,1) # Start at index position 1\n",
    "plt.figure(figsize=(9, 6))\n",
    "fig2 = plt.figure()\n",
    "# plt.plot(x[1:num],resnet18_4D[1:num], c='#1f77b4',markersize=1, linewidth=.5,markerfacecolor='#1f77b4',markeredgecolor='#1f77b4',markeredgewidth=1,label='ResNet18 4D')\n",
    "# plt.plot(x[1:num],resnet18_2D[1:num], c='#ff7f0e',markersize=1, linewidth=.5,markerfacecolor='#ff7f0e',markeredgecolor='#ff7f0e',markeredgewidth=1, label='ResNet18 2D')\n",
    "# plt.plot(x[1:num],vgg16_4D[1:num], c='#2ca02c', markersize=1, linewidth=.5,markerfacecolor='#2ca02c',markeredgecolor='#2ca02c',markeredgewidth=1, label='VGG16 4D')\n",
    "plt.plot(x[1:num],resnet50_2D[1:num], c='#d62728', markersize=1, linewidth=.5,markerfacecolor='#d62728',markeredgecolor='#d62728',markeredgewidth=1, label='ResNet50 2D')\n",
    "# plt.plot(x[1:num],resnet50_4D[1:num], c='#9467bd', markersize=1, linewidth=.5,markerfacecolor='#9467bd',markeredgecolor='#9467bd',markeredgewidth=1, label='ResNet50 4D')\n",
    "# plt.plot(x[1:num],vgg16_2D[1:num], c='#8c564b', markersize=1, linewidth=.5,markerfacecolor='#8c564b',markeredgecolor='#8c564b',markeredgewidth=2, label='VGG16 2D')\n",
    "plt.legend(loc='lower right')\n",
    "axes = plt.gca() # Get the Current Axis, create one, if necessary\n",
    "xmin = 0\n",
    "xmax = 100\n",
    "axes.set_xlim([xmin,xmax])\n",
    "axes.set_ylim([ymin,ymax])\n",
    "#  '-o'   '-X' '-P' '-D' '-^' '-*'\n",
    "plt.title('Validation accuracy resnet50_2ch')\n",
    "plt.xlabel('Iteration/100')\n",
    "plt.ylabel('% accuracy')\n",
    "plt.grid()\n",
    "# plt.minorticks_on()\n",
    "# plt.yticks(np.arange(70,80,90,100.01))\n",
    "plt.xticks([0, 25, 50, 75, 100])\n",
    "fig2.savefig('resnet50_2ch.pdf', format=\"pdf\")\n",
    "plt.show()"
   ]
  },
  {
   "cell_type": "code",
   "execution_count": null,
   "metadata": {},
   "outputs": [],
   "source": [
    "os.chdir(path_fig)\n",
    "plt.figure(figsize=(9, 6))\n",
    "fig = plt.figure()\n",
    "plt.plot(loss_plot,c='r', label='Loss curve')\n",
    "plt.legend(loc='upper right')\n",
    "plt.title('Loss vs Epochs')\n",
    "plt.xlabel('Epochs')\n",
    "plt.ylabel('Loss')\n",
    "plt.grid()\n",
    "fig.savefig('RF_class_v50_loss_4D.pdf', format=\"pdf\")\n",
    "plt.show()"
   ]
  },
  {
   "cell_type": "markdown",
   "metadata": {},
   "source": [
    "### LIVE inferencing"
   ]
  },
  {
   "cell_type": "code",
   "execution_count": 138,
   "metadata": {
    "scrolled": true
   },
   "outputs": [],
   "source": [
    "# !python3 /home/david/sigMF_ML/gnuradio/record_live.py"
   ]
  },
  {
   "cell_type": "markdown",
   "metadata": {},
   "source": [
    "#### 2D tensor with 300 noise\n",
    "vodeson - 10\n",
    "lora250 - 0\n",
    "lora125 - \n",
    "click - 10\n",
    "sado - 4ish\n",
    "light - \n",
    "tyt - \n",
    "GD55\n",
    "nfm - \n"
   ]
  },
  {
   "cell_type": "markdown",
   "metadata": {},
   "source": [
    "###  TESTING"
   ]
  },
  {
   "cell_type": "code",
   "execution_count": 158,
   "metadata": {
    "scrolled": true
   },
   "outputs": [
    {
     "name": "stdout",
     "output_type": "stream",
     "text": [
      "\u001b[0;32m[INFO] [UHD] \u001b[0;39mlinux; GNU C++ version 7.5.0; Boost_106501; UHD_3.15.0.0-62-g7a3f1516\n",
      "\u001b[0;32m[INFO] [B200] \u001b[0;39mDetected Device: B205mini\n",
      "\u001b[0;32m[INFO] [B200] \u001b[0;39mOperating over USB 3.\n",
      "\u001b[0;32m[INFO] [B200] \u001b[0;39mInitialize CODEC control...\n",
      "\u001b[0;32m[INFO] [B200] \u001b[0;39mInitialize Radio control...\n",
      "\u001b[0;32m[INFO] [B200] \u001b[0;39mPerforming register loopback test... \n",
      "\u001b[0;32m[INFO] [B200] \u001b[0;39mRegister loopback test passed\n",
      "\u001b[0;32m[INFO] [B200] \u001b[0;39mSetting master clock rate selection to 'automatic'.\n",
      "\u001b[0;32m[INFO] [B200] \u001b[0;39mAsking for clock rate 16.000000 MHz... \n",
      "\u001b[0;32m[INFO] [B200] \u001b[0;39mActually got clock rate 16.000000 MHz.\n",
      "\u001b[0;32m[INFO] [B200] \u001b[0;39mAsking for clock rate 25.000000 MHz... \n",
      "\u001b[0;32m[INFO] [B200] \u001b[0;39mActually got clock rate 25.000000 MHz.\n",
      "\u001b[0;32m[INFO] [MULTI_USRP] \u001b[0;39m    1) catch time transition at pps edge\n",
      "\u001b[0;32m[INFO] [MULTI_USRP] \u001b[0;39m    2) set times next pps (synchronously)\n",
      "gr::log :INFO: sink0 - No core:datetime found, using host ts instead\n",
      "OOOinference file name =  test1.sigmf-meta\n",
      "iq_read_test live\n",
      "gpu_test live function\n",
      "I length =  125000000\n",
      "Q length =  125000000\n",
      "gpu_test live IQ shape = torch.Size([25600, 9766, 2])\n",
      "FINAL gpu_test LIVE IQ shape = torch.Size([12800, 9766, 2])\n",
      "start_frequency =  428.0\n",
      "sigmf_data =  (12800, 9766, 2)\n",
      "frequency =  12800   time =  9766\n",
      "seg_time =  43 seg_freq =  57\n",
      "data_IQ shape =  (2451, 224, 224, 2)\n",
      "testing counter =  tensor([2451]) seg_freq = tensor([57])\n",
      "seg_freq =  tensor([57])\n"
     ]
    },
    {
     "data": {
      "image/png": "[encoded data removed]",
      "text/plain": [
       "<matplotlib.figure.Figure at 0x7fcce7643eb8>"
      ]
     },
     "metadata": {},
     "output_type": "display_data"
    },
    {
     "name": "stdout",
     "output_type": "stream",
     "text": [
      "freq_increment =  219298.24561403508\n",
      "TESTING inputs SHAPE =  torch.Size([1, 2451, 224, 224, 2])\n",
      "input in   =  torch.Size([1, 2451, 224, 224, 2])\n",
      "input out  =  torch.Size([2451, 224, 224, 2])\n",
      "counter convert stuff =  tensor([2451]) <class 'numpy.ndarray'>\n",
      "permuted shape =  torch.Size([2451, 2, 224, 224])\n",
      "mean Freq =    433.92\n",
      "std Freq =      0.18\n",
      "length of inputs =  2451\n"
     ]
    },
    {
     "data": {
      "image/png": "[encoded data removed]",
      "text/plain": [
       "<matplotlib.figure.Figure at 0x7fcce29571d0>"
      ]
     },
     "metadata": {},
     "output_type": "display_data"
    },
    {
     "name": "stdout",
     "output_type": "stream",
     "text": [
      "************************* Probabilities ********************************\n",
      "----------------------------WAVEFORMS-----------------------------------\n",
      "LoRa 125 = 0.00%\n",
      "GD55 DMR = 0.00%\n",
      "NFM = 11.63%\n",
      "TYT = 21.71\n",
      "Vodeson Doorbell = 1.55%\n",
      "clickndig = 0.00%\n",
      "Sado doorbell = 0.00%\n",
      "LoRa 250 = 65.12%\n",
      "light switch = 0.00%\n",
      "YSF = 0.00%\n",
      "------------------------------------------------------------------------\n",
      "***************************** noise and fft ****************************\n",
      "noise matches =  2322\n",
      "center fft matches =  0\n",
      "TOTAL patch count =  2451\n",
      "***************************** Finished *********************************\n"
     ]
    }
   ],
   "source": [
    "msps = 25\n",
    "center_freq_live = 428.0e6 # when SDR doing 25MSPS with center at 428MHz, or 433.65e6, 428.00e6\n",
    "!python3 /home/david/sigMF_ML/gnuradio/record_live_25msps.py\n",
    "# !python3 /home/david/sigMF_ML/gnuradio/record_live1msps.py\n",
    "# usrp_data_collect_1MSPS()\n",
    "data_IQ_list_val, meta_list_val = inference_read(msps)\n",
    "testing_live(msps)\n",
    "torch.cuda.empty_cache()"
   ]
  },
  {
   "cell_type": "code",
   "execution_count": null,
   "metadata": {},
   "outputs": [],
   "source": [
    "msps = 5\n",
    "center_freq_live = 433.0e6 # when SDR doing 25MSPS with center at 428MHz, or 433.65e6, 428.00e6\n",
    "!python3 /home/david/sigMF_ML/gnuradio/record_live_5msps.py\n",
    "# !python3 /home/david/sigMF_ML/gnuradio/record_live1msps.py\n",
    "# usrp_data_collect_1MSPS()\n",
    "data_IQ_list_val, meta_list_val = inference_read(msps)\n",
    "testing_live(msps)\n",
    "torch.cuda.empty_cache()"
   ]
  },
  {
   "cell_type": "code",
   "execution_count": 141,
   "metadata": {
    "collapsed": true
   },
   "outputs": [
    {
     "name": "stdout",
     "output_type": "stream",
     "text": [
      "\u001b[0;32m[INFO] [UHD] \u001b[0;39mlinux; GNU C++ version 7.5.0; Boost_106501; UHD_3.15.0.0-62-g7a3f1516\n",
      "inference file name =  test1.sigmf-meta\n",
      "iq_read_test live\n",
      "gpu_test live function\n"
     ]
    },
    {
     "ename": "KeyboardInterrupt",
     "evalue": "",
     "output_type": "error",
     "traceback": [
      "\u001b[0;31m---------------------------------------------------------------------------\u001b[0m",
      "\u001b[0;31mKeyboardInterrupt\u001b[0m                         Traceback (most recent call last)",
      "\u001b[0;32m<ipython-input-141-512065bdba23>\u001b[0m in \u001b[0;36m<module>\u001b[0;34m\u001b[0m\n\u001b[1;32m      1\u001b[0m \u001b[0mget_ipython\u001b[0m\u001b[0;34m(\u001b[0m\u001b[0;34m)\u001b[0m\u001b[0;34m.\u001b[0m\u001b[0msystem\u001b[0m\u001b[0;34m(\u001b[0m\u001b[0;34m'python3 /home/david/sigMF_ML/gnuradio/record_live.py'\u001b[0m\u001b[0;34m)\u001b[0m\u001b[0;34m\u001b[0m\u001b[0;34m\u001b[0m\u001b[0m\n\u001b[1;32m      2\u001b[0m \u001b[0;31m# usrp_data_collect_1MSPS()\u001b[0m\u001b[0;34m\u001b[0m\u001b[0;34m\u001b[0m\u001b[0;34m\u001b[0m\u001b[0m\n\u001b[0;32m----> 3\u001b[0;31m \u001b[0mdata_IQ_list_val\u001b[0m\u001b[0;34m,\u001b[0m \u001b[0mmeta_list_val\u001b[0m \u001b[0;34m=\u001b[0m \u001b[0minference_read\u001b[0m\u001b[0;34m(\u001b[0m\u001b[0;34m)\u001b[0m\u001b[0;34m\u001b[0m\u001b[0;34m\u001b[0m\u001b[0m\n\u001b[0m\u001b[1;32m      4\u001b[0m \u001b[0mtesting\u001b[0m\u001b[0;34m(\u001b[0m\u001b[0;34m)\u001b[0m\u001b[0;34m\u001b[0m\u001b[0;34m\u001b[0m\u001b[0m\n\u001b[1;32m      5\u001b[0m \u001b[0mtorch\u001b[0m\u001b[0;34m.\u001b[0m\u001b[0mcuda\u001b[0m\u001b[0;34m.\u001b[0m\u001b[0mempty_cache\u001b[0m\u001b[0;34m(\u001b[0m\u001b[0;34m)\u001b[0m\u001b[0;34m\u001b[0m\u001b[0;34m\u001b[0m\u001b[0m\n",
      "\u001b[0;32m<ipython-input-119-6ec30a3735ab>\u001b[0m in \u001b[0;36minference_read\u001b[0;34m()\u001b[0m\n\u001b[1;32m     12\u001b[0m     \u001b[0;31m# Load validation sigmf-data files\u001b[0m\u001b[0;34m\u001b[0m\u001b[0;34m\u001b[0m\u001b[0;34m\u001b[0m\u001b[0m\n\u001b[1;32m     13\u001b[0m     \u001b[0mmeta_list_val\u001b[0m \u001b[0;34m=\u001b[0m \u001b[0mread_meta\u001b[0m\u001b[0;34m(\u001b[0m\u001b[0mmeta_files_validation\u001b[0m\u001b[0;34m)\u001b[0m\u001b[0;34m\u001b[0m\u001b[0;34m\u001b[0m\u001b[0m\n\u001b[0;32m---> 14\u001b[0;31m     \u001b[0mdata_IQ_list_val\u001b[0m \u001b[0;34m=\u001b[0m \u001b[0miq_read_test_live\u001b[0m\u001b[0;34m(\u001b[0m\u001b[0mdata_files_validation\u001b[0m\u001b[0;34m)\u001b[0m\u001b[0;34m\u001b[0m\u001b[0;34m\u001b[0m\u001b[0m\n\u001b[0m\u001b[1;32m     15\u001b[0m     \u001b[0;32mreturn\u001b[0m \u001b[0mdata_IQ_list_val\u001b[0m\u001b[0;34m,\u001b[0m \u001b[0mmeta_list_val\u001b[0m\u001b[0;34m\u001b[0m\u001b[0;34m\u001b[0m\u001b[0m\n",
      "\u001b[0;32m<ipython-input-89-38d2b4e313e1>\u001b[0m in \u001b[0;36miq_read_test_live\u001b[0;34m(data_files)\u001b[0m\n\u001b[1;32m    207\u001b[0m \u001b[0;31m#         stft = gpu(db).detach().cpu().numpy()\u001b[0m\u001b[0;34m\u001b[0m\u001b[0;34m\u001b[0m\u001b[0;34m\u001b[0m\u001b[0m\n\u001b[1;32m    208\u001b[0m \u001b[0;31m#         stft = gpu_plot(db)\u001b[0m\u001b[0;34m\u001b[0m\u001b[0;34m\u001b[0m\u001b[0;34m\u001b[0m\u001b[0m\n\u001b[0;32m--> 209\u001b[0;31m         \u001b[0mstft\u001b[0m \u001b[0;34m=\u001b[0m \u001b[0mgpu_test_live\u001b[0m\u001b[0;34m(\u001b[0m\u001b[0mdb\u001b[0m\u001b[0;34m)\u001b[0m\u001b[0;34m\u001b[0m\u001b[0;34m\u001b[0m\u001b[0m\n\u001b[0m\u001b[1;32m    210\u001b[0m \u001b[0;31m#         get_histo(stft)\u001b[0m\u001b[0;34m\u001b[0m\u001b[0;34m\u001b[0m\u001b[0;34m\u001b[0m\u001b[0m\n\u001b[1;32m    211\u001b[0m         \u001b[0mstft2\u001b[0m \u001b[0;34m=\u001b[0m \u001b[0mstft\u001b[0m\u001b[0;34m[\u001b[0m\u001b[0;34m:\u001b[0m\u001b[0;34m,\u001b[0m\u001b[0;34m:\u001b[0m\u001b[0;34m,\u001b[0m\u001b[0;36m0\u001b[0m\u001b[0;34m]\u001b[0m\u001b[0;34m.\u001b[0m\u001b[0mdetach\u001b[0m\u001b[0;34m(\u001b[0m\u001b[0;34m)\u001b[0m\u001b[0;34m.\u001b[0m\u001b[0mcpu\u001b[0m\u001b[0;34m(\u001b[0m\u001b[0;34m)\u001b[0m\u001b[0;34m.\u001b[0m\u001b[0mnumpy\u001b[0m\u001b[0;34m(\u001b[0m\u001b[0;34m)\u001b[0m\u001b[0;34m\u001b[0m\u001b[0;34m\u001b[0m\u001b[0m\n",
      "\u001b[0;32m<ipython-input-89-38d2b4e313e1>\u001b[0m in \u001b[0;36mgpu_test_live\u001b[0;34m(db)\u001b[0m\n\u001b[1;32m     80\u001b[0m     \u001b[0mwin\u001b[0m \u001b[0;34m=\u001b[0m \u001b[0mtorch\u001b[0m\u001b[0;34m.\u001b[0m\u001b[0mhann_window\u001b[0m\u001b[0;34m(\u001b[0m\u001b[0mw\u001b[0m\u001b[0;34m,\u001b[0m \u001b[0mperiodic\u001b[0m\u001b[0;34m=\u001b[0m\u001b[0;32mTrue\u001b[0m\u001b[0;34m,\u001b[0m \u001b[0mdtype\u001b[0m\u001b[0;34m=\u001b[0m\u001b[0;32mNone\u001b[0m\u001b[0;34m,\u001b[0m \u001b[0mlayout\u001b[0m\u001b[0;34m=\u001b[0m\u001b[0mtorch\u001b[0m\u001b[0;34m.\u001b[0m\u001b[0mstrided\u001b[0m\u001b[0;34m,\u001b[0m \u001b[0mrequires_grad\u001b[0m\u001b[0;34m=\u001b[0m\u001b[0;32mFalse\u001b[0m\u001b[0;34m)\u001b[0m\u001b[0;34m.\u001b[0m\u001b[0mcuda\u001b[0m\u001b[0;34m(\u001b[0m\u001b[0mGPU\u001b[0m\u001b[0;34m)\u001b[0m\u001b[0;34m\u001b[0m\u001b[0;34m\u001b[0m\u001b[0m\n\u001b[1;32m     81\u001b[0m     \u001b[0mI_stft\u001b[0m \u001b[0;34m=\u001b[0m \u001b[0mtorch\u001b[0m\u001b[0;34m.\u001b[0m\u001b[0mstft\u001b[0m\u001b[0;34m(\u001b[0m\u001b[0mtorch\u001b[0m\u001b[0;34m.\u001b[0m\u001b[0mtensor\u001b[0m\u001b[0;34m(\u001b[0m\u001b[0mI\u001b[0m\u001b[0;34m)\u001b[0m\u001b[0;34m.\u001b[0m\u001b[0mcuda\u001b[0m\u001b[0;34m(\u001b[0m\u001b[0mGPU\u001b[0m\u001b[0;34m)\u001b[0m\u001b[0;34m,\u001b[0m \u001b[0mn_fft\u001b[0m\u001b[0;34m=\u001b[0m\u001b[0mw\u001b[0m\u001b[0;34m,\u001b[0m \u001b[0mhop_length\u001b[0m\u001b[0;34m=\u001b[0m\u001b[0mw\u001b[0m\u001b[0;34m//\u001b[0m\u001b[0;36m2\u001b[0m\u001b[0;34m,\u001b[0m \u001b[0mwin_length\u001b[0m\u001b[0;34m=\u001b[0m\u001b[0mw\u001b[0m\u001b[0;34m,\u001b[0m \u001b[0mwindow\u001b[0m\u001b[0;34m=\u001b[0m\u001b[0mwin\u001b[0m\u001b[0;34m,\u001b[0m \u001b[0mcenter\u001b[0m\u001b[0;34m=\u001b[0m\u001b[0;32mTrue\u001b[0m\u001b[0;34m,\u001b[0m \u001b[0mnormalized\u001b[0m\u001b[0;34m=\u001b[0m\u001b[0;32mTrue\u001b[0m\u001b[0;34m,\u001b[0m \u001b[0monesided\u001b[0m\u001b[0;34m=\u001b[0m\u001b[0;32mFalse\u001b[0m\u001b[0;34m)\u001b[0m\u001b[0;34m\u001b[0m\u001b[0;34m\u001b[0m\u001b[0m\n\u001b[0;32m---> 82\u001b[0;31m     \u001b[0mQ_stft\u001b[0m \u001b[0;34m=\u001b[0m \u001b[0mtorch\u001b[0m\u001b[0;34m.\u001b[0m\u001b[0mstft\u001b[0m\u001b[0;34m(\u001b[0m\u001b[0mtorch\u001b[0m\u001b[0;34m.\u001b[0m\u001b[0mtensor\u001b[0m\u001b[0;34m(\u001b[0m\u001b[0mQ\u001b[0m\u001b[0;34m)\u001b[0m\u001b[0;34m.\u001b[0m\u001b[0mcuda\u001b[0m\u001b[0;34m(\u001b[0m\u001b[0mGPU\u001b[0m\u001b[0;34m)\u001b[0m\u001b[0;34m,\u001b[0m \u001b[0mn_fft\u001b[0m\u001b[0;34m=\u001b[0m\u001b[0mw\u001b[0m\u001b[0;34m,\u001b[0m \u001b[0mhop_length\u001b[0m\u001b[0;34m=\u001b[0m\u001b[0mw\u001b[0m\u001b[0;34m//\u001b[0m\u001b[0;36m2\u001b[0m\u001b[0;34m,\u001b[0m \u001b[0mwin_length\u001b[0m\u001b[0;34m=\u001b[0m\u001b[0mw\u001b[0m\u001b[0;34m,\u001b[0m \u001b[0mwindow\u001b[0m\u001b[0;34m=\u001b[0m\u001b[0mwin\u001b[0m\u001b[0;34m,\u001b[0m \u001b[0mcenter\u001b[0m\u001b[0;34m=\u001b[0m\u001b[0;32mTrue\u001b[0m\u001b[0;34m,\u001b[0m \u001b[0mnormalized\u001b[0m\u001b[0;34m=\u001b[0m\u001b[0;32mTrue\u001b[0m\u001b[0;34m,\u001b[0m \u001b[0monesided\u001b[0m\u001b[0;34m=\u001b[0m\u001b[0;32mFalse\u001b[0m\u001b[0;34m)\u001b[0m\u001b[0;34m\u001b[0m\u001b[0;34m\u001b[0m\u001b[0m\n\u001b[0m\u001b[1;32m     83\u001b[0m     \u001b[0mX_stft\u001b[0m \u001b[0;34m=\u001b[0m \u001b[0mI_stft\u001b[0m\u001b[0;34m[\u001b[0m\u001b[0;34m...\u001b[0m\u001b[0;34m,\u001b[0m\u001b[0;36m0\u001b[0m\u001b[0;34m]\u001b[0m \u001b[0;34m+\u001b[0m \u001b[0mQ_stft\u001b[0m\u001b[0;34m[\u001b[0m\u001b[0;34m...\u001b[0m\u001b[0;34m,\u001b[0m\u001b[0;36m0\u001b[0m\u001b[0;34m]\u001b[0m \u001b[0;34m+\u001b[0m \u001b[0mI_stft\u001b[0m\u001b[0;34m[\u001b[0m\u001b[0;34m...\u001b[0m\u001b[0;34m,\u001b[0m\u001b[0;36m1\u001b[0m\u001b[0;34m]\u001b[0m \u001b[0;34m+\u001b[0m \u001b[0;34m-\u001b[0m\u001b[0;36m1\u001b[0m\u001b[0;34m*\u001b[0m\u001b[0mQ_stft\u001b[0m\u001b[0;34m[\u001b[0m\u001b[0;34m...\u001b[0m\u001b[0;34m,\u001b[0m\u001b[0;36m1\u001b[0m\u001b[0;34m]\u001b[0m\u001b[0;34m\u001b[0m\u001b[0;34m\u001b[0m\u001b[0m\n\u001b[1;32m     84\u001b[0m \u001b[0;31m#     print('X shape =', X_stft.shape)\u001b[0m\u001b[0;34m\u001b[0m\u001b[0;34m\u001b[0m\u001b[0;34m\u001b[0m\u001b[0m\n",
      "\u001b[0;31mKeyboardInterrupt\u001b[0m: "
     ]
    }
   ],
   "source": [
    "msps = 1\n",
    "center_freq_live = 433.65e6 # when SDR doing 25MSPS with center at 428MHz, or 433.65e6, 428.00e6\n",
    "# !python3 /home/david/sigMF_ML/gnuradio/record_live25msps.py\n",
    "!python3 /home/david/sigMF_ML/gnuradio/record_live_1msps.py\n",
    "# usrp_data_collect_1MSPS()\n",
    "data_IQ_list_val, meta_list_val = inference_read(msps)\n",
    "testing_live(msps)\n",
    "torch.cuda.empty_cache()"
   ]
  },
  {
   "cell_type": "code",
   "execution_count": null,
   "metadata": {},
   "outputs": [],
   "source": [
    "torch.cuda.empty_cache()"
   ]
  },
  {
   "cell_type": "markdown",
   "metadata": {},
   "source": [
    "## testing pre-recorded files in /home/david/sigMF_ML/RF/RF_class/testing_data"
   ]
  },
  {
   "cell_type": "code",
   "execution_count": null,
   "metadata": {},
   "outputs": [],
   "source": [
    "msps = 25\n",
    "center_freq_file = 428.00e6 # when SDR doing 25MSPS with center at 428MHz, or 433.65e6, 428.00e6\n",
    "data_IQ_list_val, meta_list_val = inference_read_file(msps, path_test_25msps)\n",
    "testing_file(msps)\n",
    "torch.cuda.empty_cache()"
   ]
  },
  {
   "cell_type": "code",
   "execution_count": 54,
   "metadata": {
    "scrolled": false
   },
   "outputs": [
    {
     "name": "stdout",
     "output_type": "stream",
     "text": [
      "inference file name =  UHF_clickndig_fob1_test1.sigmf-meta\n",
      "iq_read_test live\n",
      "gpu_test live function\n",
      "I length =  25000000\n",
      "Q length =  25000000\n",
      "5120 MSPS\n",
      "gpu_test live IQ shape = torch.Size([5120, 9766, 2])\n",
      "FINAL gpu_test LIVE IQ shape = torch.Size([2560, 9766, 2])\n",
      "start_frequency =  433.0\n",
      "sigmf_data =  (2560, 9766, 2)\n",
      "frequency =  2560   time =  9766\n",
      "seg_time =  43 seg_freq =  11\n",
      "data_IQ shape =  (473, 224, 224, 2)\n",
      "testing counter =  tensor([473]) seg_freq = tensor([11])\n",
      "seg_freq =  tensor([11])\n",
      "freq_increment =  227272.72727272726\n",
      "TESTING inputs SHAPE =  torch.Size([1, 473, 224, 224, 2])\n",
      "input in   =  torch.Size([1, 473, 224, 224, 2])\n",
      "input out  =  torch.Size([473, 224, 224, 2])\n",
      "counter convert stuff =  tensor([473]) <class 'numpy.ndarray'>\n",
      "permuted shape =  torch.Size([473, 2, 224, 224])\n",
      "mean Freq =    433.80\n",
      "std Freq =      0.80\n",
      "length of inputs =  473\n"
     ]
    },
    {
     "data": {
      "image/png": "[encoded data removed]",
      "text/plain": [
       "<matplotlib.figure.Figure at 0x7f46803b81d0>"
      ]
     },
     "metadata": {},
     "output_type": "display_data"
    },
    {
     "name": "stdout",
     "output_type": "stream",
     "text": [
      "************************* Probabilities ********************************\n",
      "----------------------------WAVEFORMS-----------------------------------\n",
      "LoRa 125 = 0.00%\n",
      "GD55 DMR = 20.93%\n",
      "NFM = 39.53%\n",
      "TYT = 0.00\n",
      "Vodeson Doorbell = 0.00%\n",
      "clickndig = 0.00%\n",
      "Sado doorbell = 0.00%\n",
      "LoRa 250 = 0.00%\n",
      "light switch = 0.00%\n",
      "YSF = 39.53%\n",
      "------------------------------------------------------------------------\n",
      "***************************** noise and fft ****************************\n",
      "noise matches =  387\n",
      "center fft matches =  0\n",
      "TOTAL patch count =  473\n",
      "***************************** Finished *********************************\n"
     ]
    }
   ],
   "source": [
    "msps = 5\n",
    "center_freq_file = 433.00e6 # when SDR doing 25MSPS with center at 428MHz, or 433.65e6, 428.00e6\n",
    "data_IQ_list_val, meta_list_val = inference_read_file(msps, path_test_5msps)\n",
    "testing_file(msps)\n",
    "torch.cuda.empty_cache()"
   ]
  },
  {
   "cell_type": "code",
   "execution_count": 51,
   "metadata": {},
   "outputs": [
    {
     "name": "stdout",
     "output_type": "stream",
     "text": [
      "inference file name =  UHF_clickndig_fob1_test1.sigmf-meta\n",
      "iq_read_test live\n",
      "gpu_test live function\n",
      "I length =  10000000\n",
      "Q length =  10000000\n",
      "1024 MSPS\n",
      "gpu_test live IQ shape = torch.Size([1024, 19532, 2])\n",
      "FINAL gpu_test LIVE IQ shape = torch.Size([512, 19532, 2])\n",
      "start_frequency =  433.65\n",
      "sigmf_data =  (512, 19532, 2)\n",
      "frequency =  512   time =  19532\n",
      "seg_time =  87 seg_freq =  2\n",
      "data_IQ shape =  (174, 224, 224, 2)\n",
      "testing counter =  tensor([174]) seg_freq = tensor([2])\n",
      "seg_freq =  tensor([2])\n",
      "freq_increment =  250000.0\n",
      "TESTING inputs SHAPE =  torch.Size([1, 174, 224, 224, 2])\n",
      "input in   =  torch.Size([1, 174, 224, 224, 2])\n",
      "input out  =  torch.Size([174, 224, 224, 2])\n",
      "counter convert stuff =  tensor([174]) <class 'numpy.ndarray'>\n",
      "permuted shape =  torch.Size([174, 2, 224, 224])\n",
      "mean Freq =    433.90\n",
      "std Freq =      0.00\n",
      "length of inputs =  174\n"
     ]
    },
    {
     "data": {
      "image/png": "[encoded data removed]",
      "text/plain": [
       "<matplotlib.figure.Figure at 0x7f46d76d6978>"
      ]
     },
     "metadata": {},
     "output_type": "display_data"
    },
    {
     "name": "stdout",
     "output_type": "stream",
     "text": [
      "************************* Probabilities ********************************\n",
      "----------------------------WAVEFORMS-----------------------------------\n",
      "LoRa 125 = 0.00%\n",
      "GD55 DMR = 0.00%\n",
      "NFM = 0.00%\n",
      "TYT = 0.00\n",
      "Vodeson Doorbell = 0.00%\n",
      "clickndig = 100.00%\n",
      "Sado doorbell = 0.00%\n",
      "LoRa 250 = 0.00%\n",
      "light switch = 0.00%\n",
      "YSF = 0.00%\n",
      "------------------------------------------------------------------------\n",
      "***************************** noise and fft ****************************\n",
      "noise matches =  87\n",
      "center fft matches =  0\n",
      "TOTAL patch count =  174\n",
      "***************************** Finished *********************************\n"
     ]
    }
   ],
   "source": [
    "msps = 1\n",
    "center_freq_file = 433.65e6 # when SDR doing 25MSPS with center at 428MHz, or 433.65e6, 428.00e6\n",
    "data_IQ_list_val, meta_list_val = inference_read_file(msps, path_test_1msps)\n",
    "testing_file(msps)\n",
    "torch.cuda.empty_cache()"
   ]
  },
  {
   "cell_type": "code",
   "execution_count": 166,
   "metadata": {},
   "outputs": [],
   "source": [
    "torch.cuda.empty_cache()"
   ]
  },
  {
   "cell_type": "markdown",
   "metadata": {},
   "source": [
    "#### Save and Load model data"
   ]
  },
  {
   "cell_type": "code",
   "execution_count": 331,
   "metadata": {},
   "outputs": [],
   "source": [
    "rf_model = 'ResNet50_v56_2D_20210208_100noise'"
   ]
  },
  {
   "cell_type": "code",
   "execution_count": 332,
   "metadata": {},
   "outputs": [],
   "source": [
    "PATH = path_save+rf_model"
   ]
  },
  {
   "cell_type": "markdown",
   "metadata": {},
   "source": [
    "#### save"
   ]
  },
  {
   "cell_type": "code",
   "execution_count": 333,
   "metadata": {},
   "outputs": [],
   "source": [
    "# torch.save(model.state_dict(), PATH)"
   ]
  },
  {
   "cell_type": "markdown",
   "metadata": {},
   "source": [
    "#### load"
   ]
  },
  {
   "cell_type": "code",
   "execution_count": 249,
   "metadata": {},
   "outputs": [
    {
     "data": {
      "text/plain": [
       "ResNet(\n",
       "  (encoder): ResNetEncoder(\n",
       "    (gate): Sequential(\n",
       "      (0): Conv2d(2, 64, kernel_size=(7, 7), stride=(2, 2), padding=(3, 3), bias=False)\n",
       "      (1): BatchNorm2d(64, eps=1e-05, momentum=0.1, affine=True, track_running_stats=True)\n",
       "      (2): ReLU()\n",
       "      (3): MaxPool2d(kernel_size=3, stride=2, padding=1, dilation=1, ceil_mode=False)\n",
       "    )\n",
       "    (blocks): ModuleList(\n",
       "      (0): ResNetLayer(\n",
       "        (blocks): Sequential(\n",
       "          (0): ResNetBottleNeckBlock(\n",
       "            (blocks): Sequential(\n",
       "              (0): Sequential(\n",
       "                (conv): Conv2dAuto(64, 64, kernel_size=(1, 1), stride=(1, 1), bias=False)\n",
       "                (bn): BatchNorm2d(64, eps=1e-05, momentum=0.1, affine=True, track_running_stats=True)\n",
       "              )\n",
       "              (1): ReLU()\n",
       "              (2): Sequential(\n",
       "                (conv): Conv2dAuto(64, 64, kernel_size=(3, 3), stride=(1, 1), padding=(1, 1), bias=False)\n",
       "                (bn): BatchNorm2d(64, eps=1e-05, momentum=0.1, affine=True, track_running_stats=True)\n",
       "              )\n",
       "              (3): ReLU()\n",
       "              (4): Sequential(\n",
       "                (conv): Conv2dAuto(64, 256, kernel_size=(1, 1), stride=(1, 1), bias=False)\n",
       "                (bn): BatchNorm2d(256, eps=1e-05, momentum=0.1, affine=True, track_running_stats=True)\n",
       "              )\n",
       "            )\n",
       "            (shortcut): Sequential(\n",
       "              (conv): Conv2d(64, 256, kernel_size=(1, 1), stride=(1, 1), bias=False)\n",
       "              (bn): BatchNorm2d(256, eps=1e-05, momentum=0.1, affine=True, track_running_stats=True)\n",
       "            )\n",
       "          )\n",
       "          (1): ResNetBottleNeckBlock(\n",
       "            (blocks): Sequential(\n",
       "              (0): Sequential(\n",
       "                (conv): Conv2dAuto(256, 64, kernel_size=(1, 1), stride=(1, 1), bias=False)\n",
       "                (bn): BatchNorm2d(64, eps=1e-05, momentum=0.1, affine=True, track_running_stats=True)\n",
       "              )\n",
       "              (1): ReLU()\n",
       "              (2): Sequential(\n",
       "                (conv): Conv2dAuto(64, 64, kernel_size=(3, 3), stride=(1, 1), padding=(1, 1), bias=False)\n",
       "                (bn): BatchNorm2d(64, eps=1e-05, momentum=0.1, affine=True, track_running_stats=True)\n",
       "              )\n",
       "              (3): ReLU()\n",
       "              (4): Sequential(\n",
       "                (conv): Conv2dAuto(64, 256, kernel_size=(1, 1), stride=(1, 1), bias=False)\n",
       "                (bn): BatchNorm2d(256, eps=1e-05, momentum=0.1, affine=True, track_running_stats=True)\n",
       "              )\n",
       "            )\n",
       "            (shortcut): None\n",
       "          )\n",
       "          (2): ResNetBottleNeckBlock(\n",
       "            (blocks): Sequential(\n",
       "              (0): Sequential(\n",
       "                (conv): Conv2dAuto(256, 64, kernel_size=(1, 1), stride=(1, 1), bias=False)\n",
       "                (bn): BatchNorm2d(64, eps=1e-05, momentum=0.1, affine=True, track_running_stats=True)\n",
       "              )\n",
       "              (1): ReLU()\n",
       "              (2): Sequential(\n",
       "                (conv): Conv2dAuto(64, 64, kernel_size=(3, 3), stride=(1, 1), padding=(1, 1), bias=False)\n",
       "                (bn): BatchNorm2d(64, eps=1e-05, momentum=0.1, affine=True, track_running_stats=True)\n",
       "              )\n",
       "              (3): ReLU()\n",
       "              (4): Sequential(\n",
       "                (conv): Conv2dAuto(64, 256, kernel_size=(1, 1), stride=(1, 1), bias=False)\n",
       "                (bn): BatchNorm2d(256, eps=1e-05, momentum=0.1, affine=True, track_running_stats=True)\n",
       "              )\n",
       "            )\n",
       "            (shortcut): None\n",
       "          )\n",
       "        )\n",
       "      )\n",
       "      (1): ResNetLayer(\n",
       "        (blocks): Sequential(\n",
       "          (0): ResNetBottleNeckBlock(\n",
       "            (blocks): Sequential(\n",
       "              (0): Sequential(\n",
       "                (conv): Conv2dAuto(256, 128, kernel_size=(1, 1), stride=(1, 1), bias=False)\n",
       "                (bn): BatchNorm2d(128, eps=1e-05, momentum=0.1, affine=True, track_running_stats=True)\n",
       "              )\n",
       "              (1): ReLU()\n",
       "              (2): Sequential(\n",
       "                (conv): Conv2dAuto(128, 128, kernel_size=(3, 3), stride=(2, 2), padding=(1, 1), bias=False)\n",
       "                (bn): BatchNorm2d(128, eps=1e-05, momentum=0.1, affine=True, track_running_stats=True)\n",
       "              )\n",
       "              (3): ReLU()\n",
       "              (4): Sequential(\n",
       "                (conv): Conv2dAuto(128, 512, kernel_size=(1, 1), stride=(1, 1), bias=False)\n",
       "                (bn): BatchNorm2d(512, eps=1e-05, momentum=0.1, affine=True, track_running_stats=True)\n",
       "              )\n",
       "            )\n",
       "            (shortcut): Sequential(\n",
       "              (conv): Conv2d(256, 512, kernel_size=(1, 1), stride=(2, 2), bias=False)\n",
       "              (bn): BatchNorm2d(512, eps=1e-05, momentum=0.1, affine=True, track_running_stats=True)\n",
       "            )\n",
       "          )\n",
       "          (1): ResNetBottleNeckBlock(\n",
       "            (blocks): Sequential(\n",
       "              (0): Sequential(\n",
       "                (conv): Conv2dAuto(512, 128, kernel_size=(1, 1), stride=(1, 1), bias=False)\n",
       "                (bn): BatchNorm2d(128, eps=1e-05, momentum=0.1, affine=True, track_running_stats=True)\n",
       "              )\n",
       "              (1): ReLU()\n",
       "              (2): Sequential(\n",
       "                (conv): Conv2dAuto(128, 128, kernel_size=(3, 3), stride=(1, 1), padding=(1, 1), bias=False)\n",
       "                (bn): BatchNorm2d(128, eps=1e-05, momentum=0.1, affine=True, track_running_stats=True)\n",
       "              )\n",
       "              (3): ReLU()\n",
       "              (4): Sequential(\n",
       "                (conv): Conv2dAuto(128, 512, kernel_size=(1, 1), stride=(1, 1), bias=False)\n",
       "                (bn): BatchNorm2d(512, eps=1e-05, momentum=0.1, affine=True, track_running_stats=True)\n",
       "              )\n",
       "            )\n",
       "            (shortcut): None\n",
       "          )\n",
       "          (2): ResNetBottleNeckBlock(\n",
       "            (blocks): Sequential(\n",
       "              (0): Sequential(\n",
       "                (conv): Conv2dAuto(512, 128, kernel_size=(1, 1), stride=(1, 1), bias=False)\n",
       "                (bn): BatchNorm2d(128, eps=1e-05, momentum=0.1, affine=True, track_running_stats=True)\n",
       "              )\n",
       "              (1): ReLU()\n",
       "              (2): Sequential(\n",
       "                (conv): Conv2dAuto(128, 128, kernel_size=(3, 3), stride=(1, 1), padding=(1, 1), bias=False)\n",
       "                (bn): BatchNorm2d(128, eps=1e-05, momentum=0.1, affine=True, track_running_stats=True)\n",
       "              )\n",
       "              (3): ReLU()\n",
       "              (4): Sequential(\n",
       "                (conv): Conv2dAuto(128, 512, kernel_size=(1, 1), stride=(1, 1), bias=False)\n",
       "                (bn): BatchNorm2d(512, eps=1e-05, momentum=0.1, affine=True, track_running_stats=True)\n",
       "              )\n",
       "            )\n",
       "            (shortcut): None\n",
       "          )\n",
       "          (3): ResNetBottleNeckBlock(\n",
       "            (blocks): Sequential(\n",
       "              (0): Sequential(\n",
       "                (conv): Conv2dAuto(512, 128, kernel_size=(1, 1), stride=(1, 1), bias=False)\n",
       "                (bn): BatchNorm2d(128, eps=1e-05, momentum=0.1, affine=True, track_running_stats=True)\n",
       "              )\n",
       "              (1): ReLU()\n",
       "              (2): Sequential(\n",
       "                (conv): Conv2dAuto(128, 128, kernel_size=(3, 3), stride=(1, 1), padding=(1, 1), bias=False)\n",
       "                (bn): BatchNorm2d(128, eps=1e-05, momentum=0.1, affine=True, track_running_stats=True)\n",
       "              )\n",
       "              (3): ReLU()\n",
       "              (4): Sequential(\n",
       "                (conv): Conv2dAuto(128, 512, kernel_size=(1, 1), stride=(1, 1), bias=False)\n",
       "                (bn): BatchNorm2d(512, eps=1e-05, momentum=0.1, affine=True, track_running_stats=True)\n",
       "              )\n",
       "            )\n",
       "            (shortcut): None\n",
       "          )\n",
       "        )\n",
       "      )\n",
       "      (2): ResNetLayer(\n",
       "        (blocks): Sequential(\n",
       "          (0): ResNetBottleNeckBlock(\n",
       "            (blocks): Sequential(\n",
       "              (0): Sequential(\n",
       "                (conv): Conv2dAuto(512, 256, kernel_size=(1, 1), stride=(1, 1), bias=False)\n",
       "                (bn): BatchNorm2d(256, eps=1e-05, momentum=0.1, affine=True, track_running_stats=True)\n",
       "              )\n",
       "              (1): ReLU()\n",
       "              (2): Sequential(\n",
       "                (conv): Conv2dAuto(256, 256, kernel_size=(3, 3), stride=(2, 2), padding=(1, 1), bias=False)\n",
       "                (bn): BatchNorm2d(256, eps=1e-05, momentum=0.1, affine=True, track_running_stats=True)\n",
       "              )\n",
       "              (3): ReLU()\n",
       "              (4): Sequential(\n",
       "                (conv): Conv2dAuto(256, 1024, kernel_size=(1, 1), stride=(1, 1), bias=False)\n",
       "                (bn): BatchNorm2d(1024, eps=1e-05, momentum=0.1, affine=True, track_running_stats=True)\n",
       "              )\n",
       "            )\n",
       "            (shortcut): Sequential(\n",
       "              (conv): Conv2d(512, 1024, kernel_size=(1, 1), stride=(2, 2), bias=False)\n",
       "              (bn): BatchNorm2d(1024, eps=1e-05, momentum=0.1, affine=True, track_running_stats=True)\n",
       "            )\n",
       "          )\n",
       "          (1): ResNetBottleNeckBlock(\n",
       "            (blocks): Sequential(\n",
       "              (0): Sequential(\n",
       "                (conv): Conv2dAuto(1024, 256, kernel_size=(1, 1), stride=(1, 1), bias=False)\n",
       "                (bn): BatchNorm2d(256, eps=1e-05, momentum=0.1, affine=True, track_running_stats=True)\n",
       "              )\n",
       "              (1): ReLU()\n",
       "              (2): Sequential(\n",
       "                (conv): Conv2dAuto(256, 256, kernel_size=(3, 3), stride=(1, 1), padding=(1, 1), bias=False)\n",
       "                (bn): BatchNorm2d(256, eps=1e-05, momentum=0.1, affine=True, track_running_stats=True)\n",
       "              )\n",
       "              (3): ReLU()\n",
       "              (4): Sequential(\n",
       "                (conv): Conv2dAuto(256, 1024, kernel_size=(1, 1), stride=(1, 1), bias=False)\n",
       "                (bn): BatchNorm2d(1024, eps=1e-05, momentum=0.1, affine=True, track_running_stats=True)\n",
       "              )\n",
       "            )\n",
       "            (shortcut): None\n",
       "          )\n",
       "          (2): ResNetBottleNeckBlock(\n",
       "            (blocks): Sequential(\n",
       "              (0): Sequential(\n",
       "                (conv): Conv2dAuto(1024, 256, kernel_size=(1, 1), stride=(1, 1), bias=False)\n",
       "                (bn): BatchNorm2d(256, eps=1e-05, momentum=0.1, affine=True, track_running_stats=True)\n",
       "              )\n",
       "              (1): ReLU()\n",
       "              (2): Sequential(\n",
       "                (conv): Conv2dAuto(256, 256, kernel_size=(3, 3), stride=(1, 1), padding=(1, 1), bias=False)\n",
       "                (bn): BatchNorm2d(256, eps=1e-05, momentum=0.1, affine=True, track_running_stats=True)\n",
       "              )\n",
       "              (3): ReLU()\n",
       "              (4): Sequential(\n",
       "                (conv): Conv2dAuto(256, 1024, kernel_size=(1, 1), stride=(1, 1), bias=False)\n",
       "                (bn): BatchNorm2d(1024, eps=1e-05, momentum=0.1, affine=True, track_running_stats=True)\n",
       "              )\n",
       "            )\n",
       "            (shortcut): None\n",
       "          )\n",
       "          (3): ResNetBottleNeckBlock(\n",
       "            (blocks): Sequential(\n",
       "              (0): Sequential(\n",
       "                (conv): Conv2dAuto(1024, 256, kernel_size=(1, 1), stride=(1, 1), bias=False)\n",
       "                (bn): BatchNorm2d(256, eps=1e-05, momentum=0.1, affine=True, track_running_stats=True)\n",
       "              )\n",
       "              (1): ReLU()\n",
       "              (2): Sequential(\n",
       "                (conv): Conv2dAuto(256, 256, kernel_size=(3, 3), stride=(1, 1), padding=(1, 1), bias=False)\n",
       "                (bn): BatchNorm2d(256, eps=1e-05, momentum=0.1, affine=True, track_running_stats=True)\n",
       "              )\n",
       "              (3): ReLU()\n",
       "              (4): Sequential(\n",
       "                (conv): Conv2dAuto(256, 1024, kernel_size=(1, 1), stride=(1, 1), bias=False)\n",
       "                (bn): BatchNorm2d(1024, eps=1e-05, momentum=0.1, affine=True, track_running_stats=True)\n",
       "              )\n",
       "            )\n",
       "            (shortcut): None\n",
       "          )\n",
       "          (4): ResNetBottleNeckBlock(\n",
       "            (blocks): Sequential(\n",
       "              (0): Sequential(\n",
       "                (conv): Conv2dAuto(1024, 256, kernel_size=(1, 1), stride=(1, 1), bias=False)\n",
       "                (bn): BatchNorm2d(256, eps=1e-05, momentum=0.1, affine=True, track_running_stats=True)\n",
       "              )\n",
       "              (1): ReLU()\n",
       "              (2): Sequential(\n",
       "                (conv): Conv2dAuto(256, 256, kernel_size=(3, 3), stride=(1, 1), padding=(1, 1), bias=False)\n",
       "                (bn): BatchNorm2d(256, eps=1e-05, momentum=0.1, affine=True, track_running_stats=True)\n",
       "              )\n",
       "              (3): ReLU()\n",
       "              (4): Sequential(\n",
       "                (conv): Conv2dAuto(256, 1024, kernel_size=(1, 1), stride=(1, 1), bias=False)\n",
       "                (bn): BatchNorm2d(1024, eps=1e-05, momentum=0.1, affine=True, track_running_stats=True)\n",
       "              )\n",
       "            )\n",
       "            (shortcut): None\n",
       "          )\n",
       "          (5): ResNetBottleNeckBlock(\n",
       "            (blocks): Sequential(\n",
       "              (0): Sequential(\n",
       "                (conv): Conv2dAuto(1024, 256, kernel_size=(1, 1), stride=(1, 1), bias=False)\n",
       "                (bn): BatchNorm2d(256, eps=1e-05, momentum=0.1, affine=True, track_running_stats=True)\n",
       "              )\n",
       "              (1): ReLU()\n",
       "              (2): Sequential(\n",
       "                (conv): Conv2dAuto(256, 256, kernel_size=(3, 3), stride=(1, 1), padding=(1, 1), bias=False)\n",
       "                (bn): BatchNorm2d(256, eps=1e-05, momentum=0.1, affine=True, track_running_stats=True)\n",
       "              )\n",
       "              (3): ReLU()\n",
       "              (4): Sequential(\n",
       "                (conv): Conv2dAuto(256, 1024, kernel_size=(1, 1), stride=(1, 1), bias=False)\n",
       "                (bn): BatchNorm2d(1024, eps=1e-05, momentum=0.1, affine=True, track_running_stats=True)\n",
       "              )\n",
       "            )\n",
       "            (shortcut): None\n",
       "          )\n",
       "        )\n",
       "      )\n",
       "      (3): ResNetLayer(\n",
       "        (blocks): Sequential(\n",
       "          (0): ResNetBottleNeckBlock(\n",
       "            (blocks): Sequential(\n",
       "              (0): Sequential(\n",
       "                (conv): Conv2dAuto(1024, 512, kernel_size=(1, 1), stride=(1, 1), bias=False)\n",
       "                (bn): BatchNorm2d(512, eps=1e-05, momentum=0.1, affine=True, track_running_stats=True)\n",
       "              )\n",
       "              (1): ReLU()\n",
       "              (2): Sequential(\n",
       "                (conv): Conv2dAuto(512, 512, kernel_size=(3, 3), stride=(2, 2), padding=(1, 1), bias=False)\n",
       "                (bn): BatchNorm2d(512, eps=1e-05, momentum=0.1, affine=True, track_running_stats=True)\n",
       "              )\n",
       "              (3): ReLU()\n",
       "              (4): Sequential(\n",
       "                (conv): Conv2dAuto(512, 2048, kernel_size=(1, 1), stride=(1, 1), bias=False)\n",
       "                (bn): BatchNorm2d(2048, eps=1e-05, momentum=0.1, affine=True, track_running_stats=True)\n",
       "              )\n",
       "            )\n",
       "            (shortcut): Sequential(\n",
       "              (conv): Conv2d(1024, 2048, kernel_size=(1, 1), stride=(2, 2), bias=False)\n",
       "              (bn): BatchNorm2d(2048, eps=1e-05, momentum=0.1, affine=True, track_running_stats=True)\n",
       "            )\n",
       "          )\n",
       "          (1): ResNetBottleNeckBlock(\n",
       "            (blocks): Sequential(\n",
       "              (0): Sequential(\n",
       "                (conv): Conv2dAuto(2048, 512, kernel_size=(1, 1), stride=(1, 1), bias=False)\n",
       "                (bn): BatchNorm2d(512, eps=1e-05, momentum=0.1, affine=True, track_running_stats=True)\n",
       "              )\n",
       "              (1): ReLU()\n",
       "              (2): Sequential(\n",
       "                (conv): Conv2dAuto(512, 512, kernel_size=(3, 3), stride=(1, 1), padding=(1, 1), bias=False)\n",
       "                (bn): BatchNorm2d(512, eps=1e-05, momentum=0.1, affine=True, track_running_stats=True)\n",
       "              )\n",
       "              (3): ReLU()\n",
       "              (4): Sequential(\n",
       "                (conv): Conv2dAuto(512, 2048, kernel_size=(1, 1), stride=(1, 1), bias=False)\n",
       "                (bn): BatchNorm2d(2048, eps=1e-05, momentum=0.1, affine=True, track_running_stats=True)\n",
       "              )\n",
       "            )\n",
       "            (shortcut): None\n",
       "          )\n",
       "          (2): ResNetBottleNeckBlock(\n",
       "            (blocks): Sequential(\n",
       "              (0): Sequential(\n",
       "                (conv): Conv2dAuto(2048, 512, kernel_size=(1, 1), stride=(1, 1), bias=False)\n",
       "                (bn): BatchNorm2d(512, eps=1e-05, momentum=0.1, affine=True, track_running_stats=True)\n",
       "              )\n",
       "              (1): ReLU()\n",
       "              (2): Sequential(\n",
       "                (conv): Conv2dAuto(512, 512, kernel_size=(3, 3), stride=(1, 1), padding=(1, 1), bias=False)\n",
       "                (bn): BatchNorm2d(512, eps=1e-05, momentum=0.1, affine=True, track_running_stats=True)\n",
       "              )\n",
       "              (3): ReLU()\n",
       "              (4): Sequential(\n",
       "                (conv): Conv2dAuto(512, 2048, kernel_size=(1, 1), stride=(1, 1), bias=False)\n",
       "                (bn): BatchNorm2d(2048, eps=1e-05, momentum=0.1, affine=True, track_running_stats=True)\n",
       "              )\n",
       "            )\n",
       "            (shortcut): None\n",
       "          )\n",
       "        )\n",
       "      )\n",
       "    )\n",
       "  )\n",
       "  (decoder): ResnetDecoder(\n",
       "    (avg): AdaptiveAvgPool2d(output_size=(1, 1))\n",
       "    (decoder): Linear(in_features=2048, out_features=12, bias=True)\n",
       "  )\n",
       ")"
      ]
     },
     "execution_count": 249,
     "metadata": {},
     "output_type": "execute_result"
    }
   ],
   "source": [
    "# device = torch.device(\"cuda:0\")\n",
    "# model = resnet50(2, 12)\n",
    "# model.load_state_dict(torch.load(PATH))\n",
    "# model.to(device)\n",
    "# model.eval()"
   ]
  },
  {
   "cell_type": "code",
   "execution_count": 45,
   "metadata": {},
   "outputs": [],
   "source": [
    "# # Print model's state_dict\n",
    "# print(\"Model's state_dict:\")\n",
    "# for param_tensor in model.state_dict():\n",
    "#     print(param_tensor, \"\\t\", model.state_dict()[param_tensor].size())"
   ]
  },
  {
   "cell_type": "code",
   "execution_count": 46,
   "metadata": {},
   "outputs": [],
   "source": [
    "# # Print optimizer's state_dict\n",
    "# print(\"Optimizer's state_dict:\")\n",
    "# for var_name in optimizer.state_dict():\n",
    "#     print(var_name, \"\\t\", optimizer.state_dict()[var_name])"
   ]
  },
  {
   "cell_type": "code",
   "execution_count": 47,
   "metadata": {},
   "outputs": [],
   "source": [
    "# # SAVE MODEL\n",
    "# os.chdir(path_save)\n",
    "# torch.save({\n",
    "#            'epoch': epoch,\n",
    "#            'model_state_dict': model.state_dict(),\n",
    "#            'optimizer_state_dict': optimizer.state_dict(),\n",
    "#            'loss': loss,\n",
    "#            }, path_save+rf_model)"
   ]
  },
  {
   "cell_type": "code",
   "execution_count": 48,
   "metadata": {},
   "outputs": [],
   "source": [
    "# # LOAD MODEL\n",
    "# checkpoint = torch.load(path_save+rf_model, map_location=device)\n",
    "\n",
    "\n",
    "# # STATUS\n",
    "# checkpoint.keys()\n",
    "\n",
    "# epoch = checkpoint['epoch']\n",
    "# model_state_dict = checkpoint['model_state_dict']\n",
    "# optimizer_state_dict = checkpoint['optimizer_state_dict']\n",
    "# loss = checkpoint['loss']\n",
    "\n",
    "# optimizer_state_dict.keys()\n",
    "\n",
    "# optimizer_state_dict['param_groups']\n",
    "\n",
    "# loss\n",
    "\n",
    "# model.load_state_dict(model_state_dict)   "
   ]
  },
  {
   "cell_type": "code",
   "execution_count": 49,
   "metadata": {},
   "outputs": [],
   "source": [
    "# loss"
   ]
  },
  {
   "cell_type": "code",
   "execution_count": 50,
   "metadata": {},
   "outputs": [],
   "source": [
    "# optimizer_state_dict.keys()"
   ]
  },
  {
   "cell_type": "code",
   "execution_count": null,
   "metadata": {},
   "outputs": [],
   "source": []
  }
 ],
 "metadata": {
  "accelerator": "GPU",
  "colab": {
   "collapsed_sections": [],
   "name": "E533 HW1 rev4.ipynb",
   "provenance": [
    {
     "file_id": "1DEqxXQe7Yw25roekLHtUmU_55IJKGY0H",
     "timestamp": 1548894460827
    },
    {
     "file_id": "19e_Vg1krlpJa5zSISQDOVQTwYKepXKql",
     "timestamp": 1548892687570
    },
    {
     "file_id": "1b7T-jkKgv4ynQ_Pe5HCAUM9GTox9fKS9",
     "timestamp": 1548440177000
    },
    {
     "file_id": "12fap5WLhwheizCF9I9Ul-qc2bQ7ZmiWS",
     "timestamp": 1548439576387
    }
   ],
   "version": "0.3.2"
  },
  "kernelspec": {
   "display_name": "Python 3",
   "language": "python",
   "name": "python3"
  },
  "language_info": {
   "codemirror_mode": {
    "name": "ipython",
    "version": 3
   },
   "file_extension": ".py",
   "mimetype": "text/x-python",
   "name": "python",
   "nbconvert_exporter": "python",
   "pygments_lexer": "ipython3",
   "version": "3.6.9"
  }
 },
 "nbformat": 4,
 "nbformat_minor": 1
}
