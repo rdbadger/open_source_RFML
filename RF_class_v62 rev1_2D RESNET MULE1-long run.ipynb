{
 "cells": [
  {
   "cell_type": "markdown",
   "metadata": {
    "colab_type": "text",
    "id": "cn5_7mqggh2H"
   },
   "source": [
    "## sigMF RF classification; 12 classes"
   ]
  },
  {
   "cell_type": "code",
   "execution_count": 1,
   "metadata": {
    "colab": {
     "base_uri": "https://localhost:8080/",
     "height": 68
    },
    "colab_type": "code",
    "executionInfo": {
     "elapsed": 2251,
     "status": "ok",
     "timestamp": 1548951950015,
     "user": {
      "displayName": "Robert Badger",
      "photoUrl": "",
      "userId": "11966704463856227449"
     },
     "user_tz": 300
    },
    "id": "r80FflgHhCiH",
    "outputId": "143411b2-cc11-47a1-c334-a76291219798",
    "scrolled": false
   },
   "outputs": [
    {
     "name": "stdout",
     "output_type": "stream",
     "text": [
      "Torch version = 1.6.0 CUDA version = 10.2\n",
      "CUDA Device: cuda:0\n",
      "Is cuda available? = True\n"
     ]
    }
   ],
   "source": [
    "import os\n",
    "import torch\n",
    "import torch.nn as nn\n",
    "import torch.optim as optim\n",
    "import torch.nn.functional as F\n",
    "import torch.utils.data\n",
    "import torch.utils.data as data\n",
    "from torch.autograd import Variable\n",
    "import numpy as np\n",
    "import matplotlib.pyplot as plt\n",
    "from scipy import signal\n",
    "import glob\n",
    "import json\n",
    "from os import walk\n",
    "import pickle\n",
    "import json\n",
    "import pathlib\n",
    "import random\n",
    "from timeit import default_timer as timer\n",
    "import time\n",
    "from tqdm import tqdm\n",
    "from torch.utils.data import Dataset, DataLoader\n",
    "global GPU, fft, Fs, center_freq, fft_val, Fs_test, loss, batches, eps, var_noise, mean_noise, top\n",
    "global c1_coeff, c2_coeff, a, r1_c1, r2_c1, r1_c2, r2_c2, compare\n",
    "a = 1\n",
    "r1_c2 = 1\n",
    "r2_c2 = 2\n",
    "top = .995\n",
    "var_noise = 8.78e-09\n",
    "mean_noise = 1 # not used\n",
    "eps = 1e-15\n",
    "Fs = 1000000\n",
    "fft = 1024\n",
    "center_freq_file = 433.65e6 # when SDR doing 25MSPS with center at 428MHz\n",
    "center_freq_live = 428.00e6 # when SDR doing 25MSPS with center at 428MHz\n",
    "batches = 64\n",
    "plt.style.use('default')\n",
    "GPU = 0\n",
    "device = torch.device('cuda:0')\n",
    "print('Torch version =', torch.__version__, 'CUDA version =', torch.version.cuda)\n",
    "print('CUDA Device:', device)\n",
    "print('Is cuda available? =',torch.cuda.is_available())"
   ]
  },
  {
   "cell_type": "code",
   "execution_count": 2,
   "metadata": {},
   "outputs": [
    {
     "data": {
      "text/plain": [
       "2"
      ]
     },
     "execution_count": 2,
     "metadata": {},
     "output_type": "execute_result"
    }
   ],
   "source": [
    "r2_c2"
   ]
  },
  {
   "cell_type": "code",
   "execution_count": 3,
   "metadata": {},
   "outputs": [],
   "source": [
    "!. /home/david/prefix-3.8/setup_env.sh"
   ]
  },
  {
   "cell_type": "markdown",
   "metadata": {
    "colab_type": "text",
    "id": "2t_9_D3l0Px9"
   },
   "source": [
    "#### Machine paths"
   ]
  },
  {
   "cell_type": "code",
   "execution_count": 4,
   "metadata": {
    "scrolled": false
   },
   "outputs": [
    {
     "name": "stdout",
     "output_type": "stream",
     "text": [
      "/home/david/sigMF_ML/RF/RF_class/data/\n"
     ]
    }
   ],
   "source": [
    "path_ram = \"/home/david/sigMF_ML/RF/ramdisk/\"\n",
    "path_usrp = \"/home/david/prefix-3.8/\"\n",
    "path = \"/home/david/sigMF_ML/RF/RF_class/data/\" # ACE\n",
    "path_val1 = \"/home/david/sigMF_ML/RF/RF_class/data_val1/\" # fft_center    - class 9\n",
    "path_val2 = \"/home/david/sigMF_ML/RF/RF_class/data_val2/\" # light switch - class 10\n",
    "path_val3 = \"/home/david/sigMF_ML/RF/RF_class/data_val3/\" # clickndig     - class 5\n",
    "path_val4 = \"/home/david/sigMF_ML/RF/RF_class/data_val4/\" # GD55          - class 1\n",
    "path_val5 = \"/home/david/sigMF_ML/RF/RF_class/data_val5/\" # lora125       - class 0\n",
    "path_val6 = \"/home/david/sigMF_ML/RF/RF_class/data_val6/\" # lora250       - class 7\n",
    "path_val7 = \"/home/david/sigMF_ML/RF/RF_class/data_val7/\" # NFM           - class 2\n",
    "path_val8 = \"/home/david/sigMF_ML/RF/RF_class/data_val8/\" # sado          - class 6\n",
    "path_val9 = \"/home/david/sigMF_ML/RF/RF_class/data_val9/\" # TYT           - class 3\n",
    "path_val10 = \"/home/david/sigMF_ML/RF/RF_class/data_val10/\" # vodeson     - class 4\n",
    "path_val11 = \"/home/david/sigMF_ML/RF/RF_class/data_val11/\" # white noise - class 8\n",
    "path_val12 = \"/home/david/sigMF_ML/RF/RF_class/data_val12/\" # ysf        - class 11\n",
    "path_fig = \"/home/david/sigMF_ML/RF/RF_class/\" # ACE\n",
    "path_val = \"/home/david/sigMF_ML/RF/RF_class/testing_data/\" # ACE\n",
    "path_save = \"/home/david/sigMF_ML/RF/RF_class/saved/\" # ACE\n",
    "path_test = \"/home/david/sigMF_ML/RF/RF_class/testing_data/\" # ACE\n",
    "path_test_1msps = \"/home/david/sigMF_ML/RF/RF_class/testing_data_1msps/\" # ACE\n",
    "path_test_5msps = \"/home/david/sigMF_ML/RF/RF_class/testing_data_5msps/\" # ACE\n",
    "path_test_10msps = \"/home/david/sigMF_ML/RF/RF_class/testing_data_10msps/\" # ACE\n",
    "path_test_25msps = \"/home/david/sigMF_ML/RF/RF_class/testing_data_25msps/\" # ACE\n",
    "print(path)"
   ]
  },
  {
   "cell_type": "markdown",
   "metadata": {},
   "source": [
    "## Functions "
   ]
  },
  {
   "cell_type": "code",
   "execution_count": 8,
   "metadata": {},
   "outputs": [],
   "source": [
    "# START OF FUNCTIONS ****************************************************\n",
    "def meta_encoder(meta_list, num_classes): \n",
    "    a = np.asarray(meta_list, dtype=int)\n",
    "#    print('a = ', a)\n",
    "    return a \n",
    "\n",
    "def save_model(epoch,loss):\n",
    "    rf_model = 'ResNet50_2ch_20210415_25msps_autosave'\n",
    "    PATH = path_save+rf_model\n",
    "    torch.save({\n",
    "            'epoch': epoch,\n",
    "            'model_state_dict': model.state_dict(),\n",
    "            'optimizer_state_dict': optimizer.state_dict(),\n",
    "            'loss': loss,}, PATH)   \n",
    "    \n",
    "def load_model():\n",
    "    rf_model = 'ResNet50_2ch_20210415_25msps_autosave'\n",
    "    PATH = path_save+rf_model\n",
    "    device = torch.device(\"cuda:0\")\n",
    "    model = resnet50(2, 12)\n",
    "    model.load_state_dict(torch.load(PATH))\n",
    "    model.to(device)\n",
    "    model.eval()     \n",
    "\n",
    "def gpu_test_file(db):\n",
    "    if (msps == 1):\n",
    "        w1 = fft\n",
    "    elif (msps == 5):\n",
    "        w1 = fft*1\n",
    "    elif (msps == 10):\n",
    "        w1 = fft*1        \n",
    "    elif (msps == 25):\n",
    "        w1 = fft*1 \n",
    "    print('gpu_test file function')    \n",
    "    I = db[0::2]\n",
    "    Q = db[1::2]\n",
    "    w = fft*msps\n",
    "    print('Sample Rate = ',w,'MSPS')\n",
    "    den = 2\n",
    "    print('window length = ', w1)\n",
    "    win = torch.hann_window(w1, periodic=True, dtype=None, layout=torch.strided, requires_grad=False).cuda(GPU)\n",
    "    I_stft = torch.stft(torch.tensor(I).cuda(GPU), n_fft=fft, hop_length=fft//den, win_length=w1, window=win, center=True, normalized=True, onesided=True)\n",
    "    Q_stft = torch.stft(torch.tensor(Q).cuda(GPU), n_fft=fft, hop_length=fft//den, win_length=w1, window=win, center=True, normalized=True, onesided=True)\n",
    "    I_mag = torch.abs(torch.sqrt(I_stft[:,:,0]**2+I_stft[:,:,1]**2))\n",
    "    Q_mag = torch.abs(torch.sqrt(Q_stft[:,:,0]**2+Q_stft[:,:,1]**2))     \n",
    "    I_mag = torch.unsqueeze(I_mag, dim=2)\n",
    "    Q_mag = torch.unsqueeze(Q_mag, dim=2)   \n",
    "#     print('I shape =', I_stft.shape, 'Q shape = ', Q_stft.shape )\n",
    "#     print('I_mag shape =', I_mag.shape, 'Q_mag shape = ', Q_mag.shape )\n",
    "    Z_stft = torch.cat((I_mag,Q_mag),2)\n",
    "#     Z_stft = torch.cat((Z_stft[fft//2:,:,:],Z_stft[:fft//2,:,:])) # NOT SURE I NEED TO DO THIS...\n",
    "#     print('gpu_test file Z shape =', Z_stft.shape)\n",
    "    Z_stft = Z_stft[fft//2:,:,:] # throw bottom 1/2 away\n",
    "    print('FINAL gpu_test FILE IQ shape =', Z_stft.shape)\n",
    "    torch.cuda.empty_cache()\n",
    "    return Z_stft # Returning 2D\n",
    "\n",
    "def gpu_test_live(db,msps):\n",
    "    if (msps == 1):\n",
    "        w1 = fft\n",
    "    elif (msps == 5):\n",
    "        w1 = fft*1\n",
    "    elif (msps == 10):\n",
    "        w1 = fft*1        \n",
    "    elif (msps == 25):\n",
    "        w1 = fft*1     \n",
    "    print('gpu_test live function')    \n",
    "#     I = db[0:10000000:2]\n",
    "#     Q = db[1:10000000:2]    \n",
    "    I = db[0::2]\n",
    "    Q = db[1::2]\n",
    "    print('I length = ', len(I))\n",
    "    print('Q length = ', len(Q))\n",
    "    w = fft*msps\n",
    "    print(w,'MSPS')\n",
    "    den = 2\n",
    "    win = torch.hann_window(w1, periodic=True, dtype=None, layout=torch.strided, requires_grad=False).cuda(GPU)\n",
    "    I_stft = torch.stft(torch.tensor(I).cuda(GPU), n_fft=w, hop_length=w//den, win_length=w1, window=win, center=True, normalized=True, onesided=True)\n",
    "    Q_stft = torch.stft(torch.tensor(Q).cuda(GPU), n_fft=w, hop_length=w//den, win_length=w1, window=win, center=True, normalized=True, onesided=True)\n",
    "    I_mag = torch.abs(torch.sqrt(I_stft[:,:,0]**2+I_stft[:,:,1]**2))\n",
    "    Q_mag = torch.abs(torch.sqrt(Q_stft[:,:,0]**2+Q_stft[:,:,1]**2))      \n",
    "    I_mag = torch.unsqueeze(I_mag, dim=2)\n",
    "    Q_mag = torch.unsqueeze(Q_mag, dim=2)  \n",
    "    Z_stft = torch.cat((I_mag,Q_mag),2)\n",
    "    print('gpu_test live IQ shape =', Z_stft.shape)\n",
    "#     Z_stft = torch.cat((Z_stft[w//2:,:,:],Z_stft[:w//2,:,:])) # NOT SURE I NEED TO DO THIS...\n",
    "    Z_stft = Z_stft[:w//2,:,:]# throw bottom 1/2 away\n",
    "    print('FINAL gpu_test LIVE IQ shape =', Z_stft.shape)\n",
    "    return Z_stft # Returning 2D and plot\n",
    "   \n",
    "def iq_read(data_files): # USING GPU to perform STFT\n",
    "    print('iq_read function**********')\n",
    "    data_IQ_list = []\n",
    "    data_IQ_temp = []\n",
    "    for file in data_files:\n",
    "        db = np.fromfile(file, dtype=\"float32\")\n",
    "#         stft = gpu(db).detach().cpu().numpy()\n",
    "        print('iq_read function')\n",
    "        stft, stft_plot = gpu_test_file(db)\n",
    "        stft = stft.detach().cpu().numpy()\n",
    "        stft_plot = stft_plot.detach().cpu().numpy()\n",
    "        stft_plot = 10*np.log10(np.abs(stft_plot+eps))\n",
    "        plt.imshow(stft_plot)\n",
    "        plt.pcolormesh(stft_plot)\n",
    "#         plt.imshow(stft, aspect='auto', origin='lower')\n",
    "        plt.show()\n",
    "        data_IQ_temp.append(stft)\n",
    "    data_IQ_list = np.array(data_IQ_temp)\n",
    "    return data_IQ_list\n",
    "\n",
    "def iq_read_test_file(data_files): # USING GPU to perform STFT\n",
    "    data_IQ_list = []\n",
    "    data_IQ_temp = []\n",
    "    print('iq_read_test file')\n",
    "    for file in data_files:\n",
    "        db = np.fromfile(file, dtype=\"float32\")\n",
    "        stft = gpu_test_file(db)\n",
    "        stft_plot = 20*np.log10(np.abs(stft[:,:,0].detach().cpu().numpy()+eps))\n",
    "        print('imshow method')\n",
    "        plt.imshow(stft_plot, vmin=-70, vmax=5, aspect='auto', origin='lower')\n",
    "        plt.show()\n",
    "        data_IQ_temp.append(stft.detach().cpu().numpy())\n",
    "    data_IQ_list = np.array(data_IQ_temp)\n",
    "    return data_IQ_list\n",
    "\n",
    "\n",
    "def iq_read_test_live(data_files,msps): # USING GPU to perform STFT\n",
    "#     iq_cpu_plot(data_files) #checking with cpu complex plotting\n",
    "    data_IQ_list = []\n",
    "    data_IQ_temp = []\n",
    "    print('iq_read_test live')\n",
    "    for file in data_files:\n",
    "        db = np.fromfile(file, dtype=\"float32\")\n",
    "        stft = gpu_test_live(db,msps)\n",
    "        # *************************************************************************\n",
    "        stft_plot = 20*np.log10(np.abs(stft[:,:,0].detach().cpu().numpy()+eps))\n",
    "        print('iq_read_test live imshow method')\n",
    "        plt.imshow(stft_plot, vmin=-70, vmax=5, aspect='auto', origin='lower')\n",
    "        plt.show()\n",
    "        # *************************************************************************\n",
    "        data_IQ_temp.append(stft.detach().cpu().numpy())\n",
    "    data_IQ_list = np.array(data_IQ_temp)\n",
    "    return data_IQ_list\n",
    "\n",
    "\n",
    "def read_meta(meta_files):\n",
    "    meta_list = []\n",
    "    for meta in meta_files:\n",
    "        all_meta_data = json.load(open(meta))\n",
    "        meta_list.append(all_meta_data['global'][\"core:class\"])\n",
    "    meta_list = list(map(int, meta_list))\n",
    "    return meta_list\n",
    "\n",
    "def read_num_val(x):\n",
    "    x = len(meta_list_val)\n",
    "    return x\n",
    "\n",
    "#**************************** Print historgram subplots ******************************\n",
    "def histo_plots(inputs):\n",
    "    fig=plt.figure(figsize=(8,8))\n",
    "    ncols = 2\n",
    "    nrows = 2\n",
    "    print('make torch inputs')\n",
    "    print('inputs shape for histogram1 = ', inputs.shape)\n",
    "    inputs = 10*np.log10(np.abs(inputs.cpu()+eps))\n",
    "    for x in range(4):\n",
    "#         print('x = ', x, 'inputs shape for histogram2 = ', inputs[:,:,x].shape)\n",
    "        flat_inputs = torch.flatten(inputs[:,:,x], start_dim=0, end_dim=-1).numpy()\n",
    "#         print('type = ', type(flat_inputs))\n",
    "#         print('x = ', x, 'flat_input max = ', np.amax(flat_inputs))\n",
    "#         print('inputs are: ', flat_inputs.shape)\n",
    "        fig.add_subplot(nrows, ncols, x+1)\n",
    "        plt.hist(flat_inputs, bins=5000)\n",
    "        plt.gca().set(title='Frequency Histogram', ylabel='Frequency');\n",
    "        plt.xlim(-100, 10)\n",
    "#         plt.ylim(0, 40000)\n",
    "    return flat_inputs\n",
    "#*************************************************************************************    \n",
    "#**************************** Print historgram subplots ******************************\n",
    "def histo_stats(inputs):\n",
    "#     print('make torch inputs')\n",
    "#     print('inputs shape for histogram1 = ', inputs.shape)\n",
    "    mean = np.zeros(4)\n",
    "    std = np.zeros(4)\n",
    "    for x in range(4):\n",
    "#         print('x = ', x, 'inputs shape for histogram2 = ', inputs[:,:,x].shape)\n",
    "        flat_inputs = torch.flatten(inputs[:,:,x], start_dim=0, end_dim=-1).numpy()\n",
    "#         print('inputs are: ', flat_inputs.shape)\n",
    "        mean[x] = flat_inputs.mean()\n",
    "        std[x] = flat_inputs.std()\n",
    "#         print('mean = ', mean, 'std = ', std)\n",
    "    return mean, std\n",
    "#**************************** Print historgram freq stats ******************************\n",
    "def histo_stats_freq_file(inputs,msps):\n",
    "    mean = inputs.mean()\n",
    "    std = inputs.std()\n",
    "    print(\"mean Freq = {0:9,.2f}\".format(mean))\n",
    "    print(\"std Freq = {0:9,.2f}\".format(std))\n",
    "    print('length of inputs = ', len(inputs))\n",
    "#     plt.hist(inputs, 30, facecolor='blue', align='mid')\n",
    "    if (msps==25):\n",
    "        plt.hist(inputs, 30, range=[428.0, 440.0], facecolor='blue', align='mid')\n",
    "    elif (msps==1):\n",
    "        plt.hist(inputs, 30, range=[433.65, 434.15], facecolor='blue', align='mid')\n",
    "    elif (msps==5):\n",
    "        plt.hist(inputs, 30, range=[433.00, 435.50], facecolor='blue', align='mid')         \n",
    "    elif (msps==10):\n",
    "        plt.hist(inputs, 30, range=[433.00, 438.00], facecolor='blue', align='mid')        \n",
    "    else:\n",
    "        print('WRONG SAMPLE RATE CHOSEN')\n",
    "    plt.gca().set(title='Frequency Histogram', ylabel='Frequency'); \n",
    "    plt.show()\n",
    "def histo_stats_freq_live(inputs,msps):\n",
    "    mean = inputs.mean()\n",
    "    std = inputs.std()\n",
    "    print(\"mean Freq = {0:9,.2f}\".format(mean))\n",
    "    print(\"std Freq = {0:9,.2f}\".format(std))\n",
    "    print('length of inputs = ', len(inputs))\n",
    "#     plt.hist(inputs, 30, facecolor='blue', align='mid')\n",
    "    if (msps==25):\n",
    "        plt.hist(inputs, 30, range=[428.0, 440.0], facecolor='blue', align='mid')\n",
    "    elif (msps==1):\n",
    "        plt.hist(inputs, 30, range=[433.65, 434.15], facecolor='blue', align='mid')\n",
    "    elif (msps==5):\n",
    "        plt.hist(inputs, 30, range=[433.00, 435.50], facecolor='blue', align='mid')          \n",
    "    elif (msps==10):\n",
    "        plt.hist(inputs, 30, range=[433.00, 438.00], facecolor='blue', align='mid')         \n",
    "    else:\n",
    "        print('WRONG SAMPLE RATE CHOSEN')\n",
    "    plt.gca().set(title='Frequency Histogram', ylabel='Frequency'); \n",
    "    plt.show()\n",
    "# END OF FUNCTIONS ******************************************************"
   ]
  },
  {
   "cell_type": "code",
   "execution_count": 9,
   "metadata": {},
   "outputs": [],
   "source": [
    "from functools import partial\n",
    "from dataclasses import dataclass\n",
    "from collections import OrderedDict"
   ]
  },
  {
   "cell_type": "code",
   "execution_count": 10,
   "metadata": {},
   "outputs": [],
   "source": [
    "class Conv2dAuto(nn.Conv2d):\n",
    "    def __init__(self, *args, **kwargs):\n",
    "        super().__init__(*args, **kwargs)\n",
    "        self.padding =  (self.kernel_size[0] // 2, self.kernel_size[1] // 2) # dynamic add padding based on the kernel_size\n",
    "        \n",
    "conv3x3 = partial(Conv2dAuto, kernel_size=3, bias=False) "
   ]
  },
  {
   "cell_type": "code",
   "execution_count": 11,
   "metadata": {},
   "outputs": [],
   "source": [
    "class ResidualBlock(nn.Module):\n",
    "    def __init__(self, in_channels, out_channels):\n",
    "        super().__init__()\n",
    "        self.in_channels, self.out_channels =  in_channels, out_channels\n",
    "        self.blocks = nn.Identity()\n",
    "        self.shortcut = nn.Identity()   \n",
    "    \n",
    "    def forward(self, x):\n",
    "        residual = x\n",
    "        if self.should_apply_shortcut: residual = self.shortcut(x)\n",
    "        x = self.blocks(x)\n",
    "        x += residual\n",
    "        return x\n",
    "    \n",
    "    @property\n",
    "    def should_apply_shortcut(self):\n",
    "        return self.in_channels != self.out_channels"
   ]
  },
  {
   "cell_type": "code",
   "execution_count": 12,
   "metadata": {},
   "outputs": [],
   "source": [
    "class ResNetResidualBlock(ResidualBlock):\n",
    "    def __init__(self, in_channels, out_channels, expansion=1, downsampling=1, conv=conv3x3, *args, **kwargs):\n",
    "        super().__init__(in_channels, out_channels)\n",
    "        self.expansion, self.downsampling, self.conv = expansion, downsampling, conv\n",
    "        self.shortcut = nn.Sequential(OrderedDict(\n",
    "        {\n",
    "            'conv' : nn.Conv2d(self.in_channels, self.expanded_channels, kernel_size=1,\n",
    "                      stride=self.downsampling, bias=False),\n",
    "            'bn' : nn.BatchNorm2d(self.expanded_channels)\n",
    "            \n",
    "        })) if self.should_apply_shortcut else None\n",
    "        \n",
    "        \n",
    "    @property\n",
    "    def expanded_channels(self):\n",
    "        return self.out_channels * self.expansion\n",
    "    \n",
    "    @property\n",
    "    def should_apply_shortcut(self):\n",
    "        return self.in_channels != self.expanded_channels"
   ]
  },
  {
   "cell_type": "code",
   "execution_count": 13,
   "metadata": {},
   "outputs": [],
   "source": [
    "def conv_bn(in_channels, out_channels, conv, *args, **kwargs):\n",
    "    return nn.Sequential(OrderedDict({'conv': conv(in_channels, out_channels, *args, **kwargs), \n",
    "                          'bn': nn.BatchNorm2d(out_channels) }))"
   ]
  },
  {
   "cell_type": "code",
   "execution_count": 14,
   "metadata": {},
   "outputs": [],
   "source": [
    "class ResNetBasicBlock(ResNetResidualBlock):\n",
    "    expansion = 1\n",
    "    def __init__(self, in_channels, out_channels, activation=nn.ReLU, *args, **kwargs):\n",
    "        super().__init__(in_channels, out_channels, *args, **kwargs)\n",
    "        self.blocks = nn.Sequential(\n",
    "            conv_bn(self.in_channels, self.out_channels, conv=self.conv, bias=False, stride=self.downsampling),\n",
    "            activation(),\n",
    "            conv_bn(self.out_channels, self.expanded_channels, conv=self.conv, bias=False),\n",
    "        )"
   ]
  },
  {
   "cell_type": "code",
   "execution_count": 15,
   "metadata": {},
   "outputs": [],
   "source": [
    "class ResNetBottleNeckBlock(ResNetResidualBlock):\n",
    "    expansion = 4\n",
    "    def __init__(self, in_channels, out_channels, activation=nn.ReLU, *args, **kwargs):\n",
    "        super().__init__(in_channels, out_channels, expansion=4, *args, **kwargs)\n",
    "        self.blocks = nn.Sequential(\n",
    "           conv_bn(self.in_channels, self.out_channels, self.conv, kernel_size=1),\n",
    "             activation(),\n",
    "             conv_bn(self.out_channels, self.out_channels, self.conv, kernel_size=3, stride=self.downsampling),\n",
    "             activation(),\n",
    "             conv_bn(self.out_channels, self.expanded_channels, self.conv, kernel_size=1),\n",
    "        )"
   ]
  },
  {
   "cell_type": "code",
   "execution_count": 16,
   "metadata": {},
   "outputs": [],
   "source": [
    "class ResNetLayer(nn.Module):\n",
    "    def __init__(self, in_channels, out_channels, block=ResNetBasicBlock, n=1, *args, **kwargs):\n",
    "        super().__init__()\n",
    "        # 'We perform downsampling directly by convolutional layers that have a stride of 2.'\n",
    "        downsampling = 2 if in_channels != out_channels else 1\n",
    "        \n",
    "        self.blocks = nn.Sequential(\n",
    "            block(in_channels , out_channels, *args, **kwargs, downsampling=downsampling),\n",
    "            *[block(out_channels * block.expansion, \n",
    "                    out_channels, downsampling=1, *args, **kwargs) for _ in range(n - 1)]\n",
    "        )\n",
    "\n",
    "    def forward(self, x):\n",
    "        x = self.blocks(x)\n",
    "        return x"
   ]
  },
  {
   "cell_type": "code",
   "execution_count": 17,
   "metadata": {},
   "outputs": [],
   "source": [
    "class ResNetEncoder(nn.Module):\n",
    "    \"\"\"\n",
    "    ResNet encoder composed by increasing different layers with increasing features.\n",
    "    \"\"\"\n",
    "    def __init__(self, in_channels=3, blocks_sizes=[64, 128, 256, 512], deepths=[2,2,2,2], \n",
    "                 activation=nn.ReLU, block=ResNetBasicBlock, *args,**kwargs):\n",
    "        super().__init__()\n",
    "        \n",
    "        self.blocks_sizes = blocks_sizes\n",
    "        \n",
    "        self.gate = nn.Sequential(\n",
    "            nn.Conv2d(in_channels, self.blocks_sizes[0], kernel_size=7, stride=2, padding=3, bias=False),\n",
    "            nn.BatchNorm2d(self.blocks_sizes[0]),\n",
    "            activation(),\n",
    "            nn.MaxPool2d(kernel_size=3, stride=2, padding=1)\n",
    "        )\n",
    "        \n",
    "        self.in_out_block_sizes = list(zip(blocks_sizes, blocks_sizes[1:]))\n",
    "        self.blocks = nn.ModuleList([ \n",
    "            ResNetLayer(blocks_sizes[0], blocks_sizes[0], n=deepths[0], activation=activation, \n",
    "                        block=block,  *args, **kwargs),\n",
    "            *[ResNetLayer(in_channels * block.expansion, \n",
    "                          out_channels, n=n, activation=activation, \n",
    "                          block=block, *args, **kwargs) \n",
    "              for (in_channels, out_channels), n in zip(self.in_out_block_sizes, deepths[1:])]       \n",
    "        ])\n",
    "        \n",
    "        \n",
    "    def forward(self, x):\n",
    "        x = self.gate(x)\n",
    "        for block in self.blocks:\n",
    "            x = block(x)\n",
    "        return x"
   ]
  },
  {
   "cell_type": "code",
   "execution_count": 18,
   "metadata": {},
   "outputs": [],
   "source": [
    "class ResnetDecoder(nn.Module):\n",
    "    \"\"\"\n",
    "    This class represents the tail of ResNet. It performs a global pooling and maps the output to the\n",
    "    correct class by using a fully connected layer.\n",
    "    \"\"\"\n",
    "    def __init__(self, in_features, n_classes):\n",
    "        super().__init__()\n",
    "        self.avg = nn.AdaptiveAvgPool2d((1, 1))\n",
    "        self.decoder = nn.Linear(in_features, n_classes)\n",
    "\n",
    "    def forward(self, x):\n",
    "        x = self.avg(x)\n",
    "        x = x.view(x.size(0), -1)\n",
    "        x = self.decoder(x)\n",
    "        return x"
   ]
  },
  {
   "cell_type": "code",
   "execution_count": 19,
   "metadata": {},
   "outputs": [],
   "source": [
    "class ResNet(nn.Module):\n",
    "    \n",
    "    def __init__(self, in_channels, n_classes, *args, **kwargs):\n",
    "        super().__init__()\n",
    "        self.encoder = ResNetEncoder(in_channels, *args, **kwargs)\n",
    "        self.decoder = ResnetDecoder(self.encoder.blocks[-1].blocks[-1].expanded_channels, n_classes)\n",
    "        \n",
    "    def forward(self, x):\n",
    "        x = self.encoder(x)\n",
    "        x = self.decoder(x)\n",
    "        return x"
   ]
  },
  {
   "cell_type": "code",
   "execution_count": 20,
   "metadata": {},
   "outputs": [],
   "source": [
    "def resnet18(in_channels, n_classes):\n",
    "    return ResNet(in_channels, n_classes, block=ResNetBasicBlock, deepths=[2, 2, 2, 2])\n",
    "\n",
    "def resnet34(in_channels, n_classes):\n",
    "    return ResNet(in_channels, n_classes, block=ResNetBasicBlock, deepths=[3, 4, 6, 3])\n",
    "\n",
    "def resnet50(in_channels, n_classes):\n",
    "    return ResNet(in_channels, n_classes, block=ResNetBottleNeckBlock, deepths=[3, 4, 6, 3])\n",
    "\n",
    "def resnet101(in_channels, n_classes):\n",
    "    return ResNet(in_channels, n_classes, block=ResNetBottleNeckBlock, deepths=[3, 4, 23, 3])\n",
    "\n",
    "def resnet152(in_channels, n_classes):\n",
    "    return ResNet(in_channels, n_classes, block=ResNetBottleNeckBlock, deepths=[3, 8, 36, 3])"
   ]
  },
  {
   "cell_type": "code",
   "execution_count": 21,
   "metadata": {
    "scrolled": true
   },
   "outputs": [],
   "source": [
    "from torchsummary import summary\n",
    "\n",
    "# model = resnet50(4, 12)\n",
    "# summary(model.cuda(GPU), (4, 224, 224))"
   ]
  },
  {
   "cell_type": "code",
   "execution_count": 22,
   "metadata": {},
   "outputs": [],
   "source": [
    "from torch.utils.data import Dataset"
   ]
  },
  {
   "cell_type": "code",
   "execution_count": 23,
   "metadata": {},
   "outputs": [],
   "source": [
    "class RFDataset(Dataset):\n",
    "    def __init__(self, root_path, limit=None):\n",
    "        print(root_path)\n",
    "        self.root_path = root_path\n",
    "        self.list_of_all_pickles = sorted(pathlib.Path(root_path).rglob('*/chopped-data-224-224/*.pickle'))\n",
    "        if limit:\n",
    "            rng = np.random.default_rng(0)\n",
    "            self.list_of_all_pickles = rng.choice(self.list_of_all_pickles, size=limit, replace=False)\n",
    "        self.get_class = dict()\n",
    "        class_folders = list(pathlib.Path(root_path).glob('*/'))\n",
    "        for class_folder in class_folders:\n",
    "            class_index = -1\n",
    "            metadata_path = list(class_folder.rglob('*.sigmf-meta'))[0]\n",
    "            with open(metadata_path) as fp:\n",
    "                metadata = json.load(fp)\n",
    "                class_index = int(metadata[\"global\"][\"core:class\"])\n",
    "            self.get_class[str(class_folder.stem)] = class_index\n",
    "\n",
    "\n",
    "    def __len__(self):\n",
    "        return len(self.list_of_all_pickles)\n",
    "\n",
    "    def __getitem__(self, idx):\n",
    "        filepath = self.list_of_all_pickles[idx]\n",
    "        with open(filepath, 'rb') as fp:\n",
    "            tensor = pickle.load(fp)['bounded']\n",
    "        foldername = filepath.parts[7]\n",
    "        label = self.get_class[foldername]\n",
    "\n",
    "        #return (tensor, label) # this is a tuple\n",
    "        return {'data': tensor, 'label': label}"
   ]
  },
  {
   "cell_type": "markdown",
   "metadata": {},
   "source": [
    "#### Evaluation dataset loader"
   ]
  },
  {
   "cell_type": "code",
   "execution_count": 24,
   "metadata": {},
   "outputs": [
    {
     "name": "stdout",
     "output_type": "stream",
     "text": [
      "/home/david/sigMF_ML/RF/RF_class/data_val1/\n",
      "/home/david/sigMF_ML/RF/RF_class/data_val2/\n",
      "/home/david/sigMF_ML/RF/RF_class/data_val3/\n",
      "/home/david/sigMF_ML/RF/RF_class/data_val4/\n",
      "/home/david/sigMF_ML/RF/RF_class/data_val5/\n",
      "/home/david/sigMF_ML/RF/RF_class/data_val6/\n",
      "/home/david/sigMF_ML/RF/RF_class/data_val7/\n",
      "/home/david/sigMF_ML/RF/RF_class/data_val8/\n",
      "/home/david/sigMF_ML/RF/RF_class/data_val9/\n",
      "/home/david/sigMF_ML/RF/RF_class/data_val10/\n",
      "/home/david/sigMF_ML/RF/RF_class/data_val11/\n",
      "/home/david/sigMF_ML/RF/RF_class/data_val12/\n"
     ]
    }
   ],
   "source": [
    "val_patches = 2000\n",
    "rf_dataset1 = RFDataset(path_val1, limit=val_patches)\n",
    "val1_data = data.DataLoader(rf_dataset1, batch_size=batches, shuffle=True)\n",
    "rf_dataset2 = RFDataset(path_val2, limit=val_patches)\n",
    "val2_data = data.DataLoader(rf_dataset2, batch_size=batches, shuffle=True)\n",
    "rf_dataset3 = RFDataset(path_val3, limit=val_patches)\n",
    "val3_data = data.DataLoader(rf_dataset3, batch_size=batches, shuffle=True)\n",
    "rf_dataset4 = RFDataset(path_val4, limit=val_patches)\n",
    "val4_data = data.DataLoader(rf_dataset4, batch_size=batches, shuffle=True)\n",
    "rf_dataset5 = RFDataset(path_val5, limit=val_patches)\n",
    "val5_data = data.DataLoader(rf_dataset5, batch_size=batches, shuffle=True)\n",
    "rf_dataset6 = RFDataset(path_val6, limit=val_patches)\n",
    "val6_data = data.DataLoader(rf_dataset6, batch_size=batches, shuffle=True)\n",
    "rf_dataset7 = RFDataset(path_val7, limit=val_patches)\n",
    "val7_data = data.DataLoader(rf_dataset7, batch_size=batches, shuffle=True)\n",
    "rf_dataset8 = RFDataset(path_val8, limit=val_patches)\n",
    "val8_data = data.DataLoader(rf_dataset8, batch_size=batches, shuffle=True)\n",
    "rf_dataset9 = RFDataset(path_val9, limit=val_patches)\n",
    "val9_data = data.DataLoader(rf_dataset9, batch_size=batches, shuffle=True)\n",
    "rf_dataset10 = RFDataset(path_val10, limit=val_patches)\n",
    "val10_data = data.DataLoader(rf_dataset10, batch_size=batches, shuffle=True)\n",
    "rf_dataset11 = RFDataset(path_val11, limit=val_patches)\n",
    "val11_data = data.DataLoader(rf_dataset11, batch_size=batches, shuffle=True)\n",
    "rf_dataset12 = RFDataset(path_val12, limit=val_patches)\n",
    "val12_data = data.DataLoader(rf_dataset12, batch_size=batches, shuffle=True)"
   ]
  },
  {
   "cell_type": "markdown",
   "metadata": {},
   "source": [
    "#### list of loaders"
   ]
  },
  {
   "cell_type": "code",
   "execution_count": 25,
   "metadata": {},
   "outputs": [
    {
     "name": "stdout",
     "output_type": "stream",
     "text": [
      "done\n"
     ]
    }
   ],
   "source": [
    "val_data_list = [val1_data]\n",
    "val_data_list.append(val2_data)\n",
    "val_data_list.append(val3_data)\n",
    "val_data_list.append(val4_data)\n",
    "val_data_list.append(val5_data)\n",
    "val_data_list.append(val6_data)\n",
    "val_data_list.append(val7_data)\n",
    "val_data_list.append(val8_data)\n",
    "val_data_list.append(val9_data)\n",
    "val_data_list.append(val10_data)\n",
    "val_data_list.append(val11_data)\n",
    "val_data_list.append(val12_data)\n",
    "print('done')"
   ]
  },
  {
   "cell_type": "markdown",
   "metadata": {},
   "source": [
    "## Training"
   ]
  },
  {
   "cell_type": "code",
   "execution_count": 26,
   "metadata": {},
   "outputs": [],
   "source": [
    "def train_net(total):\n",
    "    test_patch_total = 24000 # 120000\n",
    "    compare = .7\n",
    "    loss_plot = np.zeros(total)\n",
    "    total_plot = np.zeros(total//5+1)\n",
    "    batch_plot = np.zeros(len(training_data)*total//100)\n",
    "    batch_indexer = 0\n",
    "#     batch_sum = 0\n",
    "    for epoch in tqdm(range(total), desc=\"Epoch\"): \n",
    "        model.train()\n",
    "        start = timer()\n",
    "        for i, rf_data in enumerate(training_data, 0):\n",
    "            inputs = rf_data['data']\n",
    "            inputs = torch.squeeze(inputs, dim=1)\n",
    "#             print('input1  = ', inputs.shape)\n",
    "            inputs = inputs.permute(0,3,1,2).contiguous()\n",
    "#             print('input before noise add  = ', inputs.shape)\n",
    "            batch_dim, b, c, d = inputs.shape \n",
    "#             batch_sum = batch_sum + batch_dim\n",
    "            # add som noise\n",
    "#             c2 = torch.FloatTensor(a).uniform_(r1_c2, r2_c2) \n",
    "            C2 = 1\n",
    "            for batch_num in range(batch_dim):\n",
    "                inputs[batch_num,:,:,:] = inputs[batch_num,:,:,:] + (((var_noise*C2)**0.5)*torch.randn(1, 4, 224, 224))   \n",
    "            #**************** take I and Q magnitudue only ***********\n",
    "            I_temp = torch.abs(torch.sqrt(inputs[:,0,:,:]**2+inputs[:,1,:,:]**2))        \n",
    "            I_temp = torch.unsqueeze(I_temp, dim=1)\n",
    "            Q_temp = torch.abs(torch.sqrt(inputs[:,2,:,:]**2+inputs[:,3,:,:]**2))\n",
    "            Q_temp = torch.unsqueeze(Q_temp, dim=1)\n",
    "            inputs = torch.cat((I_temp,Q_temp),1)\n",
    "#             print('inputs after noise add  = ', inputs.shape) \n",
    "            #*********************************************************  \n",
    "            inputs = Variable(inputs.cuda(GPU))\n",
    "            labels = rf_data['label']\n",
    "            labels = labels.cuda(GPU)\n",
    "            outputs = model(inputs)\n",
    "            loss = criterion(outputs, labels)\n",
    "            optimizer.zero_grad()\n",
    "            loss.backward()\n",
    "            optimizer.step()\n",
    "        end = timer()\n",
    "        batch_time = end - start\n",
    "#         print('train total batches =', batch_sum)\n",
    "        #***************************************************************************************\n",
    "        print('batch time = ', batch_time)\n",
    "        print('************************* start *************************')\n",
    "        total_correct_patches = grand_total = 0\n",
    "        start_test = timer()\n",
    "        model.eval()\n",
    "        for testing in val_data_list:\n",
    "            t = train_val(testing)\n",
    "            total_correct_patches = total_correct_patches + t           \n",
    "        grand_total = total_correct_patches/test_patch_total\n",
    "        batch_plot[batch_indexer] = grand_total*100\n",
    "        batch_indexer = batch_indexer + 1\n",
    "    #     print('Batch number = ', i, 'of', len(training_data))\n",
    "        print('Total % correct {:.2f}%'.format(grand_total*100))         \n",
    "        model.train \n",
    "        end_test = timer()\n",
    "        test_time = end_test - start_test\n",
    "        print('test time = ', test_time)\n",
    "        print('*************************** end ***************************')\n",
    "        #****************************************************************************************         \n",
    "        save_model(epoch,loss)\n",
    "        tqdm.write('___________________________________________')\n",
    "        tqdm.write(\"Epoch {} Loss {:.10f} \".format(epoch+1, loss.data*1)) \n",
    "        tqdm.write('___________________________________________')        \n",
    "    return loss_plot, batch_plot"
   ]
  },
  {
   "cell_type": "markdown",
   "metadata": {},
   "source": [
    "#### Training Evaluation"
   ]
  },
  {
   "cell_type": "code",
   "execution_count": 27,
   "metadata": {},
   "outputs": [],
   "source": [
    "def train_val(val_data):\n",
    "    with torch.no_grad():\n",
    "        total = noise = center_fft = target_to_int = accumulated_corrects = percent_correct = 0\n",
    "        c0 = c1 = c2 = c3 = c4 = c5 = c6 = c7 = c8 = c9 = 0\n",
    "#         batch_sum = 0\n",
    "        for i, rf_data in enumerate(val_data, 0): \n",
    "            inputs = rf_data['data']\n",
    "            inputs = torch.squeeze(inputs, dim=1)\n",
    "            inputs = inputs.permute(0,3,1,2).contiguous() \n",
    "            batch_dim, b, c, d = inputs.shape  \n",
    "#             batch_sum = batch_sum + batch_dim\n",
    "            # add som noise\n",
    "#             c2 = torch.FloatTensor(a).uniform_(r1_c2, r2_c2)\n",
    "            # bypass C2\n",
    "            C2 = 1\n",
    "            for batch_num in range(batch_dim):\n",
    "                inputs[batch_num,:,:,:] = inputs[batch_num,:,:,:] + (((var_noise*c2)**0.5)*torch.randn(1, 4, 224, 224)*1)              \n",
    "            #**************** take I and Q magnitudue only ***********\n",
    "            I_temp = torch.abs(torch.sqrt(inputs[:,0,:,:]**2+inputs[:,1,:,:]**2))\n",
    "            I_temp = torch.unsqueeze(I_temp, dim=1)\n",
    "            Q_temp = torch.abs(torch.sqrt(inputs[:,2,:,:]**2+inputs[:,3,:,:]**2))\n",
    "            Q_temp = torch.unsqueeze(Q_temp, dim=1)\n",
    "            inputs = torch.cat((I_temp,Q_temp),1)\n",
    "            #*********************************************************               \n",
    "            inputs = Variable(inputs.cuda(GPU))\n",
    "            labels = rf_data['label']\n",
    "            labels = labels.cuda(GPU)\n",
    "            optimizer.zero_grad() \n",
    "            outputs = model(inputs)\n",
    "            _, predicted = torch.max(outputs.data, 1) \n",
    "            for b in range(len(predicted)):\n",
    "                labels_temp = labels[b].detach().cpu().numpy()\n",
    "                temp = predicted[b].detach().cpu().numpy()\n",
    "                if (labels_temp==temp):\n",
    "                    accumulated_corrects = accumulated_corrects+1\n",
    "#         print('val total batches =', batch_sum)\n",
    "    torch.cuda.empty_cache()\n",
    "    return accumulated_corrects"
   ]
  },
  {
   "cell_type": "markdown",
   "metadata": {},
   "source": [
    "## Inference Segmented Dataloader"
   ]
  },
  {
   "cell_type": "code",
   "execution_count": 28,
   "metadata": {},
   "outputs": [],
   "source": [
    "# Inference Dataloader with labels\n",
    "class inference_dataloader_segmented_live(data.Dataset):\n",
    "    def __init__(self):\n",
    "        self.dataPath = path\n",
    "        self.num_classes = 12\n",
    "        self.num_examples = 1 # use only 1 for semi-live inferencing\n",
    "    def __getitem__(self, index):\n",
    "        sigmf_data = np.array(data_IQ_list_val[index]) \n",
    "        print('sigmf_data = ', sigmf_data.shape)\n",
    "        frequency, time, dims1 = sigmf_data.shape\n",
    "        print('frequency = ', frequency, '  time = ', time)\n",
    "        data_IQ = []\n",
    "        data_IQ_temp2 = []\n",
    "        seg_t = 224  \n",
    "        seg_f = 224 \n",
    "        seg_time = time//seg_t\n",
    "        seg_freq = frequency//seg_f\n",
    "        print('seg_time = ', seg_time, 'seg_freq = ', seg_freq)\n",
    "        # Segment the time axis\n",
    "        for j in range(seg_time): \n",
    "                # Segment the frequency axis\n",
    "                for k in range(seg_freq): \n",
    "                    IQ = sigmf_data[seg_f*k:(seg_f)+seg_f*k,seg_t*j:(seg_t)+seg_t*j]\n",
    "                    data_IQ_temp2.append(IQ)            \n",
    "        data_IQ = np.array(data_IQ_temp2)\n",
    "        print('data_IQ shape = ', data_IQ.shape)\n",
    "        loop_counter, dim1, dim2, dim3 = data_IQ.shape\n",
    "        TRUTH =  meta_encoder(meta_list_val, self.num_classes)\n",
    "        TRUTH = TRUTH.astype(np.float32)\n",
    "        return torch.from_numpy(data_IQ),torch.from_numpy(TRUTH), loop_counter, seg_freq\n",
    "    def __len__(self):\n",
    "        return self.num_examples "
   ]
  },
  {
   "cell_type": "code",
   "execution_count": 29,
   "metadata": {},
   "outputs": [],
   "source": [
    "# Inference Dataloader with labels\n",
    "class inference_dataloader_segmented(data.Dataset):\n",
    "    def __init__(self):\n",
    "        self.dataPath = path\n",
    "        self.num_classes = 12\n",
    "        self.num_examples = 1\n",
    "    def __getitem__(self, index):\n",
    "        sigmf_data = np.array(data_IQ_list_val[index]) \n",
    "        print('sigmf_data = ', sigmf_data.shape)\n",
    "        frequency, time, dims1 = sigmf_data.shape\n",
    "        print('frequency = ', frequency, '  time = ', time)\n",
    "        data_IQ = []\n",
    "        data_IQ_temp2 = []\n",
    "        seg_t = 224  \n",
    "        seg_f = 224 \n",
    "        seg_time = time//seg_t\n",
    "        seg_freq = frequency//seg_f\n",
    "        print('seg_time = ', seg_time, 'seg_freq = ', seg_freq)\n",
    "        # Segment the time axis\n",
    "        for j in range(seg_time): \n",
    "                # Segment the frequency axis\n",
    "                for k in range(seg_freq): \n",
    "                    IQ = sigmf_data[seg_f*k:(seg_f)+seg_f*k,seg_t*j:(seg_t)+seg_t*j]\n",
    "                    data_IQ_temp2.append(IQ)            \n",
    "        data_IQ = np.array(data_IQ_temp2)\n",
    "        print('data_IQ shape = ', data_IQ.shape)\n",
    "        loop_counter, dim1, dim2, dim3 = data_IQ.shape\n",
    "        TRUTH =  meta_encoder(meta_list_val, self.num_classes)\n",
    "        TRUTH = TRUTH.astype(np.float32)\n",
    "        return torch.from_numpy(data_IQ),torch.from_numpy(TRUTH), loop_counter, seg_freq\n",
    "    def __len__(self):\n",
    "        return self.num_examples "
   ]
  },
  {
   "cell_type": "markdown",
   "metadata": {},
   "source": [
    "### validation functions"
   ]
  },
  {
   "cell_type": "code",
   "execution_count": 30,
   "metadata": {},
   "outputs": [],
   "source": [
    "def validation_read():    \n",
    "    # Inference DATA READING ************************************************\n",
    "    # read in validation IQ and meta data\n",
    "    os.chdir(path_val)\n",
    "    data_files_validation = sorted(glob.glob('*.sigmf-data'))\n",
    "    meta_files_validation = sorted(glob.glob('*.sigmf-meta'))\n",
    "    for meta in meta_files_validation:\n",
    "        all_meta_data = json.load(open(meta))\n",
    "        print(\"validation file name = \", meta)\n",
    "    # Load validation sigmf-data files\n",
    "    meta_list_val = read_meta(meta_files_validation)\n",
    "    data_IQ_list_val = iq_read(data_files_validation)\n",
    "    return data_IQ_list_val, meta_list_val"
   ]
  },
  {
   "cell_type": "code",
   "execution_count": 31,
   "metadata": {},
   "outputs": [],
   "source": [
    "def testing_read():\n",
    "    print('testing_read function')\n",
    "    # Inference DATA READING ************************************************\n",
    "    # read in validation IQ and meta data\n",
    "    os.chdir(path_val)\n",
    "    data_files_validation = sorted(glob.glob('*.sigmf-data'))\n",
    "    meta_files_validation = sorted(glob.glob('*.sigmf-meta'))\n",
    "    for meta in meta_files_validation:\n",
    "        all_meta_data = json.load(open(meta))\n",
    "        print(\"testing file name = \", meta)\n",
    "    meta_list_val = read_meta(meta_files_validation)\n",
    "    data_IQ_list_val = iq_read_test_file(data_files_validation)\n",
    "    return data_IQ_list_val, meta_list_val"
   ]
  },
  {
   "cell_type": "markdown",
   "metadata": {},
   "source": [
    "#### Changed to get test data from different directory"
   ]
  },
  {
   "cell_type": "code",
   "execution_count": 32,
   "metadata": {},
   "outputs": [],
   "source": [
    "def inference_read(msps):    \n",
    "    # Inference DATA READING ************************************************\n",
    "    # read in validation IQ and meta data\n",
    "    os.chdir(path_ram)\n",
    "    data_files_validation = sorted(glob.glob('*.sigmf-data'))\n",
    "    meta_files_validation = sorted(glob.glob('*.sigmf-meta'))\n",
    "    for meta in meta_files_validation:\n",
    "        all_meta_data = json.load(open(meta))\n",
    "        print(\"inference file name = \", meta)\n",
    "    # Load validation sigmf-data files\n",
    "    meta_list_val = read_meta(meta_files_validation)\n",
    "    data_IQ_list_val = iq_read_test_live(data_files_validation,msps)\n",
    "    return data_IQ_list_val, meta_list_val"
   ]
  },
  {
   "cell_type": "code",
   "execution_count": 33,
   "metadata": {},
   "outputs": [],
   "source": [
    "def inference_read_file(msps,path):    \n",
    "    # Inference DATA READING ************************************************\n",
    "    # read in validation IQ and meta data\n",
    "    os.chdir(path)\n",
    "    data_files_validation = sorted(glob.glob('*.sigmf-data'))\n",
    "    meta_files_validation = sorted(glob.glob('*.sigmf-meta'))\n",
    "    for meta in meta_files_validation:\n",
    "        all_meta_data = json.load(open(meta))\n",
    "        print(\"inference file name = \", meta)\n",
    "    # Load validation sigmf-data files\n",
    "    meta_list_val = read_meta(meta_files_validation)\n",
    "    data_IQ_list_val = iq_read_test_live(data_files_validation,msps)\n",
    "    return data_IQ_list_val, meta_list_val"
   ]
  },
  {
   "cell_type": "code",
   "execution_count": 34,
   "metadata": {},
   "outputs": [],
   "source": [
    "    # inference ************************************************************\n",
    "def testing_file(msps):    \n",
    "        large_width = 400\n",
    "        np.set_printoptions(precision=2,floatmode='fixed', linewidth=large_width)\n",
    "        model.eval()\n",
    "        V = data.DataLoader(inference_dataloader_segmented(), batch_size=1)\n",
    "        start_frequency = (center_freq_file)\n",
    "        match_freq = start_frequency\n",
    "        print('start_frequency = ', start_frequency/1000000)\n",
    "        freq_offset = 0       \n",
    "        total = noise = center_fft = target_to_int = accumulated_corrects = percent_correct = 0\n",
    "        c0 = c1 = c2 = c3 = c4 = c5 = c6 = c7 = c8 = c9 = 0\n",
    "#         total = 68\n",
    "        with torch.no_grad():\n",
    "            for i, rf_data in enumerate(V, 0):   \n",
    "                accumulated_corrects = 0\n",
    "                percent_correct = 0\n",
    "                target_to_int = 0\n",
    "                inputs, target, counter, seg_freq = rf_data \n",
    "                print('testing counter = ', counter, 'seg_freq =', seg_freq)\n",
    "#**************************** Print segmented pics ***********************************\n",
    "#                 stft_plot = np.squeeze(inputs, axis=0)\n",
    "#                 fig=plt.figure(figsize=(8,8))\n",
    "#                 ncols = 5\n",
    "#                 nrows = 5\n",
    "#                 range_plot = 1\n",
    "#                 for x in range(1,22): # need to figure out how to not hard code this ********************* <-----\n",
    "#                     stft_mean, stft_std = histo_stats(stft_plot[x,:,:,:])\n",
    "#                     if (x>=range_plot and x<(range_plot+25)):\n",
    "#                         stft_plot1 =  10*np.log10(np.abs(stft_plot[x, :, :, 0]+eps))\n",
    "#                         stft_plot1 = np.squeeze(stft_plot1, axis=0)\n",
    "#                         fig.add_subplot(nrows, ncols, x-range_plot+1)\n",
    "#                         plt.imshow(stft_plot1, vmin=-70, vmax=5)\n",
    "#                 plt.show()\n",
    "#******************************************************************************************    \n",
    "                freq_increment = (Fs*msps/2)/seg_freq.detach().cpu().numpy().item()\n",
    "                print('freq_increment = ', freq_increment)\n",
    "                print('TESTING inputs SHAPE = ', inputs.shape)\n",
    "                target = Variable(target.cuda(GPU)) \n",
    "                print('input in   = ', inputs.shape)\n",
    "                inputs = torch.squeeze(inputs, dim=0)\n",
    "                print('input out  = ', inputs.shape)\n",
    "                inputs = inputs.permute(0,3,1,2).contiguous()\n",
    "                print('counter convert stuff = ', counter, type(counter.numpy()))\n",
    "                inputs = Variable(inputs.cuda(GPU))\n",
    "                print('permuted shape = ', inputs.shape)\n",
    "                freq_count = 0 # keep track of array position\n",
    "                freq_histo = np.zeros(counter.numpy())\n",
    "                for j in range(counter):\n",
    "                    inputs2 = inputs[j,:,:,:]\n",
    "                    inputs2 = torch.unsqueeze(inputs2,0)\n",
    "                    outputs = model(inputs2)\n",
    "                    _, predicted = torch.max(outputs.data, 1) \n",
    "#******************************* Print prediction range to match pics above ***********        \n",
    "#                     if (j>=range_plot and j<(range_plot+25)):                    \n",
    "#                         print(\"j= \",j,' ',outputs.data.detach().cpu().numpy())\n",
    "#                         print('prediction = ', predicted.detach().cpu().numpy())\n",
    "#*************************************************************************************               \n",
    "                    total = total +1  # Increment the total count\n",
    "                    match_freq = match_freq + freq_offset*freq_increment\n",
    "                    if (predicted.detach().cpu().numpy() == 0):\n",
    "                        c0 = c0 + 1  \n",
    "                        freq_histo[j] = match_freq/1000000\n",
    "                    if (predicted.detach().cpu().numpy() == 1):\n",
    "                        c1 = c1 + 1\n",
    "                        freq_histo[j] = match_freq/1000000\n",
    "                    if (predicted.detach().cpu().numpy() == 2):\n",
    "                        c2 = c2 + 1\n",
    "                        freq_histo[j] = match_freq/1000000\n",
    "                    if (predicted.detach().cpu().numpy() == 3):\n",
    "                        c3 = c3 + 1\n",
    "                        freq_histo[j] = match_freq/1000000            \n",
    "                    if (predicted.detach().cpu().numpy() == 4):\n",
    "                        c4 = c4 + 1\n",
    "                        freq_histo[j] = match_freq/1000000            \n",
    "                    if (predicted.detach().cpu().numpy() == 5):\n",
    "                        c5 = c5 + 1 \n",
    "                        freq_histo[j] = match_freq/1000000            \n",
    "                    if (predicted.detach().cpu().numpy() == 6):\n",
    "                        c6 = c6 + 1 \n",
    "                        freq_histo[j] = match_freq/1000000            \n",
    "                    if (predicted.detach().cpu().numpy() == 7):\n",
    "                        c7 = c7 + 1 \n",
    "                        freq_histo[j] = match_freq/1000000            \n",
    "                    if (predicted.detach().cpu().numpy() == 8):\n",
    "                        noise = noise + 1\n",
    "                    if (predicted.detach().cpu().numpy() == 9):\n",
    "                        center_fft = center_fft + 1  \n",
    "                    if (predicted.detach().cpu().numpy() == 10):\n",
    "                        c8 = c8 + 1  \n",
    "                        freq_histo[j] = match_freq/1000000            \n",
    "                    if (predicted.detach().cpu().numpy() == 11):\n",
    "                        c9 = c9 + 1 \n",
    "                        freq_histo[j] = match_freq/1000000            \n",
    "                    freq_offset = freq_offset + 1\n",
    "                    if (freq_offset == seg_freq):\n",
    "                        freq_offset = 0\n",
    "                    match_freq = start_frequency\n",
    "                torch.cuda.empty_cache()\n",
    "                # complete ******************************************************\n",
    "                freq_histo = np.ma.masked_equal(freq_histo, 0)\n",
    "                histo_stats_freq_file(freq_histo,msps)\n",
    "                denom = total-center_fft-noise\n",
    "                print('************************* Probabilities ********************************')\n",
    "                print('----------------------------WAVEFORMS-----------------------------------')\n",
    "                if (denom == 0):\n",
    "                    print('Nothing but noise')\n",
    "                else:\n",
    "                    print('LoRa 125 = {:.2f}%'.format(c0/denom*100))\n",
    "                    print('GD55 DMR = {:.2f}%'.format(c1/denom*100))\n",
    "                    print('NFM = {:.2f}%'.format(c2/denom*100))\n",
    "                    print('TYT = {:.2f}'.format(c3/denom*100))\n",
    "                    print('Vodeson Doorbell = {:.2f}%'.format(c4/denom*100))\n",
    "                    print('clickndig = {:.2f}%'.format(c5/denom*100))\n",
    "                    print('Sado doorbell = {:.2f}%'.format(c6/denom*100))\n",
    "                    print('LoRa 250 = {:.2f}%'.format(c7/denom*100))\n",
    "                    print('light switch = {:.2f}%'.format(c8/denom*100))\n",
    "                    print('YSF = {:.2f}%'.format(c9/denom*100))\n",
    "                print('------------------------------------------------------------------------')\n",
    "                print('***************************** noise and fft ****************************')\n",
    "                print('noise matches = ', noise)\n",
    "                print('center fft matches = ', center_fft)\n",
    "                print('TOTAL patch count = ', total)\n",
    "                print('***************************** Finished *********************************')"
   ]
  },
  {
   "cell_type": "code",
   "execution_count": 35,
   "metadata": {},
   "outputs": [],
   "source": [
    "    # inference ************************************************************\n",
    "def testing_live(msps):    \n",
    "        large_width = 400\n",
    "        np.set_printoptions(precision=2,floatmode='fixed', linewidth=large_width)\n",
    "        model.eval()\n",
    "        V = data.DataLoader(inference_dataloader_segmented(), batch_size=1)\n",
    "        start_frequency = (center_freq_live)\n",
    "        match_freq = start_frequency\n",
    "        print('start_frequency = ', start_frequency/1000000)\n",
    "        freq_offset = 0       \n",
    "        total = noise = center_fft = target_to_int = accumulated_corrects = percent_correct = 0\n",
    "        c0 = c1 = c2 = c3 = c4 = c5 = c6 = c7 = c8 = c9 = 0\n",
    "        with torch.no_grad():\n",
    "            for i, rf_data in enumerate(V, 0):   \n",
    "                accumulated_corrects = 0\n",
    "                percent_correct = 0\n",
    "                target_to_int = 0\n",
    "                inputs, target, counter, seg_freq = rf_data \n",
    "                print('testing counter = ', counter, 'seg_freq =', seg_freq)\n",
    "                print('seg_freq = ', seg_freq)\n",
    "#**************************** Print segmented pics ***********************************\n",
    "                stft_plot = np.squeeze(inputs, axis=0)\n",
    "                fig=plt.figure(figsize=(8,8))\n",
    "                ncols = 5\n",
    "                nrows = 5\n",
    "                range_plot = 1\n",
    "                range_end = range_plot+5\n",
    "                for x in range(1,51): # need to figure out how to not hard code this ********************* <-----\n",
    "                    if (x>=range_plot and x<(range_end)):\n",
    "                        stft_plot1 =  stft_plot[x, :, :, 1]\n",
    "                        stft_plot1 =  10*np.log10(np.abs(stft_plot[x, :, :, 0]+eps))\n",
    "                        fig.add_subplot(nrows, ncols, x-range_plot+1)\n",
    "                        plt.imshow(stft_plot1, vmin=-70, vmax=5)\n",
    "                plt.show()\n",
    "#******************************************************************************************    \n",
    "                freq_increment = (Fs*msps/2)/seg_freq.detach().cpu().numpy().item()\n",
    "                print('freq_increment = ', freq_increment)\n",
    "                print('TESTING inputs SHAPE = ', inputs.shape)\n",
    "                target = Variable(target.cuda(GPU)) \n",
    "                print('input in   = ', inputs.shape)\n",
    "                inputs = torch.squeeze(inputs, dim=0)\n",
    "                print('input out  = ', inputs.shape)\n",
    "                inputs = inputs.permute(0,3,1,2).contiguous()\n",
    "                print('counter convert stuff = ', counter, type(counter.numpy()))\n",
    "                inputs = Variable(inputs.cuda(GPU))\n",
    "                print('permuted shape = ', inputs.shape)\n",
    "                freq_count = 0 # keep track of array position\n",
    "                freq_histo = np.zeros(counter.numpy())\n",
    "                for j in range(counter):\n",
    "                    inputs2 = inputs[j,:,:,:]\n",
    "                    inputs2 = torch.unsqueeze(inputs2,0)\n",
    "                    outputs = model(inputs2)\n",
    "                    _, predicted = torch.max(outputs.data, 1) \n",
    "#******************************* Print prediction range to match pics above ***********        \n",
    "#                     if (j>=range_plot and j<(range_end)):                    \n",
    "# #                         print(\"j= \",j,' ',outputs.data.detach().cpu().numpy())\n",
    "#                         print('prediction = ', predicted.detach().cpu().numpy())\n",
    "#                         print('******************')\n",
    "#*************************************************************************************              \n",
    "                    total = total +1  # Increment the total count\n",
    "                    match_freq = match_freq + freq_offset*freq_increment\n",
    "                    if (predicted.detach().cpu().numpy() == 0):\n",
    "                        c0 = c0 + 1  \n",
    "                        freq_histo[j] = match_freq/1000000\n",
    "                    if (predicted.detach().cpu().numpy() == 1):\n",
    "                        c1 = c1 + 1\n",
    "                        freq_histo[j] = match_freq/1000000\n",
    "                    if (predicted.detach().cpu().numpy() == 2):\n",
    "                        c2 = c2 + 1\n",
    "                        freq_histo[j] = match_freq/1000000\n",
    "                    if (predicted.detach().cpu().numpy() == 3):\n",
    "                        c3 = c3 + 1\n",
    "                        freq_histo[j] = match_freq/1000000            \n",
    "                    if (predicted.detach().cpu().numpy() == 4):\n",
    "                        c4 = c4 + 1\n",
    "                        freq_histo[j] = match_freq/1000000            \n",
    "                    if (predicted.detach().cpu().numpy() == 5):\n",
    "                        c5 = c5 + 1 \n",
    "                        freq_histo[j] = match_freq/1000000            \n",
    "                    if (predicted.detach().cpu().numpy() == 6):\n",
    "                        c6 = c6 + 1 \n",
    "                        freq_histo[j] = match_freq/1000000            \n",
    "                    if (predicted.detach().cpu().numpy() == 7):\n",
    "                        c7 = c7 + 1 \n",
    "                        freq_histo[j] = match_freq/1000000            \n",
    "                    if (predicted.detach().cpu().numpy() == 8):\n",
    "                        noise = noise + 1\n",
    "                    if (predicted.detach().cpu().numpy() == 9):\n",
    "                        center_fft = center_fft + 1  \n",
    "                    if (predicted.detach().cpu().numpy() == 10):\n",
    "                        c8 = c8 + 1  \n",
    "                        freq_histo[j] = match_freq/1000000            \n",
    "                    if (predicted.detach().cpu().numpy() == 11):\n",
    "                        c9 = c9 + 1 \n",
    "                        freq_histo[j] = match_freq/1000000            \n",
    "                    freq_offset = freq_offset + 1\n",
    "                    if (freq_offset == seg_freq):\n",
    "                        freq_offset = 0\n",
    "                    match_freq = start_frequency\n",
    "                torch.cuda.empty_cache()\n",
    "                # complete ******************************************************\n",
    "                freq_histo = np.ma.masked_equal(freq_histo, 0)\n",
    "                histo_stats_freq_live(freq_histo,msps)\n",
    "                denom = total-center_fft-noise\n",
    "                print('************************* Probabilities ********************************')\n",
    "                print('----------------------------WAVEFORMS-----------------------------------')\n",
    "                if (denom == 0):\n",
    "                    print('Nothing but noise')\n",
    "                else:\n",
    "                    print('LoRa 125 = {:.2f}%'.format(c0/denom*100))\n",
    "                    print('GD55 DMR = {:.2f}%'.format(c1/denom*100))\n",
    "                    print('NFM = {:.2f}%'.format(c2/denom*100))\n",
    "                    print('TYT = {:.2f}'.format(c3/denom*100))\n",
    "                    print('Vodeson Doorbell = {:.2f}%'.format(c4/denom*100))\n",
    "                    print('clickndig = {:.2f}%'.format(c5/denom*100))\n",
    "                    print('Sado doorbell = {:.2f}%'.format(c6/denom*100))\n",
    "                    print('LoRa 250 = {:.2f}%'.format(c7/denom*100))\n",
    "                    print('light switch = {:.2f}%'.format(c8/denom*100))\n",
    "                    print('YSF = {:.2f}%'.format(c9/denom*100))\n",
    "                print('------------------------------------------------------------------------')\n",
    "                print('***************************** noise and fft ****************************')\n",
    "                print('noise matches = ', noise)\n",
    "                print('center fft matches = ', center_fft)\n",
    "                print('TOTAL patch count = ', total)\n",
    "                print('***************************** Finished *********************************')"
   ]
  },
  {
   "cell_type": "code",
   "execution_count": 36,
   "metadata": {},
   "outputs": [
    {
     "name": "stdout",
     "output_type": "stream",
     "text": [
      "/home/david/sigMF_ML/RF/RF_class/data/\n"
     ]
    }
   ],
   "source": [
    "train_dataloader = RFDataset(path, limit=120000)"
   ]
  },
  {
   "cell_type": "code",
   "execution_count": 37,
   "metadata": {},
   "outputs": [],
   "source": [
    "training_data = data.DataLoader(train_dataloader, batch_size=batches, shuffle=True)"
   ]
  },
  {
   "cell_type": "markdown",
   "metadata": {},
   "source": [
    "## CUDA initialization"
   ]
  },
  {
   "cell_type": "code",
   "execution_count": 38,
   "metadata": {},
   "outputs": [
    {
     "data": {
      "text/plain": [
       "True"
      ]
     },
     "execution_count": 38,
     "metadata": {},
     "output_type": "execute_result"
    }
   ],
   "source": [
    "model = resnet50(2, 12) # number of input channels, number of classes\n",
    "CUDA = torch.cuda.is_available()\n",
    "if CUDA:\n",
    "    model.cuda(GPU)\n",
    "CUDA  "
   ]
  },
  {
   "cell_type": "code",
   "execution_count": 39,
   "metadata": {},
   "outputs": [],
   "source": [
    "torch.cuda.empty_cache()"
   ]
  },
  {
   "cell_type": "markdown",
   "metadata": {},
   "source": [
    "## Final training initialization"
   ]
  },
  {
   "cell_type": "code",
   "execution_count": 40,
   "metadata": {
    "scrolled": true
   },
   "outputs": [
    {
     "data": {
      "text/plain": [
       "ResNet(\n",
       "  (encoder): ResNetEncoder(\n",
       "    (gate): Sequential(\n",
       "      (0): Conv2d(2, 64, kernel_size=(7, 7), stride=(2, 2), padding=(3, 3), bias=False)\n",
       "      (1): BatchNorm2d(64, eps=1e-05, momentum=0.1, affine=True, track_running_stats=True)\n",
       "      (2): ReLU()\n",
       "      (3): MaxPool2d(kernel_size=3, stride=2, padding=1, dilation=1, ceil_mode=False)\n",
       "    )\n",
       "    (blocks): ModuleList(\n",
       "      (0): ResNetLayer(\n",
       "        (blocks): Sequential(\n",
       "          (0): ResNetBottleNeckBlock(\n",
       "            (blocks): Sequential(\n",
       "              (0): Sequential(\n",
       "                (conv): Conv2dAuto(64, 64, kernel_size=(1, 1), stride=(1, 1), bias=False)\n",
       "                (bn): BatchNorm2d(64, eps=1e-05, momentum=0.1, affine=True, track_running_stats=True)\n",
       "              )\n",
       "              (1): ReLU()\n",
       "              (2): Sequential(\n",
       "                (conv): Conv2dAuto(64, 64, kernel_size=(3, 3), stride=(1, 1), padding=(1, 1), bias=False)\n",
       "                (bn): BatchNorm2d(64, eps=1e-05, momentum=0.1, affine=True, track_running_stats=True)\n",
       "              )\n",
       "              (3): ReLU()\n",
       "              (4): Sequential(\n",
       "                (conv): Conv2dAuto(64, 256, kernel_size=(1, 1), stride=(1, 1), bias=False)\n",
       "                (bn): BatchNorm2d(256, eps=1e-05, momentum=0.1, affine=True, track_running_stats=True)\n",
       "              )\n",
       "            )\n",
       "            (shortcut): Sequential(\n",
       "              (conv): Conv2d(64, 256, kernel_size=(1, 1), stride=(1, 1), bias=False)\n",
       "              (bn): BatchNorm2d(256, eps=1e-05, momentum=0.1, affine=True, track_running_stats=True)\n",
       "            )\n",
       "          )\n",
       "          (1): ResNetBottleNeckBlock(\n",
       "            (blocks): Sequential(\n",
       "              (0): Sequential(\n",
       "                (conv): Conv2dAuto(256, 64, kernel_size=(1, 1), stride=(1, 1), bias=False)\n",
       "                (bn): BatchNorm2d(64, eps=1e-05, momentum=0.1, affine=True, track_running_stats=True)\n",
       "              )\n",
       "              (1): ReLU()\n",
       "              (2): Sequential(\n",
       "                (conv): Conv2dAuto(64, 64, kernel_size=(3, 3), stride=(1, 1), padding=(1, 1), bias=False)\n",
       "                (bn): BatchNorm2d(64, eps=1e-05, momentum=0.1, affine=True, track_running_stats=True)\n",
       "              )\n",
       "              (3): ReLU()\n",
       "              (4): Sequential(\n",
       "                (conv): Conv2dAuto(64, 256, kernel_size=(1, 1), stride=(1, 1), bias=False)\n",
       "                (bn): BatchNorm2d(256, eps=1e-05, momentum=0.1, affine=True, track_running_stats=True)\n",
       "              )\n",
       "            )\n",
       "            (shortcut): None\n",
       "          )\n",
       "          (2): ResNetBottleNeckBlock(\n",
       "            (blocks): Sequential(\n",
       "              (0): Sequential(\n",
       "                (conv): Conv2dAuto(256, 64, kernel_size=(1, 1), stride=(1, 1), bias=False)\n",
       "                (bn): BatchNorm2d(64, eps=1e-05, momentum=0.1, affine=True, track_running_stats=True)\n",
       "              )\n",
       "              (1): ReLU()\n",
       "              (2): Sequential(\n",
       "                (conv): Conv2dAuto(64, 64, kernel_size=(3, 3), stride=(1, 1), padding=(1, 1), bias=False)\n",
       "                (bn): BatchNorm2d(64, eps=1e-05, momentum=0.1, affine=True, track_running_stats=True)\n",
       "              )\n",
       "              (3): ReLU()\n",
       "              (4): Sequential(\n",
       "                (conv): Conv2dAuto(64, 256, kernel_size=(1, 1), stride=(1, 1), bias=False)\n",
       "                (bn): BatchNorm2d(256, eps=1e-05, momentum=0.1, affine=True, track_running_stats=True)\n",
       "              )\n",
       "            )\n",
       "            (shortcut): None\n",
       "          )\n",
       "        )\n",
       "      )\n",
       "      (1): ResNetLayer(\n",
       "        (blocks): Sequential(\n",
       "          (0): ResNetBottleNeckBlock(\n",
       "            (blocks): Sequential(\n",
       "              (0): Sequential(\n",
       "                (conv): Conv2dAuto(256, 128, kernel_size=(1, 1), stride=(1, 1), bias=False)\n",
       "                (bn): BatchNorm2d(128, eps=1e-05, momentum=0.1, affine=True, track_running_stats=True)\n",
       "              )\n",
       "              (1): ReLU()\n",
       "              (2): Sequential(\n",
       "                (conv): Conv2dAuto(128, 128, kernel_size=(3, 3), stride=(2, 2), padding=(1, 1), bias=False)\n",
       "                (bn): BatchNorm2d(128, eps=1e-05, momentum=0.1, affine=True, track_running_stats=True)\n",
       "              )\n",
       "              (3): ReLU()\n",
       "              (4): Sequential(\n",
       "                (conv): Conv2dAuto(128, 512, kernel_size=(1, 1), stride=(1, 1), bias=False)\n",
       "                (bn): BatchNorm2d(512, eps=1e-05, momentum=0.1, affine=True, track_running_stats=True)\n",
       "              )\n",
       "            )\n",
       "            (shortcut): Sequential(\n",
       "              (conv): Conv2d(256, 512, kernel_size=(1, 1), stride=(2, 2), bias=False)\n",
       "              (bn): BatchNorm2d(512, eps=1e-05, momentum=0.1, affine=True, track_running_stats=True)\n",
       "            )\n",
       "          )\n",
       "          (1): ResNetBottleNeckBlock(\n",
       "            (blocks): Sequential(\n",
       "              (0): Sequential(\n",
       "                (conv): Conv2dAuto(512, 128, kernel_size=(1, 1), stride=(1, 1), bias=False)\n",
       "                (bn): BatchNorm2d(128, eps=1e-05, momentum=0.1, affine=True, track_running_stats=True)\n",
       "              )\n",
       "              (1): ReLU()\n",
       "              (2): Sequential(\n",
       "                (conv): Conv2dAuto(128, 128, kernel_size=(3, 3), stride=(1, 1), padding=(1, 1), bias=False)\n",
       "                (bn): BatchNorm2d(128, eps=1e-05, momentum=0.1, affine=True, track_running_stats=True)\n",
       "              )\n",
       "              (3): ReLU()\n",
       "              (4): Sequential(\n",
       "                (conv): Conv2dAuto(128, 512, kernel_size=(1, 1), stride=(1, 1), bias=False)\n",
       "                (bn): BatchNorm2d(512, eps=1e-05, momentum=0.1, affine=True, track_running_stats=True)\n",
       "              )\n",
       "            )\n",
       "            (shortcut): None\n",
       "          )\n",
       "          (2): ResNetBottleNeckBlock(\n",
       "            (blocks): Sequential(\n",
       "              (0): Sequential(\n",
       "                (conv): Conv2dAuto(512, 128, kernel_size=(1, 1), stride=(1, 1), bias=False)\n",
       "                (bn): BatchNorm2d(128, eps=1e-05, momentum=0.1, affine=True, track_running_stats=True)\n",
       "              )\n",
       "              (1): ReLU()\n",
       "              (2): Sequential(\n",
       "                (conv): Conv2dAuto(128, 128, kernel_size=(3, 3), stride=(1, 1), padding=(1, 1), bias=False)\n",
       "                (bn): BatchNorm2d(128, eps=1e-05, momentum=0.1, affine=True, track_running_stats=True)\n",
       "              )\n",
       "              (3): ReLU()\n",
       "              (4): Sequential(\n",
       "                (conv): Conv2dAuto(128, 512, kernel_size=(1, 1), stride=(1, 1), bias=False)\n",
       "                (bn): BatchNorm2d(512, eps=1e-05, momentum=0.1, affine=True, track_running_stats=True)\n",
       "              )\n",
       "            )\n",
       "            (shortcut): None\n",
       "          )\n",
       "          (3): ResNetBottleNeckBlock(\n",
       "            (blocks): Sequential(\n",
       "              (0): Sequential(\n",
       "                (conv): Conv2dAuto(512, 128, kernel_size=(1, 1), stride=(1, 1), bias=False)\n",
       "                (bn): BatchNorm2d(128, eps=1e-05, momentum=0.1, affine=True, track_running_stats=True)\n",
       "              )\n",
       "              (1): ReLU()\n",
       "              (2): Sequential(\n",
       "                (conv): Conv2dAuto(128, 128, kernel_size=(3, 3), stride=(1, 1), padding=(1, 1), bias=False)\n",
       "                (bn): BatchNorm2d(128, eps=1e-05, momentum=0.1, affine=True, track_running_stats=True)\n",
       "              )\n",
       "              (3): ReLU()\n",
       "              (4): Sequential(\n",
       "                (conv): Conv2dAuto(128, 512, kernel_size=(1, 1), stride=(1, 1), bias=False)\n",
       "                (bn): BatchNorm2d(512, eps=1e-05, momentum=0.1, affine=True, track_running_stats=True)\n",
       "              )\n",
       "            )\n",
       "            (shortcut): None\n",
       "          )\n",
       "        )\n",
       "      )\n",
       "      (2): ResNetLayer(\n",
       "        (blocks): Sequential(\n",
       "          (0): ResNetBottleNeckBlock(\n",
       "            (blocks): Sequential(\n",
       "              (0): Sequential(\n",
       "                (conv): Conv2dAuto(512, 256, kernel_size=(1, 1), stride=(1, 1), bias=False)\n",
       "                (bn): BatchNorm2d(256, eps=1e-05, momentum=0.1, affine=True, track_running_stats=True)\n",
       "              )\n",
       "              (1): ReLU()\n",
       "              (2): Sequential(\n",
       "                (conv): Conv2dAuto(256, 256, kernel_size=(3, 3), stride=(2, 2), padding=(1, 1), bias=False)\n",
       "                (bn): BatchNorm2d(256, eps=1e-05, momentum=0.1, affine=True, track_running_stats=True)\n",
       "              )\n",
       "              (3): ReLU()\n",
       "              (4): Sequential(\n",
       "                (conv): Conv2dAuto(256, 1024, kernel_size=(1, 1), stride=(1, 1), bias=False)\n",
       "                (bn): BatchNorm2d(1024, eps=1e-05, momentum=0.1, affine=True, track_running_stats=True)\n",
       "              )\n",
       "            )\n",
       "            (shortcut): Sequential(\n",
       "              (conv): Conv2d(512, 1024, kernel_size=(1, 1), stride=(2, 2), bias=False)\n",
       "              (bn): BatchNorm2d(1024, eps=1e-05, momentum=0.1, affine=True, track_running_stats=True)\n",
       "            )\n",
       "          )\n",
       "          (1): ResNetBottleNeckBlock(\n",
       "            (blocks): Sequential(\n",
       "              (0): Sequential(\n",
       "                (conv): Conv2dAuto(1024, 256, kernel_size=(1, 1), stride=(1, 1), bias=False)\n",
       "                (bn): BatchNorm2d(256, eps=1e-05, momentum=0.1, affine=True, track_running_stats=True)\n",
       "              )\n",
       "              (1): ReLU()\n",
       "              (2): Sequential(\n",
       "                (conv): Conv2dAuto(256, 256, kernel_size=(3, 3), stride=(1, 1), padding=(1, 1), bias=False)\n",
       "                (bn): BatchNorm2d(256, eps=1e-05, momentum=0.1, affine=True, track_running_stats=True)\n",
       "              )\n",
       "              (3): ReLU()\n",
       "              (4): Sequential(\n",
       "                (conv): Conv2dAuto(256, 1024, kernel_size=(1, 1), stride=(1, 1), bias=False)\n",
       "                (bn): BatchNorm2d(1024, eps=1e-05, momentum=0.1, affine=True, track_running_stats=True)\n",
       "              )\n",
       "            )\n",
       "            (shortcut): None\n",
       "          )\n",
       "          (2): ResNetBottleNeckBlock(\n",
       "            (blocks): Sequential(\n",
       "              (0): Sequential(\n",
       "                (conv): Conv2dAuto(1024, 256, kernel_size=(1, 1), stride=(1, 1), bias=False)\n",
       "                (bn): BatchNorm2d(256, eps=1e-05, momentum=0.1, affine=True, track_running_stats=True)\n",
       "              )\n",
       "              (1): ReLU()\n",
       "              (2): Sequential(\n",
       "                (conv): Conv2dAuto(256, 256, kernel_size=(3, 3), stride=(1, 1), padding=(1, 1), bias=False)\n",
       "                (bn): BatchNorm2d(256, eps=1e-05, momentum=0.1, affine=True, track_running_stats=True)\n",
       "              )\n",
       "              (3): ReLU()\n",
       "              (4): Sequential(\n",
       "                (conv): Conv2dAuto(256, 1024, kernel_size=(1, 1), stride=(1, 1), bias=False)\n",
       "                (bn): BatchNorm2d(1024, eps=1e-05, momentum=0.1, affine=True, track_running_stats=True)\n",
       "              )\n",
       "            )\n",
       "            (shortcut): None\n",
       "          )\n",
       "          (3): ResNetBottleNeckBlock(\n",
       "            (blocks): Sequential(\n",
       "              (0): Sequential(\n",
       "                (conv): Conv2dAuto(1024, 256, kernel_size=(1, 1), stride=(1, 1), bias=False)\n",
       "                (bn): BatchNorm2d(256, eps=1e-05, momentum=0.1, affine=True, track_running_stats=True)\n",
       "              )\n",
       "              (1): ReLU()\n",
       "              (2): Sequential(\n",
       "                (conv): Conv2dAuto(256, 256, kernel_size=(3, 3), stride=(1, 1), padding=(1, 1), bias=False)\n",
       "                (bn): BatchNorm2d(256, eps=1e-05, momentum=0.1, affine=True, track_running_stats=True)\n",
       "              )\n",
       "              (3): ReLU()\n",
       "              (4): Sequential(\n",
       "                (conv): Conv2dAuto(256, 1024, kernel_size=(1, 1), stride=(1, 1), bias=False)\n",
       "                (bn): BatchNorm2d(1024, eps=1e-05, momentum=0.1, affine=True, track_running_stats=True)\n",
       "              )\n",
       "            )\n",
       "            (shortcut): None\n",
       "          )\n",
       "          (4): ResNetBottleNeckBlock(\n",
       "            (blocks): Sequential(\n",
       "              (0): Sequential(\n",
       "                (conv): Conv2dAuto(1024, 256, kernel_size=(1, 1), stride=(1, 1), bias=False)\n",
       "                (bn): BatchNorm2d(256, eps=1e-05, momentum=0.1, affine=True, track_running_stats=True)\n",
       "              )\n",
       "              (1): ReLU()\n",
       "              (2): Sequential(\n",
       "                (conv): Conv2dAuto(256, 256, kernel_size=(3, 3), stride=(1, 1), padding=(1, 1), bias=False)\n",
       "                (bn): BatchNorm2d(256, eps=1e-05, momentum=0.1, affine=True, track_running_stats=True)\n",
       "              )\n",
       "              (3): ReLU()\n",
       "              (4): Sequential(\n",
       "                (conv): Conv2dAuto(256, 1024, kernel_size=(1, 1), stride=(1, 1), bias=False)\n",
       "                (bn): BatchNorm2d(1024, eps=1e-05, momentum=0.1, affine=True, track_running_stats=True)\n",
       "              )\n",
       "            )\n",
       "            (shortcut): None\n",
       "          )\n",
       "          (5): ResNetBottleNeckBlock(\n",
       "            (blocks): Sequential(\n",
       "              (0): Sequential(\n",
       "                (conv): Conv2dAuto(1024, 256, kernel_size=(1, 1), stride=(1, 1), bias=False)\n",
       "                (bn): BatchNorm2d(256, eps=1e-05, momentum=0.1, affine=True, track_running_stats=True)\n",
       "              )\n",
       "              (1): ReLU()\n",
       "              (2): Sequential(\n",
       "                (conv): Conv2dAuto(256, 256, kernel_size=(3, 3), stride=(1, 1), padding=(1, 1), bias=False)\n",
       "                (bn): BatchNorm2d(256, eps=1e-05, momentum=0.1, affine=True, track_running_stats=True)\n",
       "              )\n",
       "              (3): ReLU()\n",
       "              (4): Sequential(\n",
       "                (conv): Conv2dAuto(256, 1024, kernel_size=(1, 1), stride=(1, 1), bias=False)\n",
       "                (bn): BatchNorm2d(1024, eps=1e-05, momentum=0.1, affine=True, track_running_stats=True)\n",
       "              )\n",
       "            )\n",
       "            (shortcut): None\n",
       "          )\n",
       "        )\n",
       "      )\n",
       "      (3): ResNetLayer(\n",
       "        (blocks): Sequential(\n",
       "          (0): ResNetBottleNeckBlock(\n",
       "            (blocks): Sequential(\n",
       "              (0): Sequential(\n",
       "                (conv): Conv2dAuto(1024, 512, kernel_size=(1, 1), stride=(1, 1), bias=False)\n",
       "                (bn): BatchNorm2d(512, eps=1e-05, momentum=0.1, affine=True, track_running_stats=True)\n",
       "              )\n",
       "              (1): ReLU()\n",
       "              (2): Sequential(\n",
       "                (conv): Conv2dAuto(512, 512, kernel_size=(3, 3), stride=(2, 2), padding=(1, 1), bias=False)\n",
       "                (bn): BatchNorm2d(512, eps=1e-05, momentum=0.1, affine=True, track_running_stats=True)\n",
       "              )\n",
       "              (3): ReLU()\n",
       "              (4): Sequential(\n",
       "                (conv): Conv2dAuto(512, 2048, kernel_size=(1, 1), stride=(1, 1), bias=False)\n",
       "                (bn): BatchNorm2d(2048, eps=1e-05, momentum=0.1, affine=True, track_running_stats=True)\n",
       "              )\n",
       "            )\n",
       "            (shortcut): Sequential(\n",
       "              (conv): Conv2d(1024, 2048, kernel_size=(1, 1), stride=(2, 2), bias=False)\n",
       "              (bn): BatchNorm2d(2048, eps=1e-05, momentum=0.1, affine=True, track_running_stats=True)\n",
       "            )\n",
       "          )\n",
       "          (1): ResNetBottleNeckBlock(\n",
       "            (blocks): Sequential(\n",
       "              (0): Sequential(\n",
       "                (conv): Conv2dAuto(2048, 512, kernel_size=(1, 1), stride=(1, 1), bias=False)\n",
       "                (bn): BatchNorm2d(512, eps=1e-05, momentum=0.1, affine=True, track_running_stats=True)\n",
       "              )\n",
       "              (1): ReLU()\n",
       "              (2): Sequential(\n",
       "                (conv): Conv2dAuto(512, 512, kernel_size=(3, 3), stride=(1, 1), padding=(1, 1), bias=False)\n",
       "                (bn): BatchNorm2d(512, eps=1e-05, momentum=0.1, affine=True, track_running_stats=True)\n",
       "              )\n",
       "              (3): ReLU()\n",
       "              (4): Sequential(\n",
       "                (conv): Conv2dAuto(512, 2048, kernel_size=(1, 1), stride=(1, 1), bias=False)\n",
       "                (bn): BatchNorm2d(2048, eps=1e-05, momentum=0.1, affine=True, track_running_stats=True)\n",
       "              )\n",
       "            )\n",
       "            (shortcut): None\n",
       "          )\n",
       "          (2): ResNetBottleNeckBlock(\n",
       "            (blocks): Sequential(\n",
       "              (0): Sequential(\n",
       "                (conv): Conv2dAuto(2048, 512, kernel_size=(1, 1), stride=(1, 1), bias=False)\n",
       "                (bn): BatchNorm2d(512, eps=1e-05, momentum=0.1, affine=True, track_running_stats=True)\n",
       "              )\n",
       "              (1): ReLU()\n",
       "              (2): Sequential(\n",
       "                (conv): Conv2dAuto(512, 512, kernel_size=(3, 3), stride=(1, 1), padding=(1, 1), bias=False)\n",
       "                (bn): BatchNorm2d(512, eps=1e-05, momentum=0.1, affine=True, track_running_stats=True)\n",
       "              )\n",
       "              (3): ReLU()\n",
       "              (4): Sequential(\n",
       "                (conv): Conv2dAuto(512, 2048, kernel_size=(1, 1), stride=(1, 1), bias=False)\n",
       "                (bn): BatchNorm2d(2048, eps=1e-05, momentum=0.1, affine=True, track_running_stats=True)\n",
       "              )\n",
       "            )\n",
       "            (shortcut): None\n",
       "          )\n",
       "        )\n",
       "      )\n",
       "    )\n",
       "  )\n",
       "  (decoder): ResnetDecoder(\n",
       "    (avg): AdaptiveAvgPool2d(output_size=(1, 1))\n",
       "    (decoder): Linear(in_features=2048, out_features=12, bias=True)\n",
       "  )\n",
       ")"
      ]
     },
     "execution_count": 40,
     "metadata": {},
     "output_type": "execute_result"
    }
   ],
   "source": [
    "# momentum = .3\n",
    "criterion = nn.CrossEntropyLoss()\n",
    "lr= 1e-4\n",
    "optimizer = optim.AdamW(model.parameters(), lr=lr)\n",
    "# optimizer = optim.SGD(model.parameters(), lr=lr,momentum=momentum)\n",
    "# optimizer = optim.RMSprop(model.parameters(), lr=lr,momentum=momentum)\n",
    "# optimizer = optim.SGD(model.parameters(), lr=lr)\n",
    "# training_data = data.DataLoader(rf_dataset, batch_size=batches, shuffle=True)\n",
    "model.train()"
   ]
  },
  {
   "cell_type": "code",
   "execution_count": 41,
   "metadata": {
    "scrolled": true
   },
   "outputs": [
    {
     "data": {
      "text/plain": [
       "ResNet(\n",
       "  (encoder): ResNetEncoder(\n",
       "    (gate): Sequential(\n",
       "      (0): Conv2d(2, 64, kernel_size=(7, 7), stride=(2, 2), padding=(3, 3), bias=False)\n",
       "      (1): BatchNorm2d(64, eps=1e-05, momentum=0.1, affine=True, track_running_stats=True)\n",
       "      (2): ReLU()\n",
       "      (3): MaxPool2d(kernel_size=3, stride=2, padding=1, dilation=1, ceil_mode=False)\n",
       "    )\n",
       "    (blocks): ModuleList(\n",
       "      (0): ResNetLayer(\n",
       "        (blocks): Sequential(\n",
       "          (0): ResNetBottleNeckBlock(\n",
       "            (blocks): Sequential(\n",
       "              (0): Sequential(\n",
       "                (conv): Conv2dAuto(64, 64, kernel_size=(1, 1), stride=(1, 1), bias=False)\n",
       "                (bn): BatchNorm2d(64, eps=1e-05, momentum=0.1, affine=True, track_running_stats=True)\n",
       "              )\n",
       "              (1): ReLU()\n",
       "              (2): Sequential(\n",
       "                (conv): Conv2dAuto(64, 64, kernel_size=(3, 3), stride=(1, 1), padding=(1, 1), bias=False)\n",
       "                (bn): BatchNorm2d(64, eps=1e-05, momentum=0.1, affine=True, track_running_stats=True)\n",
       "              )\n",
       "              (3): ReLU()\n",
       "              (4): Sequential(\n",
       "                (conv): Conv2dAuto(64, 256, kernel_size=(1, 1), stride=(1, 1), bias=False)\n",
       "                (bn): BatchNorm2d(256, eps=1e-05, momentum=0.1, affine=True, track_running_stats=True)\n",
       "              )\n",
       "            )\n",
       "            (shortcut): Sequential(\n",
       "              (conv): Conv2d(64, 256, kernel_size=(1, 1), stride=(1, 1), bias=False)\n",
       "              (bn): BatchNorm2d(256, eps=1e-05, momentum=0.1, affine=True, track_running_stats=True)\n",
       "            )\n",
       "          )\n",
       "          (1): ResNetBottleNeckBlock(\n",
       "            (blocks): Sequential(\n",
       "              (0): Sequential(\n",
       "                (conv): Conv2dAuto(256, 64, kernel_size=(1, 1), stride=(1, 1), bias=False)\n",
       "                (bn): BatchNorm2d(64, eps=1e-05, momentum=0.1, affine=True, track_running_stats=True)\n",
       "              )\n",
       "              (1): ReLU()\n",
       "              (2): Sequential(\n",
       "                (conv): Conv2dAuto(64, 64, kernel_size=(3, 3), stride=(1, 1), padding=(1, 1), bias=False)\n",
       "                (bn): BatchNorm2d(64, eps=1e-05, momentum=0.1, affine=True, track_running_stats=True)\n",
       "              )\n",
       "              (3): ReLU()\n",
       "              (4): Sequential(\n",
       "                (conv): Conv2dAuto(64, 256, kernel_size=(1, 1), stride=(1, 1), bias=False)\n",
       "                (bn): BatchNorm2d(256, eps=1e-05, momentum=0.1, affine=True, track_running_stats=True)\n",
       "              )\n",
       "            )\n",
       "            (shortcut): None\n",
       "          )\n",
       "          (2): ResNetBottleNeckBlock(\n",
       "            (blocks): Sequential(\n",
       "              (0): Sequential(\n",
       "                (conv): Conv2dAuto(256, 64, kernel_size=(1, 1), stride=(1, 1), bias=False)\n",
       "                (bn): BatchNorm2d(64, eps=1e-05, momentum=0.1, affine=True, track_running_stats=True)\n",
       "              )\n",
       "              (1): ReLU()\n",
       "              (2): Sequential(\n",
       "                (conv): Conv2dAuto(64, 64, kernel_size=(3, 3), stride=(1, 1), padding=(1, 1), bias=False)\n",
       "                (bn): BatchNorm2d(64, eps=1e-05, momentum=0.1, affine=True, track_running_stats=True)\n",
       "              )\n",
       "              (3): ReLU()\n",
       "              (4): Sequential(\n",
       "                (conv): Conv2dAuto(64, 256, kernel_size=(1, 1), stride=(1, 1), bias=False)\n",
       "                (bn): BatchNorm2d(256, eps=1e-05, momentum=0.1, affine=True, track_running_stats=True)\n",
       "              )\n",
       "            )\n",
       "            (shortcut): None\n",
       "          )\n",
       "        )\n",
       "      )\n",
       "      (1): ResNetLayer(\n",
       "        (blocks): Sequential(\n",
       "          (0): ResNetBottleNeckBlock(\n",
       "            (blocks): Sequential(\n",
       "              (0): Sequential(\n",
       "                (conv): Conv2dAuto(256, 128, kernel_size=(1, 1), stride=(1, 1), bias=False)\n",
       "                (bn): BatchNorm2d(128, eps=1e-05, momentum=0.1, affine=True, track_running_stats=True)\n",
       "              )\n",
       "              (1): ReLU()\n",
       "              (2): Sequential(\n",
       "                (conv): Conv2dAuto(128, 128, kernel_size=(3, 3), stride=(2, 2), padding=(1, 1), bias=False)\n",
       "                (bn): BatchNorm2d(128, eps=1e-05, momentum=0.1, affine=True, track_running_stats=True)\n",
       "              )\n",
       "              (3): ReLU()\n",
       "              (4): Sequential(\n",
       "                (conv): Conv2dAuto(128, 512, kernel_size=(1, 1), stride=(1, 1), bias=False)\n",
       "                (bn): BatchNorm2d(512, eps=1e-05, momentum=0.1, affine=True, track_running_stats=True)\n",
       "              )\n",
       "            )\n",
       "            (shortcut): Sequential(\n",
       "              (conv): Conv2d(256, 512, kernel_size=(1, 1), stride=(2, 2), bias=False)\n",
       "              (bn): BatchNorm2d(512, eps=1e-05, momentum=0.1, affine=True, track_running_stats=True)\n",
       "            )\n",
       "          )\n",
       "          (1): ResNetBottleNeckBlock(\n",
       "            (blocks): Sequential(\n",
       "              (0): Sequential(\n",
       "                (conv): Conv2dAuto(512, 128, kernel_size=(1, 1), stride=(1, 1), bias=False)\n",
       "                (bn): BatchNorm2d(128, eps=1e-05, momentum=0.1, affine=True, track_running_stats=True)\n",
       "              )\n",
       "              (1): ReLU()\n",
       "              (2): Sequential(\n",
       "                (conv): Conv2dAuto(128, 128, kernel_size=(3, 3), stride=(1, 1), padding=(1, 1), bias=False)\n",
       "                (bn): BatchNorm2d(128, eps=1e-05, momentum=0.1, affine=True, track_running_stats=True)\n",
       "              )\n",
       "              (3): ReLU()\n",
       "              (4): Sequential(\n",
       "                (conv): Conv2dAuto(128, 512, kernel_size=(1, 1), stride=(1, 1), bias=False)\n",
       "                (bn): BatchNorm2d(512, eps=1e-05, momentum=0.1, affine=True, track_running_stats=True)\n",
       "              )\n",
       "            )\n",
       "            (shortcut): None\n",
       "          )\n",
       "          (2): ResNetBottleNeckBlock(\n",
       "            (blocks): Sequential(\n",
       "              (0): Sequential(\n",
       "                (conv): Conv2dAuto(512, 128, kernel_size=(1, 1), stride=(1, 1), bias=False)\n",
       "                (bn): BatchNorm2d(128, eps=1e-05, momentum=0.1, affine=True, track_running_stats=True)\n",
       "              )\n",
       "              (1): ReLU()\n",
       "              (2): Sequential(\n",
       "                (conv): Conv2dAuto(128, 128, kernel_size=(3, 3), stride=(1, 1), padding=(1, 1), bias=False)\n",
       "                (bn): BatchNorm2d(128, eps=1e-05, momentum=0.1, affine=True, track_running_stats=True)\n",
       "              )\n",
       "              (3): ReLU()\n",
       "              (4): Sequential(\n",
       "                (conv): Conv2dAuto(128, 512, kernel_size=(1, 1), stride=(1, 1), bias=False)\n",
       "                (bn): BatchNorm2d(512, eps=1e-05, momentum=0.1, affine=True, track_running_stats=True)\n",
       "              )\n",
       "            )\n",
       "            (shortcut): None\n",
       "          )\n",
       "          (3): ResNetBottleNeckBlock(\n",
       "            (blocks): Sequential(\n",
       "              (0): Sequential(\n",
       "                (conv): Conv2dAuto(512, 128, kernel_size=(1, 1), stride=(1, 1), bias=False)\n",
       "                (bn): BatchNorm2d(128, eps=1e-05, momentum=0.1, affine=True, track_running_stats=True)\n",
       "              )\n",
       "              (1): ReLU()\n",
       "              (2): Sequential(\n",
       "                (conv): Conv2dAuto(128, 128, kernel_size=(3, 3), stride=(1, 1), padding=(1, 1), bias=False)\n",
       "                (bn): BatchNorm2d(128, eps=1e-05, momentum=0.1, affine=True, track_running_stats=True)\n",
       "              )\n",
       "              (3): ReLU()\n",
       "              (4): Sequential(\n",
       "                (conv): Conv2dAuto(128, 512, kernel_size=(1, 1), stride=(1, 1), bias=False)\n",
       "                (bn): BatchNorm2d(512, eps=1e-05, momentum=0.1, affine=True, track_running_stats=True)\n",
       "              )\n",
       "            )\n",
       "            (shortcut): None\n",
       "          )\n",
       "        )\n",
       "      )\n",
       "      (2): ResNetLayer(\n",
       "        (blocks): Sequential(\n",
       "          (0): ResNetBottleNeckBlock(\n",
       "            (blocks): Sequential(\n",
       "              (0): Sequential(\n",
       "                (conv): Conv2dAuto(512, 256, kernel_size=(1, 1), stride=(1, 1), bias=False)\n",
       "                (bn): BatchNorm2d(256, eps=1e-05, momentum=0.1, affine=True, track_running_stats=True)\n",
       "              )\n",
       "              (1): ReLU()\n",
       "              (2): Sequential(\n",
       "                (conv): Conv2dAuto(256, 256, kernel_size=(3, 3), stride=(2, 2), padding=(1, 1), bias=False)\n",
       "                (bn): BatchNorm2d(256, eps=1e-05, momentum=0.1, affine=True, track_running_stats=True)\n",
       "              )\n",
       "              (3): ReLU()\n",
       "              (4): Sequential(\n",
       "                (conv): Conv2dAuto(256, 1024, kernel_size=(1, 1), stride=(1, 1), bias=False)\n",
       "                (bn): BatchNorm2d(1024, eps=1e-05, momentum=0.1, affine=True, track_running_stats=True)\n",
       "              )\n",
       "            )\n",
       "            (shortcut): Sequential(\n",
       "              (conv): Conv2d(512, 1024, kernel_size=(1, 1), stride=(2, 2), bias=False)\n",
       "              (bn): BatchNorm2d(1024, eps=1e-05, momentum=0.1, affine=True, track_running_stats=True)\n",
       "            )\n",
       "          )\n",
       "          (1): ResNetBottleNeckBlock(\n",
       "            (blocks): Sequential(\n",
       "              (0): Sequential(\n",
       "                (conv): Conv2dAuto(1024, 256, kernel_size=(1, 1), stride=(1, 1), bias=False)\n",
       "                (bn): BatchNorm2d(256, eps=1e-05, momentum=0.1, affine=True, track_running_stats=True)\n",
       "              )\n",
       "              (1): ReLU()\n",
       "              (2): Sequential(\n",
       "                (conv): Conv2dAuto(256, 256, kernel_size=(3, 3), stride=(1, 1), padding=(1, 1), bias=False)\n",
       "                (bn): BatchNorm2d(256, eps=1e-05, momentum=0.1, affine=True, track_running_stats=True)\n",
       "              )\n",
       "              (3): ReLU()\n",
       "              (4): Sequential(\n",
       "                (conv): Conv2dAuto(256, 1024, kernel_size=(1, 1), stride=(1, 1), bias=False)\n",
       "                (bn): BatchNorm2d(1024, eps=1e-05, momentum=0.1, affine=True, track_running_stats=True)\n",
       "              )\n",
       "            )\n",
       "            (shortcut): None\n",
       "          )\n",
       "          (2): ResNetBottleNeckBlock(\n",
       "            (blocks): Sequential(\n",
       "              (0): Sequential(\n",
       "                (conv): Conv2dAuto(1024, 256, kernel_size=(1, 1), stride=(1, 1), bias=False)\n",
       "                (bn): BatchNorm2d(256, eps=1e-05, momentum=0.1, affine=True, track_running_stats=True)\n",
       "              )\n",
       "              (1): ReLU()\n",
       "              (2): Sequential(\n",
       "                (conv): Conv2dAuto(256, 256, kernel_size=(3, 3), stride=(1, 1), padding=(1, 1), bias=False)\n",
       "                (bn): BatchNorm2d(256, eps=1e-05, momentum=0.1, affine=True, track_running_stats=True)\n",
       "              )\n",
       "              (3): ReLU()\n",
       "              (4): Sequential(\n",
       "                (conv): Conv2dAuto(256, 1024, kernel_size=(1, 1), stride=(1, 1), bias=False)\n",
       "                (bn): BatchNorm2d(1024, eps=1e-05, momentum=0.1, affine=True, track_running_stats=True)\n",
       "              )\n",
       "            )\n",
       "            (shortcut): None\n",
       "          )\n",
       "          (3): ResNetBottleNeckBlock(\n",
       "            (blocks): Sequential(\n",
       "              (0): Sequential(\n",
       "                (conv): Conv2dAuto(1024, 256, kernel_size=(1, 1), stride=(1, 1), bias=False)\n",
       "                (bn): BatchNorm2d(256, eps=1e-05, momentum=0.1, affine=True, track_running_stats=True)\n",
       "              )\n",
       "              (1): ReLU()\n",
       "              (2): Sequential(\n",
       "                (conv): Conv2dAuto(256, 256, kernel_size=(3, 3), stride=(1, 1), padding=(1, 1), bias=False)\n",
       "                (bn): BatchNorm2d(256, eps=1e-05, momentum=0.1, affine=True, track_running_stats=True)\n",
       "              )\n",
       "              (3): ReLU()\n",
       "              (4): Sequential(\n",
       "                (conv): Conv2dAuto(256, 1024, kernel_size=(1, 1), stride=(1, 1), bias=False)\n",
       "                (bn): BatchNorm2d(1024, eps=1e-05, momentum=0.1, affine=True, track_running_stats=True)\n",
       "              )\n",
       "            )\n",
       "            (shortcut): None\n",
       "          )\n",
       "          (4): ResNetBottleNeckBlock(\n",
       "            (blocks): Sequential(\n",
       "              (0): Sequential(\n",
       "                (conv): Conv2dAuto(1024, 256, kernel_size=(1, 1), stride=(1, 1), bias=False)\n",
       "                (bn): BatchNorm2d(256, eps=1e-05, momentum=0.1, affine=True, track_running_stats=True)\n",
       "              )\n",
       "              (1): ReLU()\n",
       "              (2): Sequential(\n",
       "                (conv): Conv2dAuto(256, 256, kernel_size=(3, 3), stride=(1, 1), padding=(1, 1), bias=False)\n",
       "                (bn): BatchNorm2d(256, eps=1e-05, momentum=0.1, affine=True, track_running_stats=True)\n",
       "              )\n",
       "              (3): ReLU()\n",
       "              (4): Sequential(\n",
       "                (conv): Conv2dAuto(256, 1024, kernel_size=(1, 1), stride=(1, 1), bias=False)\n",
       "                (bn): BatchNorm2d(1024, eps=1e-05, momentum=0.1, affine=True, track_running_stats=True)\n",
       "              )\n",
       "            )\n",
       "            (shortcut): None\n",
       "          )\n",
       "          (5): ResNetBottleNeckBlock(\n",
       "            (blocks): Sequential(\n",
       "              (0): Sequential(\n",
       "                (conv): Conv2dAuto(1024, 256, kernel_size=(1, 1), stride=(1, 1), bias=False)\n",
       "                (bn): BatchNorm2d(256, eps=1e-05, momentum=0.1, affine=True, track_running_stats=True)\n",
       "              )\n",
       "              (1): ReLU()\n",
       "              (2): Sequential(\n",
       "                (conv): Conv2dAuto(256, 256, kernel_size=(3, 3), stride=(1, 1), padding=(1, 1), bias=False)\n",
       "                (bn): BatchNorm2d(256, eps=1e-05, momentum=0.1, affine=True, track_running_stats=True)\n",
       "              )\n",
       "              (3): ReLU()\n",
       "              (4): Sequential(\n",
       "                (conv): Conv2dAuto(256, 1024, kernel_size=(1, 1), stride=(1, 1), bias=False)\n",
       "                (bn): BatchNorm2d(1024, eps=1e-05, momentum=0.1, affine=True, track_running_stats=True)\n",
       "              )\n",
       "            )\n",
       "            (shortcut): None\n",
       "          )\n",
       "        )\n",
       "      )\n",
       "      (3): ResNetLayer(\n",
       "        (blocks): Sequential(\n",
       "          (0): ResNetBottleNeckBlock(\n",
       "            (blocks): Sequential(\n",
       "              (0): Sequential(\n",
       "                (conv): Conv2dAuto(1024, 512, kernel_size=(1, 1), stride=(1, 1), bias=False)\n",
       "                (bn): BatchNorm2d(512, eps=1e-05, momentum=0.1, affine=True, track_running_stats=True)\n",
       "              )\n",
       "              (1): ReLU()\n",
       "              (2): Sequential(\n",
       "                (conv): Conv2dAuto(512, 512, kernel_size=(3, 3), stride=(2, 2), padding=(1, 1), bias=False)\n",
       "                (bn): BatchNorm2d(512, eps=1e-05, momentum=0.1, affine=True, track_running_stats=True)\n",
       "              )\n",
       "              (3): ReLU()\n",
       "              (4): Sequential(\n",
       "                (conv): Conv2dAuto(512, 2048, kernel_size=(1, 1), stride=(1, 1), bias=False)\n",
       "                (bn): BatchNorm2d(2048, eps=1e-05, momentum=0.1, affine=True, track_running_stats=True)\n",
       "              )\n",
       "            )\n",
       "            (shortcut): Sequential(\n",
       "              (conv): Conv2d(1024, 2048, kernel_size=(1, 1), stride=(2, 2), bias=False)\n",
       "              (bn): BatchNorm2d(2048, eps=1e-05, momentum=0.1, affine=True, track_running_stats=True)\n",
       "            )\n",
       "          )\n",
       "          (1): ResNetBottleNeckBlock(\n",
       "            (blocks): Sequential(\n",
       "              (0): Sequential(\n",
       "                (conv): Conv2dAuto(2048, 512, kernel_size=(1, 1), stride=(1, 1), bias=False)\n",
       "                (bn): BatchNorm2d(512, eps=1e-05, momentum=0.1, affine=True, track_running_stats=True)\n",
       "              )\n",
       "              (1): ReLU()\n",
       "              (2): Sequential(\n",
       "                (conv): Conv2dAuto(512, 512, kernel_size=(3, 3), stride=(1, 1), padding=(1, 1), bias=False)\n",
       "                (bn): BatchNorm2d(512, eps=1e-05, momentum=0.1, affine=True, track_running_stats=True)\n",
       "              )\n",
       "              (3): ReLU()\n",
       "              (4): Sequential(\n",
       "                (conv): Conv2dAuto(512, 2048, kernel_size=(1, 1), stride=(1, 1), bias=False)\n",
       "                (bn): BatchNorm2d(2048, eps=1e-05, momentum=0.1, affine=True, track_running_stats=True)\n",
       "              )\n",
       "            )\n",
       "            (shortcut): None\n",
       "          )\n",
       "          (2): ResNetBottleNeckBlock(\n",
       "            (blocks): Sequential(\n",
       "              (0): Sequential(\n",
       "                (conv): Conv2dAuto(2048, 512, kernel_size=(1, 1), stride=(1, 1), bias=False)\n",
       "                (bn): BatchNorm2d(512, eps=1e-05, momentum=0.1, affine=True, track_running_stats=True)\n",
       "              )\n",
       "              (1): ReLU()\n",
       "              (2): Sequential(\n",
       "                (conv): Conv2dAuto(512, 512, kernel_size=(3, 3), stride=(1, 1), padding=(1, 1), bias=False)\n",
       "                (bn): BatchNorm2d(512, eps=1e-05, momentum=0.1, affine=True, track_running_stats=True)\n",
       "              )\n",
       "              (3): ReLU()\n",
       "              (4): Sequential(\n",
       "                (conv): Conv2dAuto(512, 2048, kernel_size=(1, 1), stride=(1, 1), bias=False)\n",
       "                (bn): BatchNorm2d(2048, eps=1e-05, momentum=0.1, affine=True, track_running_stats=True)\n",
       "              )\n",
       "            )\n",
       "            (shortcut): None\n",
       "          )\n",
       "        )\n",
       "      )\n",
       "    )\n",
       "  )\n",
       "  (decoder): ResnetDecoder(\n",
       "    (avg): AdaptiveAvgPool2d(output_size=(1, 1))\n",
       "    (decoder): Linear(in_features=2048, out_features=12, bias=True)\n",
       "  )\n",
       ")"
      ]
     },
     "execution_count": 41,
     "metadata": {},
     "output_type": "execute_result"
    }
   ],
   "source": [
    "# VALIDATION ************************************************************\n",
    "np.set_printoptions(threshold=np.inf)\n",
    "calc = np.zeros([6])\n",
    "averaging = 0\n",
    "correct = 0\n",
    "total = 0\n",
    "# V = data.DataLoader(inference_dataloader_segmented(), batch_size=1, shuffle=True)\n",
    "model.eval()"
   ]
  },
  {
   "cell_type": "markdown",
   "metadata": {},
   "source": [
    "### TRAIN Model"
   ]
  },
  {
   "cell_type": "code",
   "execution_count": null,
   "metadata": {
    "scrolled": true
   },
   "outputs": [
    {
     "name": "stderr",
     "output_type": "stream",
     "text": [
      "\r",
      "Epoch:   0%|          | 0/100 [00:00<?, ?it/s]"
     ]
    },
    {
     "name": "stdout",
     "output_type": "stream",
     "text": [
      "batch time =  946.1469759730026\n",
      "************************* start *************************\n",
      "Total % correct 98.41%\n",
      "test time =  144.22196200599865\n",
      "*************************** end ***************************\n"
     ]
    },
    {
     "name": "stderr",
     "output_type": "stream",
     "text": [
      "Epoch:   1%|          | 1/100 [18:10<29:59:44, 1090.75s/it]"
     ]
    },
    {
     "name": "stdout",
     "output_type": "stream",
     "text": [
      "___________________________________________\n",
      "Epoch 1 Loss 0.0000918602 \n",
      "___________________________________________\n",
      "batch time =  912.6899661980024\n",
      "************************* start *************************\n",
      "Total % correct 75.30%\n",
      "test time =  102.15643055699911\n",
      "*************************** end ***************************\n"
     ]
    },
    {
     "name": "stderr",
     "output_type": "stream",
     "text": [
      "Epoch:   2%|▏         | 2/100 [35:06<29:04:38, 1068.14s/it]"
     ]
    },
    {
     "name": "stdout",
     "output_type": "stream",
     "text": [
      "___________________________________________\n",
      "Epoch 2 Loss 0.0000202458 \n",
      "___________________________________________\n",
      "batch time =  898.3656834709982\n",
      "************************* start *************************\n",
      "Total % correct 78.31%\n",
      "test time =  100.60363802999927\n",
      "*************************** end ***************************\n"
     ]
    },
    {
     "name": "stderr",
     "output_type": "stream",
     "text": [
      "Epoch:   3%|▎         | 3/100 [51:45<28:13:32, 1047.55s/it]"
     ]
    },
    {
     "name": "stdout",
     "output_type": "stream",
     "text": [
      "___________________________________________\n",
      "Epoch 3 Loss 0.1133899540 \n",
      "___________________________________________\n",
      "batch time =  935.3918590370013\n",
      "************************* start *************************\n",
      "Total % correct 98.33%\n",
      "test time =  106.53624190700066\n",
      "*************************** end ***************************\n"
     ]
    },
    {
     "name": "stderr",
     "output_type": "stream",
     "text": [
      "Epoch:   4%|▍         | 4/100 [1:09:08<27:53:39, 1046.03s/it]"
     ]
    },
    {
     "name": "stdout",
     "output_type": "stream",
     "text": [
      "___________________________________________\n",
      "Epoch 4 Loss 0.0000136954 \n",
      "___________________________________________\n",
      "batch time =  908.2346221959997\n",
      "************************* start *************************\n",
      "Total % correct 98.29%\n",
      "test time =  103.45090967899887\n",
      "*************************** end ***************************\n"
     ]
    },
    {
     "name": "stderr",
     "output_type": "stream",
     "text": [
      "Epoch:   5%|▌         | 5/100 [1:26:00<27:20:08, 1035.88s/it]"
     ]
    },
    {
     "name": "stdout",
     "output_type": "stream",
     "text": [
      "___________________________________________\n",
      "Epoch 5 Loss 0.0000010934 \n",
      "___________________________________________\n",
      "batch time =  904.2600348740016\n",
      "************************* start *************************\n",
      "Total % correct 98.48%\n",
      "test time =  102.44029101100023\n",
      "*************************** end ***************************\n"
     ]
    },
    {
     "name": "stderr",
     "output_type": "stream",
     "text": [
      "Epoch:   6%|▌         | 6/100 [1:42:47<26:49:24, 1027.28s/it]"
     ]
    },
    {
     "name": "stdout",
     "output_type": "stream",
     "text": [
      "___________________________________________\n",
      "Epoch 6 Loss 0.0000065322 \n",
      "___________________________________________\n",
      "batch time =  904.904434475\n",
      "************************* start *************************\n",
      "Total % correct 98.55%\n",
      "test time =  102.56520079799884\n",
      "*************************** end ***************************\n"
     ]
    },
    {
     "name": "stderr",
     "output_type": "stream",
     "text": [
      "Epoch:   7%|▋         | 7/100 [1:59:35<26:23:17, 1021.48s/it]"
     ]
    },
    {
     "name": "stdout",
     "output_type": "stream",
     "text": [
      "___________________________________________\n",
      "Epoch 7 Loss 0.0000127215 \n",
      "___________________________________________\n",
      "batch time =  901.4560079080002\n",
      "************************* start *************************\n",
      "Total % correct 98.58%\n",
      "test time =  101.51292750200082\n",
      "*************************** end ***************************\n"
     ]
    },
    {
     "name": "stderr",
     "output_type": "stream",
     "text": [
      "Epoch:   8%|▊         | 8/100 [2:16:18<25:57:59, 1016.08s/it]"
     ]
    },
    {
     "name": "stdout",
     "output_type": "stream",
     "text": [
      "___________________________________________\n",
      "Epoch 8 Loss 0.0000005458 \n",
      "___________________________________________\n",
      "batch time =  901.1632761060027\n",
      "************************* start *************************\n",
      "Total % correct 98.85%\n",
      "test time =  102.94163158599986\n",
      "*************************** end ***************************\n"
     ]
    },
    {
     "name": "stderr",
     "output_type": "stream",
     "text": [
      "Epoch:   9%|▉         | 9/100 [2:33:03<25:35:49, 1012.63s/it]"
     ]
    },
    {
     "name": "stdout",
     "output_type": "stream",
     "text": [
      "___________________________________________\n",
      "Epoch 9 Loss 0.0000059752 \n",
      "___________________________________________\n",
      "batch time =  901.8215902839984\n",
      "************************* start *************************\n",
      "Total % correct 99.33%\n",
      "test time =  102.67261944200072\n",
      "*************************** end ***************************\n"
     ]
    },
    {
     "name": "stderr",
     "output_type": "stream",
     "text": [
      "Epoch:  10%|█         | 10/100 [2:49:48<25:15:30, 1010.34s/it]"
     ]
    },
    {
     "name": "stdout",
     "output_type": "stream",
     "text": [
      "___________________________________________\n",
      "Epoch 10 Loss 0.0000030547 \n",
      "___________________________________________\n",
      "batch time =  900.2892810990015\n",
      "************************* start *************************\n",
      "Total % correct 99.08%\n",
      "test time =  103.05749682600072\n",
      "*************************** end ***************************\n"
     ]
    },
    {
     "name": "stderr",
     "output_type": "stream",
     "text": [
      "Epoch:  11%|█         | 11/100 [3:06:32<24:55:47, 1008.40s/it]"
     ]
    },
    {
     "name": "stdout",
     "output_type": "stream",
     "text": [
      "___________________________________________\n",
      "Epoch 11 Loss 0.0000015218 \n",
      "___________________________________________\n",
      "batch time =  897.8976631470032\n",
      "************************* start *************************\n",
      "Total % correct 99.52%\n",
      "test time =  102.98427227100183\n",
      "*************************** end ***************************\n"
     ]
    },
    {
     "name": "stderr",
     "output_type": "stream",
     "text": [
      "Epoch:  12%|█▏        | 12/100 [3:23:13<24:35:53, 1006.30s/it]"
     ]
    },
    {
     "name": "stdout",
     "output_type": "stream",
     "text": [
      "___________________________________________\n",
      "Epoch 12 Loss 0.0000035948 \n",
      "___________________________________________\n",
      "batch time =  898.9782293180033\n",
      "************************* start *************************\n",
      "Total % correct 99.99%\n",
      "test time =  101.88444264700229\n",
      "*************************** end ***************************\n"
     ]
    },
    {
     "name": "stderr",
     "output_type": "stream",
     "text": [
      "Epoch:  13%|█▎        | 13/100 [3:39:55<24:16:59, 1004.82s/it]"
     ]
    },
    {
     "name": "stdout",
     "output_type": "stream",
     "text": [
      "___________________________________________\n",
      "Epoch 13 Loss 0.0000047627 \n",
      "___________________________________________\n",
      "batch time =  898.0905576919977\n",
      "************************* start *************************\n",
      "Total % correct 98.84%\n",
      "test time =  102.91108942100254\n",
      "*************************** end ***************************\n"
     ]
    },
    {
     "name": "stderr",
     "output_type": "stream",
     "text": [
      "Epoch:  14%|█▍        | 14/100 [3:56:36<23:58:49, 1003.83s/it]"
     ]
    },
    {
     "name": "stdout",
     "output_type": "stream",
     "text": [
      "___________________________________________\n",
      "Epoch 14 Loss 0.0000037699 \n",
      "___________________________________________\n",
      "batch time =  898.0774747460018\n",
      "************************* start *************************\n",
      "Total % correct 98.46%\n",
      "test time =  101.25149931499618\n",
      "*************************** end ***************************\n"
     ]
    },
    {
     "name": "stderr",
     "output_type": "stream",
     "text": [
      "Epoch:  15%|█▌        | 15/100 [4:13:16<23:40:22, 1002.62s/it]"
     ]
    },
    {
     "name": "stdout",
     "output_type": "stream",
     "text": [
      "___________________________________________\n",
      "Epoch 15 Loss 0.0000020675 \n",
      "___________________________________________\n",
      "batch time =  899.8127060609986\n",
      "************************* start *************************\n",
      "Total % correct 98.58%\n",
      "test time =  102.02338343099836\n",
      "*************************** end ***************************\n"
     ]
    },
    {
     "name": "stderr",
     "output_type": "stream",
     "text": [
      "Epoch:  16%|█▌        | 16/100 [4:29:58<23:23:33, 1002.54s/it]"
     ]
    },
    {
     "name": "stdout",
     "output_type": "stream",
     "text": [
      "___________________________________________\n",
      "Epoch 16 Loss 0.0000067370 \n",
      "___________________________________________\n",
      "batch time =  897.0713938100016\n",
      "************************* start *************************\n",
      "Total % correct 99.10%\n",
      "test time =  102.22698153599777\n",
      "*************************** end ***************************\n"
     ]
    },
    {
     "name": "stderr",
     "output_type": "stream",
     "text": [
      "Epoch:  17%|█▋        | 17/100 [4:46:38<23:05:42, 1001.72s/it]"
     ]
    },
    {
     "name": "stdout",
     "output_type": "stream",
     "text": [
      "___________________________________________\n",
      "Epoch 17 Loss 0.0000073797 \n",
      "___________________________________________\n",
      "batch time =  898.3524625709979\n",
      "************************* start *************************\n",
      "Total % correct 98.58%\n",
      "test time =  101.1609555670002\n",
      "*************************** end ***************************\n"
     ]
    },
    {
     "name": "stderr",
     "output_type": "stream",
     "text": [
      "Epoch:  18%|█▊        | 18/100 [5:03:18<22:48:19, 1001.22s/it]"
     ]
    },
    {
     "name": "stdout",
     "output_type": "stream",
     "text": [
      "___________________________________________\n",
      "Epoch 18 Loss 0.0000074448 \n",
      "___________________________________________\n",
      "batch time =  899.089548969001\n",
      "************************* start *************************\n",
      "Total % correct 98.31%\n",
      "test time =  103.7413503850039\n",
      "*************************** end ***************************\n"
     ]
    },
    {
     "name": "stderr",
     "output_type": "stream",
     "text": [
      "Epoch:  19%|█▉        | 19/100 [5:20:02<22:32:31, 1001.87s/it]"
     ]
    },
    {
     "name": "stdout",
     "output_type": "stream",
     "text": [
      "___________________________________________\n",
      "Epoch 19 Loss 0.0000134510 \n",
      "___________________________________________\n",
      "batch time =  897.904520778\n",
      "************************* start *************************\n",
      "Total % correct 99.05%\n",
      "test time =  100.39029347799806\n",
      "*************************** end ***************************\n"
     ]
    },
    {
     "name": "stderr",
     "output_type": "stream",
     "text": [
      "Epoch:  20%|██        | 20/100 [5:36:40<22:14:35, 1000.95s/it]"
     ]
    },
    {
     "name": "stdout",
     "output_type": "stream",
     "text": [
      "___________________________________________\n",
      "Epoch 20 Loss 0.0000377834 \n",
      "___________________________________________\n",
      "batch time =  899.9610806920027\n",
      "************************* start *************************\n",
      "Total % correct 99.89%\n",
      "test time =  102.60291357599635\n",
      "*************************** end ***************************\n"
     ]
    },
    {
     "name": "stderr",
     "output_type": "stream",
     "text": [
      "Epoch:  21%|██        | 21/100 [5:53:23<21:58:44, 1001.58s/it]"
     ]
    },
    {
     "name": "stdout",
     "output_type": "stream",
     "text": [
      "___________________________________________\n",
      "Epoch 21 Loss 0.0000008866 \n",
      "___________________________________________\n",
      "batch time =  897.385669785006\n",
      "************************* start *************************\n",
      "Total % correct 100.00%\n",
      "test time =  101.10479470800055\n",
      "*************************** end ***************************\n"
     ]
    },
    {
     "name": "stderr",
     "output_type": "stream",
     "text": [
      "Epoch:  22%|██▏       | 22/100 [6:10:03<21:41:04, 1000.83s/it]"
     ]
    },
    {
     "name": "stdout",
     "output_type": "stream",
     "text": [
      "___________________________________________\n",
      "Epoch 22 Loss 0.0000006910 \n",
      "___________________________________________\n",
      "batch time =  897.8921433490032\n",
      "************************* start *************************\n",
      "Total % correct 100.00%\n",
      "test time =  102.35466567600088\n",
      "*************************** end ***************************\n"
     ]
    },
    {
     "name": "stderr",
     "output_type": "stream",
     "text": [
      "Epoch:  23%|██▎       | 23/100 [6:26:43<21:24:21, 1000.80s/it]"
     ]
    },
    {
     "name": "stdout",
     "output_type": "stream",
     "text": [
      "___________________________________________\n",
      "Epoch 23 Loss 0.0000008848 \n",
      "___________________________________________\n",
      "batch time =  900.2751225460015\n",
      "************************* start *************************\n",
      "Total % correct 99.59%\n",
      "test time =  103.153232785\n",
      "*************************** end ***************************\n"
     ]
    },
    {
     "name": "stderr",
     "output_type": "stream",
     "text": [
      "Epoch:  24%|██▍       | 24/100 [6:43:27<21:08:53, 1001.75s/it]"
     ]
    },
    {
     "name": "stdout",
     "output_type": "stream",
     "text": [
      "___________________________________________\n",
      "Epoch 24 Loss 0.0000113146 \n",
      "___________________________________________\n",
      "batch time =  900.8188064030037\n",
      "************************* start *************************\n",
      "Total % correct 99.46%\n",
      "test time =  100.94889558399882\n",
      "*************************** end ***************************\n"
     ]
    },
    {
     "name": "stderr",
     "output_type": "stream",
     "text": [
      "Epoch:  25%|██▌       | 25/100 [7:00:10<20:52:23, 1001.91s/it]"
     ]
    },
    {
     "name": "stdout",
     "output_type": "stream",
     "text": [
      "___________________________________________\n",
      "Epoch 25 Loss 0.0000031981 \n",
      "___________________________________________\n",
      "batch time =  898.964741361\n",
      "************************* start *************************\n",
      "Total % correct 99.81%\n",
      "test time =  99.45020865400147\n",
      "*************************** end ***************************\n"
     ]
    },
    {
     "name": "stderr",
     "output_type": "stream",
     "text": [
      "Epoch:  26%|██▌       | 26/100 [7:16:48<20:34:34, 1001.01s/it]"
     ]
    },
    {
     "name": "stdout",
     "output_type": "stream",
     "text": [
      "___________________________________________\n",
      "Epoch 26 Loss 0.0000030659 \n",
      "___________________________________________\n",
      "batch time =  896.4845816939996\n",
      "************************* start *************************\n",
      "Total % correct 99.39%\n",
      "test time =  105.14172152899846\n",
      "*************************** end ***************************\n"
     ]
    },
    {
     "name": "stderr",
     "output_type": "stream",
     "text": [
      "Epoch:  27%|██▋       | 27/100 [7:33:31<20:18:18, 1001.35s/it]"
     ]
    },
    {
     "name": "stdout",
     "output_type": "stream",
     "text": [
      "___________________________________________\n",
      "Epoch 27 Loss 0.0000082586 \n",
      "___________________________________________\n",
      "batch time =  897.665157579002\n",
      "************************* start *************************\n",
      "Total % correct 98.82%\n",
      "test time =  101.86784307099879\n",
      "*************************** end ***************************\n"
     ]
    },
    {
     "name": "stderr",
     "output_type": "stream",
     "text": [
      "Epoch:  28%|██▊       | 28/100 [7:50:11<20:01:08, 1000.96s/it]"
     ]
    },
    {
     "name": "stdout",
     "output_type": "stream",
     "text": [
      "___________________________________________\n",
      "Epoch 28 Loss 0.0000010002 \n",
      "___________________________________________\n",
      "batch time =  897.2077933559995\n",
      "************************* start *************************\n",
      "Total % correct 99.71%\n",
      "test time =  102.36455705200206\n",
      "*************************** end ***************************\n"
     ]
    },
    {
     "name": "stderr",
     "output_type": "stream",
     "text": [
      "Epoch:  29%|██▉       | 29/100 [8:06:51<19:44:09, 1000.69s/it]"
     ]
    },
    {
     "name": "stdout",
     "output_type": "stream",
     "text": [
      "___________________________________________\n",
      "Epoch 29 Loss 0.0000002198 \n",
      "___________________________________________\n",
      "batch time =  897.439351230998\n",
      "************************* start *************************\n",
      "Total % correct 100.00%\n",
      "test time =  101.70352751899918\n",
      "*************************** end ***************************\n"
     ]
    },
    {
     "name": "stderr",
     "output_type": "stream",
     "text": [
      "Epoch:  30%|███       | 30/100 [8:23:30<19:27:06, 1000.38s/it]"
     ]
    },
    {
     "name": "stdout",
     "output_type": "stream",
     "text": [
      "___________________________________________\n",
      "Epoch 30 Loss 0.0000227591 \n",
      "___________________________________________\n",
      "batch time =  899.2965926090037\n",
      "************************* start *************************\n",
      "Total % correct 100.00%\n",
      "test time =  102.2902232750057\n",
      "*************************** end ***************************\n"
     ]
    },
    {
     "name": "stderr",
     "output_type": "stream",
     "text": [
      "Epoch:  31%|███       | 31/100 [8:40:12<19:11:01, 1000.90s/it]"
     ]
    },
    {
     "name": "stdout",
     "output_type": "stream",
     "text": [
      "___________________________________________\n",
      "Epoch 31 Loss 0.0000020359 \n",
      "___________________________________________\n",
      "batch time =  900.2989295149964\n",
      "************************* start *************************\n",
      "Total % correct 98.95%\n",
      "test time =  102.64966151200497\n",
      "*************************** end ***************************\n"
     ]
    },
    {
     "name": "stderr",
     "output_type": "stream",
     "text": [
      "Epoch:  32%|███▏      | 32/100 [8:56:56<18:55:12, 1001.66s/it]"
     ]
    },
    {
     "name": "stdout",
     "output_type": "stream",
     "text": [
      "___________________________________________\n",
      "Epoch 32 Loss 0.0000007376 \n",
      "___________________________________________\n",
      "batch time =  902.7367986690006\n",
      "************************* start *************************\n",
      "Total % correct 99.61%\n",
      "test time =  101.61861615900125\n",
      "*************************** end ***************************\n"
     ]
    },
    {
     "name": "stderr",
     "output_type": "stream",
     "text": [
      "Epoch:  33%|███▎      | 33/100 [9:13:41<18:39:35, 1002.62s/it]"
     ]
    },
    {
     "name": "stdout",
     "output_type": "stream",
     "text": [
      "___________________________________________\n",
      "Epoch 33 Loss 0.0000007581 \n",
      "___________________________________________\n",
      "batch time =  901.5576356339952\n",
      "************************* start *************************\n",
      "Total % correct 99.69%\n",
      "test time =  102.64283392400102\n",
      "*************************** end ***************************\n"
     ]
    },
    {
     "name": "stderr",
     "output_type": "stream",
     "text": [
      "Epoch:  34%|███▍      | 34/100 [9:30:25<18:23:34, 1003.25s/it]"
     ]
    },
    {
     "name": "stdout",
     "output_type": "stream",
     "text": [
      "___________________________________________\n",
      "Epoch 34 Loss 0.0000009071 \n",
      "___________________________________________\n",
      "batch time =  899.7324746999948\n",
      "************************* start *************************\n",
      "Total % correct 100.00%\n",
      "test time =  104.12909025399858\n",
      "*************************** end ***************************\n"
     ]
    },
    {
     "name": "stderr",
     "output_type": "stream",
     "text": [
      "Epoch:  35%|███▌      | 35/100 [9:47:10<18:07:12, 1003.58s/it]"
     ]
    },
    {
     "name": "stdout",
     "output_type": "stream",
     "text": [
      "___________________________________________\n",
      "Epoch 35 Loss 0.0000011362 \n",
      "___________________________________________\n",
      "batch time =  899.2465597199989\n",
      "************************* start *************************\n",
      "Total % correct 99.97%\n",
      "test time =  103.31819183799962\n",
      "*************************** end ***************************\n"
     ]
    },
    {
     "name": "stderr",
     "output_type": "stream",
     "text": [
      "Epoch:  36%|███▌      | 36/100 [10:03:53<17:50:20, 1003.44s/it]"
     ]
    },
    {
     "name": "stdout",
     "output_type": "stream",
     "text": [
      "___________________________________________\n",
      "Epoch 36 Loss 0.0000028925 \n",
      "___________________________________________\n",
      "batch time =  899.267357787001\n",
      "************************* start *************************\n",
      "Total % correct 99.98%\n",
      "test time =  101.26144628699694\n",
      "*************************** end ***************************\n"
     ]
    },
    {
     "name": "stderr",
     "output_type": "stream",
     "text": [
      "Epoch:  37%|███▋      | 37/100 [10:20:34<17:32:51, 1002.72s/it]"
     ]
    },
    {
     "name": "stdout",
     "output_type": "stream",
     "text": [
      "___________________________________________\n",
      "Epoch 37 Loss 0.0000001546 \n",
      "___________________________________________\n",
      "batch time =  900.3372148970011\n",
      "************************* start *************************\n",
      "Total % correct 100.00%\n",
      "test time =  102.64076116599608\n",
      "*************************** end ***************************\n"
     ]
    },
    {
     "name": "stderr",
     "output_type": "stream",
     "text": [
      "Epoch:  38%|███▊      | 38/100 [10:37:17<17:16:22, 1002.94s/it]"
     ]
    },
    {
     "name": "stdout",
     "output_type": "stream",
     "text": [
      "___________________________________________\n",
      "Epoch 38 Loss 0.0000027473 \n",
      "___________________________________________\n",
      "batch time =  898.6880440640016\n",
      "************************* start *************************\n",
      "Total % correct 99.90%\n",
      "test time =  100.78513981700235\n",
      "*************************** end ***************************\n"
     ]
    },
    {
     "name": "stderr",
     "output_type": "stream",
     "text": [
      "Epoch:  39%|███▉      | 39/100 [10:53:57<16:58:45, 1002.05s/it]"
     ]
    },
    {
     "name": "stdout",
     "output_type": "stream",
     "text": [
      "___________________________________________\n",
      "Epoch 39 Loss 0.0000062248 \n",
      "___________________________________________\n",
      "batch time =  896.7041136210028\n",
      "************************* start *************************\n",
      "Total % correct 99.23%\n",
      "test time =  100.72322581500339\n",
      "*************************** end ***************************\n"
     ]
    },
    {
     "name": "stderr",
     "output_type": "stream",
     "text": [
      "Epoch:  40%|████      | 40/100 [11:10:35<16:40:49, 1000.83s/it]"
     ]
    },
    {
     "name": "stdout",
     "output_type": "stream",
     "text": [
      "___________________________________________\n",
      "Epoch 40 Loss 0.0000029260 \n",
      "___________________________________________\n",
      "batch time =  896.6430769869985\n",
      "************************* start *************************\n",
      "Total % correct 98.61%\n",
      "test time =  102.62135020999995\n",
      "*************************** end ***************************\n"
     ]
    },
    {
     "name": "stderr",
     "output_type": "stream",
     "text": [
      "Epoch:  41%|████      | 41/100 [11:27:15<16:23:50, 1000.52s/it]"
     ]
    },
    {
     "name": "stdout",
     "output_type": "stream",
     "text": [
      "___________________________________________\n",
      "Epoch 41 Loss 0.0000027398 \n",
      "___________________________________________\n",
      "batch time =  900.226931803998\n",
      "************************* start *************************\n",
      "Total % correct 99.99%\n",
      "test time =  105.53222560200084\n",
      "*************************** end ***************************\n"
     ]
    },
    {
     "name": "stderr",
     "output_type": "stream",
     "text": [
      "Epoch:  42%|████▏     | 42/100 [11:44:01<16:08:50, 1002.25s/it]"
     ]
    },
    {
     "name": "stdout",
     "output_type": "stream",
     "text": [
      "___________________________________________\n",
      "Epoch 42 Loss 0.0000008028 \n",
      "___________________________________________\n",
      "batch time =  900.223238681996\n",
      "************************* start *************************\n",
      "Total % correct 99.99%\n",
      "test time =  103.43929005800601\n",
      "*************************** end ***************************\n"
     ]
    },
    {
     "name": "stderr",
     "output_type": "stream",
     "text": [
      "Epoch:  43%|████▎     | 43/100 [12:00:46<15:52:41, 1002.84s/it]"
     ]
    },
    {
     "name": "stdout",
     "output_type": "stream",
     "text": [
      "___________________________________________\n",
      "Epoch 43 Loss 0.0000001658 \n",
      "___________________________________________\n",
      "batch time =  898.6850866779932\n",
      "************************* start *************************\n",
      "Total % correct 100.00%\n",
      "test time =  101.33911341099883\n",
      "*************************** end ***************************\n"
     ]
    },
    {
     "name": "stderr",
     "output_type": "stream",
     "text": [
      "Epoch:  44%|████▍     | 44/100 [12:17:26<15:35:20, 1002.14s/it]"
     ]
    },
    {
     "name": "stdout",
     "output_type": "stream",
     "text": [
      "___________________________________________\n",
      "Epoch 44 Loss 0.0000000354 \n",
      "___________________________________________\n",
      "batch time =  895.6762320400012\n",
      "************************* start *************************\n",
      "Total % correct 99.72%\n",
      "test time =  100.81598157199915\n",
      "*************************** end ***************************\n"
     ]
    },
    {
     "name": "stderr",
     "output_type": "stream",
     "text": [
      "Epoch:  45%|████▌     | 45/100 [12:34:03<15:17:13, 1000.61s/it]"
     ]
    },
    {
     "name": "stdout",
     "output_type": "stream",
     "text": [
      "___________________________________________\n",
      "Epoch 45 Loss 0.0000004508 \n",
      "___________________________________________\n",
      "batch time =  898.1075718460052\n",
      "************************* start *************************\n",
      "Total % correct 99.75%\n",
      "test time =  101.75053079899226\n",
      "*************************** end ***************************\n"
     ]
    },
    {
     "name": "stderr",
     "output_type": "stream",
     "text": [
      "Epoch:  46%|████▌     | 46/100 [12:50:44<15:00:28, 1000.53s/it]"
     ]
    },
    {
     "name": "stdout",
     "output_type": "stream",
     "text": [
      "___________________________________________\n",
      "Epoch 46 Loss 0.0000006277 \n",
      "___________________________________________\n",
      "batch time =  895.9438501999975\n",
      "************************* start *************************\n",
      "Total % correct 98.60%\n",
      "test time =  102.16844420699636\n",
      "*************************** end ***************************\n"
     ]
    },
    {
     "name": "stderr",
     "output_type": "stream",
     "text": [
      "Epoch:  47%|████▋     | 47/100 [13:07:22<14:43:17, 999.95s/it] "
     ]
    },
    {
     "name": "stdout",
     "output_type": "stream",
     "text": [
      "___________________________________________\n",
      "Epoch 47 Loss 0.0000015218 \n",
      "___________________________________________\n",
      "batch time =  897.78697882501\n",
      "************************* start *************************\n",
      "Total % correct 99.80%\n",
      "test time =  102.79120975000842\n",
      "*************************** end ***************************\n"
     ]
    },
    {
     "name": "stderr",
     "output_type": "stream",
     "text": [
      "Epoch:  48%|████▊     | 48/100 [13:24:03<14:26:55, 1000.29s/it]"
     ]
    },
    {
     "name": "stdout",
     "output_type": "stream",
     "text": [
      "___________________________________________\n",
      "Epoch 48 Loss 0.0000000298 \n",
      "___________________________________________\n",
      "batch time =  897.2591104739986\n",
      "************************* start *************************\n",
      "Total % correct 98.93%\n",
      "test time =  100.37416107700847\n",
      "*************************** end ***************************\n"
     ]
    },
    {
     "name": "stderr",
     "output_type": "stream",
     "text": [
      "Epoch:  49%|████▉     | 49/100 [13:40:41<14:09:42, 999.65s/it] "
     ]
    },
    {
     "name": "stdout",
     "output_type": "stream",
     "text": [
      "___________________________________________\n",
      "Epoch 49 Loss 0.0000002142 \n",
      "___________________________________________\n",
      "batch time =  894.2335847159993\n",
      "************************* start *************************\n",
      "Total % correct 99.77%\n",
      "test time =  104.74305808500503\n",
      "*************************** end ***************************\n"
     ]
    },
    {
     "name": "stderr",
     "output_type": "stream",
     "text": [
      "Epoch:  50%|█████     | 50/100 [13:57:21<13:53:00, 999.61s/it]"
     ]
    },
    {
     "name": "stdout",
     "output_type": "stream",
     "text": [
      "___________________________________________\n",
      "Epoch 50 Loss 0.0000002049 \n",
      "___________________________________________\n",
      "batch time =  895.9945343540021\n",
      "************************* start *************************\n",
      "Total % correct 99.25%\n",
      "test time =  102.241226180995\n",
      "*************************** end ***************************\n"
     ]
    },
    {
     "name": "stderr",
     "output_type": "stream",
     "text": [
      "Epoch:  51%|█████     | 51/100 [14:14:00<13:36:08, 999.35s/it]"
     ]
    },
    {
     "name": "stdout",
     "output_type": "stream",
     "text": [
      "___________________________________________\n",
      "Epoch 51 Loss 0.0000477936 \n",
      "___________________________________________\n",
      "batch time =  893.3206670630025\n",
      "************************* start *************************\n",
      "Total % correct 99.99%\n",
      "test time =  101.5944305209996\n",
      "*************************** end ***************************\n"
     ]
    },
    {
     "name": "stderr",
     "output_type": "stream",
     "text": [
      "Epoch:  52%|█████▏    | 52/100 [14:30:35<13:18:32, 998.18s/it]"
     ]
    },
    {
     "name": "stdout",
     "output_type": "stream",
     "text": [
      "___________________________________________\n",
      "Epoch 52 Loss 0.0000006743 \n",
      "___________________________________________\n",
      "batch time =  901.432139460012\n",
      "************************* start *************************\n",
      "Total % correct 100.00%\n",
      "test time =  112.10931083300966\n",
      "*************************** end ***************************\n"
     ]
    },
    {
     "name": "stderr",
     "output_type": "stream",
     "text": [
      "Epoch:  53%|█████▎    | 53/100 [14:47:29<13:05:38, 1002.94s/it]"
     ]
    },
    {
     "name": "stdout",
     "output_type": "stream",
     "text": [
      "___________________________________________\n",
      "Epoch 53 Loss 0.0000035278 \n",
      "___________________________________________\n",
      "batch time =  898.6262045650074\n",
      "************************* start *************************\n",
      "Total % correct 100.00%\n",
      "test time =  102.42335819000436\n",
      "*************************** end ***************************\n"
     ]
    },
    {
     "name": "stderr",
     "output_type": "stream",
     "text": [
      "Epoch:  54%|█████▍    | 54/100 [15:04:11<12:48:36, 1002.53s/it]"
     ]
    },
    {
     "name": "stdout",
     "output_type": "stream",
     "text": [
      "___________________________________________\n",
      "Epoch 54 Loss 0.0000002068 \n",
      "___________________________________________\n",
      "batch time =  906.4168463849928\n",
      "************************* start *************************\n",
      "Total % correct 100.00%\n",
      "test time =  101.1830847680103\n",
      "*************************** end ***************************\n"
     ]
    },
    {
     "name": "stderr",
     "output_type": "stream",
     "text": [
      "Epoch:  55%|█████▌    | 55/100 [15:20:59<12:33:08, 1004.20s/it]"
     ]
    },
    {
     "name": "stdout",
     "output_type": "stream",
     "text": [
      "___________________________________________\n",
      "Epoch 55 Loss 0.0000001956 \n",
      "___________________________________________\n",
      "batch time =  903.952079693001\n",
      "************************* start *************************\n",
      "Total % correct 99.98%\n",
      "test time =  102.97573456999089\n",
      "*************************** end ***************************\n"
     ]
    },
    {
     "name": "stderr",
     "output_type": "stream",
     "text": [
      "Epoch:  56%|█████▌    | 56/100 [15:37:46<12:17:07, 1005.16s/it]"
     ]
    },
    {
     "name": "stdout",
     "output_type": "stream",
     "text": [
      "___________________________________________\n",
      "Epoch 56 Loss 0.0000000373 \n",
      "___________________________________________\n",
      "batch time =  898.5768401870009\n",
      "************************* start *************************\n",
      "Total % correct 99.99%\n",
      "test time =  103.57650571399427\n",
      "*************************** end ***************************\n"
     ]
    },
    {
     "name": "stderr",
     "output_type": "stream",
     "text": [
      "Epoch:  57%|█████▋    | 57/100 [15:54:29<11:59:50, 1004.42s/it]"
     ]
    },
    {
     "name": "stdout",
     "output_type": "stream",
     "text": [
      "___________________________________________\n",
      "Epoch 57 Loss 0.0000000317 \n",
      "___________________________________________\n",
      "batch time =  906.5513352050039\n",
      "************************* start *************************\n",
      "Total % correct 99.84%\n",
      "test time =  104.22018946199387\n",
      "*************************** end ***************************\n"
     ]
    },
    {
     "name": "stderr",
     "output_type": "stream",
     "text": [
      "Epoch:  58%|█████▊    | 58/100 [16:11:20<11:44:32, 1006.48s/it]"
     ]
    },
    {
     "name": "stdout",
     "output_type": "stream",
     "text": [
      "___________________________________________\n",
      "Epoch 58 Loss 0.0000066343 \n",
      "___________________________________________\n",
      "batch time =  902.9867751639977\n",
      "************************* start *************************\n",
      "Total % correct 99.99%\n",
      "test time =  101.46600142799434\n",
      "*************************** end ***************************\n"
     ]
    },
    {
     "name": "stderr",
     "output_type": "stream",
     "text": [
      "Epoch:  59%|█████▉    | 59/100 [16:28:05<11:27:27, 1006.03s/it]"
     ]
    },
    {
     "name": "stdout",
     "output_type": "stream",
     "text": [
      "___________________________________________\n",
      "Epoch 59 Loss 0.0000002589 \n",
      "___________________________________________\n",
      "batch time =  898.7213881460048\n",
      "************************* start *************************\n",
      "Total % correct 99.16%\n",
      "test time =  102.92313759899116\n",
      "*************************** end ***************************\n"
     ]
    },
    {
     "name": "stderr",
     "output_type": "stream",
     "text": [
      "Epoch:  60%|██████    | 60/100 [16:44:47<11:09:55, 1004.88s/it]"
     ]
    },
    {
     "name": "stdout",
     "output_type": "stream",
     "text": [
      "___________________________________________\n",
      "Epoch 60 Loss 0.0000000242 \n",
      "___________________________________________\n",
      "batch time =  897.4957646639959\n",
      "************************* start *************************\n",
      "Total % correct 99.39%\n",
      "test time =  101.92353232701134\n",
      "*************************** end ***************************\n"
     ]
    },
    {
     "name": "stderr",
     "output_type": "stream",
     "text": [
      "Epoch:  61%|██████    | 61/100 [17:01:27<10:52:12, 1003.40s/it]"
     ]
    },
    {
     "name": "stdout",
     "output_type": "stream",
     "text": [
      "___________________________________________\n",
      "Epoch 61 Loss 0.0000000857 \n",
      "___________________________________________\n",
      "batch time =  896.9620534650021\n",
      "************************* start *************************\n",
      "Total % correct 98.29%\n",
      "test time =  101.55984042599448\n",
      "*************************** end ***************************\n"
     ]
    },
    {
     "name": "stderr",
     "output_type": "stream",
     "text": [
      "Epoch:  62%|██████▏   | 62/100 [17:18:06<10:34:39, 1002.09s/it]"
     ]
    },
    {
     "name": "stdout",
     "output_type": "stream",
     "text": [
      "___________________________________________\n",
      "Epoch 62 Loss 0.0000001714 \n",
      "___________________________________________\n",
      "batch time =  894.0578277660097\n",
      "************************* start *************************\n",
      "Total % correct 99.98%\n",
      "test time =  102.41261310101254\n",
      "*************************** end ***************************\n"
     ]
    },
    {
     "name": "stderr",
     "output_type": "stream",
     "text": [
      "Epoch:  63%|██████▎   | 63/100 [17:34:43<10:17:01, 1000.57s/it]"
     ]
    },
    {
     "name": "stdout",
     "output_type": "stream",
     "text": [
      "___________________________________________\n",
      "Epoch 63 Loss 0.0000005402 \n",
      "___________________________________________\n",
      "batch time =  1118.0873427629995\n",
      "************************* start *************************\n",
      "Total % correct 97.63%\n",
      "test time =  110.47314025799278\n",
      "*************************** end ***************************\n"
     ]
    },
    {
     "name": "stderr",
     "output_type": "stream",
     "text": [
      "Epoch:  64%|██████▍   | 64/100 [17:55:12<10:41:28, 1069.13s/it]"
     ]
    },
    {
     "name": "stdout",
     "output_type": "stream",
     "text": [
      "___________________________________________\n",
      "Epoch 64 Loss 0.0000004116 \n",
      "___________________________________________\n",
      "batch time =  916.8014440810075\n",
      "************************* start *************************\n",
      "Total % correct 99.68%\n",
      "test time =  102.21643816199503\n",
      "*************************** end ***************************\n"
     ]
    },
    {
     "name": "stderr",
     "output_type": "stream",
     "text": [
      "Epoch:  65%|██████▌   | 65/100 [18:12:12<10:14:58, 1054.25s/it]"
     ]
    },
    {
     "name": "stdout",
     "output_type": "stream",
     "text": [
      "___________________________________________\n",
      "Epoch 65 Loss 0.0000026710 \n",
      "___________________________________________\n",
      "batch time =  899.5759680550109\n",
      "************************* start *************************\n",
      "Total % correct 99.04%\n",
      "test time =  101.87659846399038\n",
      "*************************** end ***************************\n"
     ]
    },
    {
     "name": "stderr",
     "output_type": "stream",
     "text": [
      "Epoch:  66%|██████▌   | 66/100 [18:28:54<9:48:31, 1038.56s/it] "
     ]
    },
    {
     "name": "stdout",
     "output_type": "stream",
     "text": [
      "___________________________________________\n",
      "Epoch 66 Loss 0.0000002012 \n",
      "___________________________________________\n",
      "batch time =  899.8375723830104\n",
      "************************* start *************************\n",
      "Total % correct 99.71%\n",
      "test time =  101.9103343589959\n",
      "*************************** end ***************************\n"
     ]
    },
    {
     "name": "stderr",
     "output_type": "stream",
     "text": [
      "Epoch:  67%|██████▋   | 67/100 [18:45:36<9:25:13, 1027.67s/it]"
     ]
    },
    {
     "name": "stdout",
     "output_type": "stream",
     "text": [
      "___________________________________________\n",
      "Epoch 67 Loss 0.0000000298 \n",
      "___________________________________________\n",
      "batch time =  896.852843849003\n",
      "************************* start *************************\n",
      "Total % correct 99.83%\n",
      "test time =  102.47577708899917\n",
      "*************************** end ***************************\n"
     ]
    },
    {
     "name": "stderr",
     "output_type": "stream",
     "text": [
      "Epoch:  68%|██████▊   | 68/100 [19:02:16<9:03:38, 1019.32s/it]"
     ]
    },
    {
     "name": "stdout",
     "output_type": "stream",
     "text": [
      "___________________________________________\n",
      "Epoch 68 Loss 0.0000000130 \n",
      "___________________________________________\n",
      "batch time =  920.8912755859928\n",
      "************************* start *************************\n",
      "Total % correct 99.77%\n",
      "test time =  103.93803870301053\n",
      "*************************** end ***************************\n"
     ]
    },
    {
     "name": "stderr",
     "output_type": "stream",
     "text": [
      "Epoch:  69%|██████▉   | 69/100 [19:19:21<8:47:35, 1021.13s/it]"
     ]
    },
    {
     "name": "stdout",
     "output_type": "stream",
     "text": [
      "___________________________________________\n",
      "Epoch 69 Loss 0.0000000540 \n",
      "___________________________________________\n",
      "batch time =  1032.5259839409991\n",
      "************************* start *************************\n",
      "Total % correct 99.90%\n",
      "test time =  105.29770647699479\n",
      "*************************** end ***************************\n"
     ]
    },
    {
     "name": "stderr",
     "output_type": "stream",
     "text": [
      "Epoch:  70%|███████   | 70/100 [19:38:20<8:48:08, 1056.29s/it]"
     ]
    },
    {
     "name": "stdout",
     "output_type": "stream",
     "text": [
      "___________________________________________\n",
      "Epoch 70 Loss 0.0000001248 \n",
      "___________________________________________\n",
      "batch time =  908.9932810050086\n",
      "************************* start *************************\n",
      "Total % correct 99.92%\n",
      "test time =  110.6669311470032\n",
      "*************************** end ***************************\n"
     ]
    },
    {
     "name": "stderr",
     "output_type": "stream",
     "text": [
      "Epoch:  71%|███████   | 71/100 [19:55:20<8:25:18, 1045.45s/it]"
     ]
    },
    {
     "name": "stdout",
     "output_type": "stream",
     "text": [
      "___________________________________________\n",
      "Epoch 71 Loss 0.0000001732 \n",
      "___________________________________________\n",
      "batch time =  943.4726438910002\n",
      "************************* start *************************\n",
      "Total % correct 99.98%\n",
      "test time =  152.94635812699562\n",
      "*************************** end ***************************\n"
     ]
    },
    {
     "name": "stderr",
     "output_type": "stream",
     "text": [
      "Epoch:  72%|███████▏  | 72/100 [20:13:37<8:15:05, 1060.90s/it]"
     ]
    },
    {
     "name": "stdout",
     "output_type": "stream",
     "text": [
      "___________________________________________\n",
      "Epoch 72 Loss 0.0000000242 \n",
      "___________________________________________\n",
      "batch time =  933.2389376200008\n",
      "************************* start *************************\n",
      "Total % correct 100.00%\n",
      "test time =  107.57551393500762\n",
      "*************************** end ***************************\n"
     ]
    },
    {
     "name": "stderr",
     "output_type": "stream",
     "text": [
      "Epoch:  73%|███████▎  | 73/100 [20:30:58<7:54:45, 1055.02s/it]"
     ]
    },
    {
     "name": "stdout",
     "output_type": "stream",
     "text": [
      "___________________________________________\n",
      "Epoch 73 Loss 0.0000004210 \n",
      "___________________________________________\n",
      "batch time =  945.8923174219963\n",
      "************************* start *************************\n",
      "Total % correct 100.00%\n",
      "test time =  105.26651526200294\n",
      "*************************** end ***************************\n"
     ]
    },
    {
     "name": "stderr",
     "output_type": "stream",
     "text": [
      "Epoch:  74%|███████▍  | 74/100 [20:48:30<7:36:44, 1054.01s/it]"
     ]
    },
    {
     "name": "stdout",
     "output_type": "stream",
     "text": [
      "___________________________________________\n",
      "Epoch 74 Loss 0.0000000894 \n",
      "___________________________________________\n",
      "batch time =  998.6843033350015\n",
      "************************* start *************************\n",
      "Total % correct 99.98%\n",
      "test time =  134.22969639400253\n",
      "*************************** end ***************************\n"
     ]
    },
    {
     "name": "stderr",
     "output_type": "stream",
     "text": [
      "Epoch:  75%|███████▌  | 75/100 [21:07:23<7:29:05, 1077.83s/it]"
     ]
    },
    {
     "name": "stdout",
     "output_type": "stream",
     "text": [
      "___________________________________________\n",
      "Epoch 75 Loss 0.0000044478 \n",
      "___________________________________________\n",
      "batch time =  963.7241285440105\n",
      "************************* start *************************\n",
      "Total % correct 99.96%\n",
      "test time =  117.57332132699958\n",
      "*************************** end ***************************\n"
     ]
    },
    {
     "name": "stderr",
     "output_type": "stream",
     "text": [
      "Epoch:  76%|███████▌  | 76/100 [21:25:25<7:11:36, 1079.03s/it]"
     ]
    },
    {
     "name": "stdout",
     "output_type": "stream",
     "text": [
      "___________________________________________\n",
      "Epoch 76 Loss 0.0000002086 \n",
      "___________________________________________\n",
      "batch time =  984.8961212040012\n",
      "************************* start *************************\n",
      "Total % correct 99.98%\n",
      "test time =  121.41061542800162\n",
      "*************************** end ***************************\n"
     ]
    },
    {
     "name": "stderr",
     "output_type": "stream",
     "text": [
      "Epoch:  77%|███████▋  | 77/100 [21:43:52<6:56:49, 1087.38s/it]"
     ]
    },
    {
     "name": "stdout",
     "output_type": "stream",
     "text": [
      "___________________________________________\n",
      "Epoch 77 Loss 0.0000000503 \n",
      "___________________________________________\n",
      "batch time =  943.2942634469946\n",
      "************************* start *************************\n",
      "Total % correct 99.98%\n",
      "test time =  104.3099105309957\n",
      "*************************** end ***************************\n"
     ]
    },
    {
     "name": "stderr",
     "output_type": "stream",
     "text": [
      "Epoch:  78%|███████▊  | 78/100 [22:01:20<6:34:23, 1075.60s/it]"
     ]
    },
    {
     "name": "stdout",
     "output_type": "stream",
     "text": [
      "___________________________________________\n",
      "Epoch 78 Loss 0.0000000261 \n",
      "___________________________________________\n",
      "batch time =  916.3782264100009\n",
      "************************* start *************************\n",
      "Total % correct 99.34%\n",
      "test time =  102.90990470600082\n",
      "*************************** end ***************************\n"
     ]
    },
    {
     "name": "stderr",
     "output_type": "stream",
     "text": [
      "Epoch:  79%|███████▉  | 79/100 [22:18:20<6:10:36, 1058.86s/it]"
     ]
    },
    {
     "name": "stdout",
     "output_type": "stream",
     "text": [
      "___________________________________________\n",
      "Epoch 79 Loss 0.0000000671 \n",
      "___________________________________________\n",
      "batch time =  916.3754138020013\n",
      "************************* start *************************\n",
      "Total % correct 100.00%\n",
      "test time =  103.40085979600553\n",
      "*************************** end ***************************\n"
     ]
    },
    {
     "name": "stderr",
     "output_type": "stream",
     "text": [
      "Epoch:  80%|████████  | 80/100 [22:35:20<5:49:05, 1047.29s/it]"
     ]
    },
    {
     "name": "stdout",
     "output_type": "stream",
     "text": [
      "___________________________________________\n",
      "Epoch 80 Loss 0.0000004005 \n",
      "___________________________________________\n",
      "batch time =  914.340993492995\n",
      "************************* start *************************\n",
      "Total % correct 100.00%\n",
      "test time =  105.67634662000637\n",
      "*************************** end ***************************\n"
     ]
    },
    {
     "name": "stderr",
     "output_type": "stream",
     "text": [
      "Epoch:  81%|████████  | 81/100 [22:52:21<5:29:05, 1039.26s/it]"
     ]
    },
    {
     "name": "stdout",
     "output_type": "stream",
     "text": [
      "___________________________________________\n",
      "Epoch 81 Loss 0.0000001062 \n",
      "___________________________________________\n",
      "batch time =  915.0272787360009\n",
      "************************* start *************************\n",
      "Total % correct 100.00%\n",
      "test time =  104.54436280099617\n",
      "*************************** end ***************************\n"
     ]
    },
    {
     "name": "stderr",
     "output_type": "stream",
     "text": [
      "Epoch:  82%|████████▏ | 82/100 [23:09:21<5:10:03, 1033.51s/it]"
     ]
    },
    {
     "name": "stdout",
     "output_type": "stream",
     "text": [
      "___________________________________________\n",
      "Epoch 82 Loss 0.0000000242 \n",
      "___________________________________________\n",
      "batch time =  917.8891564049991\n",
      "************************* start *************************\n",
      "Total % correct 99.37%\n",
      "test time =  105.72342917599599\n",
      "*************************** end ***************************\n"
     ]
    },
    {
     "name": "stderr",
     "output_type": "stream",
     "text": [
      "Epoch:  83%|████████▎ | 83/100 [23:26:25<4:52:01, 1030.70s/it]"
     ]
    },
    {
     "name": "stdout",
     "output_type": "stream",
     "text": [
      "___________________________________________\n",
      "Epoch 83 Loss 0.0000000838 \n",
      "___________________________________________\n"
     ]
    }
   ],
   "source": [
    "total = 100\n",
    "loss_plot,total_plot = train_net(total)"
   ]
  },
  {
   "cell_type": "code",
   "execution_count": null,
   "metadata": {},
   "outputs": [],
   "source": [
    "path_plot_fig = \"/home/david/sigMF_ML/RF/RF_class/plot_data/\" # ACE\n",
    "os.chdir(path_plot_fig)\n",
    "# num = 20\n",
    "np.save('resnet50_2ch_25msps_plot_20210415', np.asarray(total_plot))\n",
    "# np.save('resnet18_2D_plot_20210329', total_plot) "
   ]
  },
  {
   "cell_type": "code",
   "execution_count": 48,
   "metadata": {},
   "outputs": [
    {
     "data": {
      "text/plain": [
       "<matplotlib.figure.Figure at 0x7f222a9664a8>"
      ]
     },
     "metadata": {},
     "output_type": "display_data"
    },
    {
     "data": {
      "image/png": "[encoded data removed]",
      "text/plain": [
       "<matplotlib.figure.Figure at 0x7f222a9c03c8>"
      ]
     },
     "metadata": {
      "needs_background": "light"
     },
     "output_type": "display_data"
    }
   ],
   "source": [
    "os.chdir(path_fig)\n",
    "plt.figure(figsize=(9, 6))\n",
    "fig = plt.figure()\n",
    "plt.plot(total_plot[:100],c='r', label='Total patches correct')\n",
    "plt.legend(loc='lower right')\n",
    "plt.title('Total % correct vs batches')\n",
    "plt.xlabel('Batch number')\n",
    "plt.ylabel('% correct')\n",
    "plt.grid()\n",
    "fig.savefig('test.pdf', format=\"pdf\")\n",
    "plt.show()"
   ]
  },
  {
   "cell_type": "code",
   "execution_count": 86,
   "metadata": {},
   "outputs": [
    {
     "data": {
      "text/plain": [
       "<matplotlib.figure.Figure at 0x7f3ec4901da0>"
      ]
     },
     "metadata": {},
     "output_type": "display_data"
    },
    {
     "data": {
      "image/png": "[encoded data removed]",
      "text/plain": [
       "<matplotlib.figure.Figure at 0x7f3ec4901d30>"
      ]
     },
     "metadata": {},
     "output_type": "display_data"
    }
   ],
   "source": [
    "os.chdir(path_fig)\n",
    "plt.figure(figsize=(9, 6))\n",
    "fig = plt.figure()\n",
    "plt.plot(loss_plot,c='r', label='Loss curve')\n",
    "plt.legend(loc='upper right')\n",
    "plt.title('Loss vs Epochs')\n",
    "plt.xlabel('Epochs')\n",
    "plt.ylabel('Loss')\n",
    "plt.grid()\n",
    "fig.savefig('ResNet50_v58_20210211_2D_10dB_noise_autosave_loss.pdf', format=\"pdf\")\n",
    "plt.show()"
   ]
  },
  {
   "cell_type": "markdown",
   "metadata": {},
   "source": [
    "### LIVE inferencing"
   ]
  },
  {
   "cell_type": "code",
   "execution_count": 138,
   "metadata": {
    "scrolled": true
   },
   "outputs": [],
   "source": [
    "# !python3 /home/david/sigMF_ML/gnuradio/record_live.py"
   ]
  },
  {
   "cell_type": "markdown",
   "metadata": {},
   "source": [
    "#### 2D tensor with 300 noise\n",
    "vodeson - 10\n",
    "lora250 - 0\n",
    "lora125 - \n",
    "click - 10\n",
    "sado - 4ish\n",
    "light - \n",
    "tyt - \n",
    "GD55\n",
    "nfm - \n"
   ]
  },
  {
   "cell_type": "markdown",
   "metadata": {},
   "source": [
    "###  TESTING"
   ]
  },
  {
   "cell_type": "code",
   "execution_count": 42,
   "metadata": {
    "scrolled": false
   },
   "outputs": [
    {
     "name": "stdout",
     "output_type": "stream",
     "text": [
      "\u001b[0;32m[INFO] [UHD] \u001b[0;39mlinux; GNU C++ version 7.5.0; Boost_106501; UHD_3.15.0.0-62-g7a3f1516\n",
      "\u001b[0;32m[INFO] [B200] \u001b[0;39mDetected Device: B205mini\n",
      "\u001b[0;32m[INFO] [B200] \u001b[0;39mOperating over USB 3.\n",
      "\u001b[0;32m[INFO] [B200] \u001b[0;39mInitialize CODEC control...\n",
      "\u001b[0;32m[INFO] [B200] \u001b[0;39mInitialize Radio control...\n",
      "\u001b[0;32m[INFO] [B200] \u001b[0;39mPerforming register loopback test... \n",
      "\u001b[0;32m[INFO] [B200] \u001b[0;39mRegister loopback test passed\n",
      "\u001b[0;32m[INFO] [B200] \u001b[0;39mSetting master clock rate selection to 'automatic'.\n",
      "\u001b[0;32m[INFO] [B200] \u001b[0;39mAsking for clock rate 16.000000 MHz... \n",
      "\u001b[0;32m[INFO] [B200] \u001b[0;39mActually got clock rate 16.000000 MHz.\n",
      "\u001b[0;32m[INFO] [B200] \u001b[0;39mAsking for clock rate 25.000000 MHz... \n",
      "\u001b[0;32m[INFO] [B200] \u001b[0;39mActually got clock rate 25.000000 MHz.\n",
      "\u001b[0;32m[INFO] [MULTI_USRP] \u001b[0;39m    1) catch time transition at pps edge\n",
      "\u001b[0;32m[INFO] [MULTI_USRP] \u001b[0;39m    2) set times next pps (synchronously)\n",
      "gr::log :INFO: sink0 - No core:datetime found, using host ts instead\n",
      "OOOOOinference file name =  test1.sigmf-meta\n",
      "iq_read_test live\n",
      "gpu_test live function\n",
      "I length =  125000000\n",
      "Q length =  125000000\n",
      "25600 MSPS\n",
      "gpu_test live IQ shape = torch.Size([12801, 9766, 2])\n",
      "FINAL gpu_test LIVE IQ shape = torch.Size([12800, 9766, 2])\n",
      "iq_read_test live imshow method\n"
     ]
    },
    {
     "data": {
      "image/png": "[encoded data removed]",
      "text/plain": [
       "<matplotlib.figure.Figure at 0x7fe60b70f588>"
      ]
     },
     "metadata": {
      "needs_background": "light"
     },
     "output_type": "display_data"
    },
    {
     "name": "stdout",
     "output_type": "stream",
     "text": [
      "start_frequency =  428.0\n",
      "sigmf_data =  (12800, 9766, 2)\n",
      "frequency =  12800   time =  9766\n",
      "seg_time =  43 seg_freq =  57\n",
      "data_IQ shape =  (2451, 224, 224, 2)\n",
      "testing counter =  tensor([2451]) seg_freq = tensor([57])\n",
      "seg_freq =  tensor([57])\n"
     ]
    },
    {
     "data": {
      "image/png": "[encoded data removed]",
      "text/plain": [
       "<matplotlib.figure.Figure at 0x7fe60b66dd68>"
      ]
     },
     "metadata": {
      "needs_background": "light"
     },
     "output_type": "display_data"
    },
    {
     "name": "stdout",
     "output_type": "stream",
     "text": [
      "freq_increment =  219298.24561403508\n",
      "TESTING inputs SHAPE =  torch.Size([1, 2451, 224, 224, 2])\n",
      "input in   =  torch.Size([1, 2451, 224, 224, 2])\n",
      "input out  =  torch.Size([2451, 224, 224, 2])\n",
      "counter convert stuff =  tensor([2451]) <class 'numpy.ndarray'>\n",
      "permuted shape =  torch.Size([2451, 2, 224, 224])\n",
      "mean Freq =    435.89\n",
      "std Freq =      0.00\n",
      "length of inputs =  2451\n"
     ]
    },
    {
     "data": {
      "image/png": "[encoded data removed]",
      "text/plain": [
       "<matplotlib.figure.Figure at 0x7fe60b507978>"
      ]
     },
     "metadata": {
      "needs_background": "light"
     },
     "output_type": "display_data"
    },
    {
     "name": "stdout",
     "output_type": "stream",
     "text": [
      "************************* Probabilities ********************************\n",
      "----------------------------WAVEFORMS-----------------------------------\n",
      "LoRa 125 = 0.00%\n",
      "GD55 DMR = 0.00%\n",
      "NFM = 0.00%\n",
      "TYT = 0.00\n",
      "Vodeson Doorbell = 0.00%\n",
      "clickndig = 0.00%\n",
      "Sado doorbell = 41.86%\n",
      "LoRa 250 = 58.14%\n",
      "light switch = 0.00%\n",
      "YSF = 0.00%\n",
      "------------------------------------------------------------------------\n",
      "***************************** noise and fft ****************************\n",
      "noise matches =  2408\n",
      "center fft matches =  0\n",
      "TOTAL patch count =  2451\n",
      "***************************** Finished *********************************\n"
     ]
    }
   ],
   "source": [
    "msps = 25\n",
    "center_freq_live = 428.0e6 # when SDR doing 25MSPS with center at 428MHz, or 433.65e6, 428.00e6\n",
    "# testing new decimator\n",
    "!python3 /home/david/sigMF_ML/gnuradio/record_live_25msps.py\n",
    "# !python3 /home/david/sigMF_ML/gnuradio/record_live1msps.py\n",
    "# usrp_data_collect_1MSPS()\n",
    "data_IQ_list_val, meta_list_val = inference_read(msps)\n",
    "testing_live(msps)\n",
    "torch.cuda.empty_cache()"
   ]
  },
  {
   "cell_type": "code",
   "execution_count": null,
   "metadata": {},
   "outputs": [],
   "source": [
    "msps = 5\n",
    "center_freq_live = 433.0e6 # when SDR doing 25MSPS with center at 428MHz, or 433.65e6, 428.00e6\n",
    "!python3 /home/david/sigMF_ML/gnuradio/record_live_5msps.py\n",
    "# !python3 /home/david/sigMF_ML/gnuradio/record_live1msps.py\n",
    "# usrp_data_collect_1MSPS()\n",
    "data_IQ_list_val, meta_list_val = inference_read(msps)\n",
    "testing_live(msps)\n",
    "torch.cuda.empty_cache()"
   ]
  },
  {
   "cell_type": "code",
   "execution_count": 116,
   "metadata": {
    "scrolled": false
   },
   "outputs": [
    {
     "name": "stdout",
     "output_type": "stream",
     "text": [
      "\u001b[0;32m[INFO] [UHD] \u001b[0;39mlinux; GNU C++ version 7.5.0; Boost_106501; UHD_3.15.0.0-62-g7a3f1516\n",
      "\u001b[0;32m[INFO] [B200] \u001b[0;39mDetected Device: B205mini\n",
      "\u001b[0;32m[INFO] [B200] \u001b[0;39mOperating over USB 3.\n",
      "\u001b[0;32m[INFO] [B200] \u001b[0;39mInitialize CODEC control...\n",
      "\u001b[0;32m[INFO] [B200] \u001b[0;39mInitialize Radio control...\n",
      "\u001b[0;32m[INFO] [B200] \u001b[0;39mPerforming register loopback test... \n",
      "\u001b[0;32m[INFO] [B200] \u001b[0;39mRegister loopback test passed\n",
      "\u001b[0;32m[INFO] [B200] \u001b[0;39mSetting master clock rate selection to 'automatic'.\n",
      "\u001b[0;32m[INFO] [B200] \u001b[0;39mAsking for clock rate 16.000000 MHz... \n",
      "\u001b[0;32m[INFO] [B200] \u001b[0;39mActually got clock rate 16.000000 MHz.\n",
      "\u001b[0;32m[INFO] [B200] \u001b[0;39mAsking for clock rate 25.000000 MHz... \n",
      "\u001b[0;32m[INFO] [B200] \u001b[0;39mActually got clock rate 25.000000 MHz.\n",
      "\u001b[0;32m[INFO] [MULTI_USRP] \u001b[0;39m    1) catch time transition at pps edge\n",
      "\u001b[0;32m[INFO] [MULTI_USRP] \u001b[0;39m    2) set times next pps (synchronously)\n",
      "gr::log :INFO: sink0 - No core:datetime found, using host ts instead\n",
      "OOinference file name =  test1.sigmf-meta\n",
      "iq_read_test live\n",
      "gpu_test live function\n",
      "I length =  5000000\n",
      "Q length =  5000000\n",
      "1024 MSPS\n",
      "gpu_test live IQ shape = torch.Size([513, 9766, 2])\n",
      "FINAL gpu_test LIVE IQ shape = torch.Size([512, 9766, 2])\n",
      "iq_read_test live imshow method\n"
     ]
    },
    {
     "data": {
      "image/png": "[encoded data removed]",
      "text/plain": [
       "<matplotlib.figure.Figure at 0x7f9b7420e780>"
      ]
     },
     "metadata": {},
     "output_type": "display_data"
    },
    {
     "name": "stdout",
     "output_type": "stream",
     "text": [
      "start_frequency =  433.65\n",
      "sigmf_data =  (512, 9766, 2)\n",
      "frequency =  512   time =  9766\n",
      "seg_time =  43 seg_freq =  2\n",
      "data_IQ shape =  (86, 224, 224, 2)\n",
      "testing counter =  tensor([86]) seg_freq = tensor([2])\n",
      "seg_freq =  tensor([2])\n"
     ]
    },
    {
     "data": {
      "image/png": "[encoded data removed]",
      "text/plain": [
       "<matplotlib.figure.Figure at 0x7f9b16fef080>"
      ]
     },
     "metadata": {},
     "output_type": "display_data"
    },
    {
     "name": "stdout",
     "output_type": "stream",
     "text": [
      "freq_increment =  250000.0\n",
      "TESTING inputs SHAPE =  torch.Size([1, 86, 224, 224, 2])\n",
      "input in   =  torch.Size([1, 86, 224, 224, 2])\n",
      "input out  =  torch.Size([86, 224, 224, 2])\n",
      "counter convert stuff =  tensor([86]) <class 'numpy.ndarray'>\n",
      "permuted shape =  torch.Size([86, 2, 224, 224])\n",
      "mean Freq =    433.90\n",
      "std Freq =      0.00\n",
      "length of inputs =  86\n"
     ]
    },
    {
     "data": {
      "image/png": "[encoded data removed]",
      "text/plain": [
       "<matplotlib.figure.Figure at 0x7f9b74dbe898>"
      ]
     },
     "metadata": {},
     "output_type": "display_data"
    },
    {
     "name": "stdout",
     "output_type": "stream",
     "text": [
      "************************* Probabilities ********************************\n",
      "----------------------------WAVEFORMS-----------------------------------\n",
      "LoRa 125 = 0.00%\n",
      "GD55 DMR = 0.00%\n",
      "NFM = 5.71%\n",
      "TYT = 0.00\n",
      "Vodeson Doorbell = 0.00%\n",
      "clickndig = 0.00%\n",
      "Sado doorbell = 0.00%\n",
      "LoRa 250 = 0.00%\n",
      "light switch = 65.71%\n",
      "YSF = 28.57%\n",
      "------------------------------------------------------------------------\n",
      "***************************** noise and fft ****************************\n",
      "noise matches =  51\n",
      "center fft matches =  0\n",
      "TOTAL patch count =  86\n",
      "***************************** Finished *********************************\n"
     ]
    }
   ],
   "source": [
    "msps = 1\n",
    "center_freq_live = 433.65e6 # when SDR doing 25MSPS with center at 428MHz, or 433.65e6, 428.00e6\n",
    "# testing new decimator\n",
    "!python3 /home/david/sigMF_ML/gnuradio/record_live_25to1.py\n",
    "# !python3 /home/david/sigMF_ML/gnuradio/record_live_1msps.py\n",
    "# usrp_data_collect_1MSPS()\n",
    "data_IQ_list_val, meta_list_val = inference_read(msps)\n",
    "testing_live(msps)\n",
    "torch.cuda.empty_cache()"
   ]
  },
  {
   "cell_type": "code",
   "execution_count": null,
   "metadata": {},
   "outputs": [],
   "source": [
    "torch.cuda.empty_cache()"
   ]
  },
  {
   "cell_type": "markdown",
   "metadata": {},
   "source": [
    "## testing pre-recorded files in /home/david/sigMF_ML/RF/RF_class/testing_data"
   ]
  },
  {
   "cell_type": "code",
   "execution_count": 43,
   "metadata": {},
   "outputs": [
    {
     "name": "stdout",
     "output_type": "stream",
     "text": [
      "inference file name =  UHF_sado_db1_test6.sigmf-meta\n",
      "iq_read_test live\n",
      "gpu_test live function\n",
      "I length =  125000000\n",
      "Q length =  125000000\n",
      "25600 MSPS\n",
      "gpu_test live IQ shape = torch.Size([12801, 9766, 2])\n",
      "FINAL gpu_test LIVE IQ shape = torch.Size([12800, 9766, 2])\n",
      "iq_read_test live imshow method\n"
     ]
    },
    {
     "data": {
      "image/png": "[encoded data removed]",
      "text/plain": [
       "<matplotlib.figure.Figure at 0x7fe60b4c04a8>"
      ]
     },
     "metadata": {
      "needs_background": "light"
     },
     "output_type": "display_data"
    },
    {
     "name": "stdout",
     "output_type": "stream",
     "text": [
      "start_frequency =  428.0\n",
      "sigmf_data =  (12800, 9766, 2)\n",
      "frequency =  12800   time =  9766\n",
      "seg_time =  43 seg_freq =  57\n",
      "data_IQ shape =  (2451, 224, 224, 2)\n",
      "testing counter =  tensor([2451]) seg_freq = tensor([57])\n",
      "freq_increment =  219298.24561403508\n",
      "TESTING inputs SHAPE =  torch.Size([1, 2451, 224, 224, 2])\n",
      "input in   =  torch.Size([1, 2451, 224, 224, 2])\n",
      "input out  =  torch.Size([2451, 224, 224, 2])\n",
      "counter convert stuff =  tensor([2451]) <class 'numpy.ndarray'>\n",
      "permuted shape =  torch.Size([2451, 2, 224, 224])\n",
      "mean Freq =    433.80\n",
      "std Freq =      0.11\n",
      "length of inputs =  2451\n"
     ]
    },
    {
     "data": {
      "image/png": "[encoded data removed]",
      "text/plain": [
       "<matplotlib.figure.Figure at 0x7fe60b456f28>"
      ]
     },
     "metadata": {
      "needs_background": "light"
     },
     "output_type": "display_data"
    },
    {
     "name": "stdout",
     "output_type": "stream",
     "text": [
      "************************* Probabilities ********************************\n",
      "----------------------------WAVEFORMS-----------------------------------\n",
      "LoRa 125 = 0.00%\n",
      "GD55 DMR = 0.00%\n",
      "NFM = 0.00%\n",
      "TYT = 46.91\n",
      "Vodeson Doorbell = 0.00%\n",
      "clickndig = 0.00%\n",
      "Sado doorbell = 0.00%\n",
      "LoRa 250 = 1.23%\n",
      "light switch = 0.00%\n",
      "YSF = 51.85%\n",
      "------------------------------------------------------------------------\n",
      "***************************** noise and fft ****************************\n",
      "noise matches =  2370\n",
      "center fft matches =  0\n",
      "TOTAL patch count =  2451\n",
      "***************************** Finished *********************************\n"
     ]
    }
   ],
   "source": [
    "msps = 25\n",
    "center_freq_file = 428.00e6 # when SDR doing 25MSPS with center at 428MHz, or 433.65e6, 428.00e6\n",
    "data_IQ_list_val, meta_list_val = inference_read_file(msps, path_test_25msps)\n",
    "testing_file(msps)\n",
    "torch.cuda.empty_cache()"
   ]
  },
  {
   "cell_type": "code",
   "execution_count": 42,
   "metadata": {
    "scrolled": false
   },
   "outputs": [
    {
     "name": "stdout",
     "output_type": "stream",
     "text": [
      "inference file name =  UHF_clickndig_fob1_test1.sigmf-meta\n",
      "iq_read_test live\n",
      "gpu_test live function\n",
      "I length =  25000000\n",
      "Q length =  25000000\n",
      "5120 MSPS\n",
      "gpu_test live IQ shape = torch.Size([2561, 9766, 2])\n",
      "FINAL gpu_test LIVE IQ shape = torch.Size([2560, 9766, 2])\n",
      "start_frequency =  433.0\n",
      "sigmf_data =  (2560, 9766, 2)\n",
      "frequency =  2560   time =  9766\n",
      "seg_time =  43 seg_freq =  11\n",
      "data_IQ shape =  (473, 224, 224, 2)\n",
      "testing counter =  tensor([473]) seg_freq = tensor([11])\n",
      "freq_increment =  227272.72727272726\n",
      "TESTING inputs SHAPE =  torch.Size([1, 473, 224, 224, 2])\n",
      "input in   =  torch.Size([1, 473, 224, 224, 2])\n",
      "input out  =  torch.Size([473, 224, 224, 2])\n",
      "counter convert stuff =  tensor([473]) <class 'numpy.ndarray'>\n",
      "permuted shape =  torch.Size([473, 2, 224, 224])\n",
      "mean Freq =    433.68\n",
      "std Freq =      0.00\n",
      "length of inputs =  473\n"
     ]
    },
    {
     "data": {
      "image/png": "[encoded data removed]",
      "text/plain": [
       "<matplotlib.figure.Figure at 0x7f3f1b552e10>"
      ]
     },
     "metadata": {},
     "output_type": "display_data"
    },
    {
     "name": "stdout",
     "output_type": "stream",
     "text": [
      "************************* Probabilities ********************************\n",
      "----------------------------WAVEFORMS-----------------------------------\n",
      "LoRa 125 = 0.00%\n",
      "GD55 DMR = 0.00%\n",
      "NFM = 0.00%\n",
      "TYT = 0.00\n",
      "Vodeson Doorbell = 0.00%\n",
      "clickndig = 0.00%\n",
      "Sado doorbell = 0.00%\n",
      "LoRa 250 = 0.00%\n",
      "light switch = 0.00%\n",
      "YSF = 100.00%\n",
      "------------------------------------------------------------------------\n",
      "***************************** noise and fft ****************************\n",
      "noise matches =  430\n",
      "center fft matches =  0\n",
      "TOTAL patch count =  473\n",
      "***************************** Finished *********************************\n"
     ]
    }
   ],
   "source": [
    "msps = 5\n",
    "center_freq_file = 433.00e6 # when SDR doing 25MSPS with center at 428MHz, or 433.65e6, 428.00e6\n",
    "data_IQ_list_val, meta_list_val = inference_read_file(msps, path_test_5msps)\n",
    "testing_file(msps)\n",
    "torch.cuda.empty_cache()"
   ]
  },
  {
   "cell_type": "code",
   "execution_count": 44,
   "metadata": {},
   "outputs": [
    {
     "name": "stdout",
     "output_type": "stream",
     "text": [
      "inference file name =  lora125_test1.sigmf-meta\n",
      "iq_read_test live\n",
      "gpu_test live function\n",
      "I length =  10000000\n",
      "Q length =  10000000\n",
      "1024 MSPS\n",
      "gpu_test live IQ shape = torch.Size([513, 19532, 2])\n",
      "FINAL gpu_test LIVE IQ shape = torch.Size([512, 19532, 2])\n",
      "iq_read_test live imshow method\n"
     ]
    },
    {
     "data": {
      "image/png": "[encoded data removed]",
      "text/plain": [
       "<matplotlib.figure.Figure at 0x7fe60b66def0>"
      ]
     },
     "metadata": {
      "needs_background": "light"
     },
     "output_type": "display_data"
    },
    {
     "name": "stdout",
     "output_type": "stream",
     "text": [
      "start_frequency =  433.65\n",
      "sigmf_data =  (512, 19532, 2)\n",
      "frequency =  512   time =  19532\n",
      "seg_time =  87 seg_freq =  2\n",
      "data_IQ shape =  (174, 224, 224, 2)\n",
      "testing counter =  tensor([174]) seg_freq = tensor([2])\n",
      "freq_increment =  250000.0\n",
      "TESTING inputs SHAPE =  torch.Size([1, 174, 224, 224, 2])\n",
      "input in   =  torch.Size([1, 174, 224, 224, 2])\n",
      "input out  =  torch.Size([174, 224, 224, 2])\n",
      "counter convert stuff =  tensor([174]) <class 'numpy.ndarray'>\n",
      "permuted shape =  torch.Size([174, 2, 224, 224])\n",
      "mean Freq =    433.90\n",
      "std Freq =      0.00\n",
      "length of inputs =  174\n"
     ]
    },
    {
     "data": {
      "image/png": "[encoded data removed]",
      "text/plain": [
       "<matplotlib.figure.Figure at 0x7fe60b2e2278>"
      ]
     },
     "metadata": {
      "needs_background": "light"
     },
     "output_type": "display_data"
    },
    {
     "name": "stdout",
     "output_type": "stream",
     "text": [
      "************************* Probabilities ********************************\n",
      "----------------------------WAVEFORMS-----------------------------------\n",
      "LoRa 125 = 100.00%\n",
      "GD55 DMR = 0.00%\n",
      "NFM = 0.00%\n",
      "TYT = 0.00\n",
      "Vodeson Doorbell = 0.00%\n",
      "clickndig = 0.00%\n",
      "Sado doorbell = 0.00%\n",
      "LoRa 250 = 0.00%\n",
      "light switch = 0.00%\n",
      "YSF = 0.00%\n",
      "------------------------------------------------------------------------\n",
      "***************************** noise and fft ****************************\n",
      "noise matches =  87\n",
      "center fft matches =  0\n",
      "TOTAL patch count =  174\n",
      "***************************** Finished *********************************\n"
     ]
    }
   ],
   "source": [
    "msps = 1\n",
    "center_freq_file = 433.65e6 # when SDR doing 25MSPS with center at 428MHz, or 433.65e6, 428.00e6\n",
    "data_IQ_list_val, meta_list_val = inference_read_file(msps, path_test_1msps)\n",
    "testing_file(msps)\n",
    "torch.cuda.empty_cache()"
   ]
  },
  {
   "cell_type": "code",
   "execution_count": 166,
   "metadata": {},
   "outputs": [],
   "source": [
    "torch.cuda.empty_cache()"
   ]
  },
  {
   "cell_type": "markdown",
   "metadata": {},
   "source": [
    "#### Save and Load model data"
   ]
  },
  {
   "cell_type": "markdown",
   "metadata": {},
   "source": [
    "#### save"
   ]
  },
  {
   "cell_type": "code",
   "execution_count": 333,
   "metadata": {},
   "outputs": [],
   "source": [
    "# torch.save(model.state_dict(), PATH)"
   ]
  },
  {
   "cell_type": "markdown",
   "metadata": {},
   "source": [
    "#### load"
   ]
  },
  {
   "cell_type": "code",
   "execution_count": 249,
   "metadata": {},
   "outputs": [
    {
     "data": {
      "text/plain": [
       "ResNet(\n",
       "  (encoder): ResNetEncoder(\n",
       "    (gate): Sequential(\n",
       "      (0): Conv2d(2, 64, kernel_size=(7, 7), stride=(2, 2), padding=(3, 3), bias=False)\n",
       "      (1): BatchNorm2d(64, eps=1e-05, momentum=0.1, affine=True, track_running_stats=True)\n",
       "      (2): ReLU()\n",
       "      (3): MaxPool2d(kernel_size=3, stride=2, padding=1, dilation=1, ceil_mode=False)\n",
       "    )\n",
       "    (blocks): ModuleList(\n",
       "      (0): ResNetLayer(\n",
       "        (blocks): Sequential(\n",
       "          (0): ResNetBottleNeckBlock(\n",
       "            (blocks): Sequential(\n",
       "              (0): Sequential(\n",
       "                (conv): Conv2dAuto(64, 64, kernel_size=(1, 1), stride=(1, 1), bias=False)\n",
       "                (bn): BatchNorm2d(64, eps=1e-05, momentum=0.1, affine=True, track_running_stats=True)\n",
       "              )\n",
       "              (1): ReLU()\n",
       "              (2): Sequential(\n",
       "                (conv): Conv2dAuto(64, 64, kernel_size=(3, 3), stride=(1, 1), padding=(1, 1), bias=False)\n",
       "                (bn): BatchNorm2d(64, eps=1e-05, momentum=0.1, affine=True, track_running_stats=True)\n",
       "              )\n",
       "              (3): ReLU()\n",
       "              (4): Sequential(\n",
       "                (conv): Conv2dAuto(64, 256, kernel_size=(1, 1), stride=(1, 1), bias=False)\n",
       "                (bn): BatchNorm2d(256, eps=1e-05, momentum=0.1, affine=True, track_running_stats=True)\n",
       "              )\n",
       "            )\n",
       "            (shortcut): Sequential(\n",
       "              (conv): Conv2d(64, 256, kernel_size=(1, 1), stride=(1, 1), bias=False)\n",
       "              (bn): BatchNorm2d(256, eps=1e-05, momentum=0.1, affine=True, track_running_stats=True)\n",
       "            )\n",
       "          )\n",
       "          (1): ResNetBottleNeckBlock(\n",
       "            (blocks): Sequential(\n",
       "              (0): Sequential(\n",
       "                (conv): Conv2dAuto(256, 64, kernel_size=(1, 1), stride=(1, 1), bias=False)\n",
       "                (bn): BatchNorm2d(64, eps=1e-05, momentum=0.1, affine=True, track_running_stats=True)\n",
       "              )\n",
       "              (1): ReLU()\n",
       "              (2): Sequential(\n",
       "                (conv): Conv2dAuto(64, 64, kernel_size=(3, 3), stride=(1, 1), padding=(1, 1), bias=False)\n",
       "                (bn): BatchNorm2d(64, eps=1e-05, momentum=0.1, affine=True, track_running_stats=True)\n",
       "              )\n",
       "              (3): ReLU()\n",
       "              (4): Sequential(\n",
       "                (conv): Conv2dAuto(64, 256, kernel_size=(1, 1), stride=(1, 1), bias=False)\n",
       "                (bn): BatchNorm2d(256, eps=1e-05, momentum=0.1, affine=True, track_running_stats=True)\n",
       "              )\n",
       "            )\n",
       "            (shortcut): None\n",
       "          )\n",
       "          (2): ResNetBottleNeckBlock(\n",
       "            (blocks): Sequential(\n",
       "              (0): Sequential(\n",
       "                (conv): Conv2dAuto(256, 64, kernel_size=(1, 1), stride=(1, 1), bias=False)\n",
       "                (bn): BatchNorm2d(64, eps=1e-05, momentum=0.1, affine=True, track_running_stats=True)\n",
       "              )\n",
       "              (1): ReLU()\n",
       "              (2): Sequential(\n",
       "                (conv): Conv2dAuto(64, 64, kernel_size=(3, 3), stride=(1, 1), padding=(1, 1), bias=False)\n",
       "                (bn): BatchNorm2d(64, eps=1e-05, momentum=0.1, affine=True, track_running_stats=True)\n",
       "              )\n",
       "              (3): ReLU()\n",
       "              (4): Sequential(\n",
       "                (conv): Conv2dAuto(64, 256, kernel_size=(1, 1), stride=(1, 1), bias=False)\n",
       "                (bn): BatchNorm2d(256, eps=1e-05, momentum=0.1, affine=True, track_running_stats=True)\n",
       "              )\n",
       "            )\n",
       "            (shortcut): None\n",
       "          )\n",
       "        )\n",
       "      )\n",
       "      (1): ResNetLayer(\n",
       "        (blocks): Sequential(\n",
       "          (0): ResNetBottleNeckBlock(\n",
       "            (blocks): Sequential(\n",
       "              (0): Sequential(\n",
       "                (conv): Conv2dAuto(256, 128, kernel_size=(1, 1), stride=(1, 1), bias=False)\n",
       "                (bn): BatchNorm2d(128, eps=1e-05, momentum=0.1, affine=True, track_running_stats=True)\n",
       "              )\n",
       "              (1): ReLU()\n",
       "              (2): Sequential(\n",
       "                (conv): Conv2dAuto(128, 128, kernel_size=(3, 3), stride=(2, 2), padding=(1, 1), bias=False)\n",
       "                (bn): BatchNorm2d(128, eps=1e-05, momentum=0.1, affine=True, track_running_stats=True)\n",
       "              )\n",
       "              (3): ReLU()\n",
       "              (4): Sequential(\n",
       "                (conv): Conv2dAuto(128, 512, kernel_size=(1, 1), stride=(1, 1), bias=False)\n",
       "                (bn): BatchNorm2d(512, eps=1e-05, momentum=0.1, affine=True, track_running_stats=True)\n",
       "              )\n",
       "            )\n",
       "            (shortcut): Sequential(\n",
       "              (conv): Conv2d(256, 512, kernel_size=(1, 1), stride=(2, 2), bias=False)\n",
       "              (bn): BatchNorm2d(512, eps=1e-05, momentum=0.1, affine=True, track_running_stats=True)\n",
       "            )\n",
       "          )\n",
       "          (1): ResNetBottleNeckBlock(\n",
       "            (blocks): Sequential(\n",
       "              (0): Sequential(\n",
       "                (conv): Conv2dAuto(512, 128, kernel_size=(1, 1), stride=(1, 1), bias=False)\n",
       "                (bn): BatchNorm2d(128, eps=1e-05, momentum=0.1, affine=True, track_running_stats=True)\n",
       "              )\n",
       "              (1): ReLU()\n",
       "              (2): Sequential(\n",
       "                (conv): Conv2dAuto(128, 128, kernel_size=(3, 3), stride=(1, 1), padding=(1, 1), bias=False)\n",
       "                (bn): BatchNorm2d(128, eps=1e-05, momentum=0.1, affine=True, track_running_stats=True)\n",
       "              )\n",
       "              (3): ReLU()\n",
       "              (4): Sequential(\n",
       "                (conv): Conv2dAuto(128, 512, kernel_size=(1, 1), stride=(1, 1), bias=False)\n",
       "                (bn): BatchNorm2d(512, eps=1e-05, momentum=0.1, affine=True, track_running_stats=True)\n",
       "              )\n",
       "            )\n",
       "            (shortcut): None\n",
       "          )\n",
       "          (2): ResNetBottleNeckBlock(\n",
       "            (blocks): Sequential(\n",
       "              (0): Sequential(\n",
       "                (conv): Conv2dAuto(512, 128, kernel_size=(1, 1), stride=(1, 1), bias=False)\n",
       "                (bn): BatchNorm2d(128, eps=1e-05, momentum=0.1, affine=True, track_running_stats=True)\n",
       "              )\n",
       "              (1): ReLU()\n",
       "              (2): Sequential(\n",
       "                (conv): Conv2dAuto(128, 128, kernel_size=(3, 3), stride=(1, 1), padding=(1, 1), bias=False)\n",
       "                (bn): BatchNorm2d(128, eps=1e-05, momentum=0.1, affine=True, track_running_stats=True)\n",
       "              )\n",
       "              (3): ReLU()\n",
       "              (4): Sequential(\n",
       "                (conv): Conv2dAuto(128, 512, kernel_size=(1, 1), stride=(1, 1), bias=False)\n",
       "                (bn): BatchNorm2d(512, eps=1e-05, momentum=0.1, affine=True, track_running_stats=True)\n",
       "              )\n",
       "            )\n",
       "            (shortcut): None\n",
       "          )\n",
       "          (3): ResNetBottleNeckBlock(\n",
       "            (blocks): Sequential(\n",
       "              (0): Sequential(\n",
       "                (conv): Conv2dAuto(512, 128, kernel_size=(1, 1), stride=(1, 1), bias=False)\n",
       "                (bn): BatchNorm2d(128, eps=1e-05, momentum=0.1, affine=True, track_running_stats=True)\n",
       "              )\n",
       "              (1): ReLU()\n",
       "              (2): Sequential(\n",
       "                (conv): Conv2dAuto(128, 128, kernel_size=(3, 3), stride=(1, 1), padding=(1, 1), bias=False)\n",
       "                (bn): BatchNorm2d(128, eps=1e-05, momentum=0.1, affine=True, track_running_stats=True)\n",
       "              )\n",
       "              (3): ReLU()\n",
       "              (4): Sequential(\n",
       "                (conv): Conv2dAuto(128, 512, kernel_size=(1, 1), stride=(1, 1), bias=False)\n",
       "                (bn): BatchNorm2d(512, eps=1e-05, momentum=0.1, affine=True, track_running_stats=True)\n",
       "              )\n",
       "            )\n",
       "            (shortcut): None\n",
       "          )\n",
       "        )\n",
       "      )\n",
       "      (2): ResNetLayer(\n",
       "        (blocks): Sequential(\n",
       "          (0): ResNetBottleNeckBlock(\n",
       "            (blocks): Sequential(\n",
       "              (0): Sequential(\n",
       "                (conv): Conv2dAuto(512, 256, kernel_size=(1, 1), stride=(1, 1), bias=False)\n",
       "                (bn): BatchNorm2d(256, eps=1e-05, momentum=0.1, affine=True, track_running_stats=True)\n",
       "              )\n",
       "              (1): ReLU()\n",
       "              (2): Sequential(\n",
       "                (conv): Conv2dAuto(256, 256, kernel_size=(3, 3), stride=(2, 2), padding=(1, 1), bias=False)\n",
       "                (bn): BatchNorm2d(256, eps=1e-05, momentum=0.1, affine=True, track_running_stats=True)\n",
       "              )\n",
       "              (3): ReLU()\n",
       "              (4): Sequential(\n",
       "                (conv): Conv2dAuto(256, 1024, kernel_size=(1, 1), stride=(1, 1), bias=False)\n",
       "                (bn): BatchNorm2d(1024, eps=1e-05, momentum=0.1, affine=True, track_running_stats=True)\n",
       "              )\n",
       "            )\n",
       "            (shortcut): Sequential(\n",
       "              (conv): Conv2d(512, 1024, kernel_size=(1, 1), stride=(2, 2), bias=False)\n",
       "              (bn): BatchNorm2d(1024, eps=1e-05, momentum=0.1, affine=True, track_running_stats=True)\n",
       "            )\n",
       "          )\n",
       "          (1): ResNetBottleNeckBlock(\n",
       "            (blocks): Sequential(\n",
       "              (0): Sequential(\n",
       "                (conv): Conv2dAuto(1024, 256, kernel_size=(1, 1), stride=(1, 1), bias=False)\n",
       "                (bn): BatchNorm2d(256, eps=1e-05, momentum=0.1, affine=True, track_running_stats=True)\n",
       "              )\n",
       "              (1): ReLU()\n",
       "              (2): Sequential(\n",
       "                (conv): Conv2dAuto(256, 256, kernel_size=(3, 3), stride=(1, 1), padding=(1, 1), bias=False)\n",
       "                (bn): BatchNorm2d(256, eps=1e-05, momentum=0.1, affine=True, track_running_stats=True)\n",
       "              )\n",
       "              (3): ReLU()\n",
       "              (4): Sequential(\n",
       "                (conv): Conv2dAuto(256, 1024, kernel_size=(1, 1), stride=(1, 1), bias=False)\n",
       "                (bn): BatchNorm2d(1024, eps=1e-05, momentum=0.1, affine=True, track_running_stats=True)\n",
       "              )\n",
       "            )\n",
       "            (shortcut): None\n",
       "          )\n",
       "          (2): ResNetBottleNeckBlock(\n",
       "            (blocks): Sequential(\n",
       "              (0): Sequential(\n",
       "                (conv): Conv2dAuto(1024, 256, kernel_size=(1, 1), stride=(1, 1), bias=False)\n",
       "                (bn): BatchNorm2d(256, eps=1e-05, momentum=0.1, affine=True, track_running_stats=True)\n",
       "              )\n",
       "              (1): ReLU()\n",
       "              (2): Sequential(\n",
       "                (conv): Conv2dAuto(256, 256, kernel_size=(3, 3), stride=(1, 1), padding=(1, 1), bias=False)\n",
       "                (bn): BatchNorm2d(256, eps=1e-05, momentum=0.1, affine=True, track_running_stats=True)\n",
       "              )\n",
       "              (3): ReLU()\n",
       "              (4): Sequential(\n",
       "                (conv): Conv2dAuto(256, 1024, kernel_size=(1, 1), stride=(1, 1), bias=False)\n",
       "                (bn): BatchNorm2d(1024, eps=1e-05, momentum=0.1, affine=True, track_running_stats=True)\n",
       "              )\n",
       "            )\n",
       "            (shortcut): None\n",
       "          )\n",
       "          (3): ResNetBottleNeckBlock(\n",
       "            (blocks): Sequential(\n",
       "              (0): Sequential(\n",
       "                (conv): Conv2dAuto(1024, 256, kernel_size=(1, 1), stride=(1, 1), bias=False)\n",
       "                (bn): BatchNorm2d(256, eps=1e-05, momentum=0.1, affine=True, track_running_stats=True)\n",
       "              )\n",
       "              (1): ReLU()\n",
       "              (2): Sequential(\n",
       "                (conv): Conv2dAuto(256, 256, kernel_size=(3, 3), stride=(1, 1), padding=(1, 1), bias=False)\n",
       "                (bn): BatchNorm2d(256, eps=1e-05, momentum=0.1, affine=True, track_running_stats=True)\n",
       "              )\n",
       "              (3): ReLU()\n",
       "              (4): Sequential(\n",
       "                (conv): Conv2dAuto(256, 1024, kernel_size=(1, 1), stride=(1, 1), bias=False)\n",
       "                (bn): BatchNorm2d(1024, eps=1e-05, momentum=0.1, affine=True, track_running_stats=True)\n",
       "              )\n",
       "            )\n",
       "            (shortcut): None\n",
       "          )\n",
       "          (4): ResNetBottleNeckBlock(\n",
       "            (blocks): Sequential(\n",
       "              (0): Sequential(\n",
       "                (conv): Conv2dAuto(1024, 256, kernel_size=(1, 1), stride=(1, 1), bias=False)\n",
       "                (bn): BatchNorm2d(256, eps=1e-05, momentum=0.1, affine=True, track_running_stats=True)\n",
       "              )\n",
       "              (1): ReLU()\n",
       "              (2): Sequential(\n",
       "                (conv): Conv2dAuto(256, 256, kernel_size=(3, 3), stride=(1, 1), padding=(1, 1), bias=False)\n",
       "                (bn): BatchNorm2d(256, eps=1e-05, momentum=0.1, affine=True, track_running_stats=True)\n",
       "              )\n",
       "              (3): ReLU()\n",
       "              (4): Sequential(\n",
       "                (conv): Conv2dAuto(256, 1024, kernel_size=(1, 1), stride=(1, 1), bias=False)\n",
       "                (bn): BatchNorm2d(1024, eps=1e-05, momentum=0.1, affine=True, track_running_stats=True)\n",
       "              )\n",
       "            )\n",
       "            (shortcut): None\n",
       "          )\n",
       "          (5): ResNetBottleNeckBlock(\n",
       "            (blocks): Sequential(\n",
       "              (0): Sequential(\n",
       "                (conv): Conv2dAuto(1024, 256, kernel_size=(1, 1), stride=(1, 1), bias=False)\n",
       "                (bn): BatchNorm2d(256, eps=1e-05, momentum=0.1, affine=True, track_running_stats=True)\n",
       "              )\n",
       "              (1): ReLU()\n",
       "              (2): Sequential(\n",
       "                (conv): Conv2dAuto(256, 256, kernel_size=(3, 3), stride=(1, 1), padding=(1, 1), bias=False)\n",
       "                (bn): BatchNorm2d(256, eps=1e-05, momentum=0.1, affine=True, track_running_stats=True)\n",
       "              )\n",
       "              (3): ReLU()\n",
       "              (4): Sequential(\n",
       "                (conv): Conv2dAuto(256, 1024, kernel_size=(1, 1), stride=(1, 1), bias=False)\n",
       "                (bn): BatchNorm2d(1024, eps=1e-05, momentum=0.1, affine=True, track_running_stats=True)\n",
       "              )\n",
       "            )\n",
       "            (shortcut): None\n",
       "          )\n",
       "        )\n",
       "      )\n",
       "      (3): ResNetLayer(\n",
       "        (blocks): Sequential(\n",
       "          (0): ResNetBottleNeckBlock(\n",
       "            (blocks): Sequential(\n",
       "              (0): Sequential(\n",
       "                (conv): Conv2dAuto(1024, 512, kernel_size=(1, 1), stride=(1, 1), bias=False)\n",
       "                (bn): BatchNorm2d(512, eps=1e-05, momentum=0.1, affine=True, track_running_stats=True)\n",
       "              )\n",
       "              (1): ReLU()\n",
       "              (2): Sequential(\n",
       "                (conv): Conv2dAuto(512, 512, kernel_size=(3, 3), stride=(2, 2), padding=(1, 1), bias=False)\n",
       "                (bn): BatchNorm2d(512, eps=1e-05, momentum=0.1, affine=True, track_running_stats=True)\n",
       "              )\n",
       "              (3): ReLU()\n",
       "              (4): Sequential(\n",
       "                (conv): Conv2dAuto(512, 2048, kernel_size=(1, 1), stride=(1, 1), bias=False)\n",
       "                (bn): BatchNorm2d(2048, eps=1e-05, momentum=0.1, affine=True, track_running_stats=True)\n",
       "              )\n",
       "            )\n",
       "            (shortcut): Sequential(\n",
       "              (conv): Conv2d(1024, 2048, kernel_size=(1, 1), stride=(2, 2), bias=False)\n",
       "              (bn): BatchNorm2d(2048, eps=1e-05, momentum=0.1, affine=True, track_running_stats=True)\n",
       "            )\n",
       "          )\n",
       "          (1): ResNetBottleNeckBlock(\n",
       "            (blocks): Sequential(\n",
       "              (0): Sequential(\n",
       "                (conv): Conv2dAuto(2048, 512, kernel_size=(1, 1), stride=(1, 1), bias=False)\n",
       "                (bn): BatchNorm2d(512, eps=1e-05, momentum=0.1, affine=True, track_running_stats=True)\n",
       "              )\n",
       "              (1): ReLU()\n",
       "              (2): Sequential(\n",
       "                (conv): Conv2dAuto(512, 512, kernel_size=(3, 3), stride=(1, 1), padding=(1, 1), bias=False)\n",
       "                (bn): BatchNorm2d(512, eps=1e-05, momentum=0.1, affine=True, track_running_stats=True)\n",
       "              )\n",
       "              (3): ReLU()\n",
       "              (4): Sequential(\n",
       "                (conv): Conv2dAuto(512, 2048, kernel_size=(1, 1), stride=(1, 1), bias=False)\n",
       "                (bn): BatchNorm2d(2048, eps=1e-05, momentum=0.1, affine=True, track_running_stats=True)\n",
       "              )\n",
       "            )\n",
       "            (shortcut): None\n",
       "          )\n",
       "          (2): ResNetBottleNeckBlock(\n",
       "            (blocks): Sequential(\n",
       "              (0): Sequential(\n",
       "                (conv): Conv2dAuto(2048, 512, kernel_size=(1, 1), stride=(1, 1), bias=False)\n",
       "                (bn): BatchNorm2d(512, eps=1e-05, momentum=0.1, affine=True, track_running_stats=True)\n",
       "              )\n",
       "              (1): ReLU()\n",
       "              (2): Sequential(\n",
       "                (conv): Conv2dAuto(512, 512, kernel_size=(3, 3), stride=(1, 1), padding=(1, 1), bias=False)\n",
       "                (bn): BatchNorm2d(512, eps=1e-05, momentum=0.1, affine=True, track_running_stats=True)\n",
       "              )\n",
       "              (3): ReLU()\n",
       "              (4): Sequential(\n",
       "                (conv): Conv2dAuto(512, 2048, kernel_size=(1, 1), stride=(1, 1), bias=False)\n",
       "                (bn): BatchNorm2d(2048, eps=1e-05, momentum=0.1, affine=True, track_running_stats=True)\n",
       "              )\n",
       "            )\n",
       "            (shortcut): None\n",
       "          )\n",
       "        )\n",
       "      )\n",
       "    )\n",
       "  )\n",
       "  (decoder): ResnetDecoder(\n",
       "    (avg): AdaptiveAvgPool2d(output_size=(1, 1))\n",
       "    (decoder): Linear(in_features=2048, out_features=12, bias=True)\n",
       "  )\n",
       ")"
      ]
     },
     "execution_count": 249,
     "metadata": {},
     "output_type": "execute_result"
    }
   ],
   "source": [
    "# device = torch.device(\"cuda:0\")\n",
    "# model = resnet50(2, 12)\n",
    "# model.load_state_dict(torch.load(PATH))\n",
    "# model.to(device)\n",
    "# model.eval()"
   ]
  },
  {
   "cell_type": "code",
   "execution_count": 45,
   "metadata": {},
   "outputs": [],
   "source": [
    "# # Print model's state_dict\n",
    "# print(\"Model's state_dict:\")\n",
    "# for param_tensor in model.state_dict():\n",
    "#     print(param_tensor, \"\\t\", model.state_dict()[param_tensor].size())"
   ]
  },
  {
   "cell_type": "code",
   "execution_count": 46,
   "metadata": {},
   "outputs": [],
   "source": [
    "# # Print optimizer's state_dict\n",
    "# print(\"Optimizer's state_dict:\")\n",
    "# for var_name in optimizer.state_dict():\n",
    "#     print(var_name, \"\\t\", optimizer.state_dict()[var_name])"
   ]
  },
  {
   "cell_type": "code",
   "execution_count": 47,
   "metadata": {},
   "outputs": [],
   "source": [
    "# # SAVE MODEL\n",
    "# os.chdir(path_save)\n",
    "# torch.save({\n",
    "#            'epoch': epoch,\n",
    "#            'model_state_dict': model.state_dict(),\n",
    "#            'optimizer_state_dict': optimizer.state_dict(),\n",
    "#            'loss': loss,\n",
    "#            }, path_save+rf_model)"
   ]
  },
  {
   "cell_type": "code",
   "execution_count": 48,
   "metadata": {},
   "outputs": [],
   "source": [
    "# # LOAD MODEL\n",
    "# checkpoint = torch.load(path_save+rf_model, map_location=device)\n",
    "\n",
    "\n",
    "# # STATUS\n",
    "# checkpoint.keys()\n",
    "\n",
    "# epoch = checkpoint['epoch']\n",
    "# model_state_dict = checkpoint['model_state_dict']\n",
    "# optimizer_state_dict = checkpoint['optimizer_state_dict']\n",
    "# loss = checkpoint['loss']\n",
    "\n",
    "# optimizer_state_dict.keys()\n",
    "\n",
    "# optimizer_state_dict['param_groups']\n",
    "\n",
    "# loss\n",
    "\n",
    "# model.load_state_dict(model_state_dict)   "
   ]
  },
  {
   "cell_type": "code",
   "execution_count": 49,
   "metadata": {},
   "outputs": [],
   "source": [
    "# loss"
   ]
  },
  {
   "cell_type": "code",
   "execution_count": 50,
   "metadata": {},
   "outputs": [],
   "source": [
    "# optimizer_state_dict.keys()"
   ]
  },
  {
   "cell_type": "code",
   "execution_count": null,
   "metadata": {},
   "outputs": [],
   "source": []
  }
 ],
 "metadata": {
  "accelerator": "GPU",
  "colab": {
   "collapsed_sections": [],
   "name": "E533 HW1 rev4.ipynb",
   "provenance": [
    {
     "file_id": "1DEqxXQe7Yw25roekLHtUmU_55IJKGY0H",
     "timestamp": 1548894460827
    },
    {
     "file_id": "19e_Vg1krlpJa5zSISQDOVQTwYKepXKql",
     "timestamp": 1548892687570
    },
    {
     "file_id": "1b7T-jkKgv4ynQ_Pe5HCAUM9GTox9fKS9",
     "timestamp": 1548440177000
    },
    {
     "file_id": "12fap5WLhwheizCF9I9Ul-qc2bQ7ZmiWS",
     "timestamp": 1548439576387
    }
   ],
   "version": "0.3.2"
  },
  "kernelspec": {
   "display_name": "Python 3",
   "language": "python",
   "name": "python3"
  },
  "language_info": {
   "codemirror_mode": {
    "name": "ipython",
    "version": 3
   },
   "file_extension": ".py",
   "mimetype": "text/x-python",
   "name": "python",
   "nbconvert_exporter": "python",
   "pygments_lexer": "ipython3",
   "version": "3.6.9"
  }
 },
 "nbformat": 4,
 "nbformat_minor": 1
}
