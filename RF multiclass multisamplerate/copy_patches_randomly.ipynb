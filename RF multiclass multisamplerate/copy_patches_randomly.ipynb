{
 "cells": [
  {
   "cell_type": "markdown",
   "metadata": {},
   "source": [
    "#### copy files"
   ]
  },
  {
   "cell_type": "code",
   "execution_count": 2,
   "metadata": {},
   "outputs": [],
   "source": [
    "import os\n",
    "import shutil\n",
    "import random\n",
    "\n",
    "def get_file_list(input_dir):\n",
    "    return [file for file in os.listdir(input_dir) if os.path.isfile(os.path.join(input_dir, file))]\n",
    "\n",
    "def get_random_files(file_list, N):\n",
    "    return random.sample(file_list, N)\n",
    "\n",
    "def copy_files(random_files, input_dir, output_dir):\n",
    "    for file in random_files:\n",
    "        shutil.copy(os.path.join(input_dir, file), output_dir)\n",
    "\n",
    "def main(input_dir, output_dir, N):\n",
    "    file_list = get_file_list(input_dir)\n",
    "    random_files = get_random_files(file_list, N)\n",
    "    copy_files(random_files, input_dir, output_dir)"
   ]
  },
  {
   "cell_type": "code",
   "execution_count": 28,
   "metadata": {
    "scrolled": true
   },
   "outputs": [
    {
     "name": "stdout",
     "output_type": "stream",
     "text": [
      "root =  /home/david/sigMF_ML/RF/RF_class/data_temp/sw1_910_val10/chopped-data-224-224\n",
      "The total number of files =  10000\n",
      "ref_copy =  200\n",
      "Finished!\n"
     ]
    }
   ],
   "source": [
    "root_dir = '/home/david/sigMF_ML/RF/RF_class/data_temp/sw1_910_val10/chopped-data-224-224'\n",
    "output_dir = '/home/david/sigMF_ML/RF/RF_class/temp_patch_hold'\n",
    "ref = 1\n",
    "\n",
    "for root, dirs, files in os.walk(root_dir):\n",
    "    print('root = ', root)\n",
    "    number_of_files = len(os.listdir(root)) \n",
    "    print('The total number of files = ', number_of_files)\n",
    "    if number_of_files > ref:\n",
    "#         ref_copy = int(round(0.02 * number_of_files))\n",
    "        ref_copy = 200\n",
    "        print('ref_copy = ', ref_copy)\n",
    "        num = 0\n",
    "        for i in range(ref_copy):\n",
    "            chosen_one = random.choice(os.listdir(root))\n",
    "#             print('chosen one = ', chosen_one, 'num = ', i)\n",
    "            file_in_track = root\n",
    "            file_to_copy = file_in_track + '/' + chosen_one\n",
    "            if os.path.isfile(file_to_copy) == False:\n",
    "                print('logic = ', os.path.isfile(file_to_copy))\n",
    "            if os.path.isfile(file_to_copy) == True:\n",
    "                shutil.copy(file_to_copy,output_dir)\n",
    "#                 num = num+1\n",
    "#                 print('number = ', num)\n",
    "#                 print(file_to_copy)\n",
    "    else:\n",
    "        for i in range(len(files)):\n",
    "            track_list = root\n",
    "            file_in_track = files[i]\n",
    "            file_to_copy = track_list + '/' + file_in_track\n",
    "            if os.path.isfile(file_to_copy) == True:\n",
    "                shutil.copy(file_to_copy,output_dir)\n",
    "#                 print(file_to_copy)\n",
    "print('Finished!')"
   ]
  },
  {
   "cell_type": "code",
   "execution_count": 36,
   "metadata": {},
   "outputs": [
    {
     "name": "stdout",
     "output_type": "stream",
     "text": [
      "root =  /home/david/sigMF_ML/RF/RF_class/data_temp/sw1_910_val10/chopped-data-224-224\n",
      "The total number of files =  10000\n",
      "ref_copy =  100\n"
     ]
    }
   ],
   "source": [
    "root_dir = '/home/david/sigMF_ML/RF/RF_class/data_temp/sw1_910_val10/chopped-data-224-224'\n",
    "output_dir = '/home/david/sigMF_ML/RF/RF_class/temp_patch_hold'\n",
    "for root, dirs, files in os.walk(root_dir):\n",
    "    print('root = ', root)\n",
    "    number_of_files = len(os.listdir(root)) \n",
    "    print('The total number of files = ', number_of_files)\n",
    "    num_to_copy = 100\n",
    "    for i in range(num_to_copy):\n",
    "        chosen_one = random.choice(os.listdir(root))\n",
    "        file_in_track = root\n",
    "        file_to_copy = file_in_track + '/' + chosen_one\n",
    "        shutil.copy(file_to_copy,output_dir)"
   ]
  },
  {
   "cell_type": "code",
   "execution_count": null,
   "metadata": {},
   "outputs": [],
   "source": []
  }
 ],
 "metadata": {
  "kernelspec": {
   "display_name": "Python 3",
   "language": "python",
   "name": "python3"
  },
  "language_info": {
   "codemirror_mode": {
    "name": "ipython",
    "version": 3
   },
   "file_extension": ".py",
   "mimetype": "text/x-python",
   "name": "python",
   "nbconvert_exporter": "python",
   "pygments_lexer": "ipython3",
   "version": "3.6.9"
  }
 },
 "nbformat": 4,
 "nbformat_minor": 4
}
