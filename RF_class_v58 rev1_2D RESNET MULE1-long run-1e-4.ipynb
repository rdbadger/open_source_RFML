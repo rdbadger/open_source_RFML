{
 "cells": [
  {
   "cell_type": "markdown",
   "metadata": {
    "colab_type": "text",
    "id": "cn5_7mqggh2H"
   },
   "source": [
    "## sigMF RF classification; 12 classes"
   ]
  },
  {
   "cell_type": "code",
   "execution_count": 42,
   "metadata": {
    "colab": {
     "base_uri": "https://localhost:8080/",
     "height": 68
    },
    "colab_type": "code",
    "executionInfo": {
     "elapsed": 2251,
     "status": "ok",
     "timestamp": 1548951950015,
     "user": {
      "displayName": "Robert Badger",
      "photoUrl": "",
      "userId": "11966704463856227449"
     },
     "user_tz": 300
    },
    "id": "r80FflgHhCiH",
    "outputId": "143411b2-cc11-47a1-c334-a76291219798",
    "scrolled": false
   },
   "outputs": [
    {
     "name": "stdout",
     "output_type": "stream",
     "text": [
      "Torch version = 1.6.0 CUDA version = 10.2\n",
      "CUDA Device: cuda:0\n",
      "Is cuda available? = True\n"
     ]
    }
   ],
   "source": [
    "import os\n",
    "import torch\n",
    "import torch.nn as nn\n",
    "import torch.optim as optim\n",
    "import torch.nn.functional as F\n",
    "import torch.utils.data\n",
    "import torch.utils.data as data\n",
    "from torch.autograd import Variable\n",
    "import numpy as np\n",
    "import matplotlib.pyplot as plt\n",
    "from scipy import signal\n",
    "import glob\n",
    "import json\n",
    "from os import walk\n",
    "import pickle\n",
    "import json\n",
    "import pathlib\n",
    "import random\n",
    "from timeit import default_timer as timer\n",
    "import time\n",
    "from tqdm import tqdm\n",
    "from torch.utils.data import Dataset, DataLoader\n",
    "global GPU, fft, Fs, center_freq, fft_val, Fs_test, loss, batches, eps, var_noise, mean_noise, top\n",
    "global c1_coeff, c2_coeff, a, r1_c1, r2_c1, r1_c2, r2_c2, compare\n",
    "a = 1\n",
    "r1_c2 = 1\n",
    "r2_c2 = 10e1\n",
    "top = .995\n",
    "var_noise = 8.78e-09\n",
    "mean_noise = 1 # not used\n",
    "eps = 1e-15\n",
    "Fs = 1000000\n",
    "fft = 1024\n",
    "center_freq_file = 433.65e6 # when SDR doing 25MSPS with center at 428MHz\n",
    "center_freq_live = 428.00e6 # when SDR doing 25MSPS with center at 428MHz\n",
    "batches = 64\n",
    "plt.style.use('default')\n",
    "GPU = 0\n",
    "device = torch.device('cuda:0')\n",
    "print('Torch version =', torch.__version__, 'CUDA version =', torch.version.cuda)\n",
    "print('CUDA Device:', device)\n",
    "print('Is cuda available? =',torch.cuda.is_available())"
   ]
  },
  {
   "cell_type": "code",
   "execution_count": 43,
   "metadata": {},
   "outputs": [
    {
     "data": {
      "text/plain": [
       "100.0"
      ]
     },
     "execution_count": 43,
     "metadata": {},
     "output_type": "execute_result"
    }
   ],
   "source": [
    "r2_c2"
   ]
  },
  {
   "cell_type": "code",
   "execution_count": 44,
   "metadata": {},
   "outputs": [],
   "source": [
    "!. /home/david/prefix-3.8/setup_env.sh"
   ]
  },
  {
   "cell_type": "markdown",
   "metadata": {
    "colab_type": "text",
    "id": "2t_9_D3l0Px9"
   },
   "source": [
    "#### Machine paths"
   ]
  },
  {
   "cell_type": "code",
   "execution_count": 45,
   "metadata": {
    "scrolled": false
   },
   "outputs": [
    {
     "name": "stdout",
     "output_type": "stream",
     "text": [
      "/home/david/sigMF_ML/RF/RF_class/data/\n"
     ]
    }
   ],
   "source": [
    "path_ram = \"/home/david/sigMF_ML/RF/ramdisk/\"\n",
    "path_usrp = \"/home/david/prefix-3.8/\"\n",
    "path = \"/home/david/sigMF_ML/RF/RF_class/data/\" # ACE\n",
    "path_val1 = \"/home/david/sigMF_ML/RF/RF_class/data_val1/\" # fft_center    - class 9\n",
    "path_val2 = \"/home/david/sigMF_ML/RF/RF_class/data_val2/\" # light switch - class 10\n",
    "path_val3 = \"/home/david/sigMF_ML/RF/RF_class/data_val3/\" # clickndig     - class 5\n",
    "path_val4 = \"/home/david/sigMF_ML/RF/RF_class/data_val4/\" # GD55          - class 1\n",
    "path_val5 = \"/home/david/sigMF_ML/RF/RF_class/data_val5/\" # lora125       - class 0\n",
    "path_val6 = \"/home/david/sigMF_ML/RF/RF_class/data_val6/\" # lora250       - class 7\n",
    "path_val7 = \"/home/david/sigMF_ML/RF/RF_class/data_val7/\" # NFM           - class 2\n",
    "path_val8 = \"/home/david/sigMF_ML/RF/RF_class/data_val8/\" # sado          - class 6\n",
    "path_val9 = \"/home/david/sigMF_ML/RF/RF_class/data_val9/\" # TYT           - class 3\n",
    "path_val10 = \"/home/david/sigMF_ML/RF/RF_class/data_val10/\" # vodeson     - class 4\n",
    "path_val11 = \"/home/david/sigMF_ML/RF/RF_class/data_val11/\" # white noise - class 8\n",
    "path_val12 = \"/home/david/sigMF_ML/RF/RF_class/data_val12/\" # ysf        - class 11\n",
    "path_fig = \"/home/david/sigMF_ML/RF/RF_class/\" # ACE\n",
    "path_val = \"/home/david/sigMF_ML/RF/RF_class/testing_data/\" # ACE\n",
    "path_save = \"/home/david/sigMF_ML/RF/RF_class/saved/\" # ACE\n",
    "path_test = \"/home/david/sigMF_ML/RF/RF_class/testing_data/\" # ACE\n",
    "path_test_1msps = \"/home/david/sigMF_ML/RF/RF_class/testing_data_1msps/\" # ACE\n",
    "path_test_5msps = \"/home/david/sigMF_ML/RF/RF_class/testing_data_5msps/\" # ACE\n",
    "path_test_10msps = \"/home/david/sigMF_ML/RF/RF_class/testing_data_10msps/\" # ACE\n",
    "path_test_25msps = \"/home/david/sigMF_ML/RF/RF_class/testing_data_25msps/\" # ACE\n",
    "print(path)"
   ]
  },
  {
   "cell_type": "markdown",
   "metadata": {},
   "source": [
    "## Functions "
   ]
  },
  {
   "cell_type": "code",
   "execution_count": 46,
   "metadata": {},
   "outputs": [],
   "source": [
    "# START OF FUNCTIONS ****************************************************\n",
    "def meta_encoder(meta_list, num_classes): \n",
    "    a = np.asarray(meta_list, dtype=int)\n",
    "#    print('a = ', a)\n",
    "    return a \n",
    "\n",
    "def save_model(epoch,loss):\n",
    "    rf_model = 'ResNet18_v58_20210226_2D_10dB_1e4lr_autosave'\n",
    "    PATH = path_save+rf_model\n",
    "    torch.save({\n",
    "            'epoch': epoch,\n",
    "            'model_state_dict': model.state_dict(),\n",
    "            'optimizer_state_dict': optimizer.state_dict(),\n",
    "            'loss': loss,}, PATH)   \n",
    "    \n",
    "def load_model():\n",
    "    rf_model = 'ResNet50_v58_20210215_2D_10dB_noise_autosave'\n",
    "    PATH = path_save+rf_model\n",
    "    device = torch.device(\"cuda:1\")\n",
    "    model = resnet50(2, 12)\n",
    "    model.load_state_dict(torch.load(PATH))\n",
    "    model.to(device)\n",
    "    model.eval()     \n",
    "\n",
    "def gpu_test_file(db):\n",
    "    if (msps == 1):\n",
    "        w1 = fft\n",
    "    elif (msps == 5):\n",
    "        w1 = fft*1\n",
    "    elif (msps == 10):\n",
    "        w1 = fft*1        \n",
    "    elif (msps == 25):\n",
    "        w1 = fft*1 \n",
    "    print('gpu_test file function')    \n",
    "    I = db[0::2]\n",
    "    Q = db[1::2]\n",
    "    w = fft*msps\n",
    "    print('Sample Rate = ',w,'MSPS')\n",
    "    den = 2\n",
    "    print('window length = ', w1)\n",
    "    win = torch.hann_window(w1, periodic=True, dtype=None, layout=torch.strided, requires_grad=False).cuda(GPU)\n",
    "    I_stft = torch.stft(torch.tensor(I).cuda(GPU), n_fft=fft, hop_length=fft//den, win_length=w1, window=win, center=True, normalized=True, onesided=True)\n",
    "    Q_stft = torch.stft(torch.tensor(Q).cuda(GPU), n_fft=fft, hop_length=fft//den, win_length=w1, window=win, center=True, normalized=True, onesided=True)\n",
    "    I_mag = torch.abs(torch.sqrt(I_stft[:,:,0]**2+I_stft[:,:,1]**2))\n",
    "    Q_mag = torch.abs(torch.sqrt(Q_stft[:,:,0]**2+Q_stft[:,:,1]**2))     \n",
    "    I_mag = torch.unsqueeze(I_mag, dim=2)\n",
    "    Q_mag = torch.unsqueeze(Q_mag, dim=2)   \n",
    "#     print('I shape =', I_stft.shape, 'Q shape = ', Q_stft.shape )\n",
    "#     print('I_mag shape =', I_mag.shape, 'Q_mag shape = ', Q_mag.shape )\n",
    "    Z_stft = torch.cat((I_mag,Q_mag),2)\n",
    "#     Z_stft = torch.cat((Z_stft[fft//2:,:,:],Z_stft[:fft//2,:,:])) # NOT SURE I NEED TO DO THIS...\n",
    "#     print('gpu_test file Z shape =', Z_stft.shape)\n",
    "    Z_stft = Z_stft[fft//2:,:,:] # throw bottom 1/2 away\n",
    "    print('FINAL gpu_test FILE IQ shape =', Z_stft.shape)\n",
    "    torch.cuda.empty_cache()\n",
    "    return Z_stft # Returning 2D\n",
    "\n",
    "def gpu_test_live(db,msps):\n",
    "    if (msps == 1):\n",
    "        w1 = fft\n",
    "    elif (msps == 5):\n",
    "        w1 = fft*1\n",
    "    elif (msps == 10):\n",
    "        w1 = fft*1        \n",
    "    elif (msps == 25):\n",
    "        w1 = fft*1     \n",
    "    print('gpu_test live function')    \n",
    "#     I = db[0:10000000:2]\n",
    "#     Q = db[1:10000000:2]    \n",
    "    I = db[0::2]\n",
    "    Q = db[1::2]\n",
    "    print('I length = ', len(I))\n",
    "    print('Q length = ', len(Q))\n",
    "    w = fft*msps\n",
    "    print(w,'MSPS')\n",
    "    den = 2\n",
    "    win = torch.hann_window(w1, periodic=True, dtype=None, layout=torch.strided, requires_grad=False).cuda(GPU)\n",
    "    I_stft = torch.stft(torch.tensor(I).cuda(GPU), n_fft=w, hop_length=w//den, win_length=w1, window=win, center=True, normalized=True, onesided=True)\n",
    "    Q_stft = torch.stft(torch.tensor(Q).cuda(GPU), n_fft=w, hop_length=w//den, win_length=w1, window=win, center=True, normalized=True, onesided=True)\n",
    "    I_mag = torch.abs(torch.sqrt(I_stft[:,:,0]**2+I_stft[:,:,1]**2))\n",
    "    Q_mag = torch.abs(torch.sqrt(Q_stft[:,:,0]**2+Q_stft[:,:,1]**2))      \n",
    "    I_mag = torch.unsqueeze(I_mag, dim=2)\n",
    "    Q_mag = torch.unsqueeze(Q_mag, dim=2)  \n",
    "    Z_stft = torch.cat((I_mag,Q_mag),2)\n",
    "    print('gpu_test live IQ shape =', Z_stft.shape)\n",
    "#     Z_stft = torch.cat((Z_stft[w//2:,:,:],Z_stft[:w//2,:,:])) # NOT SURE I NEED TO DO THIS...\n",
    "    Z_stft = Z_stft[:w//2,:,:]# throw bottom 1/2 away\n",
    "    print('FINAL gpu_test LIVE IQ shape =', Z_stft.shape)\n",
    "    return Z_stft # Returning 2D and plot\n",
    "   \n",
    "def iq_read(data_files): # USING GPU to perform STFT\n",
    "    print('iq_read function**********')\n",
    "    data_IQ_list = []\n",
    "    data_IQ_temp = []\n",
    "    for file in data_files:\n",
    "        db = np.fromfile(file, dtype=\"float32\")\n",
    "#         stft = gpu(db).detach().cpu().numpy()\n",
    "        print('iq_read function')\n",
    "        stft, stft_plot = gpu_test_file(db)\n",
    "        stft = stft.detach().cpu().numpy()\n",
    "        stft_plot = stft_plot.detach().cpu().numpy()\n",
    "        stft_plot = 10*np.log10(np.abs(stft_plot+eps))\n",
    "        plt.imshow(stft_plot)\n",
    "        plt.pcolormesh(stft_plot)\n",
    "#         plt.imshow(stft, aspect='auto', origin='lower')\n",
    "        plt.show()\n",
    "        data_IQ_temp.append(stft)\n",
    "    data_IQ_list = np.array(data_IQ_temp)\n",
    "    return data_IQ_list\n",
    "\n",
    "def iq_read_test_file(data_files): # USING GPU to perform STFT\n",
    "    data_IQ_list = []\n",
    "    data_IQ_temp = []\n",
    "    print('iq_read_test file')\n",
    "    for file in data_files:\n",
    "        db = np.fromfile(file, dtype=\"float32\")\n",
    "        stft = gpu_test_file(db)\n",
    "        stft_plot = 20*np.log10(np.abs(stft[:,:,0].detach().cpu().numpy()+eps))\n",
    "        print('imshow method')\n",
    "        plt.imshow(stft_plot, vmin=-70, vmax=5, aspect='auto', origin='lower')\n",
    "        plt.show()\n",
    "        data_IQ_temp.append(stft.detach().cpu().numpy())\n",
    "    data_IQ_list = np.array(data_IQ_temp)\n",
    "    return data_IQ_list\n",
    "\n",
    "\n",
    "def iq_read_test_live(data_files,msps): # USING GPU to perform STFT\n",
    "#     iq_cpu_plot(data_files) #checking with cpu complex plotting\n",
    "    data_IQ_list = []\n",
    "    data_IQ_temp = []\n",
    "    print('iq_read_test live')\n",
    "    for file in data_files:\n",
    "        db = np.fromfile(file, dtype=\"float32\")\n",
    "        stft = gpu_test_live(db,msps)\n",
    "        # *************************************************************************\n",
    "        stft_plot = 20*np.log10(np.abs(stft[:,:,0].detach().cpu().numpy()+eps))\n",
    "        print('iq_read_test live imshow method')\n",
    "        plt.imshow(stft_plot, vmin=-70, vmax=5, aspect='auto', origin='lower')\n",
    "        plt.show()\n",
    "        # *************************************************************************\n",
    "        data_IQ_temp.append(stft.detach().cpu().numpy())\n",
    "    data_IQ_list = np.array(data_IQ_temp)\n",
    "    return data_IQ_list\n",
    "\n",
    "\n",
    "def read_meta(meta_files):\n",
    "    meta_list = []\n",
    "    for meta in meta_files:\n",
    "        all_meta_data = json.load(open(meta))\n",
    "        meta_list.append(all_meta_data['global'][\"core:class\"])\n",
    "    meta_list = list(map(int, meta_list))\n",
    "    return meta_list\n",
    "\n",
    "def read_num_val(x):\n",
    "    x = len(meta_list_val)\n",
    "    return x\n",
    "\n",
    "#**************************** Print historgram subplots ******************************\n",
    "def histo_plots(inputs):\n",
    "    fig=plt.figure(figsize=(8,8))\n",
    "    ncols = 2\n",
    "    nrows = 2\n",
    "    print('make torch inputs')\n",
    "    print('inputs shape for histogram1 = ', inputs.shape)\n",
    "    inputs = 10*np.log10(np.abs(inputs.cpu()+eps))\n",
    "    for x in range(4):\n",
    "#         print('x = ', x, 'inputs shape for histogram2 = ', inputs[:,:,x].shape)\n",
    "        flat_inputs = torch.flatten(inputs[:,:,x], start_dim=0, end_dim=-1).numpy()\n",
    "#         print('type = ', type(flat_inputs))\n",
    "#         print('x = ', x, 'flat_input max = ', np.amax(flat_inputs))\n",
    "#         print('inputs are: ', flat_inputs.shape)\n",
    "        fig.add_subplot(nrows, ncols, x+1)\n",
    "        plt.hist(flat_inputs, bins=5000)\n",
    "        plt.gca().set(title='Frequency Histogram', ylabel='Frequency');\n",
    "        plt.xlim(-100, 10)\n",
    "#         plt.ylim(0, 40000)\n",
    "    return flat_inputs\n",
    "#*************************************************************************************    \n",
    "#**************************** Print historgram subplots ******************************\n",
    "def histo_stats(inputs):\n",
    "#     print('make torch inputs')\n",
    "#     print('inputs shape for histogram1 = ', inputs.shape)\n",
    "    mean = np.zeros(4)\n",
    "    std = np.zeros(4)\n",
    "    for x in range(4):\n",
    "#         print('x = ', x, 'inputs shape for histogram2 = ', inputs[:,:,x].shape)\n",
    "        flat_inputs = torch.flatten(inputs[:,:,x], start_dim=0, end_dim=-1).numpy()\n",
    "#         print('inputs are: ', flat_inputs.shape)\n",
    "        mean[x] = flat_inputs.mean()\n",
    "        std[x] = flat_inputs.std()\n",
    "#         print('mean = ', mean, 'std = ', std)\n",
    "    return mean, std\n",
    "#**************************** Print historgram freq stats ******************************\n",
    "def histo_stats_freq_file(inputs,msps):\n",
    "    mean = inputs.mean()\n",
    "    std = inputs.std()\n",
    "    print(\"mean Freq = {0:9,.2f}\".format(mean))\n",
    "    print(\"std Freq = {0:9,.2f}\".format(std))\n",
    "    print('length of inputs = ', len(inputs))\n",
    "#     plt.hist(inputs, 30, facecolor='blue', align='mid')\n",
    "    if (msps==25):\n",
    "        plt.hist(inputs, 30, range=[428.0, 440.0], facecolor='blue', align='mid')\n",
    "    elif (msps==1):\n",
    "        plt.hist(inputs, 30, range=[433.65, 434.15], facecolor='blue', align='mid')\n",
    "    elif (msps==5):\n",
    "        plt.hist(inputs, 30, range=[433.00, 435.50], facecolor='blue', align='mid')         \n",
    "    elif (msps==10):\n",
    "        plt.hist(inputs, 30, range=[433.00, 438.00], facecolor='blue', align='mid')        \n",
    "    else:\n",
    "        print('WRONG SAMPLE RATE CHOSEN')\n",
    "    plt.gca().set(title='Frequency Histogram', ylabel='Frequency'); \n",
    "    plt.show()\n",
    "def histo_stats_freq_live(inputs,msps):\n",
    "    mean = inputs.mean()\n",
    "    std = inputs.std()\n",
    "    print(\"mean Freq = {0:9,.2f}\".format(mean))\n",
    "    print(\"std Freq = {0:9,.2f}\".format(std))\n",
    "    print('length of inputs = ', len(inputs))\n",
    "#     plt.hist(inputs, 30, facecolor='blue', align='mid')\n",
    "    if (msps==25):\n",
    "        plt.hist(inputs, 30, range=[428.0, 440.0], facecolor='blue', align='mid')\n",
    "    elif (msps==1):\n",
    "        plt.hist(inputs, 30, range=[433.65, 434.15], facecolor='blue', align='mid')\n",
    "    elif (msps==5):\n",
    "        plt.hist(inputs, 30, range=[433.00, 435.50], facecolor='blue', align='mid')          \n",
    "    elif (msps==10):\n",
    "        plt.hist(inputs, 30, range=[433.00, 438.00], facecolor='blue', align='mid')         \n",
    "    else:\n",
    "        print('WRONG SAMPLE RATE CHOSEN')\n",
    "    plt.gca().set(title='Frequency Histogram', ylabel='Frequency'); \n",
    "    plt.show()\n",
    "# END OF FUNCTIONS ******************************************************"
   ]
  },
  {
   "cell_type": "code",
   "execution_count": 47,
   "metadata": {},
   "outputs": [],
   "source": [
    "from functools import partial\n",
    "from dataclasses import dataclass\n",
    "from collections import OrderedDict"
   ]
  },
  {
   "cell_type": "code",
   "execution_count": 48,
   "metadata": {},
   "outputs": [],
   "source": [
    "class Conv2dAuto(nn.Conv2d):\n",
    "    def __init__(self, *args, **kwargs):\n",
    "        super().__init__(*args, **kwargs)\n",
    "        self.padding =  (self.kernel_size[0] // 2, self.kernel_size[1] // 2) # dynamic add padding based on the kernel_size\n",
    "        \n",
    "conv3x3 = partial(Conv2dAuto, kernel_size=3, bias=False) "
   ]
  },
  {
   "cell_type": "code",
   "execution_count": 49,
   "metadata": {},
   "outputs": [],
   "source": [
    "class ResidualBlock(nn.Module):\n",
    "    def __init__(self, in_channels, out_channels):\n",
    "        super().__init__()\n",
    "        self.in_channels, self.out_channels =  in_channels, out_channels\n",
    "        self.blocks = nn.Identity()\n",
    "        self.shortcut = nn.Identity()   \n",
    "    \n",
    "    def forward(self, x):\n",
    "        residual = x\n",
    "        if self.should_apply_shortcut: residual = self.shortcut(x)\n",
    "        x = self.blocks(x)\n",
    "        x += residual\n",
    "        return x\n",
    "    \n",
    "    @property\n",
    "    def should_apply_shortcut(self):\n",
    "        return self.in_channels != self.out_channels"
   ]
  },
  {
   "cell_type": "code",
   "execution_count": 50,
   "metadata": {},
   "outputs": [],
   "source": [
    "class ResNetResidualBlock(ResidualBlock):\n",
    "    def __init__(self, in_channels, out_channels, expansion=1, downsampling=1, conv=conv3x3, *args, **kwargs):\n",
    "        super().__init__(in_channels, out_channels)\n",
    "        self.expansion, self.downsampling, self.conv = expansion, downsampling, conv\n",
    "        self.shortcut = nn.Sequential(OrderedDict(\n",
    "        {\n",
    "            'conv' : nn.Conv2d(self.in_channels, self.expanded_channels, kernel_size=1,\n",
    "                      stride=self.downsampling, bias=False),\n",
    "            'bn' : nn.BatchNorm2d(self.expanded_channels)\n",
    "            \n",
    "        })) if self.should_apply_shortcut else None\n",
    "        \n",
    "        \n",
    "    @property\n",
    "    def expanded_channels(self):\n",
    "        return self.out_channels * self.expansion\n",
    "    \n",
    "    @property\n",
    "    def should_apply_shortcut(self):\n",
    "        return self.in_channels != self.expanded_channels"
   ]
  },
  {
   "cell_type": "code",
   "execution_count": 51,
   "metadata": {},
   "outputs": [],
   "source": [
    "def conv_bn(in_channels, out_channels, conv, *args, **kwargs):\n",
    "    return nn.Sequential(OrderedDict({'conv': conv(in_channels, out_channels, *args, **kwargs), \n",
    "                          'bn': nn.BatchNorm2d(out_channels) }))"
   ]
  },
  {
   "cell_type": "code",
   "execution_count": 52,
   "metadata": {},
   "outputs": [],
   "source": [
    "class ResNetBasicBlock(ResNetResidualBlock):\n",
    "    expansion = 1\n",
    "    def __init__(self, in_channels, out_channels, activation=nn.ReLU, *args, **kwargs):\n",
    "        super().__init__(in_channels, out_channels, *args, **kwargs)\n",
    "        self.blocks = nn.Sequential(\n",
    "            conv_bn(self.in_channels, self.out_channels, conv=self.conv, bias=False, stride=self.downsampling),\n",
    "            activation(),\n",
    "            conv_bn(self.out_channels, self.expanded_channels, conv=self.conv, bias=False),\n",
    "        )"
   ]
  },
  {
   "cell_type": "code",
   "execution_count": 53,
   "metadata": {},
   "outputs": [],
   "source": [
    "class ResNetBottleNeckBlock(ResNetResidualBlock):\n",
    "    expansion = 4\n",
    "    def __init__(self, in_channels, out_channels, activation=nn.ReLU, *args, **kwargs):\n",
    "        super().__init__(in_channels, out_channels, expansion=4, *args, **kwargs)\n",
    "        self.blocks = nn.Sequential(\n",
    "           conv_bn(self.in_channels, self.out_channels, self.conv, kernel_size=1),\n",
    "             activation(),\n",
    "             conv_bn(self.out_channels, self.out_channels, self.conv, kernel_size=3, stride=self.downsampling),\n",
    "             activation(),\n",
    "             conv_bn(self.out_channels, self.expanded_channels, self.conv, kernel_size=1),\n",
    "        )"
   ]
  },
  {
   "cell_type": "code",
   "execution_count": 54,
   "metadata": {},
   "outputs": [],
   "source": [
    "class ResNetLayer(nn.Module):\n",
    "    def __init__(self, in_channels, out_channels, block=ResNetBasicBlock, n=1, *args, **kwargs):\n",
    "        super().__init__()\n",
    "        # 'We perform downsampling directly by convolutional layers that have a stride of 2.'\n",
    "        downsampling = 2 if in_channels != out_channels else 1\n",
    "        \n",
    "        self.blocks = nn.Sequential(\n",
    "            block(in_channels , out_channels, *args, **kwargs, downsampling=downsampling),\n",
    "            *[block(out_channels * block.expansion, \n",
    "                    out_channels, downsampling=1, *args, **kwargs) for _ in range(n - 1)]\n",
    "        )\n",
    "\n",
    "    def forward(self, x):\n",
    "        x = self.blocks(x)\n",
    "        return x"
   ]
  },
  {
   "cell_type": "code",
   "execution_count": 55,
   "metadata": {},
   "outputs": [],
   "source": [
    "class ResNetEncoder(nn.Module):\n",
    "    \"\"\"\n",
    "    ResNet encoder composed by increasing different layers with increasing features.\n",
    "    \"\"\"\n",
    "    def __init__(self, in_channels=3, blocks_sizes=[64, 128, 256, 512], deepths=[2,2,2,2], \n",
    "                 activation=nn.ReLU, block=ResNetBasicBlock, *args,**kwargs):\n",
    "        super().__init__()\n",
    "        \n",
    "        self.blocks_sizes = blocks_sizes\n",
    "        \n",
    "        self.gate = nn.Sequential(\n",
    "            nn.Conv2d(in_channels, self.blocks_sizes[0], kernel_size=7, stride=2, padding=3, bias=False),\n",
    "            nn.BatchNorm2d(self.blocks_sizes[0]),\n",
    "            activation(),\n",
    "            nn.MaxPool2d(kernel_size=3, stride=2, padding=1)\n",
    "        )\n",
    "        \n",
    "        self.in_out_block_sizes = list(zip(blocks_sizes, blocks_sizes[1:]))\n",
    "        self.blocks = nn.ModuleList([ \n",
    "            ResNetLayer(blocks_sizes[0], blocks_sizes[0], n=deepths[0], activation=activation, \n",
    "                        block=block,  *args, **kwargs),\n",
    "            *[ResNetLayer(in_channels * block.expansion, \n",
    "                          out_channels, n=n, activation=activation, \n",
    "                          block=block, *args, **kwargs) \n",
    "              for (in_channels, out_channels), n in zip(self.in_out_block_sizes, deepths[1:])]       \n",
    "        ])\n",
    "        \n",
    "        \n",
    "    def forward(self, x):\n",
    "        x = self.gate(x)\n",
    "        for block in self.blocks:\n",
    "            x = block(x)\n",
    "        return x"
   ]
  },
  {
   "cell_type": "code",
   "execution_count": 56,
   "metadata": {},
   "outputs": [],
   "source": [
    "class ResnetDecoder(nn.Module):\n",
    "    \"\"\"\n",
    "    This class represents the tail of ResNet. It performs a global pooling and maps the output to the\n",
    "    correct class by using a fully connected layer.\n",
    "    \"\"\"\n",
    "    def __init__(self, in_features, n_classes):\n",
    "        super().__init__()\n",
    "        self.avg = nn.AdaptiveAvgPool2d((1, 1))\n",
    "        self.decoder = nn.Linear(in_features, n_classes)\n",
    "\n",
    "    def forward(self, x):\n",
    "        x = self.avg(x)\n",
    "        x = x.view(x.size(0), -1)\n",
    "        x = self.decoder(x)\n",
    "        return x"
   ]
  },
  {
   "cell_type": "code",
   "execution_count": 57,
   "metadata": {},
   "outputs": [],
   "source": [
    "class ResNet(nn.Module):\n",
    "    \n",
    "    def __init__(self, in_channels, n_classes, *args, **kwargs):\n",
    "        super().__init__()\n",
    "        self.encoder = ResNetEncoder(in_channels, *args, **kwargs)\n",
    "        self.decoder = ResnetDecoder(self.encoder.blocks[-1].blocks[-1].expanded_channels, n_classes)\n",
    "        \n",
    "    def forward(self, x):\n",
    "        x = self.encoder(x)\n",
    "        x = self.decoder(x)\n",
    "        return x"
   ]
  },
  {
   "cell_type": "code",
   "execution_count": 58,
   "metadata": {},
   "outputs": [],
   "source": [
    "def resnet18(in_channels, n_classes):\n",
    "    return ResNet(in_channels, n_classes, block=ResNetBasicBlock, deepths=[2, 2, 2, 2])\n",
    "\n",
    "def resnet34(in_channels, n_classes):\n",
    "    return ResNet(in_channels, n_classes, block=ResNetBasicBlock, deepths=[3, 4, 6, 3])\n",
    "\n",
    "def resnet50(in_channels, n_classes):\n",
    "    return ResNet(in_channels, n_classes, block=ResNetBottleNeckBlock, deepths=[3, 4, 6, 3])\n",
    "\n",
    "def resnet101(in_channels, n_classes):\n",
    "    return ResNet(in_channels, n_classes, block=ResNetBottleNeckBlock, deepths=[3, 4, 23, 3])\n",
    "\n",
    "def resnet152(in_channels, n_classes):\n",
    "    return ResNet(in_channels, n_classes, block=ResNetBottleNeckBlock, deepths=[3, 8, 36, 3])"
   ]
  },
  {
   "cell_type": "code",
   "execution_count": 59,
   "metadata": {
    "scrolled": true
   },
   "outputs": [],
   "source": [
    "from torchsummary import summary\n",
    "\n",
    "# model = resnet50(4, 12)\n",
    "# summary(model.cuda(GPU), (4, 224, 224))"
   ]
  },
  {
   "cell_type": "code",
   "execution_count": 60,
   "metadata": {},
   "outputs": [],
   "source": [
    "from torch.utils.data import Dataset"
   ]
  },
  {
   "cell_type": "code",
   "execution_count": 61,
   "metadata": {},
   "outputs": [],
   "source": [
    "class RFDataset(Dataset):\n",
    "    def __init__(self, root_path):\n",
    "        print(root_path)\n",
    "        self.root_path = root_path\n",
    "        self.list_of_all_pickles = sorted(pathlib.Path(root_path).rglob('*/chopped-data-224-224/*.pickle'))\n",
    "        self.get_class = dict()\n",
    "        class_folders = list(pathlib.Path(root_path).glob('*/'))\n",
    "        for class_folder in class_folders:\n",
    "            class_index = -1\n",
    "            metadata_path = list(class_folder.rglob('*.sigmf-meta'))[0]\n",
    "            with open(metadata_path) as fp:\n",
    "                metadata = json.load(fp)\n",
    "                class_index = int(metadata[\"global\"][\"core:class\"])\n",
    "            self.get_class[str(class_folder.stem)] = class_index\n",
    "\n",
    "\n",
    "    def __len__(self):\n",
    "        return len(self.list_of_all_pickles)\n",
    "\n",
    "    def __getitem__(self, idx):\n",
    "        filepath = self.list_of_all_pickles[idx]\n",
    "        with open(filepath, 'rb') as fp:\n",
    "            tensor = pickle.load(fp)['bounded']\n",
    "        foldername = filepath.parts[7]\n",
    "        label = self.get_class[foldername]\n",
    "\n",
    "        #return (tensor, label) # this is a tuple\n",
    "        return {'data': tensor, 'label': label}"
   ]
  },
  {
   "cell_type": "markdown",
   "metadata": {},
   "source": [
    "#### Evaluation dataset loader"
   ]
  },
  {
   "cell_type": "code",
   "execution_count": 62,
   "metadata": {},
   "outputs": [
    {
     "name": "stdout",
     "output_type": "stream",
     "text": [
      "/home/david/sigMF_ML/RF/RF_class/data_val1/\n",
      "/home/david/sigMF_ML/RF/RF_class/data_val2/\n",
      "/home/david/sigMF_ML/RF/RF_class/data_val3/\n",
      "/home/david/sigMF_ML/RF/RF_class/data_val4/\n",
      "/home/david/sigMF_ML/RF/RF_class/data_val5/\n",
      "/home/david/sigMF_ML/RF/RF_class/data_val6/\n",
      "/home/david/sigMF_ML/RF/RF_class/data_val7/\n",
      "/home/david/sigMF_ML/RF/RF_class/data_val8/\n",
      "/home/david/sigMF_ML/RF/RF_class/data_val9/\n",
      "/home/david/sigMF_ML/RF/RF_class/data_val10/\n",
      "/home/david/sigMF_ML/RF/RF_class/data_val11/\n",
      "/home/david/sigMF_ML/RF/RF_class/data_val12/\n"
     ]
    }
   ],
   "source": [
    "rf_dataset1 = RFDataset(path_val1)\n",
    "val1_data = data.DataLoader(rf_dataset1, batch_size=batches, shuffle=True)\n",
    "rf_dataset2 = RFDataset(path_val2)\n",
    "val2_data = data.DataLoader(rf_dataset2, batch_size=batches, shuffle=True)\n",
    "rf_dataset3 = RFDataset(path_val3)\n",
    "val3_data = data.DataLoader(rf_dataset3, batch_size=batches, shuffle=True)\n",
    "rf_dataset4 = RFDataset(path_val4)\n",
    "val4_data = data.DataLoader(rf_dataset4, batch_size=batches, shuffle=True)\n",
    "rf_dataset5 = RFDataset(path_val5)\n",
    "val5_data = data.DataLoader(rf_dataset5, batch_size=batches, shuffle=True)\n",
    "rf_dataset6 = RFDataset(path_val6)\n",
    "val6_data = data.DataLoader(rf_dataset6, batch_size=batches, shuffle=True)\n",
    "rf_dataset7 = RFDataset(path_val7)\n",
    "val7_data = data.DataLoader(rf_dataset7, batch_size=batches, shuffle=True)\n",
    "rf_dataset8 = RFDataset(path_val8)\n",
    "val8_data = data.DataLoader(rf_dataset8, batch_size=batches, shuffle=True)\n",
    "rf_dataset9 = RFDataset(path_val9)\n",
    "val9_data = data.DataLoader(rf_dataset9, batch_size=batches, shuffle=True)\n",
    "rf_dataset10 = RFDataset(path_val10)\n",
    "val10_data = data.DataLoader(rf_dataset10, batch_size=batches, shuffle=True)\n",
    "rf_dataset11 = RFDataset(path_val11)\n",
    "val11_data = data.DataLoader(rf_dataset11, batch_size=batches, shuffle=True)\n",
    "rf_dataset12 = RFDataset(path_val12)\n",
    "val12_data = data.DataLoader(rf_dataset12, batch_size=batches, shuffle=True)"
   ]
  },
  {
   "cell_type": "markdown",
   "metadata": {},
   "source": [
    "#### list of loaders"
   ]
  },
  {
   "cell_type": "code",
   "execution_count": 63,
   "metadata": {},
   "outputs": [
    {
     "name": "stdout",
     "output_type": "stream",
     "text": [
      "done\n"
     ]
    }
   ],
   "source": [
    "val_data_list = [val1_data]\n",
    "val_data_list.append(val2_data)\n",
    "val_data_list.append(val3_data)\n",
    "val_data_list.append(val4_data)\n",
    "val_data_list.append(val5_data)\n",
    "val_data_list.append(val6_data)\n",
    "val_data_list.append(val7_data)\n",
    "val_data_list.append(val8_data)\n",
    "val_data_list.append(val9_data)\n",
    "val_data_list.append(val10_data)\n",
    "val_data_list.append(val11_data)\n",
    "val_data_list.append(val12_data)\n",
    "print('done')"
   ]
  },
  {
   "cell_type": "markdown",
   "metadata": {},
   "source": [
    "## Training"
   ]
  },
  {
   "cell_type": "code",
   "execution_count": 64,
   "metadata": {},
   "outputs": [],
   "source": [
    "def train_net(total):\n",
    "    test_patch_total = 24000 # 120000\n",
    "    compare = .7\n",
    "    loss_plot = np.zeros(total)\n",
    "    total_plot = np.zeros(total//5+1)\n",
    "    batch_plot = np.zeros(len(training_data)*total//100)\n",
    "    batch_indexer = 0\n",
    "    for epoch in tqdm(range(total), desc=\"Epoch\"): \n",
    "        model.train()\n",
    "        for i, rf_data in enumerate(training_data, 0):\n",
    "            start = timer()\n",
    "            inputs = rf_data['data']\n",
    "            inputs = torch.squeeze(inputs, dim=1)\n",
    "#             print('input1  = ', inputs.shape)\n",
    "            inputs = inputs.permute(0,3,1,2).contiguous()\n",
    "#             print('input before noise add  = ', inputs.shape)\n",
    "            batch_dim, b, c, d = inputs.shape            \n",
    "            # add som noise\n",
    "            c2 = torch.FloatTensor(a).uniform_(r1_c2, r2_c2)\n",
    "            inputs = inputs + torch.abs((((var_noise*c2)**0.5)*torch.randn(batch_dim, 4, 224, 224)*1))  \n",
    "            #**************** take I and Q magnitudue only ***********\n",
    "            I_temp = torch.abs(torch.sqrt(inputs[:,0,:,:]**2+inputs[:,1,:,:]**2))        \n",
    "            I_temp = torch.unsqueeze(I_temp, dim=1)\n",
    "            Q_temp = torch.abs(torch.sqrt(inputs[:,2,:,:]**2+inputs[:,3,:,:]**2))\n",
    "            Q_temp = torch.unsqueeze(Q_temp, dim=1)\n",
    "            inputs = torch.cat((I_temp,Q_temp),1)\n",
    "#             print('inputs after noise add  = ', inputs.shape) \n",
    "            #*********************************************************  \n",
    "            inputs = Variable(inputs.cuda(GPU))\n",
    "            labels = rf_data['label']\n",
    "            labels = labels.cuda(GPU)\n",
    "            outputs = model(inputs)\n",
    "            loss = criterion(outputs, labels)\n",
    "            optimizer.zero_grad()\n",
    "            loss.backward()\n",
    "            optimizer.step()\n",
    "            end = timer()\n",
    "            batch_time = end - start\n",
    "        #***************************************************************************************\n",
    "        print('batch time = ', batch_time)\n",
    "        print('************************* start *************************')\n",
    "        total_correct_patches = grand_total = 0\n",
    "        start_test = timer()\n",
    "        model.eval()\n",
    "        for testing in val_data_list:\n",
    "            t = train_val(testing)\n",
    "            total_correct_patches = total_correct_patches + t           \n",
    "        grand_total = total_correct_patches/test_patch_total\n",
    "        batch_plot[batch_indexer] = grand_total*100\n",
    "        batch_indexer = batch_indexer + 1\n",
    "    #     print('Batch number = ', i, 'of', len(training_data))\n",
    "        print('Total % correct {:.2f}%'.format(grand_total*100))         \n",
    "        model.train \n",
    "        end_test = timer()\n",
    "        test_time = end_test - start_test\n",
    "        print('test time = ', test_time)\n",
    "        print('*************************** end ***************************')\n",
    "        #****************************************************************************************         \n",
    "        save_model(epoch,loss)\n",
    "        tqdm.write('___________________________________________')\n",
    "        tqdm.write(\"Epoch {} Loss {:.10f} \".format(epoch+1, loss.data*1)) \n",
    "        tqdm.write('___________________________________________')        \n",
    "    return loss_plot, batch_plot"
   ]
  },
  {
   "cell_type": "markdown",
   "metadata": {},
   "source": [
    "#### Training Evaluation"
   ]
  },
  {
   "cell_type": "code",
   "execution_count": 65,
   "metadata": {},
   "outputs": [],
   "source": [
    "def train_val(val_data):\n",
    "    with torch.no_grad():\n",
    "        total = noise = center_fft = target_to_int = accumulated_corrects = percent_correct = 0\n",
    "        c0 = c1 = c2 = c3 = c4 = c5 = c6 = c7 = c8 = c9 = 0\n",
    "        for i, rf_data in enumerate(val_data, 0): \n",
    "            inputs = rf_data['data']\n",
    "            inputs = torch.squeeze(inputs, dim=1)\n",
    "            inputs = inputs.permute(0,3,1,2).contiguous() \n",
    "            batch_dim, b, c, d = inputs.shape            \n",
    "            # add som noise\n",
    "            c2 = torch.FloatTensor(a).uniform_(r1_c2, r2_c2)\n",
    "            inputs = inputs + torch.abs((((var_noise*c2)**0.5)*torch.randn(batch_dim, 4, 224, 224)*1))              \n",
    "            #**************** take I and Q magnitudue only ***********\n",
    "            I_temp = torch.abs(torch.sqrt(inputs[:,0,:,:]**2+inputs[:,1,:,:]**2))\n",
    "            I_temp = torch.unsqueeze(I_temp, dim=1)\n",
    "            Q_temp = torch.abs(torch.sqrt(inputs[:,2,:,:]**2+inputs[:,3,:,:]**2))\n",
    "            Q_temp = torch.unsqueeze(Q_temp, dim=1)\n",
    "            inputs = torch.cat((I_temp,Q_temp),1)\n",
    "            #*********************************************************               \n",
    "            inputs = Variable(inputs.cuda(GPU))\n",
    "            labels = rf_data['label']\n",
    "            labels = labels.cuda(GPU)\n",
    "            optimizer.zero_grad() \n",
    "            outputs = model(inputs)\n",
    "            _, predicted = torch.max(outputs.data, 1) \n",
    "            for b in range(len(predicted)):\n",
    "                labels_temp = labels[b].detach().cpu().numpy()\n",
    "                temp = predicted[b].detach().cpu().numpy()\n",
    "                if (labels_temp==temp):\n",
    "                    accumulated_corrects = accumulated_corrects+1\n",
    "    torch.cuda.empty_cache()\n",
    "    return accumulated_corrects"
   ]
  },
  {
   "cell_type": "markdown",
   "metadata": {},
   "source": [
    "## Inference Segmented Dataloader"
   ]
  },
  {
   "cell_type": "code",
   "execution_count": 66,
   "metadata": {},
   "outputs": [],
   "source": [
    "# Inference Dataloader with labels\n",
    "class inference_dataloader_segmented_live(data.Dataset):\n",
    "    def __init__(self):\n",
    "        self.dataPath = path\n",
    "        self.num_classes = 12\n",
    "        self.num_examples = 1 # use only 1 for semi-live inferencing\n",
    "    def __getitem__(self, index):\n",
    "        sigmf_data = np.array(data_IQ_list_val[index]) \n",
    "        print('sigmf_data = ', sigmf_data.shape)\n",
    "        frequency, time, dims1 = sigmf_data.shape\n",
    "        print('frequency = ', frequency, '  time = ', time)\n",
    "        data_IQ = []\n",
    "        data_IQ_temp2 = []\n",
    "        seg_t = 224  \n",
    "        seg_f = 224 \n",
    "        seg_time = time//seg_t\n",
    "        seg_freq = frequency//seg_f\n",
    "        print('seg_time = ', seg_time, 'seg_freq = ', seg_freq)\n",
    "        # Segment the time axis\n",
    "        for j in range(seg_time): \n",
    "                # Segment the frequency axis\n",
    "                for k in range(seg_freq): \n",
    "                    IQ = sigmf_data[seg_f*k:(seg_f)+seg_f*k,seg_t*j:(seg_t)+seg_t*j]\n",
    "                    data_IQ_temp2.append(IQ)            \n",
    "        data_IQ = np.array(data_IQ_temp2)\n",
    "        print('data_IQ shape = ', data_IQ.shape)\n",
    "        loop_counter, dim1, dim2, dim3 = data_IQ.shape\n",
    "        TRUTH =  meta_encoder(meta_list_val, self.num_classes)\n",
    "        TRUTH = TRUTH.astype(np.float32)\n",
    "        return torch.from_numpy(data_IQ),torch.from_numpy(TRUTH), loop_counter, seg_freq\n",
    "    def __len__(self):\n",
    "        return self.num_examples "
   ]
  },
  {
   "cell_type": "code",
   "execution_count": 67,
   "metadata": {},
   "outputs": [],
   "source": [
    "# Inference Dataloader with labels\n",
    "class inference_dataloader_segmented(data.Dataset):\n",
    "    def __init__(self):\n",
    "        self.dataPath = path\n",
    "        self.num_classes = 12\n",
    "        self.num_examples = 1\n",
    "    def __getitem__(self, index):\n",
    "        sigmf_data = np.array(data_IQ_list_val[index]) \n",
    "        print('sigmf_data = ', sigmf_data.shape)\n",
    "        frequency, time, dims1 = sigmf_data.shape\n",
    "        print('frequency = ', frequency, '  time = ', time)\n",
    "        data_IQ = []\n",
    "        data_IQ_temp2 = []\n",
    "        seg_t = 224  \n",
    "        seg_f = 224 \n",
    "        seg_time = time//seg_t\n",
    "        seg_freq = frequency//seg_f\n",
    "        print('seg_time = ', seg_time, 'seg_freq = ', seg_freq)\n",
    "        # Segment the time axis\n",
    "        for j in range(seg_time): \n",
    "                # Segment the frequency axis\n",
    "                for k in range(seg_freq): \n",
    "                    IQ = sigmf_data[seg_f*k:(seg_f)+seg_f*k,seg_t*j:(seg_t)+seg_t*j]\n",
    "                    data_IQ_temp2.append(IQ)            \n",
    "        data_IQ = np.array(data_IQ_temp2)\n",
    "        print('data_IQ shape = ', data_IQ.shape)\n",
    "        loop_counter, dim1, dim2, dim3 = data_IQ.shape\n",
    "        TRUTH =  meta_encoder(meta_list_val, self.num_classes)\n",
    "        TRUTH = TRUTH.astype(np.float32)\n",
    "        return torch.from_numpy(data_IQ),torch.from_numpy(TRUTH), loop_counter, seg_freq\n",
    "    def __len__(self):\n",
    "        return self.num_examples "
   ]
  },
  {
   "cell_type": "markdown",
   "metadata": {},
   "source": [
    "### validation functions"
   ]
  },
  {
   "cell_type": "code",
   "execution_count": 68,
   "metadata": {},
   "outputs": [],
   "source": [
    "def validation_read():    \n",
    "    # Inference DATA READING ************************************************\n",
    "    # read in validation IQ and meta data\n",
    "    os.chdir(path_val)\n",
    "    data_files_validation = sorted(glob.glob('*.sigmf-data'))\n",
    "    meta_files_validation = sorted(glob.glob('*.sigmf-meta'))\n",
    "    for meta in meta_files_validation:\n",
    "        all_meta_data = json.load(open(meta))\n",
    "        print(\"validation file name = \", meta)\n",
    "    # Load validation sigmf-data files\n",
    "    meta_list_val = read_meta(meta_files_validation)\n",
    "    data_IQ_list_val = iq_read(data_files_validation)\n",
    "    return data_IQ_list_val, meta_list_val"
   ]
  },
  {
   "cell_type": "code",
   "execution_count": 69,
   "metadata": {},
   "outputs": [],
   "source": [
    "def testing_read():\n",
    "    print('testing_read function')\n",
    "    # Inference DATA READING ************************************************\n",
    "    # read in validation IQ and meta data\n",
    "    os.chdir(path_val)\n",
    "    data_files_validation = sorted(glob.glob('*.sigmf-data'))\n",
    "    meta_files_validation = sorted(glob.glob('*.sigmf-meta'))\n",
    "    for meta in meta_files_validation:\n",
    "        all_meta_data = json.load(open(meta))\n",
    "        print(\"testing file name = \", meta)\n",
    "    meta_list_val = read_meta(meta_files_validation)\n",
    "    data_IQ_list_val = iq_read_test_file(data_files_validation)\n",
    "    return data_IQ_list_val, meta_list_val"
   ]
  },
  {
   "cell_type": "markdown",
   "metadata": {},
   "source": [
    "#### Changed to get test data from different directory"
   ]
  },
  {
   "cell_type": "code",
   "execution_count": 70,
   "metadata": {},
   "outputs": [],
   "source": [
    "def inference_read(msps):    \n",
    "    # Inference DATA READING ************************************************\n",
    "    # read in validation IQ and meta data\n",
    "    os.chdir(path_ram)\n",
    "    data_files_validation = sorted(glob.glob('*.sigmf-data'))\n",
    "    meta_files_validation = sorted(glob.glob('*.sigmf-meta'))\n",
    "    for meta in meta_files_validation:\n",
    "        all_meta_data = json.load(open(meta))\n",
    "        print(\"inference file name = \", meta)\n",
    "    # Load validation sigmf-data files\n",
    "    meta_list_val = read_meta(meta_files_validation)\n",
    "    data_IQ_list_val = iq_read_test_live(data_files_validation,msps)\n",
    "    return data_IQ_list_val, meta_list_val"
   ]
  },
  {
   "cell_type": "code",
   "execution_count": 71,
   "metadata": {},
   "outputs": [],
   "source": [
    "def inference_read_file(msps,path):    \n",
    "    # Inference DATA READING ************************************************\n",
    "    # read in validation IQ and meta data\n",
    "    os.chdir(path)\n",
    "    data_files_validation = sorted(glob.glob('*.sigmf-data'))\n",
    "    meta_files_validation = sorted(glob.glob('*.sigmf-meta'))\n",
    "    for meta in meta_files_validation:\n",
    "        all_meta_data = json.load(open(meta))\n",
    "        print(\"inference file name = \", meta)\n",
    "    # Load validation sigmf-data files\n",
    "    meta_list_val = read_meta(meta_files_validation)\n",
    "    data_IQ_list_val = iq_read_test_live(data_files_validation,msps)\n",
    "    return data_IQ_list_val, meta_list_val"
   ]
  },
  {
   "cell_type": "code",
   "execution_count": 72,
   "metadata": {},
   "outputs": [],
   "source": [
    "    # inference ************************************************************\n",
    "def testing_file(msps):    \n",
    "        large_width = 400\n",
    "        np.set_printoptions(precision=2,floatmode='fixed', linewidth=large_width)\n",
    "        model.eval()\n",
    "        V = data.DataLoader(inference_dataloader_segmented(), batch_size=1)\n",
    "        start_frequency = (center_freq_file)\n",
    "        match_freq = start_frequency\n",
    "        print('start_frequency = ', start_frequency/1000000)\n",
    "        freq_offset = 0       \n",
    "        total = noise = center_fft = target_to_int = accumulated_corrects = percent_correct = 0\n",
    "        c0 = c1 = c2 = c3 = c4 = c5 = c6 = c7 = c8 = c9 = 0\n",
    "#         total = 68\n",
    "        with torch.no_grad():\n",
    "            for i, rf_data in enumerate(V, 0):   \n",
    "                accumulated_corrects = 0\n",
    "                percent_correct = 0\n",
    "                target_to_int = 0\n",
    "                inputs, target, counter, seg_freq = rf_data \n",
    "                print('testing counter = ', counter, 'seg_freq =', seg_freq)\n",
    "#**************************** Print segmented pics ***********************************\n",
    "#                 stft_plot = np.squeeze(inputs, axis=0)\n",
    "#                 fig=plt.figure(figsize=(8,8))\n",
    "#                 ncols = 5\n",
    "#                 nrows = 5\n",
    "#                 range_plot = 1\n",
    "#                 for x in range(1,22): # need to figure out how to not hard code this ********************* <-----\n",
    "#                     stft_mean, stft_std = histo_stats(stft_plot[x,:,:,:])\n",
    "#                     if (x>=range_plot and x<(range_plot+25)):\n",
    "#                         stft_plot1 =  10*np.log10(np.abs(stft_plot[x, :, :, 0]+eps))\n",
    "#                         stft_plot1 = np.squeeze(stft_plot1, axis=0)\n",
    "#                         fig.add_subplot(nrows, ncols, x-range_plot+1)\n",
    "#                         plt.imshow(stft_plot1, vmin=-70, vmax=5)\n",
    "#                 plt.show()\n",
    "#******************************************************************************************    \n",
    "                freq_increment = (Fs*msps/2)/seg_freq.detach().cpu().numpy().item()\n",
    "                print('freq_increment = ', freq_increment)\n",
    "                print('TESTING inputs SHAPE = ', inputs.shape)\n",
    "                target = Variable(target.cuda(GPU)) \n",
    "                print('input in   = ', inputs.shape)\n",
    "                inputs = torch.squeeze(inputs, dim=0)\n",
    "                print('input out  = ', inputs.shape)\n",
    "                inputs = inputs.permute(0,3,1,2).contiguous()\n",
    "                print('counter convert stuff = ', counter, type(counter.numpy()))\n",
    "                inputs = Variable(inputs.cuda(GPU))\n",
    "                print('permuted shape = ', inputs.shape)\n",
    "                freq_count = 0 # keep track of array position\n",
    "                freq_histo = np.zeros(counter.numpy())\n",
    "                for j in range(counter):\n",
    "                    inputs2 = inputs[j,:,:,:]\n",
    "                    inputs2 = torch.unsqueeze(inputs2,0)\n",
    "                    outputs = model(inputs2)\n",
    "                    _, predicted = torch.max(outputs.data, 1) \n",
    "#******************************* Print prediction range to match pics above ***********        \n",
    "#                     if (j>=range_plot and j<(range_plot+25)):                    \n",
    "#                         print(\"j= \",j,' ',outputs.data.detach().cpu().numpy())\n",
    "#                         print('prediction = ', predicted.detach().cpu().numpy())\n",
    "#*************************************************************************************               \n",
    "                    total = total +1  # Increment the total count\n",
    "                    match_freq = match_freq + freq_offset*freq_increment\n",
    "                    if (predicted.detach().cpu().numpy() == 0):\n",
    "                        c0 = c0 + 1  \n",
    "                        freq_histo[j] = match_freq/1000000\n",
    "                    if (predicted.detach().cpu().numpy() == 1):\n",
    "                        c1 = c1 + 1\n",
    "                        freq_histo[j] = match_freq/1000000\n",
    "                    if (predicted.detach().cpu().numpy() == 2):\n",
    "                        c2 = c2 + 1\n",
    "                        freq_histo[j] = match_freq/1000000\n",
    "                    if (predicted.detach().cpu().numpy() == 3):\n",
    "                        c3 = c3 + 1\n",
    "                        freq_histo[j] = match_freq/1000000            \n",
    "                    if (predicted.detach().cpu().numpy() == 4):\n",
    "                        c4 = c4 + 1\n",
    "                        freq_histo[j] = match_freq/1000000            \n",
    "                    if (predicted.detach().cpu().numpy() == 5):\n",
    "                        c5 = c5 + 1 \n",
    "                        freq_histo[j] = match_freq/1000000            \n",
    "                    if (predicted.detach().cpu().numpy() == 6):\n",
    "                        c6 = c6 + 1 \n",
    "                        freq_histo[j] = match_freq/1000000            \n",
    "                    if (predicted.detach().cpu().numpy() == 7):\n",
    "                        c7 = c7 + 1 \n",
    "                        freq_histo[j] = match_freq/1000000            \n",
    "                    if (predicted.detach().cpu().numpy() == 8):\n",
    "                        noise = noise + 1\n",
    "                    if (predicted.detach().cpu().numpy() == 9):\n",
    "                        center_fft = center_fft + 1  \n",
    "                    if (predicted.detach().cpu().numpy() == 10):\n",
    "                        c8 = c8 + 1  \n",
    "                        freq_histo[j] = match_freq/1000000            \n",
    "                    if (predicted.detach().cpu().numpy() == 11):\n",
    "                        c9 = c9 + 1 \n",
    "                        freq_histo[j] = match_freq/1000000            \n",
    "                    freq_offset = freq_offset + 1\n",
    "                    if (freq_offset == seg_freq):\n",
    "                        freq_offset = 0\n",
    "                    match_freq = start_frequency\n",
    "                torch.cuda.empty_cache()\n",
    "                # complete ******************************************************\n",
    "                freq_histo = np.ma.masked_equal(freq_histo, 0)\n",
    "                histo_stats_freq_file(freq_histo,msps)\n",
    "                denom = total-center_fft-noise\n",
    "                print('************************* Probabilities ********************************')\n",
    "                print('----------------------------WAVEFORMS-----------------------------------')\n",
    "                if (denom == 0):\n",
    "                    print('Nothing but noise')\n",
    "                else:\n",
    "                    print('LoRa 125 = {:.2f}%'.format(c0/denom*100))\n",
    "                    print('GD55 DMR = {:.2f}%'.format(c1/denom*100))\n",
    "                    print('NFM = {:.2f}%'.format(c2/denom*100))\n",
    "                    print('TYT = {:.2f}'.format(c3/denom*100))\n",
    "                    print('Vodeson Doorbell = {:.2f}%'.format(c4/denom*100))\n",
    "                    print('clickndig = {:.2f}%'.format(c5/denom*100))\n",
    "                    print('Sado doorbell = {:.2f}%'.format(c6/denom*100))\n",
    "                    print('LoRa 250 = {:.2f}%'.format(c7/denom*100))\n",
    "                    print('light switch = {:.2f}%'.format(c8/denom*100))\n",
    "                    print('YSF = {:.2f}%'.format(c9/denom*100))\n",
    "                print('------------------------------------------------------------------------')\n",
    "                print('***************************** noise and fft ****************************')\n",
    "                print('noise matches = ', noise)\n",
    "                print('center fft matches = ', center_fft)\n",
    "                print('TOTAL patch count = ', total)\n",
    "                print('***************************** Finished *********************************')"
   ]
  },
  {
   "cell_type": "code",
   "execution_count": 73,
   "metadata": {},
   "outputs": [],
   "source": [
    "    # inference ************************************************************\n",
    "def testing_live(msps):    \n",
    "        large_width = 400\n",
    "        np.set_printoptions(precision=2,floatmode='fixed', linewidth=large_width)\n",
    "        model.eval()\n",
    "        V = data.DataLoader(inference_dataloader_segmented(), batch_size=1)\n",
    "        start_frequency = (center_freq_live)\n",
    "        match_freq = start_frequency\n",
    "        print('start_frequency = ', start_frequency/1000000)\n",
    "        freq_offset = 0       \n",
    "        total = noise = center_fft = target_to_int = accumulated_corrects = percent_correct = 0\n",
    "        c0 = c1 = c2 = c3 = c4 = c5 = c6 = c7 = c8 = c9 = 0\n",
    "        with torch.no_grad():\n",
    "            for i, rf_data in enumerate(V, 0):   \n",
    "                accumulated_corrects = 0\n",
    "                percent_correct = 0\n",
    "                target_to_int = 0\n",
    "                inputs, target, counter, seg_freq = rf_data \n",
    "                print('testing counter = ', counter, 'seg_freq =', seg_freq)\n",
    "                print('seg_freq = ', seg_freq)\n",
    "#**************************** Print segmented pics ***********************************\n",
    "                stft_plot = np.squeeze(inputs, axis=0)\n",
    "                fig=plt.figure(figsize=(8,8))\n",
    "                ncols = 5\n",
    "                nrows = 5\n",
    "                range_plot = 1\n",
    "                range_end = range_plot+5\n",
    "                for x in range(1,51): # need to figure out how to not hard code this ********************* <-----\n",
    "                    if (x>=range_plot and x<(range_end)):\n",
    "                        stft_plot1 =  stft_plot[x, :, :, 1]\n",
    "                        stft_plot1 =  10*np.log10(np.abs(stft_plot[x, :, :, 0]+eps))\n",
    "                        fig.add_subplot(nrows, ncols, x-range_plot+1)\n",
    "                        plt.imshow(stft_plot1, vmin=-70, vmax=5)\n",
    "                plt.show()\n",
    "#******************************************************************************************    \n",
    "                freq_increment = (Fs*msps/2)/seg_freq.detach().cpu().numpy().item()\n",
    "                print('freq_increment = ', freq_increment)\n",
    "                print('TESTING inputs SHAPE = ', inputs.shape)\n",
    "                target = Variable(target.cuda(GPU)) \n",
    "                print('input in   = ', inputs.shape)\n",
    "                inputs = torch.squeeze(inputs, dim=0)\n",
    "                print('input out  = ', inputs.shape)\n",
    "                inputs = inputs.permute(0,3,1,2).contiguous()\n",
    "                print('counter convert stuff = ', counter, type(counter.numpy()))\n",
    "                inputs = Variable(inputs.cuda(GPU))\n",
    "                print('permuted shape = ', inputs.shape)\n",
    "                freq_count = 0 # keep track of array position\n",
    "                freq_histo = np.zeros(counter.numpy())\n",
    "                for j in range(counter):\n",
    "                    inputs2 = inputs[j,:,:,:]\n",
    "                    inputs2 = torch.unsqueeze(inputs2,0)\n",
    "                    outputs = model(inputs2)\n",
    "                    _, predicted = torch.max(outputs.data, 1) \n",
    "#******************************* Print prediction range to match pics above ***********        \n",
    "#                     if (j>=range_plot and j<(range_end)):                    \n",
    "# #                         print(\"j= \",j,' ',outputs.data.detach().cpu().numpy())\n",
    "#                         print('prediction = ', predicted.detach().cpu().numpy())\n",
    "#                         print('******************')\n",
    "#*************************************************************************************              \n",
    "                    total = total +1  # Increment the total count\n",
    "                    match_freq = match_freq + freq_offset*freq_increment\n",
    "                    if (predicted.detach().cpu().numpy() == 0):\n",
    "                        c0 = c0 + 1  \n",
    "                        freq_histo[j] = match_freq/1000000\n",
    "                    if (predicted.detach().cpu().numpy() == 1):\n",
    "                        c1 = c1 + 1\n",
    "                        freq_histo[j] = match_freq/1000000\n",
    "                    if (predicted.detach().cpu().numpy() == 2):\n",
    "                        c2 = c2 + 1\n",
    "                        freq_histo[j] = match_freq/1000000\n",
    "                    if (predicted.detach().cpu().numpy() == 3):\n",
    "                        c3 = c3 + 1\n",
    "                        freq_histo[j] = match_freq/1000000            \n",
    "                    if (predicted.detach().cpu().numpy() == 4):\n",
    "                        c4 = c4 + 1\n",
    "                        freq_histo[j] = match_freq/1000000            \n",
    "                    if (predicted.detach().cpu().numpy() == 5):\n",
    "                        c5 = c5 + 1 \n",
    "                        freq_histo[j] = match_freq/1000000            \n",
    "                    if (predicted.detach().cpu().numpy() == 6):\n",
    "                        c6 = c6 + 1 \n",
    "                        freq_histo[j] = match_freq/1000000            \n",
    "                    if (predicted.detach().cpu().numpy() == 7):\n",
    "                        c7 = c7 + 1 \n",
    "                        freq_histo[j] = match_freq/1000000            \n",
    "                    if (predicted.detach().cpu().numpy() == 8):\n",
    "                        noise = noise + 1\n",
    "                    if (predicted.detach().cpu().numpy() == 9):\n",
    "                        center_fft = center_fft + 1  \n",
    "                    if (predicted.detach().cpu().numpy() == 10):\n",
    "                        c8 = c8 + 1  \n",
    "                        freq_histo[j] = match_freq/1000000            \n",
    "                    if (predicted.detach().cpu().numpy() == 11):\n",
    "                        c9 = c9 + 1 \n",
    "                        freq_histo[j] = match_freq/1000000            \n",
    "                    freq_offset = freq_offset + 1\n",
    "                    if (freq_offset == seg_freq):\n",
    "                        freq_offset = 0\n",
    "                    match_freq = start_frequency\n",
    "                torch.cuda.empty_cache()\n",
    "                # complete ******************************************************\n",
    "                freq_histo = np.ma.masked_equal(freq_histo, 0)\n",
    "                histo_stats_freq_live(freq_histo,msps)\n",
    "                denom = total-center_fft-noise\n",
    "                print('************************* Probabilities ********************************')\n",
    "                print('----------------------------WAVEFORMS-----------------------------------')\n",
    "                if (denom == 0):\n",
    "                    print('Nothing but noise')\n",
    "                else:\n",
    "                    print('LoRa 125 = {:.2f}%'.format(c0/denom*100))\n",
    "                    print('GD55 DMR = {:.2f}%'.format(c1/denom*100))\n",
    "                    print('NFM = {:.2f}%'.format(c2/denom*100))\n",
    "                    print('TYT = {:.2f}'.format(c3/denom*100))\n",
    "                    print('Vodeson Doorbell = {:.2f}%'.format(c4/denom*100))\n",
    "                    print('clickndig = {:.2f}%'.format(c5/denom*100))\n",
    "                    print('Sado doorbell = {:.2f}%'.format(c6/denom*100))\n",
    "                    print('LoRa 250 = {:.2f}%'.format(c7/denom*100))\n",
    "                    print('light switch = {:.2f}%'.format(c8/denom*100))\n",
    "                    print('YSF = {:.2f}%'.format(c9/denom*100))\n",
    "                print('------------------------------------------------------------------------')\n",
    "                print('***************************** noise and fft ****************************')\n",
    "                print('noise matches = ', noise)\n",
    "                print('center fft matches = ', center_fft)\n",
    "                print('TOTAL patch count = ', total)\n",
    "                print('***************************** Finished *********************************')"
   ]
  },
  {
   "cell_type": "code",
   "execution_count": 74,
   "metadata": {},
   "outputs": [
    {
     "name": "stdout",
     "output_type": "stream",
     "text": [
      "/home/david/sigMF_ML/RF/RF_class/data/\n"
     ]
    }
   ],
   "source": [
    "train_dataloader = RFDataset(path)"
   ]
  },
  {
   "cell_type": "code",
   "execution_count": 75,
   "metadata": {},
   "outputs": [],
   "source": [
    "training_data = data.DataLoader(train_dataloader, batch_size=batches, shuffle=True)"
   ]
  },
  {
   "cell_type": "markdown",
   "metadata": {},
   "source": [
    "## CUDA initialization"
   ]
  },
  {
   "cell_type": "code",
   "execution_count": 76,
   "metadata": {},
   "outputs": [
    {
     "data": {
      "text/plain": [
       "True"
      ]
     },
     "execution_count": 76,
     "metadata": {},
     "output_type": "execute_result"
    }
   ],
   "source": [
    "model = resnet18(2, 12) # number of input channels, number of classes\n",
    "CUDA = torch.cuda.is_available()\n",
    "if CUDA:\n",
    "    model.cuda(GPU)\n",
    "CUDA  "
   ]
  },
  {
   "cell_type": "code",
   "execution_count": 77,
   "metadata": {},
   "outputs": [],
   "source": [
    "torch.cuda.empty_cache()"
   ]
  },
  {
   "cell_type": "markdown",
   "metadata": {},
   "source": [
    "## Final training initialization"
   ]
  },
  {
   "cell_type": "code",
   "execution_count": 78,
   "metadata": {
    "scrolled": true
   },
   "outputs": [
    {
     "data": {
      "text/plain": [
       "ResNet(\n",
       "  (encoder): ResNetEncoder(\n",
       "    (gate): Sequential(\n",
       "      (0): Conv2d(2, 64, kernel_size=(7, 7), stride=(2, 2), padding=(3, 3), bias=False)\n",
       "      (1): BatchNorm2d(64, eps=1e-05, momentum=0.1, affine=True, track_running_stats=True)\n",
       "      (2): ReLU()\n",
       "      (3): MaxPool2d(kernel_size=3, stride=2, padding=1, dilation=1, ceil_mode=False)\n",
       "    )\n",
       "    (blocks): ModuleList(\n",
       "      (0): ResNetLayer(\n",
       "        (blocks): Sequential(\n",
       "          (0): ResNetBasicBlock(\n",
       "            (blocks): Sequential(\n",
       "              (0): Sequential(\n",
       "                (conv): Conv2dAuto(64, 64, kernel_size=(3, 3), stride=(1, 1), padding=(1, 1), bias=False)\n",
       "                (bn): BatchNorm2d(64, eps=1e-05, momentum=0.1, affine=True, track_running_stats=True)\n",
       "              )\n",
       "              (1): ReLU()\n",
       "              (2): Sequential(\n",
       "                (conv): Conv2dAuto(64, 64, kernel_size=(3, 3), stride=(1, 1), padding=(1, 1), bias=False)\n",
       "                (bn): BatchNorm2d(64, eps=1e-05, momentum=0.1, affine=True, track_running_stats=True)\n",
       "              )\n",
       "            )\n",
       "            (shortcut): None\n",
       "          )\n",
       "          (1): ResNetBasicBlock(\n",
       "            (blocks): Sequential(\n",
       "              (0): Sequential(\n",
       "                (conv): Conv2dAuto(64, 64, kernel_size=(3, 3), stride=(1, 1), padding=(1, 1), bias=False)\n",
       "                (bn): BatchNorm2d(64, eps=1e-05, momentum=0.1, affine=True, track_running_stats=True)\n",
       "              )\n",
       "              (1): ReLU()\n",
       "              (2): Sequential(\n",
       "                (conv): Conv2dAuto(64, 64, kernel_size=(3, 3), stride=(1, 1), padding=(1, 1), bias=False)\n",
       "                (bn): BatchNorm2d(64, eps=1e-05, momentum=0.1, affine=True, track_running_stats=True)\n",
       "              )\n",
       "            )\n",
       "            (shortcut): None\n",
       "          )\n",
       "        )\n",
       "      )\n",
       "      (1): ResNetLayer(\n",
       "        (blocks): Sequential(\n",
       "          (0): ResNetBasicBlock(\n",
       "            (blocks): Sequential(\n",
       "              (0): Sequential(\n",
       "                (conv): Conv2dAuto(64, 128, kernel_size=(3, 3), stride=(2, 2), padding=(1, 1), bias=False)\n",
       "                (bn): BatchNorm2d(128, eps=1e-05, momentum=0.1, affine=True, track_running_stats=True)\n",
       "              )\n",
       "              (1): ReLU()\n",
       "              (2): Sequential(\n",
       "                (conv): Conv2dAuto(128, 128, kernel_size=(3, 3), stride=(1, 1), padding=(1, 1), bias=False)\n",
       "                (bn): BatchNorm2d(128, eps=1e-05, momentum=0.1, affine=True, track_running_stats=True)\n",
       "              )\n",
       "            )\n",
       "            (shortcut): Sequential(\n",
       "              (conv): Conv2d(64, 128, kernel_size=(1, 1), stride=(2, 2), bias=False)\n",
       "              (bn): BatchNorm2d(128, eps=1e-05, momentum=0.1, affine=True, track_running_stats=True)\n",
       "            )\n",
       "          )\n",
       "          (1): ResNetBasicBlock(\n",
       "            (blocks): Sequential(\n",
       "              (0): Sequential(\n",
       "                (conv): Conv2dAuto(128, 128, kernel_size=(3, 3), stride=(1, 1), padding=(1, 1), bias=False)\n",
       "                (bn): BatchNorm2d(128, eps=1e-05, momentum=0.1, affine=True, track_running_stats=True)\n",
       "              )\n",
       "              (1): ReLU()\n",
       "              (2): Sequential(\n",
       "                (conv): Conv2dAuto(128, 128, kernel_size=(3, 3), stride=(1, 1), padding=(1, 1), bias=False)\n",
       "                (bn): BatchNorm2d(128, eps=1e-05, momentum=0.1, affine=True, track_running_stats=True)\n",
       "              )\n",
       "            )\n",
       "            (shortcut): None\n",
       "          )\n",
       "        )\n",
       "      )\n",
       "      (2): ResNetLayer(\n",
       "        (blocks): Sequential(\n",
       "          (0): ResNetBasicBlock(\n",
       "            (blocks): Sequential(\n",
       "              (0): Sequential(\n",
       "                (conv): Conv2dAuto(128, 256, kernel_size=(3, 3), stride=(2, 2), padding=(1, 1), bias=False)\n",
       "                (bn): BatchNorm2d(256, eps=1e-05, momentum=0.1, affine=True, track_running_stats=True)\n",
       "              )\n",
       "              (1): ReLU()\n",
       "              (2): Sequential(\n",
       "                (conv): Conv2dAuto(256, 256, kernel_size=(3, 3), stride=(1, 1), padding=(1, 1), bias=False)\n",
       "                (bn): BatchNorm2d(256, eps=1e-05, momentum=0.1, affine=True, track_running_stats=True)\n",
       "              )\n",
       "            )\n",
       "            (shortcut): Sequential(\n",
       "              (conv): Conv2d(128, 256, kernel_size=(1, 1), stride=(2, 2), bias=False)\n",
       "              (bn): BatchNorm2d(256, eps=1e-05, momentum=0.1, affine=True, track_running_stats=True)\n",
       "            )\n",
       "          )\n",
       "          (1): ResNetBasicBlock(\n",
       "            (blocks): Sequential(\n",
       "              (0): Sequential(\n",
       "                (conv): Conv2dAuto(256, 256, kernel_size=(3, 3), stride=(1, 1), padding=(1, 1), bias=False)\n",
       "                (bn): BatchNorm2d(256, eps=1e-05, momentum=0.1, affine=True, track_running_stats=True)\n",
       "              )\n",
       "              (1): ReLU()\n",
       "              (2): Sequential(\n",
       "                (conv): Conv2dAuto(256, 256, kernel_size=(3, 3), stride=(1, 1), padding=(1, 1), bias=False)\n",
       "                (bn): BatchNorm2d(256, eps=1e-05, momentum=0.1, affine=True, track_running_stats=True)\n",
       "              )\n",
       "            )\n",
       "            (shortcut): None\n",
       "          )\n",
       "        )\n",
       "      )\n",
       "      (3): ResNetLayer(\n",
       "        (blocks): Sequential(\n",
       "          (0): ResNetBasicBlock(\n",
       "            (blocks): Sequential(\n",
       "              (0): Sequential(\n",
       "                (conv): Conv2dAuto(256, 512, kernel_size=(3, 3), stride=(2, 2), padding=(1, 1), bias=False)\n",
       "                (bn): BatchNorm2d(512, eps=1e-05, momentum=0.1, affine=True, track_running_stats=True)\n",
       "              )\n",
       "              (1): ReLU()\n",
       "              (2): Sequential(\n",
       "                (conv): Conv2dAuto(512, 512, kernel_size=(3, 3), stride=(1, 1), padding=(1, 1), bias=False)\n",
       "                (bn): BatchNorm2d(512, eps=1e-05, momentum=0.1, affine=True, track_running_stats=True)\n",
       "              )\n",
       "            )\n",
       "            (shortcut): Sequential(\n",
       "              (conv): Conv2d(256, 512, kernel_size=(1, 1), stride=(2, 2), bias=False)\n",
       "              (bn): BatchNorm2d(512, eps=1e-05, momentum=0.1, affine=True, track_running_stats=True)\n",
       "            )\n",
       "          )\n",
       "          (1): ResNetBasicBlock(\n",
       "            (blocks): Sequential(\n",
       "              (0): Sequential(\n",
       "                (conv): Conv2dAuto(512, 512, kernel_size=(3, 3), stride=(1, 1), padding=(1, 1), bias=False)\n",
       "                (bn): BatchNorm2d(512, eps=1e-05, momentum=0.1, affine=True, track_running_stats=True)\n",
       "              )\n",
       "              (1): ReLU()\n",
       "              (2): Sequential(\n",
       "                (conv): Conv2dAuto(512, 512, kernel_size=(3, 3), stride=(1, 1), padding=(1, 1), bias=False)\n",
       "                (bn): BatchNorm2d(512, eps=1e-05, momentum=0.1, affine=True, track_running_stats=True)\n",
       "              )\n",
       "            )\n",
       "            (shortcut): None\n",
       "          )\n",
       "        )\n",
       "      )\n",
       "    )\n",
       "  )\n",
       "  (decoder): ResnetDecoder(\n",
       "    (avg): AdaptiveAvgPool2d(output_size=(1, 1))\n",
       "    (decoder): Linear(in_features=512, out_features=12, bias=True)\n",
       "  )\n",
       ")"
      ]
     },
     "execution_count": 78,
     "metadata": {},
     "output_type": "execute_result"
    }
   ],
   "source": [
    "# momentum = .3\n",
    "criterion = nn.CrossEntropyLoss()\n",
    "lr= 1e-4\n",
    "optimizer = optim.Adam(model.parameters(), lr=lr)\n",
    "# optimizer = optim.SGD(model.parameters(), lr=lr,momentum=momentum)\n",
    "# optimizer = optim.RMSprop(model.parameters(), lr=lr,momentum=momentum)\n",
    "# optimizer = optim.SGD(model.parameters(), lr=lr)\n",
    "# training_data = data.DataLoader(rf_dataset, batch_size=batches, shuffle=True)\n",
    "model.train()"
   ]
  },
  {
   "cell_type": "code",
   "execution_count": 79,
   "metadata": {
    "scrolled": true
   },
   "outputs": [
    {
     "data": {
      "text/plain": [
       "ResNet(\n",
       "  (encoder): ResNetEncoder(\n",
       "    (gate): Sequential(\n",
       "      (0): Conv2d(2, 64, kernel_size=(7, 7), stride=(2, 2), padding=(3, 3), bias=False)\n",
       "      (1): BatchNorm2d(64, eps=1e-05, momentum=0.1, affine=True, track_running_stats=True)\n",
       "      (2): ReLU()\n",
       "      (3): MaxPool2d(kernel_size=3, stride=2, padding=1, dilation=1, ceil_mode=False)\n",
       "    )\n",
       "    (blocks): ModuleList(\n",
       "      (0): ResNetLayer(\n",
       "        (blocks): Sequential(\n",
       "          (0): ResNetBasicBlock(\n",
       "            (blocks): Sequential(\n",
       "              (0): Sequential(\n",
       "                (conv): Conv2dAuto(64, 64, kernel_size=(3, 3), stride=(1, 1), padding=(1, 1), bias=False)\n",
       "                (bn): BatchNorm2d(64, eps=1e-05, momentum=0.1, affine=True, track_running_stats=True)\n",
       "              )\n",
       "              (1): ReLU()\n",
       "              (2): Sequential(\n",
       "                (conv): Conv2dAuto(64, 64, kernel_size=(3, 3), stride=(1, 1), padding=(1, 1), bias=False)\n",
       "                (bn): BatchNorm2d(64, eps=1e-05, momentum=0.1, affine=True, track_running_stats=True)\n",
       "              )\n",
       "            )\n",
       "            (shortcut): None\n",
       "          )\n",
       "          (1): ResNetBasicBlock(\n",
       "            (blocks): Sequential(\n",
       "              (0): Sequential(\n",
       "                (conv): Conv2dAuto(64, 64, kernel_size=(3, 3), stride=(1, 1), padding=(1, 1), bias=False)\n",
       "                (bn): BatchNorm2d(64, eps=1e-05, momentum=0.1, affine=True, track_running_stats=True)\n",
       "              )\n",
       "              (1): ReLU()\n",
       "              (2): Sequential(\n",
       "                (conv): Conv2dAuto(64, 64, kernel_size=(3, 3), stride=(1, 1), padding=(1, 1), bias=False)\n",
       "                (bn): BatchNorm2d(64, eps=1e-05, momentum=0.1, affine=True, track_running_stats=True)\n",
       "              )\n",
       "            )\n",
       "            (shortcut): None\n",
       "          )\n",
       "        )\n",
       "      )\n",
       "      (1): ResNetLayer(\n",
       "        (blocks): Sequential(\n",
       "          (0): ResNetBasicBlock(\n",
       "            (blocks): Sequential(\n",
       "              (0): Sequential(\n",
       "                (conv): Conv2dAuto(64, 128, kernel_size=(3, 3), stride=(2, 2), padding=(1, 1), bias=False)\n",
       "                (bn): BatchNorm2d(128, eps=1e-05, momentum=0.1, affine=True, track_running_stats=True)\n",
       "              )\n",
       "              (1): ReLU()\n",
       "              (2): Sequential(\n",
       "                (conv): Conv2dAuto(128, 128, kernel_size=(3, 3), stride=(1, 1), padding=(1, 1), bias=False)\n",
       "                (bn): BatchNorm2d(128, eps=1e-05, momentum=0.1, affine=True, track_running_stats=True)\n",
       "              )\n",
       "            )\n",
       "            (shortcut): Sequential(\n",
       "              (conv): Conv2d(64, 128, kernel_size=(1, 1), stride=(2, 2), bias=False)\n",
       "              (bn): BatchNorm2d(128, eps=1e-05, momentum=0.1, affine=True, track_running_stats=True)\n",
       "            )\n",
       "          )\n",
       "          (1): ResNetBasicBlock(\n",
       "            (blocks): Sequential(\n",
       "              (0): Sequential(\n",
       "                (conv): Conv2dAuto(128, 128, kernel_size=(3, 3), stride=(1, 1), padding=(1, 1), bias=False)\n",
       "                (bn): BatchNorm2d(128, eps=1e-05, momentum=0.1, affine=True, track_running_stats=True)\n",
       "              )\n",
       "              (1): ReLU()\n",
       "              (2): Sequential(\n",
       "                (conv): Conv2dAuto(128, 128, kernel_size=(3, 3), stride=(1, 1), padding=(1, 1), bias=False)\n",
       "                (bn): BatchNorm2d(128, eps=1e-05, momentum=0.1, affine=True, track_running_stats=True)\n",
       "              )\n",
       "            )\n",
       "            (shortcut): None\n",
       "          )\n",
       "        )\n",
       "      )\n",
       "      (2): ResNetLayer(\n",
       "        (blocks): Sequential(\n",
       "          (0): ResNetBasicBlock(\n",
       "            (blocks): Sequential(\n",
       "              (0): Sequential(\n",
       "                (conv): Conv2dAuto(128, 256, kernel_size=(3, 3), stride=(2, 2), padding=(1, 1), bias=False)\n",
       "                (bn): BatchNorm2d(256, eps=1e-05, momentum=0.1, affine=True, track_running_stats=True)\n",
       "              )\n",
       "              (1): ReLU()\n",
       "              (2): Sequential(\n",
       "                (conv): Conv2dAuto(256, 256, kernel_size=(3, 3), stride=(1, 1), padding=(1, 1), bias=False)\n",
       "                (bn): BatchNorm2d(256, eps=1e-05, momentum=0.1, affine=True, track_running_stats=True)\n",
       "              )\n",
       "            )\n",
       "            (shortcut): Sequential(\n",
       "              (conv): Conv2d(128, 256, kernel_size=(1, 1), stride=(2, 2), bias=False)\n",
       "              (bn): BatchNorm2d(256, eps=1e-05, momentum=0.1, affine=True, track_running_stats=True)\n",
       "            )\n",
       "          )\n",
       "          (1): ResNetBasicBlock(\n",
       "            (blocks): Sequential(\n",
       "              (0): Sequential(\n",
       "                (conv): Conv2dAuto(256, 256, kernel_size=(3, 3), stride=(1, 1), padding=(1, 1), bias=False)\n",
       "                (bn): BatchNorm2d(256, eps=1e-05, momentum=0.1, affine=True, track_running_stats=True)\n",
       "              )\n",
       "              (1): ReLU()\n",
       "              (2): Sequential(\n",
       "                (conv): Conv2dAuto(256, 256, kernel_size=(3, 3), stride=(1, 1), padding=(1, 1), bias=False)\n",
       "                (bn): BatchNorm2d(256, eps=1e-05, momentum=0.1, affine=True, track_running_stats=True)\n",
       "              )\n",
       "            )\n",
       "            (shortcut): None\n",
       "          )\n",
       "        )\n",
       "      )\n",
       "      (3): ResNetLayer(\n",
       "        (blocks): Sequential(\n",
       "          (0): ResNetBasicBlock(\n",
       "            (blocks): Sequential(\n",
       "              (0): Sequential(\n",
       "                (conv): Conv2dAuto(256, 512, kernel_size=(3, 3), stride=(2, 2), padding=(1, 1), bias=False)\n",
       "                (bn): BatchNorm2d(512, eps=1e-05, momentum=0.1, affine=True, track_running_stats=True)\n",
       "              )\n",
       "              (1): ReLU()\n",
       "              (2): Sequential(\n",
       "                (conv): Conv2dAuto(512, 512, kernel_size=(3, 3), stride=(1, 1), padding=(1, 1), bias=False)\n",
       "                (bn): BatchNorm2d(512, eps=1e-05, momentum=0.1, affine=True, track_running_stats=True)\n",
       "              )\n",
       "            )\n",
       "            (shortcut): Sequential(\n",
       "              (conv): Conv2d(256, 512, kernel_size=(1, 1), stride=(2, 2), bias=False)\n",
       "              (bn): BatchNorm2d(512, eps=1e-05, momentum=0.1, affine=True, track_running_stats=True)\n",
       "            )\n",
       "          )\n",
       "          (1): ResNetBasicBlock(\n",
       "            (blocks): Sequential(\n",
       "              (0): Sequential(\n",
       "                (conv): Conv2dAuto(512, 512, kernel_size=(3, 3), stride=(1, 1), padding=(1, 1), bias=False)\n",
       "                (bn): BatchNorm2d(512, eps=1e-05, momentum=0.1, affine=True, track_running_stats=True)\n",
       "              )\n",
       "              (1): ReLU()\n",
       "              (2): Sequential(\n",
       "                (conv): Conv2dAuto(512, 512, kernel_size=(3, 3), stride=(1, 1), padding=(1, 1), bias=False)\n",
       "                (bn): BatchNorm2d(512, eps=1e-05, momentum=0.1, affine=True, track_running_stats=True)\n",
       "              )\n",
       "            )\n",
       "            (shortcut): None\n",
       "          )\n",
       "        )\n",
       "      )\n",
       "    )\n",
       "  )\n",
       "  (decoder): ResnetDecoder(\n",
       "    (avg): AdaptiveAvgPool2d(output_size=(1, 1))\n",
       "    (decoder): Linear(in_features=512, out_features=12, bias=True)\n",
       "  )\n",
       ")"
      ]
     },
     "execution_count": 79,
     "metadata": {},
     "output_type": "execute_result"
    }
   ],
   "source": [
    "# VALIDATION ************************************************************\n",
    "np.set_printoptions(threshold=np.inf)\n",
    "calc = np.zeros([6])\n",
    "averaging = 0\n",
    "correct = 0\n",
    "total = 0\n",
    "V = data.DataLoader(inference_dataloader_segmented(), batch_size=1, shuffle=True)\n",
    "model.eval()"
   ]
  },
  {
   "cell_type": "markdown",
   "metadata": {},
   "source": [
    "### TRAIN Model"
   ]
  },
  {
   "cell_type": "code",
   "execution_count": 80,
   "metadata": {
    "scrolled": true
   },
   "outputs": [
    {
     "name": "stderr",
     "output_type": "stream",
     "text": [
      "\r",
      "Epoch:   0%|          | 0/100 [00:00<?, ?it/s]"
     ]
    },
    {
     "name": "stdout",
     "output_type": "stream",
     "text": [
      "batch time =  0.08261592779308558\n",
      "************************* start *************************\n"
     ]
    },
    {
     "name": "stderr",
     "output_type": "stream",
     "text": [
      "Epoch:   1%|          | 1/100 [08:08<13:25:28, 488.17s/it]"
     ]
    },
    {
     "name": "stdout",
     "output_type": "stream",
     "text": [
      "Total % correct 92.30%\n",
      "test time =  88.30911535397172\n",
      "*************************** end ***************************\n",
      "___________________________________________\n",
      "Epoch 1 Loss 0.0011872571 \n",
      "___________________________________________\n",
      "batch time =  0.07725656311959028\n",
      "************************* start *************************\n",
      "Total % correct 75.98%\n",
      "test time =  77.47165021719411\n",
      "*************************** end ***************************\n"
     ]
    },
    {
     "name": "stderr",
     "output_type": "stream",
     "text": [
      "Epoch:   2%|▏         | 2/100 [15:56<13:07:47, 482.32s/it]"
     ]
    },
    {
     "name": "stdout",
     "output_type": "stream",
     "text": [
      "___________________________________________\n",
      "Epoch 2 Loss 0.0270695146 \n",
      "___________________________________________\n",
      "batch time =  0.08267952315509319\n",
      "************************* start *************************\n",
      "Total % correct 91.47%\n",
      "test time =  81.73241066001356\n",
      "*************************** end ***************************\n"
     ]
    },
    {
     "name": "stderr",
     "output_type": "stream",
     "text": [
      "Epoch:   3%|▎         | 3/100 [23:57<12:58:59, 481.85s/it]"
     ]
    },
    {
     "name": "stdout",
     "output_type": "stream",
     "text": [
      "___________________________________________\n",
      "Epoch 3 Loss 0.1687451005 \n",
      "___________________________________________\n",
      "batch time =  0.06939748581498861\n",
      "************************* start *************************\n",
      "Total % correct 86.66%\n",
      "test time =  75.11348705692217\n",
      "*************************** end ***************************\n"
     ]
    },
    {
     "name": "stderr",
     "output_type": "stream",
     "text": [
      "Epoch:   4%|▍         | 4/100 [31:52<12:47:51, 479.91s/it]"
     ]
    },
    {
     "name": "stdout",
     "output_type": "stream",
     "text": [
      "___________________________________________\n",
      "Epoch 4 Loss 0.0001399565 \n",
      "___________________________________________\n",
      "batch time =  0.09127695439383388\n",
      "************************* start *************************\n",
      "Total % correct 71.15%\n",
      "test time =  75.27914483193308\n",
      "*************************** end ***************************\n"
     ]
    },
    {
     "name": "stderr",
     "output_type": "stream",
     "text": [
      "Epoch:   5%|▌         | 5/100 [39:33<12:30:37, 474.08s/it]"
     ]
    },
    {
     "name": "stdout",
     "output_type": "stream",
     "text": [
      "___________________________________________\n",
      "Epoch 5 Loss 0.0099920537 \n",
      "___________________________________________\n",
      "batch time =  0.0714877899736166\n",
      "************************* start *************************\n",
      "Total % correct 81.38%\n",
      "test time =  81.49943385086954\n",
      "*************************** end ***************************\n"
     ]
    },
    {
     "name": "stderr",
     "output_type": "stream",
     "text": [
      "Epoch:   6%|▌         | 6/100 [47:15<12:17:04, 470.47s/it]"
     ]
    },
    {
     "name": "stdout",
     "output_type": "stream",
     "text": [
      "___________________________________________\n",
      "Epoch 6 Loss 0.0014073587 \n",
      "___________________________________________\n",
      "batch time =  0.07276175916194916\n",
      "************************* start *************************\n",
      "Total % correct 87.20%\n",
      "test time =  88.46583822974935\n",
      "*************************** end ***************************\n"
     ]
    },
    {
     "name": "stderr",
     "output_type": "stream",
     "text": [
      "Epoch:   7%|▋         | 7/100 [55:06<12:09:19, 470.53s/it]"
     ]
    },
    {
     "name": "stdout",
     "output_type": "stream",
     "text": [
      "___________________________________________\n",
      "Epoch 7 Loss 0.0068906671 \n",
      "___________________________________________\n",
      "batch time =  0.08757010800763965\n",
      "************************* start *************************\n",
      "Total % correct 99.42%\n",
      "test time =  85.80901528289542\n",
      "*************************** end ***************************\n"
     ]
    },
    {
     "name": "stderr",
     "output_type": "stream",
     "text": [
      "Epoch:   8%|▊         | 8/100 [1:02:52<11:59:25, 469.19s/it]"
     ]
    },
    {
     "name": "stdout",
     "output_type": "stream",
     "text": [
      "___________________________________________\n",
      "Epoch 8 Loss 0.0004792460 \n",
      "___________________________________________\n",
      "batch time =  0.07813893305137753\n",
      "************************* start *************************\n",
      "Total % correct 91.97%\n",
      "test time =  82.32313273800537\n",
      "*************************** end ***************************\n"
     ]
    },
    {
     "name": "stderr",
     "output_type": "stream",
     "text": [
      "Epoch:   9%|▉         | 9/100 [1:10:36<11:49:25, 467.76s/it]"
     ]
    },
    {
     "name": "stdout",
     "output_type": "stream",
     "text": [
      "___________________________________________\n",
      "Epoch 9 Loss 0.0004331199 \n",
      "___________________________________________\n",
      "batch time =  0.07745172129943967\n",
      "************************* start *************************\n",
      "Total % correct 93.83%\n",
      "test time =  79.28590017464012\n",
      "*************************** end ***************************\n"
     ]
    },
    {
     "name": "stderr",
     "output_type": "stream",
     "text": [
      "Epoch:  10%|█         | 10/100 [1:18:17<11:38:41, 465.79s/it]"
     ]
    },
    {
     "name": "stdout",
     "output_type": "stream",
     "text": [
      "___________________________________________\n",
      "Epoch 10 Loss 0.0003229077 \n",
      "___________________________________________\n",
      "batch time =  0.08209740370512009\n",
      "************************* start *************************\n",
      "Total % correct 95.97%\n",
      "test time =  88.01535727502778\n",
      "*************************** end ***************************\n"
     ]
    },
    {
     "name": "stderr",
     "output_type": "stream",
     "text": [
      "Epoch:  11%|█         | 11/100 [1:26:09<11:33:22, 467.44s/it]"
     ]
    },
    {
     "name": "stdout",
     "output_type": "stream",
     "text": [
      "___________________________________________\n",
      "Epoch 11 Loss 0.0022062710 \n",
      "___________________________________________\n",
      "batch time =  0.0815517739392817\n",
      "************************* start *************************\n",
      "Total % correct 83.29%\n",
      "test time =  82.87965097324923\n",
      "*************************** end ***************************\n"
     ]
    },
    {
     "name": "stderr",
     "output_type": "stream",
     "text": [
      "Epoch:  12%|█▏        | 12/100 [1:33:55<11:24:55, 466.99s/it]"
     ]
    },
    {
     "name": "stdout",
     "output_type": "stream",
     "text": [
      "___________________________________________\n",
      "Epoch 12 Loss 0.0004823268 \n",
      "___________________________________________\n",
      "batch time =  0.09700704785063863\n",
      "************************* start *************************\n",
      "Total % correct 91.62%\n",
      "test time =  83.25228294823319\n",
      "*************************** end ***************************\n"
     ]
    },
    {
     "name": "stderr",
     "output_type": "stream",
     "text": [
      "Epoch:  13%|█▎        | 13/100 [1:41:42<11:17:21, 467.14s/it]"
     ]
    },
    {
     "name": "stdout",
     "output_type": "stream",
     "text": [
      "___________________________________________\n",
      "Epoch 13 Loss 0.0025946526 \n",
      "___________________________________________\n",
      "batch time =  0.11834874795749784\n",
      "************************* start *************************\n",
      "Total % correct 95.12%\n",
      "test time =  78.292582990136\n",
      "*************************** end ***************************\n"
     ]
    },
    {
     "name": "stderr",
     "output_type": "stream",
     "text": [
      "Epoch:  14%|█▍        | 14/100 [1:49:24<11:07:26, 465.66s/it]"
     ]
    },
    {
     "name": "stdout",
     "output_type": "stream",
     "text": [
      "___________________________________________\n",
      "Epoch 14 Loss 0.1785153300 \n",
      "___________________________________________\n",
      "batch time =  0.07372355181723833\n",
      "************************* start *************************\n",
      "Total % correct 96.35%\n",
      "test time =  86.45740419486538\n",
      "*************************** end ***************************\n"
     ]
    },
    {
     "name": "stderr",
     "output_type": "stream",
     "text": [
      "Epoch:  15%|█▌        | 15/100 [1:57:13<11:01:11, 466.72s/it]"
     ]
    },
    {
     "name": "stdout",
     "output_type": "stream",
     "text": [
      "___________________________________________\n",
      "Epoch 15 Loss 0.0011877795 \n",
      "___________________________________________\n",
      "batch time =  0.07545280829071999\n",
      "************************* start *************************\n",
      "Total % correct 99.74%\n",
      "test time =  83.72032969910651\n",
      "*************************** end ***************************\n"
     ]
    },
    {
     "name": "stderr",
     "output_type": "stream",
     "text": [
      "Epoch:  16%|█▌        | 16/100 [2:04:58<10:52:38, 466.18s/it]"
     ]
    },
    {
     "name": "stdout",
     "output_type": "stream",
     "text": [
      "___________________________________________\n",
      "Epoch 16 Loss 0.0003914210 \n",
      "___________________________________________\n",
      "batch time =  0.09745114529505372\n",
      "************************* start *************************\n",
      "Total % correct 93.58%\n",
      "test time =  81.29166768211871\n",
      "*************************** end ***************************\n"
     ]
    },
    {
     "name": "stderr",
     "output_type": "stream",
     "text": [
      "Epoch:  17%|█▋        | 17/100 [2:12:44<10:44:30, 465.92s/it]"
     ]
    },
    {
     "name": "stdout",
     "output_type": "stream",
     "text": [
      "___________________________________________\n",
      "Epoch 17 Loss 0.0008714813 \n",
      "___________________________________________\n",
      "batch time =  0.06921988073736429\n",
      "************************* start *************************\n",
      "Total % correct 99.69%\n",
      "test time =  82.86829528165981\n",
      "*************************** end ***************************\n"
     ]
    },
    {
     "name": "stderr",
     "output_type": "stream",
     "text": [
      "Epoch:  18%|█▊        | 18/100 [2:20:16<10:31:07, 461.79s/it]"
     ]
    },
    {
     "name": "stdout",
     "output_type": "stream",
     "text": [
      "___________________________________________\n",
      "Epoch 18 Loss 0.0001434443 \n",
      "___________________________________________\n",
      "batch time =  0.09296148689463735\n",
      "************************* start *************************\n",
      "Total % correct 97.82%\n",
      "test time =  83.08859717007726\n",
      "*************************** end ***************************\n"
     ]
    },
    {
     "name": "stderr",
     "output_type": "stream",
     "text": [
      "Epoch:  19%|█▉        | 19/100 [2:27:59<10:23:59, 462.21s/it]"
     ]
    },
    {
     "name": "stdout",
     "output_type": "stream",
     "text": [
      "___________________________________________\n",
      "Epoch 19 Loss 0.0006396463 \n",
      "___________________________________________\n",
      "batch time =  0.09864479070529342\n",
      "************************* start *************************\n",
      "Total % correct 99.73%\n",
      "test time =  89.40717475488782\n",
      "*************************** end ***************************\n"
     ]
    },
    {
     "name": "stderr",
     "output_type": "stream",
     "text": [
      "Epoch:  20%|██        | 20/100 [2:36:03<10:24:49, 468.62s/it]"
     ]
    },
    {
     "name": "stdout",
     "output_type": "stream",
     "text": [
      "___________________________________________\n",
      "Epoch 20 Loss 0.0006194630 \n",
      "___________________________________________\n",
      "batch time =  0.07697698986157775\n",
      "************************* start *************************\n",
      "Total % correct 99.62%\n",
      "test time =  87.24454059591517\n",
      "*************************** end ***************************\n"
     ]
    },
    {
     "name": "stderr",
     "output_type": "stream",
     "text": [
      "Epoch:  21%|██        | 21/100 [2:44:02<10:21:11, 471.79s/it]"
     ]
    },
    {
     "name": "stdout",
     "output_type": "stream",
     "text": [
      "___________________________________________\n",
      "Epoch 21 Loss 0.0014989083 \n",
      "___________________________________________\n",
      "batch time =  0.07475715829059482\n",
      "************************* start *************************\n",
      "Total % correct 92.60%\n",
      "test time =  78.58168941130862\n",
      "*************************** end ***************************\n"
     ]
    },
    {
     "name": "stderr",
     "output_type": "stream",
     "text": [
      "Epoch:  22%|██▏       | 22/100 [2:51:57<10:14:49, 472.94s/it]"
     ]
    },
    {
     "name": "stdout",
     "output_type": "stream",
     "text": [
      "___________________________________________\n",
      "Epoch 22 Loss 0.0001894117 \n",
      "___________________________________________\n",
      "batch time =  0.07036451064050198\n",
      "************************* start *************************\n",
      "Total % correct 93.58%\n",
      "test time =  88.37153592798859\n",
      "*************************** end ***************************\n"
     ]
    },
    {
     "name": "stderr",
     "output_type": "stream",
     "text": [
      "Epoch:  23%|██▎       | 23/100 [2:59:58<10:09:55, 475.27s/it]"
     ]
    },
    {
     "name": "stdout",
     "output_type": "stream",
     "text": [
      "___________________________________________\n",
      "Epoch 23 Loss 0.0004060810 \n",
      "___________________________________________\n",
      "batch time =  0.08450491540133953\n",
      "************************* start *************************\n",
      "Total % correct 94.57%\n",
      "test time =  78.76935313269496\n",
      "*************************** end ***************************\n"
     ]
    },
    {
     "name": "stderr",
     "output_type": "stream",
     "text": [
      "Epoch:  24%|██▍       | 24/100 [3:07:55<10:02:31, 475.67s/it]"
     ]
    },
    {
     "name": "stdout",
     "output_type": "stream",
     "text": [
      "___________________________________________\n",
      "Epoch 24 Loss 0.0051518637 \n",
      "___________________________________________\n",
      "batch time =  0.08605652628466487\n",
      "************************* start *************************\n",
      "Total % correct 99.55%\n",
      "test time =  93.13786442484707\n",
      "*************************** end ***************************\n"
     ]
    },
    {
     "name": "stderr",
     "output_type": "stream",
     "text": [
      "Epoch:  25%|██▌       | 25/100 [3:15:56<9:56:51, 477.49s/it] "
     ]
    },
    {
     "name": "stdout",
     "output_type": "stream",
     "text": [
      "___________________________________________\n",
      "Epoch 25 Loss 0.0006570568 \n",
      "___________________________________________\n",
      "batch time =  0.09127136180177331\n",
      "************************* start *************************\n",
      "Total % correct 99.89%\n",
      "test time =  78.55358816077933\n",
      "*************************** end ***************************\n"
     ]
    },
    {
     "name": "stderr",
     "output_type": "stream",
     "text": [
      "Epoch:  26%|██▌       | 26/100 [3:23:53<9:48:36, 477.25s/it]"
     ]
    },
    {
     "name": "stdout",
     "output_type": "stream",
     "text": [
      "___________________________________________\n",
      "Epoch 26 Loss 0.0004064529 \n",
      "___________________________________________\n",
      "batch time =  0.07500144001096487\n",
      "************************* start *************************\n",
      "Total % correct 99.83%\n",
      "test time =  79.68596562882885\n",
      "*************************** end ***************************\n"
     ]
    },
    {
     "name": "stderr",
     "output_type": "stream",
     "text": [
      "Epoch:  27%|██▋       | 27/100 [3:31:44<9:38:07, 475.17s/it]"
     ]
    },
    {
     "name": "stdout",
     "output_type": "stream",
     "text": [
      "___________________________________________\n",
      "Epoch 27 Loss 0.0002461379 \n",
      "___________________________________________\n",
      "batch time =  0.07198006799444556\n",
      "************************* start *************************\n",
      "Total % correct 96.50%\n",
      "test time =  83.37860675901175\n",
      "*************************** end ***************************\n"
     ]
    },
    {
     "name": "stderr",
     "output_type": "stream",
     "text": [
      "Epoch:  28%|██▊       | 28/100 [3:39:41<9:31:09, 475.97s/it]"
     ]
    },
    {
     "name": "stdout",
     "output_type": "stream",
     "text": [
      "___________________________________________\n",
      "Epoch 28 Loss 0.0003104917 \n",
      "___________________________________________\n",
      "batch time =  0.08134543988853693\n",
      "************************* start *************************\n",
      "Total % correct 99.43%\n",
      "test time =  78.88527677301317\n",
      "*************************** end ***************************\n"
     ]
    },
    {
     "name": "stderr",
     "output_type": "stream",
     "text": [
      "Epoch:  29%|██▉       | 29/100 [3:47:35<9:22:20, 475.22s/it]"
     ]
    },
    {
     "name": "stdout",
     "output_type": "stream",
     "text": [
      "___________________________________________\n",
      "Epoch 29 Loss 0.0007291097 \n",
      "___________________________________________\n",
      "batch time =  0.07485682936385274\n",
      "************************* start *************************\n",
      "Total % correct 99.77%\n",
      "test time =  77.97334744501859\n",
      "*************************** end ***************************\n"
     ]
    },
    {
     "name": "stderr",
     "output_type": "stream",
     "text": [
      "Epoch:  30%|███       | 30/100 [3:55:28<9:13:32, 474.47s/it]"
     ]
    },
    {
     "name": "stdout",
     "output_type": "stream",
     "text": [
      "___________________________________________\n",
      "Epoch 30 Loss 0.0002518066 \n",
      "___________________________________________\n",
      "batch time =  0.1088980776257813\n",
      "************************* start *************************\n",
      "Total % correct 98.53%\n",
      "test time =  78.3152646929957\n",
      "*************************** end ***************************\n"
     ]
    },
    {
     "name": "stderr",
     "output_type": "stream",
     "text": [
      "Epoch:  31%|███       | 31/100 [4:03:20<9:04:49, 473.76s/it]"
     ]
    },
    {
     "name": "stdout",
     "output_type": "stream",
     "text": [
      "___________________________________________\n",
      "Epoch 31 Loss 0.0003462518 \n",
      "___________________________________________\n",
      "batch time =  0.08815476205199957\n",
      "************************* start *************************\n",
      "Total % correct 99.10%\n",
      "test time =  79.46897029038519\n",
      "*************************** end ***************************\n"
     ]
    },
    {
     "name": "stderr",
     "output_type": "stream",
     "text": [
      "Epoch:  32%|███▏      | 32/100 [4:11:13<8:56:53, 473.73s/it]"
     ]
    },
    {
     "name": "stdout",
     "output_type": "stream",
     "text": [
      "___________________________________________\n",
      "Epoch 32 Loss 0.0008735638 \n",
      "___________________________________________\n",
      "batch time =  0.07422507693991065\n",
      "************************* start *************************\n",
      "Total % correct 98.93%\n",
      "test time =  78.72546243062243\n",
      "*************************** end ***************************\n"
     ]
    },
    {
     "name": "stderr",
     "output_type": "stream",
     "text": [
      "Epoch:  33%|███▎      | 33/100 [4:19:02<8:47:26, 472.34s/it]"
     ]
    },
    {
     "name": "stdout",
     "output_type": "stream",
     "text": [
      "___________________________________________\n",
      "Epoch 33 Loss 0.0002621555 \n",
      "___________________________________________\n",
      "batch time =  0.07872523088008165\n",
      "************************* start *************************\n",
      "Total % correct 99.24%\n",
      "test time =  79.69536227406934\n",
      "*************************** end ***************************\n"
     ]
    },
    {
     "name": "stderr",
     "output_type": "stream",
     "text": [
      "Epoch:  34%|███▍      | 34/100 [4:26:57<8:40:10, 472.89s/it]"
     ]
    },
    {
     "name": "stdout",
     "output_type": "stream",
     "text": [
      "___________________________________________\n",
      "Epoch 34 Loss 0.0004265990 \n",
      "___________________________________________\n",
      "batch time =  0.09190153889358044\n",
      "************************* start *************************\n",
      "Total % correct 99.80%\n",
      "test time =  77.77595699811354\n",
      "*************************** end ***************************\n"
     ]
    },
    {
     "name": "stderr",
     "output_type": "stream",
     "text": [
      "Epoch:  35%|███▌      | 35/100 [4:34:48<8:31:51, 472.48s/it]"
     ]
    },
    {
     "name": "stdout",
     "output_type": "stream",
     "text": [
      "___________________________________________\n",
      "Epoch 35 Loss 0.0006007443 \n",
      "___________________________________________\n",
      "batch time =  0.08680285606533289\n",
      "************************* start *************************\n",
      "Total % correct 99.66%\n",
      "test time =  79.4504219549708\n",
      "*************************** end ***************************\n"
     ]
    },
    {
     "name": "stderr",
     "output_type": "stream",
     "text": [
      "Epoch:  36%|███▌      | 36/100 [4:42:42<8:24:30, 472.97s/it]"
     ]
    },
    {
     "name": "stdout",
     "output_type": "stream",
     "text": [
      "___________________________________________\n",
      "Epoch 36 Loss 0.0009828635 \n",
      "___________________________________________\n",
      "batch time =  0.07879142230376601\n",
      "************************* start *************************\n",
      "Total % correct 81.14%\n",
      "test time =  78.77590122213587\n",
      "*************************** end ***************************\n"
     ]
    },
    {
     "name": "stderr",
     "output_type": "stream",
     "text": [
      "Epoch:  37%|███▋      | 37/100 [4:50:36<8:16:45, 473.10s/it]"
     ]
    },
    {
     "name": "stdout",
     "output_type": "stream",
     "text": [
      "___________________________________________\n",
      "Epoch 37 Loss 0.0029026123 \n",
      "___________________________________________\n",
      "batch time =  0.08074933290481567\n",
      "************************* start *************************\n",
      "Total % correct 96.65%\n",
      "test time =  83.0669228611514\n",
      "*************************** end ***************************\n"
     ]
    },
    {
     "name": "stderr",
     "output_type": "stream",
     "text": [
      "Epoch:  38%|███▊      | 38/100 [4:58:32<8:09:51, 474.06s/it]"
     ]
    },
    {
     "name": "stdout",
     "output_type": "stream",
     "text": [
      "___________________________________________\n",
      "Epoch 38 Loss 0.0003221867 \n",
      "___________________________________________\n",
      "batch time =  0.09212803980335593\n",
      "************************* start *************************\n",
      "Total % correct 97.45%\n",
      "test time =  78.52338966308162\n",
      "*************************** end ***************************\n"
     ]
    },
    {
     "name": "stderr",
     "output_type": "stream",
     "text": [
      "Epoch:  39%|███▉      | 39/100 [5:06:26<8:01:49, 473.93s/it]"
     ]
    },
    {
     "name": "stdout",
     "output_type": "stream",
     "text": [
      "___________________________________________\n",
      "Epoch 39 Loss 0.0011862729 \n",
      "___________________________________________\n",
      "batch time =  0.08876896323636174\n",
      "************************* start *************************\n",
      "Total % correct 95.67%\n",
      "test time =  92.33406738191843\n",
      "*************************** end ***************************\n"
     ]
    },
    {
     "name": "stderr",
     "output_type": "stream",
     "text": [
      "Epoch:  40%|████      | 40/100 [5:14:31<7:57:29, 477.49s/it]"
     ]
    },
    {
     "name": "stdout",
     "output_type": "stream",
     "text": [
      "___________________________________________\n",
      "Epoch 40 Loss 0.0004702432 \n",
      "___________________________________________\n",
      "batch time =  0.07919741701334715\n",
      "************************* start *************************\n",
      "Total % correct 97.90%\n",
      "test time =  78.90660289302468\n",
      "*************************** end ***************************\n"
     ]
    },
    {
     "name": "stderr",
     "output_type": "stream",
     "text": [
      "Epoch:  41%|████      | 41/100 [5:22:26<7:48:37, 476.57s/it]"
     ]
    },
    {
     "name": "stdout",
     "output_type": "stream",
     "text": [
      "___________________________________________\n",
      "Epoch 41 Loss 0.0004202695 \n",
      "___________________________________________\n",
      "batch time =  0.08179898886010051\n",
      "************************* start *************************\n",
      "Total % correct 99.08%\n",
      "test time =  91.1940146619454\n",
      "*************************** end ***************************\n"
     ]
    },
    {
     "name": "stderr",
     "output_type": "stream",
     "text": [
      "Epoch:  42%|████▏     | 42/100 [5:30:30<7:42:58, 478.94s/it]"
     ]
    },
    {
     "name": "stdout",
     "output_type": "stream",
     "text": [
      "___________________________________________\n",
      "Epoch 42 Loss 0.0014850706 \n",
      "___________________________________________\n",
      "batch time =  0.0832448611035943\n",
      "************************* start *************************\n",
      "Total % correct 99.11%\n",
      "test time =  78.14960515405983\n",
      "*************************** end ***************************\n"
     ]
    },
    {
     "name": "stderr",
     "output_type": "stream",
     "text": [
      "Epoch:  43%|████▎     | 43/100 [5:38:28<7:34:32, 478.47s/it]"
     ]
    },
    {
     "name": "stdout",
     "output_type": "stream",
     "text": [
      "___________________________________________\n",
      "Epoch 43 Loss 0.0015466919 \n",
      "___________________________________________\n",
      "batch time =  0.07835624320432544\n",
      "************************* start *************************\n",
      "Total % correct 90.17%\n",
      "test time =  92.9675491838716\n",
      "*************************** end ***************************\n"
     ]
    },
    {
     "name": "stderr",
     "output_type": "stream",
     "text": [
      "Epoch:  44%|████▍     | 44/100 [5:46:34<7:28:50, 480.91s/it]"
     ]
    },
    {
     "name": "stdout",
     "output_type": "stream",
     "text": [
      "___________________________________________\n",
      "Epoch 44 Loss 0.0005876123 \n",
      "___________________________________________\n",
      "batch time =  0.09602945996448398\n",
      "************************* start *************************\n",
      "Total % correct 97.13%\n",
      "test time =  78.60989602189511\n",
      "*************************** end ***************************\n"
     ]
    },
    {
     "name": "stderr",
     "output_type": "stream",
     "text": [
      "Epoch:  45%|████▌     | 45/100 [5:54:28<7:18:59, 478.90s/it]"
     ]
    },
    {
     "name": "stdout",
     "output_type": "stream",
     "text": [
      "___________________________________________\n",
      "Epoch 45 Loss 0.0010628421 \n",
      "___________________________________________\n",
      "batch time =  0.093500223942101\n",
      "************************* start *************************\n",
      "Total % correct 97.06%\n",
      "test time =  90.48664513695985\n",
      "*************************** end ***************************\n"
     ]
    },
    {
     "name": "stderr",
     "output_type": "stream",
     "text": [
      "Epoch:  46%|████▌     | 46/100 [6:02:30<7:11:46, 479.75s/it]"
     ]
    },
    {
     "name": "stdout",
     "output_type": "stream",
     "text": [
      "___________________________________________\n",
      "Epoch 46 Loss 0.0005088405 \n",
      "___________________________________________\n",
      "batch time =  0.10437676589936018\n",
      "************************* start *************************\n",
      "Total % correct 96.43%\n",
      "test time =  78.63829357502982\n",
      "*************************** end ***************************\n"
     ]
    },
    {
     "name": "stderr",
     "output_type": "stream",
     "text": [
      "Epoch:  47%|████▋     | 47/100 [6:10:34<7:04:59, 481.12s/it]"
     ]
    },
    {
     "name": "stdout",
     "output_type": "stream",
     "text": [
      "___________________________________________\n",
      "Epoch 47 Loss 0.0004896136 \n",
      "___________________________________________\n",
      "batch time =  0.08599400194361806\n",
      "************************* start *************************\n",
      "Total % correct 95.88%\n",
      "test time =  78.74411809630692\n",
      "*************************** end ***************************\n"
     ]
    },
    {
     "name": "stderr",
     "output_type": "stream",
     "text": [
      "Epoch:  48%|████▊     | 48/100 [6:18:22<6:53:30, 477.12s/it]"
     ]
    },
    {
     "name": "stdout",
     "output_type": "stream",
     "text": [
      "___________________________________________\n",
      "Epoch 48 Loss 0.0000488804 \n",
      "___________________________________________\n",
      "batch time =  0.09080318501219153\n",
      "************************* start *************************\n",
      "Total % correct 82.65%\n",
      "test time =  77.57822141190991\n",
      "*************************** end ***************************\n"
     ]
    },
    {
     "name": "stderr",
     "output_type": "stream",
     "text": [
      "Epoch:  49%|████▉     | 49/100 [6:26:17<6:44:54, 476.36s/it]"
     ]
    },
    {
     "name": "stdout",
     "output_type": "stream",
     "text": [
      "___________________________________________\n",
      "Epoch 49 Loss 0.0004353845 \n",
      "___________________________________________\n",
      "batch time =  0.08818025700747967\n",
      "************************* start *************************\n",
      "Total % correct 96.27%\n",
      "test time =  78.8979720887728\n",
      "*************************** end ***************************\n"
     ]
    },
    {
     "name": "stderr",
     "output_type": "stream",
     "text": [
      "Epoch:  50%|█████     | 50/100 [6:34:05<6:34:59, 473.99s/it]"
     ]
    },
    {
     "name": "stdout",
     "output_type": "stream",
     "text": [
      "___________________________________________\n",
      "Epoch 50 Loss 0.0006287243 \n",
      "___________________________________________\n",
      "batch time =  0.07992465188726783\n",
      "************************* start *************************\n",
      "Total % correct 93.03%\n",
      "test time =  78.8058513966389\n",
      "*************************** end ***************************\n"
     ]
    },
    {
     "name": "stderr",
     "output_type": "stream",
     "text": [
      "Epoch:  51%|█████     | 51/100 [6:42:01<6:27:33, 474.55s/it]"
     ]
    },
    {
     "name": "stdout",
     "output_type": "stream",
     "text": [
      "___________________________________________\n",
      "Epoch 51 Loss 0.0023104085 \n",
      "___________________________________________\n",
      "batch time =  0.08421848714351654\n",
      "************************* start *************************\n",
      "Total % correct 99.67%\n",
      "test time =  78.4067778061144\n",
      "*************************** end ***************************\n"
     ]
    },
    {
     "name": "stderr",
     "output_type": "stream",
     "text": [
      "Epoch:  52%|█████▏    | 52/100 [6:49:51<6:18:27, 473.07s/it]"
     ]
    },
    {
     "name": "stdout",
     "output_type": "stream",
     "text": [
      "___________________________________________\n",
      "Epoch 52 Loss 0.0003031991 \n",
      "___________________________________________\n",
      "batch time =  0.10027317237108946\n",
      "************************* start *************************\n",
      "Total % correct 91.79%\n",
      "test time =  78.50402873987332\n",
      "*************************** end ***************************\n"
     ]
    },
    {
     "name": "stderr",
     "output_type": "stream",
     "text": [
      "Epoch:  53%|█████▎    | 53/100 [6:57:46<6:10:58, 473.58s/it]"
     ]
    },
    {
     "name": "stdout",
     "output_type": "stream",
     "text": [
      "___________________________________________\n",
      "Epoch 53 Loss 0.0035052095 \n",
      "___________________________________________\n",
      "batch time =  0.08950449200347066\n",
      "************************* start *************************\n",
      "Total % correct 93.09%\n",
      "test time =  78.24984065908939\n",
      "*************************** end ***************************\n"
     ]
    },
    {
     "name": "stderr",
     "output_type": "stream",
     "text": [
      "Epoch:  54%|█████▍    | 54/100 [7:05:36<6:02:16, 472.52s/it]"
     ]
    },
    {
     "name": "stdout",
     "output_type": "stream",
     "text": [
      "___________________________________________\n",
      "Epoch 54 Loss 0.0009642725 \n",
      "___________________________________________\n",
      "batch time =  0.07814358128234744\n",
      "************************* start *************************\n",
      "Total % correct 86.91%\n",
      "test time =  80.19039014261216\n",
      "*************************** end ***************************\n"
     ]
    },
    {
     "name": "stderr",
     "output_type": "stream",
     "text": [
      "Epoch:  55%|█████▌    | 55/100 [7:13:32<5:55:18, 473.74s/it]"
     ]
    },
    {
     "name": "stdout",
     "output_type": "stream",
     "text": [
      "___________________________________________\n",
      "Epoch 55 Loss 0.0004717539 \n",
      "___________________________________________\n",
      "batch time =  0.09331059828400612\n",
      "************************* start *************************\n",
      "Total % correct 97.51%\n",
      "test time =  78.51575058605522\n",
      "*************************** end ***************************\n"
     ]
    },
    {
     "name": "stderr",
     "output_type": "stream",
     "text": [
      "Epoch:  56%|█████▌    | 56/100 [7:21:26<5:47:31, 473.90s/it]"
     ]
    },
    {
     "name": "stdout",
     "output_type": "stream",
     "text": [
      "___________________________________________\n",
      "Epoch 56 Loss 0.0000095586 \n",
      "___________________________________________\n",
      "batch time =  0.08642285270616412\n",
      "************************* start *************************\n",
      "Total % correct 98.49%\n",
      "test time =  80.29557234188542\n",
      "*************************** end ***************************\n"
     ]
    },
    {
     "name": "stderr",
     "output_type": "stream",
     "text": [
      "Epoch:  57%|█████▋    | 57/100 [7:29:26<5:40:49, 475.58s/it]"
     ]
    },
    {
     "name": "stdout",
     "output_type": "stream",
     "text": [
      "___________________________________________\n",
      "Epoch 57 Loss 0.0037600158 \n",
      "___________________________________________\n",
      "batch time =  0.08588710334151983\n",
      "************************* start *************************\n",
      "Total % correct 98.06%\n",
      "test time =  78.29573082085699\n",
      "*************************** end ***************************\n"
     ]
    },
    {
     "name": "stderr",
     "output_type": "stream",
     "text": [
      "Epoch:  58%|█████▊    | 58/100 [7:37:20<5:32:33, 475.09s/it]"
     ]
    },
    {
     "name": "stdout",
     "output_type": "stream",
     "text": [
      "___________________________________________\n",
      "Epoch 58 Loss 0.0006105438 \n",
      "___________________________________________\n",
      "batch time =  0.09107297798618674\n",
      "************************* start *************************\n",
      "Total % correct 87.71%\n",
      "test time =  85.12152296910062\n",
      "*************************** end ***************************\n"
     ]
    },
    {
     "name": "stderr",
     "output_type": "stream",
     "text": [
      "Epoch:  59%|█████▉    | 59/100 [7:45:20<5:25:40, 476.59s/it]"
     ]
    },
    {
     "name": "stdout",
     "output_type": "stream",
     "text": [
      "___________________________________________\n",
      "Epoch 59 Loss 0.0003815129 \n",
      "___________________________________________\n",
      "batch time =  0.10127996513620019\n",
      "************************* start *************************\n",
      "Total % correct 96.12%\n",
      "test time =  78.52927727904171\n",
      "*************************** end ***************************\n"
     ]
    },
    {
     "name": "stderr",
     "output_type": "stream",
     "text": [
      "Epoch:  60%|██████    | 60/100 [7:53:18<5:18:00, 477.02s/it]"
     ]
    },
    {
     "name": "stdout",
     "output_type": "stream",
     "text": [
      "___________________________________________\n",
      "Epoch 60 Loss 0.0010048820 \n",
      "___________________________________________\n",
      "batch time =  0.08497397881001234\n",
      "************************* start *************************\n",
      "Total % correct 97.60%\n",
      "test time =  91.5576032162644\n",
      "*************************** end ***************************\n"
     ]
    },
    {
     "name": "stderr",
     "output_type": "stream",
     "text": [
      "Epoch:  61%|██████    | 61/100 [8:01:25<5:11:58, 479.96s/it]"
     ]
    },
    {
     "name": "stdout",
     "output_type": "stream",
     "text": [
      "___________________________________________\n",
      "Epoch 61 Loss 0.0010527405 \n",
      "___________________________________________\n",
      "batch time =  0.08025297801941633\n",
      "************************* start *************************\n",
      "Total % correct 98.00%\n",
      "test time =  78.86825604410842\n",
      "*************************** end ***************************\n"
     ]
    },
    {
     "name": "stderr",
     "output_type": "stream",
     "text": [
      "Epoch:  62%|██████▏   | 62/100 [8:09:22<5:03:30, 479.21s/it]"
     ]
    },
    {
     "name": "stdout",
     "output_type": "stream",
     "text": [
      "___________________________________________\n",
      "Epoch 62 Loss 0.0003829827 \n",
      "___________________________________________\n",
      "batch time =  0.07517230603843927\n",
      "************************* start *************************\n",
      "Total % correct 97.32%\n",
      "test time =  91.98701377213001\n",
      "*************************** end ***************************\n"
     ]
    },
    {
     "name": "stderr",
     "output_type": "stream",
     "text": [
      "Epoch:  63%|██████▎   | 63/100 [8:17:29<4:56:50, 481.37s/it]"
     ]
    },
    {
     "name": "stdout",
     "output_type": "stream",
     "text": [
      "___________________________________________\n",
      "Epoch 63 Loss 0.0017443729 \n",
      "___________________________________________\n",
      "batch time =  0.09077281365171075\n",
      "************************* start *************************\n",
      "Total % correct 99.26%\n",
      "test time =  78.9589745127596\n",
      "*************************** end ***************************\n"
     ]
    },
    {
     "name": "stderr",
     "output_type": "stream",
     "text": [
      "Epoch:  64%|██████▍   | 64/100 [8:25:26<4:48:04, 480.13s/it]"
     ]
    },
    {
     "name": "stdout",
     "output_type": "stream",
     "text": [
      "___________________________________________\n",
      "Epoch 64 Loss 0.0000003390 \n",
      "___________________________________________\n",
      "batch time =  0.09372221399098635\n",
      "************************* start *************************\n",
      "Total % correct 99.48%\n",
      "test time =  93.44469854794443\n",
      "*************************** end ***************************\n"
     ]
    },
    {
     "name": "stderr",
     "output_type": "stream",
     "text": [
      "Epoch:  65%|██████▌   | 65/100 [8:33:33<4:41:12, 482.07s/it]"
     ]
    },
    {
     "name": "stdout",
     "output_type": "stream",
     "text": [
      "___________________________________________\n",
      "Epoch 65 Loss 0.0002634975 \n",
      "___________________________________________\n",
      "batch time =  0.08669967716559768\n",
      "************************* start *************************\n",
      "Total % correct 99.24%\n",
      "test time =  79.4451324888505\n",
      "*************************** end ***************************\n"
     ]
    },
    {
     "name": "stderr",
     "output_type": "stream",
     "text": [
      "Epoch:  66%|██████▌   | 66/100 [8:41:31<4:32:36, 481.08s/it]"
     ]
    },
    {
     "name": "stdout",
     "output_type": "stream",
     "text": [
      "___________________________________________\n",
      "Epoch 66 Loss 0.0000013113 \n",
      "___________________________________________\n",
      "batch time =  0.10260776896029711\n",
      "************************* start *************************\n",
      "Total % correct 80.24%\n",
      "test time =  85.42798048490658\n",
      "*************************** end ***************************\n"
     ]
    },
    {
     "name": "stderr",
     "output_type": "stream",
     "text": [
      "Epoch:  67%|██████▋   | 67/100 [8:49:30<4:24:10, 480.31s/it]"
     ]
    },
    {
     "name": "stdout",
     "output_type": "stream",
     "text": [
      "___________________________________________\n",
      "Epoch 67 Loss 0.0003203776 \n",
      "___________________________________________\n",
      "batch time =  0.0837177881039679\n",
      "************************* start *************************\n",
      "Total % correct 87.60%\n",
      "test time =  83.77742688125\n",
      "*************************** end ***************************\n"
     ]
    },
    {
     "name": "stderr",
     "output_type": "stream",
     "text": [
      "Epoch:  68%|██████▊   | 68/100 [8:57:28<4:15:45, 479.53s/it]"
     ]
    },
    {
     "name": "stdout",
     "output_type": "stream",
     "text": [
      "___________________________________________\n",
      "Epoch 68 Loss 0.0007348850 \n",
      "___________________________________________\n",
      "batch time =  0.0797795713879168\n",
      "************************* start *************************\n",
      "Total % correct 91.63%\n",
      "test time =  78.76090342225507\n",
      "*************************** end ***************************\n"
     ]
    },
    {
     "name": "stderr",
     "output_type": "stream",
     "text": [
      "Epoch:  69%|██████▉   | 69/100 [9:05:19<4:06:30, 477.12s/it]"
     ]
    },
    {
     "name": "stdout",
     "output_type": "stream",
     "text": [
      "___________________________________________\n",
      "Epoch 69 Loss 0.0001851397 \n",
      "___________________________________________\n",
      "batch time =  0.08389464300125837\n",
      "************************* start *************************\n",
      "Total % correct 99.75%\n",
      "test time =  78.19752700207755\n",
      "*************************** end ***************************\n"
     ]
    },
    {
     "name": "stderr",
     "output_type": "stream",
     "text": [
      "Epoch:  70%|███████   | 70/100 [9:13:16<3:58:32, 477.09s/it]"
     ]
    },
    {
     "name": "stdout",
     "output_type": "stream",
     "text": [
      "___________________________________________\n",
      "Epoch 70 Loss 0.0005060327 \n",
      "___________________________________________\n",
      "batch time =  0.09034556802362204\n",
      "************************* start *************************\n",
      "Total % correct 99.84%\n",
      "test time =  78.19578978419304\n",
      "*************************** end ***************************\n"
     ]
    },
    {
     "name": "stderr",
     "output_type": "stream",
     "text": [
      "Epoch:  71%|███████   | 71/100 [9:21:04<3:49:19, 474.46s/it]"
     ]
    },
    {
     "name": "stdout",
     "output_type": "stream",
     "text": [
      "___________________________________________\n",
      "Epoch 71 Loss 0.0040339413 \n",
      "___________________________________________\n",
      "batch time =  0.08330202661454678\n",
      "************************* start *************************\n",
      "Total % correct 98.27%\n",
      "test time =  78.79314642213285\n",
      "*************************** end ***************************\n"
     ]
    },
    {
     "name": "stderr",
     "output_type": "stream",
     "text": [
      "Epoch:  72%|███████▏  | 72/100 [9:29:00<3:41:36, 474.89s/it]"
     ]
    },
    {
     "name": "stdout",
     "output_type": "stream",
     "text": [
      "___________________________________________\n",
      "Epoch 72 Loss 0.0007151812 \n",
      "___________________________________________\n",
      "batch time =  0.09696294600144029\n",
      "************************* start *************************\n",
      "Total % correct 95.16%\n",
      "test time =  78.49400065187365\n",
      "*************************** end ***************************\n"
     ]
    },
    {
     "name": "stderr",
     "output_type": "stream",
     "text": [
      "Epoch:  73%|███████▎  | 73/100 [9:36:54<3:33:31, 474.51s/it]"
     ]
    },
    {
     "name": "stdout",
     "output_type": "stream",
     "text": [
      "___________________________________________\n",
      "Epoch 73 Loss 0.0007510042 \n",
      "___________________________________________\n",
      "batch time =  0.07640702556818724\n",
      "************************* start *************************\n",
      "Total % correct 98.00%\n",
      "test time =  79.42037977976725\n",
      "*************************** end ***************************\n"
     ]
    },
    {
     "name": "stderr",
     "output_type": "stream",
     "text": [
      "Epoch:  74%|███████▍  | 74/100 [9:44:50<3:25:47, 474.90s/it]"
     ]
    },
    {
     "name": "stdout",
     "output_type": "stream",
     "text": [
      "___________________________________________\n",
      "Epoch 74 Loss 0.0015339375 \n",
      "___________________________________________\n",
      "batch time =  0.07007447676733136\n",
      "************************* start *************************\n",
      "Total % correct 96.37%\n",
      "test time =  78.49583275383338\n",
      "*************************** end ***************************\n"
     ]
    },
    {
     "name": "stderr",
     "output_type": "stream",
     "text": [
      "Epoch:  75%|███████▌  | 75/100 [9:52:42<3:17:33, 474.15s/it]"
     ]
    },
    {
     "name": "stdout",
     "output_type": "stream",
     "text": [
      "___________________________________________\n",
      "Epoch 75 Loss 0.1485831589 \n",
      "___________________________________________\n",
      "batch time =  0.07745175575837493\n",
      "************************* start *************************\n",
      "Total % correct 85.97%\n",
      "test time =  80.501389185898\n",
      "*************************** end ***************************\n"
     ]
    },
    {
     "name": "stderr",
     "output_type": "stream",
     "text": [
      "Epoch:  76%|███████▌  | 76/100 [10:00:39<3:10:00, 475.00s/it]"
     ]
    },
    {
     "name": "stdout",
     "output_type": "stream",
     "text": [
      "___________________________________________\n",
      "Epoch 76 Loss 0.0003011661 \n",
      "___________________________________________\n",
      "batch time =  0.10055176401510835\n",
      "************************* start *************************\n",
      "Total % correct 92.89%\n",
      "test time =  78.70881351782009\n",
      "*************************** end ***************************\n"
     ]
    },
    {
     "name": "stderr",
     "output_type": "stream",
     "text": [
      "Epoch:  77%|███████▋  | 77/100 [10:08:42<3:03:03, 477.52s/it]"
     ]
    },
    {
     "name": "stdout",
     "output_type": "stream",
     "text": [
      "___________________________________________\n",
      "Epoch 77 Loss 0.0000001229 \n",
      "___________________________________________\n",
      "batch time =  0.10424176836386323\n",
      "************************* start *************************\n",
      "Total % correct 96.22%\n",
      "test time =  79.91234778612852\n",
      "*************************** end ***************************\n"
     ]
    },
    {
     "name": "stderr",
     "output_type": "stream",
     "text": [
      "Epoch:  78%|███████▊  | 78/100 [10:16:38<2:54:53, 476.99s/it]"
     ]
    },
    {
     "name": "stdout",
     "output_type": "stream",
     "text": [
      "___________________________________________\n",
      "Epoch 78 Loss 0.0004342744 \n",
      "___________________________________________\n",
      "batch time =  0.11779881315305829\n",
      "************************* start *************************\n",
      "Total % correct 92.45%\n",
      "test time =  78.52088599093258\n",
      "*************************** end ***************************\n"
     ]
    },
    {
     "name": "stderr",
     "output_type": "stream",
     "text": [
      "Epoch:  79%|███████▉  | 79/100 [10:24:35<2:46:54, 476.89s/it]"
     ]
    },
    {
     "name": "stdout",
     "output_type": "stream",
     "text": [
      "___________________________________________\n",
      "Epoch 79 Loss 0.0004192799 \n",
      "___________________________________________\n",
      "batch time =  0.08188563585281372\n",
      "************************* start *************************\n",
      "Total % correct 96.50%\n",
      "test time =  91.58219898305833\n",
      "*************************** end ***************************\n"
     ]
    },
    {
     "name": "stderr",
     "output_type": "stream",
     "text": [
      "Epoch:  80%|████████  | 80/100 [10:32:43<2:40:07, 480.36s/it]"
     ]
    },
    {
     "name": "stdout",
     "output_type": "stream",
     "text": [
      "___________________________________________\n",
      "Epoch 80 Loss 0.0018465857 \n",
      "___________________________________________\n",
      "batch time =  0.08911970583721995\n",
      "************************* start *************************\n",
      "Total % correct 82.62%\n",
      "test time =  78.21298852702603\n",
      "*************************** end ***************************\n"
     ]
    },
    {
     "name": "stderr",
     "output_type": "stream",
     "text": [
      "Epoch:  81%|████████  | 81/100 [10:40:40<2:31:48, 479.38s/it]"
     ]
    },
    {
     "name": "stdout",
     "output_type": "stream",
     "text": [
      "___________________________________________\n",
      "Epoch 81 Loss 0.0008897771 \n",
      "___________________________________________\n",
      "batch time =  0.08145280089229345\n",
      "************************* start *************************\n",
      "Total % correct 98.54%\n",
      "test time =  92.44512028899044\n",
      "*************************** end ***************************\n"
     ]
    },
    {
     "name": "stderr",
     "output_type": "stream",
     "text": [
      "Epoch:  82%|████████▏ | 82/100 [10:48:51<2:24:48, 482.72s/it]"
     ]
    },
    {
     "name": "stdout",
     "output_type": "stream",
     "text": [
      "___________________________________________\n",
      "Epoch 82 Loss 0.0004997992 \n",
      "___________________________________________\n",
      "batch time =  0.10144550912082195\n",
      "************************* start *************************\n",
      "Total % correct 88.23%\n",
      "test time =  78.39004575414583\n",
      "*************************** end ***************************\n"
     ]
    },
    {
     "name": "stderr",
     "output_type": "stream",
     "text": [
      "Epoch:  83%|████████▎ | 83/100 [10:56:47<2:16:12, 480.76s/it]"
     ]
    },
    {
     "name": "stdout",
     "output_type": "stream",
     "text": [
      "___________________________________________\n",
      "Epoch 83 Loss 0.0008484881 \n",
      "___________________________________________\n",
      "batch time =  0.09634298831224442\n",
      "************************* start *************************\n",
      "Total % correct 93.95%\n",
      "test time =  92.84644971508533\n",
      "*************************** end ***************************\n"
     ]
    },
    {
     "name": "stderr",
     "output_type": "stream",
     "text": [
      "Epoch:  84%|████████▍ | 84/100 [11:04:51<2:08:26, 481.63s/it]"
     ]
    },
    {
     "name": "stdout",
     "output_type": "stream",
     "text": [
      "___________________________________________\n",
      "Epoch 84 Loss 0.0014924346 \n",
      "___________________________________________\n",
      "batch time =  0.07884034654125571\n",
      "************************* start *************************\n",
      "Total % correct 92.58%\n",
      "test time =  79.00482581928372\n",
      "*************************** end ***************************\n"
     ]
    },
    {
     "name": "stderr",
     "output_type": "stream",
     "text": [
      "Epoch:  85%|████████▌ | 85/100 [11:12:47<2:00:00, 480.03s/it]"
     ]
    },
    {
     "name": "stdout",
     "output_type": "stream",
     "text": [
      "___________________________________________\n",
      "Epoch 85 Loss 0.0006547791 \n",
      "___________________________________________\n",
      "batch time =  0.12418512301519513\n",
      "************************* start *************************\n",
      "Total % correct 93.91%\n",
      "test time =  85.98308513965458\n",
      "*************************** end ***************************\n"
     ]
    },
    {
     "name": "stderr",
     "output_type": "stream",
     "text": [
      "Epoch:  86%|████████▌ | 86/100 [11:20:43<1:51:41, 478.69s/it]"
     ]
    },
    {
     "name": "stdout",
     "output_type": "stream",
     "text": [
      "___________________________________________\n",
      "Epoch 86 Loss 0.0009364320 \n",
      "___________________________________________\n",
      "batch time =  0.08870648592710495\n",
      "************************* start *************************\n",
      "Total % correct 99.81%\n",
      "test time =  78.36515699187294\n",
      "*************************** end ***************************\n"
     ]
    },
    {
     "name": "stderr",
     "output_type": "stream",
     "text": [
      "Epoch:  87%|████████▋ | 87/100 [11:28:39<1:43:34, 478.00s/it]"
     ]
    },
    {
     "name": "stdout",
     "output_type": "stream",
     "text": [
      "___________________________________________\n",
      "Epoch 87 Loss 0.0000004619 \n",
      "___________________________________________\n",
      "batch time =  0.09664964536204934\n",
      "************************* start *************************\n",
      "Total % correct 97.97%\n",
      "test time =  79.76285396702588\n",
      "*************************** end ***************************\n"
     ]
    },
    {
     "name": "stderr",
     "output_type": "stream",
     "text": [
      "Epoch:  88%|████████▊ | 88/100 [11:36:27<1:35:00, 475.04s/it]"
     ]
    },
    {
     "name": "stdout",
     "output_type": "stream",
     "text": [
      "___________________________________________\n",
      "Epoch 88 Loss 0.0004854911 \n",
      "___________________________________________\n",
      "batch time =  0.09746291395276785\n",
      "************************* start *************************\n",
      "Total % correct 94.75%\n",
      "test time =  78.30886711971834\n",
      "*************************** end ***************************\n"
     ]
    },
    {
     "name": "stderr",
     "output_type": "stream",
     "text": [
      "Epoch:  89%|████████▉ | 89/100 [11:44:22<1:27:04, 474.92s/it]"
     ]
    },
    {
     "name": "stdout",
     "output_type": "stream",
     "text": [
      "___________________________________________\n",
      "Epoch 89 Loss 0.0006429770 \n",
      "___________________________________________\n",
      "batch time =  0.08396210195496678\n",
      "************************* start *************************\n",
      "Total % correct 99.15%\n",
      "test time =  78.42446433706209\n",
      "*************************** end ***************************\n"
     ]
    },
    {
     "name": "stderr",
     "output_type": "stream",
     "text": [
      "Epoch:  90%|█████████ | 90/100 [11:52:11<1:18:50, 473.06s/it]"
     ]
    },
    {
     "name": "stdout",
     "output_type": "stream",
     "text": [
      "___________________________________________\n",
      "Epoch 90 Loss 0.0004863385 \n",
      "___________________________________________\n",
      "batch time =  0.10453781811520457\n",
      "************************* start *************************\n",
      "Total % correct 99.75%\n",
      "test time =  78.62749265879393\n",
      "*************************** end ***************************\n"
     ]
    },
    {
     "name": "stderr",
     "output_type": "stream",
     "text": [
      "Epoch:  91%|█████████ | 91/100 [12:00:06<1:11:04, 473.84s/it]"
     ]
    },
    {
     "name": "stdout",
     "output_type": "stream",
     "text": [
      "___________________________________________\n",
      "Epoch 91 Loss 0.0006752406 \n",
      "___________________________________________\n",
      "batch time =  0.12051725294440985\n",
      "************************* start *************************\n",
      "Total % correct 98.85%\n",
      "test time =  78.05972299538553\n",
      "*************************** end ***************************\n"
     ]
    },
    {
     "name": "stderr",
     "output_type": "stream",
     "text": [
      "Epoch:  92%|█████████▏| 92/100 [12:08:00<1:03:09, 473.69s/it]"
     ]
    },
    {
     "name": "stdout",
     "output_type": "stream",
     "text": [
      "___________________________________________\n",
      "Epoch 92 Loss 0.0000043808 \n",
      "___________________________________________\n",
      "batch time =  0.08666736260056496\n",
      "************************* start *************************\n",
      "Total % correct 95.59%\n",
      "test time =  78.82841773191467\n",
      "*************************** end ***************************\n"
     ]
    },
    {
     "name": "stderr",
     "output_type": "stream",
     "text": [
      "Epoch:  93%|█████████▎| 93/100 [12:15:56<55:22, 474.64s/it]  "
     ]
    },
    {
     "name": "stdout",
     "output_type": "stream",
     "text": [
      "___________________________________________\n",
      "Epoch 93 Loss 0.0006303577 \n",
      "___________________________________________\n",
      "batch time =  0.08030268177390099\n",
      "************************* start *************************\n",
      "Total % correct 96.55%\n",
      "test time =  78.01766735315323\n",
      "*************************** end ***************************\n"
     ]
    },
    {
     "name": "stderr",
     "output_type": "stream",
     "text": [
      "Epoch:  94%|█████████▍| 94/100 [12:23:49<47:24, 474.01s/it]"
     ]
    },
    {
     "name": "stdout",
     "output_type": "stream",
     "text": [
      "___________________________________________\n",
      "Epoch 94 Loss 0.0011201173 \n",
      "___________________________________________\n",
      "batch time =  0.08767319191247225\n",
      "************************* start *************************\n",
      "Total % correct 99.91%\n",
      "test time =  80.1717687966302\n",
      "*************************** end ***************************\n"
     ]
    },
    {
     "name": "stderr",
     "output_type": "stream",
     "text": [
      "Epoch:  95%|█████████▌| 95/100 [12:31:45<39:32, 474.54s/it]"
     ]
    },
    {
     "name": "stdout",
     "output_type": "stream",
     "text": [
      "___________________________________________\n",
      "Epoch 95 Loss 0.0015966012 \n",
      "___________________________________________\n",
      "batch time =  0.08623057510703802\n",
      "************************* start *************************\n",
      "Total % correct 93.74%\n",
      "test time =  78.40830917097628\n",
      "*************************** end ***************************\n"
     ]
    },
    {
     "name": "stderr",
     "output_type": "stream",
     "text": [
      "Epoch:  96%|█████████▌| 96/100 [12:39:38<31:36, 474.20s/it]"
     ]
    },
    {
     "name": "stdout",
     "output_type": "stream",
     "text": [
      "___________________________________________\n",
      "Epoch 96 Loss 0.0006776669 \n",
      "___________________________________________\n",
      "batch time =  0.09164707409217954\n",
      "************************* start *************************\n",
      "Total % correct 91.12%\n",
      "test time =  80.82957376912236\n",
      "*************************** end ***************************\n"
     ]
    },
    {
     "name": "stderr",
     "output_type": "stream",
     "text": [
      "Epoch:  97%|█████████▋| 97/100 [12:47:35<23:44, 474.94s/it]"
     ]
    },
    {
     "name": "stdout",
     "output_type": "stream",
     "text": [
      "___________________________________________\n",
      "Epoch 97 Loss 0.0008161529 \n",
      "___________________________________________\n",
      "batch time =  0.08836162509396672\n",
      "************************* start *************************\n",
      "Total % correct 96.68%\n",
      "test time =  78.01226957002655\n",
      "*************************** end ***************************\n"
     ]
    },
    {
     "name": "stderr",
     "output_type": "stream",
     "text": [
      "Epoch:  98%|█████████▊| 98/100 [12:55:32<15:51, 475.57s/it]"
     ]
    },
    {
     "name": "stdout",
     "output_type": "stream",
     "text": [
      "___________________________________________\n",
      "Epoch 98 Loss 0.0005991160 \n",
      "___________________________________________\n",
      "batch time =  0.08460911922156811\n",
      "************************* start *************************\n",
      "Total % correct 97.20%\n",
      "test time =  85.17742343526334\n",
      "*************************** end ***************************\n"
     ]
    },
    {
     "name": "stderr",
     "output_type": "stream",
     "text": [
      "Epoch:  99%|█████████▉| 99/100 [13:03:33<07:57, 477.36s/it]"
     ]
    },
    {
     "name": "stdout",
     "output_type": "stream",
     "text": [
      "___________________________________________\n",
      "Epoch 99 Loss 0.0006552175 \n",
      "___________________________________________\n",
      "batch time =  0.09994984231889248\n",
      "************************* start *************************\n",
      "Total % correct 96.44%\n",
      "test time =  78.04524772102013\n",
      "*************************** end ***************************\n"
     ]
    },
    {
     "name": "stderr",
     "output_type": "stream",
     "text": [
      "Epoch: 100%|██████████| 100/100 [13:11:31<00:00, 474.92s/it]"
     ]
    },
    {
     "name": "stdout",
     "output_type": "stream",
     "text": [
      "___________________________________________\n",
      "Epoch 100 Loss 0.0011367466 \n",
      "___________________________________________\n"
     ]
    },
    {
     "name": "stderr",
     "output_type": "stream",
     "text": [
      "\n"
     ]
    }
   ],
   "source": [
    "total = 100\n",
    "loss_plot,total_plot = train_net(total)"
   ]
  },
  {
   "cell_type": "code",
   "execution_count": 81,
   "metadata": {},
   "outputs": [],
   "source": [
    "path_plot_fig = \"/home/david/sigMF_ML/RF/RF_class/plot_data/\" # ACE\n",
    "os.chdir(path_plot_fig)\n",
    "# num = 20\n",
    "np.save('resnet18_2D_20210227_10dB_1e4lr', np.asarray(total_plot))\n",
    "np.save('resnet18_2D_20210227_10dB_1e4lr_2', total_plot) "
   ]
  },
  {
   "cell_type": "code",
   "execution_count": 85,
   "metadata": {},
   "outputs": [
    {
     "data": {
      "text/plain": [
       "<matplotlib.figure.Figure at 0x7f3ec206a898>"
      ]
     },
     "metadata": {},
     "output_type": "display_data"
    },
    {
     "data": {
      "image/png": "[encoded data removed]",
      "text/plain": [
       "<matplotlib.figure.Figure at 0x7f3ec206a0b8>"
      ]
     },
     "metadata": {},
     "output_type": "display_data"
    }
   ],
   "source": [
    "os.chdir(path_fig)\n",
    "plt.figure(figsize=(9, 6))\n",
    "fig = plt.figure()\n",
    "plt.plot(total_plot[:5],c='r', label='Total patches correct')\n",
    "plt.legend(loc='lower right')\n",
    "plt.title('Total % correct vs batches')\n",
    "plt.xlabel('Batch number')\n",
    "plt.ylabel('% correct')\n",
    "plt.grid()\n",
    "fig.savefig('ResNet50_v58_20210211_2D_10dB_noise_autosave_correct.pdf', format=\"pdf\")\n",
    "plt.show()"
   ]
  },
  {
   "cell_type": "code",
   "execution_count": 86,
   "metadata": {},
   "outputs": [
    {
     "data": {
      "text/plain": [
       "<matplotlib.figure.Figure at 0x7f3ec4901da0>"
      ]
     },
     "metadata": {},
     "output_type": "display_data"
    },
    {
     "data": {
      "image/png": "[encoded data removed]",
      "text/plain": [
       "<matplotlib.figure.Figure at 0x7f3ec4901d30>"
      ]
     },
     "metadata": {},
     "output_type": "display_data"
    }
   ],
   "source": [
    "os.chdir(path_fig)\n",
    "plt.figure(figsize=(9, 6))\n",
    "fig = plt.figure()\n",
    "plt.plot(loss_plot,c='r', label='Loss curve')\n",
    "plt.legend(loc='upper right')\n",
    "plt.title('Loss vs Epochs')\n",
    "plt.xlabel('Epochs')\n",
    "plt.ylabel('Loss')\n",
    "plt.grid()\n",
    "fig.savefig('ResNet50_v58_20210211_2D_10dB_noise_autosave_loss.pdf', format=\"pdf\")\n",
    "plt.show()"
   ]
  },
  {
   "cell_type": "markdown",
   "metadata": {},
   "source": [
    "### LIVE inferencing"
   ]
  },
  {
   "cell_type": "code",
   "execution_count": 138,
   "metadata": {
    "scrolled": true
   },
   "outputs": [],
   "source": [
    "# !python3 /home/david/sigMF_ML/gnuradio/record_live.py"
   ]
  },
  {
   "cell_type": "markdown",
   "metadata": {},
   "source": [
    "#### 2D tensor with 300 noise\n",
    "vodeson - 10\n",
    "lora250 - 0\n",
    "lora125 - \n",
    "click - 10\n",
    "sado - 4ish\n",
    "light - \n",
    "tyt - \n",
    "GD55\n",
    "nfm - \n"
   ]
  },
  {
   "cell_type": "markdown",
   "metadata": {},
   "source": [
    "###  TESTING"
   ]
  },
  {
   "cell_type": "code",
   "execution_count": 158,
   "metadata": {
    "scrolled": true
   },
   "outputs": [
    {
     "name": "stdout",
     "output_type": "stream",
     "text": [
      "\u001b[0;32m[INFO] [UHD] \u001b[0;39mlinux; GNU C++ version 7.5.0; Boost_106501; UHD_3.15.0.0-62-g7a3f1516\n",
      "\u001b[0;32m[INFO] [B200] \u001b[0;39mDetected Device: B205mini\n",
      "\u001b[0;32m[INFO] [B200] \u001b[0;39mOperating over USB 3.\n",
      "\u001b[0;32m[INFO] [B200] \u001b[0;39mInitialize CODEC control...\n",
      "\u001b[0;32m[INFO] [B200] \u001b[0;39mInitialize Radio control...\n",
      "\u001b[0;32m[INFO] [B200] \u001b[0;39mPerforming register loopback test... \n",
      "\u001b[0;32m[INFO] [B200] \u001b[0;39mRegister loopback test passed\n",
      "\u001b[0;32m[INFO] [B200] \u001b[0;39mSetting master clock rate selection to 'automatic'.\n",
      "\u001b[0;32m[INFO] [B200] \u001b[0;39mAsking for clock rate 16.000000 MHz... \n",
      "\u001b[0;32m[INFO] [B200] \u001b[0;39mActually got clock rate 16.000000 MHz.\n",
      "\u001b[0;32m[INFO] [B200] \u001b[0;39mAsking for clock rate 25.000000 MHz... \n",
      "\u001b[0;32m[INFO] [B200] \u001b[0;39mActually got clock rate 25.000000 MHz.\n",
      "\u001b[0;32m[INFO] [MULTI_USRP] \u001b[0;39m    1) catch time transition at pps edge\n",
      "\u001b[0;32m[INFO] [MULTI_USRP] \u001b[0;39m    2) set times next pps (synchronously)\n",
      "gr::log :INFO: sink0 - No core:datetime found, using host ts instead\n",
      "OOOinference file name =  test1.sigmf-meta\n",
      "iq_read_test live\n",
      "gpu_test live function\n",
      "I length =  125000000\n",
      "Q length =  125000000\n",
      "gpu_test live IQ shape = torch.Size([25600, 9766, 2])\n",
      "FINAL gpu_test LIVE IQ shape = torch.Size([12800, 9766, 2])\n",
      "start_frequency =  428.0\n",
      "sigmf_data =  (12800, 9766, 2)\n",
      "frequency =  12800   time =  9766\n",
      "seg_time =  43 seg_freq =  57\n",
      "data_IQ shape =  (2451, 224, 224, 2)\n",
      "testing counter =  tensor([2451]) seg_freq = tensor([57])\n",
      "seg_freq =  tensor([57])\n"
     ]
    },
    {
     "data": {
      "image/png": "[encoded data removed]",
      "text/plain": [
       "<matplotlib.figure.Figure at 0x7fcce7643eb8>"
      ]
     },
     "metadata": {},
     "output_type": "display_data"
    },
    {
     "name": "stdout",
     "output_type": "stream",
     "text": [
      "freq_increment =  219298.24561403508\n",
      "TESTING inputs SHAPE =  torch.Size([1, 2451, 224, 224, 2])\n",
      "input in   =  torch.Size([1, 2451, 224, 224, 2])\n",
      "input out  =  torch.Size([2451, 224, 224, 2])\n",
      "counter convert stuff =  tensor([2451]) <class 'numpy.ndarray'>\n",
      "permuted shape =  torch.Size([2451, 2, 224, 224])\n",
      "mean Freq =    433.92\n",
      "std Freq =      0.18\n",
      "length of inputs =  2451\n"
     ]
    },
    {
     "data": {
      "image/png": "[encoded data removed]",
      "text/plain": [
       "<matplotlib.figure.Figure at 0x7fcce29571d0>"
      ]
     },
     "metadata": {},
     "output_type": "display_data"
    },
    {
     "name": "stdout",
     "output_type": "stream",
     "text": [
      "************************* Probabilities ********************************\n",
      "----------------------------WAVEFORMS-----------------------------------\n",
      "LoRa 125 = 0.00%\n",
      "GD55 DMR = 0.00%\n",
      "NFM = 11.63%\n",
      "TYT = 21.71\n",
      "Vodeson Doorbell = 1.55%\n",
      "clickndig = 0.00%\n",
      "Sado doorbell = 0.00%\n",
      "LoRa 250 = 65.12%\n",
      "light switch = 0.00%\n",
      "YSF = 0.00%\n",
      "------------------------------------------------------------------------\n",
      "***************************** noise and fft ****************************\n",
      "noise matches =  2322\n",
      "center fft matches =  0\n",
      "TOTAL patch count =  2451\n",
      "***************************** Finished *********************************\n"
     ]
    }
   ],
   "source": [
    "msps = 25\n",
    "center_freq_live = 428.0e6 # when SDR doing 25MSPS with center at 428MHz, or 433.65e6, 428.00e6\n",
    "# testing new decimator\n",
    "!python3 /home/david/sigMF_ML/gnuradio/record_live_25msps.py\n",
    "# !python3 /home/david/sigMF_ML/gnuradio/record_live1msps.py\n",
    "# usrp_data_collect_1MSPS()\n",
    "data_IQ_list_val, meta_list_val = inference_read(msps)\n",
    "testing_live(msps)\n",
    "torch.cuda.empty_cache()"
   ]
  },
  {
   "cell_type": "code",
   "execution_count": null,
   "metadata": {},
   "outputs": [],
   "source": [
    "msps = 5\n",
    "center_freq_live = 433.0e6 # when SDR doing 25MSPS with center at 428MHz, or 433.65e6, 428.00e6\n",
    "!python3 /home/david/sigMF_ML/gnuradio/record_live_5msps.py\n",
    "# !python3 /home/david/sigMF_ML/gnuradio/record_live1msps.py\n",
    "# usrp_data_collect_1MSPS()\n",
    "data_IQ_list_val, meta_list_val = inference_read(msps)\n",
    "testing_live(msps)\n",
    "torch.cuda.empty_cache()"
   ]
  },
  {
   "cell_type": "code",
   "execution_count": 116,
   "metadata": {
    "scrolled": false
   },
   "outputs": [
    {
     "name": "stdout",
     "output_type": "stream",
     "text": [
      "\u001b[0;32m[INFO] [UHD] \u001b[0;39mlinux; GNU C++ version 7.5.0; Boost_106501; UHD_3.15.0.0-62-g7a3f1516\n",
      "\u001b[0;32m[INFO] [B200] \u001b[0;39mDetected Device: B205mini\n",
      "\u001b[0;32m[INFO] [B200] \u001b[0;39mOperating over USB 3.\n",
      "\u001b[0;32m[INFO] [B200] \u001b[0;39mInitialize CODEC control...\n",
      "\u001b[0;32m[INFO] [B200] \u001b[0;39mInitialize Radio control...\n",
      "\u001b[0;32m[INFO] [B200] \u001b[0;39mPerforming register loopback test... \n",
      "\u001b[0;32m[INFO] [B200] \u001b[0;39mRegister loopback test passed\n",
      "\u001b[0;32m[INFO] [B200] \u001b[0;39mSetting master clock rate selection to 'automatic'.\n",
      "\u001b[0;32m[INFO] [B200] \u001b[0;39mAsking for clock rate 16.000000 MHz... \n",
      "\u001b[0;32m[INFO] [B200] \u001b[0;39mActually got clock rate 16.000000 MHz.\n",
      "\u001b[0;32m[INFO] [B200] \u001b[0;39mAsking for clock rate 25.000000 MHz... \n",
      "\u001b[0;32m[INFO] [B200] \u001b[0;39mActually got clock rate 25.000000 MHz.\n",
      "\u001b[0;32m[INFO] [MULTI_USRP] \u001b[0;39m    1) catch time transition at pps edge\n",
      "\u001b[0;32m[INFO] [MULTI_USRP] \u001b[0;39m    2) set times next pps (synchronously)\n",
      "gr::log :INFO: sink0 - No core:datetime found, using host ts instead\n",
      "OOinference file name =  test1.sigmf-meta\n",
      "iq_read_test live\n",
      "gpu_test live function\n",
      "I length =  5000000\n",
      "Q length =  5000000\n",
      "1024 MSPS\n",
      "gpu_test live IQ shape = torch.Size([513, 9766, 2])\n",
      "FINAL gpu_test LIVE IQ shape = torch.Size([512, 9766, 2])\n",
      "iq_read_test live imshow method\n"
     ]
    },
    {
     "data": {
      "image/png": "[encoded data removed]",
      "text/plain": [
       "<matplotlib.figure.Figure at 0x7f9b7420e780>"
      ]
     },
     "metadata": {},
     "output_type": "display_data"
    },
    {
     "name": "stdout",
     "output_type": "stream",
     "text": [
      "start_frequency =  433.65\n",
      "sigmf_data =  (512, 9766, 2)\n",
      "frequency =  512   time =  9766\n",
      "seg_time =  43 seg_freq =  2\n",
      "data_IQ shape =  (86, 224, 224, 2)\n",
      "testing counter =  tensor([86]) seg_freq = tensor([2])\n",
      "seg_freq =  tensor([2])\n"
     ]
    },
    {
     "data": {
      "image/png": "[encoded data removed]",
      "text/plain": [
       "<matplotlib.figure.Figure at 0x7f9b16fef080>"
      ]
     },
     "metadata": {},
     "output_type": "display_data"
    },
    {
     "name": "stdout",
     "output_type": "stream",
     "text": [
      "freq_increment =  250000.0\n",
      "TESTING inputs SHAPE =  torch.Size([1, 86, 224, 224, 2])\n",
      "input in   =  torch.Size([1, 86, 224, 224, 2])\n",
      "input out  =  torch.Size([86, 224, 224, 2])\n",
      "counter convert stuff =  tensor([86]) <class 'numpy.ndarray'>\n",
      "permuted shape =  torch.Size([86, 2, 224, 224])\n",
      "mean Freq =    433.90\n",
      "std Freq =      0.00\n",
      "length of inputs =  86\n"
     ]
    },
    {
     "data": {
      "image/png": "[encoded data removed]",
      "text/plain": [
       "<matplotlib.figure.Figure at 0x7f9b74dbe898>"
      ]
     },
     "metadata": {},
     "output_type": "display_data"
    },
    {
     "name": "stdout",
     "output_type": "stream",
     "text": [
      "************************* Probabilities ********************************\n",
      "----------------------------WAVEFORMS-----------------------------------\n",
      "LoRa 125 = 0.00%\n",
      "GD55 DMR = 0.00%\n",
      "NFM = 5.71%\n",
      "TYT = 0.00\n",
      "Vodeson Doorbell = 0.00%\n",
      "clickndig = 0.00%\n",
      "Sado doorbell = 0.00%\n",
      "LoRa 250 = 0.00%\n",
      "light switch = 65.71%\n",
      "YSF = 28.57%\n",
      "------------------------------------------------------------------------\n",
      "***************************** noise and fft ****************************\n",
      "noise matches =  51\n",
      "center fft matches =  0\n",
      "TOTAL patch count =  86\n",
      "***************************** Finished *********************************\n"
     ]
    }
   ],
   "source": [
    "msps = 1\n",
    "center_freq_live = 433.65e6 # when SDR doing 25MSPS with center at 428MHz, or 433.65e6, 428.00e6\n",
    "# testing new decimator\n",
    "!python3 /home/david/sigMF_ML/gnuradio/record_live_25to1.py\n",
    "# !python3 /home/david/sigMF_ML/gnuradio/record_live_1msps.py\n",
    "# usrp_data_collect_1MSPS()\n",
    "data_IQ_list_val, meta_list_val = inference_read(msps)\n",
    "testing_live(msps)\n",
    "torch.cuda.empty_cache()"
   ]
  },
  {
   "cell_type": "code",
   "execution_count": null,
   "metadata": {},
   "outputs": [],
   "source": [
    "torch.cuda.empty_cache()"
   ]
  },
  {
   "cell_type": "markdown",
   "metadata": {},
   "source": [
    "## testing pre-recorded files in /home/david/sigMF_ML/RF/RF_class/testing_data"
   ]
  },
  {
   "cell_type": "code",
   "execution_count": 41,
   "metadata": {},
   "outputs": [
    {
     "name": "stdout",
     "output_type": "stream",
     "text": [
      "inference file name =  UHF_sado_db1_test6.sigmf-meta\n",
      "iq_read_test live\n",
      "gpu_test live function\n",
      "I length =  125000000\n",
      "Q length =  125000000\n",
      "25600 MSPS\n",
      "gpu_test live IQ shape = torch.Size([12801, 9766, 2])\n",
      "FINAL gpu_test LIVE IQ shape = torch.Size([12800, 9766, 2])\n",
      "start_frequency =  428.0\n",
      "sigmf_data =  (12800, 9766, 2)\n",
      "frequency =  12800   time =  9766\n",
      "seg_time =  43 seg_freq =  57\n",
      "data_IQ shape =  (2451, 224, 224, 2)\n",
      "testing counter =  tensor([2451]) seg_freq = tensor([57])\n",
      "freq_increment =  219298.24561403508\n",
      "TESTING inputs SHAPE =  torch.Size([1, 2451, 224, 224, 2])\n",
      "input in   =  torch.Size([1, 2451, 224, 224, 2])\n",
      "input out  =  torch.Size([2451, 224, 224, 2])\n",
      "counter convert stuff =  tensor([2451]) <class 'numpy.ndarray'>\n",
      "permuted shape =  torch.Size([2451, 2, 224, 224])\n",
      "mean Freq =    433.70\n",
      "std Freq =      0.00\n",
      "length of inputs =  2451\n"
     ]
    },
    {
     "data": {
      "image/png": "[encoded data removed]",
      "text/plain": [
       "<matplotlib.figure.Figure at 0x7f3ec7403908>"
      ]
     },
     "metadata": {},
     "output_type": "display_data"
    },
    {
     "name": "stdout",
     "output_type": "stream",
     "text": [
      "************************* Probabilities ********************************\n",
      "----------------------------WAVEFORMS-----------------------------------\n",
      "LoRa 125 = 0.00%\n",
      "GD55 DMR = 0.00%\n",
      "NFM = 0.00%\n",
      "TYT = 0.00\n",
      "Vodeson Doorbell = 0.00%\n",
      "clickndig = 0.00%\n",
      "Sado doorbell = 0.00%\n",
      "LoRa 250 = 0.00%\n",
      "light switch = 90.70%\n",
      "YSF = 9.30%\n",
      "------------------------------------------------------------------------\n",
      "***************************** noise and fft ****************************\n",
      "noise matches =  2408\n",
      "center fft matches =  0\n",
      "TOTAL patch count =  2451\n",
      "***************************** Finished *********************************\n"
     ]
    }
   ],
   "source": [
    "msps = 25\n",
    "center_freq_file = 428.00e6 # when SDR doing 25MSPS with center at 428MHz, or 433.65e6, 428.00e6\n",
    "data_IQ_list_val, meta_list_val = inference_read_file(msps, path_test_25msps)\n",
    "testing_file(msps)\n",
    "torch.cuda.empty_cache()"
   ]
  },
  {
   "cell_type": "code",
   "execution_count": 42,
   "metadata": {
    "scrolled": false
   },
   "outputs": [
    {
     "name": "stdout",
     "output_type": "stream",
     "text": [
      "inference file name =  UHF_clickndig_fob1_test1.sigmf-meta\n",
      "iq_read_test live\n",
      "gpu_test live function\n",
      "I length =  25000000\n",
      "Q length =  25000000\n",
      "5120 MSPS\n",
      "gpu_test live IQ shape = torch.Size([2561, 9766, 2])\n",
      "FINAL gpu_test LIVE IQ shape = torch.Size([2560, 9766, 2])\n",
      "start_frequency =  433.0\n",
      "sigmf_data =  (2560, 9766, 2)\n",
      "frequency =  2560   time =  9766\n",
      "seg_time =  43 seg_freq =  11\n",
      "data_IQ shape =  (473, 224, 224, 2)\n",
      "testing counter =  tensor([473]) seg_freq = tensor([11])\n",
      "freq_increment =  227272.72727272726\n",
      "TESTING inputs SHAPE =  torch.Size([1, 473, 224, 224, 2])\n",
      "input in   =  torch.Size([1, 473, 224, 224, 2])\n",
      "input out  =  torch.Size([473, 224, 224, 2])\n",
      "counter convert stuff =  tensor([473]) <class 'numpy.ndarray'>\n",
      "permuted shape =  torch.Size([473, 2, 224, 224])\n",
      "mean Freq =    433.68\n",
      "std Freq =      0.00\n",
      "length of inputs =  473\n"
     ]
    },
    {
     "data": {
      "image/png": "[encoded data removed]",
      "text/plain": [
       "<matplotlib.figure.Figure at 0x7f3f1b552e10>"
      ]
     },
     "metadata": {},
     "output_type": "display_data"
    },
    {
     "name": "stdout",
     "output_type": "stream",
     "text": [
      "************************* Probabilities ********************************\n",
      "----------------------------WAVEFORMS-----------------------------------\n",
      "LoRa 125 = 0.00%\n",
      "GD55 DMR = 0.00%\n",
      "NFM = 0.00%\n",
      "TYT = 0.00\n",
      "Vodeson Doorbell = 0.00%\n",
      "clickndig = 0.00%\n",
      "Sado doorbell = 0.00%\n",
      "LoRa 250 = 0.00%\n",
      "light switch = 0.00%\n",
      "YSF = 100.00%\n",
      "------------------------------------------------------------------------\n",
      "***************************** noise and fft ****************************\n",
      "noise matches =  430\n",
      "center fft matches =  0\n",
      "TOTAL patch count =  473\n",
      "***************************** Finished *********************************\n"
     ]
    }
   ],
   "source": [
    "msps = 5\n",
    "center_freq_file = 433.00e6 # when SDR doing 25MSPS with center at 428MHz, or 433.65e6, 428.00e6\n",
    "data_IQ_list_val, meta_list_val = inference_read_file(msps, path_test_5msps)\n",
    "testing_file(msps)\n",
    "torch.cuda.empty_cache()"
   ]
  },
  {
   "cell_type": "code",
   "execution_count": 87,
   "metadata": {},
   "outputs": [
    {
     "name": "stdout",
     "output_type": "stream",
     "text": [
      "inference file name =  UHF_GD55_DMR_talk3_test2.sigmf-meta\n",
      "iq_read_test live\n",
      "gpu_test live function\n",
      "I length =  10000000\n",
      "Q length =  10000000\n",
      "1024 MSPS\n",
      "gpu_test live IQ shape = torch.Size([513, 19532, 2])\n",
      "FINAL gpu_test LIVE IQ shape = torch.Size([512, 19532, 2])\n",
      "start_frequency =  433.65\n",
      "sigmf_data =  (512, 19532, 2)\n",
      "frequency =  512   time =  19532\n",
      "seg_time =  87 seg_freq =  2\n",
      "data_IQ shape =  (174, 224, 224, 2)\n",
      "testing counter =  tensor([174]) seg_freq = tensor([2])\n",
      "freq_increment =  250000.0\n",
      "TESTING inputs SHAPE =  torch.Size([1, 174, 224, 224, 2])\n",
      "input in   =  torch.Size([1, 174, 224, 224, 2])\n",
      "input out  =  torch.Size([174, 224, 224, 2])\n",
      "counter convert stuff =  tensor([174]) <class 'numpy.ndarray'>\n",
      "permuted shape =  torch.Size([174, 2, 224, 224])\n",
      "mean Freq =    433.90\n",
      "std Freq =      0.00\n",
      "length of inputs =  174\n"
     ]
    },
    {
     "data": {
      "image/png": "[encoded data removed]",
      "text/plain": [
       "<matplotlib.figure.Figure at 0x7f3ec20744e0>"
      ]
     },
     "metadata": {},
     "output_type": "display_data"
    },
    {
     "name": "stdout",
     "output_type": "stream",
     "text": [
      "************************* Probabilities ********************************\n",
      "----------------------------WAVEFORMS-----------------------------------\n",
      "LoRa 125 = 0.00%\n",
      "GD55 DMR = 97.70%\n",
      "NFM = 2.30%\n",
      "TYT = 0.00\n",
      "Vodeson Doorbell = 0.00%\n",
      "clickndig = 0.00%\n",
      "Sado doorbell = 0.00%\n",
      "LoRa 250 = 0.00%\n",
      "light switch = 0.00%\n",
      "YSF = 0.00%\n",
      "------------------------------------------------------------------------\n",
      "***************************** noise and fft ****************************\n",
      "noise matches =  87\n",
      "center fft matches =  0\n",
      "TOTAL patch count =  174\n",
      "***************************** Finished *********************************\n"
     ]
    }
   ],
   "source": [
    "msps = 1\n",
    "center_freq_file = 433.65e6 # when SDR doing 25MSPS with center at 428MHz, or 433.65e6, 428.00e6\n",
    "data_IQ_list_val, meta_list_val = inference_read_file(msps, path_test_1msps)\n",
    "testing_file(msps)\n",
    "torch.cuda.empty_cache()"
   ]
  },
  {
   "cell_type": "code",
   "execution_count": 166,
   "metadata": {},
   "outputs": [],
   "source": [
    "torch.cuda.empty_cache()"
   ]
  },
  {
   "cell_type": "markdown",
   "metadata": {},
   "source": [
    "#### Save and Load model data"
   ]
  },
  {
   "cell_type": "markdown",
   "metadata": {},
   "source": [
    "#### save"
   ]
  },
  {
   "cell_type": "code",
   "execution_count": 333,
   "metadata": {},
   "outputs": [],
   "source": [
    "# torch.save(model.state_dict(), PATH)"
   ]
  },
  {
   "cell_type": "markdown",
   "metadata": {},
   "source": [
    "#### load"
   ]
  },
  {
   "cell_type": "code",
   "execution_count": 249,
   "metadata": {},
   "outputs": [
    {
     "data": {
      "text/plain": [
       "ResNet(\n",
       "  (encoder): ResNetEncoder(\n",
       "    (gate): Sequential(\n",
       "      (0): Conv2d(2, 64, kernel_size=(7, 7), stride=(2, 2), padding=(3, 3), bias=False)\n",
       "      (1): BatchNorm2d(64, eps=1e-05, momentum=0.1, affine=True, track_running_stats=True)\n",
       "      (2): ReLU()\n",
       "      (3): MaxPool2d(kernel_size=3, stride=2, padding=1, dilation=1, ceil_mode=False)\n",
       "    )\n",
       "    (blocks): ModuleList(\n",
       "      (0): ResNetLayer(\n",
       "        (blocks): Sequential(\n",
       "          (0): ResNetBottleNeckBlock(\n",
       "            (blocks): Sequential(\n",
       "              (0): Sequential(\n",
       "                (conv): Conv2dAuto(64, 64, kernel_size=(1, 1), stride=(1, 1), bias=False)\n",
       "                (bn): BatchNorm2d(64, eps=1e-05, momentum=0.1, affine=True, track_running_stats=True)\n",
       "              )\n",
       "              (1): ReLU()\n",
       "              (2): Sequential(\n",
       "                (conv): Conv2dAuto(64, 64, kernel_size=(3, 3), stride=(1, 1), padding=(1, 1), bias=False)\n",
       "                (bn): BatchNorm2d(64, eps=1e-05, momentum=0.1, affine=True, track_running_stats=True)\n",
       "              )\n",
       "              (3): ReLU()\n",
       "              (4): Sequential(\n",
       "                (conv): Conv2dAuto(64, 256, kernel_size=(1, 1), stride=(1, 1), bias=False)\n",
       "                (bn): BatchNorm2d(256, eps=1e-05, momentum=0.1, affine=True, track_running_stats=True)\n",
       "              )\n",
       "            )\n",
       "            (shortcut): Sequential(\n",
       "              (conv): Conv2d(64, 256, kernel_size=(1, 1), stride=(1, 1), bias=False)\n",
       "              (bn): BatchNorm2d(256, eps=1e-05, momentum=0.1, affine=True, track_running_stats=True)\n",
       "            )\n",
       "          )\n",
       "          (1): ResNetBottleNeckBlock(\n",
       "            (blocks): Sequential(\n",
       "              (0): Sequential(\n",
       "                (conv): Conv2dAuto(256, 64, kernel_size=(1, 1), stride=(1, 1), bias=False)\n",
       "                (bn): BatchNorm2d(64, eps=1e-05, momentum=0.1, affine=True, track_running_stats=True)\n",
       "              )\n",
       "              (1): ReLU()\n",
       "              (2): Sequential(\n",
       "                (conv): Conv2dAuto(64, 64, kernel_size=(3, 3), stride=(1, 1), padding=(1, 1), bias=False)\n",
       "                (bn): BatchNorm2d(64, eps=1e-05, momentum=0.1, affine=True, track_running_stats=True)\n",
       "              )\n",
       "              (3): ReLU()\n",
       "              (4): Sequential(\n",
       "                (conv): Conv2dAuto(64, 256, kernel_size=(1, 1), stride=(1, 1), bias=False)\n",
       "                (bn): BatchNorm2d(256, eps=1e-05, momentum=0.1, affine=True, track_running_stats=True)\n",
       "              )\n",
       "            )\n",
       "            (shortcut): None\n",
       "          )\n",
       "          (2): ResNetBottleNeckBlock(\n",
       "            (blocks): Sequential(\n",
       "              (0): Sequential(\n",
       "                (conv): Conv2dAuto(256, 64, kernel_size=(1, 1), stride=(1, 1), bias=False)\n",
       "                (bn): BatchNorm2d(64, eps=1e-05, momentum=0.1, affine=True, track_running_stats=True)\n",
       "              )\n",
       "              (1): ReLU()\n",
       "              (2): Sequential(\n",
       "                (conv): Conv2dAuto(64, 64, kernel_size=(3, 3), stride=(1, 1), padding=(1, 1), bias=False)\n",
       "                (bn): BatchNorm2d(64, eps=1e-05, momentum=0.1, affine=True, track_running_stats=True)\n",
       "              )\n",
       "              (3): ReLU()\n",
       "              (4): Sequential(\n",
       "                (conv): Conv2dAuto(64, 256, kernel_size=(1, 1), stride=(1, 1), bias=False)\n",
       "                (bn): BatchNorm2d(256, eps=1e-05, momentum=0.1, affine=True, track_running_stats=True)\n",
       "              )\n",
       "            )\n",
       "            (shortcut): None\n",
       "          )\n",
       "        )\n",
       "      )\n",
       "      (1): ResNetLayer(\n",
       "        (blocks): Sequential(\n",
       "          (0): ResNetBottleNeckBlock(\n",
       "            (blocks): Sequential(\n",
       "              (0): Sequential(\n",
       "                (conv): Conv2dAuto(256, 128, kernel_size=(1, 1), stride=(1, 1), bias=False)\n",
       "                (bn): BatchNorm2d(128, eps=1e-05, momentum=0.1, affine=True, track_running_stats=True)\n",
       "              )\n",
       "              (1): ReLU()\n",
       "              (2): Sequential(\n",
       "                (conv): Conv2dAuto(128, 128, kernel_size=(3, 3), stride=(2, 2), padding=(1, 1), bias=False)\n",
       "                (bn): BatchNorm2d(128, eps=1e-05, momentum=0.1, affine=True, track_running_stats=True)\n",
       "              )\n",
       "              (3): ReLU()\n",
       "              (4): Sequential(\n",
       "                (conv): Conv2dAuto(128, 512, kernel_size=(1, 1), stride=(1, 1), bias=False)\n",
       "                (bn): BatchNorm2d(512, eps=1e-05, momentum=0.1, affine=True, track_running_stats=True)\n",
       "              )\n",
       "            )\n",
       "            (shortcut): Sequential(\n",
       "              (conv): Conv2d(256, 512, kernel_size=(1, 1), stride=(2, 2), bias=False)\n",
       "              (bn): BatchNorm2d(512, eps=1e-05, momentum=0.1, affine=True, track_running_stats=True)\n",
       "            )\n",
       "          )\n",
       "          (1): ResNetBottleNeckBlock(\n",
       "            (blocks): Sequential(\n",
       "              (0): Sequential(\n",
       "                (conv): Conv2dAuto(512, 128, kernel_size=(1, 1), stride=(1, 1), bias=False)\n",
       "                (bn): BatchNorm2d(128, eps=1e-05, momentum=0.1, affine=True, track_running_stats=True)\n",
       "              )\n",
       "              (1): ReLU()\n",
       "              (2): Sequential(\n",
       "                (conv): Conv2dAuto(128, 128, kernel_size=(3, 3), stride=(1, 1), padding=(1, 1), bias=False)\n",
       "                (bn): BatchNorm2d(128, eps=1e-05, momentum=0.1, affine=True, track_running_stats=True)\n",
       "              )\n",
       "              (3): ReLU()\n",
       "              (4): Sequential(\n",
       "                (conv): Conv2dAuto(128, 512, kernel_size=(1, 1), stride=(1, 1), bias=False)\n",
       "                (bn): BatchNorm2d(512, eps=1e-05, momentum=0.1, affine=True, track_running_stats=True)\n",
       "              )\n",
       "            )\n",
       "            (shortcut): None\n",
       "          )\n",
       "          (2): ResNetBottleNeckBlock(\n",
       "            (blocks): Sequential(\n",
       "              (0): Sequential(\n",
       "                (conv): Conv2dAuto(512, 128, kernel_size=(1, 1), stride=(1, 1), bias=False)\n",
       "                (bn): BatchNorm2d(128, eps=1e-05, momentum=0.1, affine=True, track_running_stats=True)\n",
       "              )\n",
       "              (1): ReLU()\n",
       "              (2): Sequential(\n",
       "                (conv): Conv2dAuto(128, 128, kernel_size=(3, 3), stride=(1, 1), padding=(1, 1), bias=False)\n",
       "                (bn): BatchNorm2d(128, eps=1e-05, momentum=0.1, affine=True, track_running_stats=True)\n",
       "              )\n",
       "              (3): ReLU()\n",
       "              (4): Sequential(\n",
       "                (conv): Conv2dAuto(128, 512, kernel_size=(1, 1), stride=(1, 1), bias=False)\n",
       "                (bn): BatchNorm2d(512, eps=1e-05, momentum=0.1, affine=True, track_running_stats=True)\n",
       "              )\n",
       "            )\n",
       "            (shortcut): None\n",
       "          )\n",
       "          (3): ResNetBottleNeckBlock(\n",
       "            (blocks): Sequential(\n",
       "              (0): Sequential(\n",
       "                (conv): Conv2dAuto(512, 128, kernel_size=(1, 1), stride=(1, 1), bias=False)\n",
       "                (bn): BatchNorm2d(128, eps=1e-05, momentum=0.1, affine=True, track_running_stats=True)\n",
       "              )\n",
       "              (1): ReLU()\n",
       "              (2): Sequential(\n",
       "                (conv): Conv2dAuto(128, 128, kernel_size=(3, 3), stride=(1, 1), padding=(1, 1), bias=False)\n",
       "                (bn): BatchNorm2d(128, eps=1e-05, momentum=0.1, affine=True, track_running_stats=True)\n",
       "              )\n",
       "              (3): ReLU()\n",
       "              (4): Sequential(\n",
       "                (conv): Conv2dAuto(128, 512, kernel_size=(1, 1), stride=(1, 1), bias=False)\n",
       "                (bn): BatchNorm2d(512, eps=1e-05, momentum=0.1, affine=True, track_running_stats=True)\n",
       "              )\n",
       "            )\n",
       "            (shortcut): None\n",
       "          )\n",
       "        )\n",
       "      )\n",
       "      (2): ResNetLayer(\n",
       "        (blocks): Sequential(\n",
       "          (0): ResNetBottleNeckBlock(\n",
       "            (blocks): Sequential(\n",
       "              (0): Sequential(\n",
       "                (conv): Conv2dAuto(512, 256, kernel_size=(1, 1), stride=(1, 1), bias=False)\n",
       "                (bn): BatchNorm2d(256, eps=1e-05, momentum=0.1, affine=True, track_running_stats=True)\n",
       "              )\n",
       "              (1): ReLU()\n",
       "              (2): Sequential(\n",
       "                (conv): Conv2dAuto(256, 256, kernel_size=(3, 3), stride=(2, 2), padding=(1, 1), bias=False)\n",
       "                (bn): BatchNorm2d(256, eps=1e-05, momentum=0.1, affine=True, track_running_stats=True)\n",
       "              )\n",
       "              (3): ReLU()\n",
       "              (4): Sequential(\n",
       "                (conv): Conv2dAuto(256, 1024, kernel_size=(1, 1), stride=(1, 1), bias=False)\n",
       "                (bn): BatchNorm2d(1024, eps=1e-05, momentum=0.1, affine=True, track_running_stats=True)\n",
       "              )\n",
       "            )\n",
       "            (shortcut): Sequential(\n",
       "              (conv): Conv2d(512, 1024, kernel_size=(1, 1), stride=(2, 2), bias=False)\n",
       "              (bn): BatchNorm2d(1024, eps=1e-05, momentum=0.1, affine=True, track_running_stats=True)\n",
       "            )\n",
       "          )\n",
       "          (1): ResNetBottleNeckBlock(\n",
       "            (blocks): Sequential(\n",
       "              (0): Sequential(\n",
       "                (conv): Conv2dAuto(1024, 256, kernel_size=(1, 1), stride=(1, 1), bias=False)\n",
       "                (bn): BatchNorm2d(256, eps=1e-05, momentum=0.1, affine=True, track_running_stats=True)\n",
       "              )\n",
       "              (1): ReLU()\n",
       "              (2): Sequential(\n",
       "                (conv): Conv2dAuto(256, 256, kernel_size=(3, 3), stride=(1, 1), padding=(1, 1), bias=False)\n",
       "                (bn): BatchNorm2d(256, eps=1e-05, momentum=0.1, affine=True, track_running_stats=True)\n",
       "              )\n",
       "              (3): ReLU()\n",
       "              (4): Sequential(\n",
       "                (conv): Conv2dAuto(256, 1024, kernel_size=(1, 1), stride=(1, 1), bias=False)\n",
       "                (bn): BatchNorm2d(1024, eps=1e-05, momentum=0.1, affine=True, track_running_stats=True)\n",
       "              )\n",
       "            )\n",
       "            (shortcut): None\n",
       "          )\n",
       "          (2): ResNetBottleNeckBlock(\n",
       "            (blocks): Sequential(\n",
       "              (0): Sequential(\n",
       "                (conv): Conv2dAuto(1024, 256, kernel_size=(1, 1), stride=(1, 1), bias=False)\n",
       "                (bn): BatchNorm2d(256, eps=1e-05, momentum=0.1, affine=True, track_running_stats=True)\n",
       "              )\n",
       "              (1): ReLU()\n",
       "              (2): Sequential(\n",
       "                (conv): Conv2dAuto(256, 256, kernel_size=(3, 3), stride=(1, 1), padding=(1, 1), bias=False)\n",
       "                (bn): BatchNorm2d(256, eps=1e-05, momentum=0.1, affine=True, track_running_stats=True)\n",
       "              )\n",
       "              (3): ReLU()\n",
       "              (4): Sequential(\n",
       "                (conv): Conv2dAuto(256, 1024, kernel_size=(1, 1), stride=(1, 1), bias=False)\n",
       "                (bn): BatchNorm2d(1024, eps=1e-05, momentum=0.1, affine=True, track_running_stats=True)\n",
       "              )\n",
       "            )\n",
       "            (shortcut): None\n",
       "          )\n",
       "          (3): ResNetBottleNeckBlock(\n",
       "            (blocks): Sequential(\n",
       "              (0): Sequential(\n",
       "                (conv): Conv2dAuto(1024, 256, kernel_size=(1, 1), stride=(1, 1), bias=False)\n",
       "                (bn): BatchNorm2d(256, eps=1e-05, momentum=0.1, affine=True, track_running_stats=True)\n",
       "              )\n",
       "              (1): ReLU()\n",
       "              (2): Sequential(\n",
       "                (conv): Conv2dAuto(256, 256, kernel_size=(3, 3), stride=(1, 1), padding=(1, 1), bias=False)\n",
       "                (bn): BatchNorm2d(256, eps=1e-05, momentum=0.1, affine=True, track_running_stats=True)\n",
       "              )\n",
       "              (3): ReLU()\n",
       "              (4): Sequential(\n",
       "                (conv): Conv2dAuto(256, 1024, kernel_size=(1, 1), stride=(1, 1), bias=False)\n",
       "                (bn): BatchNorm2d(1024, eps=1e-05, momentum=0.1, affine=True, track_running_stats=True)\n",
       "              )\n",
       "            )\n",
       "            (shortcut): None\n",
       "          )\n",
       "          (4): ResNetBottleNeckBlock(\n",
       "            (blocks): Sequential(\n",
       "              (0): Sequential(\n",
       "                (conv): Conv2dAuto(1024, 256, kernel_size=(1, 1), stride=(1, 1), bias=False)\n",
       "                (bn): BatchNorm2d(256, eps=1e-05, momentum=0.1, affine=True, track_running_stats=True)\n",
       "              )\n",
       "              (1): ReLU()\n",
       "              (2): Sequential(\n",
       "                (conv): Conv2dAuto(256, 256, kernel_size=(3, 3), stride=(1, 1), padding=(1, 1), bias=False)\n",
       "                (bn): BatchNorm2d(256, eps=1e-05, momentum=0.1, affine=True, track_running_stats=True)\n",
       "              )\n",
       "              (3): ReLU()\n",
       "              (4): Sequential(\n",
       "                (conv): Conv2dAuto(256, 1024, kernel_size=(1, 1), stride=(1, 1), bias=False)\n",
       "                (bn): BatchNorm2d(1024, eps=1e-05, momentum=0.1, affine=True, track_running_stats=True)\n",
       "              )\n",
       "            )\n",
       "            (shortcut): None\n",
       "          )\n",
       "          (5): ResNetBottleNeckBlock(\n",
       "            (blocks): Sequential(\n",
       "              (0): Sequential(\n",
       "                (conv): Conv2dAuto(1024, 256, kernel_size=(1, 1), stride=(1, 1), bias=False)\n",
       "                (bn): BatchNorm2d(256, eps=1e-05, momentum=0.1, affine=True, track_running_stats=True)\n",
       "              )\n",
       "              (1): ReLU()\n",
       "              (2): Sequential(\n",
       "                (conv): Conv2dAuto(256, 256, kernel_size=(3, 3), stride=(1, 1), padding=(1, 1), bias=False)\n",
       "                (bn): BatchNorm2d(256, eps=1e-05, momentum=0.1, affine=True, track_running_stats=True)\n",
       "              )\n",
       "              (3): ReLU()\n",
       "              (4): Sequential(\n",
       "                (conv): Conv2dAuto(256, 1024, kernel_size=(1, 1), stride=(1, 1), bias=False)\n",
       "                (bn): BatchNorm2d(1024, eps=1e-05, momentum=0.1, affine=True, track_running_stats=True)\n",
       "              )\n",
       "            )\n",
       "            (shortcut): None\n",
       "          )\n",
       "        )\n",
       "      )\n",
       "      (3): ResNetLayer(\n",
       "        (blocks): Sequential(\n",
       "          (0): ResNetBottleNeckBlock(\n",
       "            (blocks): Sequential(\n",
       "              (0): Sequential(\n",
       "                (conv): Conv2dAuto(1024, 512, kernel_size=(1, 1), stride=(1, 1), bias=False)\n",
       "                (bn): BatchNorm2d(512, eps=1e-05, momentum=0.1, affine=True, track_running_stats=True)\n",
       "              )\n",
       "              (1): ReLU()\n",
       "              (2): Sequential(\n",
       "                (conv): Conv2dAuto(512, 512, kernel_size=(3, 3), stride=(2, 2), padding=(1, 1), bias=False)\n",
       "                (bn): BatchNorm2d(512, eps=1e-05, momentum=0.1, affine=True, track_running_stats=True)\n",
       "              )\n",
       "              (3): ReLU()\n",
       "              (4): Sequential(\n",
       "                (conv): Conv2dAuto(512, 2048, kernel_size=(1, 1), stride=(1, 1), bias=False)\n",
       "                (bn): BatchNorm2d(2048, eps=1e-05, momentum=0.1, affine=True, track_running_stats=True)\n",
       "              )\n",
       "            )\n",
       "            (shortcut): Sequential(\n",
       "              (conv): Conv2d(1024, 2048, kernel_size=(1, 1), stride=(2, 2), bias=False)\n",
       "              (bn): BatchNorm2d(2048, eps=1e-05, momentum=0.1, affine=True, track_running_stats=True)\n",
       "            )\n",
       "          )\n",
       "          (1): ResNetBottleNeckBlock(\n",
       "            (blocks): Sequential(\n",
       "              (0): Sequential(\n",
       "                (conv): Conv2dAuto(2048, 512, kernel_size=(1, 1), stride=(1, 1), bias=False)\n",
       "                (bn): BatchNorm2d(512, eps=1e-05, momentum=0.1, affine=True, track_running_stats=True)\n",
       "              )\n",
       "              (1): ReLU()\n",
       "              (2): Sequential(\n",
       "                (conv): Conv2dAuto(512, 512, kernel_size=(3, 3), stride=(1, 1), padding=(1, 1), bias=False)\n",
       "                (bn): BatchNorm2d(512, eps=1e-05, momentum=0.1, affine=True, track_running_stats=True)\n",
       "              )\n",
       "              (3): ReLU()\n",
       "              (4): Sequential(\n",
       "                (conv): Conv2dAuto(512, 2048, kernel_size=(1, 1), stride=(1, 1), bias=False)\n",
       "                (bn): BatchNorm2d(2048, eps=1e-05, momentum=0.1, affine=True, track_running_stats=True)\n",
       "              )\n",
       "            )\n",
       "            (shortcut): None\n",
       "          )\n",
       "          (2): ResNetBottleNeckBlock(\n",
       "            (blocks): Sequential(\n",
       "              (0): Sequential(\n",
       "                (conv): Conv2dAuto(2048, 512, kernel_size=(1, 1), stride=(1, 1), bias=False)\n",
       "                (bn): BatchNorm2d(512, eps=1e-05, momentum=0.1, affine=True, track_running_stats=True)\n",
       "              )\n",
       "              (1): ReLU()\n",
       "              (2): Sequential(\n",
       "                (conv): Conv2dAuto(512, 512, kernel_size=(3, 3), stride=(1, 1), padding=(1, 1), bias=False)\n",
       "                (bn): BatchNorm2d(512, eps=1e-05, momentum=0.1, affine=True, track_running_stats=True)\n",
       "              )\n",
       "              (3): ReLU()\n",
       "              (4): Sequential(\n",
       "                (conv): Conv2dAuto(512, 2048, kernel_size=(1, 1), stride=(1, 1), bias=False)\n",
       "                (bn): BatchNorm2d(2048, eps=1e-05, momentum=0.1, affine=True, track_running_stats=True)\n",
       "              )\n",
       "            )\n",
       "            (shortcut): None\n",
       "          )\n",
       "        )\n",
       "      )\n",
       "    )\n",
       "  )\n",
       "  (decoder): ResnetDecoder(\n",
       "    (avg): AdaptiveAvgPool2d(output_size=(1, 1))\n",
       "    (decoder): Linear(in_features=2048, out_features=12, bias=True)\n",
       "  )\n",
       ")"
      ]
     },
     "execution_count": 249,
     "metadata": {},
     "output_type": "execute_result"
    }
   ],
   "source": [
    "# device = torch.device(\"cuda:0\")\n",
    "# model = resnet50(2, 12)\n",
    "# model.load_state_dict(torch.load(PATH))\n",
    "# model.to(device)\n",
    "# model.eval()"
   ]
  },
  {
   "cell_type": "code",
   "execution_count": 45,
   "metadata": {},
   "outputs": [],
   "source": [
    "# # Print model's state_dict\n",
    "# print(\"Model's state_dict:\")\n",
    "# for param_tensor in model.state_dict():\n",
    "#     print(param_tensor, \"\\t\", model.state_dict()[param_tensor].size())"
   ]
  },
  {
   "cell_type": "code",
   "execution_count": 46,
   "metadata": {},
   "outputs": [],
   "source": [
    "# # Print optimizer's state_dict\n",
    "# print(\"Optimizer's state_dict:\")\n",
    "# for var_name in optimizer.state_dict():\n",
    "#     print(var_name, \"\\t\", optimizer.state_dict()[var_name])"
   ]
  },
  {
   "cell_type": "code",
   "execution_count": 47,
   "metadata": {},
   "outputs": [],
   "source": [
    "# # SAVE MODEL\n",
    "# os.chdir(path_save)\n",
    "# torch.save({\n",
    "#            'epoch': epoch,\n",
    "#            'model_state_dict': model.state_dict(),\n",
    "#            'optimizer_state_dict': optimizer.state_dict(),\n",
    "#            'loss': loss,\n",
    "#            }, path_save+rf_model)"
   ]
  },
  {
   "cell_type": "code",
   "execution_count": 48,
   "metadata": {},
   "outputs": [],
   "source": [
    "# # LOAD MODEL\n",
    "# checkpoint = torch.load(path_save+rf_model, map_location=device)\n",
    "\n",
    "\n",
    "# # STATUS\n",
    "# checkpoint.keys()\n",
    "\n",
    "# epoch = checkpoint['epoch']\n",
    "# model_state_dict = checkpoint['model_state_dict']\n",
    "# optimizer_state_dict = checkpoint['optimizer_state_dict']\n",
    "# loss = checkpoint['loss']\n",
    "\n",
    "# optimizer_state_dict.keys()\n",
    "\n",
    "# optimizer_state_dict['param_groups']\n",
    "\n",
    "# loss\n",
    "\n",
    "# model.load_state_dict(model_state_dict)   "
   ]
  },
  {
   "cell_type": "code",
   "execution_count": 49,
   "metadata": {},
   "outputs": [],
   "source": [
    "# loss"
   ]
  },
  {
   "cell_type": "code",
   "execution_count": 50,
   "metadata": {},
   "outputs": [],
   "source": [
    "# optimizer_state_dict.keys()"
   ]
  },
  {
   "cell_type": "code",
   "execution_count": null,
   "metadata": {},
   "outputs": [],
   "source": []
  }
 ],
 "metadata": {
  "accelerator": "GPU",
  "colab": {
   "collapsed_sections": [],
   "name": "E533 HW1 rev4.ipynb",
   "provenance": [
    {
     "file_id": "1DEqxXQe7Yw25roekLHtUmU_55IJKGY0H",
     "timestamp": 1548894460827
    },
    {
     "file_id": "19e_Vg1krlpJa5zSISQDOVQTwYKepXKql",
     "timestamp": 1548892687570
    },
    {
     "file_id": "1b7T-jkKgv4ynQ_Pe5HCAUM9GTox9fKS9",
     "timestamp": 1548440177000
    },
    {
     "file_id": "12fap5WLhwheizCF9I9Ul-qc2bQ7ZmiWS",
     "timestamp": 1548439576387
    }
   ],
   "version": "0.3.2"
  },
  "kernelspec": {
   "display_name": "Python 3",
   "language": "python",
   "name": "python3"
  },
  "language_info": {
   "codemirror_mode": {
    "name": "ipython",
    "version": 3
   },
   "file_extension": ".py",
   "mimetype": "text/x-python",
   "name": "python",
   "nbconvert_exporter": "python",
   "pygments_lexer": "ipython3",
   "version": "3.6.9"
  }
 },
 "nbformat": 4,
 "nbformat_minor": 1
}
