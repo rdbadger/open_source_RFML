{
 "cells": [
  {
   "cell_type": "markdown",
   "metadata": {
    "colab_type": "text",
    "id": "cn5_7mqggh2H"
   },
   "source": [
    "## sigMF RF single and multi-classification; 12 classes"
   ]
  },
  {
   "cell_type": "markdown",
   "metadata": {},
   "source": [
    "#### Added multiclass function for dividing batches for mixing to create 1, 2 or 3 classes"
   ]
  },
  {
   "cell_type": "code",
   "execution_count": 1,
   "metadata": {
    "colab": {
     "base_uri": "https://localhost:8080/",
     "height": 68
    },
    "colab_type": "code",
    "executionInfo": {
     "elapsed": 2251,
     "status": "ok",
     "timestamp": 1548951950015,
     "user": {
      "displayName": "Robert Badger",
      "photoUrl": "",
      "userId": "11966704463856227449"
     },
     "user_tz": 300
    },
    "id": "r80FflgHhCiH",
    "outputId": "143411b2-cc11-47a1-c334-a76291219798",
    "scrolled": false
   },
   "outputs": [
    {
     "name": "stdout",
     "output_type": "stream",
     "text": [
      "Torch version = 1.6.0 CUDA version = 10.2\n",
      "CUDA Device: cuda:1\n",
      "Is cuda available? = True\n"
     ]
    }
   ],
   "source": [
    "import itertools as it\n",
    "# import posixpath\n",
    "import sys\n",
    "import os\n",
    "import torch\n",
    "import torch.nn as nn\n",
    "import torch.optim as optim\n",
    "import torch.nn.functional as F\n",
    "import torch.utils.data\n",
    "import torch.utils.data as data\n",
    "from torch.autograd import Variable\n",
    "import numpy as np\n",
    "import matplotlib.pyplot as plt\n",
    "from scipy import signal\n",
    "import scipy\n",
    "import glob\n",
    "import json\n",
    "from os import walk\n",
    "import pickle\n",
    "import json\n",
    "import pathlib\n",
    "import random\n",
    "from timeit import default_timer as timer\n",
    "import time\n",
    "from tqdm import tqdm\n",
    "from torch.utils.data import Dataset, DataLoader\n",
    "global GPU, fft, Fs, center_freq, fft_val, Fs_test, loss, batches, eps, var_noise, mean_noise, top\n",
    "global c1_coeff, c2_coeff, a, r1_c1, r2_c1, r1_c2, r2_c2, compare\n",
    "a = 1\n",
    "compare = .5\n",
    "r1_c2 = 1\n",
    "r2_c2 = 20e0\n",
    "top = .975\n",
    "var_noise = 8.78e-09\n",
    "# mean_noise = 10 # worked pretty good\n",
    "mean_noise = 1\n",
    "eps = 1e-15\n",
    "Fs = 1000000\n",
    "fft = 1024\n",
    "center_freq_file = 433.65e6 # when SDR doing 25MSPS with center at 428MHz\n",
    "center_freq_live = 428.00e6 # when SDR doing 25MSPS with center at 428MHz\n",
    "# batches = 128\n",
    "plt.style.use('default')\n",
    "GPU = 1\n",
    "cuda = \"cuda:1\"\n",
    "device = torch.device(cuda)\n",
    "print('Torch version =', torch.__version__, 'CUDA version =', torch.version.cuda)\n",
    "print('CUDA Device:', device)\n",
    "print('Is cuda available? =',torch.cuda.is_available())"
   ]
  },
  {
   "cell_type": "code",
   "execution_count": null,
   "metadata": {},
   "outputs": [],
   "source": [
    "!. /home/david/prefix-3.8/setup_env.sh"
   ]
  },
  {
   "cell_type": "markdown",
   "metadata": {
    "colab_type": "text",
    "id": "2t_9_D3l0Px9"
   },
   "source": [
    "#### Machine paths"
   ]
  },
  {
   "cell_type": "code",
   "execution_count": null,
   "metadata": {
    "scrolled": false
   },
   "outputs": [],
   "source": [
    "# path = \"/media/david/Elements/sigMF_ML/RF/RF_class/data/\" # path to external drive\n",
    "path = \"/media/david/Extreme Pro/data/combined_data/training_data/\" # path to external drive\n",
    "path_ram = \"/home/david/sigMF_ML/RF/ramdisk/\"\n",
    "path_usrp = \"/home/david/prefix-3.8/\"\n",
    "# path_1msps = \"/home/david/sigMF_ML/RF/RF_class/data_1msps/\" # ACE\n",
    "# path_25msps = \"/home/david/sigMF_ML/RF/RF_class/data_25msps/\" # ACE\n",
    "path_1msps = \"/media/david/Extreme Pro/data/seperate_data/data_1msps/\" # External extreme drive\n",
    "path_25msps = \"/media/david/Extreme Pro/data/seperate_data/data_25msps/\" # External extreme drive\n",
    "path_fig = \"/home/david/sigMF_ML/RF/RF_class/figures/\" # ACE\n",
    "path_val = \"/home/david/sigMF_ML/RF/RF_class/testing_data/\" # ACE\n",
    "path_save = \"/home/david/sigMF_ML/RF/RF_class/saved/\" # ACE\n",
    "path_save2 = \"/media/david/Elements/saved/20220210_mix_2classes/\" # external elements drive\n",
    "path_save3 = \"/media/david/Elements/saved/20220210_mix_3classes/\" # external elements drive\n",
    "path_save_resnet18 = \"/media/david/Elements/saved/20220226_mix_1classes/\" # external elements drive\n",
    "path_test = \"/home/david/sigMF_ML/RF/RF_class/testing_data/\" # ACE\n",
    "path_test_1msps = \"/media/david/Elements/sigMF_ML/RF/RF_class/testing_data_1msps/\" # external drive\n",
    "path_test_5msps = \"/media/david/Elements/sigMF_ML/RF/RF_class/testing_data_5msps/\" # external drive\n",
    "path_test_10msps = \"/media/david/Elements/sigMF_ML/RF/RF_class/testing_data_10msps/\" # external drive\n",
    "path_test_25msps = \"/media/david/Elements/sigMF_ML/RF/RF_class/testing_data_25msps/\" # external drive\n",
    "# path_test_1msps = \"/home/david/sigMF_ML/RF/RF_class/testing_data_1msps/\" # ACE\n",
    "# path_test_5msps = \"/home/david/sigMF_ML/RF/RF_class/testing_data_5msps/\" # ACE\n",
    "# path_test_10msps = \"/home/david/sigMF_ML/RF/RF_class/testing_data_10msps/\" # ACE\n",
    "# path_test_25msps = \"/home/david/sigMF_ML/RF/RF_class/testing_data_25msps/\" # ACE\n",
    "path_validation = \"/home/david/sigMF_ML/RF/RF_class/validation/\" # multiclass validation\n",
    "path_val_1msps = \"/home/david/sigMF_ML/RF/RF_class/val_1msps/\" # multiclass validation\n",
    "path_val_5msps = \"/home/david/sigMF_ML/RF/RF_class/val_5msps/\" # multiclass validation\n",
    "path_val_10msps = \"/home/david/sigMF_ML/RF/RF_class/val_10msps/\" # multiclass validation\n",
    "path_val_25msps = \"/home/david/sigMF_ML/RF/RF_class/val_25msps/\" # multiclass validation\n",
    "# print(path)"
   ]
  },
  {
   "cell_type": "code",
   "execution_count": null,
   "metadata": {},
   "outputs": [],
   "source": [
    "print(path_test)\n",
    "\n",
    "os.chdir(path_test)\n",
    "data_files_test = sorted(glob.glob('*.sigmf-data'))\n",
    "meta_files_test = sorted(glob.glob('*.sigmf-meta'))"
   ]
  },
  {
   "cell_type": "markdown",
   "metadata": {},
   "source": [
    "## Functions "
   ]
  },
  {
   "cell_type": "code",
   "execution_count": null,
   "metadata": {},
   "outputs": [],
   "source": [
    "# START OF FUNCTIONS ****************************************************\n",
    "def meta_encoder(meta_list, num_classes): \n",
    "    a = np.asarray(meta_list, dtype=int)\n",
    "#    print('a = ', a)\n",
    "    return a \n",
    "\n",
    "def save_model(epoch, loss, iter_batch):\n",
    "    rf_model = 'ResNet18_multiclass_20220226_mix_autosave_GPU1_1class'\n",
    "    PATH = path_save_resnet18+rf_model\n",
    "    torch.save({\n",
    "            'epoch': epoch,\n",
    "            'model_state_dict': model.state_dict(),\n",
    "            'optimizer_state_dict': optimizer.state_dict(),\n",
    "            'loss': loss,}, PATH+'_train-epoch-{}-batch-{}.pt'.format(epoch, iter_batch)) \n",
    "    \n",
    "    torch.save(model.state_dict(), PATH+'_inference-epoch-{}-batch-{}.pt'.format(epoch, iter_batch))\n",
    "    \n",
    "# def load_model():\n",
    "#     rf_model = 'ResNet50_20210405_autosave'\n",
    "#     PATH = path_save+rf_model\n",
    "#     device = torch.device(\"cuda:0\")\n",
    "#     model = resnet50(4, 12)\n",
    "#     model.load_state_dict(torch.load(PATH))\n",
    "#     model.to(device)\n",
    "#     model.train() \n",
    "#     return model\n",
    "\n",
    "def load_model():\n",
    "    rf_model = 'ResNet50_multiclass_20211212_autosave_GPU0'\n",
    "    PATH = path_save+rf_model\n",
    "    device = torch.device(cuda)\n",
    "    model = resnet50(4, 12)\n",
    "    optimizer = optim.AdamW(model.parameters(), lr=1e-4)\n",
    "    checkpoint = torch.load(PATH)\n",
    "    model.load_state_dict(checkpoint['model_state_dict'])\n",
    "    optimizer.load_state_dict(checkpoint['optimizer_state_dict'])\n",
    "    epoch = checkpoint['epoch']\n",
    "    loss = checkpoint['loss']\n",
    "    model.to(device)\n",
    "    model.train() \n",
    "    return model, optimizer\n",
    "\n",
    "def load_model2(rf_model):\n",
    "#     rf_model = 'ResNet50_v58_20210212_4D_autosave'\n",
    "    PATH = path_save+rf_model\n",
    "    device = torch.device(cuda)\n",
    "#     model = resnet50(4, 12)\n",
    "    model.load_state_dict(torch.load(PATH))\n",
    "    model.to(device)\n",
    "    model.eval()\n",
    "    return model\n",
    "\n",
    "def load_model_original():\n",
    "    rf_model = 'ResNet50_20210430_mix2_score'\n",
    "    PATH = path_save+rf_model\n",
    "    device = torch.device(cuda)\n",
    "#     model = resnet50(4, 12)\n",
    "    model.load_state_dict(torch.load(PATH))\n",
    "    model.to(device)\n",
    "    model.eval() \n",
    "\n",
    "def gpu_test_file(db,msps): # THIS IS ACTUALLY USED FOR LIVE TESTING\n",
    "    if (msps == 1):\n",
    "        w1 = fft*msps\n",
    "    elif (msps == 5):\n",
    "        w1 = fft*msps\n",
    "    elif (msps == 10):\n",
    "        w1 = fft*msps\n",
    "    elif (msps == 25):\n",
    "        w1 = fft*msps\n",
    "#     print('gpu_test file function')    \n",
    "    I = db[0::2]\n",
    "    Q = db[1::2]\n",
    "    w = fft*msps\n",
    "#     print('Sample Rate = ',w,'MSPS')\n",
    "    den = 2\n",
    "#     print('window length = ', w1)\n",
    "    win = torch.hamming_window(w1, periodic=True, dtype=None, layout=torch.strided, requires_grad=False).cuda(GPU)\n",
    "    I_stft = torch.stft(torch.tensor(I).cuda(GPU), n_fft=w, hop_length=w//den, win_length=w1, window=win, center=True, normalized=True, onesided=False)\n",
    "    Q_stft = torch.stft(torch.tensor(Q).cuda(GPU), n_fft=w, hop_length=w//den, win_length=w1, window=win, center=True, normalized=True, onesided=False)\n",
    "    X_stft = I_stft[...,0] + Q_stft[...,0] + I_stft[...,1] + -1*Q_stft[...,1]\n",
    "#     print('X shape =', X_stft.shape)\n",
    "#     print('I shape =', I_stft.shape, 'Q shape = ', Q_stft.shape )\n",
    "    Z_stft = torch.cat((I_stft,Q_stft),2)\n",
    "#     print('Before: Final gpu_test file Z shape =', Z_stft.shape)\n",
    "#     Z_stft = torch.cat((Z_stft[w//2:,:,:],Z_stft[:w//2,:,:])) # NOT SURE I NEED TO DO THIS...\n",
    "#     print('After: Final gpu_test file Z shape =', Z_stft.shape)\n",
    "    Z_stft = Z_stft[:w//2,:,:] # throw bottom 1/2 away\n",
    "#     print('FINAL Z shape =', Z_stft.shape)\n",
    "    torch.cuda.empty_cache()\n",
    "    return Z_stft # Returning 4D\n",
    "\n",
    "def gpu_test_live(db,msps):\n",
    "#     I = db[0:10000000:2]\n",
    "#     Q = db[1:10000000:2]      \n",
    "    print('gpu_test live function')    \n",
    "    if (msps == 1):\n",
    "        w1 = fft*msps\n",
    "    elif (msps == 5):\n",
    "        w1 = fft*msps\n",
    "    elif (msps == 10):\n",
    "        w1 = fft*msps\n",
    "    elif (msps == 25):\n",
    "        w1 = fft*msps     \n",
    "    I = db[0::2]\n",
    "    Q = db[1::2]\n",
    "    w = fft*msps\n",
    "    print('Sample Rate = ',w,'MSPS')\n",
    "    den = 2\n",
    "    win = torch.hann_window(w1, periodic=True, dtype=None, layout=torch.strided, requires_grad=False).cuda(GPU)\n",
    "    I_stft = torch.stft(torch.tensor(I).cuda(GPU), n_fft=w, hop_length=w//den, win_length=w1, window=win, center=True, normalized=True, onesided=True)\n",
    "    Q_stft = torch.stft(torch.tensor(Q).cuda(GPU), n_fft=w, hop_length=w//den, win_length=w1, window=win, center=True, normalized=True, onesided=True)\n",
    "    Z_stft = torch.cat((I_stft,Q_stft),2)\n",
    "#     print('gpu_test live IQ shape =', Z_stft.shape)\n",
    "    Z_stft = torch.cat((Z_stft[w//2:,:,:],Z_stft[:w//2,:,:])) # NOT SURE I NEED TO DO THIS...\n",
    "    Z_stft = Z_stft[10:w//2,:,:]# throw bottom 1/2 away\n",
    "    print('FINAL gpu_test LIVE IQ shape =', Z_stft.shape)\n",
    "    torch.cuda.empty_cache()\n",
    "    return Z_stft # Returning 4D and plot\n",
    "\n",
    "def iq_read(data_files): # USING GPU to perform STFT\n",
    "    print('iq_read function**********')\n",
    "    data_IQ_list = []\n",
    "    data_IQ_temp = []\n",
    "    for file in data_files:\n",
    "        db = np.fromfile(file, dtype=\"float32\")\n",
    "#         stft = gpu(db).detach().cpu().numpy()\n",
    "        print('iq_read function')\n",
    "        stft, stft_plot = gpu_test_file(db)\n",
    "        stft = stft.detach().cpu().numpy()\n",
    "        stft_plot = stft_plot.detach().cpu().numpy()\n",
    "        stft_plot = 10*np.log10(np.abs(stft_plot+eps))\n",
    "        plt.imshow(stft_plot)\n",
    "        plt.pcolormesh(stft_plot)\n",
    "#         plt.imshow(stft, aspect='auto', origin='lower')\n",
    "        plt.show()\n",
    "        data_IQ_temp.append(stft)\n",
    "    data_IQ_list = np.array(data_IQ_temp)\n",
    "    return data_IQ_list\n",
    "\n",
    "def iq_read_test_file(data_files,msps): # USING GPU to perform STFT\n",
    "    data_IQ_list = []\n",
    "    data_IQ_temp = []\n",
    "    print('iq_read_test file')\n",
    "    for file in data_files:\n",
    "        db = np.fromfile(file, dtype=\"float32\")\n",
    "        stft = gpu_test_file(db,msps)\n",
    "        X_stft = stft[...,0] + stft[...,1] + stft[...,2] - stft[...,3]\n",
    "        stft_plot = 20*np.log10(np.abs(X_stft.detach().cpu().numpy()+eps))\n",
    "        print('imshow method')\n",
    "        plt.imshow(stft_plot, vmin=-70, vmax=5, aspect='auto', origin='lower')\n",
    "        plt.show()\n",
    "        data_IQ_temp.append(stft.detach().cpu().numpy())\n",
    "    data_IQ_list = np.array(data_IQ_temp)\n",
    "    return data_IQ_list\n",
    "\n",
    "def iq_read_test_live_old(data_files,msps): # USING GPU to perform STFT\n",
    "#     iq_cpu_plot(data_files) #checking with cpu complex plotting\n",
    "    data_IQ_list = []\n",
    "    data_IQ_temp = []\n",
    "    print('iq_read_test live: remarked out plotting')\n",
    "    for file in data_files:\n",
    "        db = np.fromfile(file, dtype=\"float32\")\n",
    "        stft = gpu_test_live(db,msps)\n",
    "        # *************************************************************************\n",
    "        X_stft = stft[...,0] + stft[...,1] + stft[...,2] - stft[...,3]\n",
    "        stft_plot = 20*np.log10(np.abs(X_stft.detach().cpu().numpy()+eps))       \n",
    "        print('iq_read_test live imshow method')\n",
    "        plt.imshow(stft_plot, vmin=-70, vmax=5, aspect='auto', origin='lower')\n",
    "        plt.show()\n",
    "        # *************************************************************************\n",
    "        data_IQ_temp.append(stft.detach().cpu().numpy())\n",
    "    data_IQ_list = np.array(data_IQ_temp)\n",
    "    return data_IQ_list\n",
    "\n",
    "def iq_read_test_live(data_files,msps): # 20210611 memory saver update\n",
    "    print('iq_read_test_live')\n",
    "#     print('file is =', data_files, type(data_files))\n",
    "    for file in data_files:\n",
    "        db = np.fromfile(file, dtype=\"float32\")\n",
    "        print('db = ', db.shape)\n",
    "    #     stft = gpu_test_file(db,msps).detach().cpu().numpy()\n",
    "        stft = gpu_test_file(db,msps)\n",
    "        X_stft = stft[...,0] + stft[...,1] + stft[...,2] - stft[...,3]\n",
    "        stft_plot = 20*np.log10(np.abs(X_stft.detach().cpu().numpy()+eps))\n",
    "        print('imshow method')\n",
    "        plt.imshow(stft_plot, vmin=-70, vmax=5, aspect='auto', origin='lower')\n",
    "        plt.show()\n",
    "    #     data_IQ_temp.append(stft.detach().cpu().numpy())\n",
    "    return stft\n",
    "\n",
    "def iq_read_test_live_combine(data_files,msps): # 20211025 memory saver update\n",
    "#     print('iq_read_test_live combined')\n",
    "#     print('file is =', data_files, type(data_files))\n",
    "    if msps==1:\n",
    "        db = np.zeros(20000000)\n",
    "    if msps==5:\n",
    "        db = np.zeros(50000000)  # 49999996  \n",
    "    if msps==10:\n",
    "        db = np.zeros(100000000)\n",
    "    elif msps==25:\n",
    "        db = np.zeros(250000000)    \n",
    "    for file in data_files:\n",
    "        temp = np.fromfile(file, dtype=\"float32\")\n",
    "#         print('read file shape = ', temp.shape)\n",
    "        if (len(db) > len(temp)):\n",
    "            N = np.abs(len(db)-len(temp))\n",
    "#             print('N = ', N)\n",
    "            temp = np.pad(temp, (0, N), 'constant')\n",
    "#             print('new file length = ', len(temp))\n",
    "        db = db + temp\n",
    "#         print('db = ', db.shape)\n",
    "    #     stft = gpu_test_file(db,msps).detach().cpu().numpy()\n",
    "    stft = gpu_test_file(db,msps)\n",
    "#     X_stft = stft[...,0] + stft[...,1] + stft[...,2] - stft[...,3]\n",
    "#     stft_plot = 20*np.log10(np.abs(X_stft.detach().cpu().numpy()+eps))\n",
    "#     print('imshow method')\n",
    "#     plt.imshow(stft_plot, vmin=-70, vmax=5, aspect='auto', origin='lower')\n",
    "#     plt.show()\n",
    "    #     data_IQ_temp.append(stft.detach().cpu().numpy())\n",
    "    return stft\n",
    "\n",
    "def read_meta(meta_files):\n",
    "    meta_list = []\n",
    "    for meta in meta_files:\n",
    "        all_meta_data = json.load(open(meta))\n",
    "        meta_list.append(all_meta_data['global'][\"core:class\"])\n",
    "    meta_list = list(map(int, meta_list))\n",
    "    return meta_list\n",
    "\n",
    "def read_num_val(x):\n",
    "    x = len(meta_list_val)\n",
    "    return x\n",
    "\n",
    "#**************************** Print historgram subplots ******************************\n",
    "def histo_plots(inputs):\n",
    "    fig=plt.figure(figsize=(8,8))\n",
    "    ncols = 2\n",
    "    nrows = 2\n",
    "    print('make torch inputs')\n",
    "    print('inputs shape for histogram1 = ', inputs.shape)\n",
    "    inputs = 10*np.log10(np.abs(inputs.cpu()+eps))\n",
    "    for x in range(4):\n",
    "#         print('x = ', x, 'inputs shape for histogram2 = ', inputs[:,:,x].shape)\n",
    "        flat_inputs = torch.flatten(inputs[:,:,x], start_dim=0, end_dim=-1).numpy()\n",
    "#         print('type = ', type(flat_inputs))\n",
    "#         print('x = ', x, 'flat_input max = ', np.amax(flat_inputs))\n",
    "#         print('inputs are: ', flat_inputs.shape)\n",
    "        fig.add_subplot(nrows, ncols, x+1)\n",
    "        plt.hist(flat_inputs, bins=5000)\n",
    "        plt.gca().set(title='Frequency Histogram', ylabel='Frequency');\n",
    "        plt.xlim(-100, 10)\n",
    "#         plt.ylim(0, 40000)\n",
    "    return flat_inputs\n",
    "#*************************************************************************************    \n",
    "#**************************** Print historgram subplots ******************************\n",
    "def histo_stats(inputs):\n",
    "#     print('make torch inputs')\n",
    "#     print('inputs shape for histogram1 = ', inputs.shape)\n",
    "    mean = np.zeros(4)\n",
    "    std = np.zeros(4)\n",
    "    for x in range(4):\n",
    "#         print('x = ', x, 'inputs shape for histogram2 = ', inputs[:,:,x].shape)\n",
    "        flat_inputs = torch.flatten(inputs[:,:,x], start_dim=0, end_dim=-1).numpy()\n",
    "#         print('inputs are: ', flat_inputs.shape)\n",
    "        mean[x] = flat_inputs.mean()\n",
    "        std[x] = flat_inputs.std()\n",
    "#         print('mean = ', mean, 'std = ', std)\n",
    "    return mean, std\n",
    "#**************************** Print historgram freq stats ******************************\n",
    "def histo_stats_freq_file(inputs,msps):\n",
    "    mean = inputs.mean()\n",
    "    std = inputs.std()\n",
    "    print(\"mean Freq = {0:9,.2f}\".format(mean))\n",
    "    print(\"std Freq = {0:9,.2f}\".format(std))\n",
    "    print('length of inputs = ', len(inputs))\n",
    "#     plt.hist(inputs, 30, facecolor='blue', align='mid')\n",
    "    if (msps==25):\n",
    "        plt.hist(inputs, 30, range=[428.0, 440.0], facecolor='blue', align='mid')\n",
    "    elif (msps==1):\n",
    "        plt.hist(inputs, 30, range=[433.65, 434.15], facecolor='blue', align='mid')\n",
    "    elif (msps==5):\n",
    "        plt.hist(inputs, 30, range=[433.00, 435.50], facecolor='blue', align='mid')         \n",
    "    elif (msps==10):\n",
    "        plt.hist(inputs, 30, range=[433.00, 438.00], facecolor='blue', align='mid')        \n",
    "    else:\n",
    "        print('WRONG SAMPLE RATE CHOSEN')\n",
    "    plt.gca().set(title='Frequency Histogram', ylabel='Frequency'); \n",
    "    plt.show()\n",
    "def histo_stats_freq_live(inputs,msps):\n",
    "    mean = inputs.mean()\n",
    "    std = inputs.std()\n",
    "    print(\"mean Freq = {0:9,.2f}\".format(mean))\n",
    "    print(\"std Freq = {0:9,.2f}\".format(std))\n",
    "    print('length of inputs = ', len(inputs))\n",
    "#     plt.hist(inputs, 30, facecolor='blue', align='mid')\n",
    "    if (msps==25):\n",
    "        plt.hist(inputs, 30, range=[428.0, 440.0], facecolor='blue', align='mid')\n",
    "    elif (msps==1):\n",
    "        plt.hist(inputs, 30, range=[433.65, 434.15], facecolor='blue', align='mid')\n",
    "    elif (msps==5):\n",
    "        plt.hist(inputs, 30, range=[433.00, 435.50], facecolor='blue', align='mid')          \n",
    "    elif (msps==10):\n",
    "        plt.hist(inputs, 30, range=[433.00, 438.00], facecolor='blue', align='mid')         \n",
    "    else:\n",
    "        print('WRONG SAMPLE RATE CHOSEN')\n",
    "    plt.gca().set(title='Frequency Histogram', ylabel='Frequency'); \n",
    "    plt.show()\n",
    "# END OF FUNCTIONS ******************************************************"
   ]
  },
  {
   "cell_type": "markdown",
   "metadata": {},
   "source": [
    "#### Start of ResNet blocks"
   ]
  },
  {
   "cell_type": "code",
   "execution_count": null,
   "metadata": {},
   "outputs": [],
   "source": [
    "from functools import partial\n",
    "from dataclasses import dataclass\n",
    "from collections import OrderedDict"
   ]
  },
  {
   "cell_type": "code",
   "execution_count": null,
   "metadata": {},
   "outputs": [],
   "source": [
    "class Conv2dAuto(nn.Conv2d):\n",
    "    def __init__(self, *args, **kwargs):\n",
    "        super().__init__(*args, **kwargs)\n",
    "        self.padding =  (self.kernel_size[0] // 2, self.kernel_size[1] // 2) # dynamic add padding based on the kernel_size\n",
    "        \n",
    "conv3x3 = partial(Conv2dAuto, kernel_size=3, bias=False) "
   ]
  },
  {
   "cell_type": "code",
   "execution_count": null,
   "metadata": {},
   "outputs": [],
   "source": [
    "class ResidualBlock(nn.Module):\n",
    "    def __init__(self, in_channels, out_channels):\n",
    "        super().__init__()\n",
    "        self.in_channels, self.out_channels =  in_channels, out_channels\n",
    "        self.blocks = nn.Identity()\n",
    "        self.shortcut = nn.Identity()   \n",
    "    \n",
    "    def forward(self, x):\n",
    "        residual = x\n",
    "        if self.should_apply_shortcut: residual = self.shortcut(x)\n",
    "        x = self.blocks(x)\n",
    "        x += residual\n",
    "        return x\n",
    "    \n",
    "    @property\n",
    "    def should_apply_shortcut(self):\n",
    "        return self.in_channels != self.out_channels"
   ]
  },
  {
   "cell_type": "code",
   "execution_count": null,
   "metadata": {},
   "outputs": [],
   "source": [
    "class ResNetResidualBlock(ResidualBlock):\n",
    "    def __init__(self, in_channels, out_channels, expansion=1, downsampling=1, conv=conv3x3, *args, **kwargs):\n",
    "        super().__init__(in_channels, out_channels)\n",
    "        self.expansion, self.downsampling, self.conv = expansion, downsampling, conv\n",
    "        self.shortcut = nn.Sequential(OrderedDict(\n",
    "        {\n",
    "            'conv' : nn.Conv2d(self.in_channels, self.expanded_channels, kernel_size=1,\n",
    "                      stride=self.downsampling, bias=False),\n",
    "            'bn' : nn.BatchNorm2d(self.expanded_channels)\n",
    "            \n",
    "        })) if self.should_apply_shortcut else None\n",
    "        \n",
    "        \n",
    "    @property\n",
    "    def expanded_channels(self):\n",
    "        return self.out_channels * self.expansion\n",
    "    \n",
    "    @property\n",
    "    def should_apply_shortcut(self):\n",
    "        return self.in_channels != self.expanded_channels"
   ]
  },
  {
   "cell_type": "code",
   "execution_count": null,
   "metadata": {},
   "outputs": [],
   "source": [
    "def conv_bn(in_channels, out_channels, conv, *args, **kwargs):\n",
    "    return nn.Sequential(OrderedDict({'conv': conv(in_channels, out_channels, *args, **kwargs), \n",
    "                          'bn': nn.BatchNorm2d(out_channels) }))"
   ]
  },
  {
   "cell_type": "code",
   "execution_count": null,
   "metadata": {},
   "outputs": [],
   "source": [
    "class ResNetBasicBlock(ResNetResidualBlock):\n",
    "    expansion = 1\n",
    "    def __init__(self, in_channels, out_channels, activation=nn.ReLU, *args, **kwargs):\n",
    "        super().__init__(in_channels, out_channels, *args, **kwargs)\n",
    "        self.blocks = nn.Sequential(\n",
    "            conv_bn(self.in_channels, self.out_channels, conv=self.conv, bias=False, stride=self.downsampling),\n",
    "            activation(),\n",
    "            conv_bn(self.out_channels, self.expanded_channels, conv=self.conv, bias=False),\n",
    "        )"
   ]
  },
  {
   "cell_type": "code",
   "execution_count": null,
   "metadata": {},
   "outputs": [],
   "source": [
    "class ResNetBottleNeckBlock(ResNetResidualBlock):\n",
    "    expansion = 4\n",
    "    def __init__(self, in_channels, out_channels, activation=nn.ReLU, *args, **kwargs):\n",
    "        super().__init__(in_channels, out_channels, expansion=4, *args, **kwargs)\n",
    "        self.blocks = nn.Sequential(\n",
    "           conv_bn(self.in_channels, self.out_channels, self.conv, kernel_size=1),\n",
    "             activation(),\n",
    "             conv_bn(self.out_channels, self.out_channels, self.conv, kernel_size=3, stride=self.downsampling),\n",
    "             activation(),\n",
    "             conv_bn(self.out_channels, self.expanded_channels, self.conv, kernel_size=1),\n",
    "        )"
   ]
  },
  {
   "cell_type": "code",
   "execution_count": null,
   "metadata": {},
   "outputs": [],
   "source": [
    "class ResNetLayer(nn.Module):\n",
    "    def __init__(self, in_channels, out_channels, block=ResNetBasicBlock, n=1, *args, **kwargs):\n",
    "        super().__init__()\n",
    "        # 'We perform downsampling directly by convolutional layers that have a stride of 2.'\n",
    "        downsampling = 2 if in_channels != out_channels else 1\n",
    "        \n",
    "        self.blocks = nn.Sequential(\n",
    "            block(in_channels , out_channels, *args, **kwargs, downsampling=downsampling),\n",
    "            *[block(out_channels * block.expansion, \n",
    "                    out_channels, downsampling=1, *args, **kwargs) for _ in range(n - 1)]\n",
    "        )\n",
    "\n",
    "    def forward(self, x):\n",
    "        x = self.blocks(x)\n",
    "        return x"
   ]
  },
  {
   "cell_type": "code",
   "execution_count": null,
   "metadata": {},
   "outputs": [],
   "source": [
    "class ResNetEncoder(nn.Module):\n",
    "    \"\"\"\n",
    "    ResNet encoder composed by increasing different layers with increasing features.\n",
    "    \"\"\"\n",
    "    def __init__(self, in_channels=3, blocks_sizes=[64, 128, 256, 512], deepths=[2,2,2,2], \n",
    "                 activation=nn.ReLU, block=ResNetBasicBlock, *args,**kwargs):\n",
    "        super().__init__()\n",
    "        \n",
    "        self.blocks_sizes = blocks_sizes\n",
    "        \n",
    "        self.gate = nn.Sequential(\n",
    "            nn.Conv2d(in_channels, self.blocks_sizes[0], kernel_size=7, stride=2, padding=3, bias=False),\n",
    "            nn.BatchNorm2d(self.blocks_sizes[0]),\n",
    "            activation(),\n",
    "            nn.MaxPool2d(kernel_size=3, stride=2, padding=1)\n",
    "        )\n",
    "        \n",
    "        self.in_out_block_sizes = list(zip(blocks_sizes, blocks_sizes[1:]))\n",
    "        self.blocks = nn.ModuleList([ \n",
    "            ResNetLayer(blocks_sizes[0], blocks_sizes[0], n=deepths[0], activation=activation, \n",
    "                        block=block,  *args, **kwargs),\n",
    "            *[ResNetLayer(in_channels * block.expansion, \n",
    "                          out_channels, n=n, activation=activation, \n",
    "                          block=block, *args, **kwargs) \n",
    "              for (in_channels, out_channels), n in zip(self.in_out_block_sizes, deepths[1:])]       \n",
    "        ])\n",
    "        \n",
    "        \n",
    "    def forward(self, x):\n",
    "        x = self.gate(x)\n",
    "        for block in self.blocks:\n",
    "            x = block(x)\n",
    "        return x"
   ]
  },
  {
   "cell_type": "code",
   "execution_count": null,
   "metadata": {},
   "outputs": [],
   "source": [
    "class ResnetDecoder(nn.Module):\n",
    "    \"\"\"\n",
    "    This class represents the tail of ResNet. It performs a global pooling and maps the output to the\n",
    "    correct class by using a fully connected layer.\n",
    "    \"\"\"\n",
    "    def __init__(self, in_features, n_classes):\n",
    "        super().__init__()\n",
    "        self.avg = nn.AdaptiveAvgPool2d((1, 1))\n",
    "        self.decoder = nn.Linear(in_features, n_classes)\n",
    "\n",
    "    def forward(self, x):\n",
    "        x = self.avg(x)\n",
    "        x = x.view(x.size(0), -1)\n",
    "        x = self.decoder(x)\n",
    "        return x"
   ]
  },
  {
   "cell_type": "code",
   "execution_count": null,
   "metadata": {},
   "outputs": [],
   "source": [
    "class ResNet(nn.Module):\n",
    "    \n",
    "    def __init__(self, in_channels, n_classes, *args, **kwargs):\n",
    "        super().__init__()\n",
    "        self.encoder = ResNetEncoder(in_channels, *args, **kwargs)\n",
    "        self.decoder = ResnetDecoder(self.encoder.blocks[-1].blocks[-1].expanded_channels, n_classes)\n",
    "        self.sigmoid = nn.Sigmoid() # added ~david\n",
    "        \n",
    "    def forward(self, x):\n",
    "        x = self.encoder(x)\n",
    "        x = self.decoder(x) # Logits output\n",
    "        y = self.sigmoid(x) # Added sigmoid function ~david\n",
    "        return x, y"
   ]
  },
  {
   "cell_type": "code",
   "execution_count": null,
   "metadata": {},
   "outputs": [],
   "source": [
    "def resnet18(in_channels, n_classes):\n",
    "    return ResNet(in_channels, n_classes, block=ResNetBasicBlock, deepths=[2, 2, 2, 2])\n",
    "\n",
    "def resnet34(in_channels, n_classes):\n",
    "    return ResNet(in_channels, n_classes, block=ResNetBasicBlock, deepths=[3, 4, 6, 3])\n",
    "\n",
    "def resnet50(in_channels, n_classes):\n",
    "    return ResNet(in_channels, n_classes, block=ResNetBottleNeckBlock, deepths=[3, 4, 6, 3])\n",
    "\n",
    "def resnet101(in_channels, n_classes):\n",
    "    return ResNet(in_channels, n_classes, block=ResNetBottleNeckBlock, deepths=[3, 4, 23, 3])\n",
    "\n",
    "def resnet152(in_channels, n_classes):\n",
    "    return ResNet(in_channels, n_classes, block=ResNetBottleNeckBlock, deepths=[3, 8, 36, 3])"
   ]
  },
  {
   "cell_type": "markdown",
   "metadata": {},
   "source": [
    "#### End of ResNet blocks"
   ]
  },
  {
   "cell_type": "code",
   "execution_count": null,
   "metadata": {
    "scrolled": true
   },
   "outputs": [],
   "source": [
    "from torchsummary import summary\n",
    "\n",
    "# model = resnet50(4, 12)\n",
    "# summary(model.cuda(GPU), (4, 224, 224))"
   ]
  },
  {
   "cell_type": "code",
   "execution_count": null,
   "metadata": {},
   "outputs": [],
   "source": [
    "from torch.utils.data import Dataset"
   ]
  },
  {
   "cell_type": "code",
   "execution_count": null,
   "metadata": {},
   "outputs": [],
   "source": [
    "class RFDataset(Dataset):\n",
    "    def __init__(self, root_path, limit=None):\n",
    "        print(root_path)\n",
    "        self.root_path = root_path\n",
    "        self.list_of_all_pickles = sorted(pathlib.Path(root_path).rglob('*/chopped-data-224-224/*.pickle'))\n",
    "        print('list of patches =', len(self.list_of_all_pickles))\n",
    "        if limit:\n",
    "            rng = np.random.default_rng(0)\n",
    "            self.list_of_all_pickles = rng.choice(self.list_of_all_pickles, size=limit, replace=False)\n",
    "        self.get_class = dict()\n",
    "        class_folders = list(pathlib.Path(root_path).glob('*/'))\n",
    "        for class_folder in class_folders:\n",
    "            class_index = -1\n",
    "            metadata_path = list(class_folder.rglob('*.sigmf-meta'))[0] #changed from [0]\n",
    "            with open(metadata_path) as fp:\n",
    "                metadata = json.load(fp)\n",
    "                class_index = int(metadata[\"global\"][\"core:class\"])\n",
    "            self.get_class[str(class_folder.stem)] = class_index\n",
    "\n",
    "\n",
    "    def __len__(self):\n",
    "        return len(self.list_of_all_pickles)\n",
    "\n",
    "    def __getitem__(self, idx):\n",
    "        filepath = self.list_of_all_pickles[idx]\n",
    "        with open(filepath, 'rb') as fp:\n",
    "            tensor = pickle.load(fp)['bounded']\n",
    "        foldername = filepath.parts[7] # changed from [7] relative to path depth\n",
    "        label = self.get_class[foldername]\n",
    "#         one_hot_label = np.zeros(12).astype(int) # creating one hot vector\n",
    "#         print('dataloader class number = ', label)\n",
    "        one_hot_label = np.zeros(12).astype(int) # creating one hot vector, needs to be float\n",
    "        one_hot_label[label] = 1\n",
    "#         print('dataloader One hot = ', one_hot_label)\n",
    "#         sys.exit('One hot vector testing')\n",
    "        #return (tensor, label) # this is a tuple\n",
    "        return {'data': tensor, 'label': one_hot_label, 'label_int': label}"
   ]
  },
  {
   "cell_type": "code",
   "execution_count": null,
   "metadata": {},
   "outputs": [],
   "source": [
    "class RFDataset2(Dataset):\n",
    "    def __init__(self, root_path, limit=None):\n",
    "        print(root_path)\n",
    "        self.root_path = root_path\n",
    "        self.list_of_all_pickles = sorted(pathlib.Path(root_path).rglob('*/chopped-data-224-224/*.pickle'))\n",
    "        print('list of patches =', len(self.list_of_all_pickles))\n",
    "        if limit:\n",
    "            rng = np.random.default_rng(0)\n",
    "            self.list_of_all_pickles = rng.choice(self.list_of_all_pickles, size=limit, replace=False)\n",
    "        self.get_class = dict()\n",
    "        class_folders = list(pathlib.Path(root_path).glob('*/'))\n",
    "        for class_folder in class_folders:\n",
    "            class_index = -1\n",
    "            metadata_path = list(class_folder.rglob('*.sigmf-meta'))[0] #changed from [0]\n",
    "            with open(metadata_path) as fp:\n",
    "                metadata = json.load(fp)\n",
    "                class_index = int(metadata[\"global\"][\"core:class\"])\n",
    "            self.get_class[str(class_folder.stem)] = class_index\n",
    "\n",
    "\n",
    "    def __len__(self):\n",
    "        return len(self.list_of_all_pickles)\n",
    "\n",
    "    def __getitem__(self, idx):\n",
    "        filepath = self.list_of_all_pickles[idx]\n",
    "        with open(filepath, 'rb') as fp:\n",
    "            tensor = pickle.load(fp)['bounded']\n",
    "        foldername = filepath.parts[7] # changed from [7] relative to path depth\n",
    "        label = self.get_class[foldername]\n",
    "#         one_hot_label = np.zeros(12).astype(int) # creating one hot vector\n",
    "#         print('dataloader class number = ', label)\n",
    "        one_hot_label = np.zeros(12).astype(int) # creating one hot vector, needs to be float\n",
    "        one_hot_label[label] = 1\n",
    "#         print('dataloader One hot = ', one_hot_label)\n",
    "#         sys.exit('One hot vector testing')\n",
    "        #return (tensor, label) # this is a tuple\n",
    "        return {'data': tensor, 'label': one_hot_label, 'label_int': label}"
   ]
  },
  {
   "cell_type": "markdown",
   "metadata": {},
   "source": [
    "#### Evaluation dataset loader"
   ]
  },
  {
   "cell_type": "code",
   "execution_count": null,
   "metadata": {},
   "outputs": [],
   "source": [
    "# val_patch_limit = None\n",
    "# rf_dataset_val = RFDataset(path_validation, limit=val_patch_limit)\n",
    "# validation_data = data.DataLoader(rf_dataset_val, batch_size=batches, shuffle=True)\n",
    "# validation_data = [validation_data]"
   ]
  },
  {
   "cell_type": "code",
   "execution_count": null,
   "metadata": {},
   "outputs": [],
   "source": [
    "# for i, val_data in enumerate(validation_data, 0):\n",
    "#     for i, rf_data in enumerate(val_data, 0): \n",
    "#         inputs = rf_data['data']\n",
    "#         labels = rf_data['label']\n",
    "#         print('label shape', labels.shape)\n",
    "#         print('inputs shape = ', inputs.shape)"
   ]
  },
  {
   "cell_type": "code",
   "execution_count": null,
   "metadata": {},
   "outputs": [],
   "source": [
    "def multiclass(inputs, labels):\n",
    "    if (classes == 2):\n",
    "#         print('Classes = ', classes)\n",
    "#         print('pre combine shape  = ', inputs.shape)\n",
    "        inputs_lower = inputs[:batches//2,:,:,:]\n",
    "#         print('inputs lower shape = ', inputs_lower.shape) # **** new print\n",
    "        inputs_upper = inputs[batches//2:,:,:,:]\n",
    "#         print('inputs upper shape = ', inputs_upper.shape) # **** new print\n",
    "        inputs = inputs_lower + inputs_upper # combine two classes\n",
    "#         print('inputs final shape = ', inputs.shape) # **** new print       \n",
    "        label_lower = labels[:batches//2,:]\n",
    "#         print('label lower = ', label_lower)\n",
    "        label_upper = labels[batches//2:,:]\n",
    "#         print('label upper = ', label_upper)\n",
    "        labels = torch.bitwise_or(label_lower,label_upper)\n",
    "#         print('labels combined = ', labels)\n",
    "    elif (classes == 3):\n",
    "#         print('Classes = ', classes)\n",
    "#         print('pre combine shape  = ', inputs.shape)\n",
    "        inputs_lower = inputs[:batches//3,:,:,:]\n",
    "#         print('inputs lower shape = ', inputs_lower.shape) # **** new print\n",
    "        inputs_mid = inputs[batches//3:128,:,:,:]\n",
    "#         print('inputs mid shape = ', inputs_mid.shape) # **** new print        \n",
    "        inputs_upper = inputs[128:,:,:,:]\n",
    "#         print('inputs upper shape = ', inputs_upper.shape) # **** new print\n",
    "        inputs = inputs_lower + inputs_mid + inputs_upper # combine three classes\n",
    "#         print('inputs final shape = ', inputs.shape) # **** new print\n",
    "        label_lower = labels[:batches//3,:]\n",
    "#         print('label lower = ', label_lower)\n",
    "        label_mid = labels[batches//3:128,:]\n",
    "#         print('label mid = ', label_mid)        \n",
    "        label_upper = labels[128:,:]\n",
    "#         print('label upper = ', label_upper)\n",
    "        labels1 = torch.bitwise_or(label_lower,label_mid)\n",
    "        labels = torch.bitwise_or(labels1,label_upper)\n",
    "#         print('labels combined = ', labels)\n",
    "#     sys.exit('multiclass testing') # exit program for testing\n",
    "    return inputs, labels"
   ]
  },
  {
   "cell_type": "markdown",
   "metadata": {},
   "source": [
    "## Training"
   ]
  },
  {
   "cell_type": "code",
   "execution_count": null,
   "metadata": {},
   "outputs": [],
   "source": [
    "def train_net(total): # Multiclass - Mixed patches\n",
    "#     batches = 64\n",
    "#     batches = batches*2# double net required actual batches for combining purpose math\n",
    "    print('batches = ', batches)\n",
    "    if (classes == 1):\n",
    "        test_patch_total = 88000 \n",
    "    if (classes == 2):    \n",
    "        test_patch_total = 87936//2 + 64 # accounting for 128 batches and remainder the original test total\n",
    "    if (classes == 3):    \n",
    "        test_patch_total = 87936//3 + 64 # accounting for 192 batches and remainder the original test total\n",
    "    print('total patch count = ', test_patch_total)\n",
    "    compare = .7\n",
    "    loss_plot = np.zeros(total)\n",
    "    total_plot = np.zeros(total//5+1)\n",
    "    print('training data length = ', len(training_data25))\n",
    "    batch_plot = np.zeros(len(training_data25)*total) # temporarily remove //100\n",
    "#     print('batch plot shape = ', batch_plot.shape)\n",
    "    batch_indexer = 0\n",
    "    for epoch in tqdm(range(total), desc=\"Epoch\"): \n",
    "        model.train()\n",
    "        start = timer()\n",
    "#         for i, rf_data in enumerate(training_data, 0):\n",
    "        for i in range(len(training_data25)//classes): # divide to temp reduce training loop  \n",
    "            # 1msps patchs ######################################################################\n",
    "            rf_data1 = next(iter(training_data1))\n",
    "            inputs = rf_data1['data']\n",
    "            inputs = torch.squeeze(inputs, dim=1)\n",
    "            inputs = inputs.permute(0,3,1,2).contiguous()\n",
    "            current_batches, b, c, d = inputs.shape\n",
    "#             print('iteration = ', i, 'current batches = ', current_batches)\n",
    "            labels = rf_data1['label'] \n",
    "            if ((current_batches == batches) and (classes != 1)):\n",
    "                inputs, labels = multiclass(inputs, labels)\n",
    "#                 print('class = ', classes)\n",
    "#             print('labels shape = ', labels.shape)\n",
    "#             print('inputs shape = ', inputs.shape)\n",
    "            if (current_batches != batches):\n",
    "                print('left over patches = ',current_batches)\n",
    "            batch_dim, b, c, d = inputs.shape #using NEW inputs shape\n",
    "            labels = labels.to(torch.float)\n",
    "#             print('label example =', labels[0,:]) # **** new print\n",
    "#             print('label vector shape', labels.shape) # **** new print\n",
    "#             print('label vector type', type(labels)) # **** new print\n",
    "            # *********************** Print out a patch to verify process **************************\n",
    "#             stft_plot1 =  10*np.log10(np.abs(inputs[0, 0, :, :]+eps))\n",
    "#             stft_plot1 = np.squeeze(stft_plot1, axis=0)\n",
    "#             plt.imshow(stft_plot1, vmin=-70, vmax=5)\n",
    "#             plt.show()          \n",
    "            # **************************************************************************************\n",
    "#             sys.exit('shape testing') # exit program for testing\n",
    "            # add som noise\n",
    "#             c2 = torch.FloatTensor(a).uniform_(r1_c2, r2_c2)\n",
    "            c2 = 1 # lock down noise to nominal\n",
    "            for batch_num in range(batch_dim):\n",
    "                inputs[batch_num,:,:,:] = inputs[batch_num,:,:,:] + (((var_noise*c2)**0.5)*torch.randn(1, 4, 224, 224))   \n",
    "            inputs = Variable(inputs.cuda(GPU))\n",
    "#             labels = rf_data['label'] # moved it up\n",
    "            labels = labels.cuda(GPU)\n",
    "            outputs_logits, outputs_sig = model(inputs)\n",
    "            loss = criterion(outputs_logits, labels) # used with nn.BCEWithLogitsLoss()\n",
    "#                 loss = criterion(outputs_sig, labels) # used with nn.BCEloss\n",
    "#                 print('loss = ', loss)\n",
    "            optimizer.zero_grad()\n",
    "            loss.backward()\n",
    "            optimizer.step()\n",
    "            # 25msps patchs ######################################################################\n",
    "            rf_data25 = next(iter(training_data25))\n",
    "            inputs = rf_data25['data']\n",
    "            inputs = torch.squeeze(inputs, dim=1)\n",
    "            inputs = inputs.permute(0,3,1,2).contiguous()\n",
    "            current_batches, b, c, d = inputs.shape\n",
    "#             print('iteration = ', i, 'current batches = ', current_batches)\n",
    "            labels = rf_data25['label'] \n",
    "            if ((current_batches == batches) and (classes != 1)):\n",
    "                inputs, labels = multiclass(inputs, labels)\n",
    "#                 print('class = ', classes)\n",
    "#             print('labels shape = ', labels.shape)\n",
    "#             print('inputs shape = ', inputs.shape)\n",
    "            if (current_batches != batches):\n",
    "                print('left over patches = ',current_batches)\n",
    "            batch_dim, b, c, d = inputs.shape #using NEW inputs shape\n",
    "            labels = labels.to(torch.float)\n",
    "#             print('label example =', labels[0,:]) # **** new print\n",
    "#             print('label vector shape', labels.shape) # **** new print\n",
    "#             print('label vector type', type(labels)) # **** new print\n",
    "            # *********************** Print out a patch to verify process **************************\n",
    "#             stft_plot1 =  10*np.log10(np.abs(inputs[0, 0, :, :]+eps))\n",
    "#             stft_plot1 = np.squeeze(stft_plot1, axis=0)\n",
    "#             plt.imshow(stft_plot1, vmin=-70, vmax=5)\n",
    "#             plt.show()          \n",
    "            # **************************************************************************************\n",
    "#             sys.exit('shape testing') # exit program for testing\n",
    "            # add som noise\n",
    "#             c2 = torch.FloatTensor(a).uniform_(r1_c2, r2_c2)\n",
    "            c2 = 1 # lock down noise to nominal\n",
    "            for batch_num in range(batch_dim):\n",
    "                inputs[batch_num,:,:,:] = inputs[batch_num,:,:,:] + (((var_noise*c2)**0.5)*torch.randn(1, 4, 224, 224))   \n",
    "            inputs = Variable(inputs.cuda(GPU))\n",
    "#             labels = rf_data['label'] # moved it up\n",
    "            labels = labels.cuda(GPU)\n",
    "            outputs_logits, outputs_sig = model(inputs)\n",
    "            loss = criterion(outputs_logits, labels) # used with nn.BCEWithLogitsLoss()\n",
    "#                 loss = criterion(outputs_sig, labels) # used with nn.BCEloss\n",
    "#                 print('loss = ', loss)\n",
    "            optimizer.zero_grad()\n",
    "            loss.backward()\n",
    "            optimizer.step()\n",
    "#                 print('loss = ', loss)\n",
    "#         print('ResNet ouput = ', outputs)\n",
    "        end = timer()\n",
    "        batch_time = end - start\n",
    "#         print('train total batches =', batch_sum)\n",
    "        #***************************************************************************************\n",
    "        print('batch time = ', batch_time)\n",
    "        print('************************* start *************************')\n",
    "#         sys.exit('resnet testing') # exit program for testing\n",
    "        total_correct_patches = grand_total = 0\n",
    "        start_test = timer()\n",
    "        model.eval()\n",
    "        for testing in validation_data1:\n",
    "            t = train_val(testing)\n",
    "            print('Total 1msps correct = {:.2f}%'.format(t/(24000/classes)*100))\n",
    "            total_correct_patches = total_correct_patches + t\n",
    "        for testing in validation_data5:\n",
    "            t = train_val(testing)\n",
    "            print('Total 5msps correct = {:.2f}%'.format(t/(20004/classes)*100))\n",
    "            total_correct_patches = total_correct_patches + t          \n",
    "        for testing in validation_data10:\n",
    "            t = train_val(testing)\n",
    "            print('Total 10msps correct = {:.2f}%'.format(t/(20004/classes)*100))\n",
    "            total_correct_patches = total_correct_patches + t            \n",
    "        for testing in validation_data25:\n",
    "            t = train_val(testing)\n",
    "            print('Total 25msps correct = {:.2f}%'.format(t/(24000/classes)*100))\n",
    "            total_correct_patches = total_correct_patches + t            \n",
    "           \n",
    "        grand_total = total_correct_patches/test_patch_total\n",
    "#         sys.exit('resnet testing') # exit program for testing\n",
    "#         print('batch indexer = ', batch_indexer)\n",
    "        batch_plot[batch_indexer] = grand_total*100\n",
    "        batch_indexer = batch_indexer + 1\n",
    "    #     print('Batch number = ', i, 'of', len(training_data))\n",
    "        print('Total % correct = {:.2f}%'.format(grand_total*100))         \n",
    "        model.train \n",
    "        end_test = timer()\n",
    "        test_time = end_test - start_test\n",
    "        print('test time = ', test_time)\n",
    "        print('*************************** end ***************************')\n",
    "        #****************************************************************************************         \n",
    "        save_model(epoch,loss)\n",
    "        tqdm.write('___________________________________________')\n",
    "        tqdm.write(\"Epoch {} Loss {:.10f} \".format(epoch+1, loss.data*1)) \n",
    "        tqdm.write('___________________________________________') \n",
    "        if (grand_total >= .97):\n",
    "            break\n",
    "    return loss_plot, batch_plot"
   ]
  },
  {
   "cell_type": "code",
   "execution_count": null,
   "metadata": {},
   "outputs": [],
   "source": [
    "88008/3"
   ]
  },
  {
   "cell_type": "code",
   "execution_count": null,
   "metadata": {},
   "outputs": [],
   "source": [
    "def train_net_combined_data(total): # Multiclass - Mixed patches\n",
    "#     batches = 64\n",
    "#     batches = batches*2# double net required actual batches for combining purpose math\n",
    "    i_batch = 100\n",
    "    i_main = 0\n",
    "    print('batches = ', batches)\n",
    "    if (classes == 1):\n",
    "        test_patch_total = 88008\n",
    "    if (classes == 2):    \n",
    "        test_patch_total = 88008//2 # (88008//2)%128=100 128 batches and remainder the original test total\n",
    "    if (classes == 3):    \n",
    "        test_patch_total = 88008//3 # (88008//3)%192=152 192 batches and remainder the original test total\n",
    "    print('total patch count = ', test_patch_total)\n",
    "    compare = .7\n",
    "    loss_plot = np.zeros(len(training_data)*total)\n",
    "    total_plot = np.zeros(len(training_data)*total)\n",
    "    print('training data length = ', len(training_data))\n",
    "    # Based on combined training data **************************************************\n",
    "    batch_plot = np.zeros(len(training_data)*total) # temporarily remove //100\n",
    "    plot_1msps = np.zeros(len(training_data)*total)\n",
    "    plot_5msps = np.zeros(len(training_data)*total)\n",
    "    plot_10msps = np.zeros(len(training_data)*total)\n",
    "    plot_25msps = np.zeros(len(training_data)*total)\n",
    "    #************************************************************************************\n",
    "#     print('batch plot shape = ', batch_plot.shape)\n",
    "    batch_indexer = 0\n",
    "#     loss_plot, batch_plot, plot_1msps, plot_5msps, plot_10msps, plot_25msps, batch_indexer = load_plot_data(loss_plot, batch_plot, plot_1msps, plot_5msps, plot_10msps, plot_25msps, batch_indexer)\n",
    "    model.train()\n",
    "    for epoch in tqdm(range(total), desc=\"Epoch\"): \n",
    "#         start = timer()\n",
    "        for i, rf_data in enumerate(training_data, 0): \n",
    "            start = timer()\n",
    "            inputs = rf_data['data']\n",
    "            inputs = torch.squeeze(inputs, dim=1)\n",
    "            inputs = inputs.permute(0,3,1,2).contiguous()\n",
    "            current_batches, b, c, d = inputs.shape\n",
    "#             print('iteration = ', i, 'current batches = ', current_batches)\n",
    "            labels = rf_data['label'] \n",
    "            if ((current_batches == batches) and (classes != 1)):\n",
    "                inputs, labels = multiclass(inputs, labels)\n",
    "#                 print('class = ', classes)\n",
    "#             print('labels shape = ', labels.shape)\n",
    "#             print('inputs shape = ', inputs.shape)\n",
    "            if (current_batches != batches):\n",
    "                print('left over patches = ',current_batches)\n",
    "#             sys.exit('resnet testing') # exit program for testing\n",
    "            batch_dim, b, c, d = inputs.shape #using NEW inputs shape\n",
    "            labels = labels.to(torch.float)\n",
    "#             print('label example =', labels[0,:]) # **** new print\n",
    "#             print('label vector shape', labels.shape) # **** new print\n",
    "#             print('label vector type', type(labels)) # **** new print\n",
    "            # *********************** Print out a patch to verify process **************************\n",
    "#             stft_plot1 =  10*np.log10(np.abs(inputs[0, 0, :, :]+eps))\n",
    "#             stft_plot1 = np.squeeze(stft_plot1, axis=0)\n",
    "#             plt.imshow(stft_plot1, vmin=-70, vmax=5)\n",
    "#             plt.show()          \n",
    "            # **************************************************************************************\n",
    "#             sys.exit('shape testing') # exit program for testing\n",
    "            # add som noise\n",
    "#             c2 = torch.FloatTensor(a).uniform_(r1_c2, r2_c2)\n",
    "            c2 = 1 # lock down noise to nominal\n",
    "            for batch_num in range(batch_dim):\n",
    "                inputs[batch_num,:,:,:] = inputs[batch_num,:,:,:] + (((var_noise*c2)**0.5)*torch.randn(1, 4, 224, 224))   \n",
    "            inputs = Variable(inputs.cuda(GPU))\n",
    "#             labels = rf_data['label'] # moved it up\n",
    "            labels = labels.cuda(GPU)\n",
    "            outputs_logits, outputs_sig = model(inputs)\n",
    "            loss = criterion(outputs_logits, labels) # used with nn.BCEWithLogitsLoss()\n",
    "#                 loss = criterion(outputs_sig, labels) # used with nn.BCEloss\n",
    "#                 print('loss = ', loss)\n",
    "            optimizer.zero_grad()\n",
    "            loss.backward()\n",
    "            optimizer.step()\n",
    "            if 1500<=i_main<=100000:\n",
    "                i_batch = 1000\n",
    "            if (i_main % i_batch == 0) and i>0:\n",
    "                print('iter epoch = ', i)\n",
    "                print('iter batch = ', i_batch)\n",
    "                print('i_main = ', i_main)\n",
    "                save_model(epoch,loss,i_main)\n",
    "                loss_plot, batch_plot, plot_1msps, plot_5msps, plot_10msps, plot_25msps = \\\n",
    "                validation_check(loss,epoch,start, test_patch_total,classes,loss_plot, \\\n",
    "                batch_plot, plot_1msps, plot_5msps, plot_10msps, plot_25msps, batch_indexer)\n",
    "                batch_indexer = batch_indexer + 1\n",
    "            i_main = i_main +1\n",
    "    return loss_plot, batch_plot, plot_1msps, plot_5msps, plot_10msps, plot_25msps"
   ]
  },
  {
   "cell_type": "code",
   "execution_count": null,
   "metadata": {},
   "outputs": [],
   "source": [
    "def validation_check(loss,epoch,start,test_patch_total,classes,loss_plot, batch_plot, plot_1msps, \n",
    "                     plot_5msps, plot_10msps, plot_25msps, batch_indexer):       \n",
    "    end = timer()\n",
    "    batch_time = end - start\n",
    "    print('batch time = ', batch_time)\n",
    "    print('************************* start *************************')    \n",
    "    total_correct_patches = grand_total = 0\n",
    "    start_test = timer()\n",
    "    model.eval()\n",
    "    for testing in validation_data1:\n",
    "        t = train_val(testing)\n",
    "        print('Total 1msps correct = {:.2f}%'.format(t/(24000/classes)*100))\n",
    "        total_correct_patches = total_correct_patches + t\n",
    "#         plot_1msps[batch_indexer] = t/(test_patch_total/4)\n",
    "        plot_1msps[batch_indexer] = t/(24000/classes)\n",
    "    for testing in validation_data5:\n",
    "        t = train_val(testing)\n",
    "        print('Total 5msps correct = {:.2f}%'.format(t/(20004/classes)*100))\n",
    "        total_correct_patches = total_correct_patches + t   \n",
    "#         plot_5msps[batch_indexer] = t/(test_patch_total/4)\n",
    "        plot_5msps[batch_indexer] = t/(20004/classes)\n",
    "    for testing in validation_data10:\n",
    "        t = train_val(testing)\n",
    "        print('Total 10msps correct = {:.2f}%'.format(t/(20004/classes)*100))\n",
    "        total_correct_patches = total_correct_patches + t  \n",
    "#         plot_10msps[batch_indexer] = t/(test_patch_total/4)\n",
    "        plot_10msps[batch_indexer] = t/(20004/classes)\n",
    "    for testing in validation_data25:\n",
    "        t = train_val(testing)\n",
    "        print('Total 25msps correct = {:.2f}%'.format(t/(24000/classes)*100))\n",
    "        total_correct_patches = total_correct_patches + t  \n",
    "#         plot_25msps[batch_indexer] = t/(test_patch_total/4)\n",
    "        plot_25msps[batch_indexer] = t/(24000/classes)\n",
    "    grand_total = total_correct_patches/(test_patch_total)\n",
    "    #         sys.exit('resnet testing') # exit program for testing\n",
    "    #         print('batch indexer = ', batch_indexer)\n",
    "    batch_plot[batch_indexer] = grand_total\n",
    "#     batch_indexer = batch_indexer + 1\n",
    "    #     print('Batch number = ', i, 'of', len(training_data))\n",
    "    print('Total % correct {:.2f}%'.format(grand_total*100))         \n",
    "    model.train \n",
    "    end_test = timer()\n",
    "    test_time = end_test - start_test\n",
    "    #***********************************************************\n",
    "    #                       Save plotting data\n",
    "    #***********************************************************\n",
    "    save_plot_data(loss_plot, batch_plot, plot_1msps, plot_5msps, plot_10msps, plot_25msps, batch_indexer)\n",
    "    #***********************************************************\n",
    "    print('test time = ', test_time)\n",
    "    print('*************************** end ***************************')\n",
    "    #****************************************************************************************         \n",
    "#     save_model(epoch,loss)\n",
    "    tqdm.write('___________________________________________')\n",
    "    tqdm.write(\"Epoch {} Loss {:.10f} \".format(epoch+1, loss.data*1)) \n",
    "    tqdm.write('___________________________________________') \n",
    "    return loss_plot, batch_plot, plot_1msps, plot_5msps, plot_10msps, plot_25msps"
   ]
  },
  {
   "cell_type": "code",
   "execution_count": null,
   "metadata": {},
   "outputs": [],
   "source": [
    "def save_plot_data(loss_plot, batch_plot, plot_1msps, plot_5msps, plot_10msps, plot_25msps, batch_indexer):\n",
    "    # path_plot_fig = \"/home/david/sigMF_ML/RF/RF_class/plot_data/\" # ACE\n",
    "    # os.chdir(path_plot_fig)\n",
    "    np.save('resnet50_4ch_loss_plot3_20211213', np.asarray(loss_plot))\n",
    "    np.save('resnet50_4ch_batch_plot3_20211213', np.asarray(batch_plot))\n",
    "    np.save('resnet50_4ch_plot_1msps3_20211213', np.asarray(plot_1msps))\n",
    "    np.save('resnet50_4ch_plot_5msps3_20211213', np.asarray(plot_5msps))\n",
    "    np.save('resnet50_4ch_plot_10msps3_20211213', np.asarray(plot_10msps))\n",
    "    np.save('resnet50_4ch_plot_25msps3_20211213', np.asarray(plot_25msps))\n",
    "    np.save('resnet50_4ch_batch_indexer3_20211213', np.asarray(batch_indexer))\n",
    "    return"
   ]
  },
  {
   "cell_type": "code",
   "execution_count": null,
   "metadata": {},
   "outputs": [],
   "source": [
    "def load_plot_data(loss_plot, batch_plot, plot_1msps, plot_5msps, plot_10msps, plot_25msps, batch_indexer):\n",
    "    # path_plot_fig = \"/home/david/sigMF_ML/RF/RF_class/plot_data/\" # ACE\n",
    "    # os.chdir(path_plot_fig)\n",
    "    loss_plot = np.load('resnet50_4ch_loss_plot3_20211213.npy')\n",
    "    batch_plot = np.load('resnet50_4ch_batch_plot3_20211213.npy')\n",
    "    plot_1msps = np.load('resnet50_4ch_plot_1msps3_20211213.npy')\n",
    "    plot_5msps = np.load('resnet50_4ch_plot_5msps3_20211213.npy')\n",
    "    plot_10msps = np.load('resnet50_4ch_plot_10msps3_20211213.npy')\n",
    "    plot_25msps = np.load('resnet50_4ch_plot_25msps3_20211213.npy')\n",
    "    batch_indexer = np.load('resnet50_4ch_batch_indexer3_20211213.npy')\n",
    "    return loss_plot, batch_plot, plot_1msps, plot_5msps, plot_10msps, plot_25msps, batch_indexer"
   ]
  },
  {
   "cell_type": "markdown",
   "metadata": {},
   "source": [
    "### Training Validation"
   ]
  },
  {
   "cell_type": "code",
   "execution_count": null,
   "metadata": {},
   "outputs": [],
   "source": [
    "def train_val(val_data): # used for MULTI class validation\n",
    "    noise_label = np.zeros(12) # used for validation with noise\n",
    "    noise_label[8] = 1\n",
    "    noise_label = torch.tensor(noise_label)\n",
    "    with torch.no_grad():\n",
    "        total = noise = center_fft = target_to_int = accumulated_corrects = percent_correct = 0\n",
    "        c0 = c1 = c2 = c3 = c4 = c5 = c6 = c7 = c8 = c9 = 0\n",
    "        for i, rf_data in enumerate(val_data, 0): \n",
    "            inputs = rf_data['data']\n",
    "            inputs = torch.squeeze(inputs, dim=1)\n",
    "            inputs = inputs.permute(0,3,1,2).contiguous() \n",
    "            current_batches, b, c, d = inputs.shape\n",
    "#             print('iteration = ', i, 'current batches = ', current_batches)\n",
    "            labels = rf_data['label'] \n",
    "            if ((current_batches == batches) and (classes != 1)):\n",
    "                inputs, labels = multiclass(inputs, labels)\n",
    "                # *********************** Print out a patch to verify process **************************\n",
    "    #             stft_plot1 =  10*np.log10(np.abs(inputs[0, 0, :, :]+eps))\n",
    "    #             stft_plot1 = np.squeeze(stft_plot1, axis=0)\n",
    "    #             plt.imshow(stft_plot1, vmin=-70, vmax=5)\n",
    "    #             plt.show()          \n",
    "                # **************************************************************************************\n",
    "    #             sys.exit('shape testing') # exit program for testing\n",
    "                # add som noise\n",
    "    #             c2 = torch.FloatTensor(a).uniform_(r1_c2, r2_c2)\n",
    "            batch_dim, b, c, d = inputs.shape #using NEW inputs shape\n",
    "            labels = labels.to(torch.float)        \n",
    "            c2 = 1 # lock down noise to nominal\n",
    "            for batch_num in range(batch_dim):\n",
    "                inputs[batch_num,:,:,:] = inputs[batch_num,:,:,:] + (((var_noise*c2)**0.5)*torch.randn(1, 4, 224, 224)) \n",
    "            inputs = Variable(inputs.cuda(GPU))\n",
    "            labels_int = rf_data['label_int']\n",
    "            labels = labels.cuda(GPU)\n",
    "            optimizer.zero_grad() \n",
    "            outputs_logits, outputs_sig = model(inputs)\n",
    "            if (classes ==1):\n",
    "                predicted = outputs_logits.data # using logits output for single patch class validation \n",
    "#                 print('logits out = ', predicted)\n",
    "                _, predicted = torch.max(outputs_logits.data, 1)\n",
    "#                 print('predicted max = ', predicted)\n",
    "#                 predicted = torch.zeros(predicted.shape)\n",
    "#                 predicted[(torch.arange(len(predicted)).unsqueeze(1), torch.topk(predicted,2).indices)] = 1                \n",
    "            else:\n",
    "                predicted = torch.round(outputs_sig.data) # using sigmoid output for multiclass patch validation \n",
    "#                 print('predicted rounded =', predicted)\n",
    "#                 one_hot_label = np.zeros(12).astype(int) # creating one hot vector\n",
    "#                 one_hot_label[label_int] = 1\n",
    "            for b in range(len(predicted)):\n",
    "                if (classes == 1):\n",
    "                    label_integer = labels_int[b].detach().cpu().numpy()\n",
    "                    pred = predicted[b].detach().cpu().numpy()\n",
    "                    if (label_integer == pred): # using integer values\n",
    "                        accumulated_corrects = accumulated_corrects+1                    \n",
    "                else:\n",
    "                    if torch.equal(predicted[b], labels[b]):\n",
    "                        accumulated_corrects = accumulated_corrects+1\n",
    "                    elif torch.equal(predicted[b].detach().cpu().to(torch.int), torch.bitwise_or(labels[b].detach().cpu().to(torch.int),noise_label.to(torch.int))):\n",
    "                        accumulated_corrects = accumulated_corrects+1 # for noise predictions\n",
    "    torch.cuda.empty_cache()\n",
    "    return accumulated_corrects"
   ]
  },
  {
   "cell_type": "markdown",
   "metadata": {},
   "source": [
    "### START one validation test run"
   ]
  },
  {
   "cell_type": "code",
   "execution_count": null,
   "metadata": {
    "scrolled": false
   },
   "outputs": [],
   "source": [
    "# batches = 64\n",
    "# classes = 3\n",
    "# batches = batches*classes"
   ]
  },
  {
   "cell_type": "code",
   "execution_count": null,
   "metadata": {},
   "outputs": [],
   "source": [
    "# val_patch_limit = None\n",
    "# rf_dataset_val = RFDataset(path_validation, limit=val_patch_limit)\n",
    "# validation_data = data.DataLoader(rf_dataset_val, batch_size=batches, shuffle=True)\n",
    "# validation_data = [validation_data]"
   ]
  },
  {
   "cell_type": "code",
   "execution_count": null,
   "metadata": {},
   "outputs": [],
   "source": [
    "# print('batches = ', batches)\n",
    "# if (classes == 1):\n",
    "#     test_patch_total = 88000 \n",
    "# if (classes == 2):    \n",
    "#     test_patch_total = 87936//2 + 64 # accounting for 128 batches and remainder the original test total\n",
    "# if (classes == 3):    \n",
    "#     test_patch_total = 87936//3 + 64 # accounting for 192 batches and remainder the original test total\n",
    "# print('total patch count = ', test_patch_total)\n",
    "# total_correct_patches = grand_total = 0\n",
    "# start_test = timer()\n",
    "# model.eval()\n",
    "# for testing in validation_data:\n",
    "#     t = train_val(testing)\n",
    "#     total_correct_patches = total_correct_patches + t           \n",
    "# grand_total = total_correct_patches/test_patch_total\n",
    "# print('Total % correct {:.2f}%'.format(grand_total*100))     "
   ]
  },
  {
   "cell_type": "markdown",
   "metadata": {},
   "source": [
    "### END validation test run"
   ]
  },
  {
   "cell_type": "markdown",
   "metadata": {},
   "source": [
    "## Inference Segmented Dataloader"
   ]
  },
  {
   "cell_type": "code",
   "execution_count": null,
   "metadata": {},
   "outputs": [],
   "source": [
    "# Inference Dataloader with labels\n",
    "class inference_dataloader_segmented_live(data.Dataset):\n",
    "    def __init__(self):\n",
    "        self.dataPath = path\n",
    "        self.num_classes = 12\n",
    "        self.num_examples = 1 # use only 1 for semi-live inferencing\n",
    "    def __getitem__(self, index):\n",
    "        sigmf_data = np.array(data_IQ_list_val[index]) \n",
    "        print('sigmf_data = ', sigmf_data.shape)\n",
    "        frequency, time, dims1 = sigmf_data.shape\n",
    "        print('frequency = ', frequency, '  time = ', time)\n",
    "        data_IQ = []\n",
    "        data_IQ_temp2 = []\n",
    "        seg_t = 224  \n",
    "        seg_f = 224 \n",
    "        seg_time = time//seg_t\n",
    "        seg_freq = frequency//seg_f\n",
    "        print('seg_time = ', seg_time, 'seg_freq = ', seg_freq)\n",
    "        # Segment the time axis\n",
    "        for j in range(seg_time): \n",
    "                # Segment the frequency axis\n",
    "                for k in range(seg_freq): \n",
    "                    IQ = sigmf_data[seg_f*k:(seg_f)+seg_f*k,seg_t*j:(seg_t)+seg_t*j]\n",
    "                    data_IQ_temp2.append(IQ)            \n",
    "        data_IQ = np.array(data_IQ_temp2)\n",
    "        print('data_IQ shape = ', data_IQ.shape)\n",
    "        loop_counter, dim1, dim2, dim3 = data_IQ.shape\n",
    "        TRUTH =  meta_encoder(meta_list_val, self.num_classes)\n",
    "        TRUTH = TRUTH.astype(np.float32)\n",
    "        return torch.from_numpy(data_IQ),torch.from_numpy(TRUTH), loop_counter, seg_freq\n",
    "    def __len__(self):\n",
    "        return self.num_examples "
   ]
  },
  {
   "cell_type": "code",
   "execution_count": null,
   "metadata": {},
   "outputs": [],
   "source": [
    "# Inference Dataloader with labels\n",
    "class inference_dataloader_segmented(data.Dataset):\n",
    "    def __init__(self):\n",
    "        self.dataPath = path\n",
    "        self.num_classes = 12\n",
    "        self.num_examples = 1 # uses a LOT of memory for more than 1 25MSPS STFT\n",
    "    def __getitem__(self, index):\n",
    "        sigmf_data = np.array(data_IQ_list_val[index]) \n",
    "        print('sigmf_data = ', sigmf_data.shape)\n",
    "        frequency, time, dims1 = sigmf_data.shape\n",
    "        print('frequency = ', frequency, '  time = ', time)\n",
    "        data_IQ = []\n",
    "        data_IQ_temp2 = []\n",
    "        seg_t = 224  \n",
    "        seg_f = 224 \n",
    "        seg_time = time//seg_t\n",
    "        seg_freq = frequency//seg_f\n",
    "        print('seg_time = ', seg_time, 'seg_freq = ', seg_freq)\n",
    "        # Segment the time axis\n",
    "        for j in range(seg_time): \n",
    "                # Segment the frequency axis\n",
    "                for k in range(seg_freq): \n",
    "                    IQ = sigmf_data[seg_f*k:(seg_f)+seg_f*k,seg_t*j:(seg_t)+seg_t*j]\n",
    "                    data_IQ_temp2.append(IQ)            \n",
    "        data_IQ = np.array(data_IQ_temp2)\n",
    "        print('data_IQ shape = ', data_IQ.shape)\n",
    "        loop_counter, dim1, dim2, dim3 = data_IQ.shape\n",
    "        TRUTH =  meta_encoder(meta_list_val, self.num_classes)\n",
    "        TRUTH = TRUTH.astype(np.float32)\n",
    "        return torch.from_numpy(data_IQ),torch.from_numpy(TRUTH), loop_counter, seg_freq\n",
    "    def __len__(self):\n",
    "        return self.num_examples "
   ]
  },
  {
   "cell_type": "markdown",
   "metadata": {},
   "source": [
    "### validation functions"
   ]
  },
  {
   "cell_type": "code",
   "execution_count": null,
   "metadata": {},
   "outputs": [],
   "source": [
    "def validation_read():    \n",
    "    # Inference DATA READING ************************************************\n",
    "    # read in validation IQ and meta data\n",
    "    os.chdir(path_val)\n",
    "    data_files_validation = sorted(glob.glob('*.sigmf-data'))\n",
    "    meta_files_validation = sorted(glob.glob('*.sigmf-meta'))\n",
    "    for meta in meta_files_validation:\n",
    "        all_meta_data = json.load(open(meta))\n",
    "        print(\"validation file name = \", meta)\n",
    "    # Load validation sigmf-data files\n",
    "    meta_list_val = read_meta(meta_files_validation)\n",
    "    data_IQ_list_val = iq_read(data_files_validation)\n",
    "    return data_IQ_list_val, meta_list_val"
   ]
  },
  {
   "cell_type": "code",
   "execution_count": null,
   "metadata": {},
   "outputs": [],
   "source": [
    "def testing_read():\n",
    "    print('testing_read function')\n",
    "    # Inference DATA READING ************************************************\n",
    "    # read in validation IQ and meta data\n",
    "    os.chdir(path_val)\n",
    "    data_files_validation = sorted(glob.glob('*.sigmf-data'))\n",
    "    meta_files_validation = sorted(glob.glob('*.sigmf-meta'))\n",
    "    for meta in meta_files_validation:\n",
    "        all_meta_data = json.load(open(meta))\n",
    "        print(\"testing file name = \", meta)\n",
    "    meta_list_val = read_meta(meta_files_validation)\n",
    "    data_IQ_list_val = iq_read_test_file(data_files_validation)\n",
    "    return data_IQ_list_val, meta_list_val"
   ]
  },
  {
   "cell_type": "markdown",
   "metadata": {},
   "source": [
    "#### Changed to get test data from different directory"
   ]
  },
  {
   "cell_type": "code",
   "execution_count": null,
   "metadata": {},
   "outputs": [],
   "source": [
    "def inference_read_old(msps):    \n",
    "    # Inference DATA READING ************************************************\n",
    "    # read in validation IQ and meta data\n",
    "    os.chdir(path_ram) \n",
    "    data_files_validation = sorted(glob.glob('*.sigmf-data'))\n",
    "    meta_files_validation = sorted(glob.glob('*.sigmf-meta'))\n",
    "    for meta in meta_files_validation:\n",
    "        all_meta_data = json.load(open(meta))\n",
    "        print(\"inference file name = \", meta)\n",
    "    # Load validation sigmf-data files\n",
    "    meta_list_val = read_meta(meta_files_validation)\n",
    "    data_IQ_list_val = iq_read_test_live_old(data_files_validation,msps)\n",
    "    return data_IQ_list_val, meta_list_val"
   ]
  },
  {
   "cell_type": "code",
   "execution_count": null,
   "metadata": {},
   "outputs": [],
   "source": [
    "# updated 20210609 to save memory\n",
    "def inference_read(msps):    \n",
    "    # Inference DATA READING ************************************************\n",
    "    # read in validation IQ and meta data\n",
    "    os.chdir(path_ram)\n",
    "    data_files_validation = sorted(glob.glob('*.sigmf-data'))\n",
    "    meta_files_validation = sorted(glob.glob('*.sigmf-meta'))\n",
    "    for meta in meta_files_validation:\n",
    "        all_meta_data = json.load(open(meta))\n",
    "        print(\"inference file name = \", meta)\n",
    "    return data_files_validation, meta_files_validation"
   ]
  },
  {
   "cell_type": "code",
   "execution_count": null,
   "metadata": {},
   "outputs": [],
   "source": [
    "# updated 2021025 to save memory\n",
    "def inference_read_file(msps,path):    \n",
    "    # Inference DATA READING ************************************************\n",
    "    # read in validation IQ and meta data\n",
    "    os.chdir(path)\n",
    "    data_files_validation = sorted(glob.glob('*.sigmf-data'))\n",
    "    meta_files_validation = sorted(glob.glob('*.sigmf-meta'))\n",
    "    for meta in meta_files_validation:\n",
    "        all_meta_data = json.load(open(meta))\n",
    "        print(\"inference file name = \", meta)\n",
    "    return data_files_validation, meta_files_validation"
   ]
  },
  {
   "cell_type": "code",
   "execution_count": null,
   "metadata": {},
   "outputs": [],
   "source": [
    "def inference_read_file_old(msps,path):    \n",
    "    # Inference DATA READING ************************************************\n",
    "    # read in validation IQ and meta data\n",
    "    os.chdir(path)\n",
    "    data_files_validation = sorted(glob.glob('*.sigmf-data'))\n",
    "    meta_files_validation = sorted(glob.glob('*.sigmf-meta'))\n",
    "    for meta in meta_files_validation:\n",
    "        all_meta_data = json.load(open(meta))\n",
    "        print(\"inference file name = \", meta)\n",
    "    # Load validation sigmf-data files\n",
    "    meta_list_val = read_meta(meta_files_validation)\n",
    "    data_IQ_list_val = iq_read_test_file(data_files_validation,msps)\n",
    "    return data_IQ_list_val, meta_list_val"
   ]
  },
  {
   "cell_type": "code",
   "execution_count": null,
   "metadata": {},
   "outputs": [],
   "source": [
    "def score_IQ_data_one_file_at_a_time_original(center_freq_file, list_of_IQ_data, list_of_labels):    \n",
    "    with torch.no_grad():\n",
    "        model.eval()\n",
    "        start_frequency = (center_freq_file)\n",
    "        print('start_frequency = ', start_frequency/1000000)\n",
    "        total = noise = center_fft = target_to_int = accumulated_corrects = percent_correct = 0\n",
    "        histogram_global = {}\n",
    "        for data in list_of_IQ_data:\n",
    "            # shape of \"data\" should be (513, 1900000000) \n",
    "            freq_offset = 0\n",
    "            match_freq = start_frequency\n",
    "            histogram = np.zeros(12)\n",
    "\n",
    "            # chop \"data\" into the required squares\n",
    "            frequency, time, dims1 = data.shape\n",
    "            list_of_patches = []\n",
    "            seg_t = 224  \n",
    "            seg_f = 224 \n",
    "            seg_time = time//seg_t\n",
    "            seg_freq = frequency//seg_f\n",
    "            # Segment the time axis\n",
    "            for j in range(seg_time): \n",
    "                    # Segment the frequency axis\n",
    "                    for k in range(seg_freq): \n",
    "                        IQ = data[seg_f*k:(seg_f)+seg_f*k,seg_t*j:(seg_t)+seg_t*j]\n",
    "                        list_of_patches.append(IQ)            \n",
    "            # loop through each square  in list_of_squares and score each\n",
    "            freq_increment = (Fs*msps/2)/seg_freq\n",
    "            histogram_frequency = np.zeros(len(list_of_patches))\n",
    "            denom = len(list_of_patches)\n",
    "            count_noise = 0\n",
    "            count_center = 0\n",
    "            for (j, patch) in enumerate(list_of_patches):\n",
    "                num_correct, accuracy = 0, 0\n",
    "                patch = torch.Tensor(patch) # convert path to tensor\n",
    "                patch = patch.unsqueeze(0) # give the patch a fake batch axis\n",
    "                patch = patch.permute(0,3,1,2) # move the channel axis to the front\n",
    "                patch = patch.contiguous().cuda(GPU) # move the tensor to GPU\n",
    "                predicted_class = int(torch.argmax(model(patch))) # gets the index of the largest probability\n",
    "                histogram[predicted_class] += 1\n",
    "                histogram_global[predicted_class] = histogram_global.get(predicted_class, 0) + 1\n",
    "                if predicted_class == 8:\n",
    "                    count_noise += 1\n",
    "                if predicted_class == 9:\n",
    "                    count_center += 1\n",
    "                match_freq = match_freq + freq_offset*freq_increment\n",
    "                histogram_frequency[j] = match_freq/1000000\n",
    "            # print statistics\n",
    "            histo_stats_freq_file(histogram_frequency, msps)\n",
    "            print('************************* Probabilities ********************************')\n",
    "            print('----------------------------WAVEFORMS-----------------------------------')\n",
    "            if (denom == 0):\n",
    "                print('Nothing but noise')\n",
    "            else:\n",
    "                print('LoRa 125 = {:.2f}%'.format(histogram[0]/denom*100))\n",
    "                print('GD55 DMR = {:.2f}%'.format(histogram[1]/denom*100))\n",
    "                print('NFM = {:.2f}%'.format(histogram[2]/denom*100))\n",
    "                print('TYT = {:.2f}'.format(histogram[3]/denom*100))\n",
    "                print('Vodeson Doorbell = {:.2f}%'.format(histogram[4]/denom*100))\n",
    "                print('clickndig = {:.2f}%'.format(histogram[5]/denom*100))\n",
    "                print('Sado doorbell = {:.2f}%'.format(histogram[6]/denom*100))\n",
    "                print('LoRa 250 = {:.2f}%'.format(histogram[7]/denom*100))\n",
    "                print('light switch = {:.2f}%'.format(histogram[10]/denom*100))\n",
    "                print('YSF = {:.2f}%'.format(histogram[11]/denom*100))\n",
    "            print('------------------------------------------------------------------------')\n",
    "            print('***************************** noise and fft ****************************')\n",
    "            print('noise matches = ', count_noise)\n",
    "            print('center fft matches = ', count_center)\n",
    "            print('TOTAL patch count = ', len(list_of_patches))\n",
    "            print('***************************** Finished *********************************')\n",
    "    return histogram_global"
   ]
  },
  {
   "cell_type": "code",
   "execution_count": null,
   "metadata": {},
   "outputs": [],
   "source": [
    "    # inference ************************************************************\n",
    "def testing_file(msps):    \n",
    "        large_width = 400\n",
    "        np.set_printoptions(precision=2,floatmode='fixed', linewidth=large_width)\n",
    "        model.eval()\n",
    "        V = data.DataLoader(inference_dataloader_segmented(), batch_size=1)\n",
    "        start_frequency = (center_freq_file)\n",
    "        match_freq = start_frequency\n",
    "        print('start_frequency = ', start_frequency/1000000)\n",
    "        freq_offset = 0       \n",
    "        total = noise = center_fft = target_to_int = accumulated_corrects = percent_correct = 0\n",
    "        c0 = c1 = c2 = c3 = c4 = c5 = c6 = c7 = c8 = c9 = 0      \n",
    "        with torch.no_grad():\n",
    "            for i, rf_data in enumerate(V, 0):   \n",
    "                accumulated_corrects = 0\n",
    "                percent_correct = 0\n",
    "                target_to_int = 0\n",
    "                inputs, target, counter, seg_freq = rf_data \n",
    "                print('testing counter = ', counter, 'seg_freq =', seg_freq)\n",
    "#                 print('seg_freq = ', seg_freq)\n",
    "#**************************** Print segmented pics ***********************************\n",
    "#                 stft_plot = np.squeeze(inputs, axis=0)\n",
    "#                 fig=plt.figure(figsize=(8,8))\n",
    "#                 ncols = 5\n",
    "#                 nrows = 5\n",
    "#                 range_plot = 1\n",
    "#                 for x in range(1,22): # need to figure out how to not hard code this ********************* <-----\n",
    "#                     stft_mean, stft_std = histo_stats(stft_plot[x,:,:,:])\n",
    "#                     if (x>=range_plot and x<(range_plot+25)):\n",
    "#                         stft_plot1 =  10*np.log10(np.abs(stft_plot[x, :, :, 0]+eps))\n",
    "#                         stft_plot1 = np.squeeze(stft_plot1, axis=0)\n",
    "#                         fig.add_subplot(nrows, ncols, x-range_plot+1)\n",
    "#                         plt.imshow(stft_plot1, vmin=-70, vmax=5)\n",
    "#                 plt.show()\n",
    "#*************************************************************************************\n",
    "                freq_increment = (Fs*msps/2)/seg_freq.detach().cpu().numpy().item()\n",
    "                print('freq_increment = ', freq_increment)\n",
    "                print('TESTING inputs SHAPE = ', inputs.shape)\n",
    "                target = Variable(target.cuda(GPU)) \n",
    "#                 print('input in   = ', inputs.shape)\n",
    "                inputs = torch.squeeze(inputs, dim=0)\n",
    "#                 print('input out  = ', inputs.shape)\n",
    "                inputs = inputs.permute(0,3,1,2).contiguous()\n",
    "#                 print('counter convert stuff = ', counter, type(counter.numpy()))\n",
    "                inputs = Variable(inputs.cuda(GPU))\n",
    "#                 print('permuted shape = ', inputs.shape)\n",
    "                freq_count = 0 # keep track of array position\n",
    "                freq_histo = np.zeros(counter.numpy())\n",
    "                for j in range(counter):\n",
    "                    inputs2 = inputs[j,:,:,:]\n",
    "                    inputs2 = torch.unsqueeze(inputs2,0)\n",
    "                    outputs = model(inputs2)\n",
    "                    _, predicted = torch.max(outputs.data, 1) \n",
    "#******************************* Print prediction range to match pics above ***********        \n",
    "#                     if (j>=range_plot and j<(range_plot+25)):                    \n",
    "#                         print(\"j= \",j,' ',outputs.data.detach().cpu().numpy())\n",
    "#                         print('prediction = ', predicted.detach().cpu().numpy())\n",
    "#*************************************************************************************               \n",
    "                    total = total +1  # Increment the total count\n",
    "                    match_freq = match_freq + freq_offset*freq_increment\n",
    "                    if (predicted.detach().cpu().numpy() == 0):\n",
    "                        c0 = c0 + 1  \n",
    "                        freq_histo[j] = match_freq/1000000\n",
    "                    if (predicted.detach().cpu().numpy() == 1):\n",
    "                        c1 = c1 + 1\n",
    "                        freq_histo[j] = match_freq/1000000\n",
    "                    if (predicted.detach().cpu().numpy() == 2):\n",
    "                        c2 = c2 + 1\n",
    "                        freq_histo[j] = match_freq/1000000\n",
    "                    if (predicted.detach().cpu().numpy() == 3):\n",
    "                        c3 = c3 + 1\n",
    "                        freq_histo[j] = match_freq/1000000            \n",
    "                    if (predicted.detach().cpu().numpy() == 4):\n",
    "                        c4 = c4 + 1\n",
    "                        freq_histo[j] = match_freq/1000000            \n",
    "                    if (predicted.detach().cpu().numpy() == 5):\n",
    "                        c5 = c5 + 1 \n",
    "                        freq_histo[j] = match_freq/1000000            \n",
    "                    if (predicted.detach().cpu().numpy() == 6):\n",
    "                        c6 = c6 + 1 \n",
    "                        freq_histo[j] = match_freq/1000000            \n",
    "                    if (predicted.detach().cpu().numpy() == 7):\n",
    "                        c7 = c7 + 1 \n",
    "                        freq_histo[j] = match_freq/1000000            \n",
    "                    if (predicted.detach().cpu().numpy() == 8):\n",
    "                        noise = noise + 1\n",
    "                    if (predicted.detach().cpu().numpy() == 9):\n",
    "                        center_fft = center_fft + 1  \n",
    "                    if (predicted.detach().cpu().numpy() == 10):\n",
    "                        c8 = c8 + 1  \n",
    "                        freq_histo[j] = match_freq/1000000            \n",
    "                    if (predicted.detach().cpu().numpy() == 11):\n",
    "                        c9 = c9 + 1 \n",
    "                        freq_histo[j] = match_freq/1000000            \n",
    "                    freq_offset = freq_offset + 1\n",
    "                    if (freq_offset == seg_freq):\n",
    "                        freq_offset = 0\n",
    "                    match_freq = start_frequency\n",
    "                torch.cuda.empty_cache()\n",
    "                # complete ******************************************************\n",
    "                freq_histo = np.ma.masked_equal(freq_histo, 0)\n",
    "                histo_stats_freq_file(freq_histo,msps)\n",
    "                denom = total-center_fft-noise\n",
    "                print('************************* Probabilities ********************************')\n",
    "                print('----------------------------WAVEFORMS-----------------------------------')\n",
    "                if (denom == 0):\n",
    "                    print('Nothing but noise')\n",
    "                else:\n",
    "                    print('LoRa 125 = {:.2f}%'.format(c0/denom*100))\n",
    "                    print('GD55 DMR = {:.2f}%'.format(c1/denom*100))\n",
    "                    print('NFM = {:.2f}%'.format(c2/denom*100))\n",
    "                    print('TYT = {:.2f}'.format(c3/denom*100))\n",
    "                    print('Vodeson Doorbell = {:.2f}%'.format(c4/denom*100))\n",
    "                    print('clickndig = {:.2f}%'.format(c5/denom*100))\n",
    "                    print('Sado doorbell = {:.2f}%'.format(c6/denom*100))\n",
    "                    print('LoRa 250 = {:.2f}%'.format(c7/denom*100))\n",
    "                    print('light switch = {:.2f}%'.format(c8/denom*100))\n",
    "                    print('YSF = {:.2f}%'.format(c9/denom*100))\n",
    "                print('------------------------------------------------------------------------')\n",
    "                print('***************************** noise and fft ****************************')\n",
    "                print('noise matches = ', noise)\n",
    "                print('center fft matches = ', center_fft)\n",
    "                print('TOTAL patch count = ', total)\n",
    "                print('***************************** Finished *********************************')"
   ]
  },
  {
   "cell_type": "code",
   "execution_count": null,
   "metadata": {},
   "outputs": [],
   "source": [
    "def score_IQ_data_files(center_freq_file, list_of_IQ_data, list_of_labels,load_net):    \n",
    "    with torch.no_grad():\n",
    "        model = load_model(load_net)\n",
    "        total = noise = center_fft = target_to_int = accumulated_corrects = percent_correct = 0\n",
    "        histogram_global = {}\n",
    "        histogram_data = np.zeros((10,10))\n",
    "        h = 0\n",
    "        for data in list_of_IQ_data:\n",
    "            histogram = np.zeros(12)\n",
    "            # chop \"data\" into the required patch size\n",
    "            frequency, time, dims1 = data.shape\n",
    "            list_of_patches = []\n",
    "            seg_t = 224  \n",
    "            seg_f = 224 \n",
    "            seg_time = time//seg_t\n",
    "            seg_freq = frequency//seg_f\n",
    "            # Segment the time axis\n",
    "            for j in range(seg_time): \n",
    "                    # Segment the frequency axis\n",
    "                    for k in range(seg_freq): \n",
    "                        IQ = data[seg_f*k:(seg_f)+seg_f*k,seg_t*j:(seg_t)+seg_t*j]\n",
    "                        list_of_patches.append(IQ)   \n",
    "#***************************************************************************************************************                        \n",
    "            start_frequency = (center_freq_file)\n",
    "            match_freq = start_frequency   \n",
    "            print('start_frequency = ', start_frequency/1000000)           \n",
    "            # loop through each square  in list_of_patches and score each\n",
    "            freq_increment = (Fs*msps/2)/seg_freq\n",
    "            histogram_frequency = np.zeros(len(list_of_patches))\n",
    "            denom = len(list_of_patches)\n",
    "            print('patch total = ', denom)\n",
    "            count_noise = 0\n",
    "            count_center = 0\n",
    "            freq_histo = np.zeros(len(list_of_patches))\n",
    "            freq_count = 0 # keep track of array position\n",
    "            freq_offset = 0\n",
    "            for (j, patch) in enumerate(list_of_patches):\n",
    "                num_correct, accuracy = 0, 0\n",
    "                patch = torch.Tensor(patch) # convert path to tensor\n",
    "                patch = patch.unsqueeze(0) # give the patch a fake batch axis\n",
    "                patch = patch.permute(0,3,1,2) # move the channel axis to the front\n",
    "                patch = patch.contiguous().cuda(GPU) # move the tensor to GPU     \n",
    "                outputs = model(patch)\n",
    "                predicted_class = int(torch.argmax(outputs.data))\n",
    "                histogram[predicted_class] += 1\n",
    "                histogram_global[predicted_class] = histogram_global.get(predicted_class, 0) + 1\n",
    "                if predicted_class == 8:\n",
    "                    count_noise += 1\n",
    "                if predicted_class == 9:\n",
    "                    count_center += 1\n",
    "                match_freq = match_freq + freq_offset*freq_increment\n",
    "#*******************************************************************************   \n",
    "                if (predicted_class == 0):\n",
    "                    freq_histo[j] = match_freq/1000000\n",
    "                if (predicted_class == 1):\n",
    "                    freq_histo[j] = match_freq/1000000\n",
    "                if (predicted_class == 2):\n",
    "                    freq_histo[j] = match_freq/1000000\n",
    "                if (predicted_class == 3):\n",
    "                    freq_histo[j] = match_freq/1000000            \n",
    "                if (predicted_class == 4):\n",
    "                    freq_histo[j] = match_freq/1000000            \n",
    "                if (predicted_class == 5):\n",
    "                    freq_histo[j] = match_freq/1000000            \n",
    "                if (predicted_class == 6):\n",
    "                    freq_histo[j] = match_freq/1000000            \n",
    "                if (predicted_class == 7):\n",
    "                    freq_histo[j] = match_freq/1000000            \n",
    "                if (predicted_class == 10):\n",
    "                    freq_histo[j] = match_freq/1000000            \n",
    "                if (predicted_class == 11):\n",
    "                    freq_histo[j] = match_freq/1000000                   \n",
    "#******************************************************************************\n",
    "                histogram_frequency[j] = match_freq/1000000\n",
    "                freq_offset = freq_offset + 1\n",
    "                if (freq_offset == seg_freq):\n",
    "                    freq_offset = 0\n",
    "                match_freq = start_frequency                \n",
    "            # print statistics\n",
    "            denom = denom - count_noise - count_center\n",
    "            histo_stats_freq_file(freq_histo, msps)\n",
    "            print('************************* Probabilities ********************************')\n",
    "            print('----------------------------WAVEFORMS-----------------------------------')\n",
    "            if (denom == 0):\n",
    "                print('Nothing but noise')\n",
    "            else:\n",
    "                print('LoRa 125 = {:.2f}%'.format(histogram[0]/denom))\n",
    "                print('GD55 DMR = {:.2f}%'.format(histogram[1]/denom))\n",
    "                print('NFM = {:.2f}%'.format(histogram[2]/denom))\n",
    "                print('TYT = {:.2f}'.format(histogram[3]/denom))\n",
    "                print('Vodeson Doorbell = {:.2f}%'.format(histogram[4]/denom))\n",
    "                print('clickndig = {:.2f}%'.format(histogram[5]/denom))\n",
    "                print('Sado doorbell = {:.2f}%'.format(histogram[6]/denom))\n",
    "                print('LoRa 250 = {:.2f}%'.format(histogram[7]/denom))\n",
    "                print('light switch = {:.2f}%'.format(histogram[10]/denom))\n",
    "                print('YSF = {:.2f}%'.format(histogram[11]/denom))\n",
    "            print('------------------------------------------------------------------------')\n",
    "            print('***************************** noise and fft ****************************')\n",
    "            print('noise matches = ', count_noise)\n",
    "            print('center fft matches = ', count_center)\n",
    "            print('TOTAL patch count = ', len(list_of_patches))\n",
    "            print('***************************** Finished *********************************')\n",
    "            histogram_data[h,0] = histogram[0]/denom\n",
    "            histogram_data[h,1] = histogram[1]/denom\n",
    "            histogram_data[h,2] = histogram[2]/denom\n",
    "            histogram_data[h,3] = histogram[3]/denom\n",
    "            histogram_data[h,4] = histogram[4]/denom\n",
    "            histogram_data[h,5] = histogram[5]/denom\n",
    "            histogram_data[h,6] = histogram[6]/denom\n",
    "            histogram_data[h,7] = histogram[7]/denom\n",
    "            histogram_data[h,8] = histogram[10]/denom   \n",
    "            histogram_data[h,9] = histogram[11]/denom                       \n",
    "            h = h + 1\n",
    "    return histogram_global, histogram_data"
   ]
  },
  {
   "cell_type": "code",
   "execution_count": null,
   "metadata": {},
   "outputs": [],
   "source": [
    "def testing_live(center_freq_file, data_file, label_vector,load_net):    \n",
    "    with torch.no_grad():\n",
    "        model = load_model2(load_net)\n",
    "        total_ground_truth_count = 0\n",
    "        ground_truth_count = 0\n",
    "        total = noise = center_fft = target_to_int = accumulated_corrects = percent_correct = 0\n",
    "        c0 = c1 = c2 = c3 = c4 = c5 = c6 = c7 = c8 = c9 = 0  \n",
    "        lora125 = gd55 = nfm = tyt = vod = click = sado = lora250 = noise = fft = light = ysf = 0\n",
    "        T0_lora125 = T1_gd55 = T2_nfm = T3_tyt = T4_vod = T5_click = T6_sado = T7_lora250 = 0\n",
    "        T8_noise = T9_fft = T10_light = T11_ysf = 0\n",
    "        noise_class = [0., 0., 0., 0., 0., 0., 0., 0., 1., 0., 0., 0.]\n",
    "        histogram_global = {}\n",
    "        histogram_data = np.zeros((10,10))\n",
    "#         data = iq_read_test_live(data_file,msps)\n",
    "        data = iq_read_test_live_combine(data_file,msps) # 20211025\n",
    "#         print('iq data shape = ', data.shape)   \n",
    "# *********************** Print out a patch to verify process ************************************\n",
    "#         stft_plot1 = 10*np.log10(np.abs(data[:,:,0].data.detach().cpu().numpy()+eps))\n",
    "#         plt.imshow(stft_plot1, vmin=-70, vmax=5, aspect='auto', origin='lower')\n",
    "#         plt.show()          \n",
    "# *************************************************************************************************          \n",
    "        histogram = np.zeros(12)\n",
    "        # chop \"data\" into the required patch size\n",
    "        frequency, time, dims1 = data.shape\n",
    "        list_of_patches = []\n",
    "        seg_t = 224  \n",
    "        seg_f = 224 \n",
    "        seg_time = time//seg_t\n",
    "        seg_freq = frequency//seg_f\n",
    "        # Segment the time axis\n",
    "        for j in range(seg_time): \n",
    "                # Segment the frequency axis\n",
    "                for k in range(seg_freq): \n",
    "#                     IQ = data[seg_f*k:(seg_f)+seg_f*k,seg_t*j:(seg_t)+seg_t*j]\n",
    "                    IQ = data[seg_f*k:seg_f*(1+k),seg_t*j:seg_t*(1+j)]\n",
    "#                     IQ = torch.flip(IQ, [0]) # flip patch: THIS SCREWS UP CLASSIFICATION SOMEWHAT\n",
    "# *********************** Print out a patch to verify process ************************************\n",
    "                    print('IQ shape = ', IQ.shape)\n",
    "                    stft_plot1 = 10*np.log10(np.abs(IQ[:,:,0].data.detach().cpu().numpy()+eps))\n",
    "                    plt.imshow(stft_plot1, vmin=-70, vmax=5)\n",
    "                    plt.show()          \n",
    "# *************************************************************************************************\n",
    "                    list_of_patches.append(IQ)   \n",
    "#***************************************************************************************************************                        \n",
    "        freq_offset = 0                  \n",
    "        start_frequency = (center_freq_live)\n",
    "        match_freq = start_frequency   \n",
    "#         print('start_frequency = ', start_frequency/1000000)           \n",
    "        # loop through each square  in list_of_patches and score each\n",
    "        freq_increment = (Fs*msps/2)/seg_freq\n",
    "        histogram_frequency = np.zeros(len(list_of_patches))\n",
    "        denom = len(list_of_patches)\n",
    "        count_noise = 0\n",
    "        count_center = 0\n",
    "        freq_histo = np.zeros(len(list_of_patches))\n",
    "        freq_count = 0 # keep track of array position\n",
    "        for (j, patch) in enumerate(list_of_patches):\n",
    "            num_correct, accuracy = 0, 0\n",
    "#                 patch = torch.Tensor(patch) # already a tensor on GPU 20210610 *******\n",
    "            patch = patch.unsqueeze(0) # give the patch a fake batch axis\n",
    "            patch = patch.permute(0,3,1,2) # move the channel axis to the front\n",
    "            patch = patch.float() # convert patch to a float\n",
    "#                 patch = patch.contiguous().cuda(GPU) # move the tensor to GPU  # already on GPU 20210610 \n",
    "            outputs_logits, outputs_sig = model(patch)\n",
    "#             outputs_sig1 = torch.zeros(outputs_sig.shape)\n",
    "#             outputs_sig1[(torch.arange(len(outputs_sig)).unsqueeze(1), torch.topk(outputs_sig,2).indices)] = 1\n",
    "#             print('predicted classes = ', outputs_sig1)\n",
    "#             print('predicted sigmoid = ', torch.round(outputs_sig))\n",
    "#             print('ground truth      = ', label_vector)\n",
    "            predicted_sigmoid = torch.round(outputs_sig)\n",
    "            \n",
    "                # *********************** Print out a patch to verify process **************************\n",
    "#             if (np.invert(np.equal(predicted_sigmoid.detach().cpu().numpy(), noise_class).all())):\n",
    "#                 stft_plot1 = np.squeeze(patch, axis=0)\n",
    "#                 stft_plot1 =  10*np.log10(np.abs(stft_plot1[0, :, :].data.detach().cpu().numpy()+eps))\n",
    "#                 plt.imshow(stft_plot1, vmin=-70, vmax=5)\n",
    "#                 plt.show()\n",
    "#                 print('outputs sigmoid =', outputs_sig)\n",
    "#                 print('predicted rounded =', predicted_sigmoid)\n",
    "                # **************************************************************************************    \n",
    "            label_test = torch.bitwise_and(torch.from_numpy(label_vector).long(),torch.round(outputs_sig).long().cpu())\n",
    "            label_test1 = label_test.type(torch.uint8)\n",
    "            if label_test1.any()==True:\n",
    "                ground_truth_count +=1\n",
    "            L0,L1,L2,L3,L4,L5,L6,L7,L8,L9,L10,L11 = count_classes_noprint(predicted_sigmoid)\n",
    "            T0,T1,T2,T3,T4,T5,T6,T7,T8,T9,T10,T11 = count_truth(label_test.int())\n",
    "            lora125 = lora125+L0\n",
    "            gd55 = gd55+L1\n",
    "            nfm = nfm+L2\n",
    "            tyt = tyt+L3\n",
    "            vod = vod+L4\n",
    "            click = click+L5\n",
    "            sado = sado+L6\n",
    "            lora250 = lora250+L7\n",
    "            noise = noise+L8\n",
    "            fft = fft+L9\n",
    "            light = light+L10\n",
    "            ysf = ysf+L11\n",
    "            #*****************************\n",
    "            T0_lora125 = T0_lora125+T0\n",
    "            T1_gd55 = T1_gd55+T1\n",
    "            T2_nfm = T2_nfm+T2\n",
    "            T3_tyt = T3_tyt+T3\n",
    "            T4_vod = T4_vod+T4\n",
    "            T5_click = T5_click+T5\n",
    "            T6_sado = T6_sado+T6\n",
    "            T7_lora250 = T7_lora250+T7\n",
    "            T8_noise = T8_noise+T8\n",
    "            T9_fft = T9_fft+T9\n",
    "            T10_light = T10_light+T10\n",
    "            T11_ysf = T11_ysf+T11\n",
    "#             outputs_logits = nn.functional.normalize(outputs_logits, p=2.0, dim=1, eps=1e-12, out=None)\n",
    "#             print('predicted logits = ', outputs_logits)\n",
    "#             _, predicted = torch.max(outputs_logits.data, 1) \n",
    "#                 print('Predicted class = ',predicted_class)\n",
    "#             predicted = int(predicted.detach().cpu().numpy())\n",
    "\n",
    "        results_count = truth_calc(T0_lora125,T1_gd55,T2_nfm,T3_tyt,T4_vod,T5_click,T6_sado,T7_lora250,T8_noise,T9_fft,T10_light,T11_ysf, label_vector)\n",
    "#         print('results count = ', results_count)\n",
    "#         print('ground truth count = ', ground_truth_count)\n",
    "#         print_totals(lora125,gd55,nfm,tyt,vod,click,sado,lora250,noise,fft,light,ysf) \n",
    "#         print('***************************************************************************')\n",
    "#         print('truth totals')\n",
    "#         print('***************************************************************************')\n",
    "#         print_totals(T0_lora125,T1_gd55,T2_nfm,T3_tyt,T4_vod,T5_click,T6_sado,T7_lora250,T8_noise,T9_fft,T10_light,T11_ysf) \n",
    "        torch.cuda.empty_cache() \n",
    "        return results_count"
   ]
  },
  {
   "cell_type": "code",
   "execution_count": null,
   "metadata": {},
   "outputs": [],
   "source": [
    "def testing_live2(center_freq_file, data_file, folder_meta,load_net):    \n",
    "    print('testing_live2')\n",
    "    with torch.no_grad():\n",
    "        model = load_model2(load_net)\n",
    "        total_ground_truth_count = 0\n",
    "        ground_truth_count = 0\n",
    "        total = noise = center_fft = target_to_int = accumulated_corrects = percent_correct = 0\n",
    "        c0 = c1 = c2 = c3 = c4 = c5 = c6 = c7 = c8 = c9 = 0  \n",
    "        lora125 = gd55 = nfm = tyt = vod = click = sado = lora250 = noise = fft = light = ysf = 0\n",
    "        T0_lora125 = T1_gd55 = T2_nfm = T3_tyt = T4_vod = T5_click = T6_sado = T7_lora250 = 0\n",
    "        T8_noise = T9_fft = T10_light = T11_ysf = 0\n",
    "        noise_class = [0., 0., 0., 0., 0., 0., 0., 0., 1., 0., 0., 0.]\n",
    "        histogram_global = {}\n",
    "        histogram_data = np.zeros((10,10))\n",
    "#         data = iq_read_test_live(data_file,msps)\n",
    "        data = iq_read_test_live_combine(data_file,msps) # 20211025\n",
    "        print('iq data shape = ', data.shape)   \n",
    "# *********************** Print out a patch to verify process ************************************\n",
    "#         stft_plot1 = 10*np.log10(np.abs(data[:,:,0].data.detach().cpu().numpy()+eps))\n",
    "#         plt.imshow(stft_plot1, vmin=-70, vmax=5, aspect='auto', origin='lower')\n",
    "#         plt.show()          \n",
    "# *************************************************************************************************          \n",
    "        histogram = np.zeros(12)\n",
    "        # chop \"data\" into the required patch size\n",
    "        frequency, time, dims1 = data.shape\n",
    "        list_of_patches = []\n",
    "        seg_t = 224  \n",
    "        seg_f = 224 \n",
    "        seg_time = time//seg_t\n",
    "        seg_freq = frequency//seg_f\n",
    "        # Segment the time axis\n",
    "        for j in range(seg_time): \n",
    "                # Segment the frequency axis\n",
    "                for k in range(seg_freq): \n",
    "#                     IQ = data[seg_f*k:(seg_f)+seg_f*k,seg_t*j:(seg_t)+seg_t*j]\n",
    "                    IQ = data[seg_f*k:seg_f*(1+k),seg_t*j:seg_t*(1+j)]\n",
    "#                     IQ = torch.flip(IQ, [0]) # flip patch: THIS SCREWS UP CLASSIFICATION SOMEWHAT\n",
    "# *********************** Print out a patch to verify process ************************************\n",
    "#                     print('IQ shape = ', IQ.shape)\n",
    "#                     stft_plot1 = 10*np.log10(np.abs(IQ[:,:,0].data.detach().cpu().numpy()+eps))\n",
    "#                     plt.imshow(stft_plot1, vmin=-70, vmax=5)\n",
    "#                     plt.show()          \n",
    "# *************************************************************************************************\n",
    "                    list_of_patches.append(IQ)   \n",
    "#***************************************************************************************************************                        \n",
    "        freq_offset = 0                  \n",
    "        start_frequency = (center_freq_live)\n",
    "        match_freq = start_frequency   \n",
    "#         print('start_frequency = ', start_frequency/1000000)           \n",
    "        # loop through each square  in list_of_patches and score each\n",
    "        freq_increment = (Fs*msps/2)/seg_freq\n",
    "        histogram_frequency = np.zeros(len(list_of_patches))\n",
    "        denom = len(list_of_patches)\n",
    "        count_noise = 0\n",
    "        count_center = 0\n",
    "        freq_histo = np.zeros(len(list_of_patches))\n",
    "        freq_count = 0 # keep track of array position\n",
    "        for (j, patch) in enumerate(list_of_patches):\n",
    "            num_correct, accuracy = 0, 0\n",
    "#                 patch = torch.Tensor(patch) # already a tensor on GPU 20210610 *******\n",
    "            patch = patch.unsqueeze(0) # give the patch a fake batch axis\n",
    "            patch = patch.permute(0,3,1,2) # move the channel axis to the front\n",
    "            patch = patch.float() # convert patch to a float\n",
    "#                 patch = patch.contiguous().cuda(GPU) # move the tensor to GPU  # already on GPU 20210610 \n",
    "            outputs_logits, outputs_sig = model(patch)\n",
    "#             outputs_sig1 = torch.zeros(outputs_sig.shape)\n",
    "#             outputs_sig1[(torch.arange(len(outputs_sig)).unsqueeze(1), torch.topk(outputs_sig,2).indices)] = 1\n",
    "#             print('predicted classes = ', outputs_sig1)\n",
    "#             print('predicted sigmoid = ', torch.round(outputs_sig))\n",
    "#             print('ground truth      = ', label_vector)\n",
    "            predicted_sigmoid = torch.round(outputs_sig)\n",
    "            label_vector = multiclass_test2(folder_meta)\n",
    "                # *********************** Print out a patch to verify process **************************\n",
    "            if (np.invert(np.equal(predicted_sigmoid.detach().cpu().numpy(), noise_class).all())):\n",
    "                stft_plot1 = np.squeeze(patch, axis=0)\n",
    "                stft_plot1 =  10*np.log10(np.abs(stft_plot1[0, :, :].data.detach().cpu().numpy()+eps))\n",
    "                plt.imshow(stft_plot1, vmin=-70, vmax=5)\n",
    "                plt.show()\n",
    "#                 print('ground truth      = ', label_vector)\n",
    "#                 print('predicted rounded =', predicted_sigmoid)\n",
    "                # **************************************************************************************    \n",
    "            label_test = torch.bitwise_and(torch.from_numpy(label_vector).long(),torch.round(outputs_sig).long().cpu())\n",
    "            label_test1 = label_test.type(torch.uint8)\n",
    "            if label_test1.any()==True:\n",
    "                ground_truth_count +=1\n",
    "            L0,L1,L2,L3,L4,L5,L6,L7,L8,L9,L10,L11 = count_classes(predicted_sigmoid)\n",
    "            T0,T1,T2,T3,T4,T5,T6,T7,T8,T9,T10,T11 = count_truth(label_test.int())\n",
    "            lora125 = lora125+L0\n",
    "            gd55 = gd55+L1\n",
    "            nfm = nfm+L2\n",
    "            tyt = tyt+L3\n",
    "            vod = vod+L4\n",
    "            click = click+L5\n",
    "            sado = sado+L6\n",
    "            lora250 = lora250+L7\n",
    "            noise = noise+L8\n",
    "            fft = fft+L9\n",
    "            light = light+L10\n",
    "            ysf = ysf+L11\n",
    "            #*****************************\n",
    "            T0_lora125 = T0_lora125+T0\n",
    "            T1_gd55 = T1_gd55+T1\n",
    "            T2_nfm = T2_nfm+T2\n",
    "            T3_tyt = T3_tyt+T3\n",
    "            T4_vod = T4_vod+T4\n",
    "            T5_click = T5_click+T5\n",
    "            T6_sado = T6_sado+T6\n",
    "            T7_lora250 = T7_lora250+T7\n",
    "            T8_noise = T8_noise+T8\n",
    "            T9_fft = T9_fft+T9\n",
    "            T10_light = T10_light+T10\n",
    "            T11_ysf = T11_ysf+T11\n",
    "#             outputs_logits = nn.functional.normalize(outputs_logits, p=2.0, dim=1, eps=1e-12, out=None)\n",
    "#             print('predicted logits = ', outputs_logits)\n",
    "#             _, predicted = torch.max(outputs_logits.data, 1) \n",
    "#                 print('Predicted class = ',predicted_class)\n",
    "#             predicted = int(predicted.detach().cpu().numpy())\n",
    "\n",
    "        results_count = truth_calc(T0_lora125,T1_gd55,T2_nfm,T3_tyt,T4_vod,T5_click,T6_sado,T7_lora250,T8_noise,T9_fft,T10_light,T11_ysf, label_vector)\n",
    "#         print('results count = ', results_count)\n",
    "#         print('ground truth count = ', ground_truth_count)\n",
    "#         print_totals(lora125,gd55,nfm,tyt,vod,click,sado,lora250,noise,fft,light,ysf) \n",
    "#         print('***************************************************************************')\n",
    "#         print('truth totals')\n",
    "#         print('***************************************************************************')\n",
    "#         print_totals(T0_lora125,T1_gd55,T2_nfm,T3_tyt,T4_vod,T5_click,T6_sado,T7_lora250,T8_noise,T9_fft,T10_light,T11_ysf) \n",
    "        torch.cuda.empty_cache() \n",
    "        return results_count"
   ]
  },
  {
   "cell_type": "code",
   "execution_count": null,
   "metadata": {},
   "outputs": [],
   "source": [
    "def multiclass_test2(folder_meta):\n",
    "    one_hot_label = np.zeros([12]).astype(int) # creating one hot vector\n",
    "    i = 0\n",
    "    for label_list in folder_meta:\n",
    "        with open(str(label_list)) as meta_data:\n",
    "            metadata = json.load(meta_data)\n",
    "            label = int(metadata[\"global\"][\"core:class\"])\n",
    "#                 print('label = ', label)\n",
    "        one_hot_label[label] = 1\n",
    "#     print(one_hot_label)\n",
    "    return one_hot_label"
   ]
  },
  {
   "cell_type": "code",
   "execution_count": null,
   "metadata": {},
   "outputs": [],
   "source": [
    "def truth_calc(T0,T1,T2,T3,T4,T5,T6,T7,T8,T9,T10,T11,label_vector):\n",
    "    results = 0\n",
    "    result_vector = np.zeros([12]).astype(int) # creating one hot vector\n",
    "    lora125 = gd55 = nfm = tyt = vod = click = sado = lora250 = noise = fft = light = ysf = 0\n",
    "#     label_vector = label_vector.int()\n",
    "#     label_test = torch.squeeze(label_vector)\n",
    "    if T0>=1:\n",
    "        result_vector[0]=1\n",
    "    if T1>=1:\n",
    "        result_vector[1]=1\n",
    "    if T2>=1:\n",
    "        result_vector[2]=1\n",
    "    if T3>=1:\n",
    "        result_vector[3]=1\n",
    "    if T4>=1:\n",
    "        result_vector[4]=1\n",
    "    if T5>=1:\n",
    "        result_vector[5]=1\n",
    "    if T6>=1:\n",
    "        result_vector[6]=1\n",
    "    if T7>=1:\n",
    "        result_vector[7]=1\n",
    "    if T8>=1:\n",
    "        result_vector[8]=1\n",
    "    if T9>=1:\n",
    "        result_vector[9]=1\n",
    "    if T10>=1:\n",
    "        result_vector[10]=1\n",
    "    if T11>=1:\n",
    "        result_vector[11]=1 \n",
    "#     print('label vector = ', label_vector.astype(int), type(label_vector))\n",
    "#     print('result vector = ', result_vector, type(result_vector))\n",
    "#     if np.bitwise_and(label_vector.astype(int),result_vector).all()==True:\n",
    "    if (label_vector.astype(int)==result_vector).all():    \n",
    "        results = 1\n",
    "#         print('result_vector = TRUE')\n",
    "    return results"
   ]
  },
  {
   "cell_type": "code",
   "execution_count": null,
   "metadata": {},
   "outputs": [],
   "source": [
    "def count_truth(label_test):\n",
    "    lora125 = gd55 = nfm = tyt = vod = click = sado = lora250 = noise = fft = light = ysf = 0\n",
    "    label_test = label_test.int()\n",
    "    label_test = torch.squeeze(label_test)\n",
    "    if label_test[0]==1:\n",
    "#         print('LoRa 125')\n",
    "        lora125 = lora125+1\n",
    "    if label_test[1]==1:\n",
    "#         print('GD55')\n",
    "        gd55 = gd55+1\n",
    "    if label_test[2]==1:\n",
    "#         print('NFM')\n",
    "        nfm = nfm+1\n",
    "    if label_test[3]==1:\n",
    "#         print('TYT')\n",
    "        tyt = tyt+1\n",
    "    if label_test[4]==1:\n",
    "#         print('Vodeson')\n",
    "        vod = vod+1\n",
    "    if label_test[5]==1:\n",
    "#         print('clickndig')\n",
    "        click = click+1\n",
    "    if label_test[6]==1:\n",
    "#         print('Sado')\n",
    "        sado = sado+1\n",
    "    if label_test[7]==1:\n",
    "#         print('LoRa 250')\n",
    "        lora250 = lora250+1\n",
    "    if label_test[8]==1:\n",
    "#         print('noise')\n",
    "        noise = noise+1\n",
    "    if label_test[9]==1:\n",
    "#         print('fft')\n",
    "        fft=fft+1\n",
    "    if label_test[10]==1:\n",
    "#         print('light switch')\n",
    "        light = light+1\n",
    "    if label_test[11]==1:\n",
    "#         print('YSF')\n",
    "        ysf = ysf+1\n",
    "    return lora125, gd55, nfm, tyt, vod, click, sado, lora250, noise, fft, light, ysf"
   ]
  },
  {
   "cell_type": "code",
   "execution_count": null,
   "metadata": {},
   "outputs": [],
   "source": [
    "def count_classes(pred_array):\n",
    "    lora125 = gd55 = nfm = tyt = vod = click = sado = lora250 = noise = fft = light = ysf = 0\n",
    "    pred_array = pred_array.int()\n",
    "    pred_array = torch.squeeze(pred_array)\n",
    "    if pred_array[0]==1:\n",
    "        print('LoRa 125')\n",
    "        lora125 = lora125+1\n",
    "    if pred_array[1]==1:\n",
    "        print('GD55')\n",
    "        gd55 = gd55+1\n",
    "    if pred_array[2]==1:\n",
    "        print('NFM')\n",
    "        nfm = nfm+1\n",
    "    if pred_array[3]==1:\n",
    "        print('TYT')\n",
    "        tyt = tyt+1\n",
    "    if pred_array[4]==1:\n",
    "        print('Vodeson')\n",
    "        vod = vod+1\n",
    "    if pred_array[5]==1:\n",
    "        print('clickndig')\n",
    "        click = click+1\n",
    "    if pred_array[6]==1:\n",
    "        print('Sado')\n",
    "        sado = sado+1\n",
    "    if pred_array[7]==1:\n",
    "        print('LoRa 250')\n",
    "        lora250 = lora250+1\n",
    "    if pred_array[8]==1:\n",
    "#         print('noise')\n",
    "        noise = noise+1\n",
    "    if pred_array[9]==1:\n",
    "#         print('fft')\n",
    "        fft=fft+1\n",
    "    if pred_array[10]==1:\n",
    "        print('light switch')\n",
    "        light = light+1\n",
    "    if pred_array[11]==1:\n",
    "        print('YSF')\n",
    "        ysf = ysf+1\n",
    "    return lora125, gd55, nfm, tyt, vod, click, sado, lora250, noise, fft, light, ysf            "
   ]
  },
  {
   "cell_type": "code",
   "execution_count": null,
   "metadata": {},
   "outputs": [],
   "source": [
    "def count_classes_noprint(pred_array):\n",
    "    lora125 = gd55 = nfm = tyt = vod = click = sado = lora250 = noise = fft = light = ysf = 0\n",
    "    pred_array = pred_array.int()\n",
    "    pred_array = torch.squeeze(pred_array)\n",
    "    if pred_array[0]==1:\n",
    "        lora125 = lora125+1\n",
    "    if pred_array[1]==1:\n",
    "        gd55 = gd55+1\n",
    "    if pred_array[2]==1:\n",
    "        nfm = nfm+1\n",
    "    if pred_array[3]==1:\n",
    "        tyt = tyt+1\n",
    "    if pred_array[4]==1:\n",
    "        vod = vod+1\n",
    "    if pred_array[5]==1:\n",
    "        click = click+1\n",
    "    if pred_array[6]==1:\n",
    "        sado = sado+1\n",
    "    if pred_array[7]==1:\n",
    "        lora250 = lora250+1\n",
    "    if pred_array[8]==1:\n",
    "        noise = noise+1\n",
    "    if pred_array[9]==1:\n",
    "        fft=fft+1\n",
    "    if pred_array[10]==1:\n",
    "        light = light+1\n",
    "        ysf = ysf+1\n",
    "    return lora125, gd55, nfm, tyt, vod, click, sado, lora250, noise, fft, light, ysf "
   ]
  },
  {
   "cell_type": "code",
   "execution_count": null,
   "metadata": {},
   "outputs": [],
   "source": [
    "def print_totals(lora125,gd55,nfm,tyt,vod,click,sado,lora250,noise,fft,light,ysf):\n",
    "    print('LoRa 125 = ', lora125)\n",
    "    print('GD55 = ', gd55)\n",
    "    print('NFM = ', nfm)\n",
    "    print('TYT = ', tyt)\n",
    "    print('Vodeson = ', vod)\n",
    "    print('ClicknDig = ', click)\n",
    "    print('Sado = ', sado)\n",
    "    print('LoRa 250 = ', lora250)\n",
    "    print('noise = ', noise)\n",
    "    print('FFT = ', fft)\n",
    "    print('Light switch = ', light)\n",
    "    print('YSF = ', ysf)"
   ]
  },
  {
   "cell_type": "markdown",
   "metadata": {},
   "source": [
    "#### original loader - used when not limiting training data size to batch"
   ]
  },
  {
   "cell_type": "code",
   "execution_count": null,
   "metadata": {
    "scrolled": false
   },
   "outputs": [],
   "source": [
    "# train_dataloader = RFDataset(path, limit=None)"
   ]
  },
  {
   "cell_type": "code",
   "execution_count": null,
   "metadata": {},
   "outputs": [],
   "source": [
    "# training_data = data.DataLoader(train_dataloader, batch_size=batches, shuffle=True)"
   ]
  },
  {
   "cell_type": "markdown",
   "metadata": {},
   "source": [
    "## CUDA initialization"
   ]
  },
  {
   "cell_type": "markdown",
   "metadata": {},
   "source": [
    "#### Load a previous model"
   ]
  },
  {
   "cell_type": "code",
   "execution_count": null,
   "metadata": {},
   "outputs": [],
   "source": [
    "# model, optimizer = load_model()\n",
    "# CUDA = torch.cuda.is_available()\n",
    "# if CUDA:\n",
    "#     model.cuda(GPU)\n",
    "#     print('loaded to GPU')\n",
    "# CUDA  "
   ]
  },
  {
   "cell_type": "markdown",
   "metadata": {},
   "source": [
    "#### Start a new model"
   ]
  },
  {
   "cell_type": "code",
   "execution_count": null,
   "metadata": {},
   "outputs": [],
   "source": [
    "model = resnet18(4, 12) # number of input channels, number of classes\n",
    "CUDA = torch.cuda.is_available()\n",
    "if CUDA:\n",
    "    model.cuda(GPU)\n",
    "CUDA  "
   ]
  },
  {
   "cell_type": "markdown",
   "metadata": {},
   "source": [
    "## Final training initialization"
   ]
  },
  {
   "cell_type": "code",
   "execution_count": null,
   "metadata": {
    "scrolled": true
   },
   "outputs": [],
   "source": [
    "# criterion = nn.BCEWithLogitsLoss()\n",
    "# lr= 1e-6 # .0004\n",
    "# optimizer = optim.Adam(model.parameters(), lr=lr)\n",
    "# model.train()"
   ]
  },
  {
   "cell_type": "code",
   "execution_count": null,
   "metadata": {
    "scrolled": true
   },
   "outputs": [],
   "source": [
    "# VALIDATION ************************************************************\n",
    "np.set_printoptions(threshold=np.inf)"
   ]
  },
  {
   "cell_type": "markdown",
   "metadata": {},
   "source": [
    "### TRAIN Model"
   ]
  },
  {
   "cell_type": "markdown",
   "metadata": {},
   "source": [
    "## Single Class load and train"
   ]
  },
  {
   "cell_type": "code",
   "execution_count": null,
   "metadata": {
    "scrolled": true
   },
   "outputs": [],
   "source": [
    "# batches = 64\n",
    "# train_dataloader = RFDataset(path, limit=None)"
   ]
  },
  {
   "cell_type": "code",
   "execution_count": null,
   "metadata": {},
   "outputs": [],
   "source": [
    "# training_data = data.DataLoader(train_dataloader, batch_size=batches, shuffle=True)"
   ]
  },
  {
   "cell_type": "code",
   "execution_count": null,
   "metadata": {},
   "outputs": [],
   "source": [
    "# val_patch_limit = None\n",
    "# rf_dataset_val = RFDataset(path_validation, limit=val_patch_limit)\n",
    "# validation_data = data.DataLoader(rf_dataset_val, batch_size=batches, shuffle=True)\n",
    "# validation_data = [validation_data]"
   ]
  },
  {
   "cell_type": "code",
   "execution_count": null,
   "metadata": {
    "scrolled": true
   },
   "outputs": [],
   "source": [
    "# total = 5\n",
    "# loss_plot,total_plot = train_net_clean(total)"
   ]
  },
  {
   "cell_type": "markdown",
   "metadata": {},
   "source": [
    "## Multi- Class load and train"
   ]
  },
  {
   "cell_type": "markdown",
   "metadata": {},
   "source": [
    "#### global batch variable needs to be doubled or tripled from clean training\n",
    "    1) must rerun training loader"
   ]
  },
  {
   "cell_type": "markdown",
   "metadata": {},
   "source": [
    "#### Training for 1 class per patch"
   ]
  },
  {
   "cell_type": "code",
   "execution_count": null,
   "metadata": {},
   "outputs": [],
   "source": [
    "batches = 64\n",
    "classes = 1\n",
    "batches = batches*classes"
   ]
  },
  {
   "cell_type": "code",
   "execution_count": null,
   "metadata": {},
   "outputs": [],
   "source": [
    "criterion = nn.BCEWithLogitsLoss()\n",
    "lr= 1e-4 # .0004\n",
    "optimizer = optim.Adam(model.parameters(), lr=lr)\n",
    "model.train()"
   ]
  },
  {
   "cell_type": "markdown",
   "metadata": {},
   "source": [
    "#### seperated dataloaders"
   ]
  },
  {
   "cell_type": "code",
   "execution_count": null,
   "metadata": {
    "scrolled": true
   },
   "outputs": [],
   "source": [
    "# train_dataloader1 = RFDataset(path_1msps, limit=None)\n",
    "# train_dataloader25 = RFDataset(path_25msps, limit=None)"
   ]
  },
  {
   "cell_type": "code",
   "execution_count": null,
   "metadata": {},
   "outputs": [],
   "source": [
    "# training_data = data.DataLoader(train_dataloader, batch_size=batches, shuffle=True)"
   ]
  },
  {
   "cell_type": "code",
   "execution_count": null,
   "metadata": {},
   "outputs": [],
   "source": [
    "# train_dataloader1 = RFDataset(path_1msps, limit=None)\n",
    "# train_dataloader25 = RFDataset(path_25msps, limit=None)"
   ]
  },
  {
   "cell_type": "code",
   "execution_count": null,
   "metadata": {},
   "outputs": [],
   "source": [
    "# training_data = data.DataLoader(train_dataloader25, batch_size=batches, shuffle=True)\n",
    "# training_data25 = data.DataLoader(train_dataloader25, batch_size=batches, shuffle=True)"
   ]
  },
  {
   "cell_type": "markdown",
   "metadata": {},
   "source": [
    "#### combined dataloaders (External drive)"
   ]
  },
  {
   "cell_type": "code",
   "execution_count": null,
   "metadata": {
    "scrolled": true
   },
   "outputs": [],
   "source": [
    "train_dataloader = RFDataset(path, limit=None)"
   ]
  },
  {
   "cell_type": "code",
   "execution_count": null,
   "metadata": {},
   "outputs": [],
   "source": [
    "training_data = data.DataLoader(train_dataloader, batch_size=batches, shuffle=True)"
   ]
  },
  {
   "cell_type": "markdown",
   "metadata": {},
   "source": [
    "#### validation dataloader setup"
   ]
  },
  {
   "cell_type": "code",
   "execution_count": null,
   "metadata": {},
   "outputs": [],
   "source": [
    "# val_patches = None\n",
    "# rf_dataset_val = RFDataset(path_validation, limit=val_patches)\n",
    "# validation_data = data.DataLoader(rf_dataset_val, batch_size=batches, shuffle=True)\n",
    "# validation_data = [validation_data]"
   ]
  },
  {
   "cell_type": "code",
   "execution_count": null,
   "metadata": {
    "scrolled": true
   },
   "outputs": [],
   "source": [
    "val_patches = None\n",
    "rf_dataset_val1 = RFDataset2(path_val_1msps, limit=val_patches)\n",
    "rf_dataset_val5 = RFDataset2(path_val_5msps, limit=val_patches)\n",
    "rf_dataset_val10 = RFDataset2(path_val_10msps, limit=val_patches)\n",
    "rf_dataset_val25 = RFDataset2(path_val_25msps, limit=val_patches)\n",
    "validation_data1 = data.DataLoader(rf_dataset_val1, batch_size=batches, shuffle=True)\n",
    "validation_data1 = [validation_data1]\n",
    "validation_data5 = data.DataLoader(rf_dataset_val5, batch_size=batches, shuffle=True)\n",
    "validation_data5 = [validation_data5]\n",
    "validation_data10 = data.DataLoader(rf_dataset_val10, batch_size=batches, shuffle=True)\n",
    "validation_data10 = [validation_data10]\n",
    "validation_data25 = data.DataLoader(rf_dataset_val25, batch_size=batches, shuffle=True)\n",
    "validation_data25 = [validation_data25]"
   ]
  },
  {
   "cell_type": "markdown",
   "metadata": {},
   "source": [
    "#### training run"
   ]
  },
  {
   "cell_type": "code",
   "execution_count": null,
   "metadata": {
    "scrolled": true
   },
   "outputs": [],
   "source": [
    "total = 20\n",
    "loss_plot, total_plot, plot_1msps, plot_5msps, plot_10msps, plot_25msps = train_net_combined_data(total)"
   ]
  },
  {
   "cell_type": "markdown",
   "metadata": {},
   "source": [
    "### PLOTTING 1 class/patch"
   ]
  },
  {
   "cell_type": "code",
   "execution_count": null,
   "metadata": {},
   "outputs": [],
   "source": [
    "path_plot_fig = \"/home/david/sigMF_ML/RF/RF_class/plot_data/\" # ACE\n",
    "os.chdir(path_plot_fig)\n",
    "np.save('resnet18_total_plot_20220226_rev1_mix_msps', np.asarray(total_plot))\n",
    "np.save('resnet18_plot_1msps_20220226_rev1_mix_msps', np.asarray(plot_1msps))\n",
    "np.save('resnet18_plot_5msps_20220226_rev1_mix_msps', np.asarray(plot_5msps))\n",
    "np.save('resnet18_plot_10msps_20220226_rev1_mix_msps', np.asarray(plot_10msps))\n",
    "np.save('resnet18_plot_25msps_20220226_rev1_mix_msps', np.asarray(plot_25msps))"
   ]
  },
  {
   "cell_type": "code",
   "execution_count": null,
   "metadata": {},
   "outputs": [],
   "source": [
    "path_plot_fig = \"/home/david/sigMF_ML/RF/RF_class/plot_data/\" # ACE\n",
    "os.chdir(path_plot_fig)\n",
    "resnet50_total_plot = np.load('resnet18_total_plot_20220226_rev1_mix_msps.npy')\n",
    "resnet50_plot_1msps = np.load('resnet18_plot_1msps_20220226_rev1_mix_msps.npy')\n",
    "resnet50_plot_5msps = np.load('resnet18_plot_5msps_20220226_rev1_mix_msps.npy')\n",
    "resnet50_plot_10msps = np.load('resnet18_plot_10msps_20220226_rev1_mix_msps.npy')\n",
    "resnet50_plot_25msps = np.load('resnet18_plot_25msps_20220226_rev1_mix_msps.npy')"
   ]
  },
  {
   "cell_type": "code",
   "execution_count": null,
   "metadata": {},
   "outputs": [],
   "source": [
    "(resnet50_plot_1msps)"
   ]
  },
  {
   "cell_type": "code",
   "execution_count": null,
   "metadata": {},
   "outputs": [],
   "source": [
    "resnet50_plot_25msps"
   ]
  },
  {
   "cell_type": "code",
   "execution_count": null,
   "metadata": {},
   "outputs": [],
   "source": [
    "x"
   ]
  },
  {
   "cell_type": "code",
   "execution_count": null,
   "metadata": {},
   "outputs": [],
   "source": [
    "from matplotlib.ticker import FuncFormatter"
   ]
  },
  {
   "cell_type": "code",
   "execution_count": null,
   "metadata": {},
   "outputs": [],
   "source": [
    "def kilo_samples(x, pos):\n",
    "    'The two args are the value and tick position'\n",
    "    if x>=1000:\n",
    "        return '%1.1fk' % (x*1e-3)\n",
    "    return '%0d' % (x*1)"
   ]
  },
  {
   "cell_type": "code",
   "execution_count": 96,
   "metadata": {
    "scrolled": false
   },
   "outputs": [
    {
     "data": {
      "image/png": "[encoded data removed]",
      "text/plain": [
       "<matplotlib.figure.Figure at 0x7f907072fa58>"
      ]
     },
     "metadata": {
      "needs_background": "light"
     },
     "output_type": "display_data"
    }
   ],
   "source": [
    "formatter = FuncFormatter(kilo_samples)\n",
    "lim1 = 1500\n",
    "a = np.arange(0,lim1,100) # Start at index position 1\n",
    "lim2 = 300000\n",
    "b = np.arange(1500,lim2,1000) # Start at index position 1\n",
    "x = np.concatenate((a, b), axis=0)\n",
    "a = 0\n",
    "# num = 125\n",
    "num = 25\n",
    "# x = np.arange(0,num,1) # Start at index position 1\n",
    "plt.rcParams.update({'font.size': 23})\n",
    "# plt.figure(figsize=(9, 6))\n",
    "\n",
    "# fig2 = plt.figure()\n",
    "\n",
    "fig2, ax = plt.subplots()\n",
    "ax.xaxis.set_major_formatter(formatter)\n",
    "\n",
    "\n",
    "\n",
    "# ax = plt.subplot(111)\n",
    "# Shrink current axis by 20%\n",
    "# box = ax.get_position()\n",
    "# ax.set_position([box.x0, box.y0, box.width * 0.8, box.height])\n",
    "\n",
    "plt.plot(x[a:num],resnet50_plot_1msps[a:num], '-*', c='darkblue',markersize=6, linewidth=2,markerfacecolor='darkblue',markeredgecolor='darkblue',markeredgewidth=2, label='1')\n",
    "plt.plot(x[a:num],resnet50_plot_5msps[a:num], '-X', c='blue', markersize=6, linewidth=2,markerfacecolor='blue',markeredgecolor='blue',markeredgewidth=2, label='5')\n",
    "plt.plot(x[a:num],resnet50_plot_10msps[a:num], '-D', c='red', markersize=6, linewidth=2,markerfacecolor='red',markeredgecolor='red',markeredgewidth=2, label='10')\n",
    "plt.plot(x[a:num],resnet50_plot_25msps[a:num], '-^', c='darkred', markersize=6, linewidth=2,markerfacecolor='darkred',markeredgecolor='darkred',markeredgewidth=2, label='25')\n",
    "plt.legend(loc='lower right', fontsize=13)\n",
    "# Put a legend to the right of the current axis\n",
    "# ax.legend(loc='center left', bbox_to_anchor=(1, 0.5))\n",
    "\n",
    "plt.title('Validation: 1 and 25 MSPS', fontsize=23)\n",
    "plt.xlabel('Batches')\n",
    "plt.ylabel('% accuracy')\n",
    "plt.grid()\n",
    "# plt.minorticks_on()\n",
    "# plt.yticks(np.arange(.5,1, .1))\n",
    "# plt.yticks([.1, .2, .3, .4, .5, .6, .7, .8, .9, 1.0])\n",
    "plt.yticks([.3, .4, .5, .6, .7, .8, .9, 1.0])\n",
    "# plt.xticks([1, 2, 3, 4, 5, 6, 7, 8, 10])\n",
    "# plt.xticks([100, 10000,20000, 30000])\n",
    "plt.xticks([100, 5000,10000])\n",
    "# plt.tight_layout()\n",
    "axes=plt.gca()\n",
    "# ax.set_aspect('equal')\n",
    "# axes.set_aspect(10)\n",
    "plt.subplots_adjust(left=0.17)\n",
    "plt.subplots_adjust(bottom=0.20)\n",
    "# fig2.set_size_inches(8.27, 11.69)\n",
    "fig2.set_size_inches(6.0, 4.0)\n",
    "fig2.savefig('resnet18_1class_20220227_mix_msps.pdf', format=\"pdf\")"
   ]
  },
  {
   "cell_type": "markdown",
   "metadata": {},
   "source": [
    "#### original plot used in paper"
   ]
  },
  {
   "cell_type": "code",
   "execution_count": null,
   "metadata": {},
   "outputs": [],
   "source": [
    "# num = len(resnet50_4D) # reduced rank by 1 for matrix math to work out\n",
    "num = 9\n",
    "x = np.arange(0,num,1) # Start at index position 1\n",
    "plt.rcParams.update({'font.size': 13})\n",
    "# plt.figure(figsize=(9, 6))\n",
    "\n",
    "fig2 = plt.figure()\n",
    "# ax = plt.subplot(111)\n",
    "# Shrink current axis by 20%\n",
    "# box = ax.get_position()\n",
    "# ax.set_position([box.x0, box.y0, box.width * 0.8, box.height])\n",
    "\n",
    "plt.plot(x[1:num],resnet50_plot_1msps[1:num], '-*', c='darkblue',markersize=6, linewidth=2,markerfacecolor='darkblue',markeredgecolor='darkblue',markeredgewidth=2, label='1')\n",
    "plt.plot(x[1:num],resnet50_plot_5msps[1:num], '-X', c='blue', markersize=6, linewidth=2,markerfacecolor='blue',markeredgecolor='blue',markeredgewidth=2, label='5')\n",
    "plt.plot(x[1:num],resnet50_plot_10msps[1:num], '-D', c='red', markersize=6, linewidth=2,markerfacecolor='red',markeredgecolor='red',markeredgewidth=2, label='10')\n",
    "plt.plot(x[1:num],resnet50_plot_25msps[1:num], '-^', c='darkred', markersize=6, linewidth=2,markerfacecolor='darkred',markeredgecolor='darkred',markeredgewidth=2, label='25')\n",
    "plt.legend(loc='lower right', fontsize=13)\n",
    "# Put a legend to the right of the current axis\n",
    "# ax.legend(loc='center left', bbox_to_anchor=(1, 0.5))\n",
    "\n",
    "plt.title('Validation: 1 & 25MSPS', fontsize=13)\n",
    "plt.xlabel('Epoch')\n",
    "plt.ylabel('% accuracy')\n",
    "plt.grid()\n",
    "# plt.minorticks_on()\n",
    "# plt.yticks(np.arange(.5,1, .1))\n",
    "plt.yticks([.2, .4, .6, .8, 1.0])\n",
    "plt.xticks([0, 1, 2, 3, 4, 5, 6, 7, 8])\n",
    "# plt.tight_layout()\n",
    "axes=plt.gca()\n",
    "axes.set_aspect(7)\n",
    "plt.subplots_adjust(left=0.15)\n",
    "plt.subplots_adjust(bottom=0.20)\n",
    "fig2.set_size_inches(6.0, 4.0)\n",
    "fig2.savefig('resnet50_mix_1class_20220125_old.pdf', format=\"pdf\")\n",
    "# plt.show()"
   ]
  },
  {
   "cell_type": "markdown",
   "metadata": {},
   "source": [
    "#### Training 2 classes per patch"
   ]
  },
  {
   "cell_type": "code",
   "execution_count": null,
   "metadata": {},
   "outputs": [],
   "source": [
    "batches = 64\n",
    "classes = 2\n",
    "batches = batches*classes"
   ]
  },
  {
   "cell_type": "code",
   "execution_count": null,
   "metadata": {},
   "outputs": [],
   "source": [
    "criterion = nn.BCEWithLogitsLoss()\n",
    "lr= 1e-4 # .0004\n",
    "optimizer = optim.Adam(model.parameters(), lr=lr)\n",
    "model.train()"
   ]
  },
  {
   "cell_type": "markdown",
   "metadata": {},
   "source": [
    "#### seperated dataloaders"
   ]
  },
  {
   "cell_type": "code",
   "execution_count": null,
   "metadata": {},
   "outputs": [],
   "source": [
    "# train_dataloader1 = RFDataset(path_1msps, limit=None)\n",
    "# train_dataloader25 = RFDataset(path_25msps, limit=None)"
   ]
  },
  {
   "cell_type": "code",
   "execution_count": null,
   "metadata": {},
   "outputs": [],
   "source": [
    "# training_data1 = data.DataLoader(train_dataloader1, batch_size=batches, shuffle=True)\n",
    "# training_data25 = data.DataLoader(train_dataloader25, batch_size=batches, shuffle=True)"
   ]
  },
  {
   "cell_type": "markdown",
   "metadata": {},
   "source": [
    "#### combined dataloaders (External drive)"
   ]
  },
  {
   "cell_type": "code",
   "execution_count": null,
   "metadata": {},
   "outputs": [],
   "source": [
    "train_dataloader = RFDataset(path, limit=None)"
   ]
  },
  {
   "cell_type": "code",
   "execution_count": null,
   "metadata": {},
   "outputs": [],
   "source": [
    "training_data = data.DataLoader(train_dataloader, batch_size=batches, shuffle=True)"
   ]
  },
  {
   "cell_type": "code",
   "execution_count": null,
   "metadata": {},
   "outputs": [],
   "source": [
    "# val_patches = None\n",
    "# rf_dataset_val = RFDataset(path_validation, limit=val_patches)\n",
    "# validation_data = data.DataLoader(rf_dataset_val, batch_size=batches, shuffle=True)\n",
    "# validation_data = [validation_data]"
   ]
  },
  {
   "cell_type": "code",
   "execution_count": null,
   "metadata": {},
   "outputs": [],
   "source": [
    "val_patches = None\n",
    "rf_dataset_val1 = RFDataset(path_val_1msps, limit=val_patches)\n",
    "rf_dataset_val5 = RFDataset(path_val_5msps, limit=val_patches)\n",
    "rf_dataset_val10 = RFDataset(path_val_10msps, limit=val_patches)\n",
    "rf_dataset_val25 = RFDataset(path_val_25msps, limit=val_patches)\n",
    "validation_data1 = data.DataLoader(rf_dataset_val1, batch_size=batches, shuffle=True)\n",
    "validation_data1 = [validation_data1]\n",
    "validation_data5 = data.DataLoader(rf_dataset_val5, batch_size=batches, shuffle=True)\n",
    "validation_data5 = [validation_data5]\n",
    "validation_data10 = data.DataLoader(rf_dataset_val10, batch_size=batches, shuffle=True)\n",
    "validation_data10 = [validation_data10]\n",
    "validation_data25 = data.DataLoader(rf_dataset_val25, batch_size=batches, shuffle=True)\n",
    "validation_data25 = [validation_data25]"
   ]
  },
  {
   "cell_type": "code",
   "execution_count": null,
   "metadata": {
    "scrolled": true
   },
   "outputs": [],
   "source": [
    "total = 20\n",
    "loss_plot2, total_plot2, plot_1msps2, plot_5msps2, plot_10msps2, plot_25msps2 = train_net_combined_data(total)"
   ]
  },
  {
   "cell_type": "code",
   "execution_count": null,
   "metadata": {},
   "outputs": [],
   "source": [
    "resnet50_plot_1msps2"
   ]
  },
  {
   "cell_type": "markdown",
   "metadata": {},
   "source": [
    "### PLOTTING 2 classes/patch"
   ]
  },
  {
   "cell_type": "code",
   "execution_count": null,
   "metadata": {},
   "outputs": [],
   "source": [
    "path_plot_fig = \"/home/david/sigMF_ML/RF/RF_class/plot_data/\" # ACE\n",
    "os.chdir(path_plot_fig)\n",
    "# np.save('resnet50_4ch_total_plot2_20220211', np.asarray(total_plot2))\n",
    "np.save('resnet50_4ch_plot_1msps2_20220211', np.asarray(plot_1msps2))\n",
    "np.save('resnet50_4ch_plot_5msps2_20220211', np.asarray(plot_5msps2))\n",
    "np.save('resnet50_4ch_plot_10msps2_20220211', np.asarray(plot_10msps2))\n",
    "np.save('resnet50_4ch_plot_25msps2_20220211', np.asarray(plot_25msps2))"
   ]
  },
  {
   "cell_type": "code",
   "execution_count": null,
   "metadata": {},
   "outputs": [],
   "source": [
    "path_plot_fig = \"/home/david/sigMF_ML/RF/RF_class/plot_data/\" # ACE\n",
    "os.chdir(path_plot_fig)\n",
    "# resnet50_total_plot2 = np.load('resnet50_4ch_total_plot2_20220211.npy')\n",
    "resnet50_plot_1msps2 = np.load('resnet50_4ch_plot_1msps2_20220211.npy')\n",
    "resnet50_plot_5msps2 = np.load('resnet50_4ch_plot_5msps2_20220211.npy')\n",
    "resnet50_plot_10msps2 = np.load('resnet50_4ch_plot_10msps2_20220211.npy')\n",
    "resnet50_plot_25msps2 = np.load('resnet50_4ch_plot_25msps2_20220211.npy')"
   ]
  },
  {
   "cell_type": "code",
   "execution_count": null,
   "metadata": {
    "scrolled": true
   },
   "outputs": [],
   "source": [
    "formatter = FuncFormatter(kilo_samples)\n",
    "lim1 = 1500\n",
    "a = np.arange(0,lim1,100) # Start at index position 1\n",
    "lim2 = 100000\n",
    "b = np.arange(1500,lim2,1000) # Start at index position 1\n",
    "x = np.concatenate((a, b), axis=0)\n",
    "a = 0\n",
    "num = 69\n",
    "# x = np.arange(0,num,1) # Start at index position 1\n",
    "plt.rcParams.update({'font.size': 23})\n",
    "fig2, ax = plt.subplots()\n",
    "ax.xaxis.set_major_formatter(formatter)\n",
    "\n",
    "plt.plot(x[a:num],resnet50_plot_1msps2[a:num], '-*', c='darkblue',markersize=6, linewidth=2,markerfacecolor='darkblue',markeredgecolor='darkblue',markeredgewidth=2, label='1')\n",
    "plt.plot(x[a:num],resnet50_plot_5msps2[a:num], '-X', c='blue', markersize=6, linewidth=2,markerfacecolor='blue',markeredgecolor='blue',markeredgewidth=2, label='5')\n",
    "plt.plot(x[a:num],resnet50_plot_10msps2[a:num], '-D', c='red', markersize=6, linewidth=2,markerfacecolor='red',markeredgecolor='red',markeredgewidth=2, label='10')\n",
    "plt.plot(x[a:num],resnet50_plot_25msps2[a:num], '-^', c='darkred', markersize=6, linewidth=2,markerfacecolor='darkred',markeredgecolor='darkred',markeredgewidth=2, label='25')\n",
    "plt.legend(loc='lower right', fontsize=13)\n",
    "# Put a legend to the right of the current axis\n",
    "# ax.legend(loc='center left', bbox_to_anchor=(1, 0.5))\n",
    "\n",
    "plt.title('Validation: 2 classes/patch', fontsize=23)\n",
    "plt.xlabel('Batches')\n",
    "plt.ylabel('% accuracy')\n",
    "plt.grid()\n",
    "# plt.minorticks_on()\n",
    "# plt.yticks(np.arange(.5,1, .1))\n",
    "# plt.yticks([.1, .2, .3, .4, .5, .6, .7, .8, .9, 1.0])\n",
    "plt.yticks([.3, .4, .5, .6, .7, .8, .9, 1.0])\n",
    "# plt.xticks([1, 2, 3, 4, 5, 6, 7, 8, 10])\n",
    "plt.xticks([100, 20000, 55000])\n",
    "# plt.tight_layout()\n",
    "axes=plt.gca()\n",
    "# ax.set_aspect('equal')\n",
    "# axes.set_aspect(10)\n",
    "plt.subplots_adjust(left=0.17)\n",
    "plt.subplots_adjust(bottom=0.20)\n",
    "# fig2.set_size_inches(8.27, 11.69)\n",
    "fig2.set_size_inches(6.0, 4.0)\n",
    "fig2.savefig('resnet50_2classes_20220210.pdf', format=\"pdf\")"
   ]
  },
  {
   "cell_type": "markdown",
   "metadata": {},
   "source": [
    "#### original 2 class/patch plot"
   ]
  },
  {
   "cell_type": "code",
   "execution_count": null,
   "metadata": {},
   "outputs": [],
   "source": [
    "# num = len(resnet50_4D) # reduced rank by 1 for matrix math to work out\n",
    "num = 20\n",
    "plt.rcParams.update({'font.size': 12})\n",
    "x = np.arange(0,num,1) # Start at index position 1\n",
    "# plt.figure(figsize=(9, 6))\n",
    "\n",
    "fig2 = plt.figure()\n",
    "ax = plt.subplot(111)\n",
    "# Shrink current axis by 20%\n",
    "box = ax.get_position()\n",
    "ax.set_position([box.x0, box.y0, box.width * 0.8, box.height])\n",
    "\n",
    "# plt.plot(x[0:num],resnet50_total_plot2[:num], '-o', c='#1f77b4',markersize=6, linewidth=2,markerfacecolor='#1f77b4',markeredgecolor='#1f77b4',markeredgewidth=2,label='total')\n",
    "plt.plot(x[1:num],resnet50_plot_1msps2[1:num], '-*', c='#ff7f0e',markersize=6, linewidth=2,markerfacecolor='#ff7f0e',markeredgecolor='#ff7f0e',markeredgewidth=2, label='1')\n",
    "plt.plot(x[1:num],resnet50_plot_5msps2[1:num], '-X', c='#2ca02c', markersize=6, linewidth=2,markerfacecolor='#2ca02c',markeredgecolor='#2ca02c',markeredgewidth=2, label='5')\n",
    "plt.plot(x[1:num],resnet50_plot_10msps2[1:num], '-D', c='#d62728', markersize=6, linewidth=2,markerfacecolor='#d62728',markeredgecolor='#d62728',markeredgewidth=2, label='10')\n",
    "plt.plot(x[1:num],resnet50_plot_25msps2[1:num], '-^', c='#9467bd', markersize=6, linewidth=2,markerfacecolor='#9467bd',markeredgecolor='#9467bd',markeredgewidth=2, label='25')\n",
    "ax.legend(loc='center left', bbox_to_anchor=(1, 0.5))\n",
    "# plt.legend(loc='center right')\n",
    "plt.title('Validation accuracy 2 classes/patch')\n",
    "plt.xlabel('Epoch')\n",
    "plt.ylabel('% accuracy')\n",
    "plt.grid()\n",
    "# plt.minorticks_on()\n",
    "# plt.yticks(np.arange(.1,1, .1))\n",
    "plt.yticks([.3, .4,.5, .6, .7, .8, .9, 1.0])\n",
    "plt.xticks([0, 1, 3, 5, 7, 9, 11,13,15,17,19])\n",
    "fig2.savefig('resnet50_4ch_20211223_2classes.pdf', format=\"pdf\")\n",
    "plt.show()"
   ]
  },
  {
   "cell_type": "markdown",
   "metadata": {},
   "source": [
    "#### Training for 3 classes per patch"
   ]
  },
  {
   "cell_type": "code",
   "execution_count": null,
   "metadata": {},
   "outputs": [],
   "source": [
    "batches = 64\n",
    "classes = 3\n",
    "batches = batches*classes"
   ]
  },
  {
   "cell_type": "code",
   "execution_count": null,
   "metadata": {},
   "outputs": [],
   "source": [
    "criterion = nn.BCEWithLogitsLoss()\n",
    "lr= 1e-4 # .0004\n",
    "optimizer = optim.Adam(model.parameters(), lr=lr)\n",
    "model.train()"
   ]
  },
  {
   "cell_type": "markdown",
   "metadata": {},
   "source": [
    "#### seperated dataloaders"
   ]
  },
  {
   "cell_type": "code",
   "execution_count": null,
   "metadata": {},
   "outputs": [],
   "source": [
    "# train_dataloader1 = RFDataset(path_1msps, limit=None)\n",
    "# train_dataloader25 = RFDataset(path_25msps, limit=None)"
   ]
  },
  {
   "cell_type": "code",
   "execution_count": null,
   "metadata": {},
   "outputs": [],
   "source": [
    "# training_data1 = data.DataLoader(train_dataloader1, batch_size=batches, shuffle=True)\n",
    "# training_data25 = data.DataLoader(train_dataloader25, batch_size=batches, shuffle=True)"
   ]
  },
  {
   "cell_type": "markdown",
   "metadata": {},
   "source": [
    "#### combined dataloaders (External drive)"
   ]
  },
  {
   "cell_type": "code",
   "execution_count": null,
   "metadata": {},
   "outputs": [],
   "source": [
    "train_dataloader = RFDataset(path, limit=None)"
   ]
  },
  {
   "cell_type": "code",
   "execution_count": null,
   "metadata": {},
   "outputs": [],
   "source": [
    "training_data = data.DataLoader(train_dataloader, batch_size=batches, shuffle=True)"
   ]
  },
  {
   "cell_type": "code",
   "execution_count": null,
   "metadata": {},
   "outputs": [],
   "source": [
    "# val_patches = None\n",
    "# rf_dataset_val = RFDataset(path_validation, limit=val_patches)\n",
    "# validation_data = data.DataLoader(rf_dataset_val, batch_size=batches, shuffle=True)\n",
    "# validation_data = [validation_data]"
   ]
  },
  {
   "cell_type": "code",
   "execution_count": null,
   "metadata": {},
   "outputs": [],
   "source": [
    "val_patches = None\n",
    "rf_dataset_val1 = RFDataset(path_val_1msps, limit=val_patches)\n",
    "rf_dataset_val5 = RFDataset(path_val_5msps, limit=val_patches)\n",
    "rf_dataset_val10 = RFDataset(path_val_10msps, limit=val_patches)\n",
    "rf_dataset_val25 = RFDataset(path_val_25msps, limit=val_patches)\n",
    "validation_data1 = data.DataLoader(rf_dataset_val1, batch_size=batches, shuffle=True)\n",
    "validation_data1 = [validation_data1]\n",
    "validation_data5 = data.DataLoader(rf_dataset_val5, batch_size=batches, shuffle=True)\n",
    "validation_data5 = [validation_data5]\n",
    "validation_data10 = data.DataLoader(rf_dataset_val10, batch_size=batches, shuffle=True)\n",
    "validation_data10 = [validation_data10]\n",
    "validation_data25 = data.DataLoader(rf_dataset_val25, batch_size=batches, shuffle=True)\n",
    "validation_data25 = [validation_data25]"
   ]
  },
  {
   "cell_type": "code",
   "execution_count": null,
   "metadata": {
    "scrolled": true
   },
   "outputs": [],
   "source": [
    "total = 40\n",
    "loss_plot3, total_plot3, plot_1msps3, plot_5msps3, plot_10msps3, plot_25msps3 = train_net_combined_data(total)"
   ]
  },
  {
   "cell_type": "markdown",
   "metadata": {},
   "source": [
    "### PLOTTING 3 classes/patch"
   ]
  },
  {
   "cell_type": "code",
   "execution_count": null,
   "metadata": {},
   "outputs": [],
   "source": [
    "path_plot_fig = \"/home/david/sigMF_ML/RF/RF_class/plot_data/\" # ACE\n",
    "os.chdir(path_plot_fig)\n",
    "np.save('resnet50_sub_epoch_total_plot3_2022211', np.asarray(total_plot3))\n",
    "np.save('resnet50_sub_epoch_plot_1msps3_2022211', np.asarray(plot_1msps3))\n",
    "np.save('resnet50_sub_epoch_plot_5msps3_2022211', np.asarray(plot_5msps3))\n",
    "np.save('resnet50_sub_epoch_plot_10msps3_2022211', np.asarray(plot_10msps3))\n",
    "np.save('resnet50_sub_epoch_plot_25msps3_2022211', np.asarray(plot_25msps3))"
   ]
  },
  {
   "cell_type": "code",
   "execution_count": null,
   "metadata": {},
   "outputs": [],
   "source": [
    "os.chdir(path_plot_fig)\n",
    "resnet50_total_plot3 = np.load('resnet50_sub_epoch_total_plot3_2022211.npy')\n",
    "resnet50_plot_1msps3 = np.load('resnet50_sub_epoch_plot_1msps3_2022211.npy')\n",
    "resnet50_plot_5msps3 = np.load('resnet50_sub_epoch_plot_5msps3_2022211.npy')\n",
    "resnet50_plot_10msps3 = np.load('resnet50_sub_epoch_plot_10msps3_2022211.npy')\n",
    "resnet50_plot_25msps3 = np.load('resnet50_sub_epoch_plot_25msps3_2022211.npy')"
   ]
  },
  {
   "cell_type": "code",
   "execution_count": null,
   "metadata": {},
   "outputs": [],
   "source": [
    "88-36"
   ]
  },
  {
   "cell_type": "code",
   "execution_count": null,
   "metadata": {},
   "outputs": [],
   "source": [
    "formatter = FuncFormatter(kilo_samples)\n",
    "lim1 = 1500\n",
    "a = np.arange(0,lim1,100) # Start at index position 1\n",
    "lim2 = 100000\n",
    "b = np.arange(1500,lim2,1000) # Start at index position 1\n",
    "x = np.concatenate((a, b), axis=0)\n",
    "a = 55\n",
    "num = 75 #88\n",
    "# x = np.arange(0,num,1) # Start at index position 1\n",
    "plt.rcParams.update({'font.size': 23})\n",
    "fig2, ax = plt.subplots()\n",
    "ax.xaxis.set_major_formatter(formatter)\n",
    "\n",
    "plt.plot(x[a:num],resnet50_plot_1msps3[a:num], '-*', c='darkblue',markersize=6, linewidth=2,markerfacecolor='darkblue',markeredgecolor='darkblue',markeredgewidth=2, label='1')\n",
    "plt.plot(x[a:num],resnet50_plot_5msps3[a:num], '-X', c='blue', markersize=6, linewidth=2,markerfacecolor='blue',markeredgecolor='blue',markeredgewidth=2, label='5')\n",
    "plt.plot(x[a:num],resnet50_plot_10msps3[a:num], '-D', c='red', markersize=6, linewidth=2,markerfacecolor='red',markeredgecolor='red',markeredgewidth=2, label='10')\n",
    "plt.plot(x[a:num],resnet50_plot_25msps3[a:num], '-^', c='darkred', markersize=6, linewidth=2,markerfacecolor='darkred',markeredgecolor='darkred',markeredgewidth=2, label='25')\n",
    "# plt.legend(loc='lower right', fontsize=13)\n",
    "# Put a legend to the right of the current axis\n",
    "# ax.legend(loc='center left', bbox_to_anchor=(1, 0.5))\n",
    "\n",
    "plt.title('Validation: 3 classes/patch', fontsize=23)\n",
    "plt.xlabel('Batches')\n",
    "plt.ylabel('% accuracy')\n",
    "plt.grid()\n",
    "# plt.minorticks_on()\n",
    "# plt.yticks(np.arange(.5,1, .1))\n",
    "# plt.yticks([.1, .2, .3, .4, .5, .6, .7, .8, .9, 1.0])\n",
    "plt.yticks([.3, .4, .5, .6, .7, .8, .9, 1.0])\n",
    "# plt.xticks([1, 2, 3, 4, 5, 6, 7, 8, 10])\n",
    "# plt.xticks([100, 2000,4000, 8500])\n",
    "# plt.tight_layout()\n",
    "axes=plt.gca()\n",
    "# ax.set_aspect('equal')\n",
    "# axes.set_aspect(10)\n",
    "plt.subplots_adjust(left=0.15)\n",
    "plt.subplots_adjust(bottom=0.20)\n",
    "# fig2.set_size_inches(8.27, 11.69)\n",
    "fig2.set_size_inches(6.0, 4.0)\n",
    "fig2.savefig('resnet50_3classes_20220211.pdf', format=\"pdf\")"
   ]
  },
  {
   "cell_type": "markdown",
   "metadata": {},
   "source": [
    "#### original 3 classes / patch"
   ]
  },
  {
   "cell_type": "code",
   "execution_count": null,
   "metadata": {},
   "outputs": [],
   "source": [
    "# num = len(resnet50_4D) # reduced rank by 1 for matrix math to work out\n",
    "num = 30\n",
    "plt.rcParams.update({'font.size': 12})\n",
    "x = np.arange(0,num,1) # Start at index position 1\n",
    "# plt.figure(figsize=(9, 6))\n",
    "\n",
    "fig2 = plt.figure()\n",
    "ax = plt.subplot(111)\n",
    "# Shrink current axis by 20%\n",
    "box = ax.get_position()\n",
    "ax.set_position([box.x0, box.y0, box.width * 0.8, box.height])\n",
    "\n",
    "# plt.plot(x[0:num],resnet50_total_plot3[:num], '-o', c='#1f77b4',markersize=6, linewidth=2,markerfacecolor='#1f77b4',markeredgecolor='#1f77b4',markeredgewidth=2,label='total')\n",
    "plt.plot(x[1:num],resnet50_plot_1msps3[1:num], '-*', c='#ff7f0e',markersize=6, linewidth=2,markerfacecolor='#ff7f0e',markeredgecolor='#ff7f0e',markeredgewidth=2, label='1')\n",
    "plt.plot(x[1:num],resnet50_plot_5msps3[1:num], '-X', c='#2ca02c', markersize=6, linewidth=2,markerfacecolor='#2ca02c',markeredgecolor='#2ca02c',markeredgewidth=2, label='5')\n",
    "plt.plot(x[1:num],resnet50_plot_10msps3[1:num], '-D', c='#d62728', markersize=6, linewidth=2,markerfacecolor='#d62728',markeredgecolor='#d62728',markeredgewidth=2, label='10')\n",
    "plt.plot(x[1:num],resnet50_plot_25msps3[1:num], '-^', c='#9467bd', markersize=6, linewidth=2,markerfacecolor='#9467bd',markeredgecolor='#9467bd',markeredgewidth=2, label='25')\n",
    "ax.legend(loc='center left', bbox_to_anchor=(1, 0.5))\n",
    "# plt.legend(loc='center right')\n",
    "plt.title('Validation accuracy 3 classes/patch')\n",
    "plt.xlabel('Epoch')\n",
    "plt.ylabel('% accuracy')\n",
    "plt.grid()\n",
    "# plt.minorticks_on()\n",
    "# plt.yticks(np.arange(.1,1, .1))\n",
    "plt.yticks([.3, .4, .5, .6, .7, .8, .9, 1.0])\n",
    "plt.xticks([0, 1, 3, 5, 7, 9, 11,13,15,17,19,21,23,25,27,29])\n",
    "fig2.savefig('resnet50_4ch_20211224_3classes.pdf', format=\"pdf\")\n",
    "plt.show()"
   ]
  },
  {
   "cell_type": "markdown",
   "metadata": {},
   "source": [
    "## Testing test file combinations"
   ]
  },
  {
   "cell_type": "code",
   "execution_count": null,
   "metadata": {},
   "outputs": [],
   "source": [
    "path_test_10msps = \"/media/david/Elements/sigMF_ML/RF/10msps_sample_test/\" # multiclass testing"
   ]
  },
  {
   "cell_type": "code",
   "execution_count": null,
   "metadata": {},
   "outputs": [],
   "source": [
    "path_test_1msps = \"/media/david/Elements/sigMF_ML/RF/RF_class/testing_data_1msps/\""
   ]
  },
  {
   "cell_type": "code",
   "execution_count": null,
   "metadata": {},
   "outputs": [],
   "source": [
    "path_test_1msps_compact = \"/media/david/Elements/sigMF_ML/RF/RF_class/testing_data_1msps_compact/\"\n",
    "path_test_5msps_compact = \"/media/david/Elements/sigMF_ML/RF/RF_class/testing_data_5msps_compact/\"\n",
    "path_test_10msps_compact = \"/media/david/Elements/sigMF_ML/RF/RF_class/testing_data_10msps_compact/\"\n",
    "path_test_25msps_compact = \"/media/david/Elements/sigMF_ML/RF/RF_class/testing_data_25msps_compact/\""
   ]
  },
  {
   "cell_type": "markdown",
   "metadata": {},
   "source": [
    "## Combination testing script 20211108"
   ]
  },
  {
   "cell_type": "code",
   "execution_count": null,
   "metadata": {},
   "outputs": [],
   "source": [
    "def multiclass_test(folder_meta):\n",
    "    one_hot_label = np.zeros([12]).astype(int) # creating one hot vector\n",
    "    i = 0\n",
    "    for label_list in folder_meta:\n",
    "        for label_path in label_list:\n",
    "            with open(str(label_path)) as meta_data:\n",
    "                metadata = json.load(meta_data)\n",
    "                label = int(metadata[\"global\"][\"core:class\"])\n",
    "#                 print('label = ', label)\n",
    "            one_hot_label[label] = 1\n",
    "#     print(one_hot_label)\n",
    "    return one_hot_label"
   ]
  },
  {
   "cell_type": "markdown",
   "metadata": {},
   "source": [
    "### Choose 3"
   ]
  },
  {
   "cell_type": "code",
   "execution_count": null,
   "metadata": {},
   "outputs": [],
   "source": [
    "N = 10\n",
    "k = 3\n",
    "scipy.special.comb(N, k).astype(int)"
   ]
  },
  {
   "cell_type": "code",
   "execution_count": null,
   "metadata": {
    "scrolled": true
   },
   "outputs": [],
   "source": [
    "msps = 1\n",
    "N_choose_K = 3\n",
    "data_IQ_folder_list_test = sorted(pathlib.Path(path_test_1msps_compact).glob('*/'))\n",
    "folder_combo = it.combinations(data_IQ_folder_list_test, N_choose_K) # combinations of all folders\n",
    "combo_tot = scipy.special.comb(10, N_choose_K).astype(int)\n",
    "i = 0\n",
    "j= 0\n",
    "folder_iq = [[],[],[]]\n",
    "folder_meta = [[],[],[]]\n",
    "total_ground_truth_count = 0\n",
    "for x in folder_combo: # start of 1 combination of folders\n",
    "    print('***************************** Start of combined file test *************************************')\n",
    "#     print('folders = ', x)\n",
    "    i = 0\n",
    "    for y in x: # Cycle through all combinations of data files per particular folder combination\n",
    "        print('individual folder = ', y)\n",
    "        folder_iq[i] = sorted(pathlib.Path(y).rglob('*.sigmf-data'))\n",
    "#         folder_meta[i] = sorted(pathlib.Path(y).rglob('*.sigmf-meta'))\n",
    "        folder_meta[i] = list(pathlib.Path(y).rglob('*.sigmf-meta'))\n",
    "        i = i+1\n",
    "    labels = multiclass_test(folder_meta)\n",
    "    combo = [y for y in it.product(*folder_iq)]\n",
    "#     print('combo length = ', len(combo))\n",
    "    for trial in combo:\n",
    "        print('Test iteration = ', j)\n",
    "        j = j+1\n",
    "        center_freq_file = 433.65e6 # when SDR doing 25MSPS with center at 428MHz, or 433.65e6, 428.00e6\n",
    "#         data_IQ_list_val, meta_list_val = inference_read_file(msps, path_test_1msps)\n",
    "        results_count = testing_live(center_freq_file, trial, labels, load_net)\n",
    "        total_ground_truth_count = total_ground_truth_count+results_count\n",
    "        # testing_file(msps)\n",
    "        torch.cuda.empty_cache() \n",
    "print('*************************************************************************')\n",
    "print('Total test set percent count = {:.2f}%'.format((total_ground_truth_count/combo_tot)*100))\n",
    "print('*************************************************************************')      "
   ]
  },
  {
   "cell_type": "code",
   "execution_count": null,
   "metadata": {
    "scrolled": true
   },
   "outputs": [],
   "source": [
    "msps = 5\n",
    "N_choose_K = 3\n",
    "data_IQ_folder_list_test = sorted(pathlib.Path(path_test_5msps_compact).glob('*/'))\n",
    "folder_combo = it.combinations(data_IQ_folder_list_test, N_choose_K) # combinations of all folders\n",
    "combo_tot = scipy.special.comb(10, N_choose_K).astype(int)\n",
    "i = 0\n",
    "j= 0\n",
    "folder_iq = [[],[],[]]\n",
    "folder_meta = [[],[],[]]\n",
    "total_ground_truth_count = 0\n",
    "for x in folder_combo: # start of 1 combination of folders\n",
    "    print('***************************** Start of combined file test *************************************')\n",
    "#     print('folders = ', x)\n",
    "    i = 0\n",
    "    for y in x: # Cycle through all combinations of data files per particular folder combination\n",
    "        print('individual folder = ', y)\n",
    "        folder_iq[i] = sorted(pathlib.Path(y).rglob('*.sigmf-data'))\n",
    "#         folder_meta[i] = sorted(pathlib.Path(y).rglob('*.sigmf-meta'))\n",
    "        folder_meta[i] = list(pathlib.Path(y).rglob('*.sigmf-meta'))\n",
    "        i = i+1\n",
    "    labels = multiclass_test(folder_meta)\n",
    "    combo = [y for y in it.product(*folder_iq)]\n",
    "#     print('combo length = ', len(combo))\n",
    "    for trial in combo:\n",
    "        print('Test iteration = ', j)\n",
    "        j = j+1\n",
    "        center_freq_file = 433.0e6 # when SDR doing 25MSPS with center at 428MHz, or 433.65e6, 428.00e6\n",
    "#         data_IQ_list_val, meta_list_val = inference_read_file(msps, path_test_1msps)\n",
    "        results_count = testing_live(center_freq_file, trial, labels, load_net)\n",
    "        total_ground_truth_count = total_ground_truth_count+results_count\n",
    "        # testing_file(msps)\n",
    "        torch.cuda.empty_cache() \n",
    "print('*************************************************************************')\n",
    "print('Total test set percent count = {:.2f}%'.format((total_ground_truth_count/combo_tot)*100))\n",
    "print('*************************************************************************')   "
   ]
  },
  {
   "cell_type": "code",
   "execution_count": null,
   "metadata": {
    "scrolled": true
   },
   "outputs": [],
   "source": [
    "msps = 10\n",
    "N_choose_K = 3\n",
    "data_IQ_folder_list_test = sorted(pathlib.Path(path_test_10msps_compact).glob('*/'))\n",
    "folder_combo = it.combinations(data_IQ_folder_list_test, N_choose_K) # combinations of all folders\n",
    "combo_tot = scipy.special.comb(10, N_choose_K).astype(int)\n",
    "i = 0\n",
    "j= 0\n",
    "folder_iq = [[],[],[]]\n",
    "folder_meta = [[],[],[]]\n",
    "total_ground_truth_count = 0\n",
    "for x in folder_combo: # start of 1 combination of folders\n",
    "    print('***************************** Start of combined file test *************************************')\n",
    "#     print('folders = ', x)\n",
    "    i = 0\n",
    "    for y in x: # Cycle through all combinations of data files per particular folder combination\n",
    "        print('individual folder = ', y)\n",
    "        folder_iq[i] = sorted(pathlib.Path(y).rglob('*.sigmf-data'))\n",
    "#         folder_meta[i] = sorted(pathlib.Path(y).rglob('*.sigmf-meta'))\n",
    "        folder_meta[i] = list(pathlib.Path(y).rglob('*.sigmf-meta'))\n",
    "        i = i+1\n",
    "    labels = multiclass_test(folder_meta)\n",
    "    combo = [y for y in it.product(*folder_iq)]\n",
    "#     print('combo length = ', len(combo))\n",
    "    for trial in combo:\n",
    "        print('Test iteration = ', j)\n",
    "        j = j+1\n",
    "        center_freq_file = 433.65e6 # when SDR doing 25MSPS with center at 428MHz, or 433.65e6, 428.00e6\n",
    "#         data_IQ_list_val, meta_list_val = inference_read_file(msps, path_test_1msps)\n",
    "        results_count = testing_live(center_freq_file, trial, labels, load_net)\n",
    "        total_ground_truth_count = total_ground_truth_count+results_count\n",
    "        # testing_file(msps)\n",
    "        torch.cuda.empty_cache() \n",
    "print('*************************************************************************')\n",
    "print('Total test set percent count = {:.2f}%'.format((total_ground_truth_count/combo_tot)*100))\n",
    "print('*************************************************************************')   "
   ]
  },
  {
   "cell_type": "code",
   "execution_count": null,
   "metadata": {},
   "outputs": [],
   "source": [
    "msps = 25\n",
    "N_choose_K = 3\n",
    "data_IQ_folder_list_test = sorted(pathlib.Path(path_test_25msps_compact).glob('*/'))\n",
    "combo_tot = scipy.special.comb(10, N_choose_K).astype(int)\n",
    "folder_combo = it.combinations(data_IQ_folder_list_test, N_choose_K) # combinations of all folders\n",
    "i = 0\n",
    "j= 0\n",
    "folder_iq = [[],[],[]]\n",
    "folder_meta = [[],[],[]]\n",
    "total_ground_truth_count = 0\n",
    "for x in folder_combo: # start of 1 combination of folders\n",
    "    print('***************************** Start of combined file test *************************************')\n",
    "#     print('folders = ', x)\n",
    "    i = 0\n",
    "    for y in x: # Cycle through all combinations of data files per particular folder combination\n",
    "        print('individual folder = ', y)\n",
    "        folder_iq[i] = sorted(pathlib.Path(y).rglob('*.sigmf-data'))\n",
    "#         folder_meta[i] = sorted(pathlib.Path(y).rglob('*.sigmf-meta'))\n",
    "        folder_meta[i] = list(pathlib.Path(y).rglob('*.sigmf-meta'))\n",
    "        i = i+1\n",
    "    labels = multiclass_test(folder_meta)\n",
    "    combo = [y for y in it.product(*folder_iq)]\n",
    "#     print('combo length = ', len(combo))\n",
    "    for trial in combo:\n",
    "        print('Test iteration = ', j)\n",
    "        j = j+1\n",
    "        center_freq_file = 433.65e6 # when SDR doing 25MSPS with center at 428MHz, or 433.65e6, 428.00e6\n",
    "#         data_IQ_list_val, meta_list_val = inference_read_file(msps, path_test_1msps)\n",
    "        results_count = testing_live(center_freq_file, trial, labels, load_net)\n",
    "        total_ground_truth_count = total_ground_truth_count+results_count\n",
    "        # testing_file(msps)\n",
    "        torch.cuda.empty_cache() \n",
    "print('*************************************************************************')\n",
    "print('Total test set percent count = {:.2f}%'.format((total_ground_truth_count/combo_tot)*100))\n",
    "print('*************************************************************************')   "
   ]
  },
  {
   "cell_type": "markdown",
   "metadata": {},
   "source": [
    "### Choose 2"
   ]
  },
  {
   "cell_type": "code",
   "execution_count": null,
   "metadata": {
    "scrolled": true
   },
   "outputs": [],
   "source": [
    "msps = 1\n",
    "N_choose_K = 2\n",
    "data_IQ_folder_list_test = sorted(pathlib.Path(path_test_1msps_compact).glob('*/'))\n",
    "folder_combo = it.combinations(data_IQ_folder_list_test, N_choose_K) # combinations of all folders\n",
    "combo_tot = scipy.special.comb(10, N_choose_K).astype(int)\n",
    "i = 0\n",
    "j= 0\n",
    "if (N_choose_K==3):\n",
    "    folder_iq = [[],[],[]]\n",
    "    folder_meta = [[],[],[]]\n",
    "if (N_choose_K==2):\n",
    "    folder_iq = [[],[]]\n",
    "    folder_meta = [[],[]]    \n",
    "total_ground_truth_count = 0\n",
    "for x in folder_combo: # start of 1 combination of folders\n",
    "    print('***************************** Start of combined file test *************************************')\n",
    "#     print('folders = ', x)\n",
    "    i = 0\n",
    "    for y in x: # Cycle through all combinations of data files per particular folder combination\n",
    "        print('individual folder = ', y)\n",
    "        folder_iq[i] = sorted(pathlib.Path(y).rglob('*.sigmf-data'))\n",
    "#         print('iq = ', folder_iq[i])\n",
    "#         folder_meta[i] = sorted(pathlib.Path(y).rglob('*.sigmf-meta'))\n",
    "        folder_meta[i] = list(pathlib.Path(y).rglob('*.sigmf-meta'))\n",
    "#         print('meta = ', folder_meta[i])\n",
    "        i = i+1\n",
    "    labels = multiclass_test(folder_meta)\n",
    "    combo = [y for y in it.product(*folder_iq)]\n",
    "    for trial in combo:\n",
    "        print('Test iteration = ', j)\n",
    "        j = j+1\n",
    "        center_freq_file = 433.65e6 # when SDR doing 25MSPS with center at 428MHz, or 433.65e6, 428.00e6\n",
    "#         data_IQ_list_val, meta_list_val = inference_read_file(msps, path_test_1msps)\n",
    "        results_count = testing_live(center_freq_file, trial, labels, load_net)\n",
    "        total_ground_truth_count = total_ground_truth_count+results_count\n",
    "        # testing_file(msps)\n",
    "        torch.cuda.empty_cache() \n",
    "print('*************************************************************************')\n",
    "print('Total test set percent count = {:.2f}%'.format((total_ground_truth_count/combo_tot)*100))\n",
    "print('*************************************************************************')      "
   ]
  },
  {
   "cell_type": "code",
   "execution_count": null,
   "metadata": {
    "scrolled": true
   },
   "outputs": [],
   "source": [
    "msps = 5\n",
    "N_choose_K = 2\n",
    "data_IQ_folder_list_test = sorted(pathlib.Path(path_test_5msps_compact).glob('*/'))\n",
    "folder_combo = it.combinations(data_IQ_folder_list_test, N_choose_K) # combinations of all folders\n",
    "combo_tot = scipy.special.comb(10, N_choose_K).astype(int)\n",
    "i = 0\n",
    "j= 0\n",
    "if (N_choose_K==3):\n",
    "    folder_iq = [[],[],[]]\n",
    "    folder_meta = [[],[],[]]\n",
    "if (N_choose_K==2):\n",
    "    folder_iq = [[],[]]\n",
    "    folder_meta = [[],[]]  \n",
    "total_ground_truth_count = 0\n",
    "for x in folder_combo: # start of 1 combination of folders\n",
    "    print('***************************** Start of combined file test *************************************')\n",
    "#     print('folders = ', x)\n",
    "    i = 0\n",
    "    for y in x: # Cycle through all combinations of data files per particular folder combination\n",
    "        print('individual folder = ', y)\n",
    "        folder_iq[i] = sorted(pathlib.Path(y).rglob('*.sigmf-data'))\n",
    "#         folder_meta[i] = sorted(pathlib.Path(y).rglob('*.sigmf-meta'))\n",
    "        folder_meta[i] = list(pathlib.Path(y).rglob('*.sigmf-meta'))\n",
    "        i = i+1\n",
    "    labels = multiclass_test(folder_meta)\n",
    "    combo = [y for y in it.product(*folder_iq)]\n",
    "#     print('combo length = ', len(combo))\n",
    "    for trial in combo:\n",
    "        print('Test iteration = ', j)\n",
    "        j = j+1\n",
    "        center_freq_file = 433.0e6 # when SDR doing 25MSPS with center at 428MHz, or 433.65e6, 428.00e6\n",
    "#         data_IQ_list_val, meta_list_val = inference_read_file(msps, path_test_1msps)\n",
    "        results_count = testing_live(center_freq_file, trial, labels, load_net)\n",
    "        total_ground_truth_count = total_ground_truth_count+results_count\n",
    "        # testing_file(msps)\n",
    "        torch.cuda.empty_cache() \n",
    "print('*************************************************************************')\n",
    "print('Total test set percent count = {:.2f}%'.format((total_ground_truth_count/combo_tot)*100))\n",
    "print('*************************************************************************')   "
   ]
  },
  {
   "cell_type": "code",
   "execution_count": null,
   "metadata": {
    "scrolled": true
   },
   "outputs": [],
   "source": [
    "msps = 10\n",
    "N_choose_K = 2\n",
    "data_IQ_folder_list_test = sorted(pathlib.Path(path_test_10msps_compact).glob('*/'))\n",
    "folder_combo = it.combinations(data_IQ_folder_list_test, N_choose_K) # combinations of all folders\n",
    "combo_tot = scipy.special.comb(10, N_choose_K).astype(int)\n",
    "i = 0\n",
    "j= 0\n",
    "if (N_choose_K==3):\n",
    "    folder_iq = [[],[],[]]\n",
    "    folder_meta = [[],[],[]]\n",
    "if (N_choose_K==2):\n",
    "    folder_iq = [[],[]]\n",
    "    folder_meta = [[],[]]  \n",
    "total_ground_truth_count = 0\n",
    "for x in folder_combo: # start of 1 combination of folders\n",
    "    print('***************************** Start of combined file test *************************************')\n",
    "#     print('folders = ', x)\n",
    "    i = 0\n",
    "    for y in x: # Cycle through all combinations of data files per particular folder combination\n",
    "        print('individual folder = ', y)\n",
    "        folder_iq[i] = sorted(pathlib.Path(y).rglob('*.sigmf-data'))\n",
    "#         folder_meta[i] = sorted(pathlib.Path(y).rglob('*.sigmf-meta'))\n",
    "        folder_meta[i] = list(pathlib.Path(y).rglob('*.sigmf-meta'))\n",
    "        i = i+1\n",
    "    labels = multiclass_test(folder_meta)\n",
    "    combo = [y for y in it.product(*folder_iq)]\n",
    "#     print('combo length = ', len(combo))\n",
    "    for trial in combo:\n",
    "        print('Test iteration = ', j)\n",
    "        j = j+1\n",
    "        center_freq_file = 433.65e6 # when SDR doing 25MSPS with center at 428MHz, or 433.65e6, 428.00e6\n",
    "#         data_IQ_list_val, meta_list_val = inference_read_file(msps, path_test_1msps)\n",
    "        results_count = testing_live(center_freq_file, trial, labels, load_net)\n",
    "        total_ground_truth_count = total_ground_truth_count+results_count\n",
    "        # testing_file(msps)\n",
    "        torch.cuda.empty_cache() \n",
    "print('*************************************************************************')\n",
    "print('Total test set percent count = {:.2f}%'.format((total_ground_truth_count/combo_tot)*100))\n",
    "print('*************************************************************************')   "
   ]
  },
  {
   "cell_type": "code",
   "execution_count": null,
   "metadata": {},
   "outputs": [],
   "source": [
    "msps = 25\n",
    "N_choose_K = 2\n",
    "data_IQ_folder_list_test = sorted(pathlib.Path(path_test_25msps_compact).glob('*/'))\n",
    "folder_combo = it.combinations(data_IQ_folder_list_test, N_choose_K) # combinations of all folders\n",
    "combo_tot = scipy.special.comb(10, N_choose_K).astype(int)\n",
    "i = 0\n",
    "j= 0\n",
    "if (N_choose_K==3):\n",
    "    folder_iq = [[],[],[]]\n",
    "    folder_meta = [[],[],[]]\n",
    "if (N_choose_K==2):\n",
    "    folder_iq = [[],[]]\n",
    "    folder_meta = [[],[]]  \n",
    "total_ground_truth_count = 0\n",
    "for x in folder_combo: # start of 1 combination of folders\n",
    "    print('***************************** Start of combined file test *************************************')\n",
    "#     print('folders = ', x)\n",
    "    i = 0\n",
    "    for y in x: # Cycle through all combinations of data files per particular folder combination\n",
    "        print('individual folder = ', y)\n",
    "        folder_iq[i] = sorted(pathlib.Path(y).rglob('*.sigmf-data'))\n",
    "#         folder_meta[i] = sorted(pathlib.Path(y).rglob('*.sigmf-meta'))\n",
    "        folder_meta[i] = list(pathlib.Path(y).rglob('*.sigmf-meta'))\n",
    "        i = i+1\n",
    "    labels = multiclass_test(folder_meta)\n",
    "    combo = [y for y in it.product(*folder_iq)]\n",
    "#     print('combo length = ', len(combo))\n",
    "    for trial in combo:\n",
    "        print('Test iteration = ', j)\n",
    "        j = j+1\n",
    "        center_freq_file = 433.65e6 # when SDR doing 25MSPS with center at 428MHz, or 433.65e6, 428.00e6\n",
    "#         data_IQ_list_val, meta_list_val = inference_read_file(msps, path_test_1msps)\n",
    "        results_count = testing_live(center_freq_file, trial, labels, load_net)\n",
    "        total_ground_truth_count = total_ground_truth_count+results_count\n",
    "        # testing_file(msps)\n",
    "        torch.cuda.empty_cache() \n",
    "print('*************************************************************************')\n",
    "print('Total test set percent count = {:.2f}%'.format((total_ground_truth_count/combo_tot)*100))\n",
    "print('*************************************************************************')   "
   ]
  },
  {
   "cell_type": "code",
   "execution_count": null,
   "metadata": {},
   "outputs": [],
   "source": [
    "data = iq_read_test_live_combine(combo_list_10msps,msps) # 20211025\n",
    "print('iq data shape = ', data.shape) "
   ]
  },
  {
   "cell_type": "code",
   "execution_count": null,
   "metadata": {},
   "outputs": [],
   "source": [
    "# os.chdir(path_plot_fig)\n",
    "# temp = np.load('resnet50_acc_plot2.npy')"
   ]
  },
  {
   "cell_type": "code",
   "execution_count": null,
   "metadata": {},
   "outputs": [],
   "source": [
    "# ymin = 70\n",
    "# ymax = 100\n",
    "# axes = plt.gca()\n",
    "# # axes.set_xlim([xmin,xmax])\n",
    "# axes.set_ylim([ymin,ymax])\n"
   ]
  },
  {
   "cell_type": "code",
   "execution_count": null,
   "metadata": {},
   "outputs": [],
   "source": [
    "# os.chdir(path_fig)\n",
    "# plt.figure(figsize=(9, 6))\n",
    "# fig = plt.figure()\n",
    "# plt.plot(total_plot[:20],c='r', label='Total patches correct')\n",
    "# plt.legend(loc='lower right')\n",
    "# plt.title('Total % correct vs batches')\n",
    "# plt.xlabel('Batch number')\n",
    "# plt.ylabel('% correct')\n",
    "# plt.grid()\n",
    "# fig.savefig('RF_class_resnet50_4D.pdf', format=\"pdf\")\n",
    "# plt.show()"
   ]
  },
  {
   "cell_type": "code",
   "execution_count": null,
   "metadata": {
    "scrolled": true
   },
   "outputs": [],
   "source": [
    "# os.chdir(path_fig)\n",
    "# plt.figure(figsize=(9, 6))\n",
    "# fig = plt.figure()\n",
    "# plt.plot(loss_plot,c='r', label='Loss curve')\n",
    "# plt.legend(loc='upper right')\n",
    "# plt.title('Loss vs Epochs')\n",
    "# plt.xlabel('Epochs')\n",
    "# plt.ylabel('Loss')\n",
    "# plt.grid()\n",
    "# fig.savefig('RF_class_v56_loss_4D.pdf', format=\"pdf\")\n",
    "# plt.show()"
   ]
  },
  {
   "cell_type": "markdown",
   "metadata": {},
   "source": [
    "## Transform saved data"
   ]
  },
  {
   "cell_type": "code",
   "execution_count": null,
   "metadata": {},
   "outputs": [],
   "source": [
    "rf_model = 'ResNet50_multiclass_20220210_mix_autosave_GPU1_2class_train-epoch-19-batch-56000.pt'\n",
    "PATH = path_save+rf_model\n",
    "criterion = nn.BCEWithLogitsLoss()\n",
    "lr= 1e-4\n",
    "model = resnet50(4,12)\n",
    "optimizer = optim.Adam(model.parameters(), lr=lr)\n",
    "device = torch.device(cuda)\n",
    "model.to(device)"
   ]
  },
  {
   "cell_type": "code",
   "execution_count": null,
   "metadata": {},
   "outputs": [],
   "source": [
    "checkpoint = torch.load(PATH)\n",
    "model.load_state_dict(checkpoint['model_state_dict'])\n",
    "optimizer.load_state_dict(checkpoint['optimizer_state_dict'])\n",
    "epoch = checkpoint['epoch']\n",
    "loss = checkpoint['loss']"
   ]
  },
  {
   "cell_type": "markdown",
   "metadata": {},
   "source": [
    "#### Save for scoring"
   ]
  },
  {
   "cell_type": "code",
   "execution_count": null,
   "metadata": {},
   "outputs": [],
   "source": [
    "rf_model = 'ResNet50_multiclass_20220201_mix_autosave_GPU1_1class_train-epoch-3-batch-17000_score'\n",
    "PATH = path_save+rf_model\n",
    "torch.save(model.state_dict(), PATH)"
   ]
  },
  {
   "cell_type": "code",
   "execution_count": null,
   "metadata": {},
   "outputs": [],
   "source": [
    "load_net = 'ResNet18_multiclass_20220226_mix_autosave_GPU1_1class_inference-epoch-7-batch-42000.pt'"
   ]
  },
  {
   "cell_type": "code",
   "execution_count": null,
   "metadata": {},
   "outputs": [],
   "source": []
  },
  {
   "cell_type": "code",
   "execution_count": null,
   "metadata": {},
   "outputs": [],
   "source": []
  },
  {
   "cell_type": "markdown",
   "metadata": {},
   "source": [
    "#### Testing from saved recording data"
   ]
  },
  {
   "cell_type": "markdown",
   "metadata": {},
   "source": [
    "### LIVE inferencing"
   ]
  },
  {
   "cell_type": "code",
   "execution_count": null,
   "metadata": {
    "scrolled": true
   },
   "outputs": [],
   "source": [
    "# !python3 /home/david/sigMF_ML/gnuradio/record_live.py"
   ]
  },
  {
   "cell_type": "code",
   "execution_count": null,
   "metadata": {},
   "outputs": [],
   "source": [
    "# load_net = 'ResNet50_multiclass_20210914_score'"
   ]
  },
  {
   "cell_type": "markdown",
   "metadata": {},
   "source": [
    "###  TESTING"
   ]
  },
  {
   "cell_type": "code",
   "execution_count": null,
   "metadata": {
    "scrolled": true
   },
   "outputs": [],
   "source": [
    "# msps = 10\n",
    "# center_freq_live = 433.00e6 # when SDR doing 25MSPS with center at 428MHz, or 433.65e6, 428.00e6\n",
    "# !python3 /home/david/sigMF_ML/gnuradio/record_live_25to10.py\n",
    "# # !python3 /home/david/sigMF_ML/gnuradio/record_live1msps.py\n",
    "# # usrp_data_collect_1MSPS()\n",
    "# data_IQ_list_val, meta_list_val = inference_read(msps)\n",
    "# testing_live(center_freq_file, data_IQ_list_val, meta_list_val, load_net)\n",
    "# # testing_live(msps, load_net)\n",
    "# torch.cuda.empty_cache()"
   ]
  },
  {
   "cell_type": "markdown",
   "metadata": {},
   "source": [
    "#### 1msps"
   ]
  },
  {
   "cell_type": "code",
   "execution_count": null,
   "metadata": {
    "scrolled": true
   },
   "outputs": [],
   "source": [
    "# updating 20210611 memory saving, STFT stays on GPU\n",
    "msps = 1\n",
    "center_freq_live = 433.65e6 # when SDR doing 25MSPS with center at 428MHz, or 433.65e6, 428.00e6\n",
    "# !python3 /home/david/sigMF_ML/gnuradio/record_live_25to1.py # decimated sampler\n",
    "!python3 /home/david/sigMF_ML/gnuradio/record_live_1msps.py #**********************************************\n",
    "# !python3 /home/david/sigMF_ML/gnuradio/record_live1msps.py\n",
    "# usrp_data_collect_1MSPS()\n",
    "data_IQ_list_val, meta_list_val = inference_read(msps)\n",
    "testing_live2(center_freq_file, data_IQ_list_val, meta_list_val, load_net)\n",
    "# testing_live(msps, load_net)\n",
    "torch.cuda.empty_cache()"
   ]
  },
  {
   "cell_type": "code",
   "execution_count": null,
   "metadata": {},
   "outputs": [],
   "source": [
    "# # old call\n",
    "# msps = 1\n",
    "# center_freq_live = 433.65e6 # when SDR doing 25MSPS with center at 428MHz, or 433.65e6, 428.00e6\n",
    "# !python3 /home/david/sigMF_ML/gnuradio/record_live_1msps.py\n",
    "# # !python3 /home/david/sigMF_ML/gnuradio/record_live1msps.py\n",
    "# # usrp_data_collect_1MSPS()\n",
    "# data_IQ_list_val, meta_list_val = inference_read_old(msps)\n",
    "# testing_live_original(msps, load_net)\n",
    "# torch.cuda.empty_cache()"
   ]
  },
  {
   "cell_type": "markdown",
   "metadata": {},
   "source": [
    "#### 5 msps rate"
   ]
  },
  {
   "cell_type": "code",
   "execution_count": null,
   "metadata": {
    "scrolled": true
   },
   "outputs": [],
   "source": [
    "msps = 5\n",
    "center_freq_live = 433.0e6 # when SDR doing 25MSPS with center at 428MHz, or 433.65e6, 428.00e6\n",
    "!python3 /home/david/sigMF_ML/gnuradio/record_live_5msps.py\n",
    "# !python3 /home/david/sigMF_ML/gnuradio/record_live1msps.py\n",
    "# usrp_data_collect_1MSPS()\n",
    "data_IQ_list_val, meta_list_val = inference_read(msps)\n",
    "testing_live2(center_freq_file, data_IQ_list_val, meta_list_val, load_net)\n",
    "torch.cuda.empty_cache()"
   ]
  },
  {
   "cell_type": "code",
   "execution_count": null,
   "metadata": {
    "scrolled": true
   },
   "outputs": [],
   "source": [
    "# msps = 5\n",
    "# center_freq_live = 433.0e6 # when SDR doing 25MSPS with center at 428MHz, or 433.65e6, 428.00e6\n",
    "# !python3 /home/david/sigMF_ML/gnuradio/record_live_25to5.py\n",
    "# # !python3 /home/david/sigMF_ML/gnuradio/record_live1msps.py\n",
    "# # usrp_data_collect_1MSPS()\n",
    "# data_IQ_list_val, meta_list_val = inference_read(msps)\n",
    "# testing_live(center_freq_file, data_IQ_list_val, meta_list_val, load_net)\n",
    "# torch.cuda.empty_cache()"
   ]
  },
  {
   "cell_type": "markdown",
   "metadata": {},
   "source": [
    "#### 10 msps rate"
   ]
  },
  {
   "cell_type": "code",
   "execution_count": null,
   "metadata": {
    "scrolled": true
   },
   "outputs": [],
   "source": [
    "msps = 10\n",
    "center_freq_live = 433.0e6 # when SDR doing 25MSPS with center at 428MHz, or 433.65e6, 428.00e6\n",
    "!python3 /home/david/sigMF_ML/gnuradio/record_live_10msps.py\n",
    "# !python3 /home/david/sigMF_ML/gnuradio/record_live1msps.py\n",
    "# usrp_data_collect_1MSPS()\n",
    "data_IQ_list_val, meta_list_val = inference_read(msps)\n",
    "testing_live2(center_freq_file, data_IQ_list_val, meta_list_val, load_net)\n",
    "torch.cuda.empty_cache()"
   ]
  },
  {
   "cell_type": "code",
   "execution_count": null,
   "metadata": {
    "scrolled": false
   },
   "outputs": [],
   "source": [
    "# msps = 10\n",
    "# center_freq_live = 433.0e6 # when SDR doing 25MSPS with center at 428MHz, or 433.65e6, 428.00e6\n",
    "# !python3 /home/david/sigMF_ML/gnuradio/record_live_25to10.py\n",
    "# # !python3 /home/david/sigMF_ML/gnuradio/record_live1msps.py\n",
    "# # usrp_data_collect_1MSPS()\n",
    "# data_IQ_list_val, meta_list_val = inference_read(msps)\n",
    "# testing_live(center_freq_file, data_IQ_list_val, meta_list_val, load_net)\n",
    "# torch.cuda.empty_cache()"
   ]
  },
  {
   "cell_type": "markdown",
   "metadata": {},
   "source": [
    "##### 25msps"
   ]
  },
  {
   "cell_type": "code",
   "execution_count": null,
   "metadata": {
    "scrolled": true
   },
   "outputs": [],
   "source": [
    "msps = 25\n",
    "center_freq_live = 428.0e6 # when SDR doing 25MSPS with center at 428MHz, or 433.65e6, 428.00e6\n",
    "!python3 /home/david/sigMF_ML/gnuradio/record_live_25msps.py #***********************************************\n",
    "# !python3 /home/david/sigMF_ML/gnuradio/record_live1msps.py\n",
    "# usrp_data_collect_1MSPS()\n",
    "data_IQ_list_val, meta_list_val = inference_read(msps)\n",
    "testing_live2(center_freq_file, data_IQ_list_val, meta_list_val, load_net)\n",
    "torch.cuda.empty_cache()"
   ]
  },
  {
   "cell_type": "markdown",
   "metadata": {},
   "source": [
    "#### TESTING Live sample rate differences."
   ]
  },
  {
   "cell_type": "code",
   "execution_count": null,
   "metadata": {},
   "outputs": [],
   "source": [
    "# load_net = 'ResNet50_20210415_scoring'"
   ]
  },
  {
   "cell_type": "code",
   "execution_count": null,
   "metadata": {
    "scrolled": false
   },
   "outputs": [],
   "source": [
    "msps = 1\n",
    "center_freq_live = 433.65e6 # when SDR doing 25MSPS with center at 428MHz, or 433.65e6, 428.00e6\n",
    "# try 25msps decimation to 1msps\n",
    "!python3 /home/david/sigMF_ML/gnuradio/record_live_25to1.py\n",
    "# !python3 /home/david/sigMF_ML/gnuradio/record_live_1msps.py\n",
    "# usrp_data_collect_1MSPS()\n",
    "data_IQ_list_val, meta_list_val = inference_read(msps)\n",
    "testing_live(msps, load_net)\n",
    "torch.cuda.empty_cache()"
   ]
  },
  {
   "cell_type": "code",
   "execution_count": null,
   "metadata": {
    "scrolled": false
   },
   "outputs": [],
   "source": [
    "# msps = 1\n",
    "# center_freq_live = 433.65e6 # when SDR doing 25MSPS with center at 428MHz, or 433.65e6, 428.00e6\n",
    "# # !python3 /home/david/sigMF_ML/gnuradio/record_live_25to1.py\n",
    "# !python3 /home/david/sigMF_ML/gnuradio/record_live_1msps.py\n",
    "# # usrp_data_collect_1MSPS()\n",
    "# data_IQ_list_val, meta_list_val = inference_read(msps)\n",
    "# testing_live(msps,load_net)\n",
    "# torch.cuda.empty_cache()"
   ]
  },
  {
   "cell_type": "code",
   "execution_count": null,
   "metadata": {},
   "outputs": [],
   "source": [
    "torch.cuda.empty_cache()"
   ]
  },
  {
   "cell_type": "markdown",
   "metadata": {},
   "source": [
    "## testing pre-recorded files in /home/david/sigMF_ML/RF/RF_class/testing_data"
   ]
  },
  {
   "cell_type": "code",
   "execution_count": null,
   "metadata": {
    "scrolled": false
   },
   "outputs": [],
   "source": [
    "# msps = 5\n",
    "# center_freq_file = 433.00e6 # when SDR doing 25MSPS with center at 428MHz, or 433.65e6, 428.00e6\n",
    "# data_IQ_list_val, meta_list_val = inference_read_file(msps, path_test_5msps)\n",
    "# testing_file(msps)\n",
    "# torch.cuda.empty_cache()"
   ]
  },
  {
   "cell_type": "code",
   "execution_count": null,
   "metadata": {
    "scrolled": true
   },
   "outputs": [],
   "source": [
    "# msps = 25\n",
    "# center_freq_file = 428.00e6 # when SDR doing 25MSPS with center at 428MHz, or 433.65e6, 428.00e6\n",
    "# data_IQ_list_val, meta_list_val = inference_read_file(msps, path_test_25msps)\n",
    "# testing_live(msps,load_net)\n",
    "# torch.cuda.empty_cache()"
   ]
  },
  {
   "cell_type": "markdown",
   "metadata": {},
   "source": [
    "### 1MSPS combined files"
   ]
  },
  {
   "cell_type": "code",
   "execution_count": null,
   "metadata": {
    "scrolled": true
   },
   "outputs": [],
   "source": [
    "msps = 1\n",
    "center_freq_file = 433.65e6 # when SDR doing 25MSPS with center at 428MHz, or 433.65e6, 428.00e6\n",
    "data_IQ_list_val, meta_list_val = inference_read_file(msps, path_test_1msps)\n",
    "testing_live(center_freq_file, data_IQ_list_val, meta_list_val, load_net)\n",
    "# testing_file(msps)\n",
    "torch.cuda.empty_cache()"
   ]
  },
  {
   "cell_type": "markdown",
   "metadata": {},
   "source": [
    "### 5MSPS combined files"
   ]
  },
  {
   "cell_type": "code",
   "execution_count": null,
   "metadata": {
    "scrolled": true
   },
   "outputs": [],
   "source": [
    "msps = 5\n",
    "center_freq_file = 433.0e6 # when SDR doing 25MSPS with center at 428MHz, or 433.65e6, 428.00e6\n",
    "data_IQ_list_val, meta_list_val = inference_read_file(msps, path_test_5msps)\n",
    "testing_live(center_freq_file, data_IQ_list_val, meta_list_val, load_net)\n",
    "# testing_file(msps)\n",
    "torch.cuda.empty_cache()"
   ]
  },
  {
   "cell_type": "markdown",
   "metadata": {},
   "source": [
    "### 10MSPS combined files"
   ]
  },
  {
   "cell_type": "code",
   "execution_count": null,
   "metadata": {
    "scrolled": true
   },
   "outputs": [],
   "source": [
    "msps = 10\n",
    "center_freq_file = 433.00e6 # when SDR doing 25MSPS with center at 428MHz, or 433.65e6, 428.00e6\n",
    "data_IQ_list_val, meta_list_val = inference_read_file(msps, path_test_10msps)\n",
    "testing_live(center_freq_file, data_IQ_list_val, meta_list_val, load_net)\n",
    "# testing_file(msps)\n",
    "torch.cuda.empty_cache()"
   ]
  },
  {
   "cell_type": "markdown",
   "metadata": {},
   "source": [
    "### 25MSPS combined files"
   ]
  },
  {
   "cell_type": "code",
   "execution_count": null,
   "metadata": {
    "scrolled": true
   },
   "outputs": [],
   "source": [
    "msps = 25\n",
    "center_freq_file = 428.00e6 # when SDR doing 25MSPS with center at 428MHz, or 433.65e6, 428.00e6\n",
    "data_IQ_list_val, meta_list_val = inference_read_file(msps, path_test_25msps)\n",
    "testing_live(center_freq_file, data_IQ_list_val, meta_list_val, load_net)\n",
    "# testing_file(msps)\n",
    "torch.cuda.empty_cache()"
   ]
  },
  {
   "cell_type": "code",
   "execution_count": null,
   "metadata": {
    "scrolled": true
   },
   "outputs": [],
   "source": [
    "msps = 25\n",
    "center_freq_file = 428.00e6 # when SDR doing 25MSPS with center at 428MHz, or 433.65e6, 428.00e6\n",
    "data_IQ_list_val, meta_list_val = inference_read_file(msps, path_test_25msps)\n",
    "testing_live(center_freq_file, data_IQ_list_val, meta_list_val, load_net)\n",
    "# testing_file(msps)\n",
    "torch.cuda.empty_cache()"
   ]
  },
  {
   "cell_type": "code",
   "execution_count": null,
   "metadata": {},
   "outputs": [],
   "source": [
    "torch.cuda.empty_cache()"
   ]
  },
  {
   "cell_type": "markdown",
   "metadata": {},
   "source": [
    "#### Save and Load model data"
   ]
  },
  {
   "cell_type": "code",
   "execution_count": null,
   "metadata": {},
   "outputs": [],
   "source": [
    "# rf_model = 'ResNet50_v56_20210208_4D_20dB_autosave'"
   ]
  },
  {
   "cell_type": "code",
   "execution_count": null,
   "metadata": {},
   "outputs": [],
   "source": [
    "# PATH = path_save+rf_model"
   ]
  },
  {
   "cell_type": "code",
   "execution_count": null,
   "metadata": {},
   "outputs": [],
   "source": [
    "load_model()"
   ]
  },
  {
   "cell_type": "markdown",
   "metadata": {},
   "source": [
    "#### save"
   ]
  },
  {
   "cell_type": "code",
   "execution_count": null,
   "metadata": {},
   "outputs": [],
   "source": [
    "# torch.save(model.state_dict(), PATH)"
   ]
  },
  {
   "cell_type": "markdown",
   "metadata": {},
   "source": [
    "#### load"
   ]
  },
  {
   "cell_type": "code",
   "execution_count": null,
   "metadata": {},
   "outputs": [],
   "source": [
    "# device = torch.device(\"cuda:0\")\n",
    "# model = resnet50(4, 12)\n",
    "# model.load_state_dict(torch.load(PATH))\n",
    "# model.to(device)\n",
    "# model.eval()"
   ]
  },
  {
   "cell_type": "code",
   "execution_count": null,
   "metadata": {},
   "outputs": [],
   "source": [
    "# # Print model's state_dict\n",
    "# print(\"Model's state_dict:\")\n",
    "# for param_tensor in model.state_dict():\n",
    "#     print(param_tensor, \"\\t\", model.state_dict()[param_tensor].size())"
   ]
  },
  {
   "cell_type": "code",
   "execution_count": null,
   "metadata": {},
   "outputs": [],
   "source": [
    "# # Print optimizer's state_dict\n",
    "# print(\"Optimizer's state_dict:\")\n",
    "# for var_name in optimizer.state_dict():\n",
    "#     print(var_name, \"\\t\", optimizer.state_dict()[var_name])"
   ]
  },
  {
   "cell_type": "code",
   "execution_count": null,
   "metadata": {},
   "outputs": [],
   "source": [
    "# # SAVE MODEL\n",
    "# os.chdir(path_save)\n",
    "# torch.save({\n",
    "#            'epoch': epoch,\n",
    "#            'model_state_dict': model.state_dict(),\n",
    "#            'optimizer_state_dict': optimizer.state_dict(),\n",
    "#            'loss': loss,\n",
    "#            }, path_save+rf_model)"
   ]
  },
  {
   "cell_type": "code",
   "execution_count": null,
   "metadata": {},
   "outputs": [],
   "source": [
    "# # LOAD MODEL\n",
    "# checkpoint = torch.load(path_save+rf_model, map_location=device)\n",
    "\n",
    "\n",
    "# # STATUS\n",
    "# checkpoint.keys()\n",
    "\n",
    "# epoch = checkpoint['epoch']\n",
    "# model_state_dict = checkpoint['model_state_dict']\n",
    "# optimizer_state_dict = checkpoint['optimizer_state_dict']\n",
    "# loss = checkpoint['loss']\n",
    "\n",
    "# optimizer_state_dict.keys()\n",
    "\n",
    "# optimizer_state_dict['param_groups']\n",
    "\n",
    "# loss\n",
    "\n",
    "# model.load_state_dict(model_state_dict)   "
   ]
  },
  {
   "cell_type": "code",
   "execution_count": null,
   "metadata": {},
   "outputs": [],
   "source": [
    "# loss"
   ]
  },
  {
   "cell_type": "code",
   "execution_count": null,
   "metadata": {},
   "outputs": [],
   "source": [
    "# optimizer_state_dict.keys()"
   ]
  },
  {
   "cell_type": "code",
   "execution_count": null,
   "metadata": {},
   "outputs": [],
   "source": []
  }
 ],
 "metadata": {
  "accelerator": "GPU",
  "colab": {
   "collapsed_sections": [],
   "name": "E533 HW1 rev4.ipynb",
   "provenance": [
    {
     "file_id": "1DEqxXQe7Yw25roekLHtUmU_55IJKGY0H",
     "timestamp": 1548894460827
    },
    {
     "file_id": "19e_Vg1krlpJa5zSISQDOVQTwYKepXKql",
     "timestamp": 1548892687570
    },
    {
     "file_id": "1b7T-jkKgv4ynQ_Pe5HCAUM9GTox9fKS9",
     "timestamp": 1548440177000
    },
    {
     "file_id": "12fap5WLhwheizCF9I9Ul-qc2bQ7ZmiWS",
     "timestamp": 1548439576387
    }
   ],
   "version": "0.3.2"
  },
  "kernelspec": {
   "display_name": "Python 3",
   "language": "python",
   "name": "python3"
  },
  "language_info": {
   "codemirror_mode": {
    "name": "ipython",
    "version": 3
   },
   "file_extension": ".py",
   "mimetype": "text/x-python",
   "name": "python",
   "nbconvert_exporter": "python",
   "pygments_lexer": "ipython3",
   "version": "3.6.9"
  }
 },
 "nbformat": 4,
 "nbformat_minor": 1
}
